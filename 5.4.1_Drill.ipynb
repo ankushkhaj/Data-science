{
 "cells": [
  {
   "cell_type": "markdown",
   "metadata": {},
   "source": [
    "# 5.4.1 Fixing Trump Questions"
   ]
  },
  {
   "cell_type": "markdown",
   "metadata": {},
   "source": [
    "1.Do you believe the media fails to report on Democrats’ scandals?\n",
    "\n",
    "Ans.This question is biased, since the question itself has assumption that there are some scandals with Democrats and then implying that media is failing to report them.The correct question would be \"How good is media to report all the politics related news to the people?\"\n",
    "\n",
    "2.Do you believe that the media sensationalizes and exaggerates stories in order to paint President Trump and conservatives in a bad light?\n",
    "\n",
    "Ans.This question is again biased with assumption that trump and conservatives are in bad light.The correct question would be \"how accurate is media to report the  performance of President and conservatives with 1 being the lowest and 5 being highest?\"\n",
    "\n",
    "3.Do you believe that the media unfairly reported on President Trump’s executive order granting Americans the freedom to buy health care across state lines?\n",
    "\n",
    "Ans.This question uses negative (unfairly) and positive (granting) wording to again recruit the survey participant. A less-biased question could be \"How accurate is media to report on President Trump’s executive order granting Americans the freedom to buy health care across state lines?\"\n",
    "\n",
    "4.Do you believe that the media has been too quick to spread false stories about our movement?\n",
    "\n",
    "Ans.This question implies that false stories have been spread by the media, and that the survey participant agrees with that statement.A less-biased question could be \"How accurate is media to report on stores about over movement?\"\n",
    "\n",
    "5.Do you believe the media is biased when it covers President Trump’s restriction on immigration from countries compromised by radical Islamic terrorism?\n",
    "\n",
    "Ans.The question is biased because it assumes trump to restrict immigration from countries compromised by radical Islamic terrorism.The correct question would be \"How accurate is media to cover President Trump's immigration policy?\"\n",
    "\n"
   ]
  },
  {
   "cell_type": "code",
   "execution_count": null,
   "metadata": {},
   "outputs": [],
   "source": []
  }
 ],
 "metadata": {
  "kernelspec": {
   "display_name": "Python 3",
   "language": "python",
   "name": "python3"
  },
  "language_info": {
   "codemirror_mode": {
    "name": "ipython",
    "version": 3
   },
   "file_extension": ".py",
   "mimetype": "text/x-python",
   "name": "python",
   "nbconvert_exporter": "python",
   "pygments_lexer": "ipython3",
   "version": "3.7.0"
  }
 },
 "nbformat": 4,
 "nbformat_minor": 2
}
