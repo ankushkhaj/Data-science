{
 "cells": [
  {
   "cell_type": "markdown",
   "metadata": {},
   "source": [
    "# 3.6.3 Amazon Reviews"
   ]
  },
  {
   "cell_type": "markdown",
   "metadata": {},
   "source": [
    "This dataset contains product reviews and metadata from Amazon, including 142.8 million reviews spanning May 1996 - July 2014.\n",
    "This dataset includes reviews (ratings, text, helpfulness votes), product metadata (descriptions, category information, price, brand, and image features), and links (also viewed/also bought graphs). The file is present in URL-http://jmcauley.ucsd.edu/data/amazon/"
   ]
  },
  {
   "cell_type": "markdown",
   "metadata": {},
   "source": [
    "Columns are as below:\n",
    "\n",
    "reviewerID - ID of the reviewer, e.g. A2SUAM1J3GNN3B\n",
    "\n",
    "asin - ID of the product, e.g. 0000013714\n",
    "\n",
    "reviewerName - name of the reviewer\n",
    "\n",
    "helpful - helpfulness rating of the review, e.g. 2/3\n",
    "\n",
    "reviewText - text of the review\n",
    "\n",
    "overall - rating of the product\n",
    "\n",
    "summary - summary of the review\n",
    "\n",
    "unixReviewTime - time of the review (unix time)\n",
    "\n",
    "reviewTime - time of the review (raw)"
   ]
  },
  {
   "cell_type": "code",
   "execution_count": 1,
   "metadata": {},
   "outputs": [
    {
     "name": "stderr",
     "output_type": "stream",
     "text": [
      "C:\\Users\\ankush\\anacondanew\\lib\\site-packages\\sklearn\\cross_validation.py:41: DeprecationWarning: This module was deprecated in version 0.18 in favor of the model_selection module into which all the refactored classes and functions are moved. Also note that the interface of the new CV iterators are different from that of this module. This module will be removed in 0.20.\n",
      "  \"This module will be removed in 0.20.\", DeprecationWarning)\n",
      "C:\\Users\\ankush\\anacondanew\\lib\\site-packages\\sklearn\\grid_search.py:42: DeprecationWarning: This module was deprecated in version 0.18 in favor of the model_selection module into which all the refactored classes and functions are moved. This module will be removed in 0.20.\n",
      "  DeprecationWarning)\n",
      "C:\\Users\\ankush\\anacondanew\\lib\\site-packages\\sklearn\\ensemble\\weight_boosting.py:29: DeprecationWarning: numpy.core.umath_tests is an internal NumPy module and should not be imported. It will be removed in a future NumPy release.\n",
      "  from numpy.core.umath_tests import inner1d\n"
     ]
    }
   ],
   "source": [
    "\n",
    "import math\n",
    "import warnings\n",
    "from datetime import datetime\n",
    "start=datetime.now()\n",
    "from IPython.display import display\n",
    "from matplotlib import pyplot as plt\n",
    "import numpy as np\n",
    "import pandas as pd\n",
    "import seaborn as sns\n",
    "from sklearn import linear_model\n",
    "import statsmodels.formula.api as smf\n",
    "from sklearn.model_selection import cross_val_score\n",
    "from sklearn import neighbors\n",
    "from sklearn import tree,model_selection\n",
    "from sklearn.grid_search import GridSearchCV\n",
    "# A convenience for displaying visualizations.\n",
    "from IPython.display import Image\n",
    "from sklearn.preprocessing import StandardScaler\n",
    "from sklearn.decomposition import PCA\n",
    "from sklearn import preprocessing\n",
    "from sklearn.feature_selection import SelectKBest\n",
    "from sklearn.feature_selection import f_classif\n",
    "from sklearn.ensemble import RandomForestClassifier\n",
    "import seaborn as sns\n",
    "import time\n",
    "from sklearn.svm import SVR\n",
    "from sklearn.neighbors import KNeighborsClassifier\n",
    "# Display preferences.\n",
    "%matplotlib inline\n",
    "pd.options.display.float_format = '{:.3f}'.format\n",
    "import gzip\n",
    "import numpy as np\n",
    "import json\n",
    "# Suppress annoying harmless error.\n",
    "warnings.filterwarnings(\n",
    "    action=\"ignore\",\n",
    "    module=\"scipy\",\n",
    "    message=\"^internal gelsd\"\n",
    ")\n",
    "\n",
    "from sklearn import ensemble\n",
    "from sklearn.model_selection import cross_val_score\n",
    "from sklearn.ensemble import RandomForestClassifier\n",
    "start=datetime.now()\n",
    "rfc = ensemble.RandomForestClassifier()\n",
    "from sklearn.linear_model import LogisticRegression\n",
    "from sklearn.feature_extraction.text import CountVectorizer, TfidfVectorizer\n",
    "\n",
    "\n",
    "def parse(path):\n",
    "  g = gzip.open(path, 'rb')\n",
    "  for l in g:\n",
    "    yield eval(l)\n",
    "\n",
    "def getDF(path):\n",
    "  i = 0\n",
    "  df = {}\n",
    "  for d in parse(path):\n",
    "    df[i] = d\n",
    "    i += 1\n",
    "  return pd.DataFrame.from_dict(df, orient='index')\n",
    "\n",
    "df = getDF('C:/Users/ankush/Downloads/reviews_Pet_Supplies_5.json.gz')\n"
   ]
  },
  {
   "cell_type": "markdown",
   "metadata": {},
   "source": [
    "# Exploring The Data"
   ]
  },
  {
   "cell_type": "markdown",
   "metadata": {},
   "source": [
    "We only care about only one column here-reviewText in the dataset.Then we will get the keywords out of the column reviewtext and will evaluate if they are negative or positive"
   ]
  },
  {
   "cell_type": "code",
   "execution_count": 2,
   "metadata": {},
   "outputs": [
    {
     "data": {
      "text/plain": [
       "count   157836.000\n",
       "mean         4.230\n",
       "std          1.176\n",
       "min          1.000\n",
       "25%          4.000\n",
       "50%          5.000\n",
       "75%          5.000\n",
       "max          5.000\n",
       "Name: overall, dtype: float64"
      ]
     },
     "execution_count": 2,
     "metadata": {},
     "output_type": "execute_result"
    }
   ],
   "source": [
    "df['overall'].describe()"
   ]
  },
  {
   "cell_type": "code",
   "execution_count": 2,
   "metadata": {},
   "outputs": [
    {
     "data": {
      "text/plain": [
       "(157836, 70861)"
      ]
     },
     "execution_count": 2,
     "metadata": {},
     "output_type": "execute_result"
    }
   ],
   "source": [
    "#positive_keywords = ['great','enjoyed','loves','like','recommend','happy','yummy','nice','very','good','easy','useful','awesome','works','love','excellent','helpful','Best','nicely','wonderful']\n",
    "#negative_keywords = ['not','disgusting','junk','bad','didn\\'t work','waste','crap']\n",
    "\n",
    "count_vect = CountVectorizer()\n",
    "X_counts = count_vect.fit_transform(df.reviewText)\n",
    "X_counts.shape\n"
   ]
  },
  {
   "cell_type": "code",
   "execution_count": 3,
   "metadata": {},
   "outputs": [
    {
     "data": {
      "text/plain": [
       "(157836, 70861)"
      ]
     },
     "execution_count": 3,
     "metadata": {},
     "output_type": "execute_result"
    }
   ],
   "source": [
    "\n",
    "from sklearn.feature_extraction.text import TfidfTransformer\n",
    "tfidf_transformer = TfidfTransformer()\n",
    "X_tfidf = tfidf_transformer.fit_transform(X_counts)\n",
    "X_tfidf.shape"
   ]
  },
  {
   "cell_type": "code",
   "execution_count": 4,
   "metadata": {},
   "outputs": [],
   "source": [
    "Y = [1 if x > 3 else 0 for x in df.overall]"
   ]
  },
  {
   "cell_type": "code",
   "execution_count": null,
   "metadata": {},
   "outputs": [],
   "source": [
    "from sklearn.naive_bayes import BernoulliNB\n",
    "from sklearn.model_selection import train_test_split, cross_val_score\n",
    "# Instantiate our model and store it in a new variable.\n",
    "from imblearn.over_sampling import SMOTE\n",
    "sm = SMOTE(random_state=2)\n",
    "X_sampled,y_sampled = sm.fit_sample(X_tfidf,Y)\n",
    "X_train_sample,X_test_sample,y_train_sample,y_test_sample = train_test_split(X_sampled,y_sampled,test_size=.20)\n",
    "X_train, X_test, y_train, y_test = train_test_split(X, Y, test_size=0.2)"
   ]
  },
  {
   "cell_type": "markdown",
   "metadata": {},
   "source": [
    "Using Dimension Reduction PCA to reduce the features and then use each model on these techniques as below"
   ]
  },
  {
   "cell_type": "code",
   "execution_count": 6,
   "metadata": {},
   "outputs": [],
   "source": [
    "X_pca = PCA(n_components=10)\n",
    "X_pca.fit(X_train)\n",
    "X_train_pca = X_pca.transform(X_train)\n",
    "X_test_pca = X_pca.transform(X_test)"
   ]
  },
  {
   "cell_type": "markdown",
   "metadata": {},
   "source": [
    "By using PCA, we can see 10 features are closely correlated to the output variable so we will keep them.Now we will use these techniques for each Classification model\n",
    "#Gridsearchcv\n",
    "#Cross Validation\n",
    "#classification_report\n",
    "#AUC\n",
    "#Confusion Matrix"
   ]
  },
  {
   "cell_type": "code",
   "execution_count": 9,
   "metadata": {},
   "outputs": [
    {
     "name": "stdout",
     "output_type": "stream",
     "text": [
      "Accuracy: 0.872905249152596\n"
     ]
    }
   ],
   "source": [
    "#Naive Bayes doesn't need parameter tuning so we just need to get only accuracy score\n",
    "from sklearn.naive_bayes import BernoulliNB\n",
    "bnb = BernoulliNB() \n",
    "bnb = bnb.fit(X_train, y_train)\n",
    "y_pred_bnb = bnb.predict(X_train)\n",
    "print(\"Accuracy:\", bnb.score(X_train, y_train))"
   ]
  },
  {
   "cell_type": "code",
   "execution_count": null,
   "metadata": {},
   "outputs": [],
   "source": [
    "#KNN\n",
    "knn_model = KNeighborsClassifier(n_neighbors=5)\n",
    "knn_model.fit(X_train_pca, y_train)\n",
    "y_pred_knn = knn_model.predict(X_train_pca)\n",
    "params = {'n_neighbors':[5,6,7,8,9,10],\n",
    "          'leaf_size':[1,2,3,5]\n",
    "                  }\n",
    "#Making models with hyper parameters sets\n",
    "grid_class = model_selection.GridSearchCV(knn_model, param_grid=params)\n",
    "#Learning\n",
    "grid_class.fit(X_train_pca,y_train)\n",
    "#The best hyper parameters set\n",
    "\n",
    "results = grid_class.cv_results_\n",
    "print(results.get('params'))\n",
    "print(results.get('mean_test_score'))\n",
    "print(results.get('mean_train_score'))\n",
    "print(\"Best Hyper Parameters:\\n\",grid_class.best_params_)\n",
    "print(grid_class.best_score_)\n",
    "final_model = grid_class.best_estimator_\n",
    "print(final_model)"
   ]
  },
  {
   "cell_type": "code",
   "execution_count": 41,
   "metadata": {},
   "outputs": [
    {
     "name": "stdout",
     "output_type": "stream",
     "text": [
      "[{'max_depth': 3, 'max_features': 10}, {'max_depth': 4, 'max_features': 10}, {'max_depth': 5, 'max_features': 10}]\n",
      "[0.87290525 0.87288941 0.87288941]\n",
      "[0.87290525 0.87290683 0.87290683]\n",
      "Best Hyper Parameters:\n",
      " {'max_depth': 3, 'max_features': 10}\n",
      "0.872905249152596\n",
      "RandomForestClassifier(bootstrap=True, class_weight=None, criterion='gini',\n",
      "            max_depth=3, max_features=10, max_leaf_nodes=None,\n",
      "            min_impurity_decrease=0.0, min_impurity_split=None,\n",
      "            min_samples_leaf=1, min_samples_split=2,\n",
      "            min_weight_fraction_leaf=0.0, n_estimators=100, n_jobs=1,\n",
      "            oob_score=False, random_state=None, verbose=0,\n",
      "            warm_start=False)\n",
      "[1 1 1 ... 1 1 1]\n"
     ]
    },
    {
     "name": "stderr",
     "output_type": "stream",
     "text": [
      "C:\\Users\\ankush\\anacondanew\\lib\\site-packages\\sklearn\\utils\\deprecation.py:122: FutureWarning: You are accessing a training score ('mean_train_score'), which will not be available by default any more in 0.21. If you need training scores, please set return_train_score=True\n",
      "  warnings.warn(*warn_args, **warn_kwargs)\n"
     ]
    }
   ],
   "source": [
    "#Random Forest\n",
    "rfc = ensemble.RandomForestClassifier(max_depth=10,n_estimators= 100)\n",
    "rfc.fit(X_train_pca, y_train)\n",
    "y_pred_rfc = rfc.predict(X_train_pca)\n",
    "#Gridsearchcv to get the best parameters\n",
    "dt_grid={'max_depth':[3,4,5],'max_features': [10]}\n",
    "\n",
    "grid_class_rfc=model_selection.GridSearchCV(rfc,dt_grid,cv=6)\n",
    "grid_class_rfc.fit(X_train_pca, y_train)\n",
    "results = grid_class_rfc.cv_results_\n",
    "print(results.get('params'))\n",
    "print(results.get('mean_test_score'))\n",
    "print(results.get('mean_train_score'))\n",
    "print(\"Best Hyper Parameters:\\n\",grid_class_rfc.best_params_)\n",
    "print(grid_class_rfc.best_score_)\n",
    "final_model = grid_class_rfc.best_estimator_\n",
    "print(final_model)\n",
    "print(y_pred_rfc)"
   ]
  },
  {
   "cell_type": "code",
   "execution_count": 43,
   "metadata": {},
   "outputs": [
    {
     "name": "stdout",
     "output_type": "stream",
     "text": [
      "[{'max_depth': 50, 'max_features': 10}]\n",
      "[0.87220832]\n",
      "[0.87319986]\n",
      "Best Hyper Parameters:\n",
      " {'max_depth': 50, 'max_features': 10}\n",
      "0.8722083188139513\n",
      "DecisionTreeClassifier(class_weight=None, criterion='gini', max_depth=50,\n",
      "            max_features=10, max_leaf_nodes=None,\n",
      "            min_impurity_decrease=0.0, min_impurity_split=None,\n",
      "            min_samples_leaf=1, min_samples_split=2,\n",
      "            min_weight_fraction_leaf=0.0, presort=False, random_state=None,\n",
      "            splitter='best')\n"
     ]
    },
    {
     "name": "stderr",
     "output_type": "stream",
     "text": [
      "C:\\Users\\ankush\\anacondanew\\lib\\site-packages\\sklearn\\utils\\deprecation.py:122: FutureWarning: You are accessing a training score ('mean_train_score'), which will not be available by default any more in 0.21. If you need training scores, please set return_train_score=True\n",
      "  warnings.warn(*warn_args, **warn_kwargs)\n"
     ]
    }
   ],
   "source": [
    "#Decision Tree\n",
    "decision_tree = tree.DecisionTreeClassifier(max_depth=50)\n",
    "decision_tree.fit(X_train_pca, y_train)\n",
    "y_pred_dt = decision_tree.predict(X_train_pca)\n",
    "dt_grid={'max_depth':[50],'max_features': [10]}\n",
    "grid_class_dt=model_selection.GridSearchCV(decision_tree,dt_grid,cv=6)\n",
    "grid_class_dt.fit(X_train_pca, y_train)\n",
    "results = grid_class_dt.cv_results_\n",
    "print(results.get('params'))\n",
    "print(results.get('mean_test_score'))\n",
    "print(results.get('mean_train_score'))\n",
    "print(\"Best Hyper Parameters:\\n\",grid_class_dt.best_params_)\n",
    "print(grid_class_dt.best_score_)\n",
    "final_model = grid_class_dt.best_estimator_\n",
    "print(final_model)\n"
   ]
  },
  {
   "cell_type": "code",
   "execution_count": null,
   "metadata": {},
   "outputs": [],
   "source": [
    "#SVC\n",
    "from sklearn.svm import SVC\n",
    "svm=SVC()\n",
    "svm.fit(X_train_pca, y_train)\n",
    "y_pred_svm = svm.predict(X_train_pca)\n",
    "param_grid = {'C':[1,10,100,1000],'gamma':[1,0.1,0.001,0.0001], 'kernel':['linear','rbf']}\n",
    "grid_class_svm=model_selection.GridSearchCV(SVC(),param_grid,refit = True)\n",
    "grid_class_svm.fit(X_train_pca, y_train)\n",
    "results = grid_class_svm.cv_results_\n",
    "print(results.get('params'))\n",
    "print(results.get('mean_test_score'))\n",
    "print(results.get('mean_train_score'))\n",
    "print(\"Best Hyper Parameters:\\n\",grid_class_svm.best_params_)\n",
    "print(grid_class_svm.best_score_)\n",
    "final_model = grid_class_svm.best_estimator_\n",
    "print(final_model)"
   ]
  },
  {
   "cell_type": "code",
   "execution_count": 14,
   "metadata": {},
   "outputs": [
    {
     "name": "stdout",
     "output_type": "stream",
     "text": [
      "[{'C': 0.001, 'penalty': 'l1'}, {'C': 0.001, 'penalty': 'l2'}, {'C': 0.01, 'penalty': 'l1'}, {'C': 0.01, 'penalty': 'l2'}, {'C': 0.1, 'penalty': 'l1'}, {'C': 0.1, 'penalty': 'l2'}, {'C': 1.0, 'penalty': 'l1'}, {'C': 1.0, 'penalty': 'l2'}, {'C': 10.0, 'penalty': 'l1'}, {'C': 10.0, 'penalty': 'l2'}, {'C': 100.0, 'penalty': 'l1'}, {'C': 100.0, 'penalty': 'l2'}, {'C': 1000.0, 'penalty': 'l1'}, {'C': 1000.0, 'penalty': 'l2'}]\n",
      "[0.87290525 0.87290525 0.87290525 0.87290525 0.87290525 0.87290525\n",
      " 0.87290525 0.87290525 0.87290525 0.87290525 0.87290525 0.87290525\n",
      " 0.87290525 0.87290525]\n",
      "[0.87290525 0.87290525 0.87290525 0.87290525 0.87290525 0.87290525\n",
      " 0.87290525 0.87290525 0.87290525 0.87290525 0.87290525 0.87290525\n",
      " 0.87290525 0.87290525]\n",
      "Best Hyper Parameters:\n",
      " {'C': 0.001, 'penalty': 'l1'}\n",
      "0.872905249152596\n",
      "LogisticRegression(C=0.001, class_weight=None, dual=False, fit_intercept=True,\n",
      "          intercept_scaling=1, max_iter=100, multi_class='ovr', n_jobs=1,\n",
      "          penalty='l1', random_state=None, solver='liblinear', tol=0.0001,\n",
      "          verbose=0, warm_start=False)\n"
     ]
    },
    {
     "name": "stderr",
     "output_type": "stream",
     "text": [
      "C:\\Users\\ankush\\anacondanew\\lib\\site-packages\\sklearn\\utils\\deprecation.py:122: FutureWarning: You are accessing a training score ('mean_train_score'), which will not be available by default any more in 0.21. If you need training scores, please set return_train_score=True\n",
      "  warnings.warn(*warn_args, **warn_kwargs)\n"
     ]
    }
   ],
   "source": [
    "#Linear Regression\n",
    "lr = LogisticRegression(C=1e9)\n",
    "lr.fit(X_train_pca, y_train)\n",
    "y_pred_lr = lr.predict(X_train_pca)\n",
    "#Gridsearchcv \n",
    "grid={\"C\":np.logspace(-3,3,7), \"penalty\":[\"l1\",\"l2\"]}# l1 lasso l2 ridge\n",
    "logreg=LogisticRegression()\n",
    "logreg_cv=model_selection.GridSearchCV(logreg,grid,cv=10)\n",
    "logreg_cv.fit(X_train_pca,y_train)\n",
    "results = logreg_cv.cv_results_\n",
    "print(results.get('params'))\n",
    "print(results.get('mean_test_score'))\n",
    "print(results.get('mean_train_score'))\n",
    "print(\"Best Hyper Parameters:\\n\",logreg_cv.best_params_)\n",
    "print(logreg_cv.best_score_)\n",
    "final_model = logreg_cv.best_estimator_\n",
    "print(final_model)"
   ]
  },
  {
   "cell_type": "code",
   "execution_count": null,
   "metadata": {},
   "outputs": [],
   "source": [
    "#GBR\n",
    "params = {'n_estimators': 500,\n",
    "          'max_depth': 7,\n",
    "          'loss': 'deviance'}\n",
    "# Initialize and fit the model.\n",
    "clf = ensemble.GradientBoostingClassifier(**params)\n",
    "clf.fit(X_train_pca, y_train)\n",
    "y_pred_gbr = clf.predict(X_train_pca)\n",
    "\n",
    "params ={\n",
    "    \"loss\":[\"deviance\"],\n",
    "    \"max_depth\":[3,5,8],\n",
    "    \"n_estimators\":[1000]\n",
    "    }\n",
    "gb = model_selection.GridSearchCV(clf, params, cv=10)\n",
    "gb.fit(X_train, y_train)\n",
    "results = gb.cv_results_\n",
    "print(results.get('params'))\n",
    "print(results.get('mean_test_score'))\n",
    "print(results.get('mean_train_score'))\n",
    "print(\"Best Hyper Parameters:\\n\",gb.best_params_)\n",
    "print(gb.best_score_)\n",
    "final_model = gb.best_estimator_\n",
    "print(final_model)\n"
   ]
  },
  {
   "cell_type": "markdown",
   "metadata": {},
   "source": [
    "GridSearchcv  looks to be good for all the models except Decision Tree "
   ]
  },
  {
   "cell_type": "markdown",
   "metadata": {},
   "source": [
    "# Cross Validation"
   ]
  },
  {
   "cell_type": "code",
   "execution_count": 44,
   "metadata": {},
   "outputs": [
    {
     "name": "stdout",
     "output_type": "stream",
     "text": [
      "Training data accuracy for Naive Bayes:  [0.87289142 0.87289142 0.87289142 0.87289142 0.87289142 0.87289142\n",
      " 0.87289142 0.87289142 0.87296056 0.87296056]\n",
      "Testing data accuracy Naive Bayes:  [0.87048765 0.87048765 0.87048765 0.87076338 0.87076338 0.87072243\n",
      " 0.87072243 0.87072243 0.87072243 0.87072243]\n",
      "Training data accuracy for RandomForest:  [0.87289142 0.87289142 0.87289142 0.87289142 0.87289142 0.87289142\n",
      " 0.87289142 0.87281223 0.87288136 0.87280215]\n",
      "Testing data accuracy for RandomForest:  [0.86953768 0.86985434 0.87048765 0.87044663 0.87012987 0.87040558\n",
      " 0.87072243 0.87072243 0.86945501 0.86945501]\n",
      "Training data accuracy for Decision Tree:  [0.87217866 0.87217866 0.87209947 0.87202027 0.87202027 0.87217866\n",
      " 0.87194108 0.87265384 0.87224774 0.87224774]\n",
      "Testing data accuracy for Decision Tree:  [0.8679544  0.86700443 0.86827106 0.86949636 0.86822933 0.86787072\n",
      " 0.86945501 0.86882129 0.86818758 0.86850444]\n",
      "Training data accuracy for Linear Regression :  [0.87289142 0.87289142 0.87289142 0.87289142 0.87289142 0.87289142\n",
      " 0.87289142 0.87289142 0.87296056 0.87296056]\n",
      "Testing data accuracy for Linear Regression  :  [0.87048765 0.87048765 0.87048765 0.87076338 0.87076338 0.87072243\n",
      " 0.87072243 0.87072243 0.87072243 0.87072243]\n",
      "Training data accuracy for BNB:  [0.87289142 0.87289142 0.87289142 0.87289142 0.87289142 0.87289142\n",
      " 0.87289142 0.87289142 0.87296056 0.87296056]\n",
      "Testing data accuracy for BNB:  [0.87048765 0.87048765 0.87048765 0.87076338 0.87076338 0.87072243\n",
      " 0.87072243 0.87072243 0.87072243 0.87072243]\n"
     ]
    }
   ],
   "source": [
    "# Naive Bayes model \n",
    "print(\"Training data accuracy for Naive Bayes: \",cross_val_score(bnb, X_train_pca, y_train, cv=10))\n",
    "print(\"Testing data accuracy Naive Bayes: \",cross_val_score(bnb, X_test_pca, y_test, cv=10))\n",
    "#KNN\n",
    "\n",
    "#print(\"Training data accuracy for KNN: \",cross_val_score(knn_model, X_train_pca, y_train, cv=10))\n",
    "#print(\"Testing data accuracy for KNN: \",cross_val_score(knn_model, X_test_pca, y_test, cv=10))\n",
    "#Random Forest\n",
    "print(\"Training data accuracy for RandomForest: \",cross_val_score(rfc, X_train_pca, y_train, cv=10))\n",
    "print(\"Testing data accuracy for RandomForest: \",cross_val_score(rfc, X_test_pca, y_test, cv=10))\n",
    "#Decision Tree\n",
    "print(\"Training data accuracy for Decision Tree: \",cross_val_score(decision_tree, X_train_pca, y_train, cv=10))\n",
    "print(\"Testing data accuracy for Decision Tree: \",cross_val_score(decision_tree, X_test_pca, y_test, cv=10))\n",
    "#SVC\n",
    "#print(\"Training data accuracy for SVC: \",cross_val_score(SVC(), X_train_pca, y_train, cv=6))\n",
    "#print(\"Testing data accuracy for SVC: \",cross_val_score(SVC(), X_test_pca, y_test, cv=6))\n",
    "#Linear Regression\n",
    "print(\"Training data accuracy for Linear Regression : \",cross_val_score(lr, X_train_pca, y_train, cv=10))\n",
    "print(\"Testing data accuracy for Linear Regression  : \",cross_val_score(lr, X_test_pca, y_test, cv=10))\n",
    "#GBR\n",
    "#print(\"Training data accuracy for GBR: \",cross_val_score(clf, X_train_pca, y_train, cv=10))\n",
    "#print(\"Testing data accuracy for GBR: \",cross_val_score(clf, X_test_pca, y_test, cv=10))\n",
    "\n",
    "print(\"Training data accuracy for BNB: \",cross_val_score(bnb, X_train, y_train, cv=10))\n",
    "print(\"Testing data accuracy for BNB: \",cross_val_score(bnb, X_test, y_test, cv=10))"
   ]
  },
  {
   "cell_type": "markdown",
   "metadata": {},
   "source": [
    "\n",
    "It actually looks like we did good on cross val with PCA than we did with our full feature set. There is no overfitting since we have derived our own features with the keywords"
   ]
  },
  {
   "cell_type": "markdown",
   "metadata": {},
   "source": [
    "# Area Under Curve"
   ]
  },
  {
   "cell_type": "code",
   "execution_count": 45,
   "metadata": {},
   "outputs": [
    {
     "name": "stdout",
     "output_type": "stream",
     "text": [
      "AUC Score for BNB : 0.5\n",
      "AUC Score for Random Forest: 0.5001999501857338\n",
      "AUC Score for Decision Tree: 0.501875473877768\n",
      "AUC Score for Linear Regression: 0.5\n"
     ]
    }
   ],
   "source": [
    "from sklearn.metrics import roc_auc_score\n",
    "print (\"AUC Score for BNB :\" ,roc_auc_score(y_train, y_pred_bnb))\n",
    "#print (\"AUC Score for KNN:\" ,roc_auc_score(y_train, y_pred_knn))\n",
    "print (\"AUC Score for Random Forest:\" ,roc_auc_score(y_train,y_pred_rfc))\n",
    "print (\"AUC Score for Decision Tree:\" ,roc_auc_score(y_train, y_pred_dt))\n",
    "#print (\"AUC Score for SVM:\" ,roc_auc_score(y_train, y_pred_svm))\n",
    "print (\"AUC Score for Linear Regression:\" ,roc_auc_score(y_train, y_pred_lr))\n",
    "#print (\"AUC Score for GBR:\" ,roc_auc_score(y_train, y_pred_gbr))\n"
   ]
  },
  {
   "cell_type": "markdown",
   "metadata": {},
   "source": [
    "AUC performed ok with PCA"
   ]
  },
  {
   "cell_type": "markdown",
   "metadata": {},
   "source": [
    "# Confusion Matrix"
   ]
  },
  {
   "cell_type": "code",
   "execution_count": 46,
   "metadata": {},
   "outputs": [
    {
     "name": "stdout",
     "output_type": "stream",
     "text": [
      "[[     7  16041]\n",
      " [     4 110216]]\n",
      "Accuracy Score for Random Forest : 0.8729290081414135\n",
      "[[    65  15983]\n",
      " [    33 110187]]\n",
      "Accuracy Score for Decision Tree : 0.8731586783666487\n",
      "[[     0  16048]\n",
      " [     0 110220]]\n",
      "Accuracy Score for Linear Regression : 0.872905249152596\n",
      "[[     0  16048]\n",
      " [     0 110220]]\n",
      "Accuracy Score for BNB : 0.872905249152596\n"
     ]
    }
   ],
   "source": [
    "\n",
    "#Confusion Matrix\n",
    "from sklearn.metrics import confusion_matrix\n",
    "from sklearn.metrics import accuracy_score \n",
    "#print(confusion_matrix(y_train, y_pred_bnb))\n",
    "#print('Accuracy Score for KBN :',accuracy_score(y_train, y_pred_bnb))\n",
    "#print(confusion_matrix(y_train, y_pred_knn))\n",
    "#print('Accuracy Score for KNN :',accuracy_score(y_train, y_pred_knn))\n",
    "print(confusion_matrix(y_train, y_pred_rfc))\n",
    "print('Accuracy Score for Random Forest :',accuracy_score(y_train, y_pred_rfc))\n",
    "print(confusion_matrix(y_train, y_pred_dt))\n",
    "print('Accuracy Score for Decision Tree :',accuracy_score(y_train, y_pred_dt))\n",
    "#print(confusion_matrix(y_train, y_pred_SVM))\n",
    "#print('Accuracy Score for SVM:',accuracy_score(y_train, y_pred_svm))\n",
    "print(confusion_matrix(y_train, y_pred_lr))\n",
    "print('Accuracy Score for Linear Regression :',accuracy_score(y_train, y_pred_lr))\n",
    "#print(confusion_matrix(y_train, y_pred_gbr))\n",
    "#print('Accuracy Score for GBR :',accuracy_score(y_train, y_pred_gbr))\n",
    "print(confusion_matrix(y_train, y_pred_bnb))\n",
    "print('Accuracy Score for BNB :',accuracy_score(y_train, y_pred_bnb))"
   ]
  },
  {
   "cell_type": "markdown",
   "metadata": {},
   "source": [
    "Accuracy looks to be doing well after PCA.There are 3 models KNN,SVC,GBR  that are taking lot of time to complete.Accuracy is similar but these 3 models are very slow compared to others"
   ]
  },
  {
   "cell_type": "code",
   "execution_count": 47,
   "metadata": {},
   "outputs": [
    {
     "name": "stdout",
     "output_type": "stream",
     "text": [
      "Classification Report for RFC:              precision    recall  f1-score   support\n",
      "\n",
      "          0       0.64      0.00      0.00     16048\n",
      "          1       0.87      1.00      0.93    110220\n",
      "\n",
      "avg / total       0.84      0.87      0.81    126268\n",
      "\n",
      "Classification Report for DT:              precision    recall  f1-score   support\n",
      "\n",
      "          0       0.66      0.00      0.01     16048\n",
      "          1       0.87      1.00      0.93    110220\n",
      "\n",
      "avg / total       0.85      0.87      0.81    126268\n",
      "\n",
      "Classification Report for LR:              precision    recall  f1-score   support\n",
      "\n",
      "          0       0.00      0.00      0.00     16048\n",
      "          1       0.87      1.00      0.93    110220\n",
      "\n",
      "avg / total       0.76      0.87      0.81    126268\n",
      "\n",
      "Classification Report for BNB:              precision    recall  f1-score   support\n",
      "\n",
      "          0       0.00      0.00      0.00     16048\n",
      "          1       0.87      1.00      0.93    110220\n",
      "\n",
      "avg / total       0.76      0.87      0.81    126268\n",
      "\n"
     ]
    },
    {
     "name": "stderr",
     "output_type": "stream",
     "text": [
      "C:\\Users\\ankush\\anacondanew\\lib\\site-packages\\sklearn\\metrics\\classification.py:1135: UndefinedMetricWarning: Precision and F-score are ill-defined and being set to 0.0 in labels with no predicted samples.\n",
      "  'precision', 'predicted', average, warn_for)\n",
      "C:\\Users\\ankush\\anacondanew\\lib\\site-packages\\sklearn\\metrics\\classification.py:1135: UndefinedMetricWarning: Precision and F-score are ill-defined and being set to 0.0 in labels with no predicted samples.\n",
      "  'precision', 'predicted', average, warn_for)\n"
     ]
    }
   ],
   "source": [
    "#Classification Report\n",
    "from sklearn.metrics import classification_report\n",
    "#print(\"Classification Report for KNN:\",classification_report(y_train, y_pred_knn))\n",
    "print(\"Classification Report for RFC:\",classification_report(y_train, y_pred_rfc))\n",
    "print(\"Classification Report for DT:\",classification_report(y_train, y_pred_dt))\n",
    "#print(\"Classification Report for SVM:\",classification_report(y_train, y_pred_svm))\n",
    "print(\"Classification Report for LR:\",classification_report(y_train, y_pred_lr))\n",
    "#print(\"Classification Report for GBR:\",classification_report(y_train, y_pred_gbr))\n",
    "print(\"Classification Report for BNB:\",classification_report(y_train, y_pred_bnb))"
   ]
  },
  {
   "cell_type": "markdown",
   "metadata": {},
   "source": [
    "F1 score and recall are very good and ran at a good time.Now,lets get the accuracy using same techniques after going feature reduction SelectKbest(SKB)"
   ]
  },
  {
   "cell_type": "code",
   "execution_count": 48,
   "metadata": {},
   "outputs": [],
   "source": [
    "skb = SelectKBest(f_classif,k=10)\n",
    "skb.fit(X_train, y_train)\n",
    "X_train_skb = skb.transform(X_train)\n",
    "X_test_skb = skb.transform(X_test)"
   ]
  },
  {
   "cell_type": "code",
   "execution_count": null,
   "metadata": {},
   "outputs": [],
   "source": [
    "#Gridsearchcv for KNN\n",
    "knn_model = KNeighborsClassifier(n_neighbors=5)\n",
    "knn_model.fit(X_train_skb, y_train)\n",
    "y_pred_knn = knn_model.predict(X_train_skb)\n",
    "params = {'n_neighbors':[5,6,7,8,9,10],\n",
    "          'leaf_size':[1,2,3,5]\n",
    "                  }\n",
    "#Making models with hyper parameters sets\n",
    "grid_class = model_selection.GridSearchCV(knn_model, param_grid=params)\n",
    "#Learning\n",
    "grid_class.fit(X_train_skb,y_train)\n",
    "#The best hyper parameters set\n",
    "\n",
    "results = grid_class.cv_results_\n",
    "print(results.get('params'))\n",
    "print(results.get('mean_test_score'))\n",
    "print(results.get('mean_train_score'))\n",
    "print(\"Best Hyper Parameters:\\n\",grid_class.best_params_)\n",
    "print(grid_class.best_score_)\n",
    "final_model = grid_class.best_estimator_\n",
    "print(final_model)"
   ]
  },
  {
   "cell_type": "code",
   "execution_count": 49,
   "metadata": {},
   "outputs": [
    {
     "name": "stdout",
     "output_type": "stream",
     "text": [
      "[{'max_depth': 3, 'max_features': 10}, {'max_depth': 4, 'max_features': 10}, {'max_depth': 5, 'max_features': 10}]\n",
      "[0.87290525 0.87290525 0.87290525]\n",
      "[0.87290525 0.87290525 0.87290525]\n",
      "Best Hyper Parameters:\n",
      " {'max_depth': 3, 'max_features': 10}\n",
      "0.872905249152596\n",
      "RandomForestClassifier(bootstrap=True, class_weight=None, criterion='gini',\n",
      "            max_depth=3, max_features=10, max_leaf_nodes=None,\n",
      "            min_impurity_decrease=0.0, min_impurity_split=None,\n",
      "            min_samples_leaf=1, min_samples_split=2,\n",
      "            min_weight_fraction_leaf=0.0, n_estimators=100, n_jobs=1,\n",
      "            oob_score=False, random_state=None, verbose=0,\n",
      "            warm_start=False)\n"
     ]
    },
    {
     "name": "stderr",
     "output_type": "stream",
     "text": [
      "C:\\Users\\ankush\\anacondanew\\lib\\site-packages\\sklearn\\utils\\deprecation.py:122: FutureWarning: You are accessing a training score ('mean_train_score'), which will not be available by default any more in 0.21. If you need training scores, please set return_train_score=True\n",
      "  warnings.warn(*warn_args, **warn_kwargs)\n"
     ]
    }
   ],
   "source": [
    "#Gridsearchcv for Random Forest\n",
    "rfc = ensemble.RandomForestClassifier(max_depth=10,n_estimators= 100)\n",
    "rfc.fit(X_train_skb, y_train)\n",
    "y_pred_rfc = rfc.predict(X_train_skb)\n",
    "\n",
    "#Gridsearchcv to get the best parameters\n",
    "dt_grid={'max_depth':[3,4,5],'max_features': [10]}\n",
    "\n",
    "grid_class_rfc=model_selection.GridSearchCV(rfc,dt_grid,cv=6)\n",
    "grid_class_rfc.fit(X_train_skb, y_train)\n",
    "results = grid_class_rfc.cv_results_\n",
    "print(results.get('params'))\n",
    "print(results.get('mean_test_score'))\n",
    "print(results.get('mean_train_score'))\n",
    "print(\"Best Hyper Parameters:\\n\",grid_class_rfc.best_params_)\n",
    "print(grid_class_rfc.best_score_)\n",
    "final_model = grid_class_rfc.best_estimator_\n",
    "print(final_model)"
   ]
  },
  {
   "cell_type": "code",
   "execution_count": 31,
   "metadata": {},
   "outputs": [
    {
     "name": "stdout",
     "output_type": "stream",
     "text": [
      "[{'max_depth': 50, 'max_features': 10}]\n",
      "[0.03312844]\n",
      "[0.03533932]\n",
      "Best Hyper Parameters:\n",
      " {'max_depth': 50, 'max_features': 10}\n",
      "0.03312843505540145\n",
      "DecisionTreeRegressor(criterion='mse', max_depth=50, max_features=10,\n",
      "           max_leaf_nodes=None, min_impurity_decrease=0.0,\n",
      "           min_impurity_split=None, min_samples_leaf=1,\n",
      "           min_samples_split=2, min_weight_fraction_leaf=0.0,\n",
      "           presort=False, random_state=None, splitter='best')\n"
     ]
    },
    {
     "name": "stderr",
     "output_type": "stream",
     "text": [
      "C:\\Users\\ankush\\anacondanew\\lib\\site-packages\\sklearn\\utils\\deprecation.py:122: FutureWarning: You are accessing a training score ('mean_train_score'), which will not be available by default any more in 0.21. If you need training scores, please set return_train_score=True\n",
      "  warnings.warn(*warn_args, **warn_kwargs)\n"
     ]
    }
   ],
   "source": [
    "#Gridsearchcv for Decision Tree\n",
    "decision_tree = tree.DecisionTreeClassifier(max_depth=50)\n",
    "decision_tree.fit(X_train_skb, y_train)\n",
    "y_pred_dt = decision_tree.predict(X_train_pca)\n",
    "dt_grid={'max_depth':[50],'max_features': [10]}\n",
    "grid_class_dt=model_selection.GridSearchCV(decision_tree,dt_grid,cv=6)\n",
    "grid_class_dt.fit(X_train_skb, y_train)\n",
    "results = grid_class_dt.cv_results_\n",
    "print(results.get('params'))\n",
    "print(results.get('mean_test_score'))\n",
    "print(results.get('mean_train_score'))\n",
    "print(\"Best Hyper Parameters:\\n\",grid_class_dt.best_params_)\n",
    "print(grid_class_dt.best_score_)\n",
    "final_model = grid_class_dt.best_estimator_\n",
    "print(final_model)"
   ]
  },
  {
   "cell_type": "code",
   "execution_count": null,
   "metadata": {},
   "outputs": [],
   "source": [
    "#Gridsearchcv for SVC\n",
    "from sklearn.svm import SVC\n",
    "svm=SVC()\n",
    "svm.fit(X_train_skb, y_train)\n",
    "y_pred_svm = svm.predict(X_train_pca)\n",
    "param_grid = {'C':[1,10,100,1000],'gamma':[1,0.1,0.001,0.0001], 'kernel':['linear','rbf']}\n",
    "grid_class_svm=model_selection.GridSearchCV(SVC(),param_grid,refit = True)\n",
    "grid_class_svm.fit(X_train_skb, y_train)\n",
    "results = grid_class_svm.cv_results_\n",
    "print(results.get('params'))\n",
    "print(results.get('mean_test_score'))\n",
    "print(results.get('mean_train_score'))\n",
    "print(\"Best Hyper Parameters:\\n\",grid_class_svm.best_params_)\n",
    "print(grid_class_svm.best_score_)\n",
    "final_model = grid_class_svm.best_estimator_\n",
    "print(final_model)"
   ]
  },
  {
   "cell_type": "code",
   "execution_count": 50,
   "metadata": {},
   "outputs": [
    {
     "name": "stdout",
     "output_type": "stream",
     "text": [
      "[{'C': 0.001, 'penalty': 'l1'}, {'C': 0.001, 'penalty': 'l2'}, {'C': 0.01, 'penalty': 'l1'}, {'C': 0.01, 'penalty': 'l2'}, {'C': 0.1, 'penalty': 'l1'}, {'C': 0.1, 'penalty': 'l2'}, {'C': 1.0, 'penalty': 'l1'}, {'C': 1.0, 'penalty': 'l2'}, {'C': 10.0, 'penalty': 'l1'}, {'C': 10.0, 'penalty': 'l2'}, {'C': 100.0, 'penalty': 'l1'}, {'C': 100.0, 'penalty': 'l2'}, {'C': 1000.0, 'penalty': 'l1'}, {'C': 1000.0, 'penalty': 'l2'}]\n",
      "[0.87290525 0.87290525 0.87290525 0.87290525 0.87290525 0.87290525\n",
      " 0.87290525 0.87290525 0.87290525 0.87290525 0.87290525 0.87290525\n",
      " 0.87290525 0.87290525]\n",
      "[0.87290525 0.87290525 0.87290525 0.87290525 0.87290525 0.87290525\n",
      " 0.87290525 0.87290525 0.87290525 0.87290525 0.87290525 0.87290525\n",
      " 0.87290525 0.87290525]\n",
      "Best Hyper Parameters:\n",
      " {'C': 0.001, 'penalty': 'l1'}\n",
      "0.872905249152596\n",
      "LogisticRegression(C=0.001, class_weight=None, dual=False, fit_intercept=True,\n",
      "          intercept_scaling=1, max_iter=100, multi_class='ovr', n_jobs=1,\n",
      "          penalty='l1', random_state=None, solver='liblinear', tol=0.0001,\n",
      "          verbose=0, warm_start=False)\n"
     ]
    },
    {
     "name": "stderr",
     "output_type": "stream",
     "text": [
      "C:\\Users\\ankush\\anacondanew\\lib\\site-packages\\sklearn\\utils\\deprecation.py:122: FutureWarning: You are accessing a training score ('mean_train_score'), which will not be available by default any more in 0.21. If you need training scores, please set return_train_score=True\n",
      "  warnings.warn(*warn_args, **warn_kwargs)\n"
     ]
    }
   ],
   "source": [
    "#Gridsearchcv for Linear Regression\n",
    "lr = LogisticRegression(C=1e9)\n",
    "lr.fit(X_train_skb, y_train)\n",
    "y_pred_lr = lr.predict(X_train_pca)\n",
    "#Gridsearchcv \n",
    "grid={\"C\":np.logspace(-3,3,7), \"penalty\":[\"l1\",\"l2\"]}# l1 lasso l2 ridge\n",
    "logreg=LogisticRegression()\n",
    "logreg_cv=model_selection.GridSearchCV(logreg,grid,cv=10)\n",
    "logreg_cv.fit(X_train_skb,y_train)\n",
    "results = logreg_cv.cv_results_\n",
    "print(results.get('params'))\n",
    "print(results.get('mean_test_score'))\n",
    "print(results.get('mean_train_score'))\n",
    "print(\"Best Hyper Parameters:\\n\",logreg_cv.best_params_)\n",
    "print(logreg_cv.best_score_)\n",
    "final_model = logreg_cv.best_estimator_\n",
    "print(final_model)"
   ]
  },
  {
   "cell_type": "code",
   "execution_count": null,
   "metadata": {},
   "outputs": [],
   "source": [
    "#Gridsearchcv for GBR\n",
    "params = {'n_estimators': 500,\n",
    "          'max_depth': 7,\n",
    "          'loss': 'deviance'}\n",
    "# Initialize and fit the model.\n",
    "clf = ensemble.GradientBoostingClassifier(**params)\n",
    "clf.fit(X_train_skb, y_train)\n",
    "y_pred_gbr = clf.predict(X_train_skb)\n",
    "\n",
    "params ={\n",
    "    \"loss\":[\"deviance\"],\n",
    "    \"max_depth\":[3,5,8],\n",
    "    \"n_estimators\":[1000]\n",
    "    }\n",
    "gb = model_selection.GridSearchCV(clf, params, cv=10)\n",
    "gb.fit(X_train_skb, y_train)\n",
    "results = gb.cv_results_\n",
    "print(results.get('params'))\n",
    "print(results.get('mean_test_score'))\n",
    "print(results.get('mean_train_score'))\n",
    "print(\"Best Hyper Parameters:\\n\",gb.best_params_)\n",
    "print(gb.best_score_)\n",
    "final_model = gb.best_estimator_\n",
    "print(final_model)\n"
   ]
  },
  {
   "cell_type": "markdown",
   "metadata": {},
   "source": [
    "Gridsearchcv for all the models look good.There is no overfitting as well.This shows the best parameters and these parameters are actually good but these 3 models-KNN,SVC,GBR are very slow to run"
   ]
  },
  {
   "cell_type": "markdown",
   "metadata": {},
   "source": [
    "# Cross Validation"
   ]
  },
  {
   "cell_type": "code",
   "execution_count": 33,
   "metadata": {},
   "outputs": [
    {
     "name": "stdout",
     "output_type": "stream",
     "text": [
      "Training data accuracy for Naive Bayes:  [0.87289142 0.87289142 0.87289142 0.87289142 0.87289142 0.87289142\n",
      " 0.87289142 0.87289142 0.87296056 0.87296056]\n",
      "Testing data accuracy Naive Bayes:  [0.87048765 0.87048765 0.87048765 0.87076338 0.87076338 0.87072243\n",
      " 0.87072243 0.87072243 0.87072243 0.87072243]\n",
      "Training data accuracy for RandomForest:  [0.87289142 0.87289142 0.87281223 0.87289142 0.87289142 0.87289142\n",
      " 0.87289142 0.87289142 0.87296056 0.87296056]\n",
      "Testing data accuracy for RandomForest:  [0.87048765 0.87017099 0.87048765 0.87076338 0.87012987 0.87072243\n",
      " 0.87072243 0.87072243 0.87072243 0.87040558]\n",
      "Training data accuracy for Decision Tree:  [0.03572017 0.03064547 0.03014971 0.03688803 0.03402281 0.02605869\n",
      " 0.03582924 0.03657702 0.03253483 0.03297041]\n",
      "Testing data accuracy for Decision Tree:  [0.03039317 0.03193143 0.03203083 0.03992709 0.01995285 0.03159251\n",
      " 0.01675072 0.03213772 0.03076928 0.02463451]\n",
      "Training data accuracy for Linear Regression :  [0.87289142 0.87289142 0.87289142 0.87289142 0.87289142 0.87289142\n",
      " 0.87289142 0.87289142 0.87296056 0.87296056]\n",
      "Testing data accuracy for Linear Regression  :  [0.87048765 0.87048765 0.87048765 0.87076338 0.87076338 0.87072243\n",
      " 0.87072243 0.87072243 0.87072243 0.87072243]\n"
     ]
    }
   ],
   "source": [
    "# Naive Bayes model \n",
    "print(\"Training data accuracy for Naive Bayes: \",cross_val_score(bnb, X_train_skb, y_train, cv=10))\n",
    "print(\"Testing data accuracy Naive Bayes: \",cross_val_score(bnb, X_test_skb, y_test, cv=10))\n",
    "#KNN\n",
    "\n",
    "#print(\"Training data accuracy for KNN: \",cross_val_score(knn_model, X_train_pca, y_train, cv=10))\n",
    "#print(\"Testing data accuracy for KNN: \",cross_val_score(knn_model, X_test_pca, y_test, cv=10))\n",
    "#Random Forest\n",
    "print(\"Training data accuracy for RandomForest: \",cross_val_score(rfc, X_train_skb, y_train, cv=10))\n",
    "print(\"Testing data accuracy for RandomForest: \",cross_val_score(rfc, X_test_skb, y_test, cv=10))\n",
    "#Decision Tree\n",
    "print(\"Training data accuracy for Decision Tree: \",cross_val_score(decision_tree, X_train_skb, y_train, cv=10))\n",
    "print(\"Testing data accuracy for Decision Tree: \",cross_val_score(decision_tree, X_test_skb, y_test, cv=10))\n",
    "#SVC\n",
    "#print(\"Training data accuracy for SVC: \",cross_val_score(SVC(), X_train_pca, y_train, cv=6))\n",
    "#print(\"Testing data accuracy for SVC: \",cross_val_score(SVC(), X_test_pca, y_test, cv=6))\n",
    "#Linear Regression\n",
    "print(\"Training data accuracy for Linear Regression : \",cross_val_score(lr, X_train_skb, y_train, cv=10))\n",
    "print(\"Testing data accuracy for Linear Regression  : \",cross_val_score(lr, X_test_skb, y_test, cv=10))\n",
    "#GBR\n",
    "#print(\"Training data accuracy for GBR: \",cross_val_score(clf, X_train_pca, y_train, cv=10))\n",
    "#print(\"Testing data accuracy for GBR: \",cross_val_score(clf, X_test_pca, y_test, cv=10))"
   ]
  },
  {
   "cell_type": "markdown",
   "metadata": {},
   "source": [
    "It actually looks like we did good  on cross val with SKB than we did with our full feature set. There is no overfitting since we have derived our own features with the keywords"
   ]
  },
  {
   "cell_type": "markdown",
   "metadata": {},
   "source": [
    "# AUC"
   ]
  },
  {
   "cell_type": "code",
   "execution_count": 52,
   "metadata": {},
   "outputs": [
    {
     "name": "stdout",
     "output_type": "stream",
     "text": [
      "AUC Score for BNB : 0.5\n",
      "AUC Score for Random Forest: 0.5000934695912262\n",
      "AUC Score for Decision Tree: 0.501875473877768\n",
      "AUC Score for Linear Regression: 0.5\n"
     ]
    }
   ],
   "source": [
    "from sklearn.metrics import roc_auc_score\n",
    "print (\"AUC Score for BNB :\" ,roc_auc_score(y_train, y_pred_bnb))\n",
    "#print (\"AUC Score for KNN:\" ,roc_auc_score(y_train, y_pred_knn))\n",
    "print (\"AUC Score for Random Forest:\" ,roc_auc_score(y_train, y_pred_rfc))\n",
    "print (\"AUC Score for Decision Tree:\" ,roc_auc_score(y_train, y_pred_dt))\n",
    "#print (\"AUC Score for SVM:\" ,roc_auc_score(y_train, y_pred_svm))\n",
    "print (\"AUC Score for Linear Regression:\" ,roc_auc_score(y_train, y_pred_lr))\n",
    "#print (\"AUC Score for GBR:\" ,roc_auc_score(y_train, y_pred_gbr))"
   ]
  },
  {
   "cell_type": "markdown",
   "metadata": {},
   "source": [
    "AUC score is also good after doing SKB"
   ]
  },
  {
   "cell_type": "markdown",
   "metadata": {},
   "source": [
    "# Confusion Matrix"
   ]
  },
  {
   "cell_type": "code",
   "execution_count": 53,
   "metadata": {},
   "outputs": [
    {
     "name": "stdout",
     "output_type": "stream",
     "text": [
      "[[     0  16048]\n",
      " [     0 110220]]\n",
      "Accuracy Score for BNB : 0.872905249152596\n",
      "[[     3  16045]\n",
      " [     0 110220]]\n",
      "Accuracy Score for Random Forest : 0.8729290081414135\n",
      "[[    65  15983]\n",
      " [    33 110187]]\n",
      "Accuracy Score for Decision Tree : 0.8731586783666487\n",
      "[[     0  16048]\n",
      " [     0 110220]]\n",
      "Accuracy Score for Linear Regression : 0.872905249152596\n"
     ]
    }
   ],
   "source": [
    "\n",
    "#Confusion Matrix\n",
    "from sklearn.metrics import confusion_matrix\n",
    "from sklearn.metrics import accuracy_score \n",
    "print(confusion_matrix(y_train, y_pred_bnb))\n",
    "print('Accuracy Score for BNB :',accuracy_score(y_train, y_pred_bnb))\n",
    "#print(confusion_matrix(y_train, y_pred_knn))\n",
    "#print('Accuracy Score for KNN :',accuracy_score(y_train, y_pred_knn))\n",
    "print(confusion_matrix(y_train, y_pred_rfc))\n",
    "print('Accuracy Score for Random Forest :',accuracy_score(y_train, y_pred_rfc))\n",
    "print(confusion_matrix(y_train, y_pred_dt))\n",
    "print('Accuracy Score for Decision Tree :',accuracy_score(y_train, y_pred_dt))\n",
    "#print(confusion_matrix(y_train, y_pred_svm))\n",
    "#print('Accuracy Score for SVM:',accuracy_score(y_train, y_pred_svm))\n",
    "print(confusion_matrix(y_train, y_pred_lr))\n",
    "print('Accuracy Score for Linear Regression :',accuracy_score(y_train, y_pred_lr))\n",
    "#print(confusion_matrix(y_train, y_pred_gbr))\n",
    "#print('Accuracy Score for GBR :',accuracy_score(y_train, y_pred_gbr))"
   ]
  },
  {
   "cell_type": "markdown",
   "metadata": {},
   "source": [
    "It did faily well but this is just for positive  keywords in customer reviews."
   ]
  },
  {
   "cell_type": "markdown",
   "metadata": {},
   "source": [
    "# Classification Report"
   ]
  },
  {
   "cell_type": "code",
   "execution_count": 54,
   "metadata": {},
   "outputs": [
    {
     "name": "stdout",
     "output_type": "stream",
     "text": [
      "Classification Report for RFC:              precision    recall  f1-score   support\n",
      "\n",
      "          0       1.00      0.00      0.00     16048\n",
      "          1       0.87      1.00      0.93    110220\n",
      "\n",
      "avg / total       0.89      0.87      0.81    126268\n",
      "\n",
      "Classification Report for DT:              precision    recall  f1-score   support\n",
      "\n",
      "          0       0.66      0.00      0.01     16048\n",
      "          1       0.87      1.00      0.93    110220\n",
      "\n",
      "avg / total       0.85      0.87      0.81    126268\n",
      "\n",
      "Classification Report for LR:              precision    recall  f1-score   support\n",
      "\n",
      "          0       0.00      0.00      0.00     16048\n",
      "          1       0.87      1.00      0.93    110220\n",
      "\n",
      "avg / total       0.76      0.87      0.81    126268\n",
      "\n",
      "Classification Report for BNB:              precision    recall  f1-score   support\n",
      "\n",
      "          0       0.00      0.00      0.00     16048\n",
      "          1       0.87      1.00      0.93    110220\n",
      "\n",
      "avg / total       0.76      0.87      0.81    126268\n",
      "\n"
     ]
    },
    {
     "name": "stderr",
     "output_type": "stream",
     "text": [
      "C:\\Users\\ankush\\anacondanew\\lib\\site-packages\\sklearn\\metrics\\classification.py:1135: UndefinedMetricWarning: Precision and F-score are ill-defined and being set to 0.0 in labels with no predicted samples.\n",
      "  'precision', 'predicted', average, warn_for)\n",
      "C:\\Users\\ankush\\anacondanew\\lib\\site-packages\\sklearn\\metrics\\classification.py:1135: UndefinedMetricWarning: Precision and F-score are ill-defined and being set to 0.0 in labels with no predicted samples.\n",
      "  'precision', 'predicted', average, warn_for)\n"
     ]
    }
   ],
   "source": [
    "#Classification Report\n",
    "from sklearn.metrics import classification_report\n",
    "#print(\"Classification Report for KNN:\",classification_report(y_train, y_pred_knn))\n",
    "print(\"Classification Report for RFC:\",classification_report(y_train, y_pred_rfc))\n",
    "print(\"Classification Report for DT:\",classification_report(y_train, y_pred_dt))\n",
    "#print(\"Classification Report for SVM:\",classification_report(y_train, y_pred_svm))\n",
    "print(\"Classification Report for LR:\",classification_report(y_train, y_pred_lr))\n",
    "#print(\"Classification Report for GBR:\",classification_report(y_train, y_pred_gbr))\n",
    "print(\"Classification Report for BNB:\",classification_report(y_train, y_pred_bnb))"
   ]
  },
  {
   "cell_type": "markdown",
   "metadata": {},
   "source": [
    "f1 score and recall score is very good.The score didnot change  when compared to PCA values."
   ]
  },
  {
   "cell_type": "markdown",
   "metadata": {},
   "source": [
    "# Conclusion:"
   ]
  },
  {
   "cell_type": "markdown",
   "metadata": {},
   "source": [
    "All the models have had good accuracy score.There are 3 models -KNN,SVC,GBS which are very slow.It has been more than 7 hours , then these ,models are still running.There is  no difference in performance between PCA and SKB.This is a classification problem so we have used classification models and have tried to get the accuracy to predict the outome.The end goal is to predict the right outcome so for that the accuracy should be considerably high.If we observe this above cross validation accuracy,f1 score,precision is very promising.As observed above, it does not make any difference if we use PCA or SKB, accuracy score and f1 score remained similar.This is what we had expected.We usually expect GBS to slowest of all since it runs in multiple cycle to get more accuracy but a little surpised with SVC and KNN.This problem is about predicting positive reviews where we have been presented the text and reviews of some customers and we are checking how accurate are the models in predicting the outcome."
   ]
  },
  {
   "cell_type": "code",
   "execution_count": null,
   "metadata": {},
   "outputs": [],
   "source": []
  }
 ],
 "metadata": {
  "kernelspec": {
   "display_name": "Python 3",
   "language": "python",
   "name": "python3"
  },
  "language_info": {
   "codemirror_mode": {
    "name": "ipython",
    "version": 3
   },
   "file_extension": ".py",
   "mimetype": "text/x-python",
   "name": "python",
   "nbconvert_exporter": "python",
   "pygments_lexer": "ipython3",
   "version": "3.7.0"
  }
 },
 "nbformat": 4,
 "nbformat_minor": 2
}
