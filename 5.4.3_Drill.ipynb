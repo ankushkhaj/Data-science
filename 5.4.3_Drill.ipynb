{
 "cells": [
  {
   "cell_type": "markdown",
   "metadata": {},
   "source": [
    "# 5.4.3 Drill\n"
   ]
  },
  {
   "cell_type": "markdown",
   "metadata": {},
   "source": [
    "\n",
    "When to use surveys State whether a survey would be the best option for answering each of the following questions."
   ]
  },
  {
   "cell_type": "markdown",
   "metadata": {},
   "source": [
    "1.Popularity of various Uber drivers.\n",
    "\n",
    "Ans.Rating is decided by the users itself so, that is suvery in itself where driver qualities are asked if they were good and reviews for bad drivers.\n",
    "\n",
    "2.A grocery store wants to know how much people like strawberry, chocolate, and vanilla ice cream.\n",
    "\n",
    "Ans.Yes we need a survery for that. Also it can show if there is chance of new flavours to be introduced.\n",
    "\n",
    "3.Trojan wants to know whether their condoms are more popular among straight people or gay people.\n",
    "\n",
    "Ans.Yes we need a suvrvey for that\n",
    "\n",
    "4.Recently, rental rates for HappyCars have increased by 30%, which is quite unusual.You want to find out why this is happening and how to keep the increase going.\n",
    "\n",
    "Ans.No need of survey.This looks more of analysis.\n",
    "\n",
    "5.Assessing the success rate of a new advertising campaign.\n",
    "\n",
    "Ans.Yes we can survey for that.Sales can also show if people purchase that new product or not.\n",
    "\n",
    "\n",
    "6.Measuring the effect of nurse/patient ratio on patient recovery rates in hospital wards.\n",
    "\n",
    "Ans.Analysis can be done within the hospital about this to check the nurse/patient ratio\n"
   ]
  },
  {
   "cell_type": "markdown",
   "metadata": {},
   "source": []
  }
 ],
 "metadata": {
  "kernelspec": {
   "display_name": "Python 3",
   "language": "python",
   "name": "python3"
  },
  "language_info": {
   "codemirror_mode": {
    "name": "ipython",
    "version": 3
   },
   "file_extension": ".py",
   "mimetype": "text/x-python",
   "name": "python",
   "nbconvert_exporter": "python",
   "pygments_lexer": "ipython3",
   "version": "3.7.1"
  }
 },
 "nbformat": 4,
 "nbformat_minor": 2
}
