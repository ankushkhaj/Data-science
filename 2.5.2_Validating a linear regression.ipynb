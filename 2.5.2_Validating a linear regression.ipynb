{
 "cells": [
  {
   "cell_type": "markdown",
   "metadata": {},
   "source": [
    "# 2.5.2 Validating a linear regression"
   ]
  },
  {
   "cell_type": "code",
   "execution_count": null,
   "metadata": {},
   "outputs": [],
   "source": [
    "import math\n",
    "import warnings\n",
    "\n",
    "from IPython.display import display\n",
    "from matplotlib import pyplot as plt\n",
    "import numpy as np\n",
    "import pandas as pd\n",
    "import seaborn as sns\n",
    "from sklearn import linear_model\n",
    "import statsmodels.formula.api as smf\n",
    "\n",
    "# Display preferences.\n",
    "%matplotlib inline\n",
    "pd.options.display.float_format = '{:.3f}'.format\n",
    "\n",
    "# Suppress annoying harmless error.\n",
    "warnings.filterwarnings(\n",
    "    action=\"ignore\",\n",
    "    module=\"scipy\",\n",
    "    message=\"^internal gelsd\"\n",
    ")"
   ]
  },
  {
   "cell_type": "code",
   "execution_count": 75,
   "metadata": {},
   "outputs": [
    {
     "data": {
      "text/html": [
       "<div>\n",
       "<style scoped>\n",
       "    .dataframe tbody tr th:only-of-type {\n",
       "        vertical-align: middle;\n",
       "    }\n",
       "\n",
       "    .dataframe tbody tr th {\n",
       "        vertical-align: top;\n",
       "    }\n",
       "\n",
       "    .dataframe thead th {\n",
       "        text-align: right;\n",
       "    }\n",
       "</style>\n",
       "<table border=\"1\" class=\"dataframe\">\n",
       "  <thead>\n",
       "    <tr style=\"text-align: right;\">\n",
       "      <th></th>\n",
       "      <th>City</th>\n",
       "      <th>Population</th>\n",
       "      <th>Violent\n",
       "crime</th>\n",
       "      <th>Murder and\n",
       "nonnegligent\n",
       "manslaughter</th>\n",
       "      <th>Rape\n",
       "(revised\n",
       "definition)1</th>\n",
       "      <th>Rape\n",
       "(legacy\n",
       "definition)2</th>\n",
       "      <th>Robbery</th>\n",
       "      <th>Aggravated\n",
       "assault</th>\n",
       "      <th>Property_Crime</th>\n",
       "      <th>Burglary</th>\n",
       "      <th>Larceny-\n",
       "theft</th>\n",
       "      <th>Motor\n",
       "vehicle\n",
       "theft</th>\n",
       "      <th>Arson3</th>\n",
       "    </tr>\n",
       "  </thead>\n",
       "  <tbody>\n",
       "    <tr>\n",
       "      <th>0</th>\n",
       "      <td>Adams Village</td>\n",
       "      <td>1851.000</td>\n",
       "      <td>0.000</td>\n",
       "      <td>0.000</td>\n",
       "      <td>nan</td>\n",
       "      <td>0.000</td>\n",
       "      <td>0.000</td>\n",
       "      <td>0.000</td>\n",
       "      <td>11.000</td>\n",
       "      <td>1.000</td>\n",
       "      <td>10.000</td>\n",
       "      <td>0.000</td>\n",
       "      <td>0.000</td>\n",
       "    </tr>\n",
       "    <tr>\n",
       "      <th>1</th>\n",
       "      <td>Addison Town and Village</td>\n",
       "      <td>2568.000</td>\n",
       "      <td>2.000</td>\n",
       "      <td>0.000</td>\n",
       "      <td>nan</td>\n",
       "      <td>0.000</td>\n",
       "      <td>1.000</td>\n",
       "      <td>1.000</td>\n",
       "      <td>49.000</td>\n",
       "      <td>1.000</td>\n",
       "      <td>47.000</td>\n",
       "      <td>1.000</td>\n",
       "      <td>0.000</td>\n",
       "    </tr>\n",
       "    <tr>\n",
       "      <th>2</th>\n",
       "      <td>Afton Village4</td>\n",
       "      <td>820.000</td>\n",
       "      <td>0.000</td>\n",
       "      <td>0.000</td>\n",
       "      <td>0.000</td>\n",
       "      <td>nan</td>\n",
       "      <td>0.000</td>\n",
       "      <td>0.000</td>\n",
       "      <td>1.000</td>\n",
       "      <td>0.000</td>\n",
       "      <td>1.000</td>\n",
       "      <td>0.000</td>\n",
       "      <td>0.000</td>\n",
       "    </tr>\n",
       "    <tr>\n",
       "      <th>3</th>\n",
       "      <td>Akron Village</td>\n",
       "      <td>2842.000</td>\n",
       "      <td>1.000</td>\n",
       "      <td>0.000</td>\n",
       "      <td>nan</td>\n",
       "      <td>0.000</td>\n",
       "      <td>0.000</td>\n",
       "      <td>1.000</td>\n",
       "      <td>17.000</td>\n",
       "      <td>0.000</td>\n",
       "      <td>17.000</td>\n",
       "      <td>0.000</td>\n",
       "      <td>0.000</td>\n",
       "    </tr>\n",
       "    <tr>\n",
       "      <th>4</th>\n",
       "      <td>Albany4</td>\n",
       "      <td>98595.000</td>\n",
       "      <td>802.000</td>\n",
       "      <td>8.000</td>\n",
       "      <td>54.000</td>\n",
       "      <td>nan</td>\n",
       "      <td>237.000</td>\n",
       "      <td>503.000</td>\n",
       "      <td>3888.000</td>\n",
       "      <td>683.000</td>\n",
       "      <td>3083.000</td>\n",
       "      <td>122.000</td>\n",
       "      <td>12.000</td>\n",
       "    </tr>\n",
       "  </tbody>\n",
       "</table>\n",
       "</div>"
      ],
      "text/plain": [
       "                       City  Population  Violent\\ncrime  \\\n",
       "0             Adams Village    1851.000           0.000   \n",
       "1  Addison Town and Village    2568.000           2.000   \n",
       "2            Afton Village4     820.000           0.000   \n",
       "3             Akron Village    2842.000           1.000   \n",
       "4                   Albany4   98595.000         802.000   \n",
       "\n",
       "   Murder and\\nnonnegligent\\nmanslaughter  Rape\\n(revised\\ndefinition)1  \\\n",
       "0                                   0.000                           nan   \n",
       "1                                   0.000                           nan   \n",
       "2                                   0.000                         0.000   \n",
       "3                                   0.000                           nan   \n",
       "4                                   8.000                        54.000   \n",
       "\n",
       "   Rape\\n(legacy\\ndefinition)2  Robbery  Aggravated\\nassault  Property_Crime  \\\n",
       "0                        0.000    0.000                0.000          11.000   \n",
       "1                        0.000    1.000                1.000          49.000   \n",
       "2                          nan    0.000                0.000           1.000   \n",
       "3                        0.000    0.000                1.000          17.000   \n",
       "4                          nan  237.000              503.000        3888.000   \n",
       "\n",
       "   Burglary  Larceny-\\ntheft  Motor\\nvehicle\\ntheft  Arson3  \n",
       "0     1.000           10.000                  0.000   0.000  \n",
       "1     1.000           47.000                  1.000   0.000  \n",
       "2     0.000            1.000                  0.000   0.000  \n",
       "3     0.000           17.000                  0.000   0.000  \n",
       "4   683.000         3083.000                122.000  12.000  "
      ]
     },
     "execution_count": 75,
     "metadata": {},
     "output_type": "execute_result"
    }
   ],
   "source": [
    "data = pd.read_excel('C:/Personal/09142640/Downloads/Crimes_new_york_by_city_2014.xls', sheet_name=0, header=4)\n",
    "data.columns.values[8]='Property_Crime'\n",
    "data.head()"
   ]
  },
  {
   "cell_type": "code",
   "execution_count": 76,
   "metadata": {},
   "outputs": [],
   "source": [
    "data = data.drop(data[data.Population > 15000].index)"
   ]
  },
  {
   "cell_type": "code",
   "execution_count": 77,
   "metadata": {},
   "outputs": [],
   "source": [
    "data['Sq_population']=data['Population']*data['Population']"
   ]
  },
  {
   "cell_type": "code",
   "execution_count": 78,
   "metadata": {},
   "outputs": [],
   "source": [
    "data['Burglary_Flag']=np.where((data['Burglary']>0),1,0)"
   ]
  },
  {
   "cell_type": "code",
   "execution_count": 80,
   "metadata": {},
   "outputs": [],
   "source": [
    "data['Robbery_Flag']=np.where((data['Robbery']>0),1,0)\n"
   ]
  },
  {
   "cell_type": "markdown",
   "metadata": {},
   "source": [
    "Propery Crime=\\alpha + \\beta_Burglary+ \\beta_2Population + \\beta_3Robbery+\\beta_4Population**2"
   ]
  },
  {
   "cell_type": "code",
   "execution_count": 92,
   "metadata": {},
   "outputs": [
    {
     "name": "stdout",
     "output_type": "stream",
     "text": [
      "\n",
      "Coefficients: \n",
      " [[ 4.97371873e+00 -2.47077325e-03 -4.08907146e-01  4.86597634e-07\n",
      "  -3.52958329e-01  2.00670218e+01]]\n",
      "\n",
      "Intercept: \n",
      " [5.05865105]\n",
      "\n",
      "R-squared:\n",
      "0.7975651978046295\n"
     ]
    }
   ],
   "source": [
    "regr = linear_model.LinearRegression()\n",
    "#features=data[['Population','Burglary','Larceny-theft','Motor vehicle theft','Property_Crime']].dropna()\n",
    "Y = data[['Property_Crime']]\n",
    "X = data[['Burglary','Population','Robbery','Sq_population','Burglary_Flag','Robbery_Flag']]\n",
    "X=X.fillna(0)\n",
    "Y=Y.fillna(0)\n",
    "regr.fit(X, Y)\n",
    "# Inspect the results.\n",
    "print('\\nCoefficients: \\n', regr.coef_)\n",
    "print('\\nIntercept: \\n', regr.intercept_)\n",
    "print('\\nR-squared:')\n",
    "print(regr.score(X, Y))\n"
   ]
  },
  {
   "cell_type": "markdown",
   "metadata": {},
   "source": [
    "The model shows that outcome Property crime is predicted by the features Burglary,Population,Robbery,Sq_population,Burglary_Flag,Robbery_Flag explains 79.7% of the variance in Property crime"
   ]
  },
  {
   "cell_type": "code",
   "execution_count": 93,
   "metadata": {},
   "outputs": [
    {
     "data": {
      "text/html": [
       "<div>\n",
       "<style scoped>\n",
       "    .dataframe tbody tr th:only-of-type {\n",
       "        vertical-align: middle;\n",
       "    }\n",
       "\n",
       "    .dataframe tbody tr th {\n",
       "        vertical-align: top;\n",
       "    }\n",
       "\n",
       "    .dataframe thead th {\n",
       "        text-align: right;\n",
       "    }\n",
       "</style>\n",
       "<table border=\"1\" class=\"dataframe\">\n",
       "  <thead>\n",
       "    <tr style=\"text-align: right;\">\n",
       "      <th></th>\n",
       "      <th>Burglary</th>\n",
       "      <th>Population</th>\n",
       "      <th>Robbery</th>\n",
       "      <th>Sq_population</th>\n",
       "      <th>Burglary_Flag</th>\n",
       "      <th>Robbery_Flag</th>\n",
       "    </tr>\n",
       "  </thead>\n",
       "  <tbody>\n",
       "    <tr>\n",
       "      <th>Burglary</th>\n",
       "      <td>1.000</td>\n",
       "      <td>0.592</td>\n",
       "      <td>0.698</td>\n",
       "      <td>0.592</td>\n",
       "      <td>0.305</td>\n",
       "      <td>0.518</td>\n",
       "    </tr>\n",
       "    <tr>\n",
       "      <th>Population</th>\n",
       "      <td>0.592</td>\n",
       "      <td>1.000</td>\n",
       "      <td>0.492</td>\n",
       "      <td>0.961</td>\n",
       "      <td>0.328</td>\n",
       "      <td>0.523</td>\n",
       "    </tr>\n",
       "    <tr>\n",
       "      <th>Robbery</th>\n",
       "      <td>0.698</td>\n",
       "      <td>0.492</td>\n",
       "      <td>1.000</td>\n",
       "      <td>0.501</td>\n",
       "      <td>0.178</td>\n",
       "      <td>0.569</td>\n",
       "    </tr>\n",
       "    <tr>\n",
       "      <th>Sq_population</th>\n",
       "      <td>0.592</td>\n",
       "      <td>0.961</td>\n",
       "      <td>0.501</td>\n",
       "      <td>1.000</td>\n",
       "      <td>0.236</td>\n",
       "      <td>0.472</td>\n",
       "    </tr>\n",
       "    <tr>\n",
       "      <th>Burglary_Flag</th>\n",
       "      <td>0.305</td>\n",
       "      <td>0.328</td>\n",
       "      <td>0.178</td>\n",
       "      <td>0.236</td>\n",
       "      <td>1.000</td>\n",
       "      <td>0.285</td>\n",
       "    </tr>\n",
       "    <tr>\n",
       "      <th>Robbery_Flag</th>\n",
       "      <td>0.518</td>\n",
       "      <td>0.523</td>\n",
       "      <td>0.569</td>\n",
       "      <td>0.472</td>\n",
       "      <td>0.285</td>\n",
       "      <td>1.000</td>\n",
       "    </tr>\n",
       "  </tbody>\n",
       "</table>\n",
       "</div>"
      ],
      "text/plain": [
       "               Burglary  Population  Robbery  Sq_population  Burglary_Flag  \\\n",
       "Burglary          1.000       0.592    0.698          0.592          0.305   \n",
       "Population        0.592       1.000    0.492          0.961          0.328   \n",
       "Robbery           0.698       0.492    1.000          0.501          0.178   \n",
       "Sq_population     0.592       0.961    0.501          1.000          0.236   \n",
       "Burglary_Flag     0.305       0.328    0.178          0.236          1.000   \n",
       "Robbery_Flag      0.518       0.523    0.569          0.472          0.285   \n",
       "\n",
       "               Robbery_Flag  \n",
       "Burglary              0.518  \n",
       "Population            0.523  \n",
       "Robbery               0.569  \n",
       "Sq_population         0.472  \n",
       "Burglary_Flag         0.285  \n",
       "Robbery_Flag          1.000  "
      ]
     },
     "metadata": {},
     "output_type": "display_data"
    }
   ],
   "source": [
    "correlation_matrix = X.corr()\n",
    "display(correlation_matrix)"
   ]
  },
  {
   "cell_type": "markdown",
   "metadata": {},
   "source": [
    "Test the Model"
   ]
  },
  {
   "cell_type": "code",
   "execution_count": 94,
   "metadata": {},
   "outputs": [],
   "source": [
    "\n",
    "data = data[['Property_Crime', 'Burglary','Population','Robbery','Sq_population','Burglary_Flag','Robbery_Flag']]\n",
    "linear_formula = 'Property_Crime~Burglary+Population+Robbery+Sq_population+Burglary_Flag+Robbery_Flag'\n",
    "# Fit the model to our data using the formula.\n",
    "#lm = smf.ols(formula=linear_formula, data=data1).fit()"
   ]
  },
  {
   "cell_type": "code",
   "execution_count": 67,
   "metadata": {},
   "outputs": [
    {
     "name": "stdout",
     "output_type": "stream",
     "text": [
      "                            OLS Regression Results                            \n",
      "==============================================================================\n",
      "Dep. Variable:         Property_Crime   R-squared:                       0.764\n",
      "Model:                            OLS   Adj. R-squared:                  0.758\n",
      "Method:                 Least Squares   F-statistic:                     128.7\n",
      "Date:                Fri, 14 Dec 2018   Prob (F-statistic):           8.34e-72\n",
      "Time:                        11:09:43   Log-Likelihood:                -1356.0\n",
      "No. Observations:                 245   AIC:                             2726.\n",
      "Df Residuals:                     238   BIC:                             2751.\n",
      "Df Model:                           6                                         \n",
      "Covariance Type:            nonrobust                                         \n",
      "=================================================================================\n",
      "                    coef    std err          t      P>|t|      [0.025      0.975]\n",
      "---------------------------------------------------------------------------------\n",
      "Intercept         9.9418     14.885      0.668      0.505     -19.382      39.266\n",
      "Burglary          3.6268      0.337     10.777      0.000       2.964       4.290\n",
      "Population       -0.0042      0.005     -0.892      0.374      -0.013       0.005\n",
      "Robbery           3.1333      2.682      1.168      0.244      -2.150       8.416\n",
      "Sq_population  7.945e-07   3.23e-07      2.460      0.015    1.58e-07    1.43e-06\n",
      "Burglary_Flag     2.8334     15.930      0.178      0.859     -28.549      34.216\n",
      "Robbery_Flag     37.7467     10.347      3.648      0.000      17.364      58.130\n",
      "==============================================================================\n",
      "Omnibus:                      151.537   Durbin-Watson:                   1.999\n",
      "Prob(Omnibus):                  0.000   Jarque-Bera (JB):             1742.194\n",
      "Skew:                           2.231   Prob(JB):                         0.00\n",
      "Kurtosis:                      15.279   Cond. No.                     3.33e+08\n",
      "==============================================================================\n",
      "\n",
      "Warnings:\n",
      "[1] Standard Errors assume that the covariance matrix of the errors is correctly specified.\n",
      "[2] The condition number is large, 3.33e+08. This might indicate that there are\n",
      "strong multicollinearity or other numerical problems.\n"
     ]
    }
   ],
   "source": [
    "import statsmodels.formula.api as smf\n",
    "from sklearn.linear_model import LinearRegression \n",
    "from scipy import stats\n",
    "lm = smf.ols(formula=linear_formula,data=data).fit()\n",
    "print(lm.summary())"
   ]
  },
  {
   "cell_type": "markdown",
   "metadata": {},
   "source": [
    "Here we notice that that all the features execept Robbery_Flag and Burglary have p values less than 0.05.So Dropping Burglary and Robbery_flag will not significantly impact the R^2 value"
   ]
  },
  {
   "cell_type": "markdown",
   "metadata": {},
   "source": [
    "Revised Model"
   ]
  },
  {
   "cell_type": "code",
   "execution_count": 97,
   "metadata": {},
   "outputs": [
    {
     "name": "stdout",
     "output_type": "stream",
     "text": [
      "\n",
      "Coefficients: \n",
      " [6.96723686e-03 9.45385250e-07]\n",
      "\n",
      "Intercept: \n",
      " 10.440258716933315\n",
      "\n",
      "R-squared:\n",
      "0.39322751350285456\n",
      "                            OLS Regression Results                            \n",
      "==============================================================================\n",
      "Dep. Variable:         Property_Crime   R-squared:                       0.395\n",
      "Model:                            OLS   Adj. R-squared:                  0.390\n",
      "Method:                 Least Squares   F-statistic:                     87.36\n",
      "Date:                Fri, 14 Dec 2018   Prob (F-statistic):           6.13e-30\n",
      "Time:                        11:50:08   Log-Likelihood:                -1608.0\n",
      "No. Observations:                 271   AIC:                             3222.\n",
      "Df Residuals:                     268   BIC:                             3233.\n",
      "Df Model:                           2                                         \n",
      "Covariance Type:            nonrobust                                         \n",
      "=================================================================================\n",
      "                    coef    std err          t      P>|t|      [0.025      0.975]\n",
      "---------------------------------------------------------------------------------\n",
      "Intercept        11.7122     15.280      0.766      0.444     -18.373      41.797\n",
      "Population        0.0066      0.006      1.143      0.254      -0.005       0.018\n",
      "Sq_population  9.905e-07   4.14e-07      2.391      0.017    1.75e-07    1.81e-06\n",
      "==============================================================================\n",
      "Omnibus:                      202.989   Durbin-Watson:                   2.045\n",
      "Prob(Omnibus):                  0.000   Jarque-Bera (JB):             4207.430\n",
      "Skew:                           2.727   Prob(JB):                         0.00\n",
      "Kurtosis:                      21.516   Cond. No.                     1.76e+08\n",
      "==============================================================================\n",
      "\n",
      "Warnings:\n",
      "[1] Standard Errors assume that the covariance matrix of the errors is correctly specified.\n",
      "[2] The condition number is large, 1.76e+08. This might indicate that there are\n",
      "strong multicollinearity or other numerical problems.\n"
     ]
    }
   ],
   "source": [
    "# Reinstantiate and fit.\n",
    "regr = linear_model.LinearRegression()\n",
    "Y_test = data['Property_Crime']\n",
    "X_test= data[['Population', 'Sq_population']]\n",
    "X=X_test.fillna(0)\n",
    "Y=Y_test.fillna(0)\n",
    "regr.fit(X, Y)\n",
    "\n",
    "# Inspect the results.\n",
    "print('\\nCoefficients: \\n', regr.coef_)\n",
    "print('\\nIntercept: \\n', regr.intercept_)\n",
    "print('\\nR-squared:')\n",
    "print(regr.score(X, Y))\n",
    "\n",
    "# Reorganize data and remove unwanted parameters\n",
    "data = data[['Property_Crime', 'Population', 'Sq_population']]\n",
    "\n",
    "# Update interaction\n",
    "linear_formula = 'Property_Crime ~ Population+Sq_population'\n",
    "\n",
    "# Run model and print results\n",
    "lm_revised = smf.ols(formula=linear_formula, data=data).fit()\n",
    "print(lm_revised.summary())"
   ]
  },
  {
   "cell_type": "markdown",
   "metadata": {},
   "source": [
    "Here in the revised model, we notice that the F statistic value is quite high and R-squared is below 50%.Also, we are seeing that there are stroing multicolinaerity in the parameters"
   ]
  },
  {
   "cell_type": "markdown",
   "metadata": {},
   "source": [
    "Conclusion:I will chose the revised model ,the reason being there are less features or components in this model which can explain the model instead of model which is having more feature and is not able to explain the model.Also, we are having p values less than 0.05% for the all features that means the features can be used in the model"
   ]
  },
  {
   "cell_type": "code",
   "execution_count": null,
   "metadata": {},
   "outputs": [],
   "source": []
  }
 ],
 "metadata": {
  "kernelspec": {
   "display_name": "Python 3",
   "language": "python",
   "name": "python3"
  },
  "language_info": {
   "codemirror_mode": {
    "name": "ipython",
    "version": 3
   },
   "file_extension": ".py",
   "mimetype": "text/x-python",
   "name": "python",
   "nbconvert_exporter": "python",
   "pygments_lexer": "ipython3",
   "version": "3.7.0"
  }
 },
 "nbformat": 4,
 "nbformat_minor": 2
}
