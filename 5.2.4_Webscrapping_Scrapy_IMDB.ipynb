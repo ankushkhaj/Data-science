{
 "cells": [
  {
   "cell_type": "code",
   "execution_count": 1,
   "metadata": {},
   "outputs": [
    {
     "name": "stdout",
     "output_type": "stream",
     "text": [
      "Success!\n"
     ]
    }
   ],
   "source": [
    "# Importing in each cell because of the kernel restarts.\n",
    "import scrapy\n",
    "from scrapy.crawler import CrawlerProcess\n",
    "\n",
    "\n",
    "class ESSpider(scrapy.Spider):\n",
    "    # Naming the spider is important if you are running more than one spider of\n",
    "    # this class simultaneously.\n",
    "    name = \"ESS\"\n",
    "    \n",
    "    # URL(s) to start with.\n",
    "    start_urls = [\n",
    "        'https://www.imdb.com/list/ls045252260/?pf_rd_m=A2FGELUUNOQJNL&pf_rd_p=c1b9c916-c897-45a2-b228-0013b5e4ff8d&pf_rd_r=752GF7Y1XJBN4NFN3AJV&pf_rd_s=right-1&pf_rd_t=60601&pf_rd_i=best-of.top-movies-of-2018&ref_=ls_bo16_lk10',\n",
    "    ]\n",
    "\n",
    "    # Use XPath to parse the response we get.\n",
    "    def parse(self, response):\n",
    "        \n",
    "        # Iterate over every <article> element on the page.\n",
    "        for posting in response.xpath('//div[@class=\"lister-item mode-detail\"]'):\n",
    "           \n",
    "            # Yield a dictionary with the values we want.\n",
    "            yield {\n",
    "                # This is the code to choose what we want to extract\n",
    "                # You can modify this with other Xpath expressions to extract other information from the site\n",
    "                #'title': posting.xpath('h3[@class=\"lister-item-header\"]/a/href)').extract_first()\n",
    "               # 'title': posting.xpath('//div/h3/a/text()').extract_first()\n",
    "                #'title': posting.xpath('//div/h3/a/text()').extract_first()\n",
    "                'name': posting.xpath('div[@class=\"lister-item-content\"]/h3/a/text()').extract_first(),\n",
    "                'year':posting.xpath('div/h3/span[@class=\"lister-item-year text-muted unbold\"]/text()').extract_first(),\n",
    "                'rating':posting.xpath('div/div/div/span[@class=\"ipl-rating-star__rating\"]/text()').extract_first(),\n",
    "                'genre':posting.xpath('div/p/span[@class=\"genre\"]/text()').extract_first()\n",
    "                 #'title': posting.xpath('/h3/a[@class=\"lister-item-header\"]/text()').extract_first()\n",
    "                #'date': posting.xpath('time[@class=\"reult-date\"]/text()').extract_first(),\n",
    "                #'price': posting.xpath('span/span[@class=\"result-priceiv\"]/text()').extract_first()\n",
    "                 }\n",
    "        \n",
    "        # scrape all pages\n",
    "        #next_page_relative_url = response.xpath('//a[@class=\"button next\"]/@href').extract_first()\n",
    "        #next_page_absolute_url = response.urljoin(next_page_relative_url)\n",
    "        \n",
    "\n",
    "# Tell the script how to run the crawler by passing in settings.\n",
    "process = CrawlerProcess({\n",
    "    'FEED_FORMAT': 'json',         # Store data in JSON format.\n",
    "    'FEED_URI': 'imdb.json',  # Name our storage file.\n",
    "    'ROBOTSTXT_OBEY': True,\n",
    "    'USER_AGENT': 'ThinkfulDataScienceBootcamp_Rodolfo (thinkful.com)',\n",
    "    'AUTOTHROTTLE_ENABLED': True,\n",
    "    'HTTPCACHE_ENABLED': True,\n",
    "    'LOG_ENABLED': False           # Turn off logging for now.\n",
    "})\n",
    "\n",
    "# Start the crawler with our spider.\n",
    "process.crawl(ESSpider)\n",
    "process.start()\n",
    "print('Success!')"
   ]
  },
  {
   "cell_type": "code",
   "execution_count": 87,
   "metadata": {},
   "outputs": [
    {
     "name": "stdout",
     "output_type": "stream",
     "text": [
      "                                        genre                    name  rating  \\\n",
      "0    \\nAction, Adventure, Fantasy              Avengers: Infinity War     8.5   \n",
      "1       \\nBiography, Drama, Music                   Bohemian Rhapsody     8.1   \n",
      "2         \\nDrama, Music, Romance                      A Star Is Born     7.8   \n",
      "3  \\nAnimation, Adventure, Comedy                        Isle of Dogs     7.9   \n",
      "4                \\nDrama, Romance                Call Me by Your Name     7.9   \n",
      "\n",
      "     year  \n",
      "0  (2018)  \n",
      "1  (2018)  \n",
      "2  (2018)  \n",
      "3  (2018)  \n",
      "4  (2017)  \n"
     ]
    }
   ],
   "source": [
    "import pandas as pd\n",
    "\n",
    "imdb = pd.read_json('imdb.json', orient='records')\n",
    "print(imdb.head())"
   ]
  },
  {
   "cell_type": "code",
   "execution_count": 88,
   "metadata": {},
   "outputs": [],
   "source": [
    "import re\n",
    "imdb['genre'] = imdb['genre'].map(lambda x: re.sub(r'\\n', '', x))\n",
    "imdb['year'] = imdb.year.str.replace(r\"[({'III:)]\", \"\")\n",
    "\n"
   ]
  },
  {
   "cell_type": "code",
   "execution_count": 89,
   "metadata": {},
   "outputs": [
    {
     "data": {
      "text/html": [
       "<div>\n",
       "<style scoped>\n",
       "    .dataframe tbody tr th:only-of-type {\n",
       "        vertical-align: middle;\n",
       "    }\n",
       "\n",
       "    .dataframe tbody tr th {\n",
       "        vertical-align: top;\n",
       "    }\n",
       "\n",
       "    .dataframe thead th {\n",
       "        text-align: right;\n",
       "    }\n",
       "</style>\n",
       "<table border=\"1\" class=\"dataframe\">\n",
       "  <thead>\n",
       "    <tr style=\"text-align: right;\">\n",
       "      <th></th>\n",
       "      <th>genre</th>\n",
       "      <th>name</th>\n",
       "      <th>rating</th>\n",
       "      <th>year</th>\n",
       "    </tr>\n",
       "  </thead>\n",
       "  <tbody>\n",
       "    <tr>\n",
       "      <th>0</th>\n",
       "      <td>Action, Adventure, Fantasy</td>\n",
       "      <td>Avengers: Infinity War</td>\n",
       "      <td>8.5</td>\n",
       "      <td>2018</td>\n",
       "    </tr>\n",
       "    <tr>\n",
       "      <th>1</th>\n",
       "      <td>Biography, Drama, Music</td>\n",
       "      <td>Bohemian Rhapsody</td>\n",
       "      <td>8.1</td>\n",
       "      <td>2018</td>\n",
       "    </tr>\n",
       "    <tr>\n",
       "      <th>2</th>\n",
       "      <td>Drama, Music, Romance</td>\n",
       "      <td>A Star Is Born</td>\n",
       "      <td>7.8</td>\n",
       "      <td>2018</td>\n",
       "    </tr>\n",
       "    <tr>\n",
       "      <th>3</th>\n",
       "      <td>Animation, Adventure, Comedy</td>\n",
       "      <td>Isle of Dogs</td>\n",
       "      <td>7.9</td>\n",
       "      <td>2018</td>\n",
       "    </tr>\n",
       "    <tr>\n",
       "      <th>4</th>\n",
       "      <td>Drama, Romance</td>\n",
       "      <td>Call Me by Your Name</td>\n",
       "      <td>7.9</td>\n",
       "      <td>2017</td>\n",
       "    </tr>\n",
       "  </tbody>\n",
       "</table>\n",
       "</div>"
      ],
      "text/plain": [
       "                                      genre                    name  rating  \\\n",
       "0    Action, Adventure, Fantasy              Avengers: Infinity War     8.5   \n",
       "1       Biography, Drama, Music                   Bohemian Rhapsody     8.1   \n",
       "2         Drama, Music, Romance                      A Star Is Born     7.8   \n",
       "3  Animation, Adventure, Comedy                        Isle of Dogs     7.9   \n",
       "4                Drama, Romance                Call Me by Your Name     7.9   \n",
       "\n",
       "   year  \n",
       "0  2018  \n",
       "1  2018  \n",
       "2  2018  \n",
       "3  2018  \n",
       "4  2017  "
      ]
     },
     "execution_count": 89,
     "metadata": {},
     "output_type": "execute_result"
    }
   ],
   "source": [
    "imdb.head()"
   ]
  },
  {
   "cell_type": "code",
   "execution_count": 95,
   "metadata": {},
   "outputs": [
    {
     "data": {
      "image/png": "[encoded data removed]",
      "text/plain": [
       "<Figure size 432x288 with 1 Axes>"
      ]
     },
     "metadata": {
      "needs_background": "light"
     },
     "output_type": "display_data"
    }
   ],
   "source": [
    "import matplotlib.pyplot as plt\n",
    "plt.subplot(1, 2, 1)\n",
    "top5=imdb.head()\n",
    "bar_width = 0.1\n",
    "\n",
    "opacity = 0.8\n",
    "bar1= plt.bar( top5.name,top5.rating, bar_width,\n",
    "\n",
    "                 alpha=opacity,\n",
    "\n",
    "                 color='b'\n",
    "\n",
    "                 )\n",
    "\n",
    "plt.xlabel('Movie')\n",
    "plt.xticks(rotation = 90)\n",
    "plt.ylabel('Rating')\n",
    "plt.ylim(1,8)\n",
    "\n",
    "#plt.legend()\n",
    "\n",
    "plt.title('Top 5 movies with highest rating for 2017')\n",
    "\n",
    "plt.tight_layout()\n",
    "\n",
    "plt.show()"
   ]
  },
  {
   "cell_type": "code",
   "execution_count": 100,
   "metadata": {},
   "outputs": [
    {
     "data": {
      "text/plain": [
       "Text(0.5, 1.0, 'IMDB rating')"
      ]
     },
     "execution_count": 100,
     "metadata": {},
     "output_type": "execute_result"
    },
    {
     "data": {
      "image/png": "[encoded data removed]",
      "text/plain": [
       "<Figure size 432x288 with 1 Axes>"
      ]
     },
     "metadata": {
      "needs_background": "light"
     },
     "output_type": "display_data"
    }
   ],
   "source": [
    "plt.hist(imdb['rating'], bins = 10, range = (0,10)) # bin range = 1\n",
    "plt.title('IMDB rating')\n"
   ]
  },
  {
   "cell_type": "code",
   "execution_count": null,
   "metadata": {},
   "outputs": [],
   "source": []
  }
 ],
 "metadata": {
  "kernelspec": {
   "display_name": "Python 3",
   "language": "python",
   "name": "python3"
  },
  "language_info": {
   "codemirror_mode": {
    "name": "ipython",
    "version": 3
   },
   "file_extension": ".py",
   "mimetype": "text/x-python",
   "name": "python",
   "nbconvert_exporter": "python",
   "pygments_lexer": "ipython3",
   "version": "3.7.1"
  }
 },
 "nbformat": 4,
 "nbformat_minor": 2
}
