{
 "cells": [
  {
   "cell_type": "markdown",
   "metadata": {},
   "source": [
    "# 3.5.5 Challenge: what model can answer this question?"
   ]
  },
  {
   "cell_type": "markdown",
   "metadata": {},
   "source": [
    "You now have a fairly substantial starting toolbox of supervised learning methods that you can use to tackle a host of exciting problems. To make sure all of these ideas are organized in your mind, please go through the list of problems below. For each, identify which supervised learning method(s) would be best for addressing that particular problem. Explain your reasoning and discuss your answers with your mentor."
   ]
  },
  {
   "cell_type": "markdown",
   "metadata": {},
   "source": [
    "Q1.Predict the running times of prospective Olympic sprinters using data from the last 20 Olympics.\n",
    "\n",
    "Ans:We can use few of the methods as below-\n",
    "    \n",
    "    1.KNN \n",
    "    \n",
    "    2.Random Tree\n",
    "    \n",
    "    3.Random Forest\n",
    "    \n",
    "    4.Linear Regression\n",
    "    \n",
    "    5.GMB\n",
    "    \n",
    "    6.SVR\n",
    "    \n",
    "    We can use all of them because the output variable (Target) in the dataset is  having represent continuous data rather than categorical.We can use them and select one of them which has the best accuracy."
   ]
  },
  {
   "cell_type": "markdown",
   "metadata": {},
   "source": [
    "Q2.You have more features (columns) than rows in your dataset.\n",
    "\n",
    "Ans.We can use Regression models as below-\n",
    "\n",
    "1.Lasso Regression\n",
    "\n",
    "2.Gradient Boost\n",
    "\n",
    "Both of them perform better when there are high number of features or predictors"
   ]
  },
  {
   "cell_type": "markdown",
   "metadata": {},
   "source": [
    "Q3.Identify the most important characteristic predicting likelihood of being jailed before age 20."
   ]
  },
  {
   "cell_type": "markdown",
   "metadata": {},
   "source": [
    "Ans.We can use Gradient boosting and Random Forest  since Gradient boosting   predicts the likelihood of any outcome with feature importance capability and Random Forest has also the capability of Feature importance"
   ]
  },
  {
   "cell_type": "markdown",
   "metadata": {},
   "source": [
    "Q4.Implement a filter to “highlight” emails that might be important to the recipient.\n"
   ]
  },
  {
   "cell_type": "markdown",
   "metadata": {},
   "source": [
    "Ans.Naive Bayer is useful for spam filtering"
   ]
  },
  {
   "cell_type": "markdown",
   "metadata": {},
   "source": [
    "Q5.You have 1000+ features"
   ]
  },
  {
   "cell_type": "markdown",
   "metadata": {},
   "source": [
    "Ans.Lasso Regression is good for hundreds or thousands of variables/predictors"
   ]
  },
  {
   "cell_type": "markdown",
   "metadata": {},
   "source": [
    "Q6.Predict whether someone who adds items to their cart on a website will purchase the items"
   ]
  },
  {
   "cell_type": "markdown",
   "metadata": {},
   "source": [
    "Ans.Logic Regression is useful when outcome is categorical rather than continuous like in this case"
   ]
  },
  {
   "cell_type": "markdown",
   "metadata": {},
   "source": [
    "Q7.Your dataset dimensions are 982400 x 500"
   ]
  },
  {
   "cell_type": "markdown",
   "metadata": {},
   "source": [
    "Ans.We can use Lasso Regression which is useful for large number of variables/features"
   ]
  },
  {
   "cell_type": "markdown",
   "metadata": {},
   "source": [
    "Q8.Identify faces in an image."
   ]
  },
  {
   "cell_type": "markdown",
   "metadata": {},
   "source": [
    " Ans.SVM might be useful here since it deals with the dot product between two vectors in a higher-dimensional space without actually transforming the vectors into that space."
   ]
  },
  {
   "cell_type": "markdown",
   "metadata": {},
   "source": [
    "Q9.Predict which of three flavors of ice cream will be most popular with boys vs girls."
   ]
  },
  {
   "cell_type": "markdown",
   "metadata": {},
   "source": [
    "Ans.This seems to be a Classification problem.So,i think Random Forest,SVC,Logistic Gression might be useful since outcome variable is categorical"
   ]
  },
  {
   "cell_type": "code",
   "execution_count": null,
   "metadata": {},
   "outputs": [],
   "source": []
  }
 ],
 "metadata": {
  "kernelspec": {
   "display_name": "Python 3",
   "language": "python",
   "name": "python3"
  },
  "language_info": {
   "codemirror_mode": {
    "name": "ipython",
    "version": 3
   },
   "file_extension": ".py",
   "mimetype": "text/x-python",
   "name": "python",
   "nbconvert_exporter": "python",
   "pygments_lexer": "ipython3",
   "version": "3.7.0"
  }
 },
 "nbformat": 4,
 "nbformat_minor": 2
}
