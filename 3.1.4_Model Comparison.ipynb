{
 "cells": [
  {
   "cell_type": "code",
   "execution_count": 123,
   "metadata": {},
   "outputs": [],
   "source": [
    "import math\n",
    "import warnings\n",
    "\n",
    "from IPython.display import display\n",
    "from matplotlib import pyplot as plt\n",
    "import numpy as np\n",
    "import pandas as pd\n",
    "import seaborn as sns\n",
    "from sklearn import linear_model\n",
    "import statsmodels.formula.api as smf\n",
    "from sklearn.model_selection import cross_val_score\n",
    "from sklearn import neighbors\n",
    "\n",
    "# Display preferences.\n",
    "%matplotlib inline\n",
    "pd.options.display.float_format = '{:.3f}'.format\n",
    "\n",
    "# Suppress annoying harmless error.\n",
    "warnings.filterwarnings(\n",
    "    action=\"ignore\",\n",
    "    module=\"scipy\",\n",
    "    message=\"^internal gelsd\"\n",
    ")"
   ]
  },
  {
   "cell_type": "code",
   "execution_count": 124,
   "metadata": {
    "scrolled": false
   },
   "outputs": [
    {
     "data": {
      "text/html": [
       "<div>\n",
       "<style scoped>\n",
       "    .dataframe tbody tr th:only-of-type {\n",
       "        vertical-align: middle;\n",
       "    }\n",
       "\n",
       "    .dataframe tbody tr th {\n",
       "        vertical-align: top;\n",
       "    }\n",
       "\n",
       "    .dataframe thead th {\n",
       "        text-align: right;\n",
       "    }\n",
       "</style>\n",
       "<table border=\"1\" class=\"dataframe\">\n",
       "  <thead>\n",
       "    <tr style=\"text-align: right;\">\n",
       "      <th></th>\n",
       "      <th>City</th>\n",
       "      <th>Population</th>\n",
       "      <th>Violent\n",
       "crime</th>\n",
       "      <th>Murder and\n",
       "nonnegligent\n",
       "manslaughter</th>\n",
       "      <th>Rape\n",
       "(revised\n",
       "definition)1</th>\n",
       "      <th>Rape\n",
       "(legacy\n",
       "definition)2</th>\n",
       "      <th>Robbery</th>\n",
       "      <th>Aggravated\n",
       "assault</th>\n",
       "      <th>Property_Crime</th>\n",
       "      <th>Burglary</th>\n",
       "      <th>Larceny-\n",
       "theft</th>\n",
       "      <th>Motor\n",
       "vehicle\n",
       "theft</th>\n",
       "      <th>Arson3</th>\n",
       "    </tr>\n",
       "  </thead>\n",
       "  <tbody>\n",
       "    <tr>\n",
       "      <th>0</th>\n",
       "      <td>Adams Village</td>\n",
       "      <td>1851.000</td>\n",
       "      <td>0.000</td>\n",
       "      <td>0.000</td>\n",
       "      <td>nan</td>\n",
       "      <td>0.000</td>\n",
       "      <td>0.000</td>\n",
       "      <td>0.000</td>\n",
       "      <td>11.000</td>\n",
       "      <td>1.000</td>\n",
       "      <td>10.000</td>\n",
       "      <td>0.000</td>\n",
       "      <td>0.000</td>\n",
       "    </tr>\n",
       "    <tr>\n",
       "      <th>1</th>\n",
       "      <td>Addison Town and Village</td>\n",
       "      <td>2568.000</td>\n",
       "      <td>2.000</td>\n",
       "      <td>0.000</td>\n",
       "      <td>nan</td>\n",
       "      <td>0.000</td>\n",
       "      <td>1.000</td>\n",
       "      <td>1.000</td>\n",
       "      <td>49.000</td>\n",
       "      <td>1.000</td>\n",
       "      <td>47.000</td>\n",
       "      <td>1.000</td>\n",
       "      <td>0.000</td>\n",
       "    </tr>\n",
       "    <tr>\n",
       "      <th>2</th>\n",
       "      <td>Afton Village4</td>\n",
       "      <td>820.000</td>\n",
       "      <td>0.000</td>\n",
       "      <td>0.000</td>\n",
       "      <td>0.000</td>\n",
       "      <td>nan</td>\n",
       "      <td>0.000</td>\n",
       "      <td>0.000</td>\n",
       "      <td>1.000</td>\n",
       "      <td>0.000</td>\n",
       "      <td>1.000</td>\n",
       "      <td>0.000</td>\n",
       "      <td>0.000</td>\n",
       "    </tr>\n",
       "    <tr>\n",
       "      <th>3</th>\n",
       "      <td>Akron Village</td>\n",
       "      <td>2842.000</td>\n",
       "      <td>1.000</td>\n",
       "      <td>0.000</td>\n",
       "      <td>nan</td>\n",
       "      <td>0.000</td>\n",
       "      <td>0.000</td>\n",
       "      <td>1.000</td>\n",
       "      <td>17.000</td>\n",
       "      <td>0.000</td>\n",
       "      <td>17.000</td>\n",
       "      <td>0.000</td>\n",
       "      <td>0.000</td>\n",
       "    </tr>\n",
       "    <tr>\n",
       "      <th>4</th>\n",
       "      <td>Albany4</td>\n",
       "      <td>98595.000</td>\n",
       "      <td>802.000</td>\n",
       "      <td>8.000</td>\n",
       "      <td>54.000</td>\n",
       "      <td>nan</td>\n",
       "      <td>237.000</td>\n",
       "      <td>503.000</td>\n",
       "      <td>3888.000</td>\n",
       "      <td>683.000</td>\n",
       "      <td>3083.000</td>\n",
       "      <td>122.000</td>\n",
       "      <td>12.000</td>\n",
       "    </tr>\n",
       "  </tbody>\n",
       "</table>\n",
       "</div>"
      ],
      "text/plain": [
       "                       City  Population  Violent\\ncrime  \\\n",
       "0             Adams Village    1851.000           0.000   \n",
       "1  Addison Town and Village    2568.000           2.000   \n",
       "2            Afton Village4     820.000           0.000   \n",
       "3             Akron Village    2842.000           1.000   \n",
       "4                   Albany4   98595.000         802.000   \n",
       "\n",
       "   Murder and\\nnonnegligent\\nmanslaughter  Rape\\n(revised\\ndefinition)1  \\\n",
       "0                                   0.000                           nan   \n",
       "1                                   0.000                           nan   \n",
       "2                                   0.000                         0.000   \n",
       "3                                   0.000                           nan   \n",
       "4                                   8.000                        54.000   \n",
       "\n",
       "   Rape\\n(legacy\\ndefinition)2  Robbery  Aggravated\\nassault  Property_Crime  \\\n",
       "0                        0.000    0.000                0.000          11.000   \n",
       "1                        0.000    1.000                1.000          49.000   \n",
       "2                          nan    0.000                0.000           1.000   \n",
       "3                        0.000    0.000                1.000          17.000   \n",
       "4                          nan  237.000              503.000        3888.000   \n",
       "\n",
       "   Burglary  Larceny-\\ntheft  Motor\\nvehicle\\ntheft  Arson3  \n",
       "0     1.000           10.000                  0.000   0.000  \n",
       "1     1.000           47.000                  1.000   0.000  \n",
       "2     0.000            1.000                  0.000   0.000  \n",
       "3     0.000           17.000                  0.000   0.000  \n",
       "4   683.000         3083.000                122.000  12.000  "
      ]
     },
     "execution_count": 124,
     "metadata": {},
     "output_type": "execute_result"
    }
   ],
   "source": [
    "data = pd.read_excel('C:/Personal/09142640/Downloads/Crimes_new_york_by_city_2014.xls', sheet_name=0, header=4)\n",
    "data.columns.values[8]='Property_Crime'\n",
    "data.head()"
   ]
  },
  {
   "cell_type": "code",
   "execution_count": 125,
   "metadata": {},
   "outputs": [],
   "source": [
    "data = data.drop(data[data.Population > 15000].index)"
   ]
  },
  {
   "cell_type": "code",
   "execution_count": 126,
   "metadata": {},
   "outputs": [],
   "source": [
    "data['Sq_population']=data['Population']**2\n",
    "data['Burglary_Flag']=np.where((data['Burglary']>0),1,0)\n",
    "data['Robbery_Flag']=np.where((data['Robbery']>0),1,0)"
   ]
  },
  {
   "cell_type": "code",
   "execution_count": 127,
   "metadata": {},
   "outputs": [
    {
     "name": "stdout",
     "output_type": "stream",
     "text": [
      "\n",
      "Coefficients: \n",
      " [[ 4.97371873e+00 -2.47077325e-03 -4.08907146e-01  4.86597634e-07\n",
      "  -3.52958329e-01  2.00670218e+01]]\n",
      "\n",
      "Intercept: \n",
      " [5.05865105]\n",
      "\n",
      "R-squared:\n",
      "0.7975651978046295\n"
     ]
    }
   ],
   "source": [
    "regr = linear_model.LinearRegression()\n",
    "Y = data[['Property_Crime']]\n",
    "X = data[['Burglary','Population','Robbery','Sq_population','Burglary_Flag','Robbery_Flag']]\n",
    "X=X.fillna(0)\n",
    "Y=Y.fillna(0)\n",
    "regr.fit(X, Y)\n",
    "# Inspect the results.\n",
    "print('\\nCoefficients: \\n', regr.coef_)\n",
    "print('\\nIntercept: \\n', regr.intercept_)\n",
    "print('\\nR-squared:')\n",
    "print(regr.score(X, Y))"
   ]
  },
  {
   "cell_type": "code",
   "execution_count": 128,
   "metadata": {},
   "outputs": [
    {
     "data": {
      "text/html": [
       "<div>\n",
       "<style scoped>\n",
       "    .dataframe tbody tr th:only-of-type {\n",
       "        vertical-align: middle;\n",
       "    }\n",
       "\n",
       "    .dataframe tbody tr th {\n",
       "        vertical-align: top;\n",
       "    }\n",
       "\n",
       "    .dataframe thead th {\n",
       "        text-align: right;\n",
       "    }\n",
       "</style>\n",
       "<table border=\"1\" class=\"dataframe\">\n",
       "  <thead>\n",
       "    <tr style=\"text-align: right;\">\n",
       "      <th></th>\n",
       "      <th>Burglary</th>\n",
       "      <th>Population</th>\n",
       "      <th>Robbery</th>\n",
       "      <th>Sq_population</th>\n",
       "      <th>Burglary_Flag</th>\n",
       "      <th>Robbery_Flag</th>\n",
       "    </tr>\n",
       "  </thead>\n",
       "  <tbody>\n",
       "    <tr>\n",
       "      <th>Burglary</th>\n",
       "      <td>1.000</td>\n",
       "      <td>0.592</td>\n",
       "      <td>0.698</td>\n",
       "      <td>0.592</td>\n",
       "      <td>0.305</td>\n",
       "      <td>0.518</td>\n",
       "    </tr>\n",
       "    <tr>\n",
       "      <th>Population</th>\n",
       "      <td>0.592</td>\n",
       "      <td>1.000</td>\n",
       "      <td>0.492</td>\n",
       "      <td>0.961</td>\n",
       "      <td>0.328</td>\n",
       "      <td>0.523</td>\n",
       "    </tr>\n",
       "    <tr>\n",
       "      <th>Robbery</th>\n",
       "      <td>0.698</td>\n",
       "      <td>0.492</td>\n",
       "      <td>1.000</td>\n",
       "      <td>0.501</td>\n",
       "      <td>0.178</td>\n",
       "      <td>0.569</td>\n",
       "    </tr>\n",
       "    <tr>\n",
       "      <th>Sq_population</th>\n",
       "      <td>0.592</td>\n",
       "      <td>0.961</td>\n",
       "      <td>0.501</td>\n",
       "      <td>1.000</td>\n",
       "      <td>0.236</td>\n",
       "      <td>0.472</td>\n",
       "    </tr>\n",
       "    <tr>\n",
       "      <th>Burglary_Flag</th>\n",
       "      <td>0.305</td>\n",
       "      <td>0.328</td>\n",
       "      <td>0.178</td>\n",
       "      <td>0.236</td>\n",
       "      <td>1.000</td>\n",
       "      <td>0.285</td>\n",
       "    </tr>\n",
       "    <tr>\n",
       "      <th>Robbery_Flag</th>\n",
       "      <td>0.518</td>\n",
       "      <td>0.523</td>\n",
       "      <td>0.569</td>\n",
       "      <td>0.472</td>\n",
       "      <td>0.285</td>\n",
       "      <td>1.000</td>\n",
       "    </tr>\n",
       "  </tbody>\n",
       "</table>\n",
       "</div>"
      ],
      "text/plain": [
       "               Burglary  Population  Robbery  Sq_population  Burglary_Flag  \\\n",
       "Burglary          1.000       0.592    0.698          0.592          0.305   \n",
       "Population        0.592       1.000    0.492          0.961          0.328   \n",
       "Robbery           0.698       0.492    1.000          0.501          0.178   \n",
       "Sq_population     0.592       0.961    0.501          1.000          0.236   \n",
       "Burglary_Flag     0.305       0.328    0.178          0.236          1.000   \n",
       "Robbery_Flag      0.518       0.523    0.569          0.472          0.285   \n",
       "\n",
       "               Robbery_Flag  \n",
       "Burglary              0.518  \n",
       "Population            0.523  \n",
       "Robbery               0.569  \n",
       "Sq_population         0.472  \n",
       "Burglary_Flag         0.285  \n",
       "Robbery_Flag          1.000  "
      ]
     },
     "metadata": {},
     "output_type": "display_data"
    }
   ],
   "source": [
    "correlation_matrix = X.corr()\n",
    "display(correlation_matrix)"
   ]
  },
  {
   "cell_type": "code",
   "execution_count": 129,
   "metadata": {},
   "outputs": [],
   "source": [
    "data = data[['Property_Crime', 'Burglary','Population','Robbery','Sq_population','Burglary_Flag','Robbery_Flag']]\n",
    "linear_formula = 'Property_Crime~Burglary+Population+Robbery+Sq_population+Burglary_Flag+Robbery_Flag'"
   ]
  },
  {
   "cell_type": "code",
   "execution_count": 130,
   "metadata": {},
   "outputs": [
    {
     "name": "stdout",
     "output_type": "stream",
     "text": [
      "                            OLS Regression Results                            \n",
      "==============================================================================\n",
      "Dep. Variable:         Property_Crime   R-squared:                       0.796\n",
      "Model:                            OLS   Adj. R-squared:                  0.792\n",
      "Method:                 Least Squares   F-statistic:                     172.0\n",
      "Date:                Mon, 24 Dec 2018   Prob (F-statistic):           3.41e-88\n",
      "Time:                        19:38:44   Log-Likelihood:                -1460.4\n",
      "No. Observations:                 271   AIC:                             2935.\n",
      "Df Residuals:                     264   BIC:                             2960.\n",
      "Df Model:                           6                                         \n",
      "Covariance Type:            nonrobust                                         \n",
      "=================================================================================\n",
      "                    coef    std err          t      P>|t|      [0.025      0.975]\n",
      "---------------------------------------------------------------------------------\n",
      "Intercept         6.2345     10.855      0.574      0.566     -15.140      27.609\n",
      "Burglary          4.9373      0.279     17.666      0.000       4.387       5.488\n",
      "Population       -0.0027      0.004     -0.750      0.454      -0.010       0.004\n",
      "Robbery          -0.4812      1.784     -0.270      0.788      -3.993       3.031\n",
      "Sq_population  5.155e-07   2.56e-07      2.017      0.045    1.22e-08    1.02e-06\n",
      "Burglary_Flag    -0.9503     10.481     -0.091      0.928     -21.588      19.688\n",
      "Robbery_Flag     21.2173      8.892      2.386      0.018       3.708      38.726\n",
      "==============================================================================\n",
      "Omnibus:                      101.309   Durbin-Watson:                   1.974\n",
      "Prob(Omnibus):                  0.000   Jarque-Bera (JB):             2107.196\n",
      "Skew:                           0.936   Prob(JB):                         0.00\n",
      "Kurtosis:                      16.532   Cond. No.                     2.65e+08\n",
      "==============================================================================\n",
      "\n",
      "Warnings:\n",
      "[1] Standard Errors assume that the covariance matrix of the errors is correctly specified.\n",
      "[2] The condition number is large, 2.65e+08. This might indicate that there are\n",
      "strong multicollinearity or other numerical problems.\n"
     ]
    }
   ],
   "source": [
    "import statsmodels.formula.api as smf\n",
    "from sklearn.linear_model import LinearRegression \n",
    "from scipy import stats\n",
    "lm = smf.ols(formula=linear_formula,data=data).fit()\n",
    "print(lm.summary())"
   ]
  },
  {
   "cell_type": "markdown",
   "metadata": {},
   "source": [
    "The model shows that outcome Property crime is predicted by the features Burglary,Population,Robbery,Sq_population,Burglary_Flag,Robbery_Flag explains 79.7% of the variance in Property crime"
   ]
  },
  {
   "cell_type": "code",
   "execution_count": 109,
   "metadata": {},
   "outputs": [
    {
     "data": {
      "image/png": "[encoded data removed]",
      "text/plain": [
       "<Figure size 432x288 with 2 Axes>"
      ]
     },
     "metadata": {
      "needs_background": "light"
     },
     "output_type": "display_data"
    }
   ],
   "source": [
    "sns.heatmap(data.corr(),annot=True)\n",
    "plt.show()"
   ]
  },
  {
   "cell_type": "code",
   "execution_count": 110,
   "metadata": {},
   "outputs": [
    {
     "name": "stdout",
     "output_type": "stream",
     "text": [
      "                Property_Crime  Burglary  Population  Robbery  Sq_population  \\\n",
      "Property_Crime           1.000     0.880       0.618    0.638          0.626   \n",
      "Burglary                 0.880     1.000       0.585    0.696          0.586   \n",
      "Population               0.618     0.585       1.000    0.489          0.964   \n",
      "Robbery                  0.638     0.696       0.489    1.000          0.497   \n",
      "Sq_population            0.626     0.586       0.964    0.497          1.000   \n",
      "Burglary_Flag            0.258     0.284       0.272    0.165          0.207   \n",
      "Robbery_Flag             0.532     0.511       0.512    0.566          0.463   \n",
      "\n",
      "                Burglary_Flag  Robbery_Flag  \n",
      "Property_Crime          0.258         0.532  \n",
      "Burglary                0.284         0.511  \n",
      "Population              0.272         0.512  \n",
      "Robbery                 0.165         0.566  \n",
      "Sq_population           0.207         0.463  \n",
      "Burglary_Flag           1.000         0.285  \n",
      "Robbery_Flag            0.285         1.000  \n"
     ]
    }
   ],
   "source": [
    "data = data.loc[:, [ 'Property_Crime','Burglary','Population','Robbery','Sq_population','Burglary_Flag','Robbery_Flag']]\n",
    "\n",
    "# Trimmed correlation matrix\n",
    "corr_matrix_data = data.corr()\n",
    "print(corr_matrix_data)"
   ]
  },
  {
   "cell_type": "markdown",
   "metadata": {},
   "source": [
    "The above model shows that output variable Property_Crime is closely correlated to Burglary  and Robbery,so we will ignore rest of the features"
   ]
  },
  {
   "cell_type": "markdown",
   "metadata": {},
   "source": [
    "Revised Model"
   ]
  },
  {
   "cell_type": "code",
   "execution_count": 111,
   "metadata": {},
   "outputs": [],
   "source": [
    "data = data[['Property_Crime','Burglary','Robbery']]\n",
    "linear_formula = 'Property_Crime~Burglary+Robbery'"
   ]
  },
  {
   "cell_type": "code",
   "execution_count": 88,
   "metadata": {},
   "outputs": [
    {
     "name": "stdout",
     "output_type": "stream",
     "text": [
      "                            OLS Regression Results                            \n",
      "==============================================================================\n",
      "Dep. Variable:         Property_Crime   R-squared:                       0.776\n",
      "Model:                            OLS   Adj. R-squared:                  0.774\n",
      "Method:                 Least Squares   F-statistic:                     463.8\n",
      "Date:                Mon, 24 Dec 2018   Prob (F-statistic):           9.32e-88\n",
      "Time:                        19:14:00   Log-Likelihood:                -1473.4\n",
      "No. Observations:                 271   AIC:                             2953.\n",
      "Df Residuals:                     268   BIC:                             2964.\n",
      "Df Model:                           2                                         \n",
      "Covariance Type:            nonrobust                                         \n",
      "==============================================================================\n",
      "                 coef    std err          t      P>|t|      [0.025      0.975]\n",
      "------------------------------------------------------------------------------\n",
      "Intercept      9.5985      4.212      2.279      0.023       1.305      17.892\n",
      "Burglary       5.4823      0.261     20.986      0.000       4.968       5.997\n",
      "Robbery        2.1071      1.725      1.221      0.223      -1.289       5.504\n",
      "==============================================================================\n",
      "Omnibus:                       85.272   Durbin-Watson:                   1.933\n",
      "Prob(Omnibus):                  0.000   Jarque-Bera (JB):             3497.012\n",
      "Skew:                           0.361   Prob(JB):                         0.00\n",
      "Kurtosis:                      20.583   Cond. No.                         28.0\n",
      "==============================================================================\n",
      "\n",
      "Warnings:\n",
      "[1] Standard Errors assume that the covariance matrix of the errors is correctly specified.\n"
     ]
    }
   ],
   "source": [
    "import statsmodels.formula.api as smf\n",
    "from sklearn.linear_model import LinearRegression \n",
    "from scipy import stats\n",
    "lm = smf.ols(formula=linear_formula,data=data).fit()\n",
    "print(lm.summary())"
   ]
  },
  {
   "cell_type": "markdown",
   "metadata": {},
   "source": [
    "The revised  model shows that output variable  Property crime is predicted by the features Burglary,Robbery and it  explains 77.6% of the variance in Property crime which is relatively better than the original model.Also, the features doesnt seem to be correlated with each other"
   ]
  },
  {
   "cell_type": "code",
   "execution_count": 112,
   "metadata": {},
   "outputs": [
    {
     "data": {
      "image/png": "[encoded data removed]",
      "text/plain": [
       "<Figure size 432x288 with 2 Axes>"
      ]
     },
     "metadata": {
      "needs_background": "light"
     },
     "output_type": "display_data"
    }
   ],
   "source": [
    "sns.heatmap(data.corr(),annot=True)\n",
    "plt.show()"
   ]
  },
  {
   "cell_type": "markdown",
   "metadata": {},
   "source": [
    "The above heatmap shows Output variable Property_Crime is highly correlated to the feature Burglary"
   ]
  },
  {
   "cell_type": "code",
   "execution_count": 113,
   "metadata": {},
   "outputs": [
    {
     "name": "stdout",
     "output_type": "stream",
     "text": [
      " Accuracy: 0.77 (+/- 0.14)\n"
     ]
    }
   ],
   "source": [
    "sk_ftse_model = linear_model.LinearRegression()\n",
    "score = cross_val_score(sk_ftse_model, X, Y, cv=5)\n",
    "print(\" Accuracy: %0.2f (+/- %0.2f)\" % (score.mean(), score.std() * 2))"
   ]
  },
  {
   "cell_type": "code",
   "execution_count": 117,
   "metadata": {},
   "outputs": [],
   "source": [
    "data1=data.fillna(0)"
   ]
  },
  {
   "cell_type": "code",
   "execution_count": 118,
   "metadata": {},
   "outputs": [
    {
     "data": {
      "text/plain": [
       "<seaborn.axisgrid.PairGrid at 0x182e57b8>"
      ]
     },
     "execution_count": 118,
     "metadata": {},
     "output_type": "execute_result"
    },
    {
     "data": {
      "image/png": "[encoded data removed]",
      "text/plain": [
       "<Figure size 540x540 with 12 Axes>"
      ]
     },
     "metadata": {
      "needs_background": "light"
     },
     "output_type": "display_data"
    }
   ],
   "source": [
    "sns.pairplot(data1)"
   ]
  },
  {
   "cell_type": "markdown",
   "metadata": {},
   "source": [
    "K- Nearest Neighbor Regression"
   ]
  },
  {
   "cell_type": "code",
   "execution_count": 135,
   "metadata": {},
   "outputs": [
    {
     "name": "stdout",
     "output_type": "stream",
     "text": [
      "\n",
      "R-squared:\n",
      "0.463\n",
      "\n",
      "Accuracy: 0.12 (+/- 0.27)\n"
     ]
    }
   ],
   "source": [
    "knn = neighbors.KNeighborsRegressor(n_neighbors=5)\n",
    "Y =  data[['Property_Crime']]\n",
    "X = data[['Burglary','Population','Robbery','Sq_population','Burglary_Flag','Robbery_Flag']]\n",
    "Y=Y.fillna(0)\n",
    "X=X.fillna(0)\n",
    "# Build our model.\n",
    "\n",
    "knn.fit(X, Y)\n",
    "\n",
    "#y_pred = knn.predict(X)\n",
    "\n",
    "print('\\nR-squared:')\n",
    "print('%.3f' % (knn.score(X, Y)) )\n",
    "#cv=5 holdouts\n",
    "knn_score = cross_val_score(knn, X, Y, cv=5)\n",
    "print(\"\\nAccuracy: %0.2f (+/- %0.2f)\" % (knn_score.mean(), knn_score.std() * 2))"
   ]
  },
  {
   "cell_type": "markdown",
   "metadata": {},
   "source": [
    "Let's now weight the KNN scores"
   ]
  },
  {
   "cell_type": "code",
   "execution_count": 136,
   "metadata": {},
   "outputs": [
    {
     "name": "stdout",
     "output_type": "stream",
     "text": [
      "\n",
      "R-squared:\n",
      "1.000\n",
      "\n",
      "Accuracy: 0.02 (+/- 0.67)\n"
     ]
    }
   ],
   "source": [
    "knn_w = neighbors.KNeighborsRegressor(n_neighbors=5, weights='distance')\n",
    "Y =  data[['Property_Crime']]\n",
    "X = data[['Burglary','Population','Robbery','Sq_population','Burglary_Flag','Robbery_Flag']]\n",
    "Y=Y.fillna(0)\n",
    "X=X.fillna(0)\n",
    "\n",
    "# Build our model.\n",
    "\n",
    "knn_w.fit(X, Y)\n",
    "\n",
    "#y_pred = knn_w.predict(X)\n",
    "\n",
    "print('\\nR-squared:')\n",
    "print('%.3f' % (knn_w.score(X, Y)) )\n",
    "\n",
    "knnw_score = cross_val_score(knn_w, X, Y, cv=5)\n",
    "print(\"\\nAccuracy: %0.2f (+/- %0.2f)\" % (knnw_score.mean(), knnw_score.std() * 2))"
   ]
  },
  {
   "cell_type": "markdown",
   "metadata": {},
   "source": [
    "In KNN ,it shows that unweighted is more accrurate than weighted one.The variance seems to be increasing from unweighted to weighted ones."
   ]
  },
  {
   "cell_type": "markdown",
   "metadata": {},
   "source": [
    "# Conclusion:"
   ]
  },
  {
   "cell_type": "markdown",
   "metadata": {},
   "source": [
    "At the end in a markdown cell write a few paragraphs to describe the models' behaviors and why you favor one model or the other. Try to determine whether there is a situation where you would change your mind, or whether one is unambiguously better than the other. Lastly, try to note what it is about the data that causes the better model to outperform the weaker model. "
   ]
  },
  {
   "cell_type": "markdown",
   "metadata": {},
   "source": [
    "KNN Regression Model is more accurate than OLS Regression model as per the analysis above with values of unweighted KNN having variance of 27% and OLS having variance of 79.6% when compared both.I will chose KNN because of its accuracy.\n",
    "\n",
    "I will chose OLS over KNN if both are similary accurate since OLS provides more details about the analysis than KNN.  "
   ]
  },
  {
   "cell_type": "code",
   "execution_count": null,
   "metadata": {},
   "outputs": [],
   "source": []
  }
 ],
 "metadata": {
  "kernelspec": {
   "display_name": "Python 3",
   "language": "python",
   "name": "python3"
  },
  "language_info": {
   "codemirror_mode": {
    "name": "ipython",
    "version": 3
   },
   "file_extension": ".py",
   "mimetype": "text/x-python",
   "name": "python",
   "nbconvert_exporter": "python",
   "pygments_lexer": "ipython3",
   "version": "3.7.0"
  }
 },
 "nbformat": 4,
 "nbformat_minor": 2
}
