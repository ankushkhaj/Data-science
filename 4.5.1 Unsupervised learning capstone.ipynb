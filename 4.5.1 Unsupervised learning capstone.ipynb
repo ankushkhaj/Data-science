{
 "cells": [
  {
   "cell_type": "markdown",
   "metadata": {},
   "source": [
    "# 4.5.1 Unsupervised learning capstone"
   ]
  },
  {
   "cell_type": "code",
   "execution_count": 1,
   "metadata": {},
   "outputs": [],
   "source": [
    "import tweepy\n",
    "import numpy as np\n",
    "import pandas as pd\n",
    "import matplotlib.pyplot as plt\n",
    "import seaborn as sns\n",
    "import math\n",
    "import json\n",
    "from collections import Counter\n",
    "import re\n",
    "import spacy\n",
    "\n",
    "%matplotlib inline\n",
    "from sklearn import ensemble\n",
    "from sklearn.feature_extraction.text import TfidfVectorizer\n",
    "from sklearn.svm import SVC\n",
    "from sklearn.linear_model import LogisticRegression\n",
    "from sklearn.neighbors import KNeighborsClassifier\n",
    "from sklearn import neural_network\n",
    "from sklearn.model_selection import GridSearchCV\n",
    "\n",
    "from sklearn.model_selection import train_test_split\n",
    "from sklearn.preprocessing import normalize\n",
    "from sklearn.decomposition import PCA\n",
    "from sklearn.cluster import MeanShift, estimate_bandwidth\n",
    "from sklearn.cluster import KMeans, MiniBatchKMeans\n",
    "from sklearn import metrics\n",
    "from time import time\n",
    "from sklearn.metrics import confusion_matrix\n",
    "from sklearn.metrics.pairwise import cosine_similarity\n",
    "\n",
    "from sklearn.decomposition import TruncatedSVD\n",
    "from sklearn.pipeline import make_pipeline\n",
    "from sklearn.preprocessing import Normalizer\n",
    "from sklearn.utils import shuffle\n",
    "from sklearn import tree,model_selection\n",
    "import gensim\n",
    "from gensim import corpora, models, similarities\n",
    "import pyLDAvis.gensim as gensimvis\n",
    "import pyLDAvis\n",
    "\n",
    "import warnings\n",
    "warnings.filterwarnings(\"ignore\", category=DeprecationWarning)"
   ]
  },
  {
   "cell_type": "markdown",
   "metadata": {},
   "source": [
    "# Twitter Data Analysis"
   ]
  },
  {
   "cell_type": "code",
   "execution_count": 2,
   "metadata": {},
   "outputs": [],
   "source": [
    "#Using twitter api to load the data from the tweets\n",
    "import tweepy\n",
    "consumer_key = '66n3K6o0GfkbLO4QEoqRCA2pZ'\n",
    "consumer_secret = 'T1fsUWei3jSvOehl9TmRqIuIhTGi0UEudOAeT04PMLcgodQzhS'\n",
    "access_token = '86377594-cpO17ciBmTRbHzKD0AikvyIgJg7Ohfj5klfTogjVh'\n",
    "access_token_secret = 'pMIxRtyha7XNeyBITlLwprYGwfl2DM4laCB2dUaDXCrCA'\n",
    " \n",
    "def  twitter_Access():\n",
    "     auth = tweepy.OAuthHandler(consumer_key, consumer_secret)\n",
    "     auth.set_access_token(access_token, access_token_secret)\n",
    "     api = tweepy.API(auth, wait_on_rate_limit=True)\n",
    "     return api\n",
    "extract = twitter_Access()"
   ]
  },
  {
   "cell_type": "markdown",
   "metadata": {},
   "source": [
    "We will first load the tweets  from twitter for  some famous politicians- Donald Trump,Hillary Clinton,Barnie Sanders and Barack Obama.Then we can deep dive on the analysis to check aspects such as most liked tweet,most recent tweet and so on."
   ]
  },
  {
   "cell_type": "code",
   "execution_count": 3,
   "metadata": {},
   "outputs": [],
   "source": [
    "Dtweets = extract.user_timeline(screen_name=\"realDonaldTrump\", count=200, tweet_mode='extended')\n",
    "Otweets = extract.user_timeline(screen_name=\"BarackObama\", count=200, tweet_mode='extended')\n",
    "Htweets =extract.user_timeline(screen_name=\"HillaryClinton\", count=200, tweet_mode='extended')\n",
    "Mtweets =extract.user_timeline(screen_name=\"MikeBloomberg\", count=200, tweet_mode='extended')\n",
    "Stweets =extract.user_timeline(screen_name=\"SenSanders\", count=200, tweet_mode='extended')"
   ]
  },
  {
   "cell_type": "code",
   "execution_count": 4,
   "metadata": {},
   "outputs": [],
   "source": [
    "# Creating Data frame and all the relevant columns for detailed analysis\n",
    "Donald = pd.DataFrame(data=[tweet.full_text for tweet in Dtweets], columns=['Tweets']) \n",
    "Donald['Tweet Length']  = np.array([len(tweet.full_text) for tweet in Dtweets])\n",
    "Donald['ID']   = np.array([tweet.id for tweet in Dtweets])\n",
    "Donald['Date Posted'] = np.array([tweet.created_at for tweet in Dtweets])\n",
    "Donald['OS'] = np.array([tweet.source for tweet in Dtweets])\n",
    "Donald['Likes']  = np.array([tweet.favorite_count for tweet in Dtweets])\n",
    "Donald['Retweets']   = np.array([tweet.retweet_count for tweet in Dtweets])\n",
    "Donald['Weekday']  = Donald['Date Posted'].dt.weekday_name\n",
    "Donald['wt'] =Donald['Date Posted'].dt.weekday\n",
    "Donald['Month'] =Donald['Date Posted'].dt.month\n",
    "\n",
    "Obama = pd.DataFrame(data=[tweet.full_text for tweet in Otweets], columns=['Tweets']) \n",
    "Obama['Tweet Length']  = np.array([len(tweet.full_text) for tweet in Otweets])\n",
    "Obama['ID']   = np.array([tweet.id for tweet in Otweets])\n",
    "Obama['Date Posted'] = np.array([tweet.created_at for tweet in Otweets])\n",
    "Obama['OS'] = np.array([tweet.source for tweet in Otweets])\n",
    "Obama['Likes']  = np.array([tweet.favorite_count for tweet in Otweets])\n",
    "Obama['Retweets']   = np.array([tweet.retweet_count for tweet in Otweets])\n",
    "Obama['Weekday']  = Obama['Date Posted'].dt.weekday_name\n",
    "Obama['wt'] =Obama['Date Posted'].dt.weekday\n",
    "Obama['Month'] =Obama['Date Posted'].dt.month"
   ]
  },
  {
   "cell_type": "markdown",
   "metadata": {},
   "source": [
    "Now, just checking if any column is null or not.It seems like there are no null values"
   ]
  },
  {
   "cell_type": "code",
   "execution_count": 8,
   "metadata": {},
   "outputs": [
    {
     "data": {
      "text/plain": [
       "Tweets          0\n",
       "Tweet Length    0\n",
       "ID              0\n",
       "Date Posted     0\n",
       "OS              0\n",
       "Likes           0\n",
       "Retweets        0\n",
       "Weekday         0\n",
       "wt              0\n",
       "Month           0\n",
       "dtype: int64"
      ]
     },
     "execution_count": 8,
     "metadata": {},
     "output_type": "execute_result"
    }
   ],
   "source": [
    "Donald.isnull().sum()"
   ]
  },
  {
   "cell_type": "code",
   "execution_count": 9,
   "metadata": {},
   "outputs": [
    {
     "data": {
      "text/plain": [
       "Tweets          0\n",
       "Tweet Length    0\n",
       "ID              0\n",
       "Date Posted     0\n",
       "OS              0\n",
       "Likes           0\n",
       "Retweets        0\n",
       "Weekday         0\n",
       "wt              0\n",
       "Month           0\n",
       "dtype: int64"
      ]
     },
     "execution_count": 9,
     "metadata": {},
     "output_type": "execute_result"
    }
   ],
   "source": [
    "Obama.isnull().sum()"
   ]
  },
  {
   "cell_type": "markdown",
   "metadata": {},
   "source": [
    "Lets use describe, it will show us all the details about columns which might help for analysis"
   ]
  },
  {
   "cell_type": "code",
   "execution_count": 10,
   "metadata": {},
   "outputs": [
    {
     "data": {
      "text/html": [
       "<div>\n",
       "<style scoped>\n",
       "    .dataframe tbody tr th:only-of-type {\n",
       "        vertical-align: middle;\n",
       "    }\n",
       "\n",
       "    .dataframe tbody tr th {\n",
       "        vertical-align: top;\n",
       "    }\n",
       "\n",
       "    .dataframe thead th {\n",
       "        text-align: right;\n",
       "    }\n",
       "</style>\n",
       "<table border=\"1\" class=\"dataframe\">\n",
       "  <thead>\n",
       "    <tr style=\"text-align: right;\">\n",
       "      <th></th>\n",
       "      <th>Tweet Length</th>\n",
       "      <th>ID</th>\n",
       "      <th>Likes</th>\n",
       "      <th>Retweets</th>\n",
       "      <th>wt</th>\n",
       "      <th>Month</th>\n",
       "    </tr>\n",
       "  </thead>\n",
       "  <tbody>\n",
       "    <tr>\n",
       "      <th>count</th>\n",
       "      <td>1.0</td>\n",
       "      <td>1.000000e+00</td>\n",
       "      <td>1.0</td>\n",
       "      <td>1.0</td>\n",
       "      <td>1.0</td>\n",
       "      <td>1.0</td>\n",
       "    </tr>\n",
       "    <tr>\n",
       "      <th>mean</th>\n",
       "      <td>271.0</td>\n",
       "      <td>1.102583e+18</td>\n",
       "      <td>18222.0</td>\n",
       "      <td>4184.0</td>\n",
       "      <td>0.0</td>\n",
       "      <td>3.0</td>\n",
       "    </tr>\n",
       "    <tr>\n",
       "      <th>std</th>\n",
       "      <td>NaN</td>\n",
       "      <td>NaN</td>\n",
       "      <td>NaN</td>\n",
       "      <td>NaN</td>\n",
       "      <td>NaN</td>\n",
       "      <td>NaN</td>\n",
       "    </tr>\n",
       "    <tr>\n",
       "      <th>min</th>\n",
       "      <td>271.0</td>\n",
       "      <td>1.102583e+18</td>\n",
       "      <td>18222.0</td>\n",
       "      <td>4184.0</td>\n",
       "      <td>0.0</td>\n",
       "      <td>3.0</td>\n",
       "    </tr>\n",
       "    <tr>\n",
       "      <th>25%</th>\n",
       "      <td>271.0</td>\n",
       "      <td>1.102583e+18</td>\n",
       "      <td>18222.0</td>\n",
       "      <td>4184.0</td>\n",
       "      <td>0.0</td>\n",
       "      <td>3.0</td>\n",
       "    </tr>\n",
       "    <tr>\n",
       "      <th>50%</th>\n",
       "      <td>271.0</td>\n",
       "      <td>1.102583e+18</td>\n",
       "      <td>18222.0</td>\n",
       "      <td>4184.0</td>\n",
       "      <td>0.0</td>\n",
       "      <td>3.0</td>\n",
       "    </tr>\n",
       "    <tr>\n",
       "      <th>75%</th>\n",
       "      <td>271.0</td>\n",
       "      <td>1.102583e+18</td>\n",
       "      <td>18222.0</td>\n",
       "      <td>4184.0</td>\n",
       "      <td>0.0</td>\n",
       "      <td>3.0</td>\n",
       "    </tr>\n",
       "    <tr>\n",
       "      <th>max</th>\n",
       "      <td>271.0</td>\n",
       "      <td>1.102583e+18</td>\n",
       "      <td>18222.0</td>\n",
       "      <td>4184.0</td>\n",
       "      <td>0.0</td>\n",
       "      <td>3.0</td>\n",
       "    </tr>\n",
       "  </tbody>\n",
       "</table>\n",
       "</div>"
      ],
      "text/plain": [
       "       Tweet Length            ID    Likes  Retweets   wt  Month\n",
       "count           1.0  1.000000e+00      1.0       1.0  1.0    1.0\n",
       "mean          271.0  1.102583e+18  18222.0    4184.0  0.0    3.0\n",
       "std             NaN           NaN      NaN       NaN  NaN    NaN\n",
       "min           271.0  1.102583e+18  18222.0    4184.0  0.0    3.0\n",
       "25%           271.0  1.102583e+18  18222.0    4184.0  0.0    3.0\n",
       "50%           271.0  1.102583e+18  18222.0    4184.0  0.0    3.0\n",
       "75%           271.0  1.102583e+18  18222.0    4184.0  0.0    3.0\n",
       "max           271.0  1.102583e+18  18222.0    4184.0  0.0    3.0"
      ]
     },
     "execution_count": 10,
     "metadata": {},
     "output_type": "execute_result"
    }
   ],
   "source": [
    "Donald.describe()"
   ]
  },
  {
   "cell_type": "code",
   "execution_count": 11,
   "metadata": {},
   "outputs": [
    {
     "data": {
      "text/html": [
       "<div>\n",
       "<style scoped>\n",
       "    .dataframe tbody tr th:only-of-type {\n",
       "        vertical-align: middle;\n",
       "    }\n",
       "\n",
       "    .dataframe tbody tr th {\n",
       "        vertical-align: top;\n",
       "    }\n",
       "\n",
       "    .dataframe thead th {\n",
       "        text-align: right;\n",
       "    }\n",
       "</style>\n",
       "<table border=\"1\" class=\"dataframe\">\n",
       "  <thead>\n",
       "    <tr style=\"text-align: right;\">\n",
       "      <th></th>\n",
       "      <th>Tweet Length</th>\n",
       "      <th>ID</th>\n",
       "      <th>Likes</th>\n",
       "      <th>Retweets</th>\n",
       "      <th>wt</th>\n",
       "      <th>Month</th>\n",
       "    </tr>\n",
       "  </thead>\n",
       "  <tbody>\n",
       "    <tr>\n",
       "      <th>count</th>\n",
       "      <td>200.000000</td>\n",
       "      <td>2.000000e+02</td>\n",
       "      <td>2.000000e+02</td>\n",
       "      <td>2.000000e+02</td>\n",
       "      <td>200.000000</td>\n",
       "      <td>200.000000</td>\n",
       "    </tr>\n",
       "    <tr>\n",
       "      <th>mean</th>\n",
       "      <td>182.040000</td>\n",
       "      <td>9.617774e+17</td>\n",
       "      <td>3.984397e+05</td>\n",
       "      <td>8.642868e+04</td>\n",
       "      <td>2.555000</td>\n",
       "      <td>7.810000</td>\n",
       "    </tr>\n",
       "    <tr>\n",
       "      <th>std</th>\n",
       "      <td>68.549937</td>\n",
       "      <td>1.000419e+17</td>\n",
       "      <td>5.401294e+05</td>\n",
       "      <td>1.524500e+05</td>\n",
       "      <td>1.937977</td>\n",
       "      <td>3.771608</td>\n",
       "    </tr>\n",
       "    <tr>\n",
       "      <th>min</th>\n",
       "      <td>47.000000</td>\n",
       "      <td>7.917658e+17</td>\n",
       "      <td>0.000000e+00</td>\n",
       "      <td>5.840000e+02</td>\n",
       "      <td>0.000000</td>\n",
       "      <td>1.000000</td>\n",
       "    </tr>\n",
       "    <tr>\n",
       "      <th>25%</th>\n",
       "      <td>132.750000</td>\n",
       "      <td>8.943516e+17</td>\n",
       "      <td>5.613675e+04</td>\n",
       "      <td>1.264925e+04</td>\n",
       "      <td>1.000000</td>\n",
       "      <td>4.000000</td>\n",
       "    </tr>\n",
       "    <tr>\n",
       "      <th>50%</th>\n",
       "      <td>158.500000</td>\n",
       "      <td>9.709712e+17</td>\n",
       "      <td>2.279175e+05</td>\n",
       "      <td>3.897850e+04</td>\n",
       "      <td>2.000000</td>\n",
       "      <td>9.000000</td>\n",
       "    </tr>\n",
       "    <tr>\n",
       "      <th>75%</th>\n",
       "      <td>254.500000</td>\n",
       "      <td>1.059517e+18</td>\n",
       "      <td>4.933168e+05</td>\n",
       "      <td>9.963525e+04</td>\n",
       "      <td>4.000000</td>\n",
       "      <td>11.000000</td>\n",
       "    </tr>\n",
       "    <tr>\n",
       "      <th>max</th>\n",
       "      <td>306.000000</td>\n",
       "      <td>1.098659e+18</td>\n",
       "      <td>4.490314e+06</td>\n",
       "      <td>1.655103e+06</td>\n",
       "      <td>6.000000</td>\n",
       "      <td>12.000000</td>\n",
       "    </tr>\n",
       "  </tbody>\n",
       "</table>\n",
       "</div>"
      ],
      "text/plain": [
       "       Tweet Length            ID         Likes      Retweets          wt  \\\n",
       "count    200.000000  2.000000e+02  2.000000e+02  2.000000e+02  200.000000   \n",
       "mean     182.040000  9.617774e+17  3.984397e+05  8.642868e+04    2.555000   \n",
       "std       68.549937  1.000419e+17  5.401294e+05  1.524500e+05    1.937977   \n",
       "min       47.000000  7.917658e+17  0.000000e+00  5.840000e+02    0.000000   \n",
       "25%      132.750000  8.943516e+17  5.613675e+04  1.264925e+04    1.000000   \n",
       "50%      158.500000  9.709712e+17  2.279175e+05  3.897850e+04    2.000000   \n",
       "75%      254.500000  1.059517e+18  4.933168e+05  9.963525e+04    4.000000   \n",
       "max      306.000000  1.098659e+18  4.490314e+06  1.655103e+06    6.000000   \n",
       "\n",
       "            Month  \n",
       "count  200.000000  \n",
       "mean     7.810000  \n",
       "std      3.771608  \n",
       "min      1.000000  \n",
       "25%      4.000000  \n",
       "50%      9.000000  \n",
       "75%     11.000000  \n",
       "max     12.000000  "
      ]
     },
     "execution_count": 11,
     "metadata": {},
     "output_type": "execute_result"
    }
   ],
   "source": [
    "Obama.describe()"
   ]
  },
  {
   "cell_type": "markdown",
   "metadata": {},
   "source": [
    "Lets check if Donald Trump has ever mentioned any of Obama, Sanders, Hillary in any of his tweets"
   ]
  },
  {
   "cell_type": "code",
   "execution_count": 221,
   "metadata": {},
   "outputs": [
    {
     "data": {
      "text/plain": [
       "3"
      ]
     },
     "execution_count": 221,
     "metadata": {},
     "output_type": "execute_result"
    }
   ],
   "source": [
    "import re\n",
    "Donald.Tweets[Donald.Tweets.str.contains('Obama', 'Barack', flags= re.IGNORECASE)].count()\n"
   ]
  },
  {
   "cell_type": "code",
   "execution_count": 218,
   "metadata": {},
   "outputs": [
    {
     "data": {
      "text/plain": [
       "1"
      ]
     },
     "execution_count": 218,
     "metadata": {},
     "output_type": "execute_result"
    }
   ],
   "source": [
    "import re\n",
    "Donald.Tweets[Donald.Tweets.str.contains('Bernie', 'Sanders', flags= re.IGNORECASE)].count()"
   ]
  },
  {
   "cell_type": "code",
   "execution_count": 219,
   "metadata": {},
   "outputs": [
    {
     "data": {
      "text/plain": [
       "5"
      ]
     },
     "execution_count": 219,
     "metadata": {},
     "output_type": "execute_result"
    }
   ],
   "source": [
    "import re\n",
    "Donald.Tweets[Donald.Tweets.str.contains('Hillary', 'Clinton', flags= re.IGNORECASE)].count()"
   ]
  },
  {
   "cell_type": "code",
   "execution_count": null,
   "metadata": {},
   "outputs": [],
   "source": [
    "Yes, Trump has mentioned Obama 3 times, sanders 1 time,hillay 5 times in his tweets.Lets do the vice versa now"
   ]
  },
  {
   "cell_type": "code",
   "execution_count": 214,
   "metadata": {},
   "outputs": [
    {
     "data": {
      "text/plain": [
       "0"
      ]
     },
     "execution_count": 214,
     "metadata": {},
     "output_type": "execute_result"
    }
   ],
   "source": [
    "import re\n",
    "Obama.Tweets[Obama.Tweets.str.contains('Donald', 'Trump', flags= re.IGNORECASE)].count()"
   ]
  },
  {
   "cell_type": "markdown",
   "metadata": {},
   "source": [
    "But looks like Obama has never mentioned Trump in this tweets But Trump has mentioned Obama, Bernie Sanders and Hillary Clinton in his tweets.Now lets check Trumps latest tweet and most likes"
   ]
  },
  {
   "cell_type": "code",
   "execution_count": 215,
   "metadata": {
    "scrolled": true
   },
   "outputs": [
    {
     "data": {
      "text/plain": [
       "level_0                                                         0\n",
       "index                                                           0\n",
       "Tweets          THANK YOU to our generous hosts in Hanoi this ...\n",
       "Tweet Length                                                  150\n",
       "ID                                            1101065802067861505\n",
       "Date Posted                                   2019-02-28 10:25:18\n",
       "OS                                             Twitter for iPhone\n",
       "Likes                                                      107107\n",
       "Retweets                                                    21334\n",
       "Weekday                                                  Thursday\n",
       "wt                                                              3\n",
       "Month                                                           2\n",
       "Name: 0, dtype: object"
      ]
     },
     "execution_count": 215,
     "metadata": {},
     "output_type": "execute_result"
    }
   ],
   "source": [
    "#To get latest tweet date\n",
    "Donald.loc[Donald['Date Posted'].idxmax()]\n"
   ]
  },
  {
   "cell_type": "code",
   "execution_count": 216,
   "metadata": {},
   "outputs": [
    {
     "data": {
      "text/plain": [
       "level_0                         128\n",
       "index                           128\n",
       "Tweets           BUILDING THE WALL!\n",
       "Tweet Length                     18\n",
       "ID              1096924708132581377\n",
       "Date Posted     2019-02-17 00:10:04\n",
       "OS               Twitter for iPhone\n",
       "Likes                        299248\n",
       "Retweets                      66178\n",
       "Weekday                      Sunday\n",
       "wt                                6\n",
       "Month                             2\n",
       "Name: 128, dtype: object"
      ]
     },
     "execution_count": 216,
     "metadata": {},
     "output_type": "execute_result"
    }
   ],
   "source": [
    "#the most liked tweet\n",
    "Donald.loc[Donald['Likes'].idxmax()]"
   ]
  },
  {
   "cell_type": "markdown",
   "metadata": {},
   "source": [
    "Wow!It looks like the most liked tweet is building the wall.Latest tweet was today"
   ]
  },
  {
   "cell_type": "code",
   "execution_count": 222,
   "metadata": {},
   "outputs": [
    {
     "data": {
      "image/png": "[encoded data removed]",
      "text/plain": [
       "<Figure size 432x288 with 1 Axes>"
      ]
     },
     "metadata": {},
     "output_type": "display_data"
    }
   ],
   "source": [
    "#creating pie chart for politicians mentioned\n",
    "labels = 'Obama', 'Hillary', 'Bernie'\n",
    "sizes = [3, 5, 1]\n",
    "explode = (0.1, 0, 0)  # explode 1st slice\n",
    "colors = ['gold', 'lightcoral', 'lightskyblue']\n",
    "# Plot\n",
    "plt.pie(sizes, explode=explode, labels=labels, colors=colors,\n",
    "        autopct='%1.1f%%', shadow=True, startangle=140)\n",
    "plt.axis('equal')\n",
    "plt.show()"
   ]
  },
  {
   "cell_type": "markdown",
   "metadata": {},
   "source": [
    "The above pie shart shows Trump has mentioned Hillary clinton in most of his tweets"
   ]
  },
  {
   "cell_type": "code",
   "execution_count": 223,
   "metadata": {},
   "outputs": [
    {
     "data": {
      "image/png": "[encoded data removed]",
      "text/plain": [
       "<Figure size 432x288 with 1 Axes>"
      ]
     },
     "metadata": {
      "needs_background": "light"
     },
     "output_type": "display_data"
    }
   ],
   "source": [
    "import matplotlib.pyplot as plt\n",
    "#when using notebook make sure to add\n",
    "%matplotlib inline  \n",
    "Weekday_Tweets = Donald.groupby(['wt', 'Weekday']).agg({'Weekday': np.count_nonzero}).plot(colormap='seismic', fontsize=12, kind = 'bar')\n",
    "Weekday_Tweets.set_ylabel('Count of tweets', fontsize=14)\n",
    "Weekday_Tweets.set_xlabel('', fontsize=14)\n",
    "plt.xticks(np.arange(7), (\"Monday\", \"Tuesday\", \"Wednesday\", \"Thursday\", \"Friday\", \"Saturday\", \"Sunday\"))\n",
    "plt.title('Trump')\n",
    "plt.legend(['Count of Tweets']);"
   ]
  },
  {
   "cell_type": "code",
   "execution_count": 231,
   "metadata": {},
   "outputs": [
    {
     "data": {
      "image/png": "[encoded data removed]",
      "text/plain": [
       "<Figure size 432x288 with 1 Axes>"
      ]
     },
     "metadata": {
      "needs_background": "light"
     },
     "output_type": "display_data"
    }
   ],
   "source": [
    "import matplotlib.pyplot as plt\n",
    "#when using notebook make sure to add\n",
    "%matplotlib inline  \n",
    "Weekday_Tweets = Obama.groupby(['wt', 'Weekday']).agg({'Weekday': np.count_nonzero}).plot(colormap='seismic', fontsize=12, kind = 'bar')\n",
    "Weekday_Tweets.set_ylabel('Count of tweets', fontsize=14)\n",
    "Weekday_Tweets.set_xlabel('', fontsize=14)\n",
    "plt.xticks(np.arange(7), (\"Monday\", \"Tuesday\", \"Wednesday\", \"Thursday\", \"Friday\", \"Saturday\", \"Sunday\"))\n",
    "plt.title('Obama')\n",
    "plt.legend(['Count of Tweets']);"
   ]
  },
  {
   "cell_type": "markdown",
   "metadata": {},
   "source": [
    "The above plots show that Donald Trump tweets mostly on Sundays and Obama on Mondays"
   ]
  },
  {
   "cell_type": "code",
   "execution_count": 227,
   "metadata": {},
   "outputs": [
    {
     "data": {
      "text/plain": [
       "([<matplotlib.axis.XTick at 0x23f0036f710>,\n",
       "  <matplotlib.axis.XTick at 0x23f0036f0b8>,\n",
       "  <matplotlib.axis.XTick at 0x23f003d8ba8>,\n",
       "  <matplotlib.axis.XTick at 0x23f003e42b0>,\n",
       "  <matplotlib.axis.XTick at 0x23f003e48d0>,\n",
       "  <matplotlib.axis.XTick at 0x23f003e4978>,\n",
       "  <matplotlib.axis.XTick at 0x23f003e4e80>],\n",
       " <a list of 7 Text xticklabel objects>)"
      ]
     },
     "execution_count": 227,
     "metadata": {},
     "output_type": "execute_result"
    },
    {
     "data": {
      "image/png": "[encoded data removed]",
      "text/plain": [
       "<Figure size 432x288 with 1 Axes>"
      ]
     },
     "metadata": {
      "needs_background": "light"
     },
     "output_type": "display_data"
    }
   ],
   "source": [
    "AvgLikes = Donald.groupby(['wt']).agg({'Likes': np.mean}).plot(colormap='PiYG', fontsize=12, kind = 'bar')\n",
    "AvgLikes .set_ylabel('Avearge Likes on Tweets', fontsize=14)\n",
    "AvgLikes.set_title('Trump')\n",
    "AvgLikes .set_xlabel('')\n",
    "plt.xticks(np.arange(7), (\"Monday\", \"Tuesday\", \"Wednesday\", \"Thursday\", \"Friday\", \"Saturday\", \"Sunday\"))"
   ]
  },
  {
   "cell_type": "code",
   "execution_count": 230,
   "metadata": {},
   "outputs": [
    {
     "data": {
      "text/plain": [
       "([<matplotlib.axis.XTick at 0x23f77185710>,\n",
       "  <matplotlib.axis.XTick at 0x23f77185470>,\n",
       "  <matplotlib.axis.XTick at 0x23f061531d0>,\n",
       "  <matplotlib.axis.XTick at 0x23f061534e0>,\n",
       "  <matplotlib.axis.XTick at 0x23f06153c50>,\n",
       "  <matplotlib.axis.XTick at 0x23f061536d8>,\n",
       "  <matplotlib.axis.XTick at 0x23f0615b390>],\n",
       " <a list of 7 Text xticklabel objects>)"
      ]
     },
     "execution_count": 230,
     "metadata": {},
     "output_type": "execute_result"
    },
    {
     "data": {
      "image/png": "[encoded data removed]",
      "text/plain": [
       "<Figure size 432x288 with 1 Axes>"
      ]
     },
     "metadata": {
      "needs_background": "light"
     },
     "output_type": "display_data"
    }
   ],
   "source": [
    "AvgLikes = Obama.groupby(['wt']).agg({'Likes': np.mean}).plot(colormap='PiYG', fontsize=12, kind = 'bar')\n",
    "AvgLikes .set_ylabel('Avearge Likes on Tweets', fontsize=14)\n",
    "AvgLikes.set_title('Obama')\n",
    "AvgLikes .set_xlabel('')\n",
    "plt.xticks(np.arange(7), (\"Monday\", \"Tuesday\", \"Wednesday\", \"Thursday\", \"Friday\", \"Saturday\", \"Sunday\"))"
   ]
  },
  {
   "cell_type": "markdown",
   "metadata": {},
   "source": [
    "From both the charts, we observe, people like Trumps tweets on Thursday and Obamas tweet on Sunday.Thats little weird.Now, we have done enough analysis of tweets. Lets do some data cleaning/preprocessing first and use supervised and unsupervised models"
   ]
  },
  {
   "cell_type": "markdown",
   "metadata": {},
   "source": [
    "# Data Cleaning and Preprocessing the data"
   ]
  },
  {
   "cell_type": "markdown",
   "metadata": {},
   "source": [
    "First of all, I am creating a file for each politican and saving there latest 200 tweets in a file and then retrieving them"
   ]
  },
  {
   "cell_type": "code",
   "execution_count": 5,
   "metadata": {},
   "outputs": [],
   "source": [
    "\n",
    "#Twitter's API only allows for 200 records per call\n",
    "TWEETS_PER_CALL = 200 \n",
    "\n",
    "def save_tweets(screen_nm, tweets):\n",
    "    # 'a' appends to the .json we wrote with 'w' above\n",
    "    with open(f'C:\\\\Users\\\\Ankush\\\\Desktop\\\\{screen_nm}.json', 'a') as f:\n",
    "        for tweet in tweets:\n",
    "            json.dump([tweet.text, screen_nm], f); f.write('\\n')\n",
    "\n",
    "def get_tweets(screen_nm, desired_ct):\n",
    "    \n",
    "    #desired_ct is the number of tweets the user wants to include\n",
    "    tweet_list = []\n",
    "\n",
    "    #grab the current maximum tweet id for provided screen name, which will be the id of the first tweet stored in the object\n",
    "    tweets = extract.user_timeline(screen_name = screen_nm,count=50)\n",
    "    save_tweets(screen_nm, tweets)\n",
    "    return tweet_list"
   ]
  },
  {
   "cell_type": "code",
   "execution_count": 6,
   "metadata": {},
   "outputs": [],
   "source": [
    "trump = get_tweets('realDonaldTrump',50)\n",
    "clinton = get_tweets('HillaryClinton', 50)\n",
    "bernie = get_tweets('SenSanders', 50)\n",
    "obama = get_tweets('BarackObama', 50)\n"
   ]
  },
  {
   "cell_type": "code",
   "execution_count": 6,
   "metadata": {},
   "outputs": [],
   "source": [
    "handles = ['realDonaldTrump', 'HillaryClinton', 'SenSanders', 'BarackObama', 'MikeBloomberg']\n"
   ]
  },
  {
   "cell_type": "markdown",
   "metadata": {},
   "source": [
    "Now, lets combine all the tweets in one list and then into a dataframe so that we can ceate two columns- tweets and the author"
   ]
  },
  {
   "cell_type": "code",
   "execution_count": 7,
   "metadata": {},
   "outputs": [],
   "source": [
    "\n",
    "#Combine all tweets into 1 list\n",
    "\n",
    "full_tweets = []\n",
    "for handle in handles:\n",
    "    with open('C:\\\\Users\\\\Ankush\\\\Desktop\\\\{}.json'.format(handle)) as f: \n",
    "        full_tweets.append([json.loads(line) for line in f])\n",
    "        \n",
    "#Only want the first 2100 from each author (retweets caused the full amount for each author to be < 3200, and each has at least\n",
    "#2100 non RTs)\n",
    "all_tweets = []\n",
    "for auth in full_tweets:\n",
    "    all_tweets.extend(auth[:500])\n",
    "    \n",
    "#Store in dataframe\n",
    "tweet_df = pd.DataFrame(all_tweets, columns = ['Tweets', 'Author'])"
   ]
  },
  {
   "cell_type": "code",
   "execution_count": 17,
   "metadata": {
    "scrolled": true
   },
   "outputs": [
    {
     "data": {
      "text/html": [
       "<div>\n",
       "<style scoped>\n",
       "    .dataframe tbody tr th:only-of-type {\n",
       "        vertical-align: middle;\n",
       "    }\n",
       "\n",
       "    .dataframe tbody tr th {\n",
       "        vertical-align: top;\n",
       "    }\n",
       "\n",
       "    .dataframe thead th {\n",
       "        text-align: right;\n",
       "    }\n",
       "</style>\n",
       "<table border=\"1\" class=\"dataframe\">\n",
       "  <thead>\n",
       "    <tr style=\"text-align: right;\">\n",
       "      <th></th>\n",
       "      <th>Tweets</th>\n",
       "      <th>Author</th>\n",
       "    </tr>\n",
       "  </thead>\n",
       "  <tbody>\n",
       "    <tr>\n",
       "      <th>0</th>\n",
       "      <td>....This will be remembered as one of the most...</td>\n",
       "      <td>realDonaldTrump</td>\n",
       "    </tr>\n",
       "    <tr>\n",
       "      <th>1</th>\n",
       "      <td>Senate Democrats just voted against legislatio...</td>\n",
       "      <td>realDonaldTrump</td>\n",
       "    </tr>\n",
       "    <tr>\n",
       "      <th>2</th>\n",
       "      <td>If a deal is made with China, our great Americ...</td>\n",
       "      <td>realDonaldTrump</td>\n",
       "    </tr>\n",
       "    <tr>\n",
       "      <th>3</th>\n",
       "      <td>Heading over to Vietnam for my meeting with Ki...</td>\n",
       "      <td>realDonaldTrump</td>\n",
       "    </tr>\n",
       "    <tr>\n",
       "      <th>4</th>\n",
       "      <td>China Trade Deal (and more) in advanced stages...</td>\n",
       "      <td>realDonaldTrump</td>\n",
       "    </tr>\n",
       "  </tbody>\n",
       "</table>\n",
       "</div>"
      ],
      "text/plain": [
       "                                              Tweets           Author\n",
       "0  ....This will be remembered as one of the most...  realDonaldTrump\n",
       "1  Senate Democrats just voted against legislatio...  realDonaldTrump\n",
       "2  If a deal is made with China, our great Americ...  realDonaldTrump\n",
       "3  Heading over to Vietnam for my meeting with Ki...  realDonaldTrump\n",
       "4  China Trade Deal (and more) in advanced stages...  realDonaldTrump"
      ]
     },
     "execution_count": 17,
     "metadata": {},
     "output_type": "execute_result"
    }
   ],
   "source": [
    "tweet_df.head()"
   ]
  },
  {
   "cell_type": "code",
   "execution_count": 12,
   "metadata": {
    "scrolled": true
   },
   "outputs": [
    {
     "data": {
      "text/html": [
       "<div>\n",
       "<style scoped>\n",
       "    .dataframe tbody tr th:only-of-type {\n",
       "        vertical-align: middle;\n",
       "    }\n",
       "\n",
       "    .dataframe tbody tr th {\n",
       "        vertical-align: top;\n",
       "    }\n",
       "\n",
       "    .dataframe thead th {\n",
       "        text-align: right;\n",
       "    }\n",
       "</style>\n",
       "<table border=\"1\" class=\"dataframe\">\n",
       "  <thead>\n",
       "    <tr style=\"text-align: right;\">\n",
       "      <th></th>\n",
       "      <th>Tweets</th>\n",
       "      <th>Author</th>\n",
       "    </tr>\n",
       "  </thead>\n",
       "  <tbody>\n",
       "    <tr>\n",
       "      <th>0</th>\n",
       "      <td>....This will be remembered as one of the most...</td>\n",
       "      <td>realDonaldTrump</td>\n",
       "    </tr>\n",
       "    <tr>\n",
       "      <th>1</th>\n",
       "      <td>Senate Democrats just voted against legislatio...</td>\n",
       "      <td>realDonaldTrump</td>\n",
       "    </tr>\n",
       "    <tr>\n",
       "      <th>2</th>\n",
       "      <td>If a deal is made with China, our great Americ...</td>\n",
       "      <td>realDonaldTrump</td>\n",
       "    </tr>\n",
       "    <tr>\n",
       "      <th>3</th>\n",
       "      <td>Heading over to Vietnam for my meeting with Ki...</td>\n",
       "      <td>realDonaldTrump</td>\n",
       "    </tr>\n",
       "    <tr>\n",
       "      <th>4</th>\n",
       "      <td>China Trade Deal (and more) in advanced stages...</td>\n",
       "      <td>realDonaldTrump</td>\n",
       "    </tr>\n",
       "  </tbody>\n",
       "</table>\n",
       "</div>"
      ],
      "text/plain": [
       "                                              Tweets           Author\n",
       "0  ....This will be remembered as one of the most...  realDonaldTrump\n",
       "1  Senate Democrats just voted against legislatio...  realDonaldTrump\n",
       "2  If a deal is made with China, our great Americ...  realDonaldTrump\n",
       "3  Heading over to Vietnam for my meeting with Ki...  realDonaldTrump\n",
       "4  China Trade Deal (and more) in advanced stages...  realDonaldTrump"
      ]
     },
     "execution_count": 12,
     "metadata": {},
     "output_type": "execute_result"
    }
   ],
   "source": [
    "tweet_df.head()"
   ]
  },
  {
   "cell_type": "markdown",
   "metadata": {},
   "source": [
    "Now, we are trying to remove uneven word space and trying to join the words with single space"
   ]
  },
  {
   "cell_type": "code",
   "execution_count": 8,
   "metadata": {},
   "outputs": [],
   "source": [
    "tweet_full= ' '.join(tweet_df['Tweets'])"
   ]
  },
  {
   "cell_type": "markdown",
   "metadata": {},
   "source": [
    "Now, we can parse the cleaned data into tokens as below"
   ]
  },
  {
   "cell_type": "code",
   "execution_count": 9,
   "metadata": {},
   "outputs": [],
   "source": [
    "nlp = spacy.load('en')\n",
    "tweet_full=nlp(tweet_full)"
   ]
  },
  {
   "cell_type": "code",
   "execution_count": 10,
   "metadata": {},
   "outputs": [],
   "source": [
    "def bag_of_words(text):\n",
    "    allwords = [token.lemma_ for token in text if not token.is_stop and not token.is_punct and not token.like_url and \n",
    "                not token.like_num and not token.is_space and token.is_ascii and len(token.lemma_) > 1]\n",
    "    # Return the most common words.\n",
    "    return [item[0] for item in Counter(allwords).most_common(1000)]"
   ]
  },
  {
   "cell_type": "code",
   "execution_count": 11,
   "metadata": {},
   "outputs": [],
   "source": [
    "bow = bag_of_words(tweet_full)\n",
    "\n",
    "#Let's clean this up a bit \n",
    "replace_words = [r'/n', r'\\\\n', r'\\n', r'--', r'-', 'https:\\/\\/t\\.co\\/[\\w\\d]+', r'amp', r'&', r'w/', \"'s\"]\n",
    "bow = [re.sub('|'.join(replace_words), '', word) for word in bow]"
   ]
  },
  {
   "cell_type": "code",
   "execution_count": 12,
   "metadata": {},
   "outputs": [],
   "source": [
    "#Create dataframe with counts of our bag of words as features \n",
    "def bow_features(sentences, bow):\n",
    "    \n",
    "    partsofspeechlist = []\n",
    "    orth_list = []\n",
    "    dep_list=[]\n",
    "    \n",
    "    for sent in sentences[0]:\n",
    "        for token in sent:\n",
    "                partsofspeechlist.append(token.pos_)\n",
    "\n",
    "    parts = (set(partsofspeechlist))\n",
    "    for orth in sentences[0]:\n",
    "        for token in orth:\n",
    "                orth_list.append(token.orth_)\n",
    "\n",
    "    # Scaffold the data frame and initialize counts to zero.\n",
    "    df = pd.DataFrame(columns = set(list(bow)+ list(parts)))\n",
    "    df['text_sentence'] = sentences[0]\n",
    "    df['text_source'] = sentences[1]\n",
    "    df.loc[:, bow] = 0\n",
    "    #df['tweet_length'] = 0\n",
    "    #df['tweet_punct_count'] = 0 \n",
    "    #df['upper_case'] = 0 \n",
    "    df.loc[:, parts] = 0\n",
    "    \n",
    "    for i, sent in enumerate(sentences[0]):\n",
    "\n",
    "        tweet_len = 0    \n",
    "        num_punct = 0\n",
    "        \n",
    "        # Populate the row with word counts (only include the ones from our bag of words)\n",
    "        words = [token.lemma_ for token in sent\n",
    "                 if token.lemma_ in bow]\n",
    "        \n",
    "        #\"words\" collects all bow matches from each sentence\n",
    "        for word in words:\n",
    "            df.loc[i, word] += 1\n",
    "        \n",
    "        #Add part of speech counter and tweet length\n",
    "        for token in sent:\n",
    "            df.loc[i, token.pos_] += 1\n",
    "            if not token.is_punct:\n",
    "                tweet_len += 1\n",
    "            else:\n",
    "                num_punct += 1\n",
    "            \n",
    "        #Create a feature for all CAPS words  \n",
    "           # if ((str(token).isupper()) & (len(str(token)) > 1)):\n",
    "             #   df.loc[i, 'upper_case'] += 1\n",
    "\n",
    "\n",
    "        #df.loc[i, 'tweet_length'] = tweet_len\n",
    "        #df.loc[i, 'tweet_punct_count'] = num_punct\n",
    "\n",
    "        \n",
    "        # This counter is just to make sure the kernel didn't hang.\n",
    "        if i % 500 == 0:\n",
    "            print(\"Processing row {}\".format(i))\n",
    "\n",
    "    return df"
   ]
  },
  {
   "cell_type": "code",
   "execution_count": 13,
   "metadata": {},
   "outputs": [],
   "source": [
    "#Tokenize our tweets using spaCy (for more interesting features later on)\n",
    "all_tweets_nlp = []\n",
    "all_tweets_nlp.append([nlp(tweet[0]) for tweet in all_tweets])\n",
    "all_tweets_nlp.append([nlp(tweet[1]) for tweet in all_tweets])"
   ]
  },
  {
   "cell_type": "code",
   "execution_count": 14,
   "metadata": {
    "scrolled": true
   },
   "outputs": [
    {
     "name": "stdout",
     "output_type": "stream",
     "text": [
      "Processing row 0\n",
      "Processing row 500\n",
      "Processing row 1000\n",
      "Processing row 1500\n",
      "Processing row 2000\n"
     ]
    },
    {
     "data": {
      "text/html": [
       "<div>\n",
       "<style scoped>\n",
       "    .dataframe tbody tr th:only-of-type {\n",
       "        vertical-align: middle;\n",
       "    }\n",
       "\n",
       "    .dataframe tbody tr th {\n",
       "        vertical-align: top;\n",
       "    }\n",
       "\n",
       "    .dataframe thead th {\n",
       "        text-align: right;\n",
       "    }\n",
       "</style>\n",
       "<table border=\"1\" class=\"dataframe\">\n",
       "  <thead>\n",
       "    <tr style=\"text-align: right;\">\n",
       "      <th></th>\n",
       "      <th></th>\n",
       "      <th>safe</th>\n",
       "      <th>@meetthepress</th>\n",
       "      <th>senate</th>\n",
       "      <th>heart</th>\n",
       "      <th>speech</th>\n",
       "      <th>call</th>\n",
       "      <th>proud</th>\n",
       "      <th>university</th>\n",
       "      <th>volunteer</th>\n",
       "      <th>...</th>\n",
       "      <th>team</th>\n",
       "      <th>venezuelan</th>\n",
       "      <th>intelligence</th>\n",
       "      <th>outline</th>\n",
       "      <th>with</th>\n",
       "      <th>hoax</th>\n",
       "      <th>christmas</th>\n",
       "      <th>bush</th>\n",
       "      <th>text_sentence</th>\n",
       "      <th>text_source</th>\n",
       "    </tr>\n",
       "  </thead>\n",
       "  <tbody>\n",
       "    <tr>\n",
       "      <th>0</th>\n",
       "      <td>0</td>\n",
       "      <td>0</td>\n",
       "      <td>0</td>\n",
       "      <td>0</td>\n",
       "      <td>0</td>\n",
       "      <td>0</td>\n",
       "      <td>0</td>\n",
       "      <td>0</td>\n",
       "      <td>0</td>\n",
       "      <td>0</td>\n",
       "      <td>...</td>\n",
       "      <td>0</td>\n",
       "      <td>0</td>\n",
       "      <td>0</td>\n",
       "      <td>0</td>\n",
       "      <td>0</td>\n",
       "      <td>0</td>\n",
       "      <td>0</td>\n",
       "      <td>0</td>\n",
       "      <td>(...., This, will, be, remembered, as, one, of...</td>\n",
       "      <td>(realDonaldTrump)</td>\n",
       "    </tr>\n",
       "    <tr>\n",
       "      <th>1</th>\n",
       "      <td>0</td>\n",
       "      <td>0</td>\n",
       "      <td>0</td>\n",
       "      <td>1</td>\n",
       "      <td>0</td>\n",
       "      <td>0</td>\n",
       "      <td>0</td>\n",
       "      <td>0</td>\n",
       "      <td>0</td>\n",
       "      <td>0</td>\n",
       "      <td>...</td>\n",
       "      <td>0</td>\n",
       "      <td>0</td>\n",
       "      <td>0</td>\n",
       "      <td>0</td>\n",
       "      <td>0</td>\n",
       "      <td>0</td>\n",
       "      <td>0</td>\n",
       "      <td>0</td>\n",
       "      <td>(Senate, Democrats, just, voted, against, legi...</td>\n",
       "      <td>(realDonaldTrump)</td>\n",
       "    </tr>\n",
       "    <tr>\n",
       "      <th>2</th>\n",
       "      <td>0</td>\n",
       "      <td>0</td>\n",
       "      <td>0</td>\n",
       "      <td>0</td>\n",
       "      <td>0</td>\n",
       "      <td>0</td>\n",
       "      <td>0</td>\n",
       "      <td>0</td>\n",
       "      <td>0</td>\n",
       "      <td>0</td>\n",
       "      <td>...</td>\n",
       "      <td>0</td>\n",
       "      <td>0</td>\n",
       "      <td>0</td>\n",
       "      <td>0</td>\n",
       "      <td>1</td>\n",
       "      <td>0</td>\n",
       "      <td>0</td>\n",
       "      <td>0</td>\n",
       "      <td>(If, a, deal, is, made, with, China, ,, our, g...</td>\n",
       "      <td>(realDonaldTrump)</td>\n",
       "    </tr>\n",
       "    <tr>\n",
       "      <th>3</th>\n",
       "      <td>0</td>\n",
       "      <td>0</td>\n",
       "      <td>0</td>\n",
       "      <td>0</td>\n",
       "      <td>0</td>\n",
       "      <td>0</td>\n",
       "      <td>0</td>\n",
       "      <td>0</td>\n",
       "      <td>0</td>\n",
       "      <td>0</td>\n",
       "      <td>...</td>\n",
       "      <td>0</td>\n",
       "      <td>0</td>\n",
       "      <td>0</td>\n",
       "      <td>0</td>\n",
       "      <td>1</td>\n",
       "      <td>0</td>\n",
       "      <td>0</td>\n",
       "      <td>0</td>\n",
       "      <td>(Heading, over, to, Vietnam, for, my, meeting,...</td>\n",
       "      <td>(realDonaldTrump)</td>\n",
       "    </tr>\n",
       "    <tr>\n",
       "      <th>4</th>\n",
       "      <td>0</td>\n",
       "      <td>0</td>\n",
       "      <td>0</td>\n",
       "      <td>0</td>\n",
       "      <td>0</td>\n",
       "      <td>0</td>\n",
       "      <td>0</td>\n",
       "      <td>0</td>\n",
       "      <td>0</td>\n",
       "      <td>0</td>\n",
       "      <td>...</td>\n",
       "      <td>0</td>\n",
       "      <td>0</td>\n",
       "      <td>0</td>\n",
       "      <td>0</td>\n",
       "      <td>0</td>\n",
       "      <td>0</td>\n",
       "      <td>0</td>\n",
       "      <td>0</td>\n",
       "      <td>(China, Trade, Deal, (, and, more, ), in, adva...</td>\n",
       "      <td>(realDonaldTrump)</td>\n",
       "    </tr>\n",
       "  </tbody>\n",
       "</table>\n",
       "<p>5 rows × 1016 columns</p>\n",
       "</div>"
      ],
      "text/plain": [
       "     safe @meetthepress senate heart speech call proud university volunteer  \\\n",
       "0  0    0             0      0     0      0    0     0          0         0   \n",
       "1  0    0             0      1     0      0    0     0          0         0   \n",
       "2  0    0             0      0     0      0    0     0          0         0   \n",
       "3  0    0             0      0     0      0    0     0          0         0   \n",
       "4  0    0             0      0     0      0    0     0          0         0   \n",
       "\n",
       "         ...         team venezuelan intelligence outline with hoax christmas  \\\n",
       "0        ...            0          0            0       0    0    0         0   \n",
       "1        ...            0          0            0       0    0    0         0   \n",
       "2        ...            0          0            0       0    1    0         0   \n",
       "3        ...            0          0            0       0    1    0         0   \n",
       "4        ...            0          0            0       0    0    0         0   \n",
       "\n",
       "  bush                                      text_sentence        text_source  \n",
       "0    0  (...., This, will, be, remembered, as, one, of...  (realDonaldTrump)  \n",
       "1    0  (Senate, Democrats, just, voted, against, legi...  (realDonaldTrump)  \n",
       "2    0  (If, a, deal, is, made, with, China, ,, our, g...  (realDonaldTrump)  \n",
       "3    0  (Heading, over, to, Vietnam, for, my, meeting,...  (realDonaldTrump)  \n",
       "4    0  (China, Trade, Deal, (, and, more, ), in, adva...  (realDonaldTrump)  \n",
       "\n",
       "[5 rows x 1016 columns]"
      ]
     },
     "execution_count": 14,
     "metadata": {},
     "output_type": "execute_result"
    }
   ],
   "source": [
    "df = bow_features(all_tweets_nlp, bow)\n",
    "df.head()"
   ]
  },
  {
   "cell_type": "markdown",
   "metadata": {},
   "source": [
    "# Supervised Learning"
   ]
  },
  {
   "cell_type": "markdown",
   "metadata": {},
   "source": [
    "We can now use all the supervised learning models for classification since we have input variables and labels both"
   ]
  },
  {
   "cell_type": "markdown",
   "metadata": {},
   "source": [
    "# Random Forest"
   ]
  },
  {
   "cell_type": "code",
   "execution_count": 50,
   "metadata": {},
   "outputs": [
    {
     "name": "stderr",
     "output_type": "stream",
     "text": [
      "C:\\Users\\ankush\\Anaconda3\\lib\\site-packages\\sklearn\\ensemble\\forest.py:246: FutureWarning: The default value of n_estimators will change from 10 in version 0.20 to 100 in 0.22.\n",
      "  \"10 in version 0.20 to 100 in 0.22.\", FutureWarning)\n"
     ]
    },
    {
     "name": "stdout",
     "output_type": "stream",
     "text": [
      "Training set score: 0.9966666666666667\n",
      "\n",
      "Test set score: 0.884\n"
     ]
    }
   ],
   "source": [
    "from sklearn import ensemble\n",
    "from sklearn.model_selection import train_test_split\n",
    "\n",
    "rfc = ensemble.RandomForestClassifier()\n",
    "X = np.array(df.drop(['text_sentence', 'text_source'],1))\n",
    "\n",
    "#y needs to be str or int, cannot be spacy doc, so convert here\n",
    "Y = df['text_source'].apply(lambda x: str(x))\n",
    "\n",
    "X_train, X_test, y_train, y_test = train_test_split(X, \n",
    "                                                    Y,\n",
    "                                                    test_size=0.4,\n",
    "                                                    random_state=0)\n",
    "train = rfc.fit(X_train, y_train)\n",
    "y_pred = rfc.predict(X_train)\n",
    "\n",
    "\n",
    "\n",
    "print('Training set score:', rfc.score(X_train, y_train))\n",
    "print('\\nTest set score:', rfc.score(X_test, y_test))"
   ]
  },
  {
   "cell_type": "markdown",
   "metadata": {},
   "source": [
    "Wow, looks like there is overfitting in training and test data both.This might have been because of high number of features.It is suspectable to random noise which we can oberserve by looking at overfitting.Random forest/Decision tree doesnot perform well with huge number of features as above.Using Gridsearch cv will not really help here either.So, we should ignore this model"
   ]
  },
  {
   "cell_type": "code",
   "execution_count": 19,
   "metadata": {},
   "outputs": [
    {
     "name": "stderr",
     "output_type": "stream",
     "text": [
      "C:\\Users\\ankush\\Anaconda3\\lib\\site-packages\\sklearn\\linear_model\\logistic.py:433: FutureWarning: Default solver will be changed to 'lbfgs' in 0.22. Specify a solver to silence this warning.\n",
      "  FutureWarning)\n",
      "C:\\Users\\ankush\\Anaconda3\\lib\\site-packages\\sklearn\\linear_model\\logistic.py:460: FutureWarning: Default multi_class will be changed to 'auto' in 0.22. Specify the multi_class option to silence this warning.\n",
      "  \"this warning.\", FutureWarning)\n"
     ]
    },
    {
     "name": "stdout",
     "output_type": "stream",
     "text": [
      "Training set score: 1.0\n",
      "\n",
      "Test set score: 0.918\n"
     ]
    }
   ],
   "source": [
    "lr = LogisticRegression(C=1e9)\n",
    "lr.fit(X_train, y_train)\n",
    "print('Training set score:', lr.score(X_train, y_train))\n",
    "print('\\nTest set score:', lr.score(X_test, y_test))"
   ]
  },
  {
   "cell_type": "markdown",
   "metadata": {},
   "source": [
    "Same has happend for Logisic Regression,lot of overfitting."
   ]
  },
  {
   "cell_type": "code",
   "execution_count": 20,
   "metadata": {},
   "outputs": [
    {
     "name": "stdout",
     "output_type": "stream",
     "text": [
      "Training set score: 0.9246666666666666\n",
      "\n",
      "Test set score: 0.693\n"
     ]
    }
   ],
   "source": [
    "#KNN\n",
    "knn_model = KNeighborsClassifier(n_neighbors=2)\n",
    "knn_model.fit(X_train, y_train)\n",
    "y_pred_knn = knn_model.predict(X_train)\n",
    "print('Training set score:', knn_model.score(X_train, y_train))\n",
    "print('\\nTest set score:', knn_model.score(X_test, y_test))"
   ]
  },
  {
   "cell_type": "markdown",
   "metadata": {},
   "source": [
    "KNN has peformed better then random forest and Logistic Regression.The reason being  that it is robust to random noise which we can observe looking at the dataset.Also, this model performs better for large dataset which is applicable to this dataset.We need to play around with number of neighbours to get the best accuracy.In this case, if we increase the neighbours, accuracy will decrease.The reason being the huge amount of data in the dataset which is affecting the accuracy.Here Gridsearchcv might have helped but its takes too much time to get the best parameters so I ignored it for now."
   ]
  },
  {
   "cell_type": "markdown",
   "metadata": {},
   "source": [
    "# Cross Validation Score"
   ]
  },
  {
   "cell_type": "code",
   "execution_count": 21,
   "metadata": {},
   "outputs": [
    {
     "name": "stdout",
     "output_type": "stream",
     "text": [
      "Training data accuracy :  [0.61437908 0.64900662 0.67333333 0.63333333 0.57333333 0.56666667\n",
      " 0.59333333 0.62416107 0.63758389 0.59459459]\n",
      "Testing data accuracy :  [0.64705882 0.4950495  0.55445545 0.41       0.54       0.49\n",
      " 0.47       0.59       0.54545455 0.5257732 ]\n"
     ]
    }
   ],
   "source": [
    "from sklearn.model_selection import cross_val_score\n",
    "print(\"Training data accuracy : \",cross_val_score(knn_model, X_train, y_train, cv=10))\n",
    "print(\"Testing data accuracy : \",cross_val_score(knn_model, X_test, y_test, cv=10))"
   ]
  },
  {
   "cell_type": "markdown",
   "metadata": {},
   "source": [
    "# Confusion Matrix"
   ]
  },
  {
   "cell_type": "code",
   "execution_count": 22,
   "metadata": {},
   "outputs": [
    {
     "name": "stdout",
     "output_type": "stream",
     "text": [
      "[[299   0   0   0   0]\n",
      " [ 13 279   0   0   0]\n",
      " [ 15  16 260   0   0]\n",
      " [  9  15  11 276   0]\n",
      " [  9  11   5   9 273]]\n",
      "Accuracy Score: 0.9246666666666666\n"
     ]
    }
   ],
   "source": [
    "#Confusion Matrix\n",
    "from sklearn.metrics import confusion_matrix\n",
    "from sklearn.metrics import accuracy_score\n",
    "print(confusion_matrix(y_train, y_pred_knn))\n",
    "print('Accuracy Score:',accuracy_score(y_train, y_pred_knn))"
   ]
  },
  {
   "cell_type": "markdown",
   "metadata": {},
   "source": [
    "# Classification Report"
   ]
  },
  {
   "cell_type": "code",
   "execution_count": 23,
   "metadata": {},
   "outputs": [
    {
     "name": "stdout",
     "output_type": "stream",
     "text": [
      "Classification Report :                  precision    recall  f1-score   support\n",
      "\n",
      "    BarackObama       0.87      1.00      0.93       299\n",
      " HillaryClinton       0.87      0.96      0.91       292\n",
      "  MikeBloomberg       0.94      0.89      0.92       291\n",
      "     SenSanders       0.97      0.89      0.93       311\n",
      "realDonaldTrump       1.00      0.89      0.94       307\n",
      "\n",
      "      micro avg       0.92      0.92      0.92      1500\n",
      "      macro avg       0.93      0.93      0.92      1500\n",
      "   weighted avg       0.93      0.92      0.92      1500\n",
      "\n"
     ]
    }
   ],
   "source": [
    "#Classification Report\n",
    "from sklearn.metrics import classification_report\n",
    "print(\"Classification Report :\",classification_report(y_train, y_pred_knn))"
   ]
  },
  {
   "cell_type": "code",
   "execution_count": 47,
   "metadata": {},
   "outputs": [
    {
     "data": {
      "text/plain": [
       "<matplotlib.axes._subplots.AxesSubplot at 0x23f006b8400>"
      ]
     },
     "execution_count": 47,
     "metadata": {},
     "output_type": "execute_result"
    },
    {
     "data": {
      "image/png": "[encoded data removed]",
      "text/plain": [
       "<Figure size 1080x504 with 2 Axes>"
      ]
     },
     "metadata": {
      "needs_background": "light"
     },
     "output_type": "display_data"
    }
   ],
   "source": [
    "conf = confusion_matrix(y_train, y_pred_knn, labels = handles)\n",
    "\n",
    "df_cm = pd.DataFrame(conf, index = [i for i in handles],\n",
    "                  columns = [i for i in handles])\n",
    "plt.figure(figsize = (15,7))\n",
    "sns.heatmap(df_cm, annot=True, cmap=\"Blues\", fmt = 'd')"
   ]
  },
  {
   "cell_type": "markdown",
   "metadata": {},
   "source": [
    "The accuracies for cross validation,confusion matrix, classification report look good.These are good numbers keeping in mind, all the labels have good accuracy.Labels for barack obama and donald trump have little overfitting but overall its performed well.The overfitting is very less if we see the confusion matrix above for the labels.Thats make it a good model to apply.Also, we were not able to AUC since its appliaction is limited to  binary labels"
   ]
  },
  {
   "cell_type": "markdown",
   "metadata": {},
   "source": [
    "Now, lets use unsupervised learning since we have learned a fair amount of that.Lets apply that to this dataset and see how it behaves to this dataset"
   ]
  },
  {
   "cell_type": "markdown",
   "metadata": {},
   "source": [
    "# Unsupervised Learning"
   ]
  },
  {
   "cell_type": "markdown",
   "metadata": {},
   "source": [
    "Lets do k means cluster and check how it peformed with the dataset.First we will take value using tfidfvectoizer and convert into tokens and classify the data per cluster"
   ]
  },
  {
   "cell_type": "markdown",
   "metadata": {},
   "source": [
    "### Tf-idf Model"
   ]
  },
  {
   "cell_type": "code",
   "execution_count": 74,
   "metadata": {},
   "outputs": [
    {
     "name": "stdout",
     "output_type": "stream",
     "text": [
      "(1875, 3610)\n",
      "Training set score: 0.9978666666666667\n",
      "\n",
      "Test set score: 0.9552\n"
     ]
    }
   ],
   "source": [
    "\n",
    "#Try TF-IDF to see if we can increase prediction accuracy. Also experiment by increasing the minimum document frequency \n",
    "#to reduce the feature space...\n",
    "\n",
    "X_train, X_test, y_train, y_test = train_test_split(tweet_df['Tweets'], tweet_df['Author'], test_size = 0.25, random_state = 42)\n",
    "\n",
    "vector = TfidfVectorizer(max_df=0.5, # drop words that occur in more than half the tweets\n",
    "                             min_df=2, # only use words that appear at least 2x\n",
    "                             stop_words='english', \n",
    "                             lowercase=True, #convert everything to lower case \n",
    "                             use_idf=True,\n",
    "                             norm=u'l2', #Applies a correction factor so that longer paragraphs and shorter tweets get treated equally\n",
    "                             smooth_idf=True #Adds 1 to all document frequencies, as if an extra document existed that used every word once.  Prevents divide-by-zero errors\n",
    "                            )\n",
    "\n",
    "X_train_tfidf = vector.fit_transform(X_train)\n",
    "X_test_tfidf = vector.transform(X_test)\n",
    "\n",
    "fit = rfc.fit(X_train_tfidf, y_train)\n",
    "y_pred = rfc.predict(X_test_tfidf)\n",
    "print (X_train_tfidf.shape)\n",
    "print('Training set score:', rfc.score(X_train_tfidf, y_train))\n",
    "print('\\nTest set score:', rfc.score(X_test_tfidf, y_test))\n"
   ]
  },
  {
   "cell_type": "markdown",
   "metadata": {},
   "source": [
    "# K means clustering"
   ]
  },
  {
   "cell_type": "code",
   "execution_count": 108,
   "metadata": {},
   "outputs": [
    {
     "name": "stdout",
     "output_type": "stream",
     "text": [
      "Clustering sparse data with KMeans(algorithm='auto', copy_x=True, init='k-means++', max_iter=300,\n",
      "    n_clusters=5, n_init=10, n_jobs=None, precompute_distances='auto',\n",
      "    random_state=42, tol=0.0001, verbose=0)\n",
      "\n",
      "Homogeneity: 0.033\n",
      "Completeness: 0.040\n",
      "V-measure: 0.036\n",
      "Adjusted Rand-Index: 0.017\n",
      "Silhouette Coefficient: 0.005\n"
     ]
    },
    {
     "data": {
      "text/plain": [
       "(2500,)"
      ]
     },
     "execution_count": 108,
     "metadata": {},
     "output_type": "execute_result"
    }
   ],
   "source": [
    "#Let's keep our data in high dimensional form first, to see what (if any) insights we can gain from clustering.\n",
    "\n",
    "#Try K-Means MiniBatch (K-Means is very resource intensive for high dimnesional data) and assume 10 clusters to begin with\n",
    "\n",
    "#Create normalized version of full dataset (we don't need to reserve any for training, we just want to cluster for now)\n",
    "\n",
    "#Normalize the data to the unit vector. Should we normalize by row or column? Normalize by row - gives a better representation of tweet composition. Likely more meaningful than the relative freq magnitude\n",
    "#of each word relative to that word's frequencies in all tweets\n",
    "\n",
    "X = tweet_df['Tweets']\n",
    "X_norm_tfidf = normalize(vector.fit_transform(X))\n",
    "\n",
    "true_k = 5\n",
    "labels_class = Y\n",
    "km = KMeans(n_clusters=5,init='k-means++',random_state=42)\n",
    "y_pred=KMeans(n_clusters=5, random_state=42).fit_predict(X_norm_tfidf)\n",
    "print(\"Clustering sparse data with %s\" % km)\n",
    "t0 = time()\n",
    "km.fit(X_norm_tfidf)\n",
    "labels = km.labels_\n",
    "print()\n",
    "print(\"Homogeneity: %0.3f\" % metrics.homogeneity_score(labels_class, km.labels_))\n",
    "print(\"Completeness: %0.3f\" % metrics.completeness_score(labels_class, km.labels_))\n",
    "print(\"V-measure: %0.3f\" % metrics.v_measure_score(labels_class, km.labels_))\n",
    "# Normalize the data.\n",
    "\n",
    "\n"
   ]
  },
  {
   "cell_type": "markdown",
   "metadata": {},
   "source": [
    "# Adjusted Rand Index"
   ]
  },
  {
   "cell_type": "code",
   "execution_count": 110,
   "metadata": {},
   "outputs": [
    {
     "name": "stdout",
     "output_type": "stream",
     "text": [
      "Adjusted Rand-Index: 0.017\n"
     ]
    }
   ],
   "source": [
    "print(\"Adjusted Rand-Index: %.3f\"\n",
    "      % metrics.adjusted_rand_score(labels_class, km.labels_))"
   ]
  },
  {
   "cell_type": "markdown",
   "metadata": {},
   "source": [
    "# Silhouette_score"
   ]
  },
  {
   "cell_type": "code",
   "execution_count": 111,
   "metadata": {},
   "outputs": [
    {
     "name": "stdout",
     "output_type": "stream",
     "text": [
      "Silhouette Coefficient: 0.005\n"
     ]
    }
   ],
   "source": [
    "print(\"Silhouette Coefficient: %0.3f\"\n",
    "      % metrics.silhouette_score(X_norm_tfidf, km.labels_, sample_size=5000))"
   ]
  },
  {
   "cell_type": "code",
   "execution_count": 114,
   "metadata": {},
   "outputs": [
    {
     "data": {
      "image/png": "[encoded data removed]",
      "text/plain": [
       "<Figure size 432x288 with 1 Axes>"
      ]
     },
     "metadata": {
      "needs_background": "light"
     },
     "output_type": "display_data"
    }
   ],
   "source": [
    "# Reduce it to two components.\n",
    "X_pca = TruncatedSVD(2).fit_transform(X_norm_tfidf)\n",
    "\n",
    "# Calculate predicted values.\n",
    "y_pred = KMeans(n_clusters=5, random_state=42).fit_predict(X_pca)\n",
    "\n",
    "# Plot the solution.\n",
    "plt.title(\"5 Clusters\")\n",
    "plt.scatter(X_pca[:, 0], X_pca[:, 1], c=y_pred)\n",
    "plt.show()"
   ]
  },
  {
   "cell_type": "markdown",
   "metadata": {},
   "source": [
    "Overall results are poor.It looks like there is no clear classification for all the labels and most of labels are overlapping,which is not a good sign.As you can see in the plot as well,most of the clusters are overlapping.Lets use min batch k-means.Usually it improves clustering,"
   ]
  },
  {
   "cell_type": "markdown",
   "metadata": {},
   "source": [
    "# Mini Batch KMeans"
   ]
  },
  {
   "cell_type": "code",
   "execution_count": 20,
   "metadata": {},
   "outputs": [
    {
     "name": "stdout",
     "output_type": "stream",
     "text": [
      "Clustering sparse data with KMeans(algorithm='auto', copy_x=True, init='k-means++', max_iter=300,\n",
      "    n_clusters=5, n_init=10, n_jobs=None, precompute_distances='auto',\n",
      "    random_state=42, tol=0.0001, verbose=0)\n",
      "Done in 0.250s\n",
      "\n",
      "Homogeneity: 0.032\n",
      "Completeness: 0.042\n",
      "V-measure: 0.037\n",
      "Adjusted Rand-Index: 0.014\n",
      "Silhouette Coefficient: 0.005\n"
     ]
    }
   ],
   "source": [
    "labels = Y\n",
    "kmini = MiniBatchKMeans(n_clusters=5, init='k-means++', batch_size=2000)\n",
    "\n",
    "print(\"Clustering sparse data with %s\" % km)\n",
    "t0 = time()\n",
    "kmini.fit(X_norm_tfidf)\n",
    "mini_labels = kmini.labels_\n",
    "print(\"Done in %0.3fs\" % (time() - t0))\n",
    "print()\n",
    "print(\"Homogeneity: %0.3f\" % metrics.homogeneity_score(labels, kmini.labels_))\n",
    "print(\"Completeness: %0.3f\" % metrics.completeness_score(labels, kmini.labels_))\n",
    "print(\"V-measure: %0.3f\" % metrics.v_measure_score(labels, kmini.labels_))\n",
    "print(\"Adjusted Rand-Index: %.3f\"\n",
    "      % metrics.adjusted_rand_score(labels, kmini.labels_))\n",
    "print(\"Silhouette Coefficient: %0.3f\"\n",
    "      % metrics.silhouette_score(X_norm_tfidf, kmini.labels_, sample_size=1000))"
   ]
  },
  {
   "cell_type": "code",
   "execution_count": 115,
   "metadata": {},
   "outputs": [
    {
     "data": {
      "image/png": "[encoded data removed]",
      "text/plain": [
       "<Figure size 432x288 with 1 Axes>"
      ]
     },
     "metadata": {
      "needs_background": "light"
     },
     "output_type": "display_data"
    }
   ],
   "source": [
    "# Reduce it to two components.\n",
    "X_pca = TruncatedSVD(2).fit_transform(X_norm_tfidf)\n",
    "\n",
    "# Calculate predicted values.\n",
    "y_pred = MiniBatchKMeans(n_clusters=5, init='k-means++', batch_size=2000).fit_predict(X_pca)\n",
    "\n",
    "# Plot the solution.\n",
    "plt.title(\"5 Clusters\")\n",
    "plt.scatter(X_pca[:, 0], X_pca[:, 1], c=y_pred)\n",
    "plt.show()"
   ]
  },
  {
   "cell_type": "markdown",
   "metadata": {},
   "source": [
    "As we observe above , there was no improvement after using mini batch k means"
   ]
  },
  {
   "cell_type": "code",
   "execution_count": 30,
   "metadata": {},
   "outputs": [
    {
     "name": "stdout",
     "output_type": "stream",
     "text": [
      "Cluster: 0\n",
      "                 Tweets  MiniBatchLabels\n",
      "Author                                  \n",
      "BarackObama         364              364\n",
      "HillaryClinton      320              320\n",
      "MikeBloomberg       330              330\n",
      "SenSanders          274              274\n",
      "realDonaldTrump     313              313\n",
      "Cluster: 1\n",
      "                 Tweets  MiniBatchLabels\n",
      "Author                                  \n",
      "BarackObama          45               45\n",
      "HillaryClinton       71               71\n",
      "MikeBloomberg        91               91\n",
      "SenSanders           37               37\n",
      "realDonaldTrump      94               94\n",
      "Cluster: 2\n",
      "                 Tweets  MiniBatchLabels\n",
      "Author                                  \n",
      "BarackObama          15               15\n",
      "HillaryClinton       32               32\n",
      "MikeBloomberg        29               29\n",
      "SenSanders           31               31\n",
      "realDonaldTrump      35               35\n",
      "Cluster: 3\n",
      "                 Tweets  MiniBatchLabels\n",
      "Author                                  \n",
      "BarackObama           3                3\n",
      "HillaryClinton       40               40\n",
      "MikeBloomberg         9                9\n",
      "SenSanders          133              133\n",
      "realDonaldTrump      43               43\n",
      "Cluster: 4\n",
      "                 Tweets  MiniBatchLabels\n",
      "Author                                  \n",
      "BarackObama          73               73\n",
      "HillaryClinton       37               37\n",
      "MikeBloomberg        41               41\n",
      "SenSanders           25               25\n",
      "realDonaldTrump      15               15\n"
     ]
    }
   ],
   "source": [
    "tweet_df['MiniBatchLabels'] = mini_labels\n",
    "for label in set(mini_labels):\n",
    "    print('Cluster: %d' % label)\n",
    "    print(tweet_df[tweet_df.MiniBatchLabels == label].groupby('Author').count())\n",
    "\n",
    "    "
   ]
  },
  {
   "cell_type": "markdown",
   "metadata": {},
   "source": [
    "We have to play around with  the values of number of clusters, clusters between 10 and 15 seems to produce better results than less clusters.Lets get into more details and try to check the tweets for some of the clusters"
   ]
  },
  {
   "cell_type": "code",
   "execution_count": 31,
   "metadata": {},
   "outputs": [
    {
     "data": {
      "text/html": [
       "<div>\n",
       "<style scoped>\n",
       "    .dataframe tbody tr th:only-of-type {\n",
       "        vertical-align: middle;\n",
       "    }\n",
       "\n",
       "    .dataframe tbody tr th {\n",
       "        vertical-align: top;\n",
       "    }\n",
       "\n",
       "    .dataframe thead th {\n",
       "        text-align: right;\n",
       "    }\n",
       "</style>\n",
       "<table border=\"1\" class=\"dataframe\">\n",
       "  <thead>\n",
       "    <tr style=\"text-align: right;\">\n",
       "      <th></th>\n",
       "      <th>Tweets</th>\n",
       "      <th>Author</th>\n",
       "      <th>MiniBatchLabels</th>\n",
       "    </tr>\n",
       "  </thead>\n",
       "  <tbody>\n",
       "    <tr>\n",
       "      <th>323</th>\n",
       "      <td>California has been forced to cancel the massi...</td>\n",
       "      <td>realDonaldTrump</td>\n",
       "      <td>0</td>\n",
       "    </tr>\n",
       "    <tr>\n",
       "      <th>2253</th>\n",
       "      <td>Good conversation with Mayor @Kriseman today o...</td>\n",
       "      <td>MikeBloomberg</td>\n",
       "      <td>0</td>\n",
       "    </tr>\n",
       "    <tr>\n",
       "      <th>777</th>\n",
       "      <td>Thank you, Mary Oliver, for giving so many of ...</td>\n",
       "      <td>HillaryClinton</td>\n",
       "      <td>0</td>\n",
       "    </tr>\n",
       "    <tr>\n",
       "      <th>1856</th>\n",
       "      <td>Through faith, love, and resolve the character...</td>\n",
       "      <td>BarackObama</td>\n",
       "      <td>0</td>\n",
       "    </tr>\n",
       "    <tr>\n",
       "      <th>2494</th>\n",
       "      <td>Thank you to every member of @MomsDemand in Io...</td>\n",
       "      <td>MikeBloomberg</td>\n",
       "      <td>0</td>\n",
       "    </tr>\n",
       "    <tr>\n",
       "      <th>1525</th>\n",
       "      <td>Enjoy the holiday season with the ones you lov...</td>\n",
       "      <td>BarackObama</td>\n",
       "      <td>0</td>\n",
       "    </tr>\n",
       "    <tr>\n",
       "      <th>2180</th>\n",
       "      <td>Great to see Pittsburgh Mayor @BillPeduto toda...</td>\n",
       "      <td>MikeBloomberg</td>\n",
       "      <td>0</td>\n",
       "    </tr>\n",
       "    <tr>\n",
       "      <th>1706</th>\n",
       "      <td>In the year since their friends were killed, t...</td>\n",
       "      <td>BarackObama</td>\n",
       "      <td>0</td>\n",
       "    </tr>\n",
       "    <tr>\n",
       "      <th>320</th>\n",
       "      <td>Reviewing the funding bill with my team at the...</td>\n",
       "      <td>realDonaldTrump</td>\n",
       "      <td>0</td>\n",
       "    </tr>\n",
       "    <tr>\n",
       "      <th>1141</th>\n",
       "      <td>In the year 2019, no one in America, especiall...</td>\n",
       "      <td>SenSanders</td>\n",
       "      <td>0</td>\n",
       "    </tr>\n",
       "  </tbody>\n",
       "</table>\n",
       "</div>"
      ],
      "text/plain": [
       "                                                 Tweets           Author  \\\n",
       "323   California has been forced to cancel the massi...  realDonaldTrump   \n",
       "2253  Good conversation with Mayor @Kriseman today o...    MikeBloomberg   \n",
       "777   Thank you, Mary Oliver, for giving so many of ...   HillaryClinton   \n",
       "1856  Through faith, love, and resolve the character...      BarackObama   \n",
       "2494  Thank you to every member of @MomsDemand in Io...    MikeBloomberg   \n",
       "1525  Enjoy the holiday season with the ones you lov...      BarackObama   \n",
       "2180  Great to see Pittsburgh Mayor @BillPeduto toda...    MikeBloomberg   \n",
       "1706  In the year since their friends were killed, t...      BarackObama   \n",
       "320   Reviewing the funding bill with my team at the...  realDonaldTrump   \n",
       "1141  In the year 2019, no one in America, especiall...       SenSanders   \n",
       "\n",
       "      MiniBatchLabels  \n",
       "323                 0  \n",
       "2253                0  \n",
       "777                 0  \n",
       "1856                0  \n",
       "2494                0  \n",
       "1525                0  \n",
       "2180                0  \n",
       "1706                0  \n",
       "320                 0  \n",
       "1141                0  "
      ]
     },
     "execution_count": 31,
     "metadata": {},
     "output_type": "execute_result"
    }
   ],
   "source": [
    "shuffle(tweet_df[tweet_df.MiniBatchLabels == 0]).head(10)"
   ]
  },
  {
   "cell_type": "code",
   "execution_count": 32,
   "metadata": {},
   "outputs": [
    {
     "data": {
      "text/html": [
       "<div>\n",
       "<style scoped>\n",
       "    .dataframe tbody tr th:only-of-type {\n",
       "        vertical-align: middle;\n",
       "    }\n",
       "\n",
       "    .dataframe tbody tr th {\n",
       "        vertical-align: top;\n",
       "    }\n",
       "\n",
       "    .dataframe thead th {\n",
       "        text-align: right;\n",
       "    }\n",
       "</style>\n",
       "<table border=\"1\" class=\"dataframe\">\n",
       "  <thead>\n",
       "    <tr style=\"text-align: right;\">\n",
       "      <th></th>\n",
       "      <th>Tweets</th>\n",
       "      <th>Author</th>\n",
       "      <th>MiniBatchLabels</th>\n",
       "    </tr>\n",
       "  </thead>\n",
       "  <tbody>\n",
       "    <tr>\n",
       "      <th>1205</th>\n",
       "      <td>This drug was free for patients just weeks ago...</td>\n",
       "      <td>SenSanders</td>\n",
       "      <td>2</td>\n",
       "    </tr>\n",
       "    <tr>\n",
       "      <th>288</th>\n",
       "      <td>....There is a lot of explaining to do to the ...</td>\n",
       "      <td>realDonaldTrump</td>\n",
       "      <td>2</td>\n",
       "    </tr>\n",
       "    <tr>\n",
       "      <th>2277</th>\n",
       "      <td>RT @ParisPittsburgh: As Mayors across the U.S....</td>\n",
       "      <td>MikeBloomberg</td>\n",
       "      <td>2</td>\n",
       "    </tr>\n",
       "    <tr>\n",
       "      <th>850</th>\n",
       "      <td>In less than a week, there will be a run-off i...</td>\n",
       "      <td>HillaryClinton</td>\n",
       "      <td>2</td>\n",
       "    </tr>\n",
       "    <tr>\n",
       "      <th>85</th>\n",
       "      <td>Hope you are enjoying your President’s Day, ou...</td>\n",
       "      <td>realDonaldTrump</td>\n",
       "      <td>2</td>\n",
       "    </tr>\n",
       "    <tr>\n",
       "      <th>1215</th>\n",
       "      <td>The current fight in DC is about more than a w...</td>\n",
       "      <td>SenSanders</td>\n",
       "      <td>2</td>\n",
       "    </tr>\n",
       "    <tr>\n",
       "      <th>1377</th>\n",
       "      <td>9 years ago the disastrous Citizens United dec...</td>\n",
       "      <td>SenSanders</td>\n",
       "      <td>2</td>\n",
       "    </tr>\n",
       "    <tr>\n",
       "      <th>2060</th>\n",
       "      <td>One week sums up a failing presidency. https:/...</td>\n",
       "      <td>MikeBloomberg</td>\n",
       "      <td>2</td>\n",
       "    </tr>\n",
       "    <tr>\n",
       "      <th>643</th>\n",
       "      <td>Bill and I will be traveling to Washington to ...</td>\n",
       "      <td>HillaryClinton</td>\n",
       "      <td>2</td>\n",
       "    </tr>\n",
       "    <tr>\n",
       "      <th>2033</th>\n",
       "      <td>A new poll shows that the vast majority of Ame...</td>\n",
       "      <td>MikeBloomberg</td>\n",
       "      <td>2</td>\n",
       "    </tr>\n",
       "  </tbody>\n",
       "</table>\n",
       "</div>"
      ],
      "text/plain": [
       "                                                 Tweets           Author  \\\n",
       "1205  This drug was free for patients just weeks ago...       SenSanders   \n",
       "288   ....There is a lot of explaining to do to the ...  realDonaldTrump   \n",
       "2277  RT @ParisPittsburgh: As Mayors across the U.S....    MikeBloomberg   \n",
       "850   In less than a week, there will be a run-off i...   HillaryClinton   \n",
       "85    Hope you are enjoying your President’s Day, ou...  realDonaldTrump   \n",
       "1215  The current fight in DC is about more than a w...       SenSanders   \n",
       "1377  9 years ago the disastrous Citizens United dec...       SenSanders   \n",
       "2060  One week sums up a failing presidency. https:/...    MikeBloomberg   \n",
       "643   Bill and I will be traveling to Washington to ...   HillaryClinton   \n",
       "2033  A new poll shows that the vast majority of Ame...    MikeBloomberg   \n",
       "\n",
       "      MiniBatchLabels  \n",
       "1205                2  \n",
       "288                 2  \n",
       "2277                2  \n",
       "850                 2  \n",
       "85                  2  \n",
       "1215                2  \n",
       "1377                2  \n",
       "2060                2  \n",
       "643                 2  \n",
       "2033                2  "
      ]
     },
     "execution_count": 32,
     "metadata": {},
     "output_type": "execute_result"
    }
   ],
   "source": [
    "shuffle(tweet_df[tweet_df.MiniBatchLabels == 2]).head(10)"
   ]
  },
  {
   "cell_type": "code",
   "execution_count": 36,
   "metadata": {},
   "outputs": [
    {
     "data": {
      "text/html": [
       "<div>\n",
       "<style scoped>\n",
       "    .dataframe tbody tr th:only-of-type {\n",
       "        vertical-align: middle;\n",
       "    }\n",
       "\n",
       "    .dataframe tbody tr th {\n",
       "        vertical-align: top;\n",
       "    }\n",
       "\n",
       "    .dataframe thead th {\n",
       "        text-align: right;\n",
       "    }\n",
       "</style>\n",
       "<table border=\"1\" class=\"dataframe\">\n",
       "  <thead>\n",
       "    <tr style=\"text-align: right;\">\n",
       "      <th></th>\n",
       "      <th>Tweets</th>\n",
       "      <th>Author</th>\n",
       "      <th>MiniBatchLabels</th>\n",
       "    </tr>\n",
       "  </thead>\n",
       "  <tbody>\n",
       "    <tr>\n",
       "      <th>1462</th>\n",
       "      <td>Trump's top intelligence officials, European a...</td>\n",
       "      <td>SenSanders</td>\n",
       "      <td>3</td>\n",
       "    </tr>\n",
       "    <tr>\n",
       "      <th>434</th>\n",
       "      <td>RT @GOPChairwoman: Drug trafficking at our sou...</td>\n",
       "      <td>realDonaldTrump</td>\n",
       "      <td>3</td>\n",
       "    </tr>\n",
       "    <tr>\n",
       "      <th>1390</th>\n",
       "      <td>President Trump said that \"nobody has been bet...</td>\n",
       "      <td>SenSanders</td>\n",
       "      <td>3</td>\n",
       "    </tr>\n",
       "    <tr>\n",
       "      <th>2407</th>\n",
       "      <td>Unilaterally declaring a national emergency to...</td>\n",
       "      <td>MikeBloomberg</td>\n",
       "      <td>3</td>\n",
       "    </tr>\n",
       "    <tr>\n",
       "      <th>1483</th>\n",
       "      <td>Will Trump talk about climate change in his St...</td>\n",
       "      <td>SenSanders</td>\n",
       "      <td>3</td>\n",
       "    </tr>\n",
       "    <tr>\n",
       "      <th>1469</th>\n",
       "      <td>Trump talks a lot about \"freedom.\" But people ...</td>\n",
       "      <td>SenSanders</td>\n",
       "      <td>3</td>\n",
       "    </tr>\n",
       "    <tr>\n",
       "      <th>1188</th>\n",
       "      <td>Since Trump was elected, the five richest peop...</td>\n",
       "      <td>SenSanders</td>\n",
       "      <td>3</td>\n",
       "    </tr>\n",
       "    <tr>\n",
       "      <th>1178</th>\n",
       "      <td>We have a president who is a racist.\\n\\nToday ...</td>\n",
       "      <td>SenSanders</td>\n",
       "      <td>3</td>\n",
       "    </tr>\n",
       "    <tr>\n",
       "      <th>1044</th>\n",
       "      <td>Trump gave the top 1% and large corporations $...</td>\n",
       "      <td>SenSanders</td>\n",
       "      <td>3</td>\n",
       "    </tr>\n",
       "    <tr>\n",
       "      <th>1057</th>\n",
       "      <td>Trump's demonization of Latinos is racist, it’...</td>\n",
       "      <td>SenSanders</td>\n",
       "      <td>3</td>\n",
       "    </tr>\n",
       "  </tbody>\n",
       "</table>\n",
       "</div>"
      ],
      "text/plain": [
       "                                                 Tweets           Author  \\\n",
       "1462  Trump's top intelligence officials, European a...       SenSanders   \n",
       "434   RT @GOPChairwoman: Drug trafficking at our sou...  realDonaldTrump   \n",
       "1390  President Trump said that \"nobody has been bet...       SenSanders   \n",
       "2407  Unilaterally declaring a national emergency to...    MikeBloomberg   \n",
       "1483  Will Trump talk about climate change in his St...       SenSanders   \n",
       "1469  Trump talks a lot about \"freedom.\" But people ...       SenSanders   \n",
       "1188  Since Trump was elected, the five richest peop...       SenSanders   \n",
       "1178  We have a president who is a racist.\\n\\nToday ...       SenSanders   \n",
       "1044  Trump gave the top 1% and large corporations $...       SenSanders   \n",
       "1057  Trump's demonization of Latinos is racist, it’...       SenSanders   \n",
       "\n",
       "      MiniBatchLabels  \n",
       "1462                3  \n",
       "434                 3  \n",
       "1390                3  \n",
       "2407                3  \n",
       "1483                3  \n",
       "1469                3  \n",
       "1188                3  \n",
       "1178                3  \n",
       "1044                3  \n",
       "1057                3  "
      ]
     },
     "execution_count": 36,
     "metadata": {},
     "output_type": "execute_result"
    }
   ],
   "source": [
    "shuffle(tweet_df[tweet_df.MiniBatchLabels == 3]).head(10)"
   ]
  },
  {
   "cell_type": "code",
   "execution_count": 37,
   "metadata": {},
   "outputs": [
    {
     "data": {
      "text/html": [
       "<div>\n",
       "<style scoped>\n",
       "    .dataframe tbody tr th:only-of-type {\n",
       "        vertical-align: middle;\n",
       "    }\n",
       "\n",
       "    .dataframe tbody tr th {\n",
       "        vertical-align: top;\n",
       "    }\n",
       "\n",
       "    .dataframe thead th {\n",
       "        text-align: right;\n",
       "    }\n",
       "</style>\n",
       "<table border=\"1\" class=\"dataframe\">\n",
       "  <thead>\n",
       "    <tr style=\"text-align: right;\">\n",
       "      <th></th>\n",
       "      <th>Tweets</th>\n",
       "      <th>Author</th>\n",
       "      <th>MiniBatchLabels</th>\n",
       "    </tr>\n",
       "  </thead>\n",
       "  <tbody>\n",
       "    <tr>\n",
       "      <th>290</th>\n",
       "      <td>“After two years and interviewing more than tw...</td>\n",
       "      <td>realDonaldTrump</td>\n",
       "      <td>4</td>\n",
       "    </tr>\n",
       "    <tr>\n",
       "      <th>6</th>\n",
       "      <td>...Danny’s recovery reflects the best of what ...</td>\n",
       "      <td>realDonaldTrump</td>\n",
       "      <td>4</td>\n",
       "    </tr>\n",
       "    <tr>\n",
       "      <th>1905</th>\n",
       "      <td>Happy Valentine’s Day to the extraordinarily s...</td>\n",
       "      <td>BarackObama</td>\n",
       "      <td>4</td>\n",
       "    </tr>\n",
       "    <tr>\n",
       "      <th>609</th>\n",
       "      <td>In two years, @RunforSomething has recruited 2...</td>\n",
       "      <td>HillaryClinton</td>\n",
       "      <td>4</td>\n",
       "    </tr>\n",
       "    <tr>\n",
       "      <th>90</th>\n",
       "      <td>“After two years and interviewing more than tw...</td>\n",
       "      <td>realDonaldTrump</td>\n",
       "      <td>4</td>\n",
       "    </tr>\n",
       "    <tr>\n",
       "      <th>513</th>\n",
       "      <td>Based on my work, this is a good example for u...</td>\n",
       "      <td>HillaryClinton</td>\n",
       "      <td>4</td>\n",
       "    </tr>\n",
       "    <tr>\n",
       "      <th>2248</th>\n",
       "      <td>RT @JohnFeinblatt: Quick summary of my @Newswe...</td>\n",
       "      <td>MikeBloomberg</td>\n",
       "      <td>4</td>\n",
       "    </tr>\n",
       "    <tr>\n",
       "      <th>1541</th>\n",
       "      <td>Of course, @MichelleObama’s my wife, so I’m a ...</td>\n",
       "      <td>BarackObama</td>\n",
       "      <td>4</td>\n",
       "    </tr>\n",
       "    <tr>\n",
       "      <th>1741</th>\n",
       "      <td>Of course, @MichelleObama’s my wife, so I’m a ...</td>\n",
       "      <td>BarackObama</td>\n",
       "      <td>4</td>\n",
       "    </tr>\n",
       "    <tr>\n",
       "      <th>1224</th>\n",
       "      <td>Amazon made $16.8 billion in profits over the ...</td>\n",
       "      <td>SenSanders</td>\n",
       "      <td>4</td>\n",
       "    </tr>\n",
       "  </tbody>\n",
       "</table>\n",
       "</div>"
      ],
      "text/plain": [
       "                                                 Tweets           Author  \\\n",
       "290   “After two years and interviewing more than tw...  realDonaldTrump   \n",
       "6     ...Danny’s recovery reflects the best of what ...  realDonaldTrump   \n",
       "1905  Happy Valentine’s Day to the extraordinarily s...      BarackObama   \n",
       "609   In two years, @RunforSomething has recruited 2...   HillaryClinton   \n",
       "90    “After two years and interviewing more than tw...  realDonaldTrump   \n",
       "513   Based on my work, this is a good example for u...   HillaryClinton   \n",
       "2248  RT @JohnFeinblatt: Quick summary of my @Newswe...    MikeBloomberg   \n",
       "1541  Of course, @MichelleObama’s my wife, so I’m a ...      BarackObama   \n",
       "1741  Of course, @MichelleObama’s my wife, so I’m a ...      BarackObama   \n",
       "1224  Amazon made $16.8 billion in profits over the ...       SenSanders   \n",
       "\n",
       "      MiniBatchLabels  \n",
       "290                 4  \n",
       "6                   4  \n",
       "1905                4  \n",
       "609                 4  \n",
       "90                  4  \n",
       "513                 4  \n",
       "2248                4  \n",
       "1541                4  \n",
       "1741                4  \n",
       "1224                4  "
      ]
     },
     "execution_count": 37,
     "metadata": {},
     "output_type": "execute_result"
    }
   ],
   "source": [
    "shuffle(tweet_df[tweet_df.MiniBatchLabels == 4]).head(10)"
   ]
  },
  {
   "cell_type": "markdown",
   "metadata": {},
   "source": [
    "The above shows some of the tweets with their clusters.We did this to get some idea of clusters with their tweets and the author for the tweets"
   ]
  },
  {
   "cell_type": "code",
   "execution_count": 65,
   "metadata": {},
   "outputs": [
    {
     "name": "stdout",
     "output_type": "stream",
     "text": [
      "Number of estimated clusters: 1\n"
     ]
    }
   ],
   "source": [
    "from sklearn.cluster import MeanShift, estimate_bandwidth\n",
    "\n",
    "# Here we set the bandwidth. This function automatically derives a bandwidth\n",
    "# number based on an inspection of the distances among points in the data.\n",
    "bandwidth = estimate_bandwidth(X_norm_tfidf.toarray(), quantile=0.2, n_samples=500)\n",
    "\n",
    "# Declare and fit the model.\n",
    "ms = MeanShift(bandwidth=bandwidth, bin_seeding=True)\n",
    "ms.fit(X_norm_tfidf.toarray())\n",
    "\n",
    "# Extract cluster assignments for each data point.\n",
    "labels = ms.labels_\n",
    "\n",
    "# Coordinates of the cluster centers.\n",
    "cluster_centers = ms.cluster_centers_\n",
    "\n",
    "# Count our clusters.\n",
    "n_clusters_ = len(np.unique(labels))\n",
    "\n",
    "print(\"Number of estimated clusters: {}\".format(n_clusters_))\n"
   ]
  },
  {
   "cell_type": "markdown",
   "metadata": {},
   "source": [
    "The mean-shift estimated only 1 clusters which doesn't look good, since we have 5 authors, so ideally there should have been 5 clusters.This makes sense because Mean shift makes no assumptions about the nature of the data or the number of clusters"
   ]
  },
  {
   "cell_type": "markdown",
   "metadata": {},
   "source": [
    "# BoW Feature with Supervised learning\n"
   ]
  },
  {
   "cell_type": "code",
   "execution_count": 67,
   "metadata": {},
   "outputs": [],
   "source": [
    "from sklearn.feature_extraction.text import CountVectorizer\n",
    "count_vect = CountVectorizer()"
   ]
  },
  {
   "cell_type": "code",
   "execution_count": 68,
   "metadata": {},
   "outputs": [],
   "source": [
    "train_data_bow = count_vect.fit_transform(X_train)"
   ]
  },
  {
   "cell_type": "code",
   "execution_count": 69,
   "metadata": {},
   "outputs": [
    {
     "name": "stderr",
     "output_type": "stream",
     "text": [
      "C:\\Users\\ankush\\Anaconda3\\lib\\site-packages\\sklearn\\ensemble\\forest.py:246: FutureWarning: The default value of n_estimators will change from 10 in version 0.20 to 100 in 0.22.\n",
      "  \"10 in version 0.20 to 100 in 0.22.\", FutureWarning)\n"
     ]
    },
    {
     "name": "stdout",
     "output_type": "stream",
     "text": [
      "Test Set score = 0.998 \n",
      "Training set Cross validation = [0.84350133 0.856      0.88266667 0.9171123  0.86898396]\n",
      "mean = 0.874\n",
      "col_0            BarackObama  HillaryClinton  MikeBloomberg  SenSanders  \\\n",
      "Author                                                                    \n",
      "BarackObama              359               0              0           0   \n",
      "HillaryClinton             0             389              0           0   \n",
      "MikeBloomberg              0               0            381           0   \n",
      "SenSanders                 0               0              0         373   \n",
      "realDonaldTrump            0               0              0           0   \n",
      "\n",
      "col_0            realDonaldTrump  \n",
      "Author                            \n",
      "BarackObama                    2  \n",
      "HillaryClinton                 1  \n",
      "MikeBloomberg                  0  \n",
      "SenSanders                     0  \n",
      "realDonaldTrump              370  \n"
     ]
    }
   ],
   "source": [
    "from sklearn import ensemble\n",
    "from sklearn.metrics import accuracy_score\n",
    "from sklearn.ensemble import RandomForestClassifier\n",
    "from sklearn.model_selection import cross_val_score\n",
    "\n",
    "# Random Forest Classifier\n",
    "rfc_bow1 = ensemble.RandomForestClassifier(random_state=42)\n",
    "rfc_bow1.fit(train_data_bow,y_train)\n",
    "cv_bow1 = cross_val_score(rfc_bow1, train_data_bow, y_train, cv=5)\n",
    "\n",
    "\n",
    "#Test\n",
    "y_true, y_pred = y_train, rfc_bow1.predict(train_data_bow)\n",
    "print(\"Test Set score = {:.3} \".format(accuracy_score(y_true, y_pred)))\n",
    "\n",
    "\n",
    "print(\"Training set Cross validation = {}\".format(cv_bow1))\n",
    "print(\"mean = {:.3}\".format(cv_bow1.mean()))\n",
    "print(pd.crosstab(y_true, y_pred))"
   ]
  },
  {
   "cell_type": "markdown",
   "metadata": {},
   "source": [
    "Overfitting again.The model doesnt look accuarate enough.Lets check SVC"
   ]
  },
  {
   "cell_type": "code",
   "execution_count": 70,
   "metadata": {},
   "outputs": [
    {
     "name": "stdout",
     "output_type": "stream",
     "text": [
      "Report:\n",
      "Test Set score = 0.995 \n",
      "Training set Cross validation = [0.76315789 0.83510638 0.79787234 0.81818182 0.78609626 0.80748663\n",
      " 0.81818182 0.81283422 0.86096257 0.80748663]\n",
      "mean = 0.811\n"
     ]
    },
    {
     "data": {
      "text/html": [
       "<div>\n",
       "<style scoped>\n",
       "    .dataframe tbody tr th:only-of-type {\n",
       "        vertical-align: middle;\n",
       "    }\n",
       "\n",
       "    .dataframe tbody tr th {\n",
       "        vertical-align: top;\n",
       "    }\n",
       "\n",
       "    .dataframe thead th {\n",
       "        text-align: right;\n",
       "    }\n",
       "</style>\n",
       "<table border=\"1\" class=\"dataframe\">\n",
       "  <thead>\n",
       "    <tr style=\"text-align: right;\">\n",
       "      <th>col_0</th>\n",
       "      <th>BarackObama</th>\n",
       "      <th>HillaryClinton</th>\n",
       "      <th>MikeBloomberg</th>\n",
       "      <th>SenSanders</th>\n",
       "      <th>realDonaldTrump</th>\n",
       "    </tr>\n",
       "    <tr>\n",
       "      <th>Author</th>\n",
       "      <th></th>\n",
       "      <th></th>\n",
       "      <th></th>\n",
       "      <th></th>\n",
       "      <th></th>\n",
       "    </tr>\n",
       "  </thead>\n",
       "  <tbody>\n",
       "    <tr>\n",
       "      <th>BarackObama</th>\n",
       "      <td>361</td>\n",
       "      <td>0</td>\n",
       "      <td>0</td>\n",
       "      <td>0</td>\n",
       "      <td>0</td>\n",
       "    </tr>\n",
       "    <tr>\n",
       "      <th>HillaryClinton</th>\n",
       "      <td>0</td>\n",
       "      <td>390</td>\n",
       "      <td>0</td>\n",
       "      <td>0</td>\n",
       "      <td>0</td>\n",
       "    </tr>\n",
       "    <tr>\n",
       "      <th>MikeBloomberg</th>\n",
       "      <td>1</td>\n",
       "      <td>2</td>\n",
       "      <td>378</td>\n",
       "      <td>0</td>\n",
       "      <td>0</td>\n",
       "    </tr>\n",
       "    <tr>\n",
       "      <th>SenSanders</th>\n",
       "      <td>1</td>\n",
       "      <td>2</td>\n",
       "      <td>2</td>\n",
       "      <td>368</td>\n",
       "      <td>0</td>\n",
       "    </tr>\n",
       "    <tr>\n",
       "      <th>realDonaldTrump</th>\n",
       "      <td>1</td>\n",
       "      <td>1</td>\n",
       "      <td>0</td>\n",
       "      <td>0</td>\n",
       "      <td>368</td>\n",
       "    </tr>\n",
       "  </tbody>\n",
       "</table>\n",
       "</div>"
      ],
      "text/plain": [
       "col_0            BarackObama  HillaryClinton  MikeBloomberg  SenSanders  \\\n",
       "Author                                                                    \n",
       "BarackObama              361               0              0           0   \n",
       "HillaryClinton             0             390              0           0   \n",
       "MikeBloomberg              1               2            378           0   \n",
       "SenSanders                 1               2              2         368   \n",
       "realDonaldTrump            1               1              0           0   \n",
       "\n",
       "col_0            realDonaldTrump  \n",
       "Author                            \n",
       "BarackObama                    0  \n",
       "HillaryClinton                 0  \n",
       "MikeBloomberg                  0  \n",
       "SenSanders                     0  \n",
       "realDonaldTrump              368  "
      ]
     },
     "execution_count": 70,
     "metadata": {},
     "output_type": "execute_result"
    }
   ],
   "source": [
    "\n",
    "from sklearn.metrics import confusion_matrix\n",
    "\n",
    "\n",
    "knn_model_bow = KNeighborsClassifier(n_neighbors=2)\n",
    "knn_model_bow.fit(train_data_bow,y_train)\n",
    "knn_model_cv = cross_val_score(knn_model_bow, train_data_bow, y_train, cv=10)\n",
    "\n",
    "\n",
    "print(\"Report:\")\n",
    "y_true, y_pred = y_train, knn_model_bow.predict(train_data_bow)\n",
    "#print(classification_report(y_true, y_pred))\n",
    "\n",
    "print(\"Test Set score = {:.3} \".format(accuracy_score(y_true, y_pred)))\n",
    "\n",
    "\n",
    "print(\"Training set Cross validation = {}\".format(knn_model_cv))\n",
    "print(\"mean = {:.3}\".format(knn_model_cv.mean()))\n",
    "pd.crosstab(y_true, y_pred)"
   ]
  },
  {
   "cell_type": "markdown",
   "metadata": {},
   "source": [
    "The above looks to be better than any other models.There looks to be some overfitting but cross validation is better than other models.Mean value is better as well.Over all ,I am happy with this since it is performing better "
   ]
  },
  {
   "cell_type": "markdown",
   "metadata": {},
   "source": [
    "# Latent Semantic Analysis with Unsupervised Learning\n"
   ]
  },
  {
   "cell_type": "markdown",
   "metadata": {},
   "source": [
    "Let's use Latent Semantic Analysis to reduce the tf-idf into a lower dimensional space. This is similar to Principal Component Analysis (PCA), where we reduce the number of rows and combine them into new dimensions."
   ]
  },
  {
   "cell_type": "code",
   "execution_count": 75,
   "metadata": {
    "scrolled": false
   },
   "outputs": [
    {
     "name": "stdout",
     "output_type": "stream",
     "text": [
      "Percent variance captured by all components: 92.27307314740221\n",
      "Component 0:\n",
      "Tweets\n",
      "RT @IndivisibleTeam: Trump just declared a #FAKENationalEmergency at the border. Trump is going around Congress, the will of the people, &amp;…    0.319656\n",
      "RT @IndivisibleTeam: Trump just declared a #FAKENationalEmergency at the border. Trump is going around Congress, the will of the people, &amp;…    0.319656\n",
      "RT @IndivisibleTeam: Trump just declared a #FAKENationalEmergency at the border. Trump is going around Congress, the will of the people, &amp;…    0.319656\n",
      "The Bloomberg American Cities Climate Challenge supports new ideas for fighting climate change &amp; strong mayors who… https://t.co/eG9jKdjyqt    0.289355\n",
      "The Bloomberg American Cities Climate Challenge supports new ideas for fighting climate change &amp; strong mayors who… https://t.co/eG9jKdjyqt    0.289355\n",
      "The Bloomberg American Cities Climate Challenge supports new ideas for fighting climate change &amp; strong mayors who… https://t.co/eG9jKdjyqt    0.289355\n",
      "Will Trump talk about climate change in his State of the Union address tonight?                                                                    0.289232\n",
      "RT @cspan: .@SenSanders: \"I think the time is long overdue for the American people to tell this president he is not a dictator, he is not a…       0.285499\n",
      "RT @WhiteHouse: President Trump Speaks on the National Security &amp; Humanitarian Crisis on Our Southern Border https://t.co/FqdfFORbv5           0.284926\n",
      "RT @WhiteHouse: President Trump Speaks on the National Security &amp; Humanitarian Crisis on Our Southern Border https://t.co/FqdfFORbv5           0.284926\n",
      "Name: 0, dtype: float64\n",
      "Component 1:\n",
      "Tweets\n",
      "The Bloomberg American Cities Climate Challenge supports new ideas for fighting climate change &amp; strong mayors who… https://t.co/eG9jKdjyqt    0.526774\n",
      "The Bloomberg American Cities Climate Challenge supports new ideas for fighting climate change &amp; strong mayors who… https://t.co/eG9jKdjyqt    0.526774\n",
      "The Bloomberg American Cities Climate Challenge supports new ideas for fighting climate change &amp; strong mayors who… https://t.co/eG9jKdjyqt    0.526774\n",
      "Glad to announce four new winning cities to the Bloomberg American Cities Climate Challenge: @LACity, Portland,… https://t.co/XssbEkx2uj           0.474620\n",
      "Congratulations to @StPeteFL, the 20th winner in the Bloomberg American Cities Climate Challenge. Cities are more i… https://t.co/ZAQ8jkxKgO       0.444018\n",
      "Congratulations to @StPeteFL, the 20th winner in the Bloomberg American Cities Climate Challenge. Cities are more i… https://t.co/ZAQ8jkxKgO       0.444018\n",
      "Congratulations to @StPeteFL, the 20th winner in the Bloomberg American Cities Climate Challenge. Cities are more i… https://t.co/ZAQ8jkxKgO       0.444018\n",
      "RT @AmericasPledge: As a winner of @BloombergDotOrg’s American Cities Climate Challenge, @CityofSanDiego is taking big steps to act on clim…       0.392643\n",
      "Congratulations to @CLTMayor and @CLTgov, the most recent winner in the Bloomberg American Cities Climate Challenge… https://t.co/w6Hi8nbdPQ       0.379589\n",
      "Congratulations to @CLTMayor and @CLTgov, the most recent winner in the Bloomberg American Cities Climate Challenge… https://t.co/w6Hi8nbdPQ       0.379589\n",
      "Name: 1, dtype: float64\n",
      "Component 2:\n",
      "Tweets\n",
      "Will Trump talk about climate change in his State of the Union address tonight?                                                                 0.392971\n",
      "President Trump. Do not shut down the government again. Another Trump shutdown would be not only harmful to our fed… https://t.co/YZLans00BY    0.312836\n",
      "President Trump. Do not shut down the government again. Another Trump shutdown would be not only harmful to our fed… https://t.co/YZLans00BY    0.312836\n",
      "RT @WhiteHouse: President Trump Speaks on the National Security &amp; Humanitarian Crisis on Our Southern Border https://t.co/FqdfFORbv5        0.281555\n",
      "RT @WhiteHouse: President Trump Speaks on the National Security &amp; Humanitarian Crisis on Our Southern Border https://t.co/FqdfFORbv5        0.281555\n",
      "My response to President Trump’s State of the Union address: https://t.co/sl1OEu6NR8                                                            0.278223\n",
      "My response to President Trump’s State of the Union address: https://t.co/sl1OEu6NR8                                                            0.278223\n",
      "My response to President Trump’s State of the Union address: https://t.co/sl1OEu6NR8                                                            0.278223\n",
      "If Trump were serious about protecting our national security, he would recognize that climate change is not a \"hoax… https://t.co/2WQv4Iq8uV    0.273114\n",
      "If Trump were serious about protecting our national security, he would recognize that climate change is not a \"hoax… https://t.co/2WQv4Iq8uV    0.273114\n",
      "Name: 2, dtype: float64\n",
      "Component 3:\n",
      "Tweets\n",
      "Young people all over the world are demanding action on climate change, like @GretaThunberg, who had the courage to… https://t.co/z37OorE7V7    0.276741\n",
      "Young people all over the world are demanding action on climate change, like @GretaThunberg, who had the courage to… https://t.co/z37OorE7V7    0.276741\n",
      "There's nothing to be scared of when searching for health insurance. Three in four people can #GetCovered for less… https://t.co/BUmnRO9B3E     0.250629\n",
      "Mandela Day is about taking action to change the world for the better. In these young people, I see Madiba's exampl… https://t.co/iT1v545C2L    0.248024\n",
      "Mandela Day is about taking action to change the world for the better. In these young people, I see Madiba's exampl… https://t.co/iT1v545C2L    0.248024\n",
      "Mandela Day is about taking action to change the world for the better. In these young people, I see Madiba's exampl… https://t.co/iT1v545C2L    0.248024\n",
      "Our future depends on all our young people, including our boys and young men of color, being able to achieve their… https://t.co/TaRXBwtm9v     0.246052\n",
      "Our future depends on all our young people, including our boys and young men of color, being able to achieve their… https://t.co/TaRXBwtm9v     0.246052\n",
      "Our future depends on all our young people, including our boys and young men of color, being able to achieve their… https://t.co/TaRXBwtm9v     0.246052\n",
      "Trump talks a lot about \"freedom.\" But people are not truly free when they have no health care or can't afford to f… https://t.co/vaHmGOqcBJ    0.244121\n",
      "Name: 3, dtype: float64\n",
      "Component 4:\n",
      "Tweets\n",
      "Elections matter. You have the power to protect a family’s health care. Make a plan, grab some friends, and vote: https://t.co/rY8Ip1km9p       0.462878\n",
      "As a nation we have a choice: are we going to join every other major country and make health care a right? Or will… https://t.co/qR4xz4RxAG     0.425854\n",
      "As a nation we have a choice: are we going to join every other major country and make health care a right? Or will… https://t.co/qR4xz4RxAG     0.425854\n",
      "Now copy my plan on health care, a fairer tax system, and voting rights. https://t.co/AGyA6ZHl1R https://t.co/OuFklznJgf                        0.419230\n",
      "Thanks to #Obamacare, quality health care is available to everyone. The marketplace is now open—make sure you and y… https://t.co/89gl6pzMGD    0.403675\n",
      "Thanks to #Obamacare, quality health care is available to everyone. The marketplace is now open—make sure you and y… https://t.co/89gl6pzMGD    0.403675\n",
      "Your vote can decide the health care of millions. Your voice can determine the character of our country. You have p… https://t.co/ou6DL1g1b6    0.372260\n",
      "Your vote can decide the health care of millions. Your voice can determine the character of our country. You have p… https://t.co/ou6DL1g1b6    0.372260\n",
      "Our health care system today essentially says that if you happen to be poor, you are less deserving of getting care… https://t.co/dx0TX3EuIt    0.362225\n",
      "Speak up in support of quality, affordable health care for all. https://t.co/rGsSguMxvj                                                         0.351236\n",
      "Name: 4, dtype: float64\n",
      "Component 5:\n",
      "Tweets\n",
      "Thank you to the @MomsDemand candidates and volunteers here today in New Hampshire – with their dedication, this No… https://t.co/cF2ybo98p8    0.305428\n",
      "Thank you to all the @MomsDemand members here in Florida – through your hard work, we have turned the gun safety mo… https://t.co/us7TyDYhKE    0.295544\n",
      "Thank you to all the @MomsDemand members here in Florida – through your hard work, we have turned the gun safety mo… https://t.co/us7TyDYhKE    0.295544\n",
      "Thank you to every @MomsDemand volunteer here in North Carolina for your leadership. State by state, we’re making p… https://t.co/ZV1Pq9YR0f    0.292073\n",
      "Thank you to every @MomsDemand volunteer here in North Carolina for your leadership. State by state, we’re making p… https://t.co/ZV1Pq9YR0f    0.292073\n",
      "Thank you to every @MomsDemand volunteer here in North Carolina for your leadership. State by state, we’re making p… https://t.co/ZV1Pq9YR0f    0.292073\n",
      "This National Gun Violence Awareness Day, show your commitment to keeping our kids safe from gun violence. Then, fo… https://t.co/Nr5qxK8sgu    0.288318\n",
      "This National Gun Violence Awareness Day, show your commitment to keeping our kids safe from gun violence. Then, fo… https://t.co/Nr5qxK8sgu    0.288318\n",
      "This National Gun Violence Awareness Day, show your commitment to keeping our kids safe from gun violence. Then, fo… https://t.co/Nr5qxK8sgu    0.288318\n",
      "We will always remember everyone we lost on 9/11, thank the first responders who keep us safe, and honor all who de… https://t.co/ku270JQnwl    0.280244\n"
     ]
    },
    {
     "name": "stdout",
     "output_type": "stream",
     "text": [
      "Name: 5, dtype: float64\n",
      "Component 6:\n",
      "Tweets\n",
      "This National Gun Violence Awareness Day, show your commitment to keeping our kids safe from gun violence. Then, fo… https://t.co/Nr5qxK8sgu        0.392728\n",
      "This National Gun Violence Awareness Day, show your commitment to keeping our kids safe from gun violence. Then, fo… https://t.co/Nr5qxK8sgu        0.392728\n",
      "This National Gun Violence Awareness Day, show your commitment to keeping our kids safe from gun violence. Then, fo… https://t.co/Nr5qxK8sgu        0.392728\n",
      "On this National Gun Violence Awareness Day, let your voice be heard and show your commitment to reducing gun viole… https://t.co/S7dth6Ywb0        0.333225\n",
      "On this National Gun Violence Awareness Day, let your voice be heard and show your commitment to reducing gun viole… https://t.co/S7dth6Ywb0        0.333225\n",
      "I’ve been involved in the gun safety movement for many years &amp; I’m glad to say I've never seen more energy behind t… https://t.co/hJyPHHmonM    0.294543\n",
      "I’ve been involved in the gun safety movement for many years &amp; I’m glad to say I've never seen more energy behind t… https://t.co/hJyPHHmonM    0.294543\n",
      "I’ve been involved in the gun safety movement for many years &amp; I’m glad to say I've never seen more energy behind t… https://t.co/hJyPHHmonM    0.294543\n",
      "Last night showed the strength of the gun violence prevention movement with 150+ gun-sense candidates winning their… https://t.co/jX5cUAqR94        0.283913\n",
      "The real national emergencies:\\n\\n- Relentless gun violence. \\n- Children separated from their families at the border.… https://t.co/6tkFI9kBQ5     0.276788\n",
      "Name: 6, dtype: float64\n",
      "Component 7:\n",
      "Tweets\n",
      "Senator Richard Burr, The Chairman of the Senate Intelligence Committee, just announced that after almost two years… https://t.co/fLozxVZoq7    0.361894\n",
      "Highly respected Senator Richard Burr, Chairman of Senate Intelligence, said today that, after an almost two year i… https://t.co/JXnRAMYuuE    0.328092\n",
      "Highly respected Senator Richard Burr, Chairman of Senate Intelligence, said today that, after an almost two year i… https://t.co/JXnRAMYuuE    0.328092\n",
      "The Senate Intelligence Committee: THERE IS NO EVIDENCE OF COLLUSION BETWEEN THE TRUMP CAMPAIGN AND RUSSIA!                                     0.266422\n",
      "The Senate Intelligence Committee: THERE IS NO EVIDENCE OF COLLUSION BETWEEN THE TRUMP CAMPAIGN AND RUSSIA!                                     0.266422\n",
      "Highly respected Senator Richard Burr, head of Senate Intelligence, said, after interviewing over 200 witnesses and… https://t.co/So0qm3SrYv    0.258628\n",
      "Highly respected Senator Richard Burr, head of Senate Intelligence, said, after interviewing over 200 witnesses and… https://t.co/So0qm3SrYv    0.258628\n",
      "Not only did Senator Burr’s Committee find No Collusion by the Trump Campaign and Russia, it’s important because th… https://t.co/wIZACy18z3    0.240871\n",
      "Not only did Senator Burr’s Committee find No Collusion by the Trump Campaign and Russia, it’s important because th… https://t.co/wIZACy18z3    0.240871\n",
      "There is far more ENERGY on the Right than there is on the Left. That’s why we just won the Senate and why we will… https://t.co/qkKn4tSvlN     0.215261\n",
      "Name: 7, dtype: float64\n",
      "Component 8:\n",
      "Tweets\n",
      "Happy Valentine’s Day, @michelleobama! Almost 28 years with you, but it always feels new. https://t.co/O0UhJWoqGN                               0.331509\n",
      "Happy Valentine’s Day, @MichelleObama. You make every day and every place better. https://t.co/aWvyytR7Mm                                       0.308948\n",
      "Happy Valentine’s Day, @MichelleObama. You make every day and every place better. https://t.co/aWvyytR7Mm                                       0.308948\n",
      "Georgians have the power on Dec. 4 to help make elections in their state are free and fair again. Make sure your fr… https://t.co/i1Zutb1KbN    0.246545\n",
      "Georgians have the power on Dec. 4 to help make elections in their state are free and fair again. Make sure your fr… https://t.co/i1Zutb1KbN    0.246545\n",
      "Happy Anniversary, @MichelleObama. For 26 years, you’ve been an extraordinary partner, someone who can always make… https://t.co/csomlGbL1B     0.234421\n",
      "Happy Anniversary, @MichelleObama. For 26 years, you’ve been an extraordinary partner, someone who can always make… https://t.co/csomlGbL1B     0.234421\n",
      "Forty-six years after Roe v. Wade, we reaffirm what will always be true: Women have an unalienable right to make th… https://t.co/7AnNlUncz1    0.224889\n",
      "Forty-six years after Roe v. Wade, we reaffirm what will always be true: Women have an unalienable right to make th… https://t.co/7AnNlUncz1    0.224889\n",
      "Forty-six years after Roe v. Wade, we reaffirm what will always be true: Women have an unalienable right to make th… https://t.co/7AnNlUncz1    0.224889\n",
      "Name: 8, dtype: float64\n",
      "Component 9:\n",
      "Tweets\n",
      "Senator Richard Burr, The Chairman of the Senate Intelligence Committee, just announced that after almost two years… https://t.co/fLozxVZoq7    0.397542\n",
      "RT @realDonaldTrump: Highly respected Senator Richard Burr, head of Senate Intelligence, said, after interviewing over 200 witnesses and st…    0.360462\n",
      "Highly respected Senator Richard Burr, head of Senate Intelligence, said, after interviewing over 200 witnesses and… https://t.co/So0qm3SrYv    0.348761\n",
      "Highly respected Senator Richard Burr, head of Senate Intelligence, said, after interviewing over 200 witnesses and… https://t.co/So0qm3SrYv    0.348761\n",
      "Highly respected Senator Richard Burr, Chairman of Senate Intelligence, said today that, after an almost two year i… https://t.co/JXnRAMYuuE    0.330097\n",
      "Highly respected Senator Richard Burr, Chairman of Senate Intelligence, said today that, after an almost two year i… https://t.co/JXnRAMYuuE    0.330097\n",
      "The Senate Intelligence Committee: THERE IS NO EVIDENCE OF COLLUSION BETWEEN THE TRUMP CAMPAIGN AND RUSSIA!                                     0.329951\n",
      "The Senate Intelligence Committee: THERE IS NO EVIDENCE OF COLLUSION BETWEEN THE TRUMP CAMPAIGN AND RUSSIA!                                     0.329951\n",
      "RT @seanhannity: TRUMP: “Not only did Senator Burr’s Committee find No Collusion by the Trump Campaign and Russia, it’s important because t…    0.286711\n",
      "Not only did Senator Burr’s Committee find No Collusion by the Trump Campaign and Russia, it’s important because th… https://t.co/wIZACy18z3    0.268239\n",
      "Name: 9, dtype: float64\n"
     ]
    }
   ],
   "source": [
    "from sklearn.decomposition import TruncatedSVD\n",
    "from sklearn.pipeline import make_pipeline\n",
    "from sklearn.preprocessing import Normalizer\n",
    "\n",
    "#Our SVD data reducer.  We are going to reduce the feature space from 1379 to 130.\n",
    "svd= TruncatedSVD(700)\n",
    "lsa = make_pipeline(svd, Normalizer(copy=False))\n",
    "# Run SVD on the training data, then project the training data.\n",
    "X_train_lsa = lsa.fit_transform(X_train_tfidf)\n",
    "\n",
    "variance_explained=svd.explained_variance_ratio_\n",
    "total_variance = variance_explained.sum()\n",
    "print(\"Percent variance captured by all components:\",total_variance*100)\n",
    "\n",
    "tweets_component=pd.DataFrame(X_train_lsa,index=X_train)\n",
    "for i in range(10):\n",
    "    print('Component {}:'.format(i))\n",
    "    print(tweets_component.loc[:,i].sort_values(ascending=False)[0:10])\n"
   ]
  },
  {
   "cell_type": "markdown",
   "metadata": {},
   "source": [
    "# LSA Component Examination\n"
   ]
  },
  {
   "cell_type": "markdown",
   "metadata": {},
   "source": [
    "## Component 0\n"
   ]
  },
  {
   "cell_type": "markdown",
   "metadata": {},
   "source": [
    "Hillary Clinton is giving her views about Donald Trumps performance as a president and providing some facts"
   ]
  },
  {
   "cell_type": "markdown",
   "metadata": {},
   "source": [
    "## Component 1\n"
   ]
  },
  {
   "cell_type": "markdown",
   "metadata": {},
   "source": [
    "Mike Bloomberg is supporting new initiative for critical subjects such as Climate Change"
   ]
  },
  {
   "cell_type": "markdown",
   "metadata": {},
   "source": [
    "## Component 2"
   ]
  },
  {
   "cell_type": "markdown",
   "metadata": {},
   "source": [
    "Barnie Sanders showing his views about Trumps Presidency"
   ]
  },
  {
   "cell_type": "markdown",
   "metadata": {},
   "source": [
    "## Component 3"
   ]
  },
  {
   "cell_type": "markdown",
   "metadata": {},
   "source": [
    "Barnie Sanders showing his views about Climate Change"
   ]
  },
  {
   "cell_type": "markdown",
   "metadata": {},
   "source": [
    "## Component 4"
   ]
  },
  {
   "cell_type": "markdown",
   "metadata": {},
   "source": [
    "Obama speaks about Obama care and about people should vote"
   ]
  },
  {
   "cell_type": "markdown",
   "metadata": {},
   "source": [
    "## Component 5"
   ]
  },
  {
   "cell_type": "markdown",
   "metadata": {},
   "source": [
    "Mike Bloomberg speaking about gun voilence and other general topics"
   ]
  },
  {
   "cell_type": "markdown",
   "metadata": {},
   "source": [
    "## Component 6"
   ]
  },
  {
   "cell_type": "markdown",
   "metadata": {},
   "source": [
    "Hillary Clinton speaking about gun voilence and other general topics"
   ]
  },
  {
   "cell_type": "markdown",
   "metadata": {},
   "source": [
    "## Component 7"
   ]
  },
  {
   "cell_type": "markdown",
   "metadata": {},
   "source": [
    "Donald Trump speaking about general white house work"
   ]
  },
  {
   "cell_type": "markdown",
   "metadata": {},
   "source": [
    "## Component 8"
   ]
  },
  {
   "cell_type": "markdown",
   "metadata": {},
   "source": [
    "Barack Obama celebrating Valetine day with his wife Michelle Obama"
   ]
  },
  {
   "cell_type": "markdown",
   "metadata": {},
   "source": [
    "## Component 9\n"
   ]
  },
  {
   "cell_type": "markdown",
   "metadata": {},
   "source": [
    "\n",
    "Donald Trump speaking about general white house work"
   ]
  },
  {
   "cell_type": "markdown",
   "metadata": {},
   "source": [
    "If we notice, all the clusters do not have any pattern.So, I think clusters are not able to identify any patterns which is not good"
   ]
  },
  {
   "cell_type": "code",
   "execution_count": 41,
   "metadata": {},
   "outputs": [
    {
     "data": {
      "image/png": "[encoded data removed]",
      "text/plain": [
       "<Figure size 432x288 with 2 Axes>"
      ]
     },
     "metadata": {
      "needs_background": "light"
     },
     "output_type": "display_data"
    },
    {
     "name": "stdout",
     "output_type": "stream",
     "text": [
      "Key:\n",
      "0 ....This will be remembered as one of the most shocking votes in the history of Congress. If there is one thing we… https://t.co/iu6xoJ8xmL\n",
      "1 Senate Democrats just voted against legislation to prevent the killing of newborn infant children. The Democrat pos… https://t.co/MGj4b6eXtM\n",
      "2 If a deal is made with China, our great American Farmers will be treated better than they have ever been treated before!\n",
      "3 Heading over to Vietnam for my meeting with Kim Jong Un. Looking forward to a very productive Summit!\n",
      "4 China Trade Deal (and more) in advanced stages. Relationship between our two Countries is very strong. I have there… https://t.co/InPk1QI5dW\n",
      "5 ...our foreign partners. Recovering American hostages is a priority of my Admin, and with Danny’s release, we have… https://t.co/awuDu1fG9i\n",
      "6 ...Danny’s recovery reflects the best of what the United States &amp; its partners can accomplish.\n",
      "We work every day to… https://t.co/Gghg9zS0Sv\n",
      "7 It is my honor today to announce that Danny Burch, a United States citizen who has been held hostage in Yemen for 1… https://t.co/zRtBwYgOMK\n",
      "8 Congratulations to @DJohnsonPGA on his 20th PGA Tour WIN. Not only is Dustin a truly great golfer, he is a wonderfu… https://t.co/9TKUEFX1yS\n",
      "9 Since my election as President the Dow Jones is up 43% and the NASDAQ Composite almost 50%. Great news for your 401… https://t.co/bl7slkgcLx\n"
     ]
    }
   ],
   "source": [
    "# Compute document similarity using LSA components\n",
    "similarity = np.asarray(np.asmatrix(X_train_lsa) * np.asmatrix(X_train_lsa).T)\n",
    "#Only taking the first 10 sentences\n",
    "sim_matrix=pd.DataFrame(similarity,index=X).iloc[0:10,0:10]\n",
    "#Making a plot\n",
    "ax = sns.heatmap(sim_matrix,yticklabels=range(10))\n",
    "plt.show()\n",
    "\n",
    "#Generating a key for the plot.\n",
    "print('Key:')\n",
    "for i in range(10):\n",
    "    print(i,sim_matrix.index[i])\n"
   ]
  },
  {
   "cell_type": "markdown",
   "metadata": {},
   "source": [
    "Above heatmap shows the sentences doesnt look to be similar at all.It is able to correctly differentiate sentences.Now,Lets try to find clusters near Centroid and check if it is giving a specific pattern"
   ]
  },
  {
   "cell_type": "markdown",
   "metadata": {},
   "source": [
    "# Clusters Within Centroid using K-means"
   ]
  },
  {
   "cell_type": "code",
   "execution_count": 118,
   "metadata": {},
   "outputs": [
    {
     "name": "stdout",
     "output_type": "stream",
     "text": [
      "Top terms per cluster:\n",
      "Cluster 0:\n",
      " trump\n",
      " today\n",
      " great\n",
      " just\n",
      " time\n",
      " health\n",
      " president\n",
      " new\n",
      " years\n",
      " americans\n",
      "Cluster 1:\n",
      " country\n",
      " world\n",
      " history\n",
      " people\n",
      " richest\n",
      " pay\n",
      " obamafoundation\n",
      " rt\n",
      " leaders\n",
      " believe\n",
      "Cluster 2:\n",
      " rt\n",
      " climate\n",
      " thank\n",
      " change\n",
      " realdonaldtrump\n",
      " cities\n",
      " fight\n",
      " parispittsburgh\n",
      " bloomberg\n",
      " amp\n",
      "Cluster 3:\n",
      " day\n",
      " make\n",
      " good\n",
      " sure\n",
      " michelleobama\n",
      " vote\n",
      " happy\n",
      " country\n",
      " power\n",
      " today\n",
      "Cluster 4:\n",
      " people\n",
      " states\n",
      " support\n",
      " united\n",
      " young\n",
      " elections\n",
      " venezuela\n",
      " american\n",
      " trump\n",
      " president\n"
     ]
    }
   ],
   "source": [
    "print(\"Top terms per cluster:\")\n",
    "order_centroids = km.cluster_centers_.argsort()[:, ::-1]\n",
    "terms = vector.get_feature_names()\n",
    "for i in range(true_k):\n",
    "    print(\"Cluster %d:\" % i),\n",
    "    for ind in order_centroids[i, :10]:\n",
    "        print(' %s' % terms[ind]),\n",
    "        print\n"
   ]
  },
  {
   "cell_type": "markdown",
   "metadata": {},
   "source": [
    "If we observe above, the words within the clusters are random.There is no specific pattern within the clusters.This shows that words near the centriod do not follow any pattern.All the clusters above have no similarities with in the clusters"
   ]
  },
  {
   "cell_type": "markdown",
   "metadata": {},
   "source": [
    "###   K-Means Clustering with LSA "
   ]
  },
  {
   "cell_type": "code",
   "execution_count": 76,
   "metadata": {},
   "outputs": [
    {
     "name": "stdout",
     "output_type": "stream",
     "text": [
      "Comparing k-means clusters against politicians:\n"
     ]
    },
    {
     "data": {
      "text/html": [
       "<div>\n",
       "<style scoped>\n",
       "    .dataframe tbody tr th:only-of-type {\n",
       "        vertical-align: middle;\n",
       "    }\n",
       "\n",
       "    .dataframe tbody tr th {\n",
       "        vertical-align: top;\n",
       "    }\n",
       "\n",
       "    .dataframe thead th {\n",
       "        text-align: right;\n",
       "    }\n",
       "</style>\n",
       "<table border=\"1\" class=\"dataframe\">\n",
       "  <thead>\n",
       "    <tr style=\"text-align: right;\">\n",
       "      <th>col_0</th>\n",
       "      <th>0</th>\n",
       "      <th>1</th>\n",
       "      <th>2</th>\n",
       "      <th>3</th>\n",
       "      <th>4</th>\n",
       "      <th>5</th>\n",
       "      <th>6</th>\n",
       "      <th>7</th>\n",
       "      <th>8</th>\n",
       "      <th>9</th>\n",
       "      <th>...</th>\n",
       "      <th>15</th>\n",
       "      <th>16</th>\n",
       "      <th>17</th>\n",
       "      <th>18</th>\n",
       "      <th>19</th>\n",
       "      <th>20</th>\n",
       "      <th>21</th>\n",
       "      <th>22</th>\n",
       "      <th>23</th>\n",
       "      <th>24</th>\n",
       "    </tr>\n",
       "    <tr>\n",
       "      <th>Author</th>\n",
       "      <th></th>\n",
       "      <th></th>\n",
       "      <th></th>\n",
       "      <th></th>\n",
       "      <th></th>\n",
       "      <th></th>\n",
       "      <th></th>\n",
       "      <th></th>\n",
       "      <th></th>\n",
       "      <th></th>\n",
       "      <th></th>\n",
       "      <th></th>\n",
       "      <th></th>\n",
       "      <th></th>\n",
       "      <th></th>\n",
       "      <th></th>\n",
       "      <th></th>\n",
       "      <th></th>\n",
       "      <th></th>\n",
       "      <th></th>\n",
       "      <th></th>\n",
       "    </tr>\n",
       "  </thead>\n",
       "  <tbody>\n",
       "    <tr>\n",
       "      <th>BarackObama</th>\n",
       "      <td>3</td>\n",
       "      <td>61</td>\n",
       "      <td>17</td>\n",
       "      <td>10</td>\n",
       "      <td>2</td>\n",
       "      <td>0</td>\n",
       "      <td>11</td>\n",
       "      <td>3</td>\n",
       "      <td>38</td>\n",
       "      <td>16</td>\n",
       "      <td>...</td>\n",
       "      <td>0</td>\n",
       "      <td>12</td>\n",
       "      <td>27</td>\n",
       "      <td>9</td>\n",
       "      <td>12</td>\n",
       "      <td>19</td>\n",
       "      <td>5</td>\n",
       "      <td>17</td>\n",
       "      <td>0</td>\n",
       "      <td>5</td>\n",
       "    </tr>\n",
       "    <tr>\n",
       "      <th>HillaryClinton</th>\n",
       "      <td>5</td>\n",
       "      <td>13</td>\n",
       "      <td>36</td>\n",
       "      <td>14</td>\n",
       "      <td>13</td>\n",
       "      <td>0</td>\n",
       "      <td>24</td>\n",
       "      <td>16</td>\n",
       "      <td>22</td>\n",
       "      <td>14</td>\n",
       "      <td>...</td>\n",
       "      <td>0</td>\n",
       "      <td>10</td>\n",
       "      <td>16</td>\n",
       "      <td>19</td>\n",
       "      <td>12</td>\n",
       "      <td>16</td>\n",
       "      <td>6</td>\n",
       "      <td>25</td>\n",
       "      <td>13</td>\n",
       "      <td>13</td>\n",
       "    </tr>\n",
       "    <tr>\n",
       "      <th>MikeBloomberg</th>\n",
       "      <td>3</td>\n",
       "      <td>6</td>\n",
       "      <td>30</td>\n",
       "      <td>15</td>\n",
       "      <td>29</td>\n",
       "      <td>2</td>\n",
       "      <td>2</td>\n",
       "      <td>11</td>\n",
       "      <td>9</td>\n",
       "      <td>7</td>\n",
       "      <td>...</td>\n",
       "      <td>4</td>\n",
       "      <td>4</td>\n",
       "      <td>9</td>\n",
       "      <td>11</td>\n",
       "      <td>7</td>\n",
       "      <td>41</td>\n",
       "      <td>3</td>\n",
       "      <td>28</td>\n",
       "      <td>43</td>\n",
       "      <td>4</td>\n",
       "    </tr>\n",
       "    <tr>\n",
       "      <th>SenSanders</th>\n",
       "      <td>17</td>\n",
       "      <td>8</td>\n",
       "      <td>6</td>\n",
       "      <td>39</td>\n",
       "      <td>9</td>\n",
       "      <td>59</td>\n",
       "      <td>14</td>\n",
       "      <td>11</td>\n",
       "      <td>16</td>\n",
       "      <td>19</td>\n",
       "      <td>...</td>\n",
       "      <td>0</td>\n",
       "      <td>14</td>\n",
       "      <td>1</td>\n",
       "      <td>5</td>\n",
       "      <td>5</td>\n",
       "      <td>20</td>\n",
       "      <td>0</td>\n",
       "      <td>23</td>\n",
       "      <td>15</td>\n",
       "      <td>4</td>\n",
       "    </tr>\n",
       "    <tr>\n",
       "      <th>realDonaldTrump</th>\n",
       "      <td>15</td>\n",
       "      <td>4</td>\n",
       "      <td>9</td>\n",
       "      <td>6</td>\n",
       "      <td>7</td>\n",
       "      <td>6</td>\n",
       "      <td>5</td>\n",
       "      <td>20</td>\n",
       "      <td>15</td>\n",
       "      <td>3</td>\n",
       "      <td>...</td>\n",
       "      <td>21</td>\n",
       "      <td>19</td>\n",
       "      <td>6</td>\n",
       "      <td>27</td>\n",
       "      <td>7</td>\n",
       "      <td>15</td>\n",
       "      <td>0</td>\n",
       "      <td>48</td>\n",
       "      <td>0</td>\n",
       "      <td>19</td>\n",
       "    </tr>\n",
       "  </tbody>\n",
       "</table>\n",
       "<p>5 rows × 25 columns</p>\n",
       "</div>"
      ],
      "text/plain": [
       "col_0            0   1   2   3   4   5   6   7   8   9  ...  15  16  17  18  \\\n",
       "Author                                                  ...                   \n",
       "BarackObama       3  61  17  10   2   0  11   3  38  16 ...   0  12  27   9   \n",
       "HillaryClinton    5  13  36  14  13   0  24  16  22  14 ...   0  10  16  19   \n",
       "MikeBloomberg     3   6  30  15  29   2   2  11   9   7 ...   4   4   9  11   \n",
       "SenSanders       17   8   6  39   9  59  14  11  16  19 ...   0  14   1   5   \n",
       "realDonaldTrump  15   4   9   6   7   6   5  20  15   3 ...  21  19   6  27   \n",
       "\n",
       "col_0            19  20  21  22  23  24  \n",
       "Author                                   \n",
       "BarackObama      12  19   5  17   0   5  \n",
       "HillaryClinton   12  16   6  25  13  13  \n",
       "MikeBloomberg     7  41   3  28  43   4  \n",
       "SenSanders        5  20   0  23  15   4  \n",
       "realDonaldTrump   7  15   0  48   0  19  \n",
       "\n",
       "[5 rows x 25 columns]"
      ]
     },
     "execution_count": 76,
     "metadata": {},
     "output_type": "execute_result"
    }
   ],
   "source": [
    "\n",
    "from sklearn.preprocessing import normalize\n",
    "from sklearn.cluster import KMeans\n",
    "\n",
    "# Normalize the data.\n",
    "X_norm = normalize(X_train_lsa)\n",
    "\n",
    "# Calculate predicted values.\n",
    "y_pred = KMeans(n_clusters=25, random_state=42).fit_predict(X_norm)\n",
    "\n",
    "# Check the solution against the data.\n",
    "print('Comparing k-means clusters against politicians:')\n",
    "pd.crosstab(y_train, y_pred)"
   ]
  },
  {
   "cell_type": "markdown",
   "metadata": {},
   "source": [
    "# LSA with Supervised Approach"
   ]
  },
  {
   "cell_type": "markdown",
   "metadata": {},
   "source": [
    "Lets try LSA to check the accuracy using Random Forest.This is a superivsed approach to check how LSA  impacted the accuracy"
   ]
  },
  {
   "cell_type": "code",
   "execution_count": 78,
   "metadata": {},
   "outputs": [
    {
     "name": "stderr",
     "output_type": "stream",
     "text": [
      "C:\\Users\\ankush\\Anaconda3\\lib\\site-packages\\sklearn\\ensemble\\forest.py:246: FutureWarning: The default value of n_estimators will change from 10 in version 0.20 to 100 in 0.22.\n",
      "  \"10 in version 0.20 to 100 in 0.22.\", FutureWarning)\n"
     ]
    },
    {
     "name": "stdout",
     "output_type": "stream",
     "text": [
      "Test Set score = 1.0 \n",
      "Training set Cross validation = [0.80106101 0.8        0.80266667 0.82352941 0.82352941]\n",
      "mean = 0.81\n",
      "col_0            BarackObama  HillaryClinton  MikeBloomberg  SenSanders  \\\n",
      "Author                                                                    \n",
      "BarackObama              361               0              0           0   \n",
      "HillaryClinton             0             390              0           0   \n",
      "MikeBloomberg              0               0            381           0   \n",
      "SenSanders                 0               0              0         373   \n",
      "realDonaldTrump            0               0              0           0   \n",
      "\n",
      "col_0            realDonaldTrump  \n",
      "Author                            \n",
      "BarackObama                    0  \n",
      "HillaryClinton                 0  \n",
      "MikeBloomberg                  0  \n",
      "SenSanders                     0  \n",
      "realDonaldTrump              370  \n"
     ]
    }
   ],
   "source": [
    "from sklearn.metrics import confusion_matrix\n",
    "from sklearn.metrics import accuracy_score\n",
    "from sklearn.model_selection import cross_val_score\n",
    "\n",
    "rfc_lsa1 = ensemble.RandomForestClassifier(random_state=42)\n",
    "rfc_lsa1.fit(X_train_lsa,y_train)\n",
    "cv_lsa1 = cross_val_score(rfc_lsa1, X_train_lsa, y_train, cv=5)\n",
    "\n",
    "\n",
    "#Test\n",
    "y_true, y_pred = y_train, rfc_lsa1.predict(X_train_lsa)\n",
    "print(\"Test Set score = {:.3} \".format(accuracy_score(y_true, y_pred)))\n",
    "\n",
    "\n",
    "print(\"Training set Cross validation = {}\".format(cv_lsa1))\n",
    "print(\"mean = {:.3}\".format(cv_lsa1.mean()))\n",
    "print(pd.crosstab(y_true, y_pred))\n",
    "\n"
   ]
  },
  {
   "cell_type": "markdown",
   "metadata": {},
   "source": [
    "Oh no!these new features did not help at all .We can see overfitting.Like try logistic Regression"
   ]
  },
  {
   "cell_type": "code",
   "execution_count": 98,
   "metadata": {},
   "outputs": [
    {
     "name": "stderr",
     "output_type": "stream",
     "text": [
      "C:\\Users\\ankush\\Anaconda3\\lib\\site-packages\\sklearn\\linear_model\\logistic.py:433: FutureWarning: Default solver will be changed to 'lbfgs' in 0.22. Specify a solver to silence this warning.\n",
      "  FutureWarning)\n",
      "C:\\Users\\ankush\\Anaconda3\\lib\\site-packages\\sklearn\\linear_model\\logistic.py:460: FutureWarning: Default multi_class will be changed to 'auto' in 0.22. Specify the multi_class option to silence this warning.\n",
      "  \"this warning.\", FutureWarning)\n"
     ]
    },
    {
     "name": "stdout",
     "output_type": "stream",
     "text": [
      "Training set score: 0.9994666666666666\n"
     ]
    }
   ],
   "source": [
    "logit = LogisticRegression()\n",
    "fit = logit.fit(X_train_lsa_df, y_train)\n",
    "y_pred = logit.predict(X_train_lsa_df)\n",
    "print ('Training set score:', rfc.score(X_train_lsa_df, y_train))\n"
   ]
  },
  {
   "cell_type": "code",
   "execution_count": 100,
   "metadata": {},
   "outputs": [
    {
     "name": "stdout",
     "output_type": "stream",
     "text": [
      "Training set score: 0.9994666666666666\n"
     ]
    }
   ],
   "source": [
    "clf = ensemble.GradientBoostingClassifier()\n",
    "clf.fit(X_train_lsa_df, y_train)\n",
    "y_pred_knn = clf.predict(X_train_lsa_df)\n",
    "print('Training set score:', clf.score(X_train_lsa_df, y_train))\n"
   ]
  },
  {
   "cell_type": "code",
   "execution_count": 103,
   "metadata": {},
   "outputs": [
    {
     "name": "stdout",
     "output_type": "stream",
     "text": [
      "SVC(C=1.0, cache_size=200, class_weight=None, coef0=0.0,\n",
      "  decision_function_shape='ovr', degree=3, gamma='auto_deprecated',\n",
      "  kernel='linear', max_iter=-1, probability=False, random_state=None,\n",
      "  shrinking=True, tol=0.001, verbose=False)\n",
      "Training set score: 0.9861333333333333\n"
     ]
    }
   ],
   "source": [
    "from sklearn.svm import SVC\n",
    "svc = SVC(kernel='linear')\n",
    "svc_model = svc.fit(X_train_lsa,y_train)\n",
    "print(svc_model)\n",
    "print('Training set score:', svc_model.score(X_train_lsa,y_train))"
   ]
  },
  {
   "cell_type": "code",
   "execution_count": 105,
   "metadata": {},
   "outputs": [
    {
     "name": "stdout",
     "output_type": "stream",
     "text": [
      "Report:\n",
      "Test Set score = 0.986 \n",
      "Training set Cross validation = [0.90981432 0.89333333 0.90666667 0.90374332 0.90374332]\n",
      "mean = 0.903\n",
      "col_0            BarackObama  HillaryClinton  MikeBloomberg  SenSanders  \\\n",
      "Author                                                                    \n",
      "BarackObama              354               3              1           2   \n",
      "HillaryClinton             3             385              1           0   \n",
      "MikeBloomberg              0               2            376           2   \n",
      "SenSanders                 0               0              0         371   \n",
      "realDonaldTrump            3               3              0           1   \n",
      "\n",
      "col_0            realDonaldTrump  \n",
      "Author                            \n",
      "BarackObama                    1  \n",
      "HillaryClinton                 1  \n",
      "MikeBloomberg                  1  \n",
      "SenSanders                     2  \n",
      "realDonaldTrump              363  \n"
     ]
    }
   ],
   "source": [
    "from sklearn.metrics import confusion_matrix\n",
    "\n",
    "from sklearn.svm import SVC\n",
    "svm_t200 = SVC(kernel='linear')\n",
    "svm_t200.fit(X_train_lsa,y_train)\n",
    "svm_t200_cv = cross_val_score(svm_t200, X_train_lsa, y_train, cv=5)\n",
    "\n",
    "\n",
    "print(\"Report:\")\n",
    "y_true, y_pred = y_train, svm_t200.predict(X_train_lsa)\n",
    "#print(classification_report(y_true, y_pred))\n",
    "\n",
    "print(\"Test Set score = {:.3} \".format(accuracy_score(y_train, y_pred)))\n",
    "\n",
    "\n",
    "print(\"Training set Cross validation = {}\".format(svm_t200_cv))\n",
    "print(\"mean = {:.3}\".format(svm_t200_cv.mean()))\n",
    "print(pd.crosstab(y_true, y_pred))"
   ]
  },
  {
   "cell_type": "code",
   "execution_count": 106,
   "metadata": {},
   "outputs": [
    {
     "data": {
      "text/html": [
       "<div>\n",
       "<style scoped>\n",
       "    .dataframe tbody tr th:only-of-type {\n",
       "        vertical-align: middle;\n",
       "    }\n",
       "\n",
       "    .dataframe tbody tr th {\n",
       "        vertical-align: top;\n",
       "    }\n",
       "\n",
       "    .dataframe thead th {\n",
       "        text-align: right;\n",
       "    }\n",
       "</style>\n",
       "<table border=\"1\" class=\"dataframe\">\n",
       "  <thead>\n",
       "    <tr style=\"text-align: right;\">\n",
       "      <th>col_0</th>\n",
       "      <th>BarackObama</th>\n",
       "      <th>HillaryClinton</th>\n",
       "      <th>MikeBloomberg</th>\n",
       "      <th>SenSanders</th>\n",
       "      <th>realDonaldTrump</th>\n",
       "      <th>All</th>\n",
       "    </tr>\n",
       "    <tr>\n",
       "      <th>Author</th>\n",
       "      <th></th>\n",
       "      <th></th>\n",
       "      <th></th>\n",
       "      <th></th>\n",
       "      <th></th>\n",
       "      <th></th>\n",
       "    </tr>\n",
       "  </thead>\n",
       "  <tbody>\n",
       "    <tr>\n",
       "      <th>BarackObama</th>\n",
       "      <td>354</td>\n",
       "      <td>3</td>\n",
       "      <td>1</td>\n",
       "      <td>2</td>\n",
       "      <td>1</td>\n",
       "      <td>361</td>\n",
       "    </tr>\n",
       "    <tr>\n",
       "      <th>HillaryClinton</th>\n",
       "      <td>3</td>\n",
       "      <td>385</td>\n",
       "      <td>1</td>\n",
       "      <td>0</td>\n",
       "      <td>1</td>\n",
       "      <td>390</td>\n",
       "    </tr>\n",
       "    <tr>\n",
       "      <th>MikeBloomberg</th>\n",
       "      <td>0</td>\n",
       "      <td>2</td>\n",
       "      <td>376</td>\n",
       "      <td>2</td>\n",
       "      <td>1</td>\n",
       "      <td>381</td>\n",
       "    </tr>\n",
       "    <tr>\n",
       "      <th>SenSanders</th>\n",
       "      <td>0</td>\n",
       "      <td>0</td>\n",
       "      <td>0</td>\n",
       "      <td>371</td>\n",
       "      <td>2</td>\n",
       "      <td>373</td>\n",
       "    </tr>\n",
       "    <tr>\n",
       "      <th>realDonaldTrump</th>\n",
       "      <td>3</td>\n",
       "      <td>3</td>\n",
       "      <td>0</td>\n",
       "      <td>1</td>\n",
       "      <td>363</td>\n",
       "      <td>370</td>\n",
       "    </tr>\n",
       "    <tr>\n",
       "      <th>All</th>\n",
       "      <td>360</td>\n",
       "      <td>393</td>\n",
       "      <td>378</td>\n",
       "      <td>376</td>\n",
       "      <td>368</td>\n",
       "      <td>1875</td>\n",
       "    </tr>\n",
       "  </tbody>\n",
       "</table>\n",
       "</div>"
      ],
      "text/plain": [
       "col_0            BarackObama  HillaryClinton  MikeBloomberg  SenSanders  \\\n",
       "Author                                                                    \n",
       "BarackObama              354               3              1           2   \n",
       "HillaryClinton             3             385              1           0   \n",
       "MikeBloomberg              0               2            376           2   \n",
       "SenSanders                 0               0              0         371   \n",
       "realDonaldTrump            3               3              0           1   \n",
       "All                      360             393            378         376   \n",
       "\n",
       "col_0            realDonaldTrump   All  \n",
       "Author                                  \n",
       "BarackObama                    1   361  \n",
       "HillaryClinton                 1   390  \n",
       "MikeBloomberg                  1   381  \n",
       "SenSanders                     2   373  \n",
       "realDonaldTrump              363   370  \n",
       "All                          368  1875  "
      ]
     },
     "execution_count": 106,
     "metadata": {},
     "output_type": "execute_result"
    }
   ],
   "source": [
    "pd.crosstab(y_true, y_pred, margins = True)"
   ]
  },
  {
   "cell_type": "markdown",
   "metadata": {},
   "source": [
    "This looks little better as compared to Linear Regression, GBC,Random Forest which don't perform well with humongous features like this dataset has."
   ]
  },
  {
   "cell_type": "markdown",
   "metadata": {},
   "source": [
    "# Conclusion:"
   ]
  },
  {
   "cell_type": "markdown",
   "metadata": {},
   "source": [
    "We deeply analysed the tweets for Trump/Obama and came to know some facts.\n",
    "\n",
    "1.Trump has mentioned Hillary clinton more than onyone if compared with Obama,Barnie Sanders.\n",
    "\n",
    "2.The most liked tweet for Trump was \"Building the Wall\".\n",
    "\n",
    "3.Also, Trump does most of his tweets on Sundays and Obama on Mondays.\n",
    "\n",
    "4.Furthermore,people like most of Trump tweets on Thursday and Obama tweets on Sunday.\n",
    "\n",
    "Overall, the dataset cooperated with tf-idf better than Bag of Words.Latent Semantic Analysis did a fair job in identying the similar tweets.As we notice, most of the tweets it identified were for - Gun law,Voting, obama care, Climate change and Trump policy, which it was able to identify.K means was not able to clearly distinguish labels in the clusters.Most of the clusters were overlapping .Clustering  proved to be ineffective in classifying tweets and only returned one cluster when using mean-shift.This means that the preprocessing would have been done in a better so that unsupervised models would have able to understand the data better.\n",
    "KNN proved to be the most effective model for all the features with bow/Tf-idf.All the other models had overfitting which could not perform well with such huge number of features.BoW and TF-idf operated very differently in accurately identifying authors in their tweets. Clustering with LSA seem to perform ok.Mini batch k means clustering seem to perform better for clustering the author with their tweets than k means.It does look like supervised learning performed better in clustering the data compared to unsupervised learning.WE tried to get some specific pattern using k-means , but there were no specific pattern within each cluster"
   ]
  },
  {
   "cell_type": "code",
   "execution_count": null,
   "metadata": {},
   "outputs": [],
   "source": []
  }
 ],
 "metadata": {
  "kernelspec": {
   "display_name": "Python 3",
   "language": "python",
   "name": "python3"
  },
  "language_info": {
   "codemirror_mode": {
    "name": "ipython",
    "version": 3
   },
   "file_extension": ".py",
   "mimetype": "text/x-python",
   "name": "python",
   "nbconvert_exporter": "python",
   "pygments_lexer": "ipython3",
   "version": "3.7.1"
  }
 },
 "nbformat": 4,
 "nbformat_minor": 2
}
