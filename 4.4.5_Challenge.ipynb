{
 "cells": [
  {
   "cell_type": "markdown",
   "metadata": {},
   "source": [
    "# Challenge: Build your own NLP model\n"
   ]
  },
  {
   "cell_type": "markdown",
   "metadata": {},
   "source": [
    "For this challenge, you will need to choose a corpus of data from nltk or another source that includes categories you can predict and create an analysis pipeline that includes the following steps:\n",
    "\n",
    "Data cleaning / processing / language parsing\n",
    "\n",
    "Create features using two different NLP methods: For example, BoW vs tf-idf.\n",
    "\n",
    "Use the features to fit supervised learning models for each feature set to predict the category outcomes.\n",
    "\n",
    "Assess your models using cross-validation and determine whether one model performed better.\n",
    "\n",
    "Pick one of the models and try to increase accuracy by at least 5 percentage points.\n",
    "\n",
    "Write up your report in a Jupyter notebook. Be sure to explicitly justify the choices you make throughout, and submit it below."
   ]
  },
  {
   "cell_type": "code",
   "execution_count": 255,
   "metadata": {},
   "outputs": [],
   "source": [
    "%matplotlib inline\n",
    "import numpy as np\n",
    "import pandas as pd\n",
    "import scipy\n",
    "import sklearn\n",
    "import spacy\n",
    "import matplotlib.pyplot as plt\n",
    "import seaborn as sns\n",
    "import re\n",
    "from nltk.corpus import gutenberg, stopwords\n",
    "from collections import Counter\n",
    "import requests\n",
    "from sklearn.feature_extraction.text import TfidfVectorizer\n"
   ]
  },
  {
   "cell_type": "markdown",
   "metadata": {},
   "source": [
    "## PLOS Abstracts"
   ]
  },
  {
   "cell_type": "markdown",
   "metadata": {},
   "source": [
    "I downloaded the absracts using the link below.I was looking to use json files so used these"
   ]
  },
  {
   "cell_type": "code",
   "execution_count": 256,
   "metadata": {},
   "outputs": [],
   "source": [
    "\n",
    "response_phy = requests.get(r'http://api.plos.org/search?q=title:\"physics\"&fl=abstract&wt=json&api_key=7ujScsFm2osdMw6ozx4g')\n",
    "response_stars = requests.get(r'http://api.plos.org/search?q=title:\"stars\"&fl=abstract&wt=json&api_key=7ujScsFm2osdMw6ozx4g')\n",
    "response_bh = requests.get(r'http://api.plos.org/search?q=title:\"black holes\"&fl=abstract&wt=json&api_key=7ujScsFm2osdMw6ozx4g')\n",
    "\n"
   ]
  },
  {
   "cell_type": "markdown",
   "metadata": {},
   "source": [
    "## Data Cleaning and Preprocessing"
   ]
  },
  {
   "cell_type": "code",
   "execution_count": 257,
   "metadata": {},
   "outputs": [],
   "source": [
    "physics_raw = response_phy.json()\n",
    "stars_raw = response_stars.json()\n",
    "black_raw = response_bh.json()\n",
    "\n",
    "\n",
    "def text_cleaner(text):\n",
    "    # Visual inspection identifies a form of punctuation spaCy does not\n",
    "    # recognize: the double dash '--'.  Better get rid of it now!\n",
    "    #text = re.sub(r'--',' ',text)\n",
    "    text = re.sub(r'[\\[\\]]', '', text)\n",
    "    text = re.sub(r'--', ' ', text)\n",
    "    text = re.sub(r'[\\']', '', text)\n",
    "    text = re.sub(r'[\\\\]', '', text)\n",
    "    text = re.sub(r'\\d', '', text)\n",
    "    #text = ' '.join(text.split())\n",
    "    return text\n",
    "\n"
   ]
  },
  {
   "cell_type": "code",
   "execution_count": 258,
   "metadata": {},
   "outputs": [
    {
     "data": {
      "text/plain": [
       "'Background: Physical function is a crucial factor in the prevention and treatment of health conditions in older adults and is usually measured objectively with physical performance tests and/or physic'"
      ]
     },
     "execution_count": 258,
     "metadata": {},
     "output_type": "execute_result"
    }
   ],
   "source": [
    "physics = ''\n",
    "for article in physics_raw['response']['docs']:\n",
    "    art = str(article['abstract'])\n",
    "    physics = physics + text_cleaner(art)\n",
    "\n",
    "physics[0:200]\n"
   ]
  },
  {
   "cell_type": "code",
   "execution_count": 259,
   "metadata": {},
   "outputs": [
    {
     "data": {
      "text/plain": [
       "'\"n        The founding director of Singapores Institute of Molecular and Cell Biology illustrates the rise of science in Asia.n      \"nAn extensive  mass mortality event along the West Coast of North '"
      ]
     },
     "execution_count": 259,
     "metadata": {},
     "output_type": "execute_result"
    }
   ],
   "source": [
    "stars=''\n",
    "for article in stars_raw['response']['docs']:\n",
    "    art = str(article['abstract'])\n",
    "    stars = stars + text_cleaner(art)\n",
    "stars[0:200]"
   ]
  },
  {
   "cell_type": "code",
   "execution_count": 260,
   "metadata": {},
   "outputs": [
    {
     "data": {
      "text/plain": [
       "'nIt has been suggested that innovations occur mainly by combination: the more inventions accumulate, the higher the probability that new inventions are obtained from previous designs. Additionally, it'"
      ]
     },
     "execution_count": 260,
     "metadata": {},
     "output_type": "execute_result"
    }
   ],
   "source": [
    "black=''\n",
    "for article in black_raw['response']['docs']:\n",
    "    art = str(article['abstract'])\n",
    "    black = black + text_cleaner(art)\n",
    "black[0:200]"
   ]
  },
  {
   "cell_type": "code",
   "execution_count": 261,
   "metadata": {},
   "outputs": [],
   "source": [
    "nlp = spacy.load('en')\n",
    "physics_doc = nlp(physics)\n",
    "stars_doc = nlp(stars)\n",
    "black_doc=nlp(black)"
   ]
  },
  {
   "cell_type": "code",
   "execution_count": 262,
   "metadata": {
    "scrolled": true
   },
   "outputs": [
    {
     "data": {
      "text/html": [
       "<div>\n",
       "<style scoped>\n",
       "    .dataframe tbody tr th:only-of-type {\n",
       "        vertical-align: middle;\n",
       "    }\n",
       "\n",
       "    .dataframe tbody tr th {\n",
       "        vertical-align: top;\n",
       "    }\n",
       "\n",
       "    .dataframe thead th {\n",
       "        text-align: right;\n",
       "    }\n",
       "</style>\n",
       "<table border=\"1\" class=\"dataframe\">\n",
       "  <thead>\n",
       "    <tr style=\"text-align: right;\">\n",
       "      <th></th>\n",
       "      <th>0</th>\n",
       "      <th>1</th>\n",
       "    </tr>\n",
       "  </thead>\n",
       "  <tbody>\n",
       "    <tr>\n",
       "      <th>0</th>\n",
       "      <td>(Background, :, Physical, function, is, a, cru...</td>\n",
       "      <td>Physics</td>\n",
       "    </tr>\n",
       "    <tr>\n",
       "      <th>1</th>\n",
       "      <td>(Objective, :)</td>\n",
       "      <td>Physics</td>\n",
       "    </tr>\n",
       "    <tr>\n",
       "      <th>2</th>\n",
       "      <td>(To, examine, whether, ), physical, performanc...</td>\n",
       "      <td>Physics</td>\n",
       "    </tr>\n",
       "    <tr>\n",
       "      <th>3</th>\n",
       "      <td>(Design, :, Cross, -, sectional, study, to, ex...</td>\n",
       "      <td>Physics</td>\n",
       "    </tr>\n",
       "    <tr>\n",
       "      <th>4</th>\n",
       "      <td>(Methods, :)</td>\n",
       "      <td>Physics</td>\n",
       "    </tr>\n",
       "  </tbody>\n",
       "</table>\n",
       "</div>"
      ],
      "text/plain": [
       "                                                   0        1\n",
       "0  (Background, :, Physical, function, is, a, cru...  Physics\n",
       "1                                     (Objective, :)  Physics\n",
       "2  (To, examine, whether, ), physical, performanc...  Physics\n",
       "3  (Design, :, Cross, -, sectional, study, to, ex...  Physics\n",
       "4                                       (Methods, :)  Physics"
      ]
     },
     "execution_count": 262,
     "metadata": {},
     "output_type": "execute_result"
    }
   ],
   "source": [
    "\n",
    "physics_sents = [[sent, 'Physics'] for sent in physics_doc.sents]\n",
    "stars_sents = [[sent, 'Stars'] for sent in stars_doc.sents]\n",
    "black_sents = [[sent, 'Black Holes'] for sent in black_doc.sents]\n",
    "\n",
    "\n",
    "sentences = pd.DataFrame(physics_sents + stars_sents + black_sents)\n",
    "sentences.head()"
   ]
  },
  {
   "cell_type": "markdown",
   "metadata": {},
   "source": [
    "As seen above since  spaCy has already tokenized and labelled our data, we can move directly to recording how often various words occur. We will exclude stopwords and punctuation. In addition, in an attempt to keep our feature space from exploding, we will work with lemmas (root words) rather than the raw text terms, and we'll only use the 2000 most common words for each text."
   ]
  },
  {
   "cell_type": "markdown",
   "metadata": {},
   "source": [
    "# BOW(Bag of Words)"
   ]
  },
  {
   "cell_type": "code",
   "execution_count": 263,
   "metadata": {},
   "outputs": [],
   "source": [
    "# Utility function to create a list of the 2000 most common words.\n",
    "def bag_of_words(text):\n",
    "    allwords = [token.lemma_\n",
    "               for token in text\n",
    "               if not token.is_punct\n",
    "               and not token.is_stop]\n",
    "    return [item[0] for item in Counter(allwords).most_common(1000)]\n",
    "\n",
    "def bow_features(sentences, common_words):\n",
    "    df = pd.DataFrame(columns=common_words)\n",
    "    df['text_sentence'] = sentences[0]\n",
    "    df['text_source'] = sentences[1]\n",
    "    df.loc[:,common_words] = 0\n",
    "    \n",
    "    for i, sentence in enumerate(df['text_sentence']):\n",
    "        words = [token.lemma_ \n",
    "                for token in sentence\n",
    "                if (\n",
    "                    not token.is_punct\n",
    "                    and not token.is_stop\n",
    "                    and token.lemma_ in common_words\n",
    "                )]\n",
    "        for word in words:\n",
    "            df.loc[i, word] += 1\n",
    "        if i%100 == 0:\n",
    "            print('Processing row {}'.format(i))\n",
    "    return df\n",
    "\n",
    "\n",
    "# Set up the bags.\n",
    "physics = bag_of_words(physics_doc)\n",
    "stars = bag_of_words(stars_doc)\n",
    "black = bag_of_words(black_doc)\n",
    "\n",
    "# Combine bags to create a set of unique words.\n",
    "common_words = set(physics + stars + black)"
   ]
  },
  {
   "cell_type": "code",
   "execution_count": 240,
   "metadata": {},
   "outputs": [
    {
     "name": "stdout",
     "output_type": "stream",
     "text": [
      "Processing row 0\n",
      "Processing row 100\n",
      "Processing row 200\n"
     ]
    },
    {
     "data": {
      "text/html": [
       "<div>\n",
       "<style scoped>\n",
       "    .dataframe tbody tr th:only-of-type {\n",
       "        vertical-align: middle;\n",
       "    }\n",
       "\n",
       "    .dataframe tbody tr th {\n",
       "        vertical-align: top;\n",
       "    }\n",
       "\n",
       "    .dataframe thead th {\n",
       "        text-align: right;\n",
       "    }\n",
       "</style>\n",
       "<table border=\"1\" class=\"dataframe\">\n",
       "  <thead>\n",
       "    <tr style=\"text-align: right;\">\n",
       "      <th></th>\n",
       "      <th>natural</th>\n",
       "      <th>this</th>\n",
       "      <th>secondary</th>\n",
       "      <th>type</th>\n",
       "      <th>investigate</th>\n",
       "      <th>systemic</th>\n",
       "      <th>nutrition</th>\n",
       "      <th>emergence</th>\n",
       "      <th>prevent</th>\n",
       "      <th>institute</th>\n",
       "      <th>...</th>\n",
       "      <th>physical</th>\n",
       "      <th>draw</th>\n",
       "      <th>capability</th>\n",
       "      <th>previously</th>\n",
       "      <th>impede</th>\n",
       "      <th>mask</th>\n",
       "      <th>functionaliz</th>\n",
       "      <th>methodological</th>\n",
       "      <th>text_sentence</th>\n",
       "      <th>text_source</th>\n",
       "    </tr>\n",
       "  </thead>\n",
       "  <tbody>\n",
       "    <tr>\n",
       "      <th>0</th>\n",
       "      <td>0</td>\n",
       "      <td>0</td>\n",
       "      <td>0</td>\n",
       "      <td>0</td>\n",
       "      <td>0</td>\n",
       "      <td>0</td>\n",
       "      <td>0</td>\n",
       "      <td>0</td>\n",
       "      <td>0</td>\n",
       "      <td>0</td>\n",
       "      <td>...</td>\n",
       "      <td>3</td>\n",
       "      <td>0</td>\n",
       "      <td>0</td>\n",
       "      <td>0</td>\n",
       "      <td>0</td>\n",
       "      <td>0</td>\n",
       "      <td>0</td>\n",
       "      <td>0</td>\n",
       "      <td>(Background, :, Physical, function, is, a, cru...</td>\n",
       "      <td>Physics</td>\n",
       "    </tr>\n",
       "    <tr>\n",
       "      <th>1</th>\n",
       "      <td>0</td>\n",
       "      <td>0</td>\n",
       "      <td>0</td>\n",
       "      <td>0</td>\n",
       "      <td>0</td>\n",
       "      <td>0</td>\n",
       "      <td>0</td>\n",
       "      <td>0</td>\n",
       "      <td>0</td>\n",
       "      <td>0</td>\n",
       "      <td>...</td>\n",
       "      <td>0</td>\n",
       "      <td>0</td>\n",
       "      <td>0</td>\n",
       "      <td>0</td>\n",
       "      <td>0</td>\n",
       "      <td>0</td>\n",
       "      <td>0</td>\n",
       "      <td>0</td>\n",
       "      <td>(Objective, :)</td>\n",
       "      <td>Physics</td>\n",
       "    </tr>\n",
       "    <tr>\n",
       "      <th>2</th>\n",
       "      <td>0</td>\n",
       "      <td>0</td>\n",
       "      <td>0</td>\n",
       "      <td>0</td>\n",
       "      <td>0</td>\n",
       "      <td>0</td>\n",
       "      <td>0</td>\n",
       "      <td>0</td>\n",
       "      <td>0</td>\n",
       "      <td>0</td>\n",
       "      <td>...</td>\n",
       "      <td>3</td>\n",
       "      <td>0</td>\n",
       "      <td>0</td>\n",
       "      <td>0</td>\n",
       "      <td>0</td>\n",
       "      <td>0</td>\n",
       "      <td>0</td>\n",
       "      <td>0</td>\n",
       "      <td>(To, examine, whether, ), physical, performanc...</td>\n",
       "      <td>Physics</td>\n",
       "    </tr>\n",
       "    <tr>\n",
       "      <th>3</th>\n",
       "      <td>0</td>\n",
       "      <td>0</td>\n",
       "      <td>0</td>\n",
       "      <td>0</td>\n",
       "      <td>0</td>\n",
       "      <td>0</td>\n",
       "      <td>0</td>\n",
       "      <td>0</td>\n",
       "      <td>0</td>\n",
       "      <td>0</td>\n",
       "      <td>...</td>\n",
       "      <td>0</td>\n",
       "      <td>0</td>\n",
       "      <td>0</td>\n",
       "      <td>0</td>\n",
       "      <td>0</td>\n",
       "      <td>0</td>\n",
       "      <td>0</td>\n",
       "      <td>0</td>\n",
       "      <td>(Design, :, Cross, -, sectional, study, to, ex...</td>\n",
       "      <td>Physics</td>\n",
       "    </tr>\n",
       "    <tr>\n",
       "      <th>4</th>\n",
       "      <td>0</td>\n",
       "      <td>0</td>\n",
       "      <td>0</td>\n",
       "      <td>0</td>\n",
       "      <td>0</td>\n",
       "      <td>0</td>\n",
       "      <td>0</td>\n",
       "      <td>0</td>\n",
       "      <td>0</td>\n",
       "      <td>0</td>\n",
       "      <td>...</td>\n",
       "      <td>0</td>\n",
       "      <td>0</td>\n",
       "      <td>0</td>\n",
       "      <td>0</td>\n",
       "      <td>0</td>\n",
       "      <td>0</td>\n",
       "      <td>0</td>\n",
       "      <td>0</td>\n",
       "      <td>(Methods, :)</td>\n",
       "      <td>Physics</td>\n",
       "    </tr>\n",
       "  </tbody>\n",
       "</table>\n",
       "<p>5 rows × 1319 columns</p>\n",
       "</div>"
      ],
      "text/plain": [
       "  natural this secondary type investigate systemic nutrition emergence  \\\n",
       "0       0    0         0    0           0        0         0         0   \n",
       "1       0    0         0    0           0        0         0         0   \n",
       "2       0    0         0    0           0        0         0         0   \n",
       "3       0    0         0    0           0        0         0         0   \n",
       "4       0    0         0    0           0        0         0         0   \n",
       "\n",
       "  prevent institute     ...     physical draw capability previously impede  \\\n",
       "0       0         0     ...            3    0          0          0      0   \n",
       "1       0         0     ...            0    0          0          0      0   \n",
       "2       0         0     ...            3    0          0          0      0   \n",
       "3       0         0     ...            0    0          0          0      0   \n",
       "4       0         0     ...            0    0          0          0      0   \n",
       "\n",
       "  mask functionaliz methodological  \\\n",
       "0    0            0              0   \n",
       "1    0            0              0   \n",
       "2    0            0              0   \n",
       "3    0            0              0   \n",
       "4    0            0              0   \n",
       "\n",
       "                                       text_sentence text_source  \n",
       "0  (Background, :, Physical, function, is, a, cru...     Physics  \n",
       "1                                     (Objective, :)     Physics  \n",
       "2  (To, examine, whether, ), physical, performanc...     Physics  \n",
       "3  (Design, :, Cross, -, sectional, study, to, ex...     Physics  \n",
       "4                                       (Methods, :)     Physics  \n",
       "\n",
       "[5 rows x 1319 columns]"
      ]
     },
     "execution_count": 240,
     "metadata": {},
     "output_type": "execute_result"
    }
   ],
   "source": [
    "word_counts = bow_features(sentences, common_words)\n",
    "word_counts.head()"
   ]
  },
  {
   "cell_type": "markdown",
   "metadata": {},
   "source": [
    "Now we have got all the features.So, let's give the bag of words features a whirl by trying a random forest."
   ]
  },
  {
   "cell_type": "markdown",
   "metadata": {},
   "source": [
    "### Random Forest"
   ]
  },
  {
   "cell_type": "code",
   "execution_count": 264,
   "metadata": {},
   "outputs": [
    {
     "name": "stderr",
     "output_type": "stream",
     "text": [
      "C:\\Users\\ankush\\Anaconda3\\lib\\site-packages\\sklearn\\ensemble\\forest.py:246: FutureWarning: The default value of n_estimators will change from 10 in version 0.20 to 100 in 0.22.\n",
      "  \"10 in version 0.20 to 100 in 0.22.\", FutureWarning)\n"
     ]
    },
    {
     "name": "stdout",
     "output_type": "stream",
     "text": [
      "Training set score: 0.9666666666666667\n",
      "\n",
      "Test set score: 0.6732673267326733\n"
     ]
    }
   ],
   "source": [
    "from sklearn import ensemble\n",
    "from sklearn.model_selection import train_test_split\n",
    "\n",
    "rfc = ensemble.RandomForestClassifier()\n",
    "Y = word_counts['text_source']\n",
    "X = np.array(word_counts.drop(['text_sentence','text_source'], 1))\n",
    "\n",
    "X_train, X_test, y_train, y_test = train_test_split(X, \n",
    "                                                    Y,\n",
    "                                                    test_size=0.4,\n",
    "                                                    random_state=0)\n",
    "train = rfc.fit(X_train, y_train)\n",
    "\n",
    "print('Training set score:', rfc.score(X_train, y_train))\n",
    "print('\\nTest set score:', rfc.score(X_test, y_test))"
   ]
  },
  {
   "cell_type": "markdown",
   "metadata": {},
   "source": [
    "### Cross Validation"
   ]
  },
  {
   "cell_type": "code",
   "execution_count": 265,
   "metadata": {},
   "outputs": [
    {
     "name": "stdout",
     "output_type": "stream",
     "text": [
      "Training data accuracy for Random Forest:  [0.625      0.75       0.6875     0.6875     0.75       0.6875\n",
      " 0.64285714 0.64285714 0.84615385 0.69230769]\n",
      "Testing data accuracy Random Forest:  [0.66666667 0.5        0.54545455 0.63636364 0.5        0.55555556\n",
      " 0.77777778 0.55555556 0.55555556 0.55555556]\n"
     ]
    }
   ],
   "source": [
    "from sklearn.model_selection import cross_val_score\n",
    "print(\"Training data accuracy for Random Forest: \",cross_val_score(rfc, X_train, y_train, cv=10))\n",
    "print(\"Testing data accuracy Random Forest: \",cross_val_score(rfc, X_test, y_test, cv=10))"
   ]
  },
  {
   "cell_type": "markdown",
   "metadata": {},
   "source": [
    "### Logistic Regression"
   ]
  },
  {
   "cell_type": "code",
   "execution_count": 266,
   "metadata": {},
   "outputs": [
    {
     "name": "stderr",
     "output_type": "stream",
     "text": [
      "C:\\Users\\ankush\\Anaconda3\\lib\\site-packages\\sklearn\\linear_model\\logistic.py:433: FutureWarning: Default solver will be changed to 'lbfgs' in 0.22. Specify a solver to silence this warning.\n",
      "  FutureWarning)\n",
      "C:\\Users\\ankush\\Anaconda3\\lib\\site-packages\\sklearn\\linear_model\\logistic.py:460: FutureWarning: Default multi_class will be changed to 'auto' in 0.22. Specify the multi_class option to silence this warning.\n",
      "  \"this warning.\", FutureWarning)\n"
     ]
    },
    {
     "name": "stdout",
     "output_type": "stream",
     "text": [
      "Training set score: 0.9933333333333333\n",
      "\n",
      "Test set score: 0.8217821782178217\n"
     ]
    }
   ],
   "source": [
    "from sklearn.linear_model import LogisticRegression\n",
    "\n",
    "lr = LogisticRegression()\n",
    "train = lr.fit(X_train, y_train)\n",
    "print('Training set score:', lr.score(X_train, y_train))\n",
    "print('\\nTest set score:', lr.score(X_test, y_test))"
   ]
  },
  {
   "cell_type": "markdown",
   "metadata": {},
   "source": [
    "### Cross Validation"
   ]
  },
  {
   "cell_type": "code",
   "execution_count": 267,
   "metadata": {
    "scrolled": false
   },
   "outputs": [
    {
     "name": "stderr",
     "output_type": "stream",
     "text": [
      "C:\\Users\\ankush\\Anaconda3\\lib\\site-packages\\sklearn\\linear_model\\logistic.py:433: FutureWarning: Default solver will be changed to 'lbfgs' in 0.22. Specify a solver to silence this warning.\n",
      "  FutureWarning)\n",
      "C:\\Users\\ankush\\Anaconda3\\lib\\site-packages\\sklearn\\linear_model\\logistic.py:460: FutureWarning: Default multi_class will be changed to 'auto' in 0.22. Specify the multi_class option to silence this warning.\n",
      "  \"this warning.\", FutureWarning)\n",
      "C:\\Users\\ankush\\Anaconda3\\lib\\site-packages\\sklearn\\linear_model\\logistic.py:433: FutureWarning: Default solver will be changed to 'lbfgs' in 0.22. Specify a solver to silence this warning.\n",
      "  FutureWarning)\n",
      "C:\\Users\\ankush\\Anaconda3\\lib\\site-packages\\sklearn\\linear_model\\logistic.py:460: FutureWarning: Default multi_class will be changed to 'auto' in 0.22. Specify the multi_class option to silence this warning.\n",
      "  \"this warning.\", FutureWarning)\n",
      "C:\\Users\\ankush\\Anaconda3\\lib\\site-packages\\sklearn\\linear_model\\logistic.py:433: FutureWarning: Default solver will be changed to 'lbfgs' in 0.22. Specify a solver to silence this warning.\n",
      "  FutureWarning)\n",
      "C:\\Users\\ankush\\Anaconda3\\lib\\site-packages\\sklearn\\linear_model\\logistic.py:460: FutureWarning: Default multi_class will be changed to 'auto' in 0.22. Specify the multi_class option to silence this warning.\n",
      "  \"this warning.\", FutureWarning)\n",
      "C:\\Users\\ankush\\Anaconda3\\lib\\site-packages\\sklearn\\linear_model\\logistic.py:433: FutureWarning: Default solver will be changed to 'lbfgs' in 0.22. Specify a solver to silence this warning.\n",
      "  FutureWarning)\n",
      "C:\\Users\\ankush\\Anaconda3\\lib\\site-packages\\sklearn\\linear_model\\logistic.py:460: FutureWarning: Default multi_class will be changed to 'auto' in 0.22. Specify the multi_class option to silence this warning.\n",
      "  \"this warning.\", FutureWarning)\n",
      "C:\\Users\\ankush\\Anaconda3\\lib\\site-packages\\sklearn\\linear_model\\logistic.py:433: FutureWarning: Default solver will be changed to 'lbfgs' in 0.22. Specify a solver to silence this warning.\n",
      "  FutureWarning)\n",
      "C:\\Users\\ankush\\Anaconda3\\lib\\site-packages\\sklearn\\linear_model\\logistic.py:460: FutureWarning: Default multi_class will be changed to 'auto' in 0.22. Specify the multi_class option to silence this warning.\n",
      "  \"this warning.\", FutureWarning)\n",
      "C:\\Users\\ankush\\Anaconda3\\lib\\site-packages\\sklearn\\linear_model\\logistic.py:433: FutureWarning: Default solver will be changed to 'lbfgs' in 0.22. Specify a solver to silence this warning.\n",
      "  FutureWarning)\n",
      "C:\\Users\\ankush\\Anaconda3\\lib\\site-packages\\sklearn\\linear_model\\logistic.py:460: FutureWarning: Default multi_class will be changed to 'auto' in 0.22. Specify the multi_class option to silence this warning.\n",
      "  \"this warning.\", FutureWarning)\n",
      "C:\\Users\\ankush\\Anaconda3\\lib\\site-packages\\sklearn\\linear_model\\logistic.py:433: FutureWarning: Default solver will be changed to 'lbfgs' in 0.22. Specify a solver to silence this warning.\n",
      "  FutureWarning)\n",
      "C:\\Users\\ankush\\Anaconda3\\lib\\site-packages\\sklearn\\linear_model\\logistic.py:460: FutureWarning: Default multi_class will be changed to 'auto' in 0.22. Specify the multi_class option to silence this warning.\n",
      "  \"this warning.\", FutureWarning)\n",
      "C:\\Users\\ankush\\Anaconda3\\lib\\site-packages\\sklearn\\linear_model\\logistic.py:433: FutureWarning: Default solver will be changed to 'lbfgs' in 0.22. Specify a solver to silence this warning.\n",
      "  FutureWarning)\n",
      "C:\\Users\\ankush\\Anaconda3\\lib\\site-packages\\sklearn\\linear_model\\logistic.py:460: FutureWarning: Default multi_class will be changed to 'auto' in 0.22. Specify the multi_class option to silence this warning.\n",
      "  \"this warning.\", FutureWarning)\n",
      "C:\\Users\\ankush\\Anaconda3\\lib\\site-packages\\sklearn\\linear_model\\logistic.py:433: FutureWarning: Default solver will be changed to 'lbfgs' in 0.22. Specify a solver to silence this warning.\n",
      "  FutureWarning)\n",
      "C:\\Users\\ankush\\Anaconda3\\lib\\site-packages\\sklearn\\linear_model\\logistic.py:460: FutureWarning: Default multi_class will be changed to 'auto' in 0.22. Specify the multi_class option to silence this warning.\n",
      "  \"this warning.\", FutureWarning)\n",
      "C:\\Users\\ankush\\Anaconda3\\lib\\site-packages\\sklearn\\linear_model\\logistic.py:433: FutureWarning: Default solver will be changed to 'lbfgs' in 0.22. Specify a solver to silence this warning.\n",
      "  FutureWarning)\n",
      "C:\\Users\\ankush\\Anaconda3\\lib\\site-packages\\sklearn\\linear_model\\logistic.py:460: FutureWarning: Default multi_class will be changed to 'auto' in 0.22. Specify the multi_class option to silence this warning.\n",
      "  \"this warning.\", FutureWarning)\n"
     ]
    },
    {
     "name": "stdout",
     "output_type": "stream",
     "text": [
      "Training data accuracy for LogisticRegression:  [0.875      0.8125     0.875      0.8125     0.875      0.75\n",
      " 0.71428571 0.78571429 0.84615385 0.84615385]\n"
     ]
    },
    {
     "name": "stderr",
     "output_type": "stream",
     "text": [
      "C:\\Users\\ankush\\Anaconda3\\lib\\site-packages\\sklearn\\linear_model\\logistic.py:433: FutureWarning: Default solver will be changed to 'lbfgs' in 0.22. Specify a solver to silence this warning.\n",
      "  FutureWarning)\n",
      "C:\\Users\\ankush\\Anaconda3\\lib\\site-packages\\sklearn\\linear_model\\logistic.py:460: FutureWarning: Default multi_class will be changed to 'auto' in 0.22. Specify the multi_class option to silence this warning.\n",
      "  \"this warning.\", FutureWarning)\n",
      "C:\\Users\\ankush\\Anaconda3\\lib\\site-packages\\sklearn\\linear_model\\logistic.py:433: FutureWarning: Default solver will be changed to 'lbfgs' in 0.22. Specify a solver to silence this warning.\n",
      "  FutureWarning)\n",
      "C:\\Users\\ankush\\Anaconda3\\lib\\site-packages\\sklearn\\linear_model\\logistic.py:460: FutureWarning: Default multi_class will be changed to 'auto' in 0.22. Specify the multi_class option to silence this warning.\n",
      "  \"this warning.\", FutureWarning)\n",
      "C:\\Users\\ankush\\Anaconda3\\lib\\site-packages\\sklearn\\linear_model\\logistic.py:433: FutureWarning: Default solver will be changed to 'lbfgs' in 0.22. Specify a solver to silence this warning.\n",
      "  FutureWarning)\n",
      "C:\\Users\\ankush\\Anaconda3\\lib\\site-packages\\sklearn\\linear_model\\logistic.py:460: FutureWarning: Default multi_class will be changed to 'auto' in 0.22. Specify the multi_class option to silence this warning.\n",
      "  \"this warning.\", FutureWarning)\n",
      "C:\\Users\\ankush\\Anaconda3\\lib\\site-packages\\sklearn\\linear_model\\logistic.py:433: FutureWarning: Default solver will be changed to 'lbfgs' in 0.22. Specify a solver to silence this warning.\n",
      "  FutureWarning)\n",
      "C:\\Users\\ankush\\Anaconda3\\lib\\site-packages\\sklearn\\linear_model\\logistic.py:460: FutureWarning: Default multi_class will be changed to 'auto' in 0.22. Specify the multi_class option to silence this warning.\n",
      "  \"this warning.\", FutureWarning)\n",
      "C:\\Users\\ankush\\Anaconda3\\lib\\site-packages\\sklearn\\linear_model\\logistic.py:433: FutureWarning: Default solver will be changed to 'lbfgs' in 0.22. Specify a solver to silence this warning.\n",
      "  FutureWarning)\n",
      "C:\\Users\\ankush\\Anaconda3\\lib\\site-packages\\sklearn\\linear_model\\logistic.py:460: FutureWarning: Default multi_class will be changed to 'auto' in 0.22. Specify the multi_class option to silence this warning.\n",
      "  \"this warning.\", FutureWarning)\n",
      "C:\\Users\\ankush\\Anaconda3\\lib\\site-packages\\sklearn\\linear_model\\logistic.py:433: FutureWarning: Default solver will be changed to 'lbfgs' in 0.22. Specify a solver to silence this warning.\n",
      "  FutureWarning)\n",
      "C:\\Users\\ankush\\Anaconda3\\lib\\site-packages\\sklearn\\linear_model\\logistic.py:460: FutureWarning: Default multi_class will be changed to 'auto' in 0.22. Specify the multi_class option to silence this warning.\n",
      "  \"this warning.\", FutureWarning)\n",
      "C:\\Users\\ankush\\Anaconda3\\lib\\site-packages\\sklearn\\linear_model\\logistic.py:433: FutureWarning: Default solver will be changed to 'lbfgs' in 0.22. Specify a solver to silence this warning.\n",
      "  FutureWarning)\n",
      "C:\\Users\\ankush\\Anaconda3\\lib\\site-packages\\sklearn\\linear_model\\logistic.py:460: FutureWarning: Default multi_class will be changed to 'auto' in 0.22. Specify the multi_class option to silence this warning.\n",
      "  \"this warning.\", FutureWarning)\n",
      "C:\\Users\\ankush\\Anaconda3\\lib\\site-packages\\sklearn\\linear_model\\logistic.py:433: FutureWarning: Default solver will be changed to 'lbfgs' in 0.22. Specify a solver to silence this warning.\n",
      "  FutureWarning)\n",
      "C:\\Users\\ankush\\Anaconda3\\lib\\site-packages\\sklearn\\linear_model\\logistic.py:460: FutureWarning: Default multi_class will be changed to 'auto' in 0.22. Specify the multi_class option to silence this warning.\n",
      "  \"this warning.\", FutureWarning)\n",
      "C:\\Users\\ankush\\Anaconda3\\lib\\site-packages\\sklearn\\linear_model\\logistic.py:433: FutureWarning: Default solver will be changed to 'lbfgs' in 0.22. Specify a solver to silence this warning.\n",
      "  FutureWarning)\n",
      "C:\\Users\\ankush\\Anaconda3\\lib\\site-packages\\sklearn\\linear_model\\logistic.py:460: FutureWarning: Default multi_class will be changed to 'auto' in 0.22. Specify the multi_class option to silence this warning.\n",
      "  \"this warning.\", FutureWarning)\n",
      "C:\\Users\\ankush\\Anaconda3\\lib\\site-packages\\sklearn\\linear_model\\logistic.py:433: FutureWarning: Default solver will be changed to 'lbfgs' in 0.22. Specify a solver to silence this warning.\n",
      "  FutureWarning)\n",
      "C:\\Users\\ankush\\Anaconda3\\lib\\site-packages\\sklearn\\linear_model\\logistic.py:460: FutureWarning: Default multi_class will be changed to 'auto' in 0.22. Specify the multi_class option to silence this warning.\n",
      "  \"this warning.\", FutureWarning)\n"
     ]
    },
    {
     "name": "stdout",
     "output_type": "stream",
     "text": [
      "Testing data accuracy for LogisticRegression:  [0.75       0.91666667 0.72727273 0.63636364 0.8        0.66666667\n",
      " 0.88888889 0.88888889 0.77777778 0.77777778]\n"
     ]
    }
   ],
   "source": [
    "from sklearn.model_selection import cross_val_score\n",
    "print(\"Training data accuracy for LogisticRegression: \",cross_val_score(lr, X_train, y_train, cv=10))\n",
    "print(\"Testing data accuracy for LogisticRegression: \",cross_val_score(lr, X_test, y_test, cv=10))"
   ]
  },
  {
   "cell_type": "markdown",
   "metadata": {},
   "source": [
    "### Gradient Boosting"
   ]
  },
  {
   "cell_type": "code",
   "execution_count": 268,
   "metadata": {},
   "outputs": [
    {
     "name": "stdout",
     "output_type": "stream",
     "text": [
      "Training set score: 0.9933333333333333\n",
      "\n",
      "Test set score: 0.7326732673267327\n"
     ]
    }
   ],
   "source": [
    "clf = ensemble.GradientBoostingClassifier()\n",
    "train = clf.fit(X_train, y_train)\n",
    "\n",
    "print('Training set score:', clf.score(X_train, y_train))\n",
    "print('\\nTest set score:', clf.score(X_test, y_test))"
   ]
  },
  {
   "cell_type": "markdown",
   "metadata": {},
   "source": [
    "### Cross Validation Score"
   ]
  },
  {
   "cell_type": "code",
   "execution_count": 269,
   "metadata": {
    "scrolled": true
   },
   "outputs": [
    {
     "name": "stdout",
     "output_type": "stream",
     "text": [
      "Training data accuracy for GradientBoostingClassifier:  [0.9375     0.75       0.875      0.8125     0.875      0.75\n",
      " 0.57142857 0.78571429 0.84615385 0.76923077]\n",
      "Testing data accuracy for GradientBoostingClassifier:  [0.83333333 0.83333333 0.54545455 0.72727273 0.6        0.66666667\n",
      " 0.77777778 0.77777778 0.66666667 0.77777778]\n"
     ]
    }
   ],
   "source": [
    "print(\"Training data accuracy for GradientBoostingClassifier: \",cross_val_score(clf, X_train, y_train, cv=10))\n",
    "print(\"Testing data accuracy for GradientBoostingClassifier: \",cross_val_score(clf, X_test, y_test, cv=10))"
   ]
  },
  {
   "cell_type": "markdown",
   "metadata": {},
   "source": [
    "We do observe that most of the model have overfitting in the training data.In test data, overfitting doesnot look to be a problem.Gradient boosting seems to be the winner for accuracy which is expected because it learn from its previous steps and tries to predict better.The downside of GBR is it takes lot of time to run because of its complex computations.Now lets use another NLP Method Tf-idf"
   ]
  },
  {
   "cell_type": "markdown",
   "metadata": {},
   "source": [
    "# Tf-idf"
   ]
  },
  {
   "cell_type": "code",
   "execution_count": 272,
   "metadata": {},
   "outputs": [],
   "source": [
    "abstract_list=[]\n",
    "for topic in [physics_raw, stars_raw, black_raw]:\n",
    "    for article in topic['response']['docs']:\n",
    "     abstract_list = abstract_list + article['abstract']\n",
    "\n"
   ]
  },
  {
   "cell_type": "code",
   "execution_count": 273,
   "metadata": {},
   "outputs": [
    {
     "name": "stdout",
     "output_type": "stream",
     "text": [
      "Number of features: 371\n",
      "Original sentence: \n",
      "        The roles of microRNAs (miRNAs) as important regulators of gene expression have been studied intensively. Although most of these investigations have involved the highly expressed form of the two mature miRNA species, increasing evidence points to essential roles for star-form microRNAs (miRNA*), which are usually expressed at much lower levels. Owing to the nature of miRNA biogenesis, it is challenging to use plasmids containing miRNA coding sequences for gain-of-function experiments concerning the roles of microRNA* species. Synthetic microRNA mimics could introduce specific miRNA* species into cells, but this transient overexpression system has many shortcomings. Here, we report that specific miRNA* species can be overexpressed by introducing artificially designed stem-loop sequences into short hairpin RNA (shRNA) overexpression vectors. By our prototypic plasmid, designed to overexpress hsa-miR-146b-3p, we successfully expressed high levels of hsa-miR-146b-3p without detectable change of hsa-miR-146b-5p. Functional analysis involving luciferase reporter assays showed that, like natural miRNAs, the overexpressed hsa-miR-146b-3p inhibited target gene expression by 3′UTR seed pairing. Our demonstration that this method could overexpress two other miRNAs suggests that the approach should be broadly applicable. Our novel strategy opens the way for exclusively stable overexpression of miRNA* species and analyzing their unique functions both in vitro and in vivo.\n",
      "      \n",
      "Tf_idf vector: {'vivo': 0.09654868815868473, 'vitro': 0.10649772818456893, 'novel': 0.09654868815868473, 'reporter': 0.10649772818456893, 'involving': 0.10649772818456893, 'functional': 0.10649772818456893, 'successfully': 0.10649772818456893, 'loop': 0.10649772818456893, 'sequences': 0.21299545636913786, 'nature': 0.10649772818456893, 'essential': 0.10649772818456893, 'expressed': 0.31949318455370673, 'expression': 0.21299545636913786, 'roles': 0.31949318455370673, 'method': 0.08883161317857756, 'gene': 0.21299545636913786, 'vectors': 0.10649772818456893, 'experiments': 0.09654868815868473, 'target': 0.10649772818456893, 'containing': 0.10649772818456893, 'approach': 0.10649772818456893, 'natural': 0.10649772818456893, 'important': 0.09654868815868473, 'broadly': 0.10649772818456893, 'studied': 0.10649772818456893, 'species': 0.385976203512424, 'star': 0.0771952407024848, 'evidence': 0.08883161317857756, 'involved': 0.10649772818456893, 'form': 0.21299545636913786, 'specific': 0.19309737631736945, 'lower': 0.08883161317857756, 'designed': 0.19309737631736945, 'introduce': 0.09654868815868473, 'cells': 0.08883161317857756, 'report': 0.10649772818456893, 'increasing': 0.10649772818456893, 'showed': 0.08252630381165965, 'high': 0.0771952407024848, 'way': 0.10649772818456893, 'use': 0.08883161317857756, 'short': 0.09654868815868473, 'levels': 0.1543904814049696, 'change': 0.10649772818456893, 'analysis': 0.08252630381165965, 'usually': 0.10649772818456893, 'function': 0.08883161317857756}\n"
     ]
    }
   ],
   "source": [
    "from sklearn.feature_extraction.text import TfidfVectorizer\n",
    "X=abstract_list\n",
    "X_train, X_test = train_test_split(X, test_size=0.4, random_state=0)\n",
    "\n",
    "vectorizer = TfidfVectorizer(max_df=0.5, # drop words that occur in more than half the paragraphs\n",
    "                             min_df=2, # only use words that appear at least twice\n",
    "                             stop_words='english', \n",
    "                             lowercase=True, #convert everything to lower case (since Alice in Wonderland has the HABIT of CAPITALIZING WORDS for EMPHASIS)\n",
    "                             use_idf=True,#we definitely want to use inverse document frequencies in our weighting\n",
    "                             norm=u'l2', #Applies a correction factor so that longer paragraphs and shorter paragraphs get treated equally\n",
    "                             smooth_idf=True #Adds 1 to all document frequencies, as if an extra document existed that used every word once.  Prevents divide-by-zero errors\n",
    "                            )\n",
    "\n",
    "\n",
    "#Applying the vectorizer\n",
    "X_tfidf=vectorizer.fit_transform(X)\n",
    "print(\"Number of features: %d\" % X_tfidf.get_shape()[1])\n",
    "\n",
    "#splitting into training and test sets\n",
    "X_train_tfidf, X_test_tfidf= train_test_split(X_tfidf, test_size=0.4, random_state=0)\n",
    "\n",
    "\n",
    "#Reshapes the vectorizer output into something people can read\n",
    "X_train_tfidf_csr = X_train_tfidf.tocsr()\n",
    "\n",
    "#number of paragraphs\n",
    "n = X_train_tfidf_csr.shape[0]\n",
    "#A list of dictionaries, one per paragraph\n",
    "tfidf_bypara = [{} for _ in range(0,n)]\n",
    "#List of features\n",
    "terms = vectorizer.get_feature_names()\n",
    "#for each paragraph, lists the feature words and their tf-idf scores\n",
    "for i, j in zip(*X_train_tfidf_csr.nonzero()):\n",
    "    tfidf_bypara[i][terms[j]] = X_train_tfidf_csr[i, j]\n",
    "\n",
    "#Keep in mind that the log base 2 of 1 is 0, so a tf-idf score of 0 indicates that the word was present once in that sentence.\n",
    "print('Original sentence:', X_train[5])\n",
    "print('Tf_idf vector:', tfidf_bypara[5])\n",
    "\n"
   ]
  },
  {
   "cell_type": "markdown",
   "metadata": {},
   "source": [
    "# Dimension Reduction"
   ]
  },
  {
   "cell_type": "code",
   "execution_count": 274,
   "metadata": {},
   "outputs": [
    {
     "name": "stdout",
     "output_type": "stream",
     "text": [
      "Percent variance captured by all components: 99.99999999999987\n",
      "Component 0:\n",
      "Background: Despite a consensus emerging that affirms that shorter epochs should be used in youth to correctly register physical activity levels in free-living conditions, little is known about its effect on children’s physical activity conducted in structured periods of time. This study analyzed the effect that epoch length (1, 2, 3, 5, 10, 15, 30 and 60s) may have on different physical activity intensities in physical education lessons. Methods: A sample of 1912 individual measures of physical education lessons were measured with a GT3X accelerometer. Data were collected from 1227 Swiss Elementary school students recruited in 17 elementary schools. PE lessons lasted from 45 minutes to one and a half hours. Data, originally collected in 1-s epoch, were then reintegrated into 2s, – 3s – 5s – 10s – 15s – 30s –60s epochs. Results: Longer epochs were associated with higher levels of light (F = 8197.6, p < .001), moderate (F = 2708.17, p < .001), and moderate-to-vigorous physical activity (F = 888.08, p < .001). However, longer epochs showed lower levels of sedentary activity (F = 31714.33, p < .001) and vigorous physical activity (F = 1910.97, p < .001). Bias increased in all PA intensities when shorter epochs were compared with longer epochs. There were statistically significant differences in compliance with physical education guidelines (χ2 = 989.27, p<.001), showing higher levels with longer epochs. Conclusion: PA context may have some influence on the effects that epoch length have on PA estimates, more specifically on MVPA. Nevertheless, the use of a high-frequency sampling interval should be used to more accurately assess children’s PA.                                                                                                                                                                                                                                                                                                                                                                                                                                                                                                                                                                                                                                                                                                                                                                                                                                                                                                                                                                                                                                                                                                                                                                                                                                                                                                                                          0.759533\n",
      "Background: Better physical functioning in the elderly may be associated with higher physical activity levels. Since older adults spend a substantial part of the day in their residential neighborhood, the neighborhood physical environment may moderate associations between functioning and older adults’ physical activity. The present study investigated the moderating role of the objective and perceived physical environment on associations between Belgian older adults’ physical functioning and transport walking, recreational walking, and moderate-to-vigorous physical activity. Methods: Data from 438 older adults were included. Objective physical functioning was assessed using the Short Physical Performance Battery. Potential moderators included objective neighborhood walkability and perceptions of land use mix diversity, access to recreational facilities, access to services, street connectivity, physical barriers for walking, aesthetics, crime-related safety, traffic speeding-related safety, and walking infrastructure. Transport and recreational walking were self-reported, moderate-to-vigorous physical activity was assessed through accelerometers. Multi-level regression analyses were conducted using MLwiN to examine two-way interactions between functioning and the environment on both walking outcomes. Based on a previous study where environment x neighborhood income associations were found for Belgian older adults’ moderate-to-vigorous physical activity, three-way functioning x environment x income interactions were examined for moderate-to-vigorous physical activity. Results: Objectively-measured walkability moderated the association between functioning and transport walking; this positive association was only present in high-walkable neighborhoods. Moreover, a three-way interaction was observed for moderate-to-vigorous physical activity. Only in high-income, high-walkable neighborhoods, there was a positive association between functioning and moderate-to-vigorous physical activity. No functioning x walkability interactions were observed for recreational walking, and none of the perceived environmental variables moderated the positive association between physical functioning and the physical activity outcomes. Conclusions: For older adults with better physical functioning, living in a high-walkable neighborhood could be beneficial to engage in more transport walking. Living in high-income, high-walkable neighborhoods and having better functioning might also be beneficial for more engagement in moderate-to-vigorous physical activity. This might suggest a protective role of neighborhood walkability for preventing declining physical functioning and consequently decreasing physical activity levels in older adults. However, given the cross-sectional design of the present study, this suggestion needs to be confirmed through longitudinal assessment investigating over-time changes in the observed associations.     0.668245\n",
      "Purpose: Mitochondrial disease is the most common neuromuscular disease and has a profound impact upon daily life, disease and longevity. Exercise therapy has been shown to improve mitochondrial function in patients with mitochondrial disease. However, no information exists about the level of habitual physical activity of people with mitochondrial disease and its relationship with clinical phenotype. Methods: Habitual physical activity, genotype and clinical presentations were assessed in 100 patients with mitochondrial disease. Comparisons were made with a control group individually matched by age, gender and BMI. Results: Patients with mitochondrial disease had significantly lower levels of physical activity in comparison to matched people without mitochondrial disease (steps/day; 6883±3944 vs. 9924±4088, p = 0.001). 78% of the mitochondrial disease cohort did not achieve 10,000 steps per day and 48%were classified as overweight or obese. Mitochondrial disease was associated with less breaks in sedentary activity (Sedentary to Active Transitions, % per day; 13±0.03 vs. 14±0.03, p = 0.001) and an increase in sedentary bout duration (bout lengths / fraction of total sedentary time; 0.206±0.044 vs. 0.187±0.026, p = 0.001). After adjusting for covariates, higher physical activity was moderately associated with lower clinical disease burden (steps / day; rs = −0.49; 95% CI −0.33, −0.63, P<0.01). There were no systematic differences in physical activity between different genotypes mitochondrial disease. Conclusions: These results demonstrate for the first time that low levels of physical activity are prominent in mitochondrial disease. Combined with a high prevalence of obesity, physical activity may constitute a significant and potentially modifiable risk factor in mitochondrial disease.                                                                                                                                                                                                                                                                                                                                                                                                                                                                                                                                                                                                                                                                                                                                                                                                                                                                                                                                                                                                                                                                                                                                                                                       0.586744\n",
      "\\nThe purpose of this study was to construct and validate a “Perceived Physical Literacy Instrument” (PPLI) for physical education teachers. Based on literature review and focus group interviews, an 18-item instrument was developed for the initial tests. This self-report measure, using a 5-point Likert scale, formed the PPLI and was administered to 336 physical education teachers in Hong Kong. The sample was randomly split, and exploratory and confirmatory factor analyses resulted in a 9-item, 3-factor scale. Exploratory factor analysis (EFA) item loadings ranged from 0.69 to 0.87, and Cronbach’s alpha ranged from 0.73 to 0.76. Confirmatory factor analysis (CFA) showed that the construct demonstrated good fit to the model. The PPLI thus appeared to be reliable and valid to measure the perceived physical literacy of physical education teachers. It is argued that the instrument can be used for both research and applied purposes and potential uses for the instrument in physical education, medical and health settings are discussed.\\n                                                                                                                                                                                                                                                                                                                                                                                                                                                                                                                                                                                                                                                                                                                                                                                                                                                                                                                                                                                                                                                                                                                                                                                                                                                                                                                                                                                                                                                                                                                                                                                                                                                                                                                                                                                                                                                                                                                                                                                         0.530477\n",
      "\\nIn the European Investigation into Cancer and Nutrition study (EPIC), physical activity (PA) has been indexed as a cross-tabulation between PA at work and recreational activity. As the proportion of non-working participants increases, other categorization strategies are needed. Therefore, our aim was to develop a valid PA index for this population, which will also be able to express PA continuously. In the German EPIC centers Potsdam and Heidelberg, a clustered sample of 3,766 participants was re-invited to the study center. 1,615 participants agreed to participate and 1,344 participants were finally included in this study. PA was measured by questionnaires on defined activities and a 7-day combined heart rate and acceleration sensor. In a training sample of 433 participants, the Improved Physical Activity Index (IPAI) was developed. Its performance was evaluated in a validation sample of 911 participants and compared with the Cambridge Index and the Total PA Index. The IPAI consists of items covering five areas including PA at work, sport, cycling, television viewing, and computer use. The correlations of the IPAI with accelerometer counts in the training and validation sample ranged r = 0.40–0.43 and with physical activity energy expenditure (PAEE) r = 0.33–0.40 and were higher than for the Cambridge Index and the Total PA Index previously applied in EPIC. In non-working participants the IPAI showed higher correlations than the Cambridge Index and the Total PA Index, with r = 0.34 for accelerometer counts and r = 0.29 for PAEE. In conclusion, we developed a valid physical activity index which is able to express PA continuously as well as to categorize participants according to their PA level. In populations with increasing rates of non-working people the performance of the IPAI is better than the established indices used in EPIC.\\n                                                                                                                                                                                                                                                                                                                                                                                                                                                                                                                                                                                                                                                                                                                                                                                                                                                                                                                                                                                                                                                                                                                                   0.487637\n",
      "\\nDisease outbreaks can have substantial impacts on wild populations, but the often patchy or anecdotal evidence of these impacts impedes our ability to understand outbreak dynamics. Recently however, a severe disease outbreak occurred in a group of very well-studied organisms–sea stars along the west coast of North America. We analyzed nearly two decades of data from a coordinated monitoring effort at 88 sites ranging from southern British Columbia to San Diego, California along with 2 sites near Sitka, Alaska to better understand the effects of sea star wasting disease (SSWD) on the keystone intertidal predator, Pisaster ochraceus. Quantitative surveys revealed unprecedented declines of P. ochraceus in 2014 and 2015 across nearly the entire geographic range of the species. The intensity of the impact of SSWD was not uniform across the affected area, with proportionally greater population declines in the southern regions relative to the north. The degree of population decline was unrelated to pre-outbreak P. ochraceus density, although these factors have been linked in other well-documented disease events. While elevated seawater temperatures were not broadly linked to the initial emergence of SSWD, anomalously high seawater temperatures in 2014 and 2015 might have exacerbated the disease’s impact. Both before and after the onset of the SSWD outbreak, we documented higher recruitment of P. ochraceus in the north than in the south, and while some juveniles are surviving (as evidenced by transition of recruitment pulses to larger size classes), post-SSWD survivorship is lower than during pre-SSWD periods. In hindsight, our data suggest that the SSWD event defied prediction based on two factors found to be important in other marine disease events, sea water temperature and population density, and illustrate the importance of surveillance of natural populations as one element of an integrated approach to marine disease ecology. Low levels of SSWD-symptomatic sea stars are still present throughout the impacted range, thus the outlook for population recovery is uncertain.\\n                                                                                                                                                                                                                                                                                                                                                                                                                                                                                                                                                                                                                                                                                                                                                                                                                                                                                     0.268322\n",
      "\\n        As biomedical investigators strive to integrate data and analyses across spatiotemporal scales and biomedical domains, they have recognized the benefits of formalizing languages and terminologies via computational ontologies. Although ontologies for biological entities—molecules, cells, organs—are well-established, there are no principled ontologies of physical properties—energies, volumes, flow rates—of those entities. In this paper, we introduce the Ontology of Physics for Biology (OPB), a reference ontology of classical physics designed for annotating biophysical content of growing repositories of biomedical datasets and analytical models. The OPB's semantic framework, traceable to James Clerk Maxwell, encompasses modern theories of system dynamics and thermodynamics, and is implemented as a computational ontology that references available upper ontologies. In this paper we focus on the OPB classes that are designed for annotating physical properties encoded in biomedical datasets and computational models, and we discuss how the OPB framework will facilitate biomedical knowledge integration.\\n                                                                                                                                                                                                                                                                                                                                                                                                                                                                                                                                                                                                                                                                                                                                                                                                                                                                                                                                                                                                                                                                                                                                                                                                                                                                                                                                                                                                                                                                                                                                                                                                                                                                                                                                                                                                                                                                                                           0.244108\n",
      "\\nThe Lone Star tick, Amblyomma americanum, transmits several bacterial pathogens including species of Anaplasma and Ehrlichia. Amblyomma americanum also hosts a number of non-pathogenic bacterial endosymbionts. Recent studies of other arthropod and insect vectors have documented that commensal microflora can influence transmission of vector-borne pathogens; however, little is known about tick microbiomes and their possible influence on tick-borne diseases. Our objective was to compare bacterial communities associated with A. americanum, comparing Anaplasma/Ehrlichia -infected and uninfected ticks. Field-collected questing specimens (n = 50) were used in the analyses, of which 17 were identified as Anaplasma/Ehrlichia infected based on PCR amplification and sequencing of groEL genes. Bacterial communities from each specimen were characterized using Illumina sequencing of 16S rRNA gene amplicon libraries. There was a broad range in diversity between samples, with inverse Simpson’s Diversity indices ranging from 1.28–89.5. There were no statistical differences in the overall microbial community structure between PCR diagnosed Anaplasma/Ehrlichia-positive and negative ticks, but there were differences based on collection method (P < 0.05), collection site (P < 0.05), and sex (P < 0.1) suggesting that environmental factors may structure A. americanum microbiomes. Interestingly, there was not always agreement between Illumina sequencing and PCR diagnostics: Ehrlichia was identified in 16S rRNA gene libraries from three PCR-negative specimens; conversely, Ehrlichia was not found in libraries of six PCR-positive ticks. Illumina sequencing also helped identify co-infections, for example, one specimen had both Ehrlichia and Anaplasma. Other taxa of interest in these specimens included Coxiella, Borrelia, and Rickettsia. Identification of bacterial community differences between specimens of a single tick species from a single geographical site indicates that intra-species differences in microbiomes were not due solely to pathogen presence/absence, but may be also driven by vector life history factors, including environment, life stage, population structure, and host choice.\\n                                                                                                                                                                                                                                                                                                                                                                                                                                                                                                                                                                                                                                                                                                                                                                                  0.240022\n",
      "\\n        The roles of microRNAs (miRNAs) as important regulators of gene expression have been studied intensively. Although most of these investigations have involved the highly expressed form of the two mature miRNA species, increasing evidence points to essential roles for star-form microRNAs (miRNA*), which are usually expressed at much lower levels. Owing to the nature of miRNA biogenesis, it is challenging to use plasmids containing miRNA coding sequences for gain-of-function experiments concerning the roles of microRNA* species. Synthetic microRNA mimics could introduce specific miRNA* species into cells, but this transient overexpression system has many shortcomings. Here, we report that specific miRNA* species can be overexpressed by introducing artificially designed stem-loop sequences into short hairpin RNA (shRNA) overexpression vectors. By our prototypic plasmid, designed to overexpress hsa-miR-146b-3p, we successfully expressed high levels of hsa-miR-146b-3p without detectable change of hsa-miR-146b-5p. Functional analysis involving luciferase reporter assays showed that, like natural miRNAs, the overexpressed hsa-miR-146b-3p inhibited target gene expression by 3′UTR seed pairing. Our demonstration that this method could overexpress two other miRNAs suggests that the approach should be broadly applicable. Our novel strategy opens the way for exclusively stable overexpression of miRNA* species and analyzing their unique functions both in vitro and in vivo.\\n                                                                                                                                                                                                                                                                                                                                                                                                                                                                                                                                                                                                                                                                                                                                                                                                                                                                                                                                                                                                                                                                                                                                                                                                                                                                                                                                                                                                                                                                                                                       0.233310\n",
      "Background: STARS (STriated muscle Activator of Rho Signaling) is a sarcomeric protein expressed early in cardiac development that acts as an acute stress sensor for pathological remodeling. However the role of STARS in cardiac development and function is incompletely understood. Here, we investigated the role of STARS in heart development and function in the zebrafish model and in vitro. Methodology and Principal Findings: Expression of zebrafish STARS (zSTARS) first occurs in the somites by the 16 somite stage [17 hours post fertilization (hpf)]. zSTARS is expressed in both chambers of the heart by 48 hpf, and also in the developing brain, jaw structures and pectoral fins. Morpholino-induced knockdown of zSTARS alters atrial and ventricular dimensions and decreases ventricular fractional shortening (measured by high-speed video microscopy), with pericardial edema and decreased or absent circulation [abnormal cardiac phenotypes in 126/164 (77%) of morpholino-injected embryos vs. 0/152 (0%) of control morpholino embryos]. Co-injection of zsrf (serum response factor) mRNA rescues the cardiac phenotype of zSTARS knockdown, resulting in improved fractional shortening and ventricular end-diastolic dimensions. Ectopic over-expression of STARS in vitro activates the STARS proximal promoter, which contains a conserved SRF site. Chromatin immunoprecipitation demonstrates that SRF binds to this site in vivo and the SRF inhibitor CCG-1423 completely blocks STARS proximal reporter activity in H9c2 cells. Conclusions/Significance: This study demonstrates for the first time that STARS deficiency severely disrupts cardiac development and function in vivo and revealed a novel STARS-SRF feed-forward autoregulatory loop that could play an essential role in STARS regulation and cardiac function.                                                                                                                                                                                                                                                                                                                                                                                                                                                                                                                                                                                                                                                                                                                                                                                                                                                                                                                                                                                                                                                                                                                                                                                              0.190058\n"
     ]
    },
    {
     "name": "stdout",
     "output_type": "stream",
     "text": [
      "Name: 0, dtype: float64\n",
      "Component 1:\n",
      "\\n        This review presents a comprehensive overview of the current status regarding the global diversity of the echinoderm class Ophiuroidea, focussing on taxonomy and distribution patterns, with brief introduction to their anatomy, biology, phylogeny, and palaeontological history. A glossary of terms is provided. Species names and taxonomic decisions have been extracted from the literature and compiled in The World Ophiuroidea Database, part of the World Register of Marine Species (WoRMS). Ophiuroidea, with 2064 known species, are the largest class of Echinodermata. A table presents 16 families with numbers of genera and species. The largest are Amphiuridae (467), Ophiuridae (344 species) and Ophiacanthidae (319 species). A biogeographic analysis for all world oceans and all accepted species was performed, based on published distribution records. Approximately similar numbers of species were recorded from the shelf (n = 1313) and bathyal depth strata (1297). The Indo-Pacific region had the highest species richness overall (825 species) and at all depths. Adjacent regions were also relatively species rich, including the North Pacific (398), South Pacific (355) and Indian (316) due to the presence of many Indo-Pacific species that partially extended into these regions. A secondary region of enhanced species richness was found in the West Atlantic (335). Regions of relatively low species richness include the Arctic (73 species), East Atlantic (118), South America (124) and Antarctic (126).\\n                                                                                                                                                                                                                                                                                                                                                                                                                                                                                                                                                                                                                                                                                                                  6.827873e-01\n",
      "\\n        The roles of microRNAs (miRNAs) as important regulators of gene expression have been studied intensively. Although most of these investigations have involved the highly expressed form of the two mature miRNA species, increasing evidence points to essential roles for star-form microRNAs (miRNA*), which are usually expressed at much lower levels. Owing to the nature of miRNA biogenesis, it is challenging to use plasmids containing miRNA coding sequences for gain-of-function experiments concerning the roles of microRNA* species. Synthetic microRNA mimics could introduce specific miRNA* species into cells, but this transient overexpression system has many shortcomings. Here, we report that specific miRNA* species can be overexpressed by introducing artificially designed stem-loop sequences into short hairpin RNA (shRNA) overexpression vectors. By our prototypic plasmid, designed to overexpress hsa-miR-146b-3p, we successfully expressed high levels of hsa-miR-146b-3p without detectable change of hsa-miR-146b-5p. Functional analysis involving luciferase reporter assays showed that, like natural miRNAs, the overexpressed hsa-miR-146b-3p inhibited target gene expression by 3′UTR seed pairing. Our demonstration that this method could overexpress two other miRNAs suggests that the approach should be broadly applicable. Our novel strategy opens the way for exclusively stable overexpression of miRNA* species and analyzing their unique functions both in vitro and in vivo.\\n                                                                                                                                                                                                                                                                                                                                                                                                                                                                                                                                                                                                                                                                                                                                         6.584803e-01\n",
      "\\nThe Lone Star tick, Amblyomma americanum, transmits several bacterial pathogens including species of Anaplasma and Ehrlichia. Amblyomma americanum also hosts a number of non-pathogenic bacterial endosymbionts. Recent studies of other arthropod and insect vectors have documented that commensal microflora can influence transmission of vector-borne pathogens; however, little is known about tick microbiomes and their possible influence on tick-borne diseases. Our objective was to compare bacterial communities associated with A. americanum, comparing Anaplasma/Ehrlichia -infected and uninfected ticks. Field-collected questing specimens (n = 50) were used in the analyses, of which 17 were identified as Anaplasma/Ehrlichia infected based on PCR amplification and sequencing of groEL genes. Bacterial communities from each specimen were characterized using Illumina sequencing of 16S rRNA gene amplicon libraries. There was a broad range in diversity between samples, with inverse Simpson’s Diversity indices ranging from 1.28–89.5. There were no statistical differences in the overall microbial community structure between PCR diagnosed Anaplasma/Ehrlichia-positive and negative ticks, but there were differences based on collection method (P < 0.05), collection site (P < 0.05), and sex (P < 0.1) suggesting that environmental factors may structure A. americanum microbiomes. Interestingly, there was not always agreement between Illumina sequencing and PCR diagnostics: Ehrlichia was identified in 16S rRNA gene libraries from three PCR-negative specimens; conversely, Ehrlichia was not found in libraries of six PCR-positive ticks. Illumina sequencing also helped identify co-infections, for example, one specimen had both Ehrlichia and Anaplasma. Other taxa of interest in these specimens included Coxiella, Borrelia, and Rickettsia. Identification of bacterial community differences between specimens of a single tick species from a single geographical site indicates that intra-species differences in microbiomes were not due solely to pathogen presence/absence, but may be also driven by vector life history factors, including environment, life stage, population structure, and host choice.\\n    4.922966e-01\n",
      "Background: STARS (STriated muscle Activator of Rho Signaling) is a sarcomeric protein expressed early in cardiac development that acts as an acute stress sensor for pathological remodeling. However the role of STARS in cardiac development and function is incompletely understood. Here, we investigated the role of STARS in heart development and function in the zebrafish model and in vitro. Methodology and Principal Findings: Expression of zebrafish STARS (zSTARS) first occurs in the somites by the 16 somite stage [17 hours post fertilization (hpf)]. zSTARS is expressed in both chambers of the heart by 48 hpf, and also in the developing brain, jaw structures and pectoral fins. Morpholino-induced knockdown of zSTARS alters atrial and ventricular dimensions and decreases ventricular fractional shortening (measured by high-speed video microscopy), with pericardial edema and decreased or absent circulation [abnormal cardiac phenotypes in 126/164 (77%) of morpholino-injected embryos vs. 0/152 (0%) of control morpholino embryos]. Co-injection of zsrf (serum response factor) mRNA rescues the cardiac phenotype of zSTARS knockdown, resulting in improved fractional shortening and ventricular end-diastolic dimensions. Ectopic over-expression of STARS in vitro activates the STARS proximal promoter, which contains a conserved SRF site. Chromatin immunoprecipitation demonstrates that SRF binds to this site in vivo and the SRF inhibitor CCG-1423 completely blocks STARS proximal reporter activity in H9c2 cells. Conclusions/Significance: This study demonstrates for the first time that STARS deficiency severely disrupts cardiac development and function in vivo and revealed a novel STARS-SRF feed-forward autoregulatory loop that could play an essential role in STARS regulation and cardiac function.                                                                                                                                                                                                                                                                                                                                                                                                                2.734988e-01\n",
      "\\nDisease outbreaks can have substantial impacts on wild populations, but the often patchy or anecdotal evidence of these impacts impedes our ability to understand outbreak dynamics. Recently however, a severe disease outbreak occurred in a group of very well-studied organisms–sea stars along the west coast of North America. We analyzed nearly two decades of data from a coordinated monitoring effort at 88 sites ranging from southern British Columbia to San Diego, California along with 2 sites near Sitka, Alaska to better understand the effects of sea star wasting disease (SSWD) on the keystone intertidal predator, Pisaster ochraceus. Quantitative surveys revealed unprecedented declines of P. ochraceus in 2014 and 2015 across nearly the entire geographic range of the species. The intensity of the impact of SSWD was not uniform across the affected area, with proportionally greater population declines in the southern regions relative to the north. The degree of population decline was unrelated to pre-outbreak P. ochraceus density, although these factors have been linked in other well-documented disease events. While elevated seawater temperatures were not broadly linked to the initial emergence of SSWD, anomalously high seawater temperatures in 2014 and 2015 might have exacerbated the disease’s impact. Both before and after the onset of the SSWD outbreak, we documented higher recruitment of P. ochraceus in the north than in the south, and while some juveniles are surviving (as evidenced by transition of recruitment pulses to larger size classes), post-SSWD survivorship is lower than during pre-SSWD periods. In hindsight, our data suggest that the SSWD event defied prediction based on two factors found to be important in other marine disease events, sea water temperature and population density, and illustrate the importance of surveillance of natural populations as one element of an integrated approach to marine disease ecology. Low levels of SSWD-symptomatic sea stars are still present throughout the impacted range, thus the outlook for population recovery is uncertain.\\n                                                                                                       2.730827e-01\n",
      "\\nTriadic relationships are accepted to play a key role in the dynamics of social and political networks. Building on insights gleaned from balance theory in social network studies and from Boltzmann-Gibbs statistical physics, we propose a model to quantitatively capture the dynamics of the four types of triadic relationships in a network. Central to our model are the triads’ incidence rates and the idea that those can be modeled by assigning a specific triadic energy to each type of triadic relation. We emphasize the role of the degeneracy of the different triads and how it impacts the degree of frustration in the political network. In order to account for a persistent form of disorder in the formation of the triadic relationships, we introduce the systemic variable temperature. In order to learn about the dynamics and motives, we propose a generic Hamiltonian with three terms to model the triadic energies. One term is connected with a three-body interaction that captures balance theory. The other terms take into account the impact of heterogeneity and of negative edges in the triads. The validity of our model is tested on four datasets including the time series of triadic relationships for the standings between two classes of alliances in a massively multiplayer online game (MMOG). We also analyze real-world data for the relationships between the “agents” involved in the Syrian civil war, and in the relations between countries during the Cold War era. We find emerging properties in the triadic relationships in a political network, for example reflecting itself in a persistent hierarchy between the four triadic energies, and in the consistency of the extracted parameters from comparing the model Hamiltonian to the data.\\n                                                                                                                                                                                                                                                                                                                                                                                                                                                                        2.378938e-01\n",
      "\\n        As biomedical investigators strive to integrate data and analyses across spatiotemporal scales and biomedical domains, they have recognized the benefits of formalizing languages and terminologies via computational ontologies. Although ontologies for biological entities—molecules, cells, organs—are well-established, there are no principled ontologies of physical properties—energies, volumes, flow rates—of those entities. In this paper, we introduce the Ontology of Physics for Biology (OPB), a reference ontology of classical physics designed for annotating biophysical content of growing repositories of biomedical datasets and analytical models. The OPB's semantic framework, traceable to James Clerk Maxwell, encompasses modern theories of system dynamics and thermodynamics, and is implemented as a computational ontology that references available upper ontologies. In this paper we focus on the OPB classes that are designed for annotating physical properties encoded in biomedical datasets and computational models, and we discuss how the OPB framework will facilitate biomedical knowledge integration.\\n                                                                                                                                                                                                                                                                                                                                                                                                                                                                                                                                                                                                                                                                                                                                                                                                                                                                                                                                                                                                                                                                                                                             6.617769e-02\n",
      "                                                                                                                                                                                                                                                                                                                                                                                                                                                                                                                                                                                                                                                                                                                                                                                                                                                                                                                                                                                                                                                                                                                                                                                                                                                                                                                                                                                                                                                                                                                                                                                                                                                                                                                                                                                                                                                                                                                                                                                                                                                                                                                                                                                                                                                                                               -3.089266e-07\n",
      "Purpose: Mitochondrial disease is the most common neuromuscular disease and has a profound impact upon daily life, disease and longevity. Exercise therapy has been shown to improve mitochondrial function in patients with mitochondrial disease. However, no information exists about the level of habitual physical activity of people with mitochondrial disease and its relationship with clinical phenotype. Methods: Habitual physical activity, genotype and clinical presentations were assessed in 100 patients with mitochondrial disease. Comparisons were made with a control group individually matched by age, gender and BMI. Results: Patients with mitochondrial disease had significantly lower levels of physical activity in comparison to matched people without mitochondrial disease (steps/day; 6883±3944 vs. 9924±4088, p = 0.001). 78% of the mitochondrial disease cohort did not achieve 10,000 steps per day and 48%were classified as overweight or obese. Mitochondrial disease was associated with less breaks in sedentary activity (Sedentary to Active Transitions, % per day; 13±0.03 vs. 14±0.03, p = 0.001) and an increase in sedentary bout duration (bout lengths / fraction of total sedentary time; 0.206±0.044 vs. 0.187±0.026, p = 0.001). After adjusting for covariates, higher physical activity was moderately associated with lower clinical disease burden (steps / day; rs = −0.49; 95% CI −0.33, −0.63, P<0.01). There were no systematic differences in physical activity between different genotypes mitochondrial disease. Conclusions: These results demonstrate for the first time that low levels of physical activity are prominent in mitochondrial disease. Combined with a high prevalence of obesity, physical activity may constitute a significant and potentially modifiable risk factor in mitochondrial disease.                                                                                                                                                                                                                                                                                                                                                                                                        -1.061127e-01\n",
      "\\nThe purpose of this study was to construct and validate a “Perceived Physical Literacy Instrument” (PPLI) for physical education teachers. Based on literature review and focus group interviews, an 18-item instrument was developed for the initial tests. This self-report measure, using a 5-point Likert scale, formed the PPLI and was administered to 336 physical education teachers in Hong Kong. The sample was randomly split, and exploratory and confirmatory factor analyses resulted in a 9-item, 3-factor scale. Exploratory factor analysis (EFA) item loadings ranged from 0.69 to 0.87, and Cronbach’s alpha ranged from 0.73 to 0.76. Confirmatory factor analysis (CFA) showed that the construct demonstrated good fit to the model. The PPLI thus appeared to be reliable and valid to measure the perceived physical literacy of physical education teachers. It is argued that the instrument can be used for both research and applied purposes and potential uses for the instrument in physical education, medical and health settings are discussed.\\n                                                                                                                                                                                                                                                                                                                                                                                                                                                                                                                                                                                                                                                                                                                                                                                                                                                                                                                                                                                                                                                                                                                                                                                                          -1.626315e-01\n"
     ]
    },
    {
     "name": "stdout",
     "output_type": "stream",
     "text": [
      "Name: 1, dtype: float64\n",
      "Component 2:\n",
      "\\n        As biomedical investigators strive to integrate data and analyses across spatiotemporal scales and biomedical domains, they have recognized the benefits of formalizing languages and terminologies via computational ontologies. Although ontologies for biological entities—molecules, cells, organs—are well-established, there are no principled ontologies of physical properties—energies, volumes, flow rates—of those entities. In this paper, we introduce the Ontology of Physics for Biology (OPB), a reference ontology of classical physics designed for annotating biophysical content of growing repositories of biomedical datasets and analytical models. The OPB's semantic framework, traceable to James Clerk Maxwell, encompasses modern theories of system dynamics and thermodynamics, and is implemented as a computational ontology that references available upper ontologies. In this paper we focus on the OPB classes that are designed for annotating physical properties encoded in biomedical datasets and computational models, and we discuss how the OPB framework will facilitate biomedical knowledge integration.\\n                                                                                                                                                                                                                                                                                                                                                                                                                                                                                                                                                                                                                                                                                                                                                                                                                                                                                                                                                                                                                                                                                                                                                                                                                                                                                                                                                                                                                                                                                                                                                                                                                                                                                                                                                                                                                                                                                                           0.663960\n",
      "\\nTriadic relationships are accepted to play a key role in the dynamics of social and political networks. Building on insights gleaned from balance theory in social network studies and from Boltzmann-Gibbs statistical physics, we propose a model to quantitatively capture the dynamics of the four types of triadic relationships in a network. Central to our model are the triads’ incidence rates and the idea that those can be modeled by assigning a specific triadic energy to each type of triadic relation. We emphasize the role of the degeneracy of the different triads and how it impacts the degree of frustration in the political network. In order to account for a persistent form of disorder in the formation of the triadic relationships, we introduce the systemic variable temperature. In order to learn about the dynamics and motives, we propose a generic Hamiltonian with three terms to model the triadic energies. One term is connected with a three-body interaction that captures balance theory. The other terms take into account the impact of heterogeneity and of negative edges in the triads. The validity of our model is tested on four datasets including the time series of triadic relationships for the standings between two classes of alliances in a massively multiplayer online game (MMOG). We also analyze real-world data for the relationships between the “agents” involved in the Syrian civil war, and in the relations between countries during the Cold War era. We find emerging properties in the triadic relationships in a political network, for example reflecting itself in a persistent hierarchy between the four triadic energies, and in the consistency of the extracted parameters from comparing the model Hamiltonian to the data.\\n                                                                                                                                                                                                                                                                                                                                                                                                                                                                                                                                                                                                                                                                                                                                                                                                                                                                                                                                                                                                                                                                                                                                                                                                                                                      0.564825\n",
      "\\nThe purpose of this study was to construct and validate a “Perceived Physical Literacy Instrument” (PPLI) for physical education teachers. Based on literature review and focus group interviews, an 18-item instrument was developed for the initial tests. This self-report measure, using a 5-point Likert scale, formed the PPLI and was administered to 336 physical education teachers in Hong Kong. The sample was randomly split, and exploratory and confirmatory factor analyses resulted in a 9-item, 3-factor scale. Exploratory factor analysis (EFA) item loadings ranged from 0.69 to 0.87, and Cronbach’s alpha ranged from 0.73 to 0.76. Confirmatory factor analysis (CFA) showed that the construct demonstrated good fit to the model. The PPLI thus appeared to be reliable and valid to measure the perceived physical literacy of physical education teachers. It is argued that the instrument can be used for both research and applied purposes and potential uses for the instrument in physical education, medical and health settings are discussed.\\n                                                                                                                                                                                                                                                                                                                                                                                                                                                                                                                                                                                                                                                                                                                                                                                                                                                                                                                                                                                                                                                                                                                                                                                                                                                                                                                                                                                                                                                                                                                                                                                                                                                                                                                                                                                                                                                                                                                                                                                         0.203249\n",
      "Background: Better physical functioning in the elderly may be associated with higher physical activity levels. Since older adults spend a substantial part of the day in their residential neighborhood, the neighborhood physical environment may moderate associations between functioning and older adults’ physical activity. The present study investigated the moderating role of the objective and perceived physical environment on associations between Belgian older adults’ physical functioning and transport walking, recreational walking, and moderate-to-vigorous physical activity. Methods: Data from 438 older adults were included. Objective physical functioning was assessed using the Short Physical Performance Battery. Potential moderators included objective neighborhood walkability and perceptions of land use mix diversity, access to recreational facilities, access to services, street connectivity, physical barriers for walking, aesthetics, crime-related safety, traffic speeding-related safety, and walking infrastructure. Transport and recreational walking were self-reported, moderate-to-vigorous physical activity was assessed through accelerometers. Multi-level regression analyses were conducted using MLwiN to examine two-way interactions between functioning and the environment on both walking outcomes. Based on a previous study where environment x neighborhood income associations were found for Belgian older adults’ moderate-to-vigorous physical activity, three-way functioning x environment x income interactions were examined for moderate-to-vigorous physical activity. Results: Objectively-measured walkability moderated the association between functioning and transport walking; this positive association was only present in high-walkable neighborhoods. Moreover, a three-way interaction was observed for moderate-to-vigorous physical activity. Only in high-income, high-walkable neighborhoods, there was a positive association between functioning and moderate-to-vigorous physical activity. No functioning x walkability interactions were observed for recreational walking, and none of the perceived environmental variables moderated the positive association between physical functioning and the physical activity outcomes. Conclusions: For older adults with better physical functioning, living in a high-walkable neighborhood could be beneficial to engage in more transport walking. Living in high-income, high-walkable neighborhoods and having better functioning might also be beneficial for more engagement in moderate-to-vigorous physical activity. This might suggest a protective role of neighborhood walkability for preventing declining physical functioning and consequently decreasing physical activity levels in older adults. However, given the cross-sectional design of the present study, this suggestion needs to be confirmed through longitudinal assessment investigating over-time changes in the observed associations.     0.051168\n",
      "\\n        The roles of microRNAs (miRNAs) as important regulators of gene expression have been studied intensively. Although most of these investigations have involved the highly expressed form of the two mature miRNA species, increasing evidence points to essential roles for star-form microRNAs (miRNA*), which are usually expressed at much lower levels. Owing to the nature of miRNA biogenesis, it is challenging to use plasmids containing miRNA coding sequences for gain-of-function experiments concerning the roles of microRNA* species. Synthetic microRNA mimics could introduce specific miRNA* species into cells, but this transient overexpression system has many shortcomings. Here, we report that specific miRNA* species can be overexpressed by introducing artificially designed stem-loop sequences into short hairpin RNA (shRNA) overexpression vectors. By our prototypic plasmid, designed to overexpress hsa-miR-146b-3p, we successfully expressed high levels of hsa-miR-146b-3p without detectable change of hsa-miR-146b-5p. Functional analysis involving luciferase reporter assays showed that, like natural miRNAs, the overexpressed hsa-miR-146b-3p inhibited target gene expression by 3′UTR seed pairing. Our demonstration that this method could overexpress two other miRNAs suggests that the approach should be broadly applicable. Our novel strategy opens the way for exclusively stable overexpression of miRNA* species and analyzing their unique functions both in vitro and in vivo.\\n                                                                                                                                                                                                                                                                                                                                                                                                                                                                                                                                                                                                                                                                                                                                                                                                                                                                                                                                                                                                                                                                                                                                                                                                                                                                                                                                                                                                                                                                                                                       0.040970\n",
      "                                                                                                                                                                                                                                                                                                                                                                                                                                                                                                                                                                                                                                                                                                                                                                                                                                                                                                                                                                                                                                                                                                                                                                                                                                                                                                                                                                                                                                                                                                                                                                                                                                                                                                                                                                                                                                                                                                                                                                                                                                                                                                                                                                                                                                                                                                                                                                                                                                                                                                                                                                                                                                                                                                                                                                                                                                                                                                                                                                                                                                                                              0.004392\n",
      "\\nIn the European Investigation into Cancer and Nutrition study (EPIC), physical activity (PA) has been indexed as a cross-tabulation between PA at work and recreational activity. As the proportion of non-working participants increases, other categorization strategies are needed. Therefore, our aim was to develop a valid PA index for this population, which will also be able to express PA continuously. In the German EPIC centers Potsdam and Heidelberg, a clustered sample of 3,766 participants was re-invited to the study center. 1,615 participants agreed to participate and 1,344 participants were finally included in this study. PA was measured by questionnaires on defined activities and a 7-day combined heart rate and acceleration sensor. In a training sample of 433 participants, the Improved Physical Activity Index (IPAI) was developed. Its performance was evaluated in a validation sample of 911 participants and compared with the Cambridge Index and the Total PA Index. The IPAI consists of items covering five areas including PA at work, sport, cycling, television viewing, and computer use. The correlations of the IPAI with accelerometer counts in the training and validation sample ranged r = 0.40–0.43 and with physical activity energy expenditure (PAEE) r = 0.33–0.40 and were higher than for the Cambridge Index and the Total PA Index previously applied in EPIC. In non-working participants the IPAI showed higher correlations than the Cambridge Index and the Total PA Index, with r = 0.34 for accelerometer counts and r = 0.29 for PAEE. In conclusion, we developed a valid physical activity index which is able to express PA continuously as well as to categorize participants according to their PA level. In populations with increasing rates of non-working people the performance of the IPAI is better than the established indices used in EPIC.\\n                                                                                                                                                                                                                                                                                                                                                                                                                                                                                                                                                                                                                                                                                                                                                                                                                                                                                                                                                                                                                                                                                                                                   0.001765\n",
      "Background: Despite a consensus emerging that affirms that shorter epochs should be used in youth to correctly register physical activity levels in free-living conditions, little is known about its effect on children’s physical activity conducted in structured periods of time. This study analyzed the effect that epoch length (1, 2, 3, 5, 10, 15, 30 and 60s) may have on different physical activity intensities in physical education lessons. Methods: A sample of 1912 individual measures of physical education lessons were measured with a GT3X accelerometer. Data were collected from 1227 Swiss Elementary school students recruited in 17 elementary schools. PE lessons lasted from 45 minutes to one and a half hours. Data, originally collected in 1-s epoch, were then reintegrated into 2s, – 3s – 5s – 10s – 15s – 30s –60s epochs. Results: Longer epochs were associated with higher levels of light (F = 8197.6, p < .001), moderate (F = 2708.17, p < .001), and moderate-to-vigorous physical activity (F = 888.08, p < .001). However, longer epochs showed lower levels of sedentary activity (F = 31714.33, p < .001) and vigorous physical activity (F = 1910.97, p < .001). Bias increased in all PA intensities when shorter epochs were compared with longer epochs. There were statistically significant differences in compliance with physical education guidelines (χ2 = 989.27, p<.001), showing higher levels with longer epochs. Conclusion: PA context may have some influence on the effects that epoch length have on PA estimates, more specifically on MVPA. Nevertheless, the use of a high-frequency sampling interval should be used to more accurately assess children’s PA.                                                                                                                                                                                                                                                                                                                                                                                                                                                                                                                                                                                                                                                                                                                                                                                                                                                                                                                                                                                                                                                                                                                                                                                                                                                                                                                                         -0.026085\n",
      "\\n        This review presents a comprehensive overview of the current status regarding the global diversity of the echinoderm class Ophiuroidea, focussing on taxonomy and distribution patterns, with brief introduction to their anatomy, biology, phylogeny, and palaeontological history. A glossary of terms is provided. Species names and taxonomic decisions have been extracted from the literature and compiled in The World Ophiuroidea Database, part of the World Register of Marine Species (WoRMS). Ophiuroidea, with 2064 known species, are the largest class of Echinodermata. A table presents 16 families with numbers of genera and species. The largest are Amphiuridae (467), Ophiuridae (344 species) and Ophiacanthidae (319 species). A biogeographic analysis for all world oceans and all accepted species was performed, based on published distribution records. Approximately similar numbers of species were recorded from the shelf (n = 1313) and bathyal depth strata (1297). The Indo-Pacific region had the highest species richness overall (825 species) and at all depths. Adjacent regions were also relatively species rich, including the North Pacific (398), South Pacific (355) and Indian (316) due to the presence of many Indo-Pacific species that partially extended into these regions. A secondary region of enhanced species richness was found in the West Atlantic (335). Regions of relatively low species richness include the Arctic (73 species), East Atlantic (118), South America (124) and Antarctic (126).\\n                                                                                                                                                                                                                                                                                                                                                                                                                                                                                                                                                                                                                                                                                                                                                                                                                                                                                                                                                                                                                                                                                                                                                                                                                                                                                                                                                                                                                                                                                               -0.043569\n",
      "\\nThe Lone Star tick, Amblyomma americanum, transmits several bacterial pathogens including species of Anaplasma and Ehrlichia. Amblyomma americanum also hosts a number of non-pathogenic bacterial endosymbionts. Recent studies of other arthropod and insect vectors have documented that commensal microflora can influence transmission of vector-borne pathogens; however, little is known about tick microbiomes and their possible influence on tick-borne diseases. Our objective was to compare bacterial communities associated with A. americanum, comparing Anaplasma/Ehrlichia -infected and uninfected ticks. Field-collected questing specimens (n = 50) were used in the analyses, of which 17 were identified as Anaplasma/Ehrlichia infected based on PCR amplification and sequencing of groEL genes. Bacterial communities from each specimen were characterized using Illumina sequencing of 16S rRNA gene amplicon libraries. There was a broad range in diversity between samples, with inverse Simpson’s Diversity indices ranging from 1.28–89.5. There were no statistical differences in the overall microbial community structure between PCR diagnosed Anaplasma/Ehrlichia-positive and negative ticks, but there were differences based on collection method (P < 0.05), collection site (P < 0.05), and sex (P < 0.1) suggesting that environmental factors may structure A. americanum microbiomes. Interestingly, there was not always agreement between Illumina sequencing and PCR diagnostics: Ehrlichia was identified in 16S rRNA gene libraries from three PCR-negative specimens; conversely, Ehrlichia was not found in libraries of six PCR-positive ticks. Illumina sequencing also helped identify co-infections, for example, one specimen had both Ehrlichia and Anaplasma. Other taxa of interest in these specimens included Coxiella, Borrelia, and Rickettsia. Identification of bacterial community differences between specimens of a single tick species from a single geographical site indicates that intra-species differences in microbiomes were not due solely to pathogen presence/absence, but may be also driven by vector life history factors, including environment, life stage, population structure, and host choice.\\n                                                                                                                                                                                                                                                                                                                                                                                                                                                                                                                                                                                                                                                                                                                                                                                 -0.071285\n"
     ]
    },
    {
     "name": "stdout",
     "output_type": "stream",
     "text": [
      "Name: 2, dtype: float64\n",
      "Component 3:\n",
      "\\nDisease outbreaks can have substantial impacts on wild populations, but the often patchy or anecdotal evidence of these impacts impedes our ability to understand outbreak dynamics. Recently however, a severe disease outbreak occurred in a group of very well-studied organisms–sea stars along the west coast of North America. We analyzed nearly two decades of data from a coordinated monitoring effort at 88 sites ranging from southern British Columbia to San Diego, California along with 2 sites near Sitka, Alaska to better understand the effects of sea star wasting disease (SSWD) on the keystone intertidal predator, Pisaster ochraceus. Quantitative surveys revealed unprecedented declines of P. ochraceus in 2014 and 2015 across nearly the entire geographic range of the species. The intensity of the impact of SSWD was not uniform across the affected area, with proportionally greater population declines in the southern regions relative to the north. The degree of population decline was unrelated to pre-outbreak P. ochraceus density, although these factors have been linked in other well-documented disease events. While elevated seawater temperatures were not broadly linked to the initial emergence of SSWD, anomalously high seawater temperatures in 2014 and 2015 might have exacerbated the disease’s impact. Both before and after the onset of the SSWD outbreak, we documented higher recruitment of P. ochraceus in the north than in the south, and while some juveniles are surviving (as evidenced by transition of recruitment pulses to larger size classes), post-SSWD survivorship is lower than during pre-SSWD periods. In hindsight, our data suggest that the SSWD event defied prediction based on two factors found to be important in other marine disease events, sea water temperature and population density, and illustrate the importance of surveillance of natural populations as one element of an integrated approach to marine disease ecology. Low levels of SSWD-symptomatic sea stars are still present throughout the impacted range, thus the outlook for population recovery is uncertain.\\n                                                                                                                                                                                                                                                                                                                                                                                                                                                                                                                                                                                                                                                                                                                                                                                                                                                                                     0.584502\n",
      "\\nTriadic relationships are accepted to play a key role in the dynamics of social and political networks. Building on insights gleaned from balance theory in social network studies and from Boltzmann-Gibbs statistical physics, we propose a model to quantitatively capture the dynamics of the four types of triadic relationships in a network. Central to our model are the triads’ incidence rates and the idea that those can be modeled by assigning a specific triadic energy to each type of triadic relation. We emphasize the role of the degeneracy of the different triads and how it impacts the degree of frustration in the political network. In order to account for a persistent form of disorder in the formation of the triadic relationships, we introduce the systemic variable temperature. In order to learn about the dynamics and motives, we propose a generic Hamiltonian with three terms to model the triadic energies. One term is connected with a three-body interaction that captures balance theory. The other terms take into account the impact of heterogeneity and of negative edges in the triads. The validity of our model is tested on four datasets including the time series of triadic relationships for the standings between two classes of alliances in a massively multiplayer online game (MMOG). We also analyze real-world data for the relationships between the “agents” involved in the Syrian civil war, and in the relations between countries during the Cold War era. We find emerging properties in the triadic relationships in a political network, for example reflecting itself in a persistent hierarchy between the four triadic energies, and in the consistency of the extracted parameters from comparing the model Hamiltonian to the data.\\n                                                                                                                                                                                                                                                                                                                                                                                                                                                                                                                                                                                                                                                                                                                                                                                                                                                                                                                                                                                                                                                                                                                                                                                                                                                      0.422521\n",
      "Purpose: Mitochondrial disease is the most common neuromuscular disease and has a profound impact upon daily life, disease and longevity. Exercise therapy has been shown to improve mitochondrial function in patients with mitochondrial disease. However, no information exists about the level of habitual physical activity of people with mitochondrial disease and its relationship with clinical phenotype. Methods: Habitual physical activity, genotype and clinical presentations were assessed in 100 patients with mitochondrial disease. Comparisons were made with a control group individually matched by age, gender and BMI. Results: Patients with mitochondrial disease had significantly lower levels of physical activity in comparison to matched people without mitochondrial disease (steps/day; 6883±3944 vs. 9924±4088, p = 0.001). 78% of the mitochondrial disease cohort did not achieve 10,000 steps per day and 48%were classified as overweight or obese. Mitochondrial disease was associated with less breaks in sedentary activity (Sedentary to Active Transitions, % per day; 13±0.03 vs. 14±0.03, p = 0.001) and an increase in sedentary bout duration (bout lengths / fraction of total sedentary time; 0.206±0.044 vs. 0.187±0.026, p = 0.001). After adjusting for covariates, higher physical activity was moderately associated with lower clinical disease burden (steps / day; rs = −0.49; 95% CI −0.33, −0.63, P<0.01). There were no systematic differences in physical activity between different genotypes mitochondrial disease. Conclusions: These results demonstrate for the first time that low levels of physical activity are prominent in mitochondrial disease. Combined with a high prevalence of obesity, physical activity may constitute a significant and potentially modifiable risk factor in mitochondrial disease.                                                                                                                                                                                                                                                                                                                                                                                                                                                                                                                                                                                                                                                                                                                                                                                                                                                                                                                                                                                                                                                                                                                                                                                       0.357127\n",
      "Background: STARS (STriated muscle Activator of Rho Signaling) is a sarcomeric protein expressed early in cardiac development that acts as an acute stress sensor for pathological remodeling. However the role of STARS in cardiac development and function is incompletely understood. Here, we investigated the role of STARS in heart development and function in the zebrafish model and in vitro. Methodology and Principal Findings: Expression of zebrafish STARS (zSTARS) first occurs in the somites by the 16 somite stage [17 hours post fertilization (hpf)]. zSTARS is expressed in both chambers of the heart by 48 hpf, and also in the developing brain, jaw structures and pectoral fins. Morpholino-induced knockdown of zSTARS alters atrial and ventricular dimensions and decreases ventricular fractional shortening (measured by high-speed video microscopy), with pericardial edema and decreased or absent circulation [abnormal cardiac phenotypes in 126/164 (77%) of morpholino-injected embryos vs. 0/152 (0%) of control morpholino embryos]. Co-injection of zsrf (serum response factor) mRNA rescues the cardiac phenotype of zSTARS knockdown, resulting in improved fractional shortening and ventricular end-diastolic dimensions. Ectopic over-expression of STARS in vitro activates the STARS proximal promoter, which contains a conserved SRF site. Chromatin immunoprecipitation demonstrates that SRF binds to this site in vivo and the SRF inhibitor CCG-1423 completely blocks STARS proximal reporter activity in H9c2 cells. Conclusions/Significance: This study demonstrates for the first time that STARS deficiency severely disrupts cardiac development and function in vivo and revealed a novel STARS-SRF feed-forward autoregulatory loop that could play an essential role in STARS regulation and cardiac function.                                                                                                                                                                                                                                                                                                                                                                                                                                                                                                                                                                                                                                                                                                                                                                                                                                                                                                                                                                                                                                                                                                                                                                                              0.286912\n",
      "\\n        As biomedical investigators strive to integrate data and analyses across spatiotemporal scales and biomedical domains, they have recognized the benefits of formalizing languages and terminologies via computational ontologies. Although ontologies for biological entities—molecules, cells, organs—are well-established, there are no principled ontologies of physical properties—energies, volumes, flow rates—of those entities. In this paper, we introduce the Ontology of Physics for Biology (OPB), a reference ontology of classical physics designed for annotating biophysical content of growing repositories of biomedical datasets and analytical models. The OPB's semantic framework, traceable to James Clerk Maxwell, encompasses modern theories of system dynamics and thermodynamics, and is implemented as a computational ontology that references available upper ontologies. In this paper we focus on the OPB classes that are designed for annotating physical properties encoded in biomedical datasets and computational models, and we discuss how the OPB framework will facilitate biomedical knowledge integration.\\n                                                                                                                                                                                                                                                                                                                                                                                                                                                                                                                                                                                                                                                                                                                                                                                                                                                                                                                                                                                                                                                                                                                                                                                                                                                                                                                                                                                                                                                                                                                                                                                                                                                                                                                                                                                                                                                                                                           0.282892\n",
      "                                                                                                                                                                                                                                                                                                                                                                                                                                                                                                                                                                                                                                                                                                                                                                                                                                                                                                                                                                                                                                                                                                                                                                                                                                                                                                                                                                                                                                                                                                                                                                                                                                                                                                                                                                                                                                                                                                                                                                                                                                                                                                                                                                                                                                                                                                                                                                                                                                                                                                                                                                                                                                                                                                                                                                                                                                                                                                                                                                                                                                                                             -0.001626\n",
      "Background: Better physical functioning in the elderly may be associated with higher physical activity levels. Since older adults spend a substantial part of the day in their residential neighborhood, the neighborhood physical environment may moderate associations between functioning and older adults’ physical activity. The present study investigated the moderating role of the objective and perceived physical environment on associations between Belgian older adults’ physical functioning and transport walking, recreational walking, and moderate-to-vigorous physical activity. Methods: Data from 438 older adults were included. Objective physical functioning was assessed using the Short Physical Performance Battery. Potential moderators included objective neighborhood walkability and perceptions of land use mix diversity, access to recreational facilities, access to services, street connectivity, physical barriers for walking, aesthetics, crime-related safety, traffic speeding-related safety, and walking infrastructure. Transport and recreational walking were self-reported, moderate-to-vigorous physical activity was assessed through accelerometers. Multi-level regression analyses were conducted using MLwiN to examine two-way interactions between functioning and the environment on both walking outcomes. Based on a previous study where environment x neighborhood income associations were found for Belgian older adults’ moderate-to-vigorous physical activity, three-way functioning x environment x income interactions were examined for moderate-to-vigorous physical activity. Results: Objectively-measured walkability moderated the association between functioning and transport walking; this positive association was only present in high-walkable neighborhoods. Moreover, a three-way interaction was observed for moderate-to-vigorous physical activity. Only in high-income, high-walkable neighborhoods, there was a positive association between functioning and moderate-to-vigorous physical activity. No functioning x walkability interactions were observed for recreational walking, and none of the perceived environmental variables moderated the positive association between physical functioning and the physical activity outcomes. Conclusions: For older adults with better physical functioning, living in a high-walkable neighborhood could be beneficial to engage in more transport walking. Living in high-income, high-walkable neighborhoods and having better functioning might also be beneficial for more engagement in moderate-to-vigorous physical activity. This might suggest a protective role of neighborhood walkability for preventing declining physical functioning and consequently decreasing physical activity levels in older adults. However, given the cross-sectional design of the present study, this suggestion needs to be confirmed through longitudinal assessment investigating over-time changes in the observed associations.    -0.130463\n",
      "Background: Despite a consensus emerging that affirms that shorter epochs should be used in youth to correctly register physical activity levels in free-living conditions, little is known about its effect on children’s physical activity conducted in structured periods of time. This study analyzed the effect that epoch length (1, 2, 3, 5, 10, 15, 30 and 60s) may have on different physical activity intensities in physical education lessons. Methods: A sample of 1912 individual measures of physical education lessons were measured with a GT3X accelerometer. Data were collected from 1227 Swiss Elementary school students recruited in 17 elementary schools. PE lessons lasted from 45 minutes to one and a half hours. Data, originally collected in 1-s epoch, were then reintegrated into 2s, – 3s – 5s – 10s – 15s – 30s –60s epochs. Results: Longer epochs were associated with higher levels of light (F = 8197.6, p < .001), moderate (F = 2708.17, p < .001), and moderate-to-vigorous physical activity (F = 888.08, p < .001). However, longer epochs showed lower levels of sedentary activity (F = 31714.33, p < .001) and vigorous physical activity (F = 1910.97, p < .001). Bias increased in all PA intensities when shorter epochs were compared with longer epochs. There were statistically significant differences in compliance with physical education guidelines (χ2 = 989.27, p<.001), showing higher levels with longer epochs. Conclusion: PA context may have some influence on the effects that epoch length have on PA estimates, more specifically on MVPA. Nevertheless, the use of a high-frequency sampling interval should be used to more accurately assess children’s PA.                                                                                                                                                                                                                                                                                                                                                                                                                                                                                                                                                                                                                                                                                                                                                                                                                                                                                                                                                                                                                                                                                                                                                                                                                                                                                                                                         -0.143500\n",
      "\\n        The roles of microRNAs (miRNAs) as important regulators of gene expression have been studied intensively. Although most of these investigations have involved the highly expressed form of the two mature miRNA species, increasing evidence points to essential roles for star-form microRNAs (miRNA*), which are usually expressed at much lower levels. Owing to the nature of miRNA biogenesis, it is challenging to use plasmids containing miRNA coding sequences for gain-of-function experiments concerning the roles of microRNA* species. Synthetic microRNA mimics could introduce specific miRNA* species into cells, but this transient overexpression system has many shortcomings. Here, we report that specific miRNA* species can be overexpressed by introducing artificially designed stem-loop sequences into short hairpin RNA (shRNA) overexpression vectors. By our prototypic plasmid, designed to overexpress hsa-miR-146b-3p, we successfully expressed high levels of hsa-miR-146b-3p without detectable change of hsa-miR-146b-5p. Functional analysis involving luciferase reporter assays showed that, like natural miRNAs, the overexpressed hsa-miR-146b-3p inhibited target gene expression by 3′UTR seed pairing. Our demonstration that this method could overexpress two other miRNAs suggests that the approach should be broadly applicable. Our novel strategy opens the way for exclusively stable overexpression of miRNA* species and analyzing their unique functions both in vitro and in vivo.\\n                                                                                                                                                                                                                                                                                                                                                                                                                                                                                                                                                                                                                                                                                                                                                                                                                                                                                                                                                                                                                                                                                                                                                                                                                                                                                                                                                                                                                                                                                                                      -0.151902\n",
      "\\nThe purpose of this study was to construct and validate a “Perceived Physical Literacy Instrument” (PPLI) for physical education teachers. Based on literature review and focus group interviews, an 18-item instrument was developed for the initial tests. This self-report measure, using a 5-point Likert scale, formed the PPLI and was administered to 336 physical education teachers in Hong Kong. The sample was randomly split, and exploratory and confirmatory factor analyses resulted in a 9-item, 3-factor scale. Exploratory factor analysis (EFA) item loadings ranged from 0.69 to 0.87, and Cronbach’s alpha ranged from 0.73 to 0.76. Confirmatory factor analysis (CFA) showed that the construct demonstrated good fit to the model. The PPLI thus appeared to be reliable and valid to measure the perceived physical literacy of physical education teachers. It is argued that the instrument can be used for both research and applied purposes and potential uses for the instrument in physical education, medical and health settings are discussed.\\n                                                                                                                                                                                                                                                                                                                                                                                                                                                                                                                                                                                                                                                                                                                                                                                                                                                                                                                                                                                                                                                                                                                                                                                                                                                                                                                                                                                                                                                                                                                                                                                                                                                                                                                                                                                                                                                                                                                                                                                        -0.189455\n"
     ]
    },
    {
     "name": "stdout",
     "output_type": "stream",
     "text": [
      "Name: 3, dtype: float64\n",
      "Component 4:\n",
      "Background: STARS (STriated muscle Activator of Rho Signaling) is a sarcomeric protein expressed early in cardiac development that acts as an acute stress sensor for pathological remodeling. However the role of STARS in cardiac development and function is incompletely understood. Here, we investigated the role of STARS in heart development and function in the zebrafish model and in vitro. Methodology and Principal Findings: Expression of zebrafish STARS (zSTARS) first occurs in the somites by the 16 somite stage [17 hours post fertilization (hpf)]. zSTARS is expressed in both chambers of the heart by 48 hpf, and also in the developing brain, jaw structures and pectoral fins. Morpholino-induced knockdown of zSTARS alters atrial and ventricular dimensions and decreases ventricular fractional shortening (measured by high-speed video microscopy), with pericardial edema and decreased or absent circulation [abnormal cardiac phenotypes in 126/164 (77%) of morpholino-injected embryos vs. 0/152 (0%) of control morpholino embryos]. Co-injection of zsrf (serum response factor) mRNA rescues the cardiac phenotype of zSTARS knockdown, resulting in improved fractional shortening and ventricular end-diastolic dimensions. Ectopic over-expression of STARS in vitro activates the STARS proximal promoter, which contains a conserved SRF site. Chromatin immunoprecipitation demonstrates that SRF binds to this site in vivo and the SRF inhibitor CCG-1423 completely blocks STARS proximal reporter activity in H9c2 cells. Conclusions/Significance: This study demonstrates for the first time that STARS deficiency severely disrupts cardiac development and function in vivo and revealed a novel STARS-SRF feed-forward autoregulatory loop that could play an essential role in STARS regulation and cardiac function.                                                                                                                                                                                                                                                                                                                                                                                                                                                                                                                                                                                                                                                                                                                                                                                                                                                                                                                                                                                                                                                                                                                                                                                              0.818096\n",
      "\\n        The roles of microRNAs (miRNAs) as important regulators of gene expression have been studied intensively. Although most of these investigations have involved the highly expressed form of the two mature miRNA species, increasing evidence points to essential roles for star-form microRNAs (miRNA*), which are usually expressed at much lower levels. Owing to the nature of miRNA biogenesis, it is challenging to use plasmids containing miRNA coding sequences for gain-of-function experiments concerning the roles of microRNA* species. Synthetic microRNA mimics could introduce specific miRNA* species into cells, but this transient overexpression system has many shortcomings. Here, we report that specific miRNA* species can be overexpressed by introducing artificially designed stem-loop sequences into short hairpin RNA (shRNA) overexpression vectors. By our prototypic plasmid, designed to overexpress hsa-miR-146b-3p, we successfully expressed high levels of hsa-miR-146b-3p without detectable change of hsa-miR-146b-5p. Functional analysis involving luciferase reporter assays showed that, like natural miRNAs, the overexpressed hsa-miR-146b-3p inhibited target gene expression by 3′UTR seed pairing. Our demonstration that this method could overexpress two other miRNAs suggests that the approach should be broadly applicable. Our novel strategy opens the way for exclusively stable overexpression of miRNA* species and analyzing their unique functions both in vitro and in vivo.\\n                                                                                                                                                                                                                                                                                                                                                                                                                                                                                                                                                                                                                                                                                                                                                                                                                                                                                                                                                                                                                                                                                                                                                                                                                                                                                                                                                                                                                                                                                                                       0.266986\n",
      "\\nIn the European Investigation into Cancer and Nutrition study (EPIC), physical activity (PA) has been indexed as a cross-tabulation between PA at work and recreational activity. As the proportion of non-working participants increases, other categorization strategies are needed. Therefore, our aim was to develop a valid PA index for this population, which will also be able to express PA continuously. In the German EPIC centers Potsdam and Heidelberg, a clustered sample of 3,766 participants was re-invited to the study center. 1,615 participants agreed to participate and 1,344 participants were finally included in this study. PA was measured by questionnaires on defined activities and a 7-day combined heart rate and acceleration sensor. In a training sample of 433 participants, the Improved Physical Activity Index (IPAI) was developed. Its performance was evaluated in a validation sample of 911 participants and compared with the Cambridge Index and the Total PA Index. The IPAI consists of items covering five areas including PA at work, sport, cycling, television viewing, and computer use. The correlations of the IPAI with accelerometer counts in the training and validation sample ranged r = 0.40–0.43 and with physical activity energy expenditure (PAEE) r = 0.33–0.40 and were higher than for the Cambridge Index and the Total PA Index previously applied in EPIC. In non-working participants the IPAI showed higher correlations than the Cambridge Index and the Total PA Index, with r = 0.34 for accelerometer counts and r = 0.29 for PAEE. In conclusion, we developed a valid physical activity index which is able to express PA continuously as well as to categorize participants according to their PA level. In populations with increasing rates of non-working people the performance of the IPAI is better than the established indices used in EPIC.\\n                                                                                                                                                                                                                                                                                                                                                                                                                                                                                                                                                                                                                                                                                                                                                                                                                                                                                                                                                                                                                                                                                                                                   0.097561\n",
      "\\nThe purpose of this study was to construct and validate a “Perceived Physical Literacy Instrument” (PPLI) for physical education teachers. Based on literature review and focus group interviews, an 18-item instrument was developed for the initial tests. This self-report measure, using a 5-point Likert scale, formed the PPLI and was administered to 336 physical education teachers in Hong Kong. The sample was randomly split, and exploratory and confirmatory factor analyses resulted in a 9-item, 3-factor scale. Exploratory factor analysis (EFA) item loadings ranged from 0.69 to 0.87, and Cronbach’s alpha ranged from 0.73 to 0.76. Confirmatory factor analysis (CFA) showed that the construct demonstrated good fit to the model. The PPLI thus appeared to be reliable and valid to measure the perceived physical literacy of physical education teachers. It is argued that the instrument can be used for both research and applied purposes and potential uses for the instrument in physical education, medical and health settings are discussed.\\n                                                                                                                                                                                                                                                                                                                                                                                                                                                                                                                                                                                                                                                                                                                                                                                                                                                                                                                                                                                                                                                                                                                                                                                                                                                                                                                                                                                                                                                                                                                                                                                                                                                                                                                                                                                                                                                                                                                                                                                         0.044071\n",
      "Background: Better physical functioning in the elderly may be associated with higher physical activity levels. Since older adults spend a substantial part of the day in their residential neighborhood, the neighborhood physical environment may moderate associations between functioning and older adults’ physical activity. The present study investigated the moderating role of the objective and perceived physical environment on associations between Belgian older adults’ physical functioning and transport walking, recreational walking, and moderate-to-vigorous physical activity. Methods: Data from 438 older adults were included. Objective physical functioning was assessed using the Short Physical Performance Battery. Potential moderators included objective neighborhood walkability and perceptions of land use mix diversity, access to recreational facilities, access to services, street connectivity, physical barriers for walking, aesthetics, crime-related safety, traffic speeding-related safety, and walking infrastructure. Transport and recreational walking were self-reported, moderate-to-vigorous physical activity was assessed through accelerometers. Multi-level regression analyses were conducted using MLwiN to examine two-way interactions between functioning and the environment on both walking outcomes. Based on a previous study where environment x neighborhood income associations were found for Belgian older adults’ moderate-to-vigorous physical activity, three-way functioning x environment x income interactions were examined for moderate-to-vigorous physical activity. Results: Objectively-measured walkability moderated the association between functioning and transport walking; this positive association was only present in high-walkable neighborhoods. Moreover, a three-way interaction was observed for moderate-to-vigorous physical activity. Only in high-income, high-walkable neighborhoods, there was a positive association between functioning and moderate-to-vigorous physical activity. No functioning x walkability interactions were observed for recreational walking, and none of the perceived environmental variables moderated the positive association between physical functioning and the physical activity outcomes. Conclusions: For older adults with better physical functioning, living in a high-walkable neighborhood could be beneficial to engage in more transport walking. Living in high-income, high-walkable neighborhoods and having better functioning might also be beneficial for more engagement in moderate-to-vigorous physical activity. This might suggest a protective role of neighborhood walkability for preventing declining physical functioning and consequently decreasing physical activity levels in older adults. However, given the cross-sectional design of the present study, this suggestion needs to be confirmed through longitudinal assessment investigating over-time changes in the observed associations.     0.024524\n",
      "Background: Despite a consensus emerging that affirms that shorter epochs should be used in youth to correctly register physical activity levels in free-living conditions, little is known about its effect on children’s physical activity conducted in structured periods of time. This study analyzed the effect that epoch length (1, 2, 3, 5, 10, 15, 30 and 60s) may have on different physical activity intensities in physical education lessons. Methods: A sample of 1912 individual measures of physical education lessons were measured with a GT3X accelerometer. Data were collected from 1227 Swiss Elementary school students recruited in 17 elementary schools. PE lessons lasted from 45 minutes to one and a half hours. Data, originally collected in 1-s epoch, were then reintegrated into 2s, – 3s – 5s – 10s – 15s – 30s –60s epochs. Results: Longer epochs were associated with higher levels of light (F = 8197.6, p < .001), moderate (F = 2708.17, p < .001), and moderate-to-vigorous physical activity (F = 888.08, p < .001). However, longer epochs showed lower levels of sedentary activity (F = 31714.33, p < .001) and vigorous physical activity (F = 1910.97, p < .001). Bias increased in all PA intensities when shorter epochs were compared with longer epochs. There were statistically significant differences in compliance with physical education guidelines (χ2 = 989.27, p<.001), showing higher levels with longer epochs. Conclusion: PA context may have some influence on the effects that epoch length have on PA estimates, more specifically on MVPA. Nevertheless, the use of a high-frequency sampling interval should be used to more accurately assess children’s PA.                                                                                                                                                                                                                                                                                                                                                                                                                                                                                                                                                                                                                                                                                                                                                                                                                                                                                                                                                                                                                                                                                                                                                                                                                                                                                                                                          0.012498\n",
      "                                                                                                                                                                                                                                                                                                                                                                                                                                                                                                                                                                                                                                                                                                                                                                                                                                                                                                                                                                                                                                                                                                                                                                                                                                                                                                                                                                                                                                                                                                                                                                                                                                                                                                                                                                                                                                                                                                                                                                                                                                                                                                                                                                                                                                                                                                                                                                                                                                                                                                                                                                                                                                                                                                                                                                                                                                                                                                                                                                                                                                                                             -0.049048\n",
      "\\nTriadic relationships are accepted to play a key role in the dynamics of social and political networks. Building on insights gleaned from balance theory in social network studies and from Boltzmann-Gibbs statistical physics, we propose a model to quantitatively capture the dynamics of the four types of triadic relationships in a network. Central to our model are the triads’ incidence rates and the idea that those can be modeled by assigning a specific triadic energy to each type of triadic relation. We emphasize the role of the degeneracy of the different triads and how it impacts the degree of frustration in the political network. In order to account for a persistent form of disorder in the formation of the triadic relationships, we introduce the systemic variable temperature. In order to learn about the dynamics and motives, we propose a generic Hamiltonian with three terms to model the triadic energies. One term is connected with a three-body interaction that captures balance theory. The other terms take into account the impact of heterogeneity and of negative edges in the triads. The validity of our model is tested on four datasets including the time series of triadic relationships for the standings between two classes of alliances in a massively multiplayer online game (MMOG). We also analyze real-world data for the relationships between the “agents” involved in the Syrian civil war, and in the relations between countries during the Cold War era. We find emerging properties in the triadic relationships in a political network, for example reflecting itself in a persistent hierarchy between the four triadic energies, and in the consistency of the extracted parameters from comparing the model Hamiltonian to the data.\\n                                                                                                                                                                                                                                                                                                                                                                                                                                                                                                                                                                                                                                                                                                                                                                                                                                                                                                                                                                                                                                                                                                                                                                                                                                                     -0.118141\n",
      "\\n        As biomedical investigators strive to integrate data and analyses across spatiotemporal scales and biomedical domains, they have recognized the benefits of formalizing languages and terminologies via computational ontologies. Although ontologies for biological entities—molecules, cells, organs—are well-established, there are no principled ontologies of physical properties—energies, volumes, flow rates—of those entities. In this paper, we introduce the Ontology of Physics for Biology (OPB), a reference ontology of classical physics designed for annotating biophysical content of growing repositories of biomedical datasets and analytical models. The OPB's semantic framework, traceable to James Clerk Maxwell, encompasses modern theories of system dynamics and thermodynamics, and is implemented as a computational ontology that references available upper ontologies. In this paper we focus on the OPB classes that are designed for annotating physical properties encoded in biomedical datasets and computational models, and we discuss how the OPB framework will facilitate biomedical knowledge integration.\\n                                                                                                                                                                                                                                                                                                                                                                                                                                                                                                                                                                                                                                                                                                                                                                                                                                                                                                                                                                                                                                                                                                                                                                                                                                                                                                                                                                                                                                                                                                                                                                                                                                                                                                                                                                                                                                                                                                          -0.140985\n",
      "Purpose: Mitochondrial disease is the most common neuromuscular disease and has a profound impact upon daily life, disease and longevity. Exercise therapy has been shown to improve mitochondrial function in patients with mitochondrial disease. However, no information exists about the level of habitual physical activity of people with mitochondrial disease and its relationship with clinical phenotype. Methods: Habitual physical activity, genotype and clinical presentations were assessed in 100 patients with mitochondrial disease. Comparisons were made with a control group individually matched by age, gender and BMI. Results: Patients with mitochondrial disease had significantly lower levels of physical activity in comparison to matched people without mitochondrial disease (steps/day; 6883±3944 vs. 9924±4088, p = 0.001). 78% of the mitochondrial disease cohort did not achieve 10,000 steps per day and 48%were classified as overweight or obese. Mitochondrial disease was associated with less breaks in sedentary activity (Sedentary to Active Transitions, % per day; 13±0.03 vs. 14±0.03, p = 0.001) and an increase in sedentary bout duration (bout lengths / fraction of total sedentary time; 0.206±0.044 vs. 0.187±0.026, p = 0.001). After adjusting for covariates, higher physical activity was moderately associated with lower clinical disease burden (steps / day; rs = −0.49; 95% CI −0.33, −0.63, P<0.01). There were no systematic differences in physical activity between different genotypes mitochondrial disease. Conclusions: These results demonstrate for the first time that low levels of physical activity are prominent in mitochondrial disease. Combined with a high prevalence of obesity, physical activity may constitute a significant and potentially modifiable risk factor in mitochondrial disease.                                                                                                                                                                                                                                                                                                                                                                                                                                                                                                                                                                                                                                                                                                                                                                                                                                                                                                                                                                                                                                                                                                                                                                                      -0.159313\n"
     ]
    },
    {
     "name": "stdout",
     "output_type": "stream",
     "text": [
      "Name: 4, dtype: float64\n"
     ]
    }
   ],
   "source": [
    "from sklearn.decomposition import TruncatedSVD\n",
    "from sklearn.pipeline import make_pipeline\n",
    "from sklearn.preprocessing import Normalizer\n",
    "\n",
    "#Our SVD data reducer.  We are going to reduce the feature space from 1379 to 130.\n",
    "svd= TruncatedSVD(150)\n",
    "lsa = make_pipeline(svd, Normalizer(copy=False))\n",
    "# Run SVD on the training data, then project the training data.\n",
    "X_train_lsa = lsa.fit_transform(X_train_tfidf)\n",
    "\n",
    "variance_explained=svd.explained_variance_ratio_\n",
    "total_variance = variance_explained.sum()\n",
    "print(\"Percent variance captured by all components:\",total_variance*100)\n",
    "\n",
    "#Looking at what sorts of paragraphs our solution considers similar, for the first five identified topics\n",
    "paras_by_component=pd.DataFrame(X_train_lsa,index=X_train)\n",
    "for i in range(5):\n",
    "    print('Component {}:'.format(i))\n",
    "    print(paras_by_component.loc[:,i].sort_values(ascending=False)[0:10])\n"
   ]
  },
  {
   "cell_type": "markdown",
   "metadata": {},
   "source": [
    "It looks like there is overfitting.Most features are related to each other.We cannot rely too much on this model since it has overfitting.Lets use a  heatmap to look at how similar various sentences are to one another.We can use first 10 sentences.It will give us an over all idea of how much sentences are similar to each other"
   ]
  },
  {
   "cell_type": "markdown",
   "metadata": {},
   "source": [
    "# Sentence similarity\n"
   ]
  },
  {
   "cell_type": "code",
   "execution_count": 275,
   "metadata": {},
   "outputs": [
    {
     "data": {
      "image/png": "[encoded data removed]",
      "text/plain": [
       "<Figure size 432x288 with 2 Axes>"
      ]
     },
     "metadata": {
      "needs_background": "light"
     },
     "output_type": "display_data"
    },
    {
     "name": "stdout",
     "output_type": "stream",
     "text": [
      "Key:\n",
      "0 Background: Despite a consensus emerging that affirms that shorter epochs should be used in youth to correctly register physical activity levels in free-living conditions, little is known about its effect on children’s physical activity conducted in structured periods of time. This study analyzed the effect that epoch length (1, 2, 3, 5, 10, 15, 30 and 60s) may have on different physical activity intensities in physical education lessons. Methods: A sample of 1912 individual measures of physical education lessons were measured with a GT3X accelerometer. Data were collected from 1227 Swiss Elementary school students recruited in 17 elementary schools. PE lessons lasted from 45 minutes to one and a half hours. Data, originally collected in 1-s epoch, were then reintegrated into 2s, – 3s – 5s – 10s – 15s – 30s –60s epochs. Results: Longer epochs were associated with higher levels of light (F = 8197.6, p < .001), moderate (F = 2708.17, p < .001), and moderate-to-vigorous physical activity (F = 888.08, p < .001). However, longer epochs showed lower levels of sedentary activity (F = 31714.33, p < .001) and vigorous physical activity (F = 1910.97, p < .001). Bias increased in all PA intensities when shorter epochs were compared with longer epochs. There were statistically significant differences in compliance with physical education guidelines (χ2 = 989.27, p<.001), showing higher levels with longer epochs. Conclusion: PA context may have some influence on the effects that epoch length have on PA estimates, more specifically on MVPA. Nevertheless, the use of a high-frequency sampling interval should be used to more accurately assess children’s PA. \n",
      "1 \n",
      "The Lone Star tick, Amblyomma americanum, transmits several bacterial pathogens including species of Anaplasma and Ehrlichia. Amblyomma americanum also hosts a number of non-pathogenic bacterial endosymbionts. Recent studies of other arthropod and insect vectors have documented that commensal microflora can influence transmission of vector-borne pathogens; however, little is known about tick microbiomes and their possible influence on tick-borne diseases. Our objective was to compare bacterial communities associated with A. americanum, comparing Anaplasma/Ehrlichia -infected and uninfected ticks. Field-collected questing specimens (n = 50) were used in the analyses, of which 17 were identified as Anaplasma/Ehrlichia infected based on PCR amplification and sequencing of groEL genes. Bacterial communities from each specimen were characterized using Illumina sequencing of 16S rRNA gene amplicon libraries. There was a broad range in diversity between samples, with inverse Simpson’s Diversity indices ranging from 1.28–89.5. There were no statistical differences in the overall microbial community structure between PCR diagnosed Anaplasma/Ehrlichia-positive and negative ticks, but there were differences based on collection method (P < 0.05), collection site (P < 0.05), and sex (P < 0.1) suggesting that environmental factors may structure A. americanum microbiomes. Interestingly, there was not always agreement between Illumina sequencing and PCR diagnostics: Ehrlichia was identified in 16S rRNA gene libraries from three PCR-negative specimens; conversely, Ehrlichia was not found in libraries of six PCR-positive ticks. Illumina sequencing also helped identify co-infections, for example, one specimen had both Ehrlichia and Anaplasma. Other taxa of interest in these specimens included Coxiella, Borrelia, and Rickettsia. Identification of bacterial community differences between specimens of a single tick species from a single geographical site indicates that intra-species differences in microbiomes were not due solely to pathogen presence/absence, but may be also driven by vector life history factors, including environment, life stage, population structure, and host choice.\n",
      "\n",
      "2 \n",
      "The purpose of this study was to construct and validate a “Perceived Physical Literacy Instrument” (PPLI) for physical education teachers. Based on literature review and focus group interviews, an 18-item instrument was developed for the initial tests. This self-report measure, using a 5-point Likert scale, formed the PPLI and was administered to 336 physical education teachers in Hong Kong. The sample was randomly split, and exploratory and confirmatory factor analyses resulted in a 9-item, 3-factor scale. Exploratory factor analysis (EFA) item loadings ranged from 0.69 to 0.87, and Cronbach’s alpha ranged from 0.73 to 0.76. Confirmatory factor analysis (CFA) showed that the construct demonstrated good fit to the model. The PPLI thus appeared to be reliable and valid to measure the perceived physical literacy of physical education teachers. It is argued that the instrument can be used for both research and applied purposes and potential uses for the instrument in physical education, medical and health settings are discussed.\n",
      "\n",
      "3 Background: Better physical functioning in the elderly may be associated with higher physical activity levels. Since older adults spend a substantial part of the day in their residential neighborhood, the neighborhood physical environment may moderate associations between functioning and older adults’ physical activity. The present study investigated the moderating role of the objective and perceived physical environment on associations between Belgian older adults’ physical functioning and transport walking, recreational walking, and moderate-to-vigorous physical activity. Methods: Data from 438 older adults were included. Objective physical functioning was assessed using the Short Physical Performance Battery. Potential moderators included objective neighborhood walkability and perceptions of land use mix diversity, access to recreational facilities, access to services, street connectivity, physical barriers for walking, aesthetics, crime-related safety, traffic speeding-related safety, and walking infrastructure. Transport and recreational walking were self-reported, moderate-to-vigorous physical activity was assessed through accelerometers. Multi-level regression analyses were conducted using MLwiN to examine two-way interactions between functioning and the environment on both walking outcomes. Based on a previous study where environment x neighborhood income associations were found for Belgian older adults’ moderate-to-vigorous physical activity, three-way functioning x environment x income interactions were examined for moderate-to-vigorous physical activity. Results: Objectively-measured walkability moderated the association between functioning and transport walking; this positive association was only present in high-walkable neighborhoods. Moreover, a three-way interaction was observed for moderate-to-vigorous physical activity. Only in high-income, high-walkable neighborhoods, there was a positive association between functioning and moderate-to-vigorous physical activity. No functioning x walkability interactions were observed for recreational walking, and none of the perceived environmental variables moderated the positive association between physical functioning and the physical activity outcomes. Conclusions: For older adults with better physical functioning, living in a high-walkable neighborhood could be beneficial to engage in more transport walking. Living in high-income, high-walkable neighborhoods and having better functioning might also be beneficial for more engagement in moderate-to-vigorous physical activity. This might suggest a protective role of neighborhood walkability for preventing declining physical functioning and consequently decreasing physical activity levels in older adults. However, given the cross-sectional design of the present study, this suggestion needs to be confirmed through longitudinal assessment investigating over-time changes in the observed associations. \n",
      "4 \n",
      "        As biomedical investigators strive to integrate data and analyses across spatiotemporal scales and biomedical domains, they have recognized the benefits of formalizing languages and terminologies via computational ontologies. Although ontologies for biological entities—molecules, cells, organs—are well-established, there are no principled ontologies of physical properties—energies, volumes, flow rates—of those entities. In this paper, we introduce the Ontology of Physics for Biology (OPB), a reference ontology of classical physics designed for annotating biophysical content of growing repositories of biomedical datasets and analytical models. The OPB's semantic framework, traceable to James Clerk Maxwell, encompasses modern theories of system dynamics and thermodynamics, and is implemented as a computational ontology that references available upper ontologies. In this paper we focus on the OPB classes that are designed for annotating physical properties encoded in biomedical datasets and computational models, and we discuss how the OPB framework will facilitate biomedical knowledge integration.\n"
     ]
    },
    {
     "name": "stdout",
     "output_type": "stream",
     "text": [
      "      \n",
      "5 \n",
      "        The roles of microRNAs (miRNAs) as important regulators of gene expression have been studied intensively. Although most of these investigations have involved the highly expressed form of the two mature miRNA species, increasing evidence points to essential roles for star-form microRNAs (miRNA*), which are usually expressed at much lower levels. Owing to the nature of miRNA biogenesis, it is challenging to use plasmids containing miRNA coding sequences for gain-of-function experiments concerning the roles of microRNA* species. Synthetic microRNA mimics could introduce specific miRNA* species into cells, but this transient overexpression system has many shortcomings. Here, we report that specific miRNA* species can be overexpressed by introducing artificially designed stem-loop sequences into short hairpin RNA (shRNA) overexpression vectors. By our prototypic plasmid, designed to overexpress hsa-miR-146b-3p, we successfully expressed high levels of hsa-miR-146b-3p without detectable change of hsa-miR-146b-5p. Functional analysis involving luciferase reporter assays showed that, like natural miRNAs, the overexpressed hsa-miR-146b-3p inhibited target gene expression by 3′UTR seed pairing. Our demonstration that this method could overexpress two other miRNAs suggests that the approach should be broadly applicable. Our novel strategy opens the way for exclusively stable overexpression of miRNA* species and analyzing their unique functions both in vitro and in vivo.\n",
      "      \n",
      "6 Purpose: Mitochondrial disease is the most common neuromuscular disease and has a profound impact upon daily life, disease and longevity. Exercise therapy has been shown to improve mitochondrial function in patients with mitochondrial disease. However, no information exists about the level of habitual physical activity of people with mitochondrial disease and its relationship with clinical phenotype. Methods: Habitual physical activity, genotype and clinical presentations were assessed in 100 patients with mitochondrial disease. Comparisons were made with a control group individually matched by age, gender and BMI. Results: Patients with mitochondrial disease had significantly lower levels of physical activity in comparison to matched people without mitochondrial disease (steps/day; 6883±3944 vs. 9924±4088, p = 0.001). 78% of the mitochondrial disease cohort did not achieve 10,000 steps per day and 48%were classified as overweight or obese. Mitochondrial disease was associated with less breaks in sedentary activity (Sedentary to Active Transitions, % per day; 13±0.03 vs. 14±0.03, p = 0.001) and an increase in sedentary bout duration (bout lengths / fraction of total sedentary time; 0.206±0.044 vs. 0.187±0.026, p = 0.001). After adjusting for covariates, higher physical activity was moderately associated with lower clinical disease burden (steps / day; rs = −0.49; 95% CI −0.33, −0.63, P<0.01). There were no systematic differences in physical activity between different genotypes mitochondrial disease. Conclusions: These results demonstrate for the first time that low levels of physical activity are prominent in mitochondrial disease. Combined with a high prevalence of obesity, physical activity may constitute a significant and potentially modifiable risk factor in mitochondrial disease. \n",
      "7 \n",
      "Triadic relationships are accepted to play a key role in the dynamics of social and political networks. Building on insights gleaned from balance theory in social network studies and from Boltzmann-Gibbs statistical physics, we propose a model to quantitatively capture the dynamics of the four types of triadic relationships in a network. Central to our model are the triads’ incidence rates and the idea that those can be modeled by assigning a specific triadic energy to each type of triadic relation. We emphasize the role of the degeneracy of the different triads and how it impacts the degree of frustration in the political network. In order to account for a persistent form of disorder in the formation of the triadic relationships, we introduce the systemic variable temperature. In order to learn about the dynamics and motives, we propose a generic Hamiltonian with three terms to model the triadic energies. One term is connected with a three-body interaction that captures balance theory. The other terms take into account the impact of heterogeneity and of negative edges in the triads. The validity of our model is tested on four datasets including the time series of triadic relationships for the standings between two classes of alliances in a massively multiplayer online game (MMOG). We also analyze real-world data for the relationships between the “agents” involved in the Syrian civil war, and in the relations between countries during the Cold War era. We find emerging properties in the triadic relationships in a political network, for example reflecting itself in a persistent hierarchy between the four triadic energies, and in the consistency of the extracted parameters from comparing the model Hamiltonian to the data.\n",
      "\n",
      "8 Background: STARS (STriated muscle Activator of Rho Signaling) is a sarcomeric protein expressed early in cardiac development that acts as an acute stress sensor for pathological remodeling. However the role of STARS in cardiac development and function is incompletely understood. Here, we investigated the role of STARS in heart development and function in the zebrafish model and in vitro. Methodology and Principal Findings: Expression of zebrafish STARS (zSTARS) first occurs in the somites by the 16 somite stage [17 hours post fertilization (hpf)]. zSTARS is expressed in both chambers of the heart by 48 hpf, and also in the developing brain, jaw structures and pectoral fins. Morpholino-induced knockdown of zSTARS alters atrial and ventricular dimensions and decreases ventricular fractional shortening (measured by high-speed video microscopy), with pericardial edema and decreased or absent circulation [abnormal cardiac phenotypes in 126/164 (77%) of morpholino-injected embryos vs. 0/152 (0%) of control morpholino embryos]. Co-injection of zsrf (serum response factor) mRNA rescues the cardiac phenotype of zSTARS knockdown, resulting in improved fractional shortening and ventricular end-diastolic dimensions. Ectopic over-expression of STARS in vitro activates the STARS proximal promoter, which contains a conserved SRF site. Chromatin immunoprecipitation demonstrates that SRF binds to this site in vivo and the SRF inhibitor CCG-1423 completely blocks STARS proximal reporter activity in H9c2 cells. Conclusions/Significance: This study demonstrates for the first time that STARS deficiency severely disrupts cardiac development and function in vivo and revealed a novel STARS-SRF feed-forward autoregulatory loop that could play an essential role in STARS regulation and cardiac function. \n",
      "9 \n",
      "In the European Investigation into Cancer and Nutrition study (EPIC), physical activity (PA) has been indexed as a cross-tabulation between PA at work and recreational activity. As the proportion of non-working participants increases, other categorization strategies are needed. Therefore, our aim was to develop a valid PA index for this population, which will also be able to express PA continuously. In the German EPIC centers Potsdam and Heidelberg, a clustered sample of 3,766 participants was re-invited to the study center. 1,615 participants agreed to participate and 1,344 participants were finally included in this study. PA was measured by questionnaires on defined activities and a 7-day combined heart rate and acceleration sensor. In a training sample of 433 participants, the Improved Physical Activity Index (IPAI) was developed. Its performance was evaluated in a validation sample of 911 participants and compared with the Cambridge Index and the Total PA Index. The IPAI consists of items covering five areas including PA at work, sport, cycling, television viewing, and computer use. The correlations of the IPAI with accelerometer counts in the training and validation sample ranged r = 0.40–0.43 and with physical activity energy expenditure (PAEE) r = 0.33–0.40 and were higher than for the Cambridge Index and the Total PA Index previously applied in EPIC. In non-working participants the IPAI showed higher correlations than the Cambridge Index and the Total PA Index, with r = 0.34 for accelerometer counts and r = 0.29 for PAEE. In conclusion, we developed a valid physical activity index which is able to express PA continuously as well as to categorize participants according to their PA level. In populations with increasing rates of non-working people the performance of the IPAI is better than the established indices used in EPIC.\n"
     ]
    },
    {
     "name": "stdout",
     "output_type": "stream",
     "text": [
      "\n"
     ]
    }
   ],
   "source": [
    "# Compute document similarity using LSA components\n",
    "similarity = np.asarray(np.asmatrix(X_train_lsa) * np.asmatrix(X_train_lsa).T)\n",
    "#Only taking the first 10 sentences\n",
    "sim_matrix=pd.DataFrame(similarity,index=X_train).iloc[0:10,0:10]\n",
    "#Making a plot\n",
    "ax = sns.heatmap(sim_matrix,yticklabels=range(10))\n",
    "plt.show()\n",
    "\n",
    "#Generating a key for the plot.\n",
    "print('Key:')\n",
    "for i in range(10):\n",
    "    print(i,sim_matrix.index[i])"
   ]
  },
  {
   "cell_type": "markdown",
   "metadata": {},
   "source": [
    "As noticed above, there is very low similarity which means there are not many similar words being used in the sentences.That is an interesting thing to know"
   ]
  },
  {
   "cell_type": "markdown",
   "metadata": {},
   "source": [
    "### Pick one of the models and try to increase accuracy by at least 5 percentage points."
   ]
  },
  {
   "cell_type": "markdown",
   "metadata": {},
   "source": [
    "## BOW(Bag of Words)\n"
   ]
  },
  {
   "cell_type": "code",
   "execution_count": 276,
   "metadata": {},
   "outputs": [],
   "source": [
    "# Utility function to create a list of the 2000 most common words.\n",
    "def bag_of_words(text):\n",
    "    allwords = [token.lemma_\n",
    "               for token in text\n",
    "               if not token.is_punct\n",
    "               and not token.is_stop]\n",
    "    return [item[0] for item in Counter(allwords).most_common(500)]\n",
    "\n",
    "def bow_features(sentences, common_words):\n",
    "    df = pd.DataFrame(columns=common_words)\n",
    "    df['text_sentence'] = sentences[0]\n",
    "    df['text_source'] = sentences[1]\n",
    "    df.loc[:,common_words] = 0\n",
    "    \n",
    "    for i, sentence in enumerate(df['text_sentence']):\n",
    "        words = [token.lemma_ \n",
    "                for token in sentence\n",
    "                if (\n",
    "                    not token.is_punct\n",
    "                    and not token.is_stop\n",
    "                    and token.lemma_ in common_words\n",
    "                )]\n",
    "        for word in words:\n",
    "            df.loc[i, word] += 1\n",
    "        if i%100 == 0:\n",
    "            print('Processing row {}'.format(i))\n",
    "    return df\n",
    "\n",
    "\n",
    "# Set up the bags.\n",
    "physics = bag_of_words(physics_doc)\n",
    "stars = bag_of_words(stars_doc)\n",
    "black = bag_of_words(black_doc)\n",
    "\n",
    "# Combine bags to create a set of unique words.\n",
    "common_words = set(physics + stars + black)"
   ]
  },
  {
   "cell_type": "code",
   "execution_count": 277,
   "metadata": {
    "scrolled": true
   },
   "outputs": [
    {
     "name": "stdout",
     "output_type": "stream",
     "text": [
      "Processing row 0\n",
      "Processing row 100\n",
      "Processing row 200\n"
     ]
    },
    {
     "data": {
      "text/html": [
       "<div>\n",
       "<style scoped>\n",
       "    .dataframe tbody tr th:only-of-type {\n",
       "        vertical-align: middle;\n",
       "    }\n",
       "\n",
       "    .dataframe tbody tr th {\n",
       "        vertical-align: top;\n",
       "    }\n",
       "\n",
       "    .dataframe thead th {\n",
       "        text-align: right;\n",
       "    }\n",
       "</style>\n",
       "<table border=\"1\" class=\"dataframe\">\n",
       "  <thead>\n",
       "    <tr style=\"text-align: right;\">\n",
       "      <th></th>\n",
       "      <th>hypothesis</th>\n",
       "      <th>accord</th>\n",
       "      <th>general</th>\n",
       "      <th>varimax</th>\n",
       "      <th>crucial</th>\n",
       "      <th>triadic</th>\n",
       "      <th>connectivity</th>\n",
       "      <th>±</th>\n",
       "      <th>street</th>\n",
       "      <th>paper</th>\n",
       "      <th>...</th>\n",
       "      <th>wide</th>\n",
       "      <th>assessment</th>\n",
       "      <th>pp</th>\n",
       "      <th>heterogeneous</th>\n",
       "      <th>long</th>\n",
       "      <th>survey</th>\n",
       "      <th>functional</th>\n",
       "      <th>table</th>\n",
       "      <th>text_sentence</th>\n",
       "      <th>text_source</th>\n",
       "    </tr>\n",
       "  </thead>\n",
       "  <tbody>\n",
       "    <tr>\n",
       "      <th>0</th>\n",
       "      <td>0</td>\n",
       "      <td>0</td>\n",
       "      <td>0</td>\n",
       "      <td>0</td>\n",
       "      <td>1</td>\n",
       "      <td>0</td>\n",
       "      <td>0</td>\n",
       "      <td>0</td>\n",
       "      <td>0</td>\n",
       "      <td>0</td>\n",
       "      <td>...</td>\n",
       "      <td>0</td>\n",
       "      <td>0</td>\n",
       "      <td>0</td>\n",
       "      <td>0</td>\n",
       "      <td>0</td>\n",
       "      <td>0</td>\n",
       "      <td>0</td>\n",
       "      <td>0</td>\n",
       "      <td>(Background, :, Physical, function, is, a, cru...</td>\n",
       "      <td>Physics</td>\n",
       "    </tr>\n",
       "    <tr>\n",
       "      <th>1</th>\n",
       "      <td>0</td>\n",
       "      <td>0</td>\n",
       "      <td>0</td>\n",
       "      <td>0</td>\n",
       "      <td>0</td>\n",
       "      <td>0</td>\n",
       "      <td>0</td>\n",
       "      <td>0</td>\n",
       "      <td>0</td>\n",
       "      <td>0</td>\n",
       "      <td>...</td>\n",
       "      <td>0</td>\n",
       "      <td>0</td>\n",
       "      <td>0</td>\n",
       "      <td>0</td>\n",
       "      <td>0</td>\n",
       "      <td>0</td>\n",
       "      <td>0</td>\n",
       "      <td>0</td>\n",
       "      <td>(Objective, :)</td>\n",
       "      <td>Physics</td>\n",
       "    </tr>\n",
       "    <tr>\n",
       "      <th>2</th>\n",
       "      <td>0</td>\n",
       "      <td>0</td>\n",
       "      <td>0</td>\n",
       "      <td>0</td>\n",
       "      <td>0</td>\n",
       "      <td>0</td>\n",
       "      <td>0</td>\n",
       "      <td>0</td>\n",
       "      <td>0</td>\n",
       "      <td>0</td>\n",
       "      <td>...</td>\n",
       "      <td>0</td>\n",
       "      <td>0</td>\n",
       "      <td>1</td>\n",
       "      <td>0</td>\n",
       "      <td>0</td>\n",
       "      <td>0</td>\n",
       "      <td>0</td>\n",
       "      <td>0</td>\n",
       "      <td>(To, examine, whether, ), physical, performanc...</td>\n",
       "      <td>Physics</td>\n",
       "    </tr>\n",
       "    <tr>\n",
       "      <th>3</th>\n",
       "      <td>0</td>\n",
       "      <td>0</td>\n",
       "      <td>0</td>\n",
       "      <td>0</td>\n",
       "      <td>0</td>\n",
       "      <td>0</td>\n",
       "      <td>0</td>\n",
       "      <td>0</td>\n",
       "      <td>0</td>\n",
       "      <td>0</td>\n",
       "      <td>...</td>\n",
       "      <td>0</td>\n",
       "      <td>0</td>\n",
       "      <td>1</td>\n",
       "      <td>0</td>\n",
       "      <td>0</td>\n",
       "      <td>0</td>\n",
       "      <td>0</td>\n",
       "      <td>0</td>\n",
       "      <td>(Design, :, Cross, -, sectional, study, to, ex...</td>\n",
       "      <td>Physics</td>\n",
       "    </tr>\n",
       "    <tr>\n",
       "      <th>4</th>\n",
       "      <td>0</td>\n",
       "      <td>0</td>\n",
       "      <td>0</td>\n",
       "      <td>0</td>\n",
       "      <td>0</td>\n",
       "      <td>0</td>\n",
       "      <td>0</td>\n",
       "      <td>0</td>\n",
       "      <td>0</td>\n",
       "      <td>0</td>\n",
       "      <td>...</td>\n",
       "      <td>0</td>\n",
       "      <td>0</td>\n",
       "      <td>0</td>\n",
       "      <td>0</td>\n",
       "      <td>0</td>\n",
       "      <td>0</td>\n",
       "      <td>0</td>\n",
       "      <td>0</td>\n",
       "      <td>(Methods, :)</td>\n",
       "      <td>Physics</td>\n",
       "    </tr>\n",
       "  </tbody>\n",
       "</table>\n",
       "<p>5 rows × 1083 columns</p>\n",
       "</div>"
      ],
      "text/plain": [
       "  hypothesis accord general varimax crucial triadic connectivity  ± street  \\\n",
       "0          0      0       0       0       1       0            0  0      0   \n",
       "1          0      0       0       0       0       0            0  0      0   \n",
       "2          0      0       0       0       0       0            0  0      0   \n",
       "3          0      0       0       0       0       0            0  0      0   \n",
       "4          0      0       0       0       0       0            0  0      0   \n",
       "\n",
       "  paper     ...     wide assessment pp heterogeneous long survey functional  \\\n",
       "0     0     ...        0          0  0             0    0      0          0   \n",
       "1     0     ...        0          0  0             0    0      0          0   \n",
       "2     0     ...        0          0  1             0    0      0          0   \n",
       "3     0     ...        0          0  1             0    0      0          0   \n",
       "4     0     ...        0          0  0             0    0      0          0   \n",
       "\n",
       "  table                                      text_sentence text_source  \n",
       "0     0  (Background, :, Physical, function, is, a, cru...     Physics  \n",
       "1     0                                     (Objective, :)     Physics  \n",
       "2     0  (To, examine, whether, ), physical, performanc...     Physics  \n",
       "3     0  (Design, :, Cross, -, sectional, study, to, ex...     Physics  \n",
       "4     0                                       (Methods, :)     Physics  \n",
       "\n",
       "[5 rows x 1083 columns]"
      ]
     },
     "execution_count": 277,
     "metadata": {},
     "output_type": "execute_result"
    }
   ],
   "source": [
    "word_counts = bow_features(sentences, common_words)\n",
    "word_counts.head()"
   ]
  },
  {
   "cell_type": "markdown",
   "metadata": {},
   "source": [
    "### Random Forest"
   ]
  },
  {
   "cell_type": "code",
   "execution_count": 278,
   "metadata": {},
   "outputs": [
    {
     "name": "stderr",
     "output_type": "stream",
     "text": [
      "C:\\Users\\ankush\\Anaconda3\\lib\\site-packages\\sklearn\\ensemble\\forest.py:246: FutureWarning: The default value of n_estimators will change from 10 in version 0.20 to 100 in 0.22.\n",
      "  \"10 in version 0.20 to 100 in 0.22.\", FutureWarning)\n"
     ]
    },
    {
     "name": "stdout",
     "output_type": "stream",
     "text": [
      "Training set score: 0.96\n",
      "\n",
      "Test set score: 0.7029702970297029\n"
     ]
    }
   ],
   "source": [
    "from sklearn import ensemble\n",
    "from sklearn.model_selection import train_test_split\n",
    "\n",
    "rfc = ensemble.RandomForestClassifier()\n",
    "Y = word_counts['text_source']\n",
    "X = np.array(word_counts.drop(['text_sentence','text_source'], 1))\n",
    "\n",
    "X_train, X_test, y_train, y_test = train_test_split(X, \n",
    "                                                    Y,\n",
    "                                                    test_size=0.4,\n",
    "                                                    random_state=0)\n",
    "train = rfc.fit(X_train, y_train)\n",
    "\n",
    "print('Training set score:', rfc.score(X_train, y_train))\n",
    "print('\\nTest set score:', rfc.score(X_test, y_test))"
   ]
  },
  {
   "cell_type": "markdown",
   "metadata": {},
   "source": [
    "Changing the most common feature to 500 did  make it little better.Lets try out ignoring  punctuation criteria and lets check for the below and increase the common words to 2000"
   ]
  },
  {
   "cell_type": "markdown",
   "metadata": {},
   "source": [
    "### Bag of Words(BOW)"
   ]
  },
  {
   "cell_type": "code",
   "execution_count": 289,
   "metadata": {},
   "outputs": [],
   "source": [
    "# Utility function to create a list of the 2000 most common words.\n",
    "def bag_of_words(text):\n",
    "    allwords = [token.lemma_\n",
    "               for token in text\n",
    "               if not token.is_stop]\n",
    "    return [item[0] for item in Counter(allwords).most_common(2000)]\n",
    "\n",
    "def bow_features(sentences, common_words):\n",
    "    df = pd.DataFrame(columns=common_words)\n",
    "    df['text_sentence'] = sentences[0]\n",
    "    df['text_source'] = sentences[1]\n",
    "    df.loc[:,common_words] = 0\n",
    "    \n",
    "    for i, sentence in enumerate(df['text_sentence']):\n",
    "        words = [token.lemma_ \n",
    "                for token in sentence\n",
    "                if (\n",
    "                     not token.is_stop\n",
    "                    and token.lemma_ in common_words\n",
    "                )]\n",
    "        for word in words:\n",
    "            df.loc[i, word] += 1\n",
    "        if i%100 == 0:\n",
    "            print('Processing row {}'.format(i))\n",
    "    return df\n",
    "\n",
    "\n",
    "# Set up the bags.\n",
    "physics = bag_of_words(physics_doc)\n",
    "stars = bag_of_words(stars_doc)\n",
    "black = bag_of_words(black_doc)\n",
    "\n",
    "# Combine bags to create a set of unique words.\n",
    "common_words = set(physics + stars + black)"
   ]
  },
  {
   "cell_type": "code",
   "execution_count": 290,
   "metadata": {},
   "outputs": [
    {
     "name": "stdout",
     "output_type": "stream",
     "text": [
      "Processing row 0\n",
      "Processing row 100\n",
      "Processing row 200\n"
     ]
    },
    {
     "data": {
      "text/html": [
       "<div>\n",
       "<style scoped>\n",
       "    .dataframe tbody tr th:only-of-type {\n",
       "        vertical-align: middle;\n",
       "    }\n",
       "\n",
       "    .dataframe tbody tr th {\n",
       "        vertical-align: top;\n",
       "    }\n",
       "\n",
       "    .dataframe thead th {\n",
       "        text-align: right;\n",
       "    }\n",
       "</style>\n",
       "<table border=\"1\" class=\"dataframe\">\n",
       "  <thead>\n",
       "    <tr style=\"text-align: right;\">\n",
       "      <th></th>\n",
       "      <th>,</th>\n",
       "      <th>natural</th>\n",
       "      <th>this</th>\n",
       "      <th>secondary</th>\n",
       "      <th>type</th>\n",
       "      <th>investigate</th>\n",
       "      <th>systemic</th>\n",
       "      <th>nutrition</th>\n",
       "      <th>emergence</th>\n",
       "      <th>prevent</th>\n",
       "      <th>...</th>\n",
       "      <th>physical</th>\n",
       "      <th>draw</th>\n",
       "      <th>capability</th>\n",
       "      <th>previously</th>\n",
       "      <th>impede</th>\n",
       "      <th>mask</th>\n",
       "      <th>functionaliz</th>\n",
       "      <th>methodological</th>\n",
       "      <th>text_sentence</th>\n",
       "      <th>text_source</th>\n",
       "    </tr>\n",
       "  </thead>\n",
       "  <tbody>\n",
       "    <tr>\n",
       "      <th>0</th>\n",
       "      <td>0</td>\n",
       "      <td>0</td>\n",
       "      <td>0</td>\n",
       "      <td>0</td>\n",
       "      <td>0</td>\n",
       "      <td>0</td>\n",
       "      <td>0</td>\n",
       "      <td>0</td>\n",
       "      <td>0</td>\n",
       "      <td>0</td>\n",
       "      <td>...</td>\n",
       "      <td>3</td>\n",
       "      <td>0</td>\n",
       "      <td>0</td>\n",
       "      <td>0</td>\n",
       "      <td>0</td>\n",
       "      <td>0</td>\n",
       "      <td>0</td>\n",
       "      <td>0</td>\n",
       "      <td>(Background, :, Physical, function, is, a, cru...</td>\n",
       "      <td>Physics</td>\n",
       "    </tr>\n",
       "    <tr>\n",
       "      <th>1</th>\n",
       "      <td>0</td>\n",
       "      <td>0</td>\n",
       "      <td>0</td>\n",
       "      <td>0</td>\n",
       "      <td>0</td>\n",
       "      <td>0</td>\n",
       "      <td>0</td>\n",
       "      <td>0</td>\n",
       "      <td>0</td>\n",
       "      <td>0</td>\n",
       "      <td>...</td>\n",
       "      <td>0</td>\n",
       "      <td>0</td>\n",
       "      <td>0</td>\n",
       "      <td>0</td>\n",
       "      <td>0</td>\n",
       "      <td>0</td>\n",
       "      <td>0</td>\n",
       "      <td>0</td>\n",
       "      <td>(Objective, :)</td>\n",
       "      <td>Physics</td>\n",
       "    </tr>\n",
       "    <tr>\n",
       "      <th>2</th>\n",
       "      <td>0</td>\n",
       "      <td>0</td>\n",
       "      <td>0</td>\n",
       "      <td>0</td>\n",
       "      <td>0</td>\n",
       "      <td>0</td>\n",
       "      <td>0</td>\n",
       "      <td>0</td>\n",
       "      <td>0</td>\n",
       "      <td>0</td>\n",
       "      <td>...</td>\n",
       "      <td>3</td>\n",
       "      <td>0</td>\n",
       "      <td>0</td>\n",
       "      <td>0</td>\n",
       "      <td>0</td>\n",
       "      <td>0</td>\n",
       "      <td>0</td>\n",
       "      <td>0</td>\n",
       "      <td>(To, examine, whether, ), physical, performanc...</td>\n",
       "      <td>Physics</td>\n",
       "    </tr>\n",
       "    <tr>\n",
       "      <th>3</th>\n",
       "      <td>0</td>\n",
       "      <td>0</td>\n",
       "      <td>0</td>\n",
       "      <td>0</td>\n",
       "      <td>0</td>\n",
       "      <td>0</td>\n",
       "      <td>0</td>\n",
       "      <td>0</td>\n",
       "      <td>0</td>\n",
       "      <td>0</td>\n",
       "      <td>...</td>\n",
       "      <td>0</td>\n",
       "      <td>0</td>\n",
       "      <td>0</td>\n",
       "      <td>0</td>\n",
       "      <td>0</td>\n",
       "      <td>0</td>\n",
       "      <td>0</td>\n",
       "      <td>0</td>\n",
       "      <td>(Design, :, Cross, -, sectional, study, to, ex...</td>\n",
       "      <td>Physics</td>\n",
       "    </tr>\n",
       "    <tr>\n",
       "      <th>4</th>\n",
       "      <td>0</td>\n",
       "      <td>0</td>\n",
       "      <td>0</td>\n",
       "      <td>0</td>\n",
       "      <td>0</td>\n",
       "      <td>0</td>\n",
       "      <td>0</td>\n",
       "      <td>0</td>\n",
       "      <td>0</td>\n",
       "      <td>0</td>\n",
       "      <td>...</td>\n",
       "      <td>0</td>\n",
       "      <td>0</td>\n",
       "      <td>0</td>\n",
       "      <td>0</td>\n",
       "      <td>0</td>\n",
       "      <td>0</td>\n",
       "      <td>0</td>\n",
       "      <td>0</td>\n",
       "      <td>(Methods, :)</td>\n",
       "      <td>Physics</td>\n",
       "    </tr>\n",
       "  </tbody>\n",
       "</table>\n",
       "<p>5 rows × 1334 columns</p>\n",
       "</div>"
      ],
      "text/plain": [
       "   , natural this secondary type investigate systemic nutrition emergence  \\\n",
       "0  0       0    0         0    0           0        0         0         0   \n",
       "1  0       0    0         0    0           0        0         0         0   \n",
       "2  0       0    0         0    0           0        0         0         0   \n",
       "3  0       0    0         0    0           0        0         0         0   \n",
       "4  0       0    0         0    0           0        0         0         0   \n",
       "\n",
       "  prevent     ...     physical draw capability previously impede mask  \\\n",
       "0       0     ...            3    0          0          0      0    0   \n",
       "1       0     ...            0    0          0          0      0    0   \n",
       "2       0     ...            3    0          0          0      0    0   \n",
       "3       0     ...            0    0          0          0      0    0   \n",
       "4       0     ...            0    0          0          0      0    0   \n",
       "\n",
       "  functionaliz methodological  \\\n",
       "0            0              0   \n",
       "1            0              0   \n",
       "2            0              0   \n",
       "3            0              0   \n",
       "4            0              0   \n",
       "\n",
       "                                       text_sentence text_source  \n",
       "0  (Background, :, Physical, function, is, a, cru...     Physics  \n",
       "1                                     (Objective, :)     Physics  \n",
       "2  (To, examine, whether, ), physical, performanc...     Physics  \n",
       "3  (Design, :, Cross, -, sectional, study, to, ex...     Physics  \n",
       "4                                       (Methods, :)     Physics  \n",
       "\n",
       "[5 rows x 1334 columns]"
      ]
     },
     "execution_count": 290,
     "metadata": {},
     "output_type": "execute_result"
    }
   ],
   "source": [
    "word_counts = bow_features(sentences, common_words)\n",
    "word_counts.head()"
   ]
  },
  {
   "cell_type": "code",
   "execution_count": 291,
   "metadata": {},
   "outputs": [
    {
     "name": "stderr",
     "output_type": "stream",
     "text": [
      "C:\\Users\\ankush\\Anaconda3\\lib\\site-packages\\sklearn\\ensemble\\forest.py:246: FutureWarning: The default value of n_estimators will change from 10 in version 0.20 to 100 in 0.22.\n",
      "  \"10 in version 0.20 to 100 in 0.22.\", FutureWarning)\n"
     ]
    },
    {
     "name": "stdout",
     "output_type": "stream",
     "text": [
      "Training set score: 0.9733333333333334\n",
      "\n",
      "Test set score: 0.7425742574257426\n"
     ]
    }
   ],
   "source": [
    "from sklearn import ensemble\n",
    "from sklearn.model_selection import train_test_split\n",
    "\n",
    "rfc = ensemble.RandomForestClassifier()\n",
    "Y = word_counts['text_source']\n",
    "X = np.array(word_counts.drop(['text_sentence','text_source'], 1))\n",
    "\n",
    "X_train, X_test, y_train, y_test = train_test_split(X, \n",
    "                                                    Y,\n",
    "                                                    test_size=0.4,\n",
    "                                                    random_state=0)\n",
    "train = rfc.fit(X_train, y_train)\n",
    "\n",
    "print('Training set score:', rfc.score(X_train, y_train))\n",
    "print('\\nTest set score:', rfc.score(X_test, y_test))"
   ]
  },
  {
   "cell_type": "markdown",
   "metadata": {},
   "source": [
    "It looks like the overfitting is reduced a little and accuracy better better.For getting this result, we had to include  punctuations in the data as well"
   ]
  },
  {
   "cell_type": "markdown",
   "metadata": {},
   "source": [
    "### Cross Validation"
   ]
  },
  {
   "cell_type": "code",
   "execution_count": 292,
   "metadata": {},
   "outputs": [
    {
     "name": "stdout",
     "output_type": "stream",
     "text": [
      "Training data accuracy for Random Forest:  [0.8125     0.6875     0.625      0.6875     0.875      0.625\n",
      " 0.64285714 0.78571429 0.84615385 0.61538462]\n",
      "Testing data accuracy Random Forest:  [0.66666667 0.66666667 0.54545455 0.54545455 0.5        0.55555556\n",
      " 0.77777778 0.55555556 0.55555556 0.66666667]\n"
     ]
    }
   ],
   "source": [
    "from sklearn.model_selection import cross_val_score\n",
    "print(\"Training data accuracy for Random Forest: \",cross_val_score(rfc, X_train, y_train, cv=10))\n",
    "print(\"Testing data accuracy Random Forest: \",cross_val_score(rfc, X_test, y_test, cv=10))"
   ]
  },
  {
   "cell_type": "markdown",
   "metadata": {},
   "source": [
    "# Conclusion:"
   ]
  },
  {
   "cell_type": "markdown",
   "metadata": {},
   "source": [
    "In the above, there are few things we have done.We used 2 methods-bow and tf-idf and checked the accuracy of model.There has been some overfitting in the models which means its too close to the data points which should not happen.One way to resolve this is to add more data , but since it will slow down our process thats why I am not adding more data.Testing data performed ok so the models are not too bad.Also like we used tf-idf, the sentences are very less similar to each other thats good for analysis.In order to increase the performance , we tried to decrease the most common words to 500, it didnt make much of difference  but when I ignored punctuation criteria i.e include punctuation and increased the most common words to 2000 ,it did improve the accuracy results."
   ]
  },
  {
   "cell_type": "code",
   "execution_count": null,
   "metadata": {},
   "outputs": [],
   "source": []
  }
 ],
 "metadata": {
  "kernelspec": {
   "display_name": "Python 3",
   "language": "python",
   "name": "python3"
  },
  "language_info": {
   "codemirror_mode": {
    "name": "ipython",
    "version": 3
   },
   "file_extension": ".py",
   "mimetype": "text/x-python",
   "name": "python",
   "nbconvert_exporter": "python",
   "pygments_lexer": "ipython3",
   "version": "3.7.1"
  }
 },
 "nbformat": 4,
 "nbformat_minor": 2
}
