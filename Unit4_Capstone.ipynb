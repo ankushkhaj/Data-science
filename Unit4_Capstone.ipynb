{
 "cells": [
  {
   "cell_type": "code",
   "execution_count": 1,
   "metadata": {},
   "outputs": [],
   "source": [
    "import tweepy\n",
    "import numpy as np\n",
    "import pandas as pd\n",
    "import matplotlib.pyplot as plt\n",
    "import seaborn as sns\n",
    "import math\n",
    "import json\n",
    "from collections import Counter\n",
    "import re\n",
    "import spacy\n",
    "\n",
    "%matplotlib inline\n",
    "from sklearn import ensemble\n",
    "from sklearn.feature_extraction.text import TfidfVectorizer\n",
    "from sklearn.svm import SVC\n",
    "from sklearn.linear_model import LogisticRegression\n",
    "from sklearn.neighbors import KNeighborsClassifier\n",
    "from sklearn import neural_network\n",
    "from sklearn.model_selection import GridSearchCV\n",
    "\n",
    "from sklearn.model_selection import train_test_split\n",
    "from sklearn.preprocessing import normalize\n",
    "from sklearn.decomposition import PCA\n",
    "from sklearn.cluster import MeanShift, estimate_bandwidth\n",
    "from sklearn.cluster import KMeans, MiniBatchKMeans\n",
    "from sklearn import metrics\n",
    "from time import time\n",
    "from sklearn.metrics import confusion_matrix\n",
    "from sklearn.metrics.pairwise import cosine_similarity\n",
    "\n",
    "from sklearn.decomposition import TruncatedSVD\n",
    "from sklearn.pipeline import make_pipeline\n",
    "from sklearn.preprocessing import Normalizer\n",
    "from sklearn.utils import shuffle\n",
    "from sklearn import tree,model_selection\n",
    "import gensim\n",
    "from gensim import corpora, models, similarities\n",
    "import pyLDAvis.gensim as gensimvis\n",
    "import pyLDAvis\n",
    "\n",
    "import warnings\n",
    "warnings.filterwarnings(\"ignore\", category=DeprecationWarning)"
   ]
  },
  {
   "cell_type": "markdown",
   "metadata": {},
   "source": [
    "Below , i am using twitter api to get real time tweets for some famous politicians- Donald Trump,Hillary Clinton,Barnie Sanders and Barack Obama.Lets try to classify their tweets to check of the accuracy for the labelling."
   ]
  },
  {
   "cell_type": "code",
   "execution_count": 2,
   "metadata": {},
   "outputs": [],
   "source": [
    "import tweepy\n",
    "consumer_key = '66n3K6o0GfkbLO4QEoqRCA2pZ'\n",
    "consumer_secret = 'T1fsUWei3jSvOehl9TmRqIuIhTGi0UEudOAeT04PMLcgodQzhS'\n",
    "access_token = '86377594-cpO17ciBmTRbHzKD0AikvyIgJg7Ohfj5klfTogjVh'\n",
    "access_token_secret = 'pMIxRtyha7XNeyBITlLwprYGwfl2DM4laCB2dUaDXCrCA'\n",
    " \n",
    "def  twitter_Access():\n",
    "     auth = tweepy.OAuthHandler(consumer_key, consumer_secret)\n",
    "     auth.set_access_token(access_token, access_token_secret)\n",
    "     api = tweepy.API(auth, wait_on_rate_limit=True)\n",
    "     return api\n",
    "extract = twitter_Access()"
   ]
  },
  {
   "cell_type": "markdown",
   "metadata": {},
   "source": [
    "First of all, I am creating a file for each politican and saving there latest 200 tweets in a file and then retrieving them"
   ]
  },
  {
   "cell_type": "code",
   "execution_count": 16,
   "metadata": {},
   "outputs": [],
   "source": [
    "\n",
    "#Twitter's API only allows for 200 records per call\n",
    "TWEETS_PER_CALL = 200 \n",
    "\n",
    "def save_tweets(screen_nm, tweets):\n",
    "    # 'a' appends to the .json we wrote with 'w' above\n",
    "    with open(f'C:\\\\Users\\\\Ankush\\\\Desktop\\\\{screen_nm}.json', 'a') as f:\n",
    "        for tweet in tweets:\n",
    "            json.dump([tweet.text, screen_nm], f); f.write('\\n')\n",
    "\n",
    "def get_tweets(screen_nm, desired_ct):\n",
    "    \n",
    "    #desired_ct is the number of tweets the user wants to include\n",
    "    tweet_list = []\n",
    "\n",
    "    #grab the current maximum tweet id for provided screen name, which will be the id of the first tweet stored in the object\n",
    "    tweets = extract.user_timeline(screen_name = screen_nm,count=50)\n",
    "    save_tweets(screen_nm, tweets)\n",
    "    return tweet_list"
   ]
  },
  {
   "cell_type": "code",
   "execution_count": 17,
   "metadata": {},
   "outputs": [],
   "source": [
    "trump = get_tweets('realDonaldTrump',50)\n",
    "clinton = get_tweets('HillaryClinton', 50)\n",
    "bernie = get_tweets('SenSanders', 50)\n",
    "obama = get_tweets('BarackObama', 50)\n"
   ]
  },
  {
   "cell_type": "code",
   "execution_count": 5,
   "metadata": {},
   "outputs": [],
   "source": [
    "handles = ['realDonaldTrump', 'HillaryClinton', 'SenSanders', 'BarackObama', 'MikeBloomberg']\n"
   ]
  },
  {
   "cell_type": "markdown",
   "metadata": {},
   "source": [
    "Now, lets combine all the tweets in one list and then into a dataframe so that we can ceate two columns- tweets and the author"
   ]
  },
  {
   "cell_type": "code",
   "execution_count": 18,
   "metadata": {},
   "outputs": [],
   "source": [
    "\n",
    "#Combine all tweets into 1 list\n",
    "\n",
    "full_tweets = []\n",
    "for handle in handles:\n",
    "    with open('C:\\\\Users\\\\Ankush\\\\Desktop\\\\{}.json'.format(handle)) as f: \n",
    "        full_tweets.append([json.loads(line) for line in f])\n",
    "        \n",
    "#Only want the first 2100 from each author (retweets caused the full amount for each author to be < 3200, and each has at least\n",
    "#2100 non RTs)\n",
    "all_tweets = []\n",
    "for auth in full_tweets:\n",
    "    all_tweets.extend(auth[:500])\n",
    "    \n",
    "#Store in dataframe\n",
    "tweet_df = pd.DataFrame(all_tweets, columns = ['Tweets', 'Author'])"
   ]
  },
  {
   "cell_type": "code",
   "execution_count": 137,
   "metadata": {},
   "outputs": [
    {
     "data": {
      "text/html": [
       "<div>\n",
       "<style scoped>\n",
       "    .dataframe tbody tr th:only-of-type {\n",
       "        vertical-align: middle;\n",
       "    }\n",
       "\n",
       "    .dataframe tbody tr th {\n",
       "        vertical-align: top;\n",
       "    }\n",
       "\n",
       "    .dataframe thead th {\n",
       "        text-align: right;\n",
       "    }\n",
       "</style>\n",
       "<table border=\"1\" class=\"dataframe\">\n",
       "  <thead>\n",
       "    <tr style=\"text-align: right;\">\n",
       "      <th></th>\n",
       "      <th>Tweets</th>\n",
       "      <th>Author</th>\n",
       "      <th>MiniBatchLabels</th>\n",
       "    </tr>\n",
       "  </thead>\n",
       "  <tbody>\n",
       "    <tr>\n",
       "      <th>0</th>\n",
       "      <td>....This will be remembered as one of the most...</td>\n",
       "      <td>realDonaldTrump</td>\n",
       "      <td>1</td>\n",
       "    </tr>\n",
       "    <tr>\n",
       "      <th>1</th>\n",
       "      <td>Senate Democrats just voted against legislatio...</td>\n",
       "      <td>realDonaldTrump</td>\n",
       "      <td>5</td>\n",
       "    </tr>\n",
       "    <tr>\n",
       "      <th>2</th>\n",
       "      <td>If a deal is made with China, our great Americ...</td>\n",
       "      <td>realDonaldTrump</td>\n",
       "      <td>6</td>\n",
       "    </tr>\n",
       "    <tr>\n",
       "      <th>3</th>\n",
       "      <td>Heading over to Vietnam for my meeting with Ki...</td>\n",
       "      <td>realDonaldTrump</td>\n",
       "      <td>1</td>\n",
       "    </tr>\n",
       "    <tr>\n",
       "      <th>4</th>\n",
       "      <td>China Trade Deal (and more) in advanced stages...</td>\n",
       "      <td>realDonaldTrump</td>\n",
       "      <td>1</td>\n",
       "    </tr>\n",
       "  </tbody>\n",
       "</table>\n",
       "</div>"
      ],
      "text/plain": [
       "                                              Tweets           Author  \\\n",
       "0  ....This will be remembered as one of the most...  realDonaldTrump   \n",
       "1  Senate Democrats just voted against legislatio...  realDonaldTrump   \n",
       "2  If a deal is made with China, our great Americ...  realDonaldTrump   \n",
       "3  Heading over to Vietnam for my meeting with Ki...  realDonaldTrump   \n",
       "4  China Trade Deal (and more) in advanced stages...  realDonaldTrump   \n",
       "\n",
       "   MiniBatchLabels  \n",
       "0                1  \n",
       "1                5  \n",
       "2                6  \n",
       "3                1  \n",
       "4                1  "
      ]
     },
     "execution_count": 137,
     "metadata": {},
     "output_type": "execute_result"
    }
   ],
   "source": [
    "tweet_df.head()"
   ]
  },
  {
   "cell_type": "code",
   "execution_count": 12,
   "metadata": {
    "scrolled": true
   },
   "outputs": [
    {
     "data": {
      "text/html": [
       "<div>\n",
       "<style scoped>\n",
       "    .dataframe tbody tr th:only-of-type {\n",
       "        vertical-align: middle;\n",
       "    }\n",
       "\n",
       "    .dataframe tbody tr th {\n",
       "        vertical-align: top;\n",
       "    }\n",
       "\n",
       "    .dataframe thead th {\n",
       "        text-align: right;\n",
       "    }\n",
       "</style>\n",
       "<table border=\"1\" class=\"dataframe\">\n",
       "  <thead>\n",
       "    <tr style=\"text-align: right;\">\n",
       "      <th></th>\n",
       "      <th>Tweets</th>\n",
       "      <th>Author</th>\n",
       "    </tr>\n",
       "  </thead>\n",
       "  <tbody>\n",
       "    <tr>\n",
       "      <th>0</th>\n",
       "      <td>....This will be remembered as one of the most...</td>\n",
       "      <td>realDonaldTrump</td>\n",
       "    </tr>\n",
       "    <tr>\n",
       "      <th>1</th>\n",
       "      <td>Senate Democrats just voted against legislatio...</td>\n",
       "      <td>realDonaldTrump</td>\n",
       "    </tr>\n",
       "    <tr>\n",
       "      <th>2</th>\n",
       "      <td>If a deal is made with China, our great Americ...</td>\n",
       "      <td>realDonaldTrump</td>\n",
       "    </tr>\n",
       "    <tr>\n",
       "      <th>3</th>\n",
       "      <td>Heading over to Vietnam for my meeting with Ki...</td>\n",
       "      <td>realDonaldTrump</td>\n",
       "    </tr>\n",
       "    <tr>\n",
       "      <th>4</th>\n",
       "      <td>China Trade Deal (and more) in advanced stages...</td>\n",
       "      <td>realDonaldTrump</td>\n",
       "    </tr>\n",
       "  </tbody>\n",
       "</table>\n",
       "</div>"
      ],
      "text/plain": [
       "                                              Tweets           Author\n",
       "0  ....This will be remembered as one of the most...  realDonaldTrump\n",
       "1  Senate Democrats just voted against legislatio...  realDonaldTrump\n",
       "2  If a deal is made with China, our great Americ...  realDonaldTrump\n",
       "3  Heading over to Vietnam for my meeting with Ki...  realDonaldTrump\n",
       "4  China Trade Deal (and more) in advanced stages...  realDonaldTrump"
      ]
     },
     "execution_count": 12,
     "metadata": {},
     "output_type": "execute_result"
    }
   ],
   "source": [
    "tweet_df.head()"
   ]
  },
  {
   "cell_type": "markdown",
   "metadata": {},
   "source": [
    "Now, we are trying to remove uneven word space and trying to join the words with single space"
   ]
  },
  {
   "cell_type": "code",
   "execution_count": 19,
   "metadata": {},
   "outputs": [],
   "source": [
    "tweet_full= ' '.join(tweet_df['Tweets'])"
   ]
  },
  {
   "cell_type": "markdown",
   "metadata": {},
   "source": [
    "Now, we can parse the cleaned data into tokens as below"
   ]
  },
  {
   "cell_type": "code",
   "execution_count": 20,
   "metadata": {},
   "outputs": [],
   "source": [
    "nlp = spacy.load('en')\n",
    "tweet_full=nlp(tweet_full)"
   ]
  },
  {
   "cell_type": "code",
   "execution_count": 21,
   "metadata": {},
   "outputs": [],
   "source": [
    "def bag_of_words(text):\n",
    "    allwords = [token.lemma_ for token in text if not token.is_stop and not token.is_punct and not token.like_url and \n",
    "                not token.like_num and not token.is_space and token.is_ascii and len(token.lemma_) > 1]\n",
    "    # Return the most common words.\n",
    "    return [item[0] for item in Counter(allwords).most_common(1000)]"
   ]
  },
  {
   "cell_type": "code",
   "execution_count": 22,
   "metadata": {},
   "outputs": [],
   "source": [
    "bow = bag_of_words(tweet_full)\n",
    "\n",
    "#Let's clean this up a bit \n",
    "replace_words = [r'/n', r'\\\\n', r'\\n', r'--', r'-', 'https:\\/\\/t\\.co\\/[\\w\\d]+', r'amp', r'&', r'w/', \"'s\"]\n",
    "bow = [re.sub('|'.join(replace_words), '', word) for word in bow]"
   ]
  },
  {
   "cell_type": "code",
   "execution_count": 26,
   "metadata": {},
   "outputs": [],
   "source": [
    "#Create dataframe with counts of our bag of words as features \n",
    "def bow_features(sentences, bow):\n",
    "    \n",
    "    partsofspeechlist = []\n",
    "    ent_list = []\n",
    "    \n",
    "    for sent in sentences[0]:\n",
    "        for token in sent:\n",
    "                partsofspeechlist.append(token.pos_)\n",
    "\n",
    "    parts = (set(partsofspeechlist))\n",
    "\n",
    "    # Scaffold the data frame and initialize counts to zero.\n",
    "    df = pd.DataFrame(columns = set(list(bow)+ list(parts)))\n",
    "    df['text_sentence'] = sentences[0]\n",
    "    df['text_source'] = sentences[1]\n",
    "    df.loc[:, bow] = 0\n",
    "    #df['tweet_length'] = 0\n",
    "    #df['tweet_punct_count'] = 0 \n",
    "    #df['upper_case'] = 0 \n",
    "    df.loc[:, parts] = 0\n",
    "    \n",
    "    for i, sent in enumerate(sentences[0]):\n",
    "\n",
    "        tweet_len = 0    \n",
    "        num_punct = 0\n",
    "        \n",
    "        # Populate the row with word counts (only include the ones from our bag of words)\n",
    "        words = [token.lemma_ for token in sent\n",
    "                 if token.lemma_ in bow]\n",
    "        \n",
    "        #\"words\" collects all bow matches from each sentence\n",
    "        for word in words:\n",
    "            df.loc[i, word] += 1\n",
    "        \n",
    "        #Add part of speech counter and tweet length\n",
    "        for token in sent:\n",
    "            df.loc[i, token.pos_] += 1\n",
    "            if not token.is_punct:\n",
    "                tweet_len += 1\n",
    "            else:\n",
    "                num_punct += 1\n",
    "            \n",
    "        #Create a feature for all CAPS words  \n",
    "           # if ((str(token).isupper()) & (len(str(token)) > 1)):\n",
    "             #   df.loc[i, 'upper_case'] += 1\n",
    "\n",
    "\n",
    "        #df.loc[i, 'tweet_length'] = tweet_len\n",
    "        #df.loc[i, 'tweet_punct_count'] = num_punct\n",
    "\n",
    "        \n",
    "        # This counter is just to make sure the kernel didn't hang.\n",
    "        if i % 500 == 0:\n",
    "            print(\"Processing row {}\".format(i))\n",
    "\n",
    "    return df"
   ]
  },
  {
   "cell_type": "code",
   "execution_count": 27,
   "metadata": {},
   "outputs": [],
   "source": [
    "#Tokenize our tweets using spaCy (for more interesting features later on)\n",
    "all_tweets_nlp = []\n",
    "all_tweets_nlp.append([nlp(tweet[0]) for tweet in all_tweets])\n",
    "all_tweets_nlp.append([nlp(tweet[1]) for tweet in all_tweets])"
   ]
  },
  {
   "cell_type": "code",
   "execution_count": 28,
   "metadata": {
    "scrolled": true
   },
   "outputs": [
    {
     "name": "stdout",
     "output_type": "stream",
     "text": [
      "Processing row 0\n",
      "Processing row 500\n",
      "Processing row 1000\n",
      "Processing row 1500\n",
      "Processing row 2000\n"
     ]
    },
    {
     "data": {
      "text/html": [
       "<div>\n",
       "<style scoped>\n",
       "    .dataframe tbody tr th:only-of-type {\n",
       "        vertical-align: middle;\n",
       "    }\n",
       "\n",
       "    .dataframe tbody tr th {\n",
       "        vertical-align: top;\n",
       "    }\n",
       "\n",
       "    .dataframe thead th {\n",
       "        text-align: right;\n",
       "    }\n",
       "</style>\n",
       "<table border=\"1\" class=\"dataframe\">\n",
       "  <thead>\n",
       "    <tr style=\"text-align: right;\">\n",
       "      <th></th>\n",
       "      <th></th>\n",
       "      <th>robinson</th>\n",
       "      <th>strength</th>\n",
       "      <th>deal</th>\n",
       "      <th>low</th>\n",
       "      <th>abuse</th>\n",
       "      <th>murder</th>\n",
       "      <th>safe</th>\n",
       "      <th>teach</th>\n",
       "      <th>throw</th>\n",
       "      <th>...</th>\n",
       "      <th>allow</th>\n",
       "      <th>truly</th>\n",
       "      <th>iowa</th>\n",
       "      <th>venezuela</th>\n",
       "      <th>american</th>\n",
       "      <th>prince</th>\n",
       "      <th>deliver</th>\n",
       "      <th>network</th>\n",
       "      <th>text_sentence</th>\n",
       "      <th>text_source</th>\n",
       "    </tr>\n",
       "  </thead>\n",
       "  <tbody>\n",
       "    <tr>\n",
       "      <th>0</th>\n",
       "      <td>0</td>\n",
       "      <td>0</td>\n",
       "      <td>0</td>\n",
       "      <td>0</td>\n",
       "      <td>0</td>\n",
       "      <td>0</td>\n",
       "      <td>0</td>\n",
       "      <td>0</td>\n",
       "      <td>0</td>\n",
       "      <td>0</td>\n",
       "      <td>...</td>\n",
       "      <td>0</td>\n",
       "      <td>0</td>\n",
       "      <td>0</td>\n",
       "      <td>0</td>\n",
       "      <td>0</td>\n",
       "      <td>0</td>\n",
       "      <td>0</td>\n",
       "      <td>0</td>\n",
       "      <td>(...., This, will, be, remembered, as, one, of...</td>\n",
       "      <td>(realDonaldTrump)</td>\n",
       "    </tr>\n",
       "    <tr>\n",
       "      <th>1</th>\n",
       "      <td>0</td>\n",
       "      <td>0</td>\n",
       "      <td>0</td>\n",
       "      <td>0</td>\n",
       "      <td>0</td>\n",
       "      <td>0</td>\n",
       "      <td>0</td>\n",
       "      <td>0</td>\n",
       "      <td>0</td>\n",
       "      <td>0</td>\n",
       "      <td>...</td>\n",
       "      <td>0</td>\n",
       "      <td>0</td>\n",
       "      <td>0</td>\n",
       "      <td>0</td>\n",
       "      <td>0</td>\n",
       "      <td>0</td>\n",
       "      <td>0</td>\n",
       "      <td>0</td>\n",
       "      <td>(Senate, Democrats, just, voted, against, legi...</td>\n",
       "      <td>(realDonaldTrump)</td>\n",
       "    </tr>\n",
       "    <tr>\n",
       "      <th>2</th>\n",
       "      <td>0</td>\n",
       "      <td>0</td>\n",
       "      <td>0</td>\n",
       "      <td>1</td>\n",
       "      <td>0</td>\n",
       "      <td>0</td>\n",
       "      <td>0</td>\n",
       "      <td>0</td>\n",
       "      <td>0</td>\n",
       "      <td>0</td>\n",
       "      <td>...</td>\n",
       "      <td>0</td>\n",
       "      <td>0</td>\n",
       "      <td>0</td>\n",
       "      <td>0</td>\n",
       "      <td>1</td>\n",
       "      <td>0</td>\n",
       "      <td>0</td>\n",
       "      <td>0</td>\n",
       "      <td>(If, a, deal, is, made, with, China, ,, our, g...</td>\n",
       "      <td>(realDonaldTrump)</td>\n",
       "    </tr>\n",
       "    <tr>\n",
       "      <th>3</th>\n",
       "      <td>0</td>\n",
       "      <td>0</td>\n",
       "      <td>0</td>\n",
       "      <td>0</td>\n",
       "      <td>0</td>\n",
       "      <td>0</td>\n",
       "      <td>0</td>\n",
       "      <td>0</td>\n",
       "      <td>0</td>\n",
       "      <td>0</td>\n",
       "      <td>...</td>\n",
       "      <td>0</td>\n",
       "      <td>0</td>\n",
       "      <td>0</td>\n",
       "      <td>0</td>\n",
       "      <td>0</td>\n",
       "      <td>0</td>\n",
       "      <td>0</td>\n",
       "      <td>0</td>\n",
       "      <td>(Heading, over, to, Vietnam, for, my, meeting,...</td>\n",
       "      <td>(realDonaldTrump)</td>\n",
       "    </tr>\n",
       "    <tr>\n",
       "      <th>4</th>\n",
       "      <td>0</td>\n",
       "      <td>0</td>\n",
       "      <td>0</td>\n",
       "      <td>1</td>\n",
       "      <td>0</td>\n",
       "      <td>0</td>\n",
       "      <td>0</td>\n",
       "      <td>0</td>\n",
       "      <td>0</td>\n",
       "      <td>0</td>\n",
       "      <td>...</td>\n",
       "      <td>0</td>\n",
       "      <td>0</td>\n",
       "      <td>0</td>\n",
       "      <td>0</td>\n",
       "      <td>0</td>\n",
       "      <td>0</td>\n",
       "      <td>0</td>\n",
       "      <td>0</td>\n",
       "      <td>(China, Trade, Deal, (, and, more, ), in, adva...</td>\n",
       "      <td>(realDonaldTrump)</td>\n",
       "    </tr>\n",
       "  </tbody>\n",
       "</table>\n",
       "<p>5 rows × 1016 columns</p>\n",
       "</div>"
      ],
      "text/plain": [
       "     robinson strength deal low abuse murder safe teach throw  \\\n",
       "0  0        0        0    0   0     0      0    0     0     0   \n",
       "1  0        0        0    0   0     0      0    0     0     0   \n",
       "2  0        0        0    1   0     0      0    0     0     0   \n",
       "3  0        0        0    0   0     0      0    0     0     0   \n",
       "4  0        0        0    1   0     0      0    0     0     0   \n",
       "\n",
       "         ...         allow truly iowa venezuela american prince deliver  \\\n",
       "0        ...             0     0    0         0        0      0       0   \n",
       "1        ...             0     0    0         0        0      0       0   \n",
       "2        ...             0     0    0         0        1      0       0   \n",
       "3        ...             0     0    0         0        0      0       0   \n",
       "4        ...             0     0    0         0        0      0       0   \n",
       "\n",
       "  network                                      text_sentence  \\\n",
       "0       0  (...., This, will, be, remembered, as, one, of...   \n",
       "1       0  (Senate, Democrats, just, voted, against, legi...   \n",
       "2       0  (If, a, deal, is, made, with, China, ,, our, g...   \n",
       "3       0  (Heading, over, to, Vietnam, for, my, meeting,...   \n",
       "4       0  (China, Trade, Deal, (, and, more, ), in, adva...   \n",
       "\n",
       "         text_source  \n",
       "0  (realDonaldTrump)  \n",
       "1  (realDonaldTrump)  \n",
       "2  (realDonaldTrump)  \n",
       "3  (realDonaldTrump)  \n",
       "4  (realDonaldTrump)  \n",
       "\n",
       "[5 rows x 1016 columns]"
      ]
     },
     "execution_count": 28,
     "metadata": {},
     "output_type": "execute_result"
    }
   ],
   "source": [
    "df = bow_features(all_tweets_nlp, bow)\n",
    "df.head()"
   ]
  },
  {
   "cell_type": "markdown",
   "metadata": {},
   "source": [
    "# Supervised Learning"
   ]
  },
  {
   "cell_type": "markdown",
   "metadata": {},
   "source": [
    "We can now use all the supervised learning models for classification since we have input variables and labels both"
   ]
  },
  {
   "cell_type": "markdown",
   "metadata": {},
   "source": [
    "# Random Forest"
   ]
  },
  {
   "cell_type": "code",
   "execution_count": 39,
   "metadata": {},
   "outputs": [
    {
     "name": "stderr",
     "output_type": "stream",
     "text": [
      "C:\\Users\\ankush\\Anaconda3\\lib\\site-packages\\sklearn\\ensemble\\forest.py:246: FutureWarning: The default value of n_estimators will change from 10 in version 0.20 to 100 in 0.22.\n",
      "  \"10 in version 0.20 to 100 in 0.22.\", FutureWarning)\n"
     ]
    },
    {
     "name": "stdout",
     "output_type": "stream",
     "text": [
      "Training set score: 0.9973333333333333\n",
      "\n",
      "Test set score: 0.883\n"
     ]
    }
   ],
   "source": [
    "from sklearn import ensemble\n",
    "from sklearn.model_selection import train_test_split\n",
    "\n",
    "rfc = ensemble.RandomForestClassifier()\n",
    "X = np.array(df.drop(['text_sentence', 'text_source'],1))\n",
    "\n",
    "#y needs to be str or int, cannot be spacy doc, so convert here\n",
    "Y = df['text_source'].apply(lambda x: str(x))\n",
    "\n",
    "X_train, X_test, y_train, y_test = train_test_split(X, \n",
    "                                                    Y,\n",
    "                                                    test_size=0.4,\n",
    "                                                    random_state=0)\n",
    "train = rfc.fit(X_train, y_train)\n",
    "y_pred = rfc.predict(X_train)\n",
    "\n",
    "\n",
    "\n",
    "print('Training set score:', rfc.score(X_train, y_train))\n",
    "print('\\nTest set score:', rfc.score(X_test, y_test))"
   ]
  },
  {
   "cell_type": "markdown",
   "metadata": {},
   "source": [
    "Wow, looks like there is overfitting in training and test data both.This might have been because of high number of features.It is suspectable to random noise which we can oberserve by looking at overfitting.Random forest/Decision tree doesnot perform well with huge number of features as above.Using Gridsearch cv will not really help here either.So, we should ignore this model"
   ]
  },
  {
   "cell_type": "code",
   "execution_count": 30,
   "metadata": {},
   "outputs": [
    {
     "name": "stderr",
     "output_type": "stream",
     "text": [
      "C:\\Users\\ankush\\Anaconda3\\lib\\site-packages\\sklearn\\linear_model\\logistic.py:433: FutureWarning: Default solver will be changed to 'lbfgs' in 0.22. Specify a solver to silence this warning.\n",
      "  FutureWarning)\n",
      "C:\\Users\\ankush\\Anaconda3\\lib\\site-packages\\sklearn\\linear_model\\logistic.py:460: FutureWarning: Default multi_class will be changed to 'auto' in 0.22. Specify the multi_class option to silence this warning.\n",
      "  \"this warning.\", FutureWarning)\n"
     ]
    },
    {
     "name": "stdout",
     "output_type": "stream",
     "text": [
      "Training set score: 1.0\n",
      "\n",
      "Test set score: 0.918\n"
     ]
    }
   ],
   "source": [
    "lr = LogisticRegression(C=1e9)\n",
    "lr.fit(X_train, y_train)\n",
    "print('Training set score:', lr.score(X_train, y_train))\n",
    "print('\\nTest set score:', lr.score(X_test, y_test))"
   ]
  },
  {
   "cell_type": "markdown",
   "metadata": {},
   "source": [
    "Same has happend for Logisic Regression,lot of overfitting."
   ]
  },
  {
   "cell_type": "code",
   "execution_count": 40,
   "metadata": {},
   "outputs": [
    {
     "name": "stdout",
     "output_type": "stream",
     "text": [
      "Training set score: 0.9233333333333333\n",
      "\n",
      "Test set score: 0.69\n"
     ]
    }
   ],
   "source": [
    "#KNN\n",
    "knn_model = KNeighborsClassifier(n_neighbors=2)\n",
    "knn_model.fit(X_train, y_train)\n",
    "y_pred_knn = knn_model.predict(X_train)\n",
    "print('Training set score:', knn_model.score(X_train, y_train))\n",
    "print('\\nTest set score:', knn_model.score(X_test, y_test))"
   ]
  },
  {
   "cell_type": "markdown",
   "metadata": {},
   "source": [
    "KNN has peformed better then random forest and Logistic Regression.The reason being  that it is robust to random noise which we can observe looking at the dataset.Also, this model performs better for large dataset which is applicable to this dataset.We need to play around with number of neighbours to get the best accuracy.In this case, if we increase the neighbours, accuracy will decrease.The reason being the huge amount of data in the dataset which is affecting the accuracy."
   ]
  },
  {
   "cell_type": "markdown",
   "metadata": {},
   "source": [
    "# Cross Validation Score"
   ]
  },
  {
   "cell_type": "code",
   "execution_count": 36,
   "metadata": {},
   "outputs": [
    {
     "name": "stdout",
     "output_type": "stream",
     "text": [
      "Training data accuracy :  [0.61437908 0.64900662 0.67333333 0.63333333 0.57333333 0.56666667\n",
      " 0.59333333 0.61744966 0.63758389 0.59459459]\n",
      "Testing data accuracy :  [0.64705882 0.4950495  0.55445545 0.42       0.54       0.49\n",
      " 0.47       0.59       0.54545455 0.5257732 ]\n"
     ]
    }
   ],
   "source": [
    "from sklearn.model_selection import cross_val_score\n",
    "print(\"Training data accuracy : \",cross_val_score(knn_model, X_train, y_train, cv=10))\n",
    "print(\"Testing data accuracy : \",cross_val_score(knn_model, X_test, y_test, cv=10))"
   ]
  },
  {
   "cell_type": "markdown",
   "metadata": {},
   "source": [
    "# Confusion Matrix"
   ]
  },
  {
   "cell_type": "code",
   "execution_count": 43,
   "metadata": {},
   "outputs": [
    {
     "name": "stdout",
     "output_type": "stream",
     "text": [
      "[[299   0   0   0   0]\n",
      " [ 14 278   0   0   0]\n",
      " [ 15  16 260   0   0]\n",
      " [  9  15  11 276   0]\n",
      " [ 10  11   5   9 272]]\n",
      "Accuracy Score: 0.9233333333333333\n"
     ]
    }
   ],
   "source": [
    "#Confusion Matrix\n",
    "from sklearn.metrics import confusion_matrix\n",
    "from sklearn.metrics import accuracy_score\n",
    "print(confusion_matrix(y_train, y_pred_knn))\n",
    "print('Accuracy Score:',accuracy_score(y_train, y_pred_knn))"
   ]
  },
  {
   "cell_type": "markdown",
   "metadata": {},
   "source": [
    "# Classification Report"
   ]
  },
  {
   "cell_type": "code",
   "execution_count": 44,
   "metadata": {},
   "outputs": [
    {
     "name": "stdout",
     "output_type": "stream",
     "text": [
      "Classification Report :                  precision    recall  f1-score   support\n",
      "\n",
      "    BarackObama       0.86      1.00      0.93       299\n",
      " HillaryClinton       0.87      0.95      0.91       292\n",
      "  MikeBloomberg       0.94      0.89      0.92       291\n",
      "     SenSanders       0.97      0.89      0.93       311\n",
      "realDonaldTrump       1.00      0.89      0.94       307\n",
      "\n",
      "      micro avg       0.92      0.92      0.92      1500\n",
      "      macro avg       0.93      0.92      0.92      1500\n",
      "   weighted avg       0.93      0.92      0.92      1500\n",
      "\n"
     ]
    }
   ],
   "source": [
    "#Classification Report\n",
    "from sklearn.metrics import classification_report\n",
    "print(\"Classification Report :\",classification_report(y_train, y_pred_knn))"
   ]
  },
  {
   "cell_type": "code",
   "execution_count": 47,
   "metadata": {},
   "outputs": [
    {
     "data": {
      "text/plain": [
       "<matplotlib.axes._subplots.AxesSubplot at 0x23f006b8400>"
      ]
     },
     "execution_count": 47,
     "metadata": {},
     "output_type": "execute_result"
    },
    {
     "data": {
      "image/png": "[encoded data removed]",
      "text/plain": [
       "<Figure size 1080x504 with 2 Axes>"
      ]
     },
     "metadata": {
      "needs_background": "light"
     },
     "output_type": "display_data"
    }
   ],
   "source": [
    "conf = confusion_matrix(y_train, y_pred_knn, labels = handles)\n",
    "\n",
    "df_cm = pd.DataFrame(conf, index = [i for i in handles],\n",
    "                  columns = [i for i in handles])\n",
    "plt.figure(figsize = (15,7))\n",
    "sns.heatmap(df_cm, annot=True, cmap=\"Blues\", fmt = 'd')"
   ]
  },
  {
   "cell_type": "markdown",
   "metadata": {},
   "source": [
    "The accuracies for cross validation,confusion matrix, classification report look good.These are good numbers keeping in mind, all the labels have good accuracy.Labels for barack obama and donald trump have little overfitting but overall its performed well.The overfitting is very less if we see the confusion matrix above for the labels.Thats make it a good model to apply.Also, we were not able to AUC since its appliaction is limited to  binary labels"
   ]
  },
  {
   "cell_type": "markdown",
   "metadata": {},
   "source": [
    "Now, lets use unsupervised learning since we have learned a fair amount of that.Lets apply that to this dataset and see how it behaves to this dataset"
   ]
  },
  {
   "cell_type": "markdown",
   "metadata": {},
   "source": [
    "# Unsupervised Learning"
   ]
  },
  {
   "cell_type": "markdown",
   "metadata": {},
   "source": [
    "Lets do k means cluster and check how it peformed with the dataset.First we will take value using tfidfvectoizer and convert into tokens and classify the data per cluster"
   ]
  },
  {
   "cell_type": "code",
   "execution_count": 48,
   "metadata": {},
   "outputs": [],
   "source": [
    "vector = TfidfVectorizer(max_df=0.5, # drop words that occur in more than half the tweets\n",
    "                             min_df=2, # only use words that appear at least 2x\n",
    "                             stop_words='english', \n",
    "                             lowercase=True, #convert everything to lower case \n",
    "                             use_idf=True,\n",
    "                             norm=u'l2', #Applies a correction factor so that longer paragraphs and shorter tweets get treated equally\n",
    "                             smooth_idf=True #Adds 1 to all document frequencies, as if an extra document existed that used every word once.  Prevents divide-by-zero errors\n",
    "                            )\n",
    "\n",
    "\n"
   ]
  },
  {
   "cell_type": "code",
   "execution_count": 54,
   "metadata": {},
   "outputs": [
    {
     "name": "stdout",
     "output_type": "stream",
     "text": [
      "Clustering sparse data with KMeans(algorithm='auto', copy_x=True, init='k-means++', max_iter=300,\n",
      "    n_clusters=10, n_init=10, n_jobs=None, precompute_distances='auto',\n",
      "    random_state=42, tol=0.0001, verbose=0)\n",
      "\n",
      "Homogeneity: 0.070\n",
      "Completeness: 0.054\n",
      "V-measure: 0.061\n",
      "Adjusted Rand-Index: 0.025\n",
      "Silhouette Coefficient: 0.010\n"
     ]
    }
   ],
   "source": [
    "#Let's keep our data in high dimensional form first, to see what (if any) insights we can gain from clustering.\n",
    "\n",
    "#Try K-Means MiniBatch (K-Means is very resource intensive for high dimnesional data) and assume 10 clusters to begin with\n",
    "\n",
    "#Create normalized version of full dataset (we don't need to reserve any for training, we just want to cluster for now)\n",
    "\n",
    "#Normalize the data to the unit vector. Should we normalize by row or column? Normalize by row - gives a better representation of tweet composition. Likely more meaningful than the relative freq magnitude\n",
    "#of each word relative to that word's frequencies in all tweets\n",
    "\n",
    "X = tweet_df['Tweets']\n",
    "X_norm_tfidf = normalize(vector.fit_transform(X))\n",
    "\n",
    "true_k = 10\n",
    "labels_class = Y\n",
    "km = KMeans(n_clusters=10,init='k-means++',random_state=42)\n",
    "y_pred=KMeans(n_clusters=10, random_state=42).fit_predict(X_norm_tfidf)\n",
    "print(\"Clustering sparse data with %s\" % km)\n",
    "t0 = time()\n",
    "km.fit(X_norm_tfidf)\n",
    "labels = km.labels_\n",
    "print()\n",
    "print(\"Homogeneity: %0.3f\" % metrics.homogeneity_score(labels_class, km.labels_))\n",
    "print(\"Completeness: %0.3f\" % metrics.completeness_score(labels_class, km.labels_))\n",
    "print(\"V-measure: %0.3f\" % metrics.v_measure_score(labels_class, km.labels_))\n",
    "print(\"Adjusted Rand-Index: %.3f\"\n",
    "      % metrics.adjusted_rand_score(labels_class, km.labels_))\n",
    "print(\"Silhouette Coefficient: %0.3f\"\n",
    "      % metrics.silhouette_score(X_norm_tfidf, km.labels_, sample_size=5000))"
   ]
  },
  {
   "cell_type": "code",
   "execution_count": 57,
   "metadata": {},
   "outputs": [
    {
     "name": "stdout",
     "output_type": "stream",
     "text": [
      "text_source  BarackObama  HillaryClinton  MikeBloomberg  SenSanders  \\\n",
      "row_0                                                                 \n",
      "0                     10              35             44          15   \n",
      "1                     95              50             36          66   \n",
      "2                     73              65             70          53   \n",
      "3                    148             152             97         126   \n",
      "4                     74              61             78          46   \n",
      "5                     25              18             25          23   \n",
      "6                     12               8             71          19   \n",
      "7                     20              35             49           3   \n",
      "8                     10              34             18         145   \n",
      "9                     33              42             12           4   \n",
      "\n",
      "text_source  realDonaldTrump  \n",
      "row_0                         \n",
      "0                         36  \n",
      "1                         42  \n",
      "2                         87  \n",
      "3                        152  \n",
      "4                         71  \n",
      "5                         41  \n",
      "6                          0  \n",
      "7                          9  \n",
      "8                         47  \n",
      "9                         15  \n"
     ]
    }
   ],
   "source": [
    "y_pred = KMeans(n_clusters=10, random_state=42).fit_predict(X_norm_tfidf)\n",
    "print(pd.crosstab(y_pred, labels_class))"
   ]
  },
  {
   "cell_type": "markdown",
   "metadata": {},
   "source": [
    "Overall results are poor.It looks like there is no clear classification for all the labels and most of labels are overlapping,which is not a good sign.Lets use min batch k-means.Usually it improves clustering,"
   ]
  },
  {
   "cell_type": "markdown",
   "metadata": {},
   "source": [
    "# Mini Batch KMeans"
   ]
  },
  {
   "cell_type": "code",
   "execution_count": 66,
   "metadata": {},
   "outputs": [
    {
     "name": "stdout",
     "output_type": "stream",
     "text": [
      "Clustering sparse data with MiniBatchKMeans(batch_size=2000, compute_labels=True, init='k-means++',\n",
      "        init_size=None, max_iter=100, max_no_improvement=10, n_clusters=15,\n",
      "        n_init=3, random_state=None, reassignment_ratio=0.01, tol=0.0,\n",
      "        verbose=0)\n",
      "Done in 0.249s\n",
      "\n",
      "Homogeneity: 0.098\n",
      "Completeness: 0.063\n",
      "V-measure: 0.076\n",
      "Adjusted Rand-Index: 0.030\n",
      "Silhouette Coefficient: 0.013\n"
     ]
    }
   ],
   "source": [
    "labels = Y\n",
    "km = MiniBatchKMeans(n_clusters=15, init='k-means++', batch_size=2000)\n",
    "\n",
    "print(\"Clustering sparse data with %s\" % km)\n",
    "t0 = time()\n",
    "km.fit(X_norm_tfidf)\n",
    "mini_labels = km.labels_\n",
    "print(\"Done in %0.3fs\" % (time() - t0))\n",
    "print()\n",
    "print(\"Homogeneity: %0.3f\" % metrics.homogeneity_score(labels, km.labels_))\n",
    "print(\"Completeness: %0.3f\" % metrics.completeness_score(labels, km.labels_))\n",
    "print(\"V-measure: %0.3f\" % metrics.v_measure_score(labels, km.labels_))\n",
    "print(\"Adjusted Rand-Index: %.3f\"\n",
    "      % metrics.adjusted_rand_score(labels, km.labels_))\n",
    "print(\"Silhouette Coefficient: %0.3f\"\n",
    "      % metrics.silhouette_score(X_norm_tfidf, km.labels_, sample_size=1000))"
   ]
  },
  {
   "cell_type": "code",
   "execution_count": 67,
   "metadata": {},
   "outputs": [
    {
     "name": "stdout",
     "output_type": "stream",
     "text": [
      "Cluster: 0\n",
      "                 Tweets  MiniBatchLabels\n",
      "Author                                  \n",
      "BarackObama          14               14\n",
      "HillaryClinton       29               29\n",
      "MikeBloomberg        18               18\n",
      "SenSanders           64               64\n",
      "realDonaldTrump      30               30\n",
      "Cluster: 1\n",
      "                 Tweets  MiniBatchLabels\n",
      "Author                                  \n",
      "BarackObama          99               99\n",
      "HillaryClinton      106              106\n",
      "MikeBloomberg        69               69\n",
      "SenSanders           79               79\n",
      "realDonaldTrump     101              101\n",
      "Cluster: 2\n",
      "                 Tweets  MiniBatchLabels\n",
      "Author                                  \n",
      "BarackObama          23               23\n",
      "HillaryClinton       26               26\n",
      "MikeBloomberg        44               44\n",
      "SenSanders           44               44\n",
      "realDonaldTrump      19               19\n",
      "Cluster: 3\n",
      "                 Tweets  MiniBatchLabels\n",
      "Author                                  \n",
      "BarackObama          28               28\n",
      "HillaryClinton       47               47\n",
      "MikeBloomberg        21               21\n",
      "SenSanders           11               11\n",
      "realDonaldTrump       9                9\n",
      "Cluster: 4\n",
      "                 Tweets  MiniBatchLabels\n",
      "Author                                  \n",
      "BarackObama          48               48\n",
      "HillaryClinton       69               69\n",
      "MikeBloomberg        52               52\n",
      "SenSanders          142              142\n",
      "realDonaldTrump      88               88\n",
      "Cluster: 5\n",
      "                 Tweets  MiniBatchLabels\n",
      "Author                                  \n",
      "BarackObama          33               33\n",
      "HillaryClinton       27               27\n",
      "MikeBloomberg        34               34\n",
      "SenSanders           29               29\n",
      "realDonaldTrump      50               50\n",
      "Cluster: 6\n",
      "                 Tweets  MiniBatchLabels\n",
      "Author                                  \n",
      "BarackObama          46               46\n",
      "HillaryClinton       28               28\n",
      "MikeBloomberg        26               26\n",
      "SenSanders            5                5\n",
      "realDonaldTrump      51               51\n",
      "Cluster: 7\n",
      "                 Tweets  MiniBatchLabels\n",
      "Author                                  \n",
      "BarackObama          49               49\n",
      "HillaryClinton       11               11\n",
      "SenSanders            8                8\n",
      "realDonaldTrump      19               19\n",
      "Cluster: 8\n",
      "                 Tweets  MiniBatchLabels\n",
      "Author                                  \n",
      "BarackObama          16               16\n",
      "HillaryClinton        2                2\n",
      "realDonaldTrump       5                5\n",
      "Cluster: 9\n",
      "                 Tweets  MiniBatchLabels\n",
      "Author                                  \n",
      "BarackObama          13               13\n",
      "HillaryClinton       52               52\n",
      "MikeBloomberg        25               25\n",
      "SenSanders           21               21\n",
      "realDonaldTrump       8                8\n",
      "Cluster: 10\n",
      "                 Tweets  MiniBatchLabels\n",
      "Author                                  \n",
      "BarackObama          20               20\n",
      "HillaryClinton       27               27\n",
      "MikeBloomberg        52               52\n",
      "SenSanders           15               15\n",
      "realDonaldTrump      96               96\n",
      "Cluster: 11\n",
      "                Tweets  MiniBatchLabels\n",
      "Author                                 \n",
      "BarackObama         41               41\n",
      "HillaryClinton      13               13\n",
      "MikeBloomberg       94               94\n",
      "SenSanders          24               24\n",
      "Cluster: 12\n",
      "                 Tweets  MiniBatchLabels\n",
      "Author                                  \n",
      "BarackObama          11               11\n",
      "HillaryClinton       34               34\n",
      "MikeBloomberg        10               10\n",
      "SenSanders           28               28\n",
      "realDonaldTrump      19               19\n",
      "Cluster: 13\n",
      "                 Tweets  MiniBatchLabels\n",
      "Author                                  \n",
      "BarackObama          19               19\n",
      "HillaryClinton       10               10\n",
      "MikeBloomberg        39               39\n",
      "SenSanders            4                4\n",
      "realDonaldTrump       2                2\n",
      "Cluster: 14\n",
      "                 Tweets  MiniBatchLabels\n",
      "Author                                  \n",
      "BarackObama          40               40\n",
      "HillaryClinton       19               19\n",
      "MikeBloomberg        16               16\n",
      "SenSanders           26               26\n",
      "realDonaldTrump       3                3\n"
     ]
    }
   ],
   "source": [
    "tweet_df['MiniBatchLabels'] = mini_labels\n",
    "for label in set(mini_labels):\n",
    "    print('Cluster: %d' % label)\n",
    "    print(tweet_df[tweet_df.MiniBatchLabels == label].groupby('Author').count())\n",
    "    "
   ]
  },
  {
   "cell_type": "markdown",
   "metadata": {},
   "source": [
    "We have to play around with  the values of number of clusters, clusters between 10 and 15 seems to produce better results than less clusters.Lets get into more details and try to check the tweets for some of the clusters"
   ]
  },
  {
   "cell_type": "code",
   "execution_count": 68,
   "metadata": {},
   "outputs": [
    {
     "data": {
      "text/html": [
       "<div>\n",
       "<style scoped>\n",
       "    .dataframe tbody tr th:only-of-type {\n",
       "        vertical-align: middle;\n",
       "    }\n",
       "\n",
       "    .dataframe tbody tr th {\n",
       "        vertical-align: top;\n",
       "    }\n",
       "\n",
       "    .dataframe thead th {\n",
       "        text-align: right;\n",
       "    }\n",
       "</style>\n",
       "<table border=\"1\" class=\"dataframe\">\n",
       "  <thead>\n",
       "    <tr style=\"text-align: right;\">\n",
       "      <th></th>\n",
       "      <th>Tweets</th>\n",
       "      <th>Author</th>\n",
       "      <th>MiniBatchLabels</th>\n",
       "    </tr>\n",
       "  </thead>\n",
       "  <tbody>\n",
       "    <tr>\n",
       "      <th>1017</th>\n",
       "      <td>The American people, the Congress and the cour...</td>\n",
       "      <td>SenSanders</td>\n",
       "      <td>0</td>\n",
       "    </tr>\n",
       "    <tr>\n",
       "      <th>1130</th>\n",
       "      <td>The Saudi-led war in Yemen has been a humanita...</td>\n",
       "      <td>SenSanders</td>\n",
       "      <td>0</td>\n",
       "    </tr>\n",
       "    <tr>\n",
       "      <th>317</th>\n",
       "      <td>RT @WhiteHouse: .@PressSec: President Trump wi...</td>\n",
       "      <td>realDonaldTrump</td>\n",
       "      <td>0</td>\n",
       "    </tr>\n",
       "    <tr>\n",
       "      <th>2300</th>\n",
       "      <td>RT @GovernorTomWolf: The heroin and opioid epi...</td>\n",
       "      <td>MikeBloomberg</td>\n",
       "      <td>0</td>\n",
       "    </tr>\n",
       "    <tr>\n",
       "      <th>1536</th>\n",
       "      <td>I am grateful for the next generation of leade...</td>\n",
       "      <td>BarackObama</td>\n",
       "      <td>0</td>\n",
       "    </tr>\n",
       "    <tr>\n",
       "      <th>1348</th>\n",
       "      <td>At a time of massive wealth and income inequal...</td>\n",
       "      <td>SenSanders</td>\n",
       "      <td>0</td>\n",
       "    </tr>\n",
       "    <tr>\n",
       "      <th>770</th>\n",
       "      <td>The government shutdown is by far the longest ...</td>\n",
       "      <td>HillaryClinton</td>\n",
       "      <td>0</td>\n",
       "    </tr>\n",
       "    <tr>\n",
       "      <th>1186</th>\n",
       "      <td>Mr. President. Stop holding federal employees ...</td>\n",
       "      <td>SenSanders</td>\n",
       "      <td>0</td>\n",
       "    </tr>\n",
       "    <tr>\n",
       "      <th>99</th>\n",
       "      <td>THE RIGGED AND CORRUPT MEDIA IS THE ENEMY OF T...</td>\n",
       "      <td>realDonaldTrump</td>\n",
       "      <td>0</td>\n",
       "    </tr>\n",
       "    <tr>\n",
       "      <th>442</th>\n",
       "      <td>God Bless the people of Venezuela!</td>\n",
       "      <td>realDonaldTrump</td>\n",
       "      <td>0</td>\n",
       "    </tr>\n",
       "  </tbody>\n",
       "</table>\n",
       "</div>"
      ],
      "text/plain": [
       "                                                 Tweets           Author  \\\n",
       "1017  The American people, the Congress and the cour...       SenSanders   \n",
       "1130  The Saudi-led war in Yemen has been a humanita...       SenSanders   \n",
       "317   RT @WhiteHouse: .@PressSec: President Trump wi...  realDonaldTrump   \n",
       "2300  RT @GovernorTomWolf: The heroin and opioid epi...    MikeBloomberg   \n",
       "1536  I am grateful for the next generation of leade...      BarackObama   \n",
       "1348  At a time of massive wealth and income inequal...       SenSanders   \n",
       "770   The government shutdown is by far the longest ...   HillaryClinton   \n",
       "1186  Mr. President. Stop holding federal employees ...       SenSanders   \n",
       "99    THE RIGGED AND CORRUPT MEDIA IS THE ENEMY OF T...  realDonaldTrump   \n",
       "442                  God Bless the people of Venezuela!  realDonaldTrump   \n",
       "\n",
       "      MiniBatchLabels  \n",
       "1017                0  \n",
       "1130                0  \n",
       "317                 0  \n",
       "2300                0  \n",
       "1536                0  \n",
       "1348                0  \n",
       "770                 0  \n",
       "1186                0  \n",
       "99                  0  \n",
       "442                 0  "
      ]
     },
     "execution_count": 68,
     "metadata": {},
     "output_type": "execute_result"
    }
   ],
   "source": [
    "shuffle(tweet_df[tweet_df.MiniBatchLabels == 0]).head(10)"
   ]
  },
  {
   "cell_type": "code",
   "execution_count": 69,
   "metadata": {},
   "outputs": [
    {
     "data": {
      "text/html": [
       "<div>\n",
       "<style scoped>\n",
       "    .dataframe tbody tr th:only-of-type {\n",
       "        vertical-align: middle;\n",
       "    }\n",
       "\n",
       "    .dataframe tbody tr th {\n",
       "        vertical-align: top;\n",
       "    }\n",
       "\n",
       "    .dataframe thead th {\n",
       "        text-align: right;\n",
       "    }\n",
       "</style>\n",
       "<table border=\"1\" class=\"dataframe\">\n",
       "  <thead>\n",
       "    <tr style=\"text-align: right;\">\n",
       "      <th></th>\n",
       "      <th>Tweets</th>\n",
       "      <th>Author</th>\n",
       "      <th>MiniBatchLabels</th>\n",
       "    </tr>\n",
       "  </thead>\n",
       "  <tbody>\n",
       "    <tr>\n",
       "      <th>2006</th>\n",
       "      <td>Congratulations to @GovSisolak and Nevada’s le...</td>\n",
       "      <td>MikeBloomberg</td>\n",
       "      <td>2</td>\n",
       "    </tr>\n",
       "    <tr>\n",
       "      <th>2442</th>\n",
       "      <td>The U.S. &amp;amp; Canada are bound together not o...</td>\n",
       "      <td>MikeBloomberg</td>\n",
       "      <td>2</td>\n",
       "    </tr>\n",
       "    <tr>\n",
       "      <th>1497</th>\n",
       "      <td>I stand with @transportworker fighting to keep...</td>\n",
       "      <td>SenSanders</td>\n",
       "      <td>2</td>\n",
       "    </tr>\n",
       "    <tr>\n",
       "      <th>1007</th>\n",
       "      <td>Catalyst's decision to raise the price of a li...</td>\n",
       "      <td>SenSanders</td>\n",
       "      <td>2</td>\n",
       "    </tr>\n",
       "    <tr>\n",
       "      <th>2450</th>\n",
       "      <td>In 2018, @Bloomberg employees gave more than 1...</td>\n",
       "      <td>MikeBloomberg</td>\n",
       "      <td>2</td>\n",
       "    </tr>\n",
       "    <tr>\n",
       "      <th>519</th>\n",
       "      <td>The real national emergencies:\\n\\n- Relentless...</td>\n",
       "      <td>HillaryClinton</td>\n",
       "      <td>2</td>\n",
       "    </tr>\n",
       "    <tr>\n",
       "      <th>329</th>\n",
       "      <td>The Gallup Poll just announced that 69% of our...</td>\n",
       "      <td>realDonaldTrump</td>\n",
       "      <td>2</td>\n",
       "    </tr>\n",
       "    <tr>\n",
       "      <th>982</th>\n",
       "      <td>RT @ChelseaClinton: Measles cases surged 30% l...</td>\n",
       "      <td>HillaryClinton</td>\n",
       "      <td>2</td>\n",
       "    </tr>\n",
       "    <tr>\n",
       "      <th>2159</th>\n",
       "      <td>With Washington asleep at the wheel, cities of...</td>\n",
       "      <td>MikeBloomberg</td>\n",
       "      <td>2</td>\n",
       "    </tr>\n",
       "    <tr>\n",
       "      <th>1906</th>\n",
       "      <td>In the year since their friends were killed, t...</td>\n",
       "      <td>BarackObama</td>\n",
       "      <td>2</td>\n",
       "    </tr>\n",
       "  </tbody>\n",
       "</table>\n",
       "</div>"
      ],
      "text/plain": [
       "                                                 Tweets           Author  \\\n",
       "2006  Congratulations to @GovSisolak and Nevada’s le...    MikeBloomberg   \n",
       "2442  The U.S. &amp; Canada are bound together not o...    MikeBloomberg   \n",
       "1497  I stand with @transportworker fighting to keep...       SenSanders   \n",
       "1007  Catalyst's decision to raise the price of a li...       SenSanders   \n",
       "2450  In 2018, @Bloomberg employees gave more than 1...    MikeBloomberg   \n",
       "519   The real national emergencies:\\n\\n- Relentless...   HillaryClinton   \n",
       "329   The Gallup Poll just announced that 69% of our...  realDonaldTrump   \n",
       "982   RT @ChelseaClinton: Measles cases surged 30% l...   HillaryClinton   \n",
       "2159  With Washington asleep at the wheel, cities of...    MikeBloomberg   \n",
       "1906  In the year since their friends were killed, t...      BarackObama   \n",
       "\n",
       "      MiniBatchLabels  \n",
       "2006                2  \n",
       "2442                2  \n",
       "1497                2  \n",
       "1007                2  \n",
       "2450                2  \n",
       "519                 2  \n",
       "329                 2  \n",
       "982                 2  \n",
       "2159                2  \n",
       "1906                2  "
      ]
     },
     "execution_count": 69,
     "metadata": {},
     "output_type": "execute_result"
    }
   ],
   "source": [
    "shuffle(tweet_df[tweet_df.MiniBatchLabels == 2]).head(10)"
   ]
  },
  {
   "cell_type": "code",
   "execution_count": 73,
   "metadata": {},
   "outputs": [
    {
     "data": {
      "text/html": [
       "<div>\n",
       "<style scoped>\n",
       "    .dataframe tbody tr th:only-of-type {\n",
       "        vertical-align: middle;\n",
       "    }\n",
       "\n",
       "    .dataframe tbody tr th {\n",
       "        vertical-align: top;\n",
       "    }\n",
       "\n",
       "    .dataframe thead th {\n",
       "        text-align: right;\n",
       "    }\n",
       "</style>\n",
       "<table border=\"1\" class=\"dataframe\">\n",
       "  <thead>\n",
       "    <tr style=\"text-align: right;\">\n",
       "      <th></th>\n",
       "      <th>Tweets</th>\n",
       "      <th>Author</th>\n",
       "      <th>MiniBatchLabels</th>\n",
       "    </tr>\n",
       "  </thead>\n",
       "  <tbody>\n",
       "    <tr>\n",
       "      <th>1883</th>\n",
       "      <td>Tens of millions of Americans have benefited f...</td>\n",
       "      <td>BarackObama</td>\n",
       "      <td>14</td>\n",
       "    </tr>\n",
       "    <tr>\n",
       "      <th>1139</th>\n",
       "      <td>As a nation we have a choice: are we going to ...</td>\n",
       "      <td>SenSanders</td>\n",
       "      <td>14</td>\n",
       "    </tr>\n",
       "    <tr>\n",
       "      <th>532</th>\n",
       "      <td>Now copy my plan on health care, a fairer tax ...</td>\n",
       "      <td>HillaryClinton</td>\n",
       "      <td>14</td>\n",
       "    </tr>\n",
       "    <tr>\n",
       "      <th>2103</th>\n",
       "      <td>To combat the opioid epidemic, we'll bring tog...</td>\n",
       "      <td>MikeBloomberg</td>\n",
       "      <td>14</td>\n",
       "    </tr>\n",
       "    <tr>\n",
       "      <th>2217</th>\n",
       "      <td>Coal pollution has real consequences for our e...</td>\n",
       "      <td>MikeBloomberg</td>\n",
       "      <td>14</td>\n",
       "    </tr>\n",
       "    <tr>\n",
       "      <th>1693</th>\n",
       "      <td>Speak up in support of quality, affordable hea...</td>\n",
       "      <td>BarackObama</td>\n",
       "      <td>14</td>\n",
       "    </tr>\n",
       "    <tr>\n",
       "      <th>1722</th>\n",
       "      <td>Leaders like Dejah Powell, who started an orga...</td>\n",
       "      <td>BarackObama</td>\n",
       "      <td>14</td>\n",
       "    </tr>\n",
       "    <tr>\n",
       "      <th>2120</th>\n",
       "      <td>Ending the opioid epidemic requires bold, urge...</td>\n",
       "      <td>MikeBloomberg</td>\n",
       "      <td>14</td>\n",
       "    </tr>\n",
       "    <tr>\n",
       "      <th>1106</th>\n",
       "      <td>Every other major country has made the morally...</td>\n",
       "      <td>SenSanders</td>\n",
       "      <td>14</td>\n",
       "    </tr>\n",
       "    <tr>\n",
       "      <th>733</th>\n",
       "      <td>Only about 1% of abortions happen later in pre...</td>\n",
       "      <td>HillaryClinton</td>\n",
       "      <td>14</td>\n",
       "    </tr>\n",
       "  </tbody>\n",
       "</table>\n",
       "</div>"
      ],
      "text/plain": [
       "                                                 Tweets          Author  \\\n",
       "1883  Tens of millions of Americans have benefited f...     BarackObama   \n",
       "1139  As a nation we have a choice: are we going to ...      SenSanders   \n",
       "532   Now copy my plan on health care, a fairer tax ...  HillaryClinton   \n",
       "2103  To combat the opioid epidemic, we'll bring tog...   MikeBloomberg   \n",
       "2217  Coal pollution has real consequences for our e...   MikeBloomberg   \n",
       "1693  Speak up in support of quality, affordable hea...     BarackObama   \n",
       "1722  Leaders like Dejah Powell, who started an orga...     BarackObama   \n",
       "2120  Ending the opioid epidemic requires bold, urge...   MikeBloomberg   \n",
       "1106  Every other major country has made the morally...      SenSanders   \n",
       "733   Only about 1% of abortions happen later in pre...  HillaryClinton   \n",
       "\n",
       "      MiniBatchLabels  \n",
       "1883               14  \n",
       "1139               14  \n",
       "532                14  \n",
       "2103               14  \n",
       "2217               14  \n",
       "1693               14  \n",
       "1722               14  \n",
       "2120               14  \n",
       "1106               14  \n",
       "733                14  "
      ]
     },
     "execution_count": 73,
     "metadata": {},
     "output_type": "execute_result"
    }
   ],
   "source": [
    "shuffle(tweet_df[tweet_df.MiniBatchLabels == 14]).head(10)"
   ]
  },
  {
   "cell_type": "markdown",
   "metadata": {},
   "source": [
    "The above shows some of the tweets with their clusters.We did this to get some idea of clusters with their tweets and the author for the tweets"
   ]
  },
  {
   "cell_type": "code",
   "execution_count": 131,
   "metadata": {},
   "outputs": [
    {
     "name": "stdout",
     "output_type": "stream",
     "text": [
      "Number of estimated clusters: 1\n"
     ]
    }
   ],
   "source": [
    "from sklearn.cluster import MeanShift, estimate_bandwidth\n",
    "\n",
    "# Here we set the bandwidth. This function automatically derives a bandwidth\n",
    "# number based on an inspection of the distances among points in the data.\n",
    "bandwidth = estimate_bandwidth(X_norm_tfidf.toarray(), quantile=0.2, n_samples=500)\n",
    "\n",
    "# Declare and fit the model.\n",
    "ms = MeanShift(bandwidth=bandwidth, bin_seeding=True)\n",
    "ms.fit(X_norm_tfidf.toarray())\n",
    "\n",
    "# Extract cluster assignments for each data point.\n",
    "labels = ms.labels_\n",
    "\n",
    "# Coordinates of the cluster centers.\n",
    "cluster_centers = ms.cluster_centers_\n",
    "\n",
    "# Count our clusters.\n",
    "n_clusters_ = len(np.unique(labels))\n",
    "\n",
    "print(\"Number of estimated clusters: {}\".format(n_clusters_))"
   ]
  },
  {
   "cell_type": "markdown",
   "metadata": {},
   "source": [
    "# BoW Feature\n"
   ]
  },
  {
   "cell_type": "code",
   "execution_count": 111,
   "metadata": {},
   "outputs": [],
   "source": [
    "from sklearn.feature_extraction.text import CountVectorizer\n",
    "count_vect = CountVectorizer()"
   ]
  },
  {
   "cell_type": "code",
   "execution_count": 112,
   "metadata": {},
   "outputs": [],
   "source": [
    "train_data_bow = count_vect.fit_transform(X_train)"
   ]
  },
  {
   "cell_type": "code",
   "execution_count": 114,
   "metadata": {},
   "outputs": [
    {
     "name": "stderr",
     "output_type": "stream",
     "text": [
      "C:\\Users\\ankush\\Anaconda3\\lib\\site-packages\\sklearn\\ensemble\\forest.py:246: FutureWarning: The default value of n_estimators will change from 10 in version 0.20 to 100 in 0.22.\n",
      "  \"10 in version 0.20 to 100 in 0.22.\", FutureWarning)\n"
     ]
    },
    {
     "name": "stdout",
     "output_type": "stream",
     "text": [
      "Test Set score = 0.998 \n",
      "Training set Cross validation = [0.84350133 0.856      0.88266667 0.9171123  0.86898396]\n",
      "mean = 0.874\n",
      "col_0            BarackObama  HillaryClinton  MikeBloomberg  SenSanders  \\\n",
      "Author                                                                    \n",
      "BarackObama              359               0              0           0   \n",
      "HillaryClinton             0             389              0           0   \n",
      "MikeBloomberg              0               0            381           0   \n",
      "SenSanders                 0               0              0         373   \n",
      "realDonaldTrump            0               0              0           0   \n",
      "\n",
      "col_0            realDonaldTrump  \n",
      "Author                            \n",
      "BarackObama                    2  \n",
      "HillaryClinton                 1  \n",
      "MikeBloomberg                  0  \n",
      "SenSanders                     0  \n",
      "realDonaldTrump              370  \n"
     ]
    }
   ],
   "source": [
    "from sklearn import ensemble\n",
    "from sklearn.metrics import accuracy_score\n",
    "from sklearn.ensemble import RandomForestClassifier\n",
    "from sklearn.model_selection import cross_val_score\n",
    "\n",
    "# Random Forest Classifier\n",
    "rfc_bow1 = ensemble.RandomForestClassifier(random_state=42)\n",
    "rfc_bow1.fit(train_data_bow,y_train)\n",
    "cv_bow1 = cross_val_score(rfc_bow1, train_data_bow, y_train, cv=5)\n",
    "\n",
    "\n",
    "#Test\n",
    "y_true, y_pred = y_train, rfc_bow1.predict(train_data_bow)\n",
    "print(\"Test Set score = {:.3} \".format(accuracy_score(y_true, y_pred)))\n",
    "\n",
    "\n",
    "print(\"Training set Cross validation = {}\".format(cv_bow1))\n",
    "print(\"mean = {:.3}\".format(cv_bow1.mean()))\n",
    "print(pd.crosstab(y_true, y_pred))"
   ]
  },
  {
   "cell_type": "markdown",
   "metadata": {},
   "source": [
    "Overfitting again.The model doesnt look accuarate enough.Lets check SVC"
   ]
  },
  {
   "cell_type": "code",
   "execution_count": 127,
   "metadata": {},
   "outputs": [
    {
     "name": "stdout",
     "output_type": "stream",
     "text": [
      "Report:\n",
      "Test Set score = 0.995 \n",
      "Training set Cross validation = [0.76315789 0.83510638 0.79787234 0.81818182 0.78609626 0.80748663\n",
      " 0.81818182 0.81283422 0.86096257 0.80748663]\n",
      "mean = 0.811\n"
     ]
    },
    {
     "data": {
      "text/html": [
       "<div>\n",
       "<style scoped>\n",
       "    .dataframe tbody tr th:only-of-type {\n",
       "        vertical-align: middle;\n",
       "    }\n",
       "\n",
       "    .dataframe tbody tr th {\n",
       "        vertical-align: top;\n",
       "    }\n",
       "\n",
       "    .dataframe thead th {\n",
       "        text-align: right;\n",
       "    }\n",
       "</style>\n",
       "<table border=\"1\" class=\"dataframe\">\n",
       "  <thead>\n",
       "    <tr style=\"text-align: right;\">\n",
       "      <th>col_0</th>\n",
       "      <th>BarackObama</th>\n",
       "      <th>HillaryClinton</th>\n",
       "      <th>MikeBloomberg</th>\n",
       "      <th>SenSanders</th>\n",
       "      <th>realDonaldTrump</th>\n",
       "    </tr>\n",
       "    <tr>\n",
       "      <th>Author</th>\n",
       "      <th></th>\n",
       "      <th></th>\n",
       "      <th></th>\n",
       "      <th></th>\n",
       "      <th></th>\n",
       "    </tr>\n",
       "  </thead>\n",
       "  <tbody>\n",
       "    <tr>\n",
       "      <th>BarackObama</th>\n",
       "      <td>361</td>\n",
       "      <td>0</td>\n",
       "      <td>0</td>\n",
       "      <td>0</td>\n",
       "      <td>0</td>\n",
       "    </tr>\n",
       "    <tr>\n",
       "      <th>HillaryClinton</th>\n",
       "      <td>0</td>\n",
       "      <td>390</td>\n",
       "      <td>0</td>\n",
       "      <td>0</td>\n",
       "      <td>0</td>\n",
       "    </tr>\n",
       "    <tr>\n",
       "      <th>MikeBloomberg</th>\n",
       "      <td>1</td>\n",
       "      <td>2</td>\n",
       "      <td>378</td>\n",
       "      <td>0</td>\n",
       "      <td>0</td>\n",
       "    </tr>\n",
       "    <tr>\n",
       "      <th>SenSanders</th>\n",
       "      <td>1</td>\n",
       "      <td>2</td>\n",
       "      <td>2</td>\n",
       "      <td>368</td>\n",
       "      <td>0</td>\n",
       "    </tr>\n",
       "    <tr>\n",
       "      <th>realDonaldTrump</th>\n",
       "      <td>1</td>\n",
       "      <td>1</td>\n",
       "      <td>0</td>\n",
       "      <td>0</td>\n",
       "      <td>368</td>\n",
       "    </tr>\n",
       "  </tbody>\n",
       "</table>\n",
       "</div>"
      ],
      "text/plain": [
       "col_0            BarackObama  HillaryClinton  MikeBloomberg  SenSanders  \\\n",
       "Author                                                                    \n",
       "BarackObama              361               0              0           0   \n",
       "HillaryClinton             0             390              0           0   \n",
       "MikeBloomberg              1               2            378           0   \n",
       "SenSanders                 1               2              2         368   \n",
       "realDonaldTrump            1               1              0           0   \n",
       "\n",
       "col_0            realDonaldTrump  \n",
       "Author                            \n",
       "BarackObama                    0  \n",
       "HillaryClinton                 0  \n",
       "MikeBloomberg                  0  \n",
       "SenSanders                     0  \n",
       "realDonaldTrump              368  "
      ]
     },
     "execution_count": 127,
     "metadata": {},
     "output_type": "execute_result"
    }
   ],
   "source": [
    "\n",
    "from sklearn.metrics import confusion_matrix\n",
    "\n",
    "\n",
    "knn_model_bow = KNeighborsClassifier(n_neighbors=2)\n",
    "knn_model_bow.fit(train_data_bow,y_train)\n",
    "knn_model_cv = cross_val_score(knn_model_bow, train_data_bow, y_train, cv=10)\n",
    "\n",
    "\n",
    "print(\"Report:\")\n",
    "y_true, y_pred = y_train, knn_model_bow.predict(train_data_bow)\n",
    "#print(classification_report(y_true, y_pred))\n",
    "\n",
    "print(\"Test Set score = {:.3} \".format(accuracy_score(y_true, y_pred)))\n",
    "\n",
    "\n",
    "print(\"Training set Cross validation = {}\".format(knn_model_cv))\n",
    "print(\"mean = {:.3}\".format(knn_model_cv.mean()))\n",
    "pd.crosstab(y_true, y_pred)"
   ]
  },
  {
   "cell_type": "markdown",
   "metadata": {},
   "source": [
    "The above looks to be better than any other models.There looks to be some overfitting but cross validation is better than other models.Mean value is better as well.Over all ,I am happy with this since it is performing better "
   ]
  },
  {
   "cell_type": "markdown",
   "metadata": {},
   "source": [
    "# Latent Semantic Analysis\n"
   ]
  },
  {
   "cell_type": "markdown",
   "metadata": {},
   "source": [
    "Let's use Latent Semantic Analysis to reduce the tf-idf into a lower dimensional space. This is similar to Principal Component Analysis (PCA), where we reduce the number of rows and combine them into new dimensions."
   ]
  },
  {
   "cell_type": "code",
   "execution_count": 85,
   "metadata": {
    "scrolled": false
   },
   "outputs": [
    {
     "name": "stdout",
     "output_type": "stream",
     "text": [
      "Percent variance captured by all components: 92.2670769445096\n",
      "Component 0:\n",
      "Tweets\n",
      "RT @IndivisibleTeam: Trump just declared a #FAKENationalEmergency at the border. Trump is going around Congress, the will of the people, &amp;…    0.319650\n",
      "RT @IndivisibleTeam: Trump just declared a #FAKENationalEmergency at the border. Trump is going around Congress, the will of the people, &amp;…    0.319650\n",
      "RT @IndivisibleTeam: Trump just declared a #FAKENationalEmergency at the border. Trump is going around Congress, the will of the people, &amp;…    0.319650\n",
      "The Bloomberg American Cities Climate Challenge supports new ideas for fighting climate change &amp; strong mayors who… https://t.co/eG9jKdjyqt    0.290468\n",
      "The Bloomberg American Cities Climate Challenge supports new ideas for fighting climate change &amp; strong mayors who… https://t.co/eG9jKdjyqt    0.290468\n",
      "The Bloomberg American Cities Climate Challenge supports new ideas for fighting climate change &amp; strong mayors who… https://t.co/eG9jKdjyqt    0.290468\n",
      "Will Trump talk about climate change in his State of the Union address tonight?                                                                    0.289153\n",
      "RT @WhiteHouse: President Trump Speaks on the National Security &amp; Humanitarian Crisis on Our Southern Border https://t.co/FqdfFORbv5           0.286677\n",
      "RT @WhiteHouse: President Trump Speaks on the National Security &amp; Humanitarian Crisis on Our Southern Border https://t.co/FqdfFORbv5           0.286677\n",
      "RT @cspan: .@SenSanders: \"I think the time is long overdue for the American people to tell this president he is not a dictator, he is not a…       0.284347\n",
      "Name: 0, dtype: float64\n",
      "Component 1:\n",
      "Tweets\n",
      "The Bloomberg American Cities Climate Challenge supports new ideas for fighting climate change &amp; strong mayors who… https://t.co/eG9jKdjyqt    0.528800\n",
      "The Bloomberg American Cities Climate Challenge supports new ideas for fighting climate change &amp; strong mayors who… https://t.co/eG9jKdjyqt    0.528800\n",
      "The Bloomberg American Cities Climate Challenge supports new ideas for fighting climate change &amp; strong mayors who… https://t.co/eG9jKdjyqt    0.528800\n",
      "Glad to announce four new winning cities to the Bloomberg American Cities Climate Challenge: @LACity, Portland,… https://t.co/XssbEkx2uj           0.474237\n",
      "Congratulations to @StPeteFL, the 20th winner in the Bloomberg American Cities Climate Challenge. Cities are more i… https://t.co/ZAQ8jkxKgO       0.444600\n",
      "Congratulations to @StPeteFL, the 20th winner in the Bloomberg American Cities Climate Challenge. Cities are more i… https://t.co/ZAQ8jkxKgO       0.444600\n",
      "Congratulations to @StPeteFL, the 20th winner in the Bloomberg American Cities Climate Challenge. Cities are more i… https://t.co/ZAQ8jkxKgO       0.444600\n",
      "RT @AmericasPledge: As a winner of @BloombergDotOrg’s American Cities Climate Challenge, @CityofSanDiego is taking big steps to act on clim…       0.393407\n",
      "Congratulations to @CLTMayor and @CLTgov, the most recent winner in the Bloomberg American Cities Climate Challenge… https://t.co/w6Hi8nbdPQ       0.379184\n",
      "Congratulations to @CLTMayor and @CLTgov, the most recent winner in the Bloomberg American Cities Climate Challenge… https://t.co/w6Hi8nbdPQ       0.379184\n",
      "Name: 1, dtype: float64\n",
      "Component 2:\n",
      "Tweets\n",
      "Will Trump talk about climate change in his State of the Union address tonight?                                                                 0.392865\n",
      "President Trump. Do not shut down the government again. Another Trump shutdown would be not only harmful to our fed… https://t.co/YZLans00BY    0.313275\n",
      "President Trump. Do not shut down the government again. Another Trump shutdown would be not only harmful to our fed… https://t.co/YZLans00BY    0.313275\n",
      "RT @WhiteHouse: President Trump Speaks on the National Security &amp; Humanitarian Crisis on Our Southern Border https://t.co/FqdfFORbv5        0.283286\n",
      "RT @WhiteHouse: President Trump Speaks on the National Security &amp; Humanitarian Crisis on Our Southern Border https://t.co/FqdfFORbv5        0.283286\n",
      "My response to President Trump’s State of the Union address: https://t.co/sl1OEu6NR8                                                            0.278492\n",
      "My response to President Trump’s State of the Union address: https://t.co/sl1OEu6NR8                                                            0.278492\n",
      "My response to President Trump’s State of the Union address: https://t.co/sl1OEu6NR8                                                            0.278492\n",
      "If Trump were serious about protecting our national security, he would recognize that climate change is not a \"hoax… https://t.co/2WQv4Iq8uV    0.273047\n",
      "If Trump were serious about protecting our national security, he would recognize that climate change is not a \"hoax… https://t.co/2WQv4Iq8uV    0.273047\n",
      "Name: 2, dtype: float64\n",
      "Component 3:\n",
      "Tweets\n",
      "Young people all over the world are demanding action on climate change, like @GretaThunberg, who had the courage to… https://t.co/z37OorE7V7    0.277635\n",
      "Young people all over the world are demanding action on climate change, like @GretaThunberg, who had the courage to… https://t.co/z37OorE7V7    0.277635\n",
      "There's nothing to be scared of when searching for health insurance. Three in four people can #GetCovered for less… https://t.co/BUmnRO9B3E     0.251995\n",
      "Mandela Day is about taking action to change the world for the better. In these young people, I see Madiba's exampl… https://t.co/iT1v545C2L    0.248091\n",
      "Mandela Day is about taking action to change the world for the better. In these young people, I see Madiba's exampl… https://t.co/iT1v545C2L    0.248091\n",
      "Mandela Day is about taking action to change the world for the better. In these young people, I see Madiba's exampl… https://t.co/iT1v545C2L    0.248091\n",
      "Our future depends on all our young people, including our boys and young men of color, being able to achieve their… https://t.co/TaRXBwtm9v     0.246221\n",
      "Our future depends on all our young people, including our boys and young men of color, being able to achieve their… https://t.co/TaRXBwtm9v     0.246221\n",
      "Our future depends on all our young people, including our boys and young men of color, being able to achieve their… https://t.co/TaRXBwtm9v     0.246221\n",
      "Trump talks a lot about \"freedom.\" But people are not truly free when they have no health care or can't afford to f… https://t.co/vaHmGOqcBJ    0.242544\n",
      "Name: 3, dtype: float64\n",
      "Component 4:\n",
      "Tweets\n",
      "Elections matter. You have the power to protect a family’s health care. Make a plan, grab some friends, and vote: https://t.co/rY8Ip1km9p       0.463742\n",
      "As a nation we have a choice: are we going to join every other major country and make health care a right? Or will… https://t.co/qR4xz4RxAG     0.425040\n",
      "As a nation we have a choice: are we going to join every other major country and make health care a right? Or will… https://t.co/qR4xz4RxAG     0.425040\n",
      "Now copy my plan on health care, a fairer tax system, and voting rights. https://t.co/AGyA6ZHl1R https://t.co/OuFklznJgf                        0.419720\n",
      "Thanks to #Obamacare, quality health care is available to everyone. The marketplace is now open—make sure you and y… https://t.co/89gl6pzMGD    0.403448\n",
      "Thanks to #Obamacare, quality health care is available to everyone. The marketplace is now open—make sure you and y… https://t.co/89gl6pzMGD    0.403448\n",
      "Your vote can decide the health care of millions. Your voice can determine the character of our country. You have p… https://t.co/ou6DL1g1b6    0.369121\n",
      "Your vote can decide the health care of millions. Your voice can determine the character of our country. You have p… https://t.co/ou6DL1g1b6    0.369121\n",
      "Our health care system today essentially says that if you happen to be poor, you are less deserving of getting care… https://t.co/dx0TX3EuIt    0.360681\n",
      "Tomorrow’s elections might be the most important of our lifetimes. The health care of millions is on the ballot. Ma… https://t.co/9Vw2V9sSLv    0.351019\n",
      "Name: 4, dtype: float64\n",
      "Component 5:\n",
      "Tweets\n",
      "Thank you to the @MomsDemand candidates and volunteers here today in New Hampshire – with their dedication, this No… https://t.co/cF2ybo98p8    0.306253\n",
      "Thank you to all the @MomsDemand members here in Florida – through your hard work, we have turned the gun safety mo… https://t.co/us7TyDYhKE    0.298236\n",
      "Thank you to all the @MomsDemand members here in Florida – through your hard work, we have turned the gun safety mo… https://t.co/us7TyDYhKE    0.298236\n",
      "Thank you to every @MomsDemand volunteer here in North Carolina for your leadership. State by state, we’re making p… https://t.co/ZV1Pq9YR0f    0.292351\n",
      "Thank you to every @MomsDemand volunteer here in North Carolina for your leadership. State by state, we’re making p… https://t.co/ZV1Pq9YR0f    0.292351\n",
      "Thank you to every @MomsDemand volunteer here in North Carolina for your leadership. State by state, we’re making p… https://t.co/ZV1Pq9YR0f    0.292351\n",
      "This National Gun Violence Awareness Day, show your commitment to keeping our kids safe from gun violence. Then, fo… https://t.co/Nr5qxK8sgu    0.288225\n",
      "This National Gun Violence Awareness Day, show your commitment to keeping our kids safe from gun violence. Then, fo… https://t.co/Nr5qxK8sgu    0.288225\n",
      "This National Gun Violence Awareness Day, show your commitment to keeping our kids safe from gun violence. Then, fo… https://t.co/Nr5qxK8sgu    0.288225\n",
      "We will always remember everyone we lost on 9/11, thank the first responders who keep us safe, and honor all who de… https://t.co/ku270JQnwl    0.281177\n"
     ]
    },
    {
     "name": "stdout",
     "output_type": "stream",
     "text": [
      "Name: 5, dtype: float64\n",
      "Component 6:\n",
      "Tweets\n",
      "This National Gun Violence Awareness Day, show your commitment to keeping our kids safe from gun violence. Then, fo… https://t.co/Nr5qxK8sgu        0.392601\n",
      "This National Gun Violence Awareness Day, show your commitment to keeping our kids safe from gun violence. Then, fo… https://t.co/Nr5qxK8sgu        0.392601\n",
      "This National Gun Violence Awareness Day, show your commitment to keeping our kids safe from gun violence. Then, fo… https://t.co/Nr5qxK8sgu        0.392601\n",
      "On this National Gun Violence Awareness Day, let your voice be heard and show your commitment to reducing gun viole… https://t.co/S7dth6Ywb0        0.332174\n",
      "On this National Gun Violence Awareness Day, let your voice be heard and show your commitment to reducing gun viole… https://t.co/S7dth6Ywb0        0.332174\n",
      "I’ve been involved in the gun safety movement for many years &amp; I’m glad to say I've never seen more energy behind t… https://t.co/hJyPHHmonM    0.295102\n",
      "I’ve been involved in the gun safety movement for many years &amp; I’m glad to say I've never seen more energy behind t… https://t.co/hJyPHHmonM    0.295102\n",
      "I’ve been involved in the gun safety movement for many years &amp; I’m glad to say I've never seen more energy behind t… https://t.co/hJyPHHmonM    0.295102\n",
      "Last night showed the strength of the gun violence prevention movement with 150+ gun-sense candidates winning their… https://t.co/jX5cUAqR94        0.281479\n",
      "The real national emergencies:\\n\\n- Relentless gun violence. \\n- Children separated from their families at the border.… https://t.co/6tkFI9kBQ5     0.277200\n",
      "Name: 6, dtype: float64\n",
      "Component 7:\n",
      "Tweets\n",
      "Senator Richard Burr, The Chairman of the Senate Intelligence Committee, just announced that after almost two years… https://t.co/fLozxVZoq7    0.362895\n",
      "Highly respected Senator Richard Burr, Chairman of Senate Intelligence, said today that, after an almost two year i… https://t.co/JXnRAMYuuE    0.329683\n",
      "Highly respected Senator Richard Burr, Chairman of Senate Intelligence, said today that, after an almost two year i… https://t.co/JXnRAMYuuE    0.329683\n",
      "The Senate Intelligence Committee: THERE IS NO EVIDENCE OF COLLUSION BETWEEN THE TRUMP CAMPAIGN AND RUSSIA!                                     0.266041\n",
      "The Senate Intelligence Committee: THERE IS NO EVIDENCE OF COLLUSION BETWEEN THE TRUMP CAMPAIGN AND RUSSIA!                                     0.266041\n",
      "Highly respected Senator Richard Burr, head of Senate Intelligence, said, after interviewing over 200 witnesses and… https://t.co/So0qm3SrYv    0.258469\n",
      "Highly respected Senator Richard Burr, head of Senate Intelligence, said, after interviewing over 200 witnesses and… https://t.co/So0qm3SrYv    0.258469\n",
      "Not only did Senator Burr’s Committee find No Collusion by the Trump Campaign and Russia, it’s important because th… https://t.co/wIZACy18z3    0.239058\n",
      "Not only did Senator Burr’s Committee find No Collusion by the Trump Campaign and Russia, it’s important because th… https://t.co/wIZACy18z3    0.239058\n",
      "There is far more ENERGY on the Right than there is on the Left. That’s why we just won the Senate and why we will… https://t.co/qkKn4tSvlN     0.216691\n",
      "Name: 7, dtype: float64\n",
      "Component 8:\n",
      "Tweets\n",
      "Happy Valentine’s Day, @michelleobama! Almost 28 years with you, but it always feels new. https://t.co/O0UhJWoqGN                               0.329794\n",
      "Happy Valentine’s Day, @MichelleObama. You make every day and every place better. https://t.co/aWvyytR7Mm                                       0.308151\n",
      "Happy Valentine’s Day, @MichelleObama. You make every day and every place better. https://t.co/aWvyytR7Mm                                       0.308151\n",
      "Georgians have the power on Dec. 4 to help make elections in their state are free and fair again. Make sure your fr… https://t.co/i1Zutb1KbN    0.249937\n",
      "Georgians have the power on Dec. 4 to help make elections in their state are free and fair again. Make sure your fr… https://t.co/i1Zutb1KbN    0.249937\n",
      "Happy Anniversary, @MichelleObama. For 26 years, you’ve been an extraordinary partner, someone who can always make… https://t.co/csomlGbL1B     0.234033\n",
      "Happy Anniversary, @MichelleObama. For 26 years, you’ve been an extraordinary partner, someone who can always make… https://t.co/csomlGbL1B     0.234033\n",
      "Forty-six years after Roe v. Wade, we reaffirm what will always be true: Women have an unalienable right to make th… https://t.co/7AnNlUncz1    0.224641\n",
      "Forty-six years after Roe v. Wade, we reaffirm what will always be true: Women have an unalienable right to make th… https://t.co/7AnNlUncz1    0.224641\n",
      "Forty-six years after Roe v. Wade, we reaffirm what will always be true: Women have an unalienable right to make th… https://t.co/7AnNlUncz1    0.224641\n",
      "Name: 8, dtype: float64\n",
      "Component 9:\n",
      "Tweets\n",
      "Senator Richard Burr, The Chairman of the Senate Intelligence Committee, just announced that after almost two years… https://t.co/fLozxVZoq7    0.398642\n",
      "RT @realDonaldTrump: Highly respected Senator Richard Burr, head of Senate Intelligence, said, after interviewing over 200 witnesses and st…    0.360670\n",
      "Highly respected Senator Richard Burr, head of Senate Intelligence, said, after interviewing over 200 witnesses and… https://t.co/So0qm3SrYv    0.348546\n",
      "Highly respected Senator Richard Burr, head of Senate Intelligence, said, after interviewing over 200 witnesses and… https://t.co/So0qm3SrYv    0.348546\n",
      "Highly respected Senator Richard Burr, Chairman of Senate Intelligence, said today that, after an almost two year i… https://t.co/JXnRAMYuuE    0.331698\n",
      "Highly respected Senator Richard Burr, Chairman of Senate Intelligence, said today that, after an almost two year i… https://t.co/JXnRAMYuuE    0.331698\n",
      "The Senate Intelligence Committee: THERE IS NO EVIDENCE OF COLLUSION BETWEEN THE TRUMP CAMPAIGN AND RUSSIA!                                     0.329480\n",
      "The Senate Intelligence Committee: THERE IS NO EVIDENCE OF COLLUSION BETWEEN THE TRUMP CAMPAIGN AND RUSSIA!                                     0.329480\n",
      "RT @seanhannity: TRUMP: “Not only did Senator Burr’s Committee find No Collusion by the Trump Campaign and Russia, it’s important because t…    0.285793\n",
      "Not only did Senator Burr’s Committee find No Collusion by the Trump Campaign and Russia, it’s important because th… https://t.co/wIZACy18z3    0.266219\n",
      "Name: 9, dtype: float64\n"
     ]
    }
   ],
   "source": [
    "from sklearn.decomposition import TruncatedSVD\n",
    "from sklearn.pipeline import make_pipeline\n",
    "from sklearn.preprocessing import Normalizer\n",
    "\n",
    "#Our SVD data reducer.  We are going to reduce the feature space from 1379 to 130.\n",
    "svd= TruncatedSVD(700)\n",
    "lsa = make_pipeline(svd, Normalizer(copy=False))\n",
    "# Run SVD on the training data, then project the training data.\n",
    "X_train_lsa = lsa.fit_transform(X_train_tfidf)\n",
    "\n",
    "variance_explained=svd.explained_variance_ratio_\n",
    "total_variance = variance_explained.sum()\n",
    "print(\"Percent variance captured by all components:\",total_variance*100)\n",
    "\n",
    "songs_by_component=pd.DataFrame(X_train_lsa,index=X_train)\n",
    "for i in range(10):\n",
    "    print('Component {}:'.format(i))\n",
    "    print(songs_by_component.loc[:,i].sort_values(ascending=False)[0:10])"
   ]
  },
  {
   "cell_type": "markdown",
   "metadata": {},
   "source": [
    "# LSA Component Examination\n"
   ]
  },
  {
   "cell_type": "markdown",
   "metadata": {},
   "source": [
    "## Component 0\n"
   ]
  },
  {
   "cell_type": "markdown",
   "metadata": {},
   "source": [
    "Hillary Clinton is giving her views about Donald Trumps performance as a president and providing some facts"
   ]
  },
  {
   "cell_type": "markdown",
   "metadata": {},
   "source": [
    "## Component 1\n"
   ]
  },
  {
   "cell_type": "markdown",
   "metadata": {},
   "source": [
    "Mike Bloomberg is supporting new initiative for critical subjects such as Climate Change"
   ]
  },
  {
   "cell_type": "markdown",
   "metadata": {},
   "source": [
    "## Component 2"
   ]
  },
  {
   "cell_type": "markdown",
   "metadata": {},
   "source": [
    "Barnie Sanders showing his views about Trumps Presidency"
   ]
  },
  {
   "cell_type": "markdown",
   "metadata": {},
   "source": [
    "## Component 3"
   ]
  },
  {
   "cell_type": "markdown",
   "metadata": {},
   "source": [
    "Barnie Sanders showing his views about Climate Change"
   ]
  },
  {
   "cell_type": "markdown",
   "metadata": {},
   "source": [
    "## Component 4"
   ]
  },
  {
   "cell_type": "markdown",
   "metadata": {},
   "source": [
    "Obama speaks about Obama care and about people should vote"
   ]
  },
  {
   "cell_type": "markdown",
   "metadata": {},
   "source": [
    "## Component 5"
   ]
  },
  {
   "cell_type": "markdown",
   "metadata": {},
   "source": [
    "Mike Bloomberg speaking about gun voilence and other general topics"
   ]
  },
  {
   "cell_type": "markdown",
   "metadata": {},
   "source": [
    "## Component 6"
   ]
  },
  {
   "cell_type": "markdown",
   "metadata": {},
   "source": [
    "Hillary Clinton speaking about gun voilence and other general topics"
   ]
  },
  {
   "cell_type": "markdown",
   "metadata": {},
   "source": [
    "## Component 7"
   ]
  },
  {
   "cell_type": "markdown",
   "metadata": {},
   "source": [
    "Donald Trump speaking about general white house work"
   ]
  },
  {
   "cell_type": "markdown",
   "metadata": {},
   "source": [
    "## Component 8"
   ]
  },
  {
   "cell_type": "markdown",
   "metadata": {},
   "source": [
    "Barack Obama celebrating Valetine day with his wife Michelle Obama"
   ]
  },
  {
   "cell_type": "markdown",
   "metadata": {},
   "source": [
    "## Component 9\n"
   ]
  },
  {
   "cell_type": "markdown",
   "metadata": {},
   "source": [
    "\n",
    "Donald Trump speaking about general white house work"
   ]
  },
  {
   "cell_type": "code",
   "execution_count": 134,
   "metadata": {},
   "outputs": [
    {
     "data": {
      "image/png": "[encoded data removed]",
      "text/plain": [
       "<Figure size 432x288 with 2 Axes>"
      ]
     },
     "metadata": {
      "needs_background": "light"
     },
     "output_type": "display_data"
    },
    {
     "name": "stdout",
     "output_type": "stream",
     "text": [
      "Key:\n",
      "0 Yesterday we lost a courageous president and one of the greatest members of the Greatest Generation, George H.W. Bu… https://t.co/xpvghmiiO2\n",
      "1 Walmart’s decision to provide 48 hours of paid sick leave to some employees is a small step forward, but not nearly… https://t.co/3yosQYPaKN\n",
      "2 A state legislator once brushed off Cassandra Levesque’s campaign to end child marriage in New Hampshire as “a requ… https://t.co/3RrlsKqkid\n",
      "3 The only Collusion with the Russians was with Crooked Hillary Clinton and the Democratic National Committee...And,… https://t.co/ojVg7Xi9Fs\n",
      "4 Ten-year-old Jahkil Jackson is on a mission to help homeless people in Chicago. He created kits full of socks, toil… https://t.co/7mNk6dmnyC\n",
      "5 Over 2,400 American patriots lost their lives in the attack on Pearl Harbor nearly 77 years ago—it’s a sacred place… https://t.co/VsjUwLDXlc\n",
      "6 These talented young people will create a better future not just in Africa, but around the world. I can’t wait to s… https://t.co/0YgQxnOrz9\n",
      "7 Russia's actions brazenly violate a treaty allowing free passage in the strait and the G7 should hold fast in deman… https://t.co/i9LrTOssM8\n",
      "8 “Andrew McCabe gave absolutely no evidence of any threat to substantiate his ABSURD claim.” @LouDobbs\n",
      "9 Thank you to all the first responders and people helping each other out. That's what we do as Americans. Here's one… https://t.co/I3RHWyZe31\n"
     ]
    }
   ],
   "source": [
    "# Compute document similarity using LSA components\n",
    "similarity = np.asarray(np.asmatrix(X_train_lsa) * np.asmatrix(X_train_lsa).T)\n",
    "#Only taking the first 10 sentences\n",
    "sim_matrix=pd.DataFrame(similarity,index=X_train).iloc[0:10,0:10]\n",
    "#Making a plot\n",
    "ax = sns.heatmap(sim_matrix,yticklabels=range(10))\n",
    "plt.show()\n",
    "\n",
    "#Generating a key for the plot.\n",
    "print('Key:')\n",
    "for i in range(10):\n",
    "    print(i,sim_matrix.index[i])\n"
   ]
  },
  {
   "cell_type": "markdown",
   "metadata": {},
   "source": [
    "Above heatmap shows the sentences doesnt look to be similar at all.It is able to correctly differentiate sentences"
   ]
  },
  {
   "cell_type": "markdown",
   "metadata": {},
   "source": [
    "# Classification Clustering Using LSA\n",
    "\n"
   ]
  },
  {
   "cell_type": "markdown",
   "metadata": {},
   "source": [
    "## Using K-Means Clusters"
   ]
  },
  {
   "cell_type": "code",
   "execution_count": 90,
   "metadata": {},
   "outputs": [
    {
     "name": "stdout",
     "output_type": "stream",
     "text": [
      "Comparing k-means clusters against politicians:\n"
     ]
    },
    {
     "data": {
      "text/html": [
       "<div>\n",
       "<style scoped>\n",
       "    .dataframe tbody tr th:only-of-type {\n",
       "        vertical-align: middle;\n",
       "    }\n",
       "\n",
       "    .dataframe tbody tr th {\n",
       "        vertical-align: top;\n",
       "    }\n",
       "\n",
       "    .dataframe thead th {\n",
       "        text-align: right;\n",
       "    }\n",
       "</style>\n",
       "<table border=\"1\" class=\"dataframe\">\n",
       "  <thead>\n",
       "    <tr style=\"text-align: right;\">\n",
       "      <th>col_0</th>\n",
       "      <th>0</th>\n",
       "      <th>1</th>\n",
       "      <th>2</th>\n",
       "      <th>3</th>\n",
       "      <th>4</th>\n",
       "      <th>5</th>\n",
       "      <th>6</th>\n",
       "      <th>7</th>\n",
       "      <th>8</th>\n",
       "      <th>9</th>\n",
       "      <th>...</th>\n",
       "      <th>15</th>\n",
       "      <th>16</th>\n",
       "      <th>17</th>\n",
       "      <th>18</th>\n",
       "      <th>19</th>\n",
       "      <th>20</th>\n",
       "      <th>21</th>\n",
       "      <th>22</th>\n",
       "      <th>23</th>\n",
       "      <th>24</th>\n",
       "    </tr>\n",
       "    <tr>\n",
       "      <th>Author</th>\n",
       "      <th></th>\n",
       "      <th></th>\n",
       "      <th></th>\n",
       "      <th></th>\n",
       "      <th></th>\n",
       "      <th></th>\n",
       "      <th></th>\n",
       "      <th></th>\n",
       "      <th></th>\n",
       "      <th></th>\n",
       "      <th></th>\n",
       "      <th></th>\n",
       "      <th></th>\n",
       "      <th></th>\n",
       "      <th></th>\n",
       "      <th></th>\n",
       "      <th></th>\n",
       "      <th></th>\n",
       "      <th></th>\n",
       "      <th></th>\n",
       "      <th></th>\n",
       "    </tr>\n",
       "  </thead>\n",
       "  <tbody>\n",
       "    <tr>\n",
       "      <th>BarackObama</th>\n",
       "      <td>8</td>\n",
       "      <td>5</td>\n",
       "      <td>60</td>\n",
       "      <td>4</td>\n",
       "      <td>38</td>\n",
       "      <td>30</td>\n",
       "      <td>12</td>\n",
       "      <td>5</td>\n",
       "      <td>1</td>\n",
       "      <td>5</td>\n",
       "      <td>...</td>\n",
       "      <td>8</td>\n",
       "      <td>1</td>\n",
       "      <td>1</td>\n",
       "      <td>4</td>\n",
       "      <td>0</td>\n",
       "      <td>14</td>\n",
       "      <td>28</td>\n",
       "      <td>5</td>\n",
       "      <td>23</td>\n",
       "      <td>20</td>\n",
       "    </tr>\n",
       "    <tr>\n",
       "      <th>HillaryClinton</th>\n",
       "      <td>10</td>\n",
       "      <td>24</td>\n",
       "      <td>60</td>\n",
       "      <td>11</td>\n",
       "      <td>15</td>\n",
       "      <td>28</td>\n",
       "      <td>4</td>\n",
       "      <td>7</td>\n",
       "      <td>3</td>\n",
       "      <td>2</td>\n",
       "      <td>...</td>\n",
       "      <td>11</td>\n",
       "      <td>6</td>\n",
       "      <td>19</td>\n",
       "      <td>38</td>\n",
       "      <td>5</td>\n",
       "      <td>35</td>\n",
       "      <td>28</td>\n",
       "      <td>5</td>\n",
       "      <td>23</td>\n",
       "      <td>3</td>\n",
       "    </tr>\n",
       "    <tr>\n",
       "      <th>MikeBloomberg</th>\n",
       "      <td>20</td>\n",
       "      <td>15</td>\n",
       "      <td>6</td>\n",
       "      <td>78</td>\n",
       "      <td>6</td>\n",
       "      <td>41</td>\n",
       "      <td>19</td>\n",
       "      <td>2</td>\n",
       "      <td>4</td>\n",
       "      <td>14</td>\n",
       "      <td>...</td>\n",
       "      <td>0</td>\n",
       "      <td>8</td>\n",
       "      <td>4</td>\n",
       "      <td>9</td>\n",
       "      <td>7</td>\n",
       "      <td>7</td>\n",
       "      <td>21</td>\n",
       "      <td>10</td>\n",
       "      <td>25</td>\n",
       "      <td>0</td>\n",
       "    </tr>\n",
       "    <tr>\n",
       "      <th>SenSanders</th>\n",
       "      <td>8</td>\n",
       "      <td>23</td>\n",
       "      <td>39</td>\n",
       "      <td>11</td>\n",
       "      <td>0</td>\n",
       "      <td>5</td>\n",
       "      <td>6</td>\n",
       "      <td>16</td>\n",
       "      <td>14</td>\n",
       "      <td>3</td>\n",
       "      <td>...</td>\n",
       "      <td>2</td>\n",
       "      <td>36</td>\n",
       "      <td>12</td>\n",
       "      <td>53</td>\n",
       "      <td>39</td>\n",
       "      <td>11</td>\n",
       "      <td>11</td>\n",
       "      <td>9</td>\n",
       "      <td>22</td>\n",
       "      <td>2</td>\n",
       "    </tr>\n",
       "    <tr>\n",
       "      <th>realDonaldTrump</th>\n",
       "      <td>15</td>\n",
       "      <td>16</td>\n",
       "      <td>6</td>\n",
       "      <td>1</td>\n",
       "      <td>2</td>\n",
       "      <td>8</td>\n",
       "      <td>19</td>\n",
       "      <td>6</td>\n",
       "      <td>5</td>\n",
       "      <td>28</td>\n",
       "      <td>...</td>\n",
       "      <td>8</td>\n",
       "      <td>3</td>\n",
       "      <td>4</td>\n",
       "      <td>38</td>\n",
       "      <td>4</td>\n",
       "      <td>16</td>\n",
       "      <td>21</td>\n",
       "      <td>27</td>\n",
       "      <td>29</td>\n",
       "      <td>0</td>\n",
       "    </tr>\n",
       "  </tbody>\n",
       "</table>\n",
       "<p>5 rows × 25 columns</p>\n",
       "</div>"
      ],
      "text/plain": [
       "col_0            0   1   2   3   4   5   6   7   8   9  ...  15  16  17  18  \\\n",
       "Author                                                  ...                   \n",
       "BarackObama       8   5  60   4  38  30  12   5   1   5 ...   8   1   1   4   \n",
       "HillaryClinton   10  24  60  11  15  28   4   7   3   2 ...  11   6  19  38   \n",
       "MikeBloomberg    20  15   6  78   6  41  19   2   4  14 ...   0   8   4   9   \n",
       "SenSanders        8  23  39  11   0   5   6  16  14   3 ...   2  36  12  53   \n",
       "realDonaldTrump  15  16   6   1   2   8  19   6   5  28 ...   8   3   4  38   \n",
       "\n",
       "col_0            19  20  21  22  23  24  \n",
       "Author                                   \n",
       "BarackObama       0  14  28   5  23  20  \n",
       "HillaryClinton    5  35  28   5  23   3  \n",
       "MikeBloomberg     7   7  21  10  25   0  \n",
       "SenSanders       39  11  11   9  22   2  \n",
       "realDonaldTrump   4  16  21  27  29   0  \n",
       "\n",
       "[5 rows x 25 columns]"
      ]
     },
     "execution_count": 90,
     "metadata": {},
     "output_type": "execute_result"
    }
   ],
   "source": [
    "from sklearn.preprocessing import normalize\n",
    "from sklearn.cluster import KMeans\n",
    "\n",
    "# Normalize the data.\n",
    "X_norm = normalize(X_train_lsa)\n",
    "\n",
    "# Calculate predicted values.\n",
    "y_pred = KMeans(n_clusters=25, random_state=42).fit_predict(X_norm)\n",
    "\n",
    "# Check the solution against the data.\n",
    "print('Comparing k-means clusters against politicians:')\n",
    "pd.crosstab(y_train, y_pred)"
   ]
  },
  {
   "cell_type": "markdown",
   "metadata": {},
   "source": [
    "Lets try LSA to check the accuracy using Random Forest.This is a superivsed approach to check how LSA  impacted the accuracy"
   ]
  },
  {
   "cell_type": "code",
   "execution_count": 102,
   "metadata": {},
   "outputs": [
    {
     "name": "stderr",
     "output_type": "stream",
     "text": [
      "C:\\Users\\ankush\\Anaconda3\\lib\\site-packages\\sklearn\\ensemble\\forest.py:246: FutureWarning: The default value of n_estimators will change from 10 in version 0.20 to 100 in 0.22.\n",
      "  \"10 in version 0.20 to 100 in 0.22.\", FutureWarning)\n"
     ]
    },
    {
     "name": "stdout",
     "output_type": "stream",
     "text": [
      "Test Set score = 1.0 \n",
      "Training set Cross validation = [0.79575597 0.8        0.83466667 0.81550802 0.82085561]\n",
      "mean = 0.813\n",
      "col_0            BarackObama  HillaryClinton  MikeBloomberg  SenSanders  \\\n",
      "Author                                                                    \n",
      "BarackObama              361               0              0           0   \n",
      "HillaryClinton             0             390              0           0   \n",
      "MikeBloomberg              0               0            381           0   \n",
      "SenSanders                 0               0              0         373   \n",
      "realDonaldTrump            0               0              0           0   \n",
      "\n",
      "col_0            realDonaldTrump  \n",
      "Author                            \n",
      "BarackObama                    0  \n",
      "HillaryClinton                 0  \n",
      "MikeBloomberg                  0  \n",
      "SenSanders                     0  \n",
      "realDonaldTrump              370  \n"
     ]
    }
   ],
   "source": [
    "from sklearn.metrics import confusion_matrix\n",
    "from sklearn.metrics import accuracy_score\n",
    "from sklearn.model_selection import cross_val_score\n",
    "\n",
    "rfc_lsa1 = ensemble.RandomForestClassifier(random_state=42)\n",
    "rfc_lsa1.fit(X_train_lsa,y_train)\n",
    "cv_lsa1 = cross_val_score(rfc_lsa1, X_train_lsa, y_train, cv=5)\n",
    "\n",
    "\n",
    "#Test\n",
    "y_true, y_pred = y_train, rfc_lsa1.predict(X_train_lsa)\n",
    "print(\"Test Set score = {:.3} \".format(accuracy_score(y_true, y_pred)))\n",
    "\n",
    "\n",
    "print(\"Training set Cross validation = {}\".format(cv_lsa1))\n",
    "print(\"mean = {:.3}\".format(cv_lsa1.mean()))\n",
    "print(pd.crosstab(y_true, y_pred))"
   ]
  },
  {
   "cell_type": "markdown",
   "metadata": {},
   "source": [
    "Oh no!these new features did not help at all .We can see overfitting.Like try logistic Regression"
   ]
  },
  {
   "cell_type": "code",
   "execution_count": 98,
   "metadata": {},
   "outputs": [
    {
     "name": "stderr",
     "output_type": "stream",
     "text": [
      "C:\\Users\\ankush\\Anaconda3\\lib\\site-packages\\sklearn\\linear_model\\logistic.py:433: FutureWarning: Default solver will be changed to 'lbfgs' in 0.22. Specify a solver to silence this warning.\n",
      "  FutureWarning)\n",
      "C:\\Users\\ankush\\Anaconda3\\lib\\site-packages\\sklearn\\linear_model\\logistic.py:460: FutureWarning: Default multi_class will be changed to 'auto' in 0.22. Specify the multi_class option to silence this warning.\n",
      "  \"this warning.\", FutureWarning)\n"
     ]
    },
    {
     "name": "stdout",
     "output_type": "stream",
     "text": [
      "Training set score: 0.9994666666666666\n"
     ]
    }
   ],
   "source": [
    "logit = LogisticRegression()\n",
    "fit = logit.fit(X_train_lsa_df, y_train)\n",
    "y_pred = logit.predict(X_train_lsa_df)\n",
    "print ('Training set score:', rfc.score(X_train_lsa_df, y_train))\n"
   ]
  },
  {
   "cell_type": "code",
   "execution_count": 100,
   "metadata": {},
   "outputs": [
    {
     "name": "stdout",
     "output_type": "stream",
     "text": [
      "Training set score: 0.9994666666666666\n"
     ]
    }
   ],
   "source": [
    "clf = ensemble.GradientBoostingClassifier()\n",
    "clf.fit(X_train_lsa_df, y_train)\n",
    "y_pred_knn = clf.predict(X_train_lsa_df)\n",
    "print('Training set score:', clf.score(X_train_lsa_df, y_train))\n"
   ]
  },
  {
   "cell_type": "code",
   "execution_count": 103,
   "metadata": {},
   "outputs": [
    {
     "name": "stdout",
     "output_type": "stream",
     "text": [
      "SVC(C=1.0, cache_size=200, class_weight=None, coef0=0.0,\n",
      "  decision_function_shape='ovr', degree=3, gamma='auto_deprecated',\n",
      "  kernel='linear', max_iter=-1, probability=False, random_state=None,\n",
      "  shrinking=True, tol=0.001, verbose=False)\n",
      "Training set score: 0.9861333333333333\n"
     ]
    }
   ],
   "source": [
    "from sklearn.svm import SVC\n",
    "svc = SVC(kernel='linear')\n",
    "svc_model = svc.fit(X_train_lsa,y_train)\n",
    "print(svc_model)\n",
    "print('Training set score:', svc_model.score(X_train_lsa,y_train))"
   ]
  },
  {
   "cell_type": "code",
   "execution_count": 105,
   "metadata": {},
   "outputs": [
    {
     "name": "stdout",
     "output_type": "stream",
     "text": [
      "Report:\n",
      "Test Set score = 0.986 \n",
      "Training set Cross validation = [0.90981432 0.89333333 0.90666667 0.90374332 0.90374332]\n",
      "mean = 0.903\n",
      "col_0            BarackObama  HillaryClinton  MikeBloomberg  SenSanders  \\\n",
      "Author                                                                    \n",
      "BarackObama              354               3              1           2   \n",
      "HillaryClinton             3             385              1           0   \n",
      "MikeBloomberg              0               2            376           2   \n",
      "SenSanders                 0               0              0         371   \n",
      "realDonaldTrump            3               3              0           1   \n",
      "\n",
      "col_0            realDonaldTrump  \n",
      "Author                            \n",
      "BarackObama                    1  \n",
      "HillaryClinton                 1  \n",
      "MikeBloomberg                  1  \n",
      "SenSanders                     2  \n",
      "realDonaldTrump              363  \n"
     ]
    }
   ],
   "source": [
    "from sklearn.metrics import confusion_matrix\n",
    "\n",
    "from sklearn.svm import SVC\n",
    "svm_t200 = SVC(kernel='linear')\n",
    "svm_t200.fit(X_train_lsa,y_train)\n",
    "svm_t200_cv = cross_val_score(svm_t200, X_train_lsa, y_train, cv=5)\n",
    "\n",
    "\n",
    "print(\"Report:\")\n",
    "y_true, y_pred = y_train, svm_t200.predict(X_train_lsa)\n",
    "#print(classification_report(y_true, y_pred))\n",
    "\n",
    "print(\"Test Set score = {:.3} \".format(accuracy_score(y_train, y_pred)))\n",
    "\n",
    "\n",
    "print(\"Training set Cross validation = {}\".format(svm_t200_cv))\n",
    "print(\"mean = {:.3}\".format(svm_t200_cv.mean()))\n",
    "print(pd.crosstab(y_true, y_pred))"
   ]
  },
  {
   "cell_type": "code",
   "execution_count": 106,
   "metadata": {},
   "outputs": [
    {
     "data": {
      "text/html": [
       "<div>\n",
       "<style scoped>\n",
       "    .dataframe tbody tr th:only-of-type {\n",
       "        vertical-align: middle;\n",
       "    }\n",
       "\n",
       "    .dataframe tbody tr th {\n",
       "        vertical-align: top;\n",
       "    }\n",
       "\n",
       "    .dataframe thead th {\n",
       "        text-align: right;\n",
       "    }\n",
       "</style>\n",
       "<table border=\"1\" class=\"dataframe\">\n",
       "  <thead>\n",
       "    <tr style=\"text-align: right;\">\n",
       "      <th>col_0</th>\n",
       "      <th>BarackObama</th>\n",
       "      <th>HillaryClinton</th>\n",
       "      <th>MikeBloomberg</th>\n",
       "      <th>SenSanders</th>\n",
       "      <th>realDonaldTrump</th>\n",
       "      <th>All</th>\n",
       "    </tr>\n",
       "    <tr>\n",
       "      <th>Author</th>\n",
       "      <th></th>\n",
       "      <th></th>\n",
       "      <th></th>\n",
       "      <th></th>\n",
       "      <th></th>\n",
       "      <th></th>\n",
       "    </tr>\n",
       "  </thead>\n",
       "  <tbody>\n",
       "    <tr>\n",
       "      <th>BarackObama</th>\n",
       "      <td>354</td>\n",
       "      <td>3</td>\n",
       "      <td>1</td>\n",
       "      <td>2</td>\n",
       "      <td>1</td>\n",
       "      <td>361</td>\n",
       "    </tr>\n",
       "    <tr>\n",
       "      <th>HillaryClinton</th>\n",
       "      <td>3</td>\n",
       "      <td>385</td>\n",
       "      <td>1</td>\n",
       "      <td>0</td>\n",
       "      <td>1</td>\n",
       "      <td>390</td>\n",
       "    </tr>\n",
       "    <tr>\n",
       "      <th>MikeBloomberg</th>\n",
       "      <td>0</td>\n",
       "      <td>2</td>\n",
       "      <td>376</td>\n",
       "      <td>2</td>\n",
       "      <td>1</td>\n",
       "      <td>381</td>\n",
       "    </tr>\n",
       "    <tr>\n",
       "      <th>SenSanders</th>\n",
       "      <td>0</td>\n",
       "      <td>0</td>\n",
       "      <td>0</td>\n",
       "      <td>371</td>\n",
       "      <td>2</td>\n",
       "      <td>373</td>\n",
       "    </tr>\n",
       "    <tr>\n",
       "      <th>realDonaldTrump</th>\n",
       "      <td>3</td>\n",
       "      <td>3</td>\n",
       "      <td>0</td>\n",
       "      <td>1</td>\n",
       "      <td>363</td>\n",
       "      <td>370</td>\n",
       "    </tr>\n",
       "    <tr>\n",
       "      <th>All</th>\n",
       "      <td>360</td>\n",
       "      <td>393</td>\n",
       "      <td>378</td>\n",
       "      <td>376</td>\n",
       "      <td>368</td>\n",
       "      <td>1875</td>\n",
       "    </tr>\n",
       "  </tbody>\n",
       "</table>\n",
       "</div>"
      ],
      "text/plain": [
       "col_0            BarackObama  HillaryClinton  MikeBloomberg  SenSanders  \\\n",
       "Author                                                                    \n",
       "BarackObama              354               3              1           2   \n",
       "HillaryClinton             3             385              1           0   \n",
       "MikeBloomberg              0               2            376           2   \n",
       "SenSanders                 0               0              0         371   \n",
       "realDonaldTrump            3               3              0           1   \n",
       "All                      360             393            378         376   \n",
       "\n",
       "col_0            realDonaldTrump   All  \n",
       "Author                                  \n",
       "BarackObama                    1   361  \n",
       "HillaryClinton                 1   390  \n",
       "MikeBloomberg                  1   381  \n",
       "SenSanders                     2   373  \n",
       "realDonaldTrump              363   370  \n",
       "All                          368  1875  "
      ]
     },
     "execution_count": 106,
     "metadata": {},
     "output_type": "execute_result"
    }
   ],
   "source": [
    "pd.crosstab(y_true, y_pred, margins = True)"
   ]
  },
  {
   "cell_type": "markdown",
   "metadata": {},
   "source": [
    "This looks little better as compared to Linear Regression, GBC,Random Forest which don't perform well with humongous features like this dataset has."
   ]
  },
  {
   "cell_type": "markdown",
   "metadata": {},
   "source": [
    "# Conclusion:"
   ]
  },
  {
   "cell_type": "markdown",
   "metadata": {},
   "source": [
    "Overall, the dataset cooperated with tf-idf better than Bag of Words.Latent Semantic Analysis did a fair job in identying the similar tweets.As we notice, most of the tweets it identified were for - Gun law,Voting, obama care, Climate change and Trump policy, which it was able to identify. Clustering  proved to be ineffective in classifying tweets and only returned one cluster when using mean-shift.\n",
    "KNN proved to be the most effective model for all the features with bow/Tf-idf.All the other models had overfitting which coulnot perform well with such huge number of features.BoW and TF-idf operated very differently in accurately identifying authors in their tweets. Clustering with LSA seem to perform ok.Mini batch k means clustering seem to perform better for clustering the author with their tweets than k means.It does look like supervised learning performed better in clustering the data compared to unsupervised learning"
   ]
  },
  {
   "cell_type": "code",
   "execution_count": null,
   "metadata": {},
   "outputs": [],
   "source": []
  }
 ],
 "metadata": {
  "kernelspec": {
   "display_name": "Python 3",
   "language": "python",
   "name": "python3"
  },
  "language_info": {
   "codemirror_mode": {
    "name": "ipython",
    "version": 3
   },
   "file_extension": ".py",
   "mimetype": "text/x-python",
   "name": "python",
   "nbconvert_exporter": "python",
   "pygments_lexer": "ipython3",
   "version": "3.7.1"
  }
 },
 "nbformat": 4,
 "nbformat_minor": 2
}
