{
 "cells": [
  {
   "cell_type": "code",
   "execution_count": 141,
   "metadata": {
    "scrolled": false
   },
   "outputs": [],
   "source": [
    "import numpy as np\n",
    "import cv2\n",
    "import pandas as pd\n",
    "%matplotlib inline\n",
    "import matplotlib.pyplot as plt\n",
    "from matplotlib.offsetbox import OffsetImage, AnnotationBbox\n",
    "import glob\n",
    "import os\n",
    "from sklearn.decomposition import PCA\n",
    "from sklearn.manifold import TSNE\n",
    "from sklearn.preprocessing import StandardScaler\n",
    "from sklearn.ensemble import RandomForestClassifier\n",
    "from sklearn.model_selection import train_test_split\n",
    "from sklearn.metrics import accuracy_score\n",
    "from sklearn import svm\n",
    "from sklearn.cluster import KMeans\n",
    "import tensorflow as tf\n",
    "import keras\n",
    "# Import the dataset\n",
    "from keras.datasets import mnist\n",
    "\n",
    "# Import various componenets for model building\n",
    "from keras.models import Sequential\n",
    "from keras.layers import Dense, Dropout, Flatten, Conv2D, MaxPooling2D\n",
    "from keras.layers import LSTM, Input, TimeDistributed\n",
    "from keras.models import Model\n",
    "from keras.optimizers import RMSprop\n",
    "\n",
    "# Import the backend\n",
    "from keras import backend as K"
   ]
  },
  {
   "cell_type": "markdown",
   "metadata": {},
   "source": [
    "# Training Data"
   ]
  },
  {
   "cell_type": "code",
   "execution_count": 142,
   "metadata": {},
   "outputs": [],
   "source": [
    "fruit_images = []\n",
    "labels = [] \n",
    "for fruit_dir_path in glob.glob(\"C:/Personal/09142640/Downloads/fruits-360/Training/*\"):\n",
    "    fruit_label = fruit_dir_path.split(\"\\\\\")[-1]\n",
    "    for image_path in glob.glob(os.path.join(fruit_dir_path, \"*.jpg\")):\n",
    "        image = cv2.imread(image_path, cv2.IMREAD_COLOR)\n",
    "        \n",
    "        image = cv2.resize(image, (45, 45))\n",
    "        image = cv2.cvtColor(image, cv2.COLOR_RGB2BGR)\n",
    "        \n",
    "        fruit_images.append(image)\n",
    "        labels.append(fruit_label)\n",
    "fruit_images=np.array(fruit_images)\n",
    "labels=np.array(labels)"
   ]
  },
  {
   "cell_type": "code",
   "execution_count": 143,
   "metadata": {},
   "outputs": [],
   "source": [
    "dict_id_to_label = {v:i for i,v in enumerate(np.unique(labels))}\n",
    "#dict_id_to_label={i:labels_list[i] for i in range(0,len(labels_list))}\n",
    "dict_label_to_id={v: k for k, v in dict_id_to_label.items()}"
   ]
  },
  {
   "cell_type": "code",
   "execution_count": 144,
   "metadata": {},
   "outputs": [],
   "source": [
    "label_ids = np.array([dict_id_to_label[x] for x in labels])"
   ]
  },
  {
   "cell_type": "markdown",
   "metadata": {},
   "source": [
    "# Test Data"
   ]
  },
  {
   "cell_type": "code",
   "execution_count": 145,
   "metadata": {},
   "outputs": [],
   "source": [
    "\n",
    "fruit_images_test = []\n",
    "labels_test = [] \n",
    "for fruit_dir_path in glob.glob(\"C:/Personal/09142640/Downloads/fruits-360/Test/*\"):\n",
    "    fruit_label = fruit_dir_path.split(\"\\\\\")[-1]\n",
    "    for image_path in glob.glob(os.path.join(fruit_dir_path, \"*.jpg\")):\n",
    "        image = cv2.imread(image_path, cv2.IMREAD_COLOR)\n",
    "        \n",
    "        image = cv2.resize(image, (45, 45))\n",
    "        image = cv2.cvtColor(image, cv2.COLOR_RGB2BGR)\n",
    "        \n",
    "        fruit_images_test.append(image)\n",
    "        labels_test.append(fruit_label)\n",
    "fruit_images_test=np.array(fruit_images_test)\n",
    "labels_test=np.array(labels_test)"
   ]
  },
  {
   "cell_type": "code",
   "execution_count": 146,
   "metadata": {},
   "outputs": [
    {
     "data": {
      "text/plain": [
       "{'Apple Braeburn': 0,\n",
       " 'Apple Golden 1': 1,\n",
       " 'Apple Golden 2': 2,\n",
       " 'Apple Golden 3': 3,\n",
       " 'Apple Granny Smith': 4,\n",
       " 'Apple Red 1': 5,\n",
       " 'Apple Red 2': 6,\n",
       " 'Apple Red 3': 7,\n",
       " 'Apple Red Delicious': 8,\n",
       " 'Apple Red Yellow 1': 9,\n",
       " 'Apple Red Yellow 2': 10,\n",
       " 'Apricot': 11,\n",
       " 'Avocado': 12,\n",
       " 'Avocado ripe': 13,\n",
       " 'Banana': 14,\n",
       " 'Banana Lady Finger': 15,\n",
       " 'Banana Red': 16,\n",
       " 'Cactus fruit': 17,\n",
       " 'Cantaloupe 1': 18,\n",
       " 'Cantaloupe 2': 19,\n",
       " 'Carambula': 20,\n",
       " 'Cherry 1': 21,\n",
       " 'Cherry 2': 22,\n",
       " 'Cherry Rainier': 23,\n",
       " 'Cherry Wax Black': 24,\n",
       " 'Cherry Wax Red': 25,\n",
       " 'Cherry Wax Yellow': 26,\n",
       " 'Chestnut': 27,\n",
       " 'Clementine': 28,\n",
       " 'Cocos': 29,\n",
       " 'Dates': 30,\n",
       " 'Granadilla': 31,\n",
       " 'Grape Blue': 32,\n",
       " 'Grape Pink': 33,\n",
       " 'Grape White': 34,\n",
       " 'Grape White 2': 35,\n",
       " 'Grape White 3': 36,\n",
       " 'Grape White 4': 37,\n",
       " 'Grapefruit Pink': 38,\n",
       " 'Grapefruit White': 39,\n",
       " 'Guava': 40,\n",
       " 'Hazelnut': 41,\n",
       " 'Huckleberry': 42,\n",
       " 'Kaki': 43,\n",
       " 'Kiwi': 44,\n",
       " 'Kumquats': 45,\n",
       " 'Lemon': 46,\n",
       " 'Lemon Meyer': 47,\n",
       " 'Limes': 48,\n",
       " 'Lychee': 49,\n",
       " 'Mandarine': 50,\n",
       " 'Mango': 51,\n",
       " 'Mangostan': 52,\n",
       " 'Maracuja': 53,\n",
       " 'Melon Piel de Sapo': 54,\n",
       " 'Mulberry': 55,\n",
       " 'Nectarine': 56,\n",
       " 'Orange': 57,\n",
       " 'Papaya': 58,\n",
       " 'Passion Fruit': 59,\n",
       " 'Peach': 60,\n",
       " 'Peach 2': 61,\n",
       " 'Peach Flat': 62,\n",
       " 'Pear': 63,\n",
       " 'Pear Abate': 64,\n",
       " 'Pear Kaiser': 65,\n",
       " 'Pear Monster': 66,\n",
       " 'Pear Williams': 67,\n",
       " 'Pepino': 68,\n",
       " 'Physalis': 69,\n",
       " 'Physalis with Husk': 70,\n",
       " 'Pineapple': 71,\n",
       " 'Pineapple Mini': 72,\n",
       " 'Pitahaya Red': 73,\n",
       " 'Plum': 74,\n",
       " 'Plum 2': 75,\n",
       " 'Plum 3': 76,\n",
       " 'Pomegranate': 77,\n",
       " 'Pomelo Sweetie': 78,\n",
       " 'Quince': 79,\n",
       " 'Rambutan': 80,\n",
       " 'Raspberry': 81,\n",
       " 'Redcurrant': 82,\n",
       " 'Salak': 83,\n",
       " 'Strawberry': 84,\n",
       " 'Strawberry Wedge': 85,\n",
       " 'Tamarillo': 86,\n",
       " 'Tangelo': 87,\n",
       " 'Tomato 1': 88,\n",
       " 'Tomato 2': 89,\n",
       " 'Tomato 3': 90,\n",
       " 'Tomato 4': 91,\n",
       " 'Tomato Cherry Red': 92,\n",
       " 'Tomato Maroon': 93,\n",
       " 'Walnut': 94}"
      ]
     },
     "execution_count": 146,
     "metadata": {},
     "output_type": "execute_result"
    }
   ],
   "source": [
    "#labels_list=list(sorted(set(labels_test)))\n",
    "dict_id_to_label_test = {v:i for i,v in enumerate(np.unique(labels_test))}\n",
    "#dict_id_to_label_test={i:labels_test[i] for i in range(0,len(labels_list))}\n",
    "dict_label_to_id_test={v: k for k, v in dict_id_to_label_test.items()}\n",
    "dict_id_to_label_test"
   ]
  },
  {
   "cell_type": "code",
   "execution_count": 147,
   "metadata": {},
   "outputs": [],
   "source": [
    "label_ids_test = np.array([dict_id_to_label_test[x] for x in labels_test])"
   ]
  },
  {
   "cell_type": "markdown",
   "metadata": {},
   "source": [
    "# Splitting the data"
   ]
  },
  {
   "cell_type": "code",
   "execution_count": 158,
   "metadata": {},
   "outputs": [
    {
     "name": "stdout",
     "output_type": "stream",
     "text": [
      "Original Sizes: (48905, 45, 45, 3) (16421, 45, 45, 3) (48905, 95) (16421, 95)\n",
      "Flattened: (48905, 6075) (16421, 6075)\n"
     ]
    }
   ],
   "source": [
    "X_train, X_test = fruit_images, fruit_images_test\n",
    "Y_train, Y_test = label_ids, label_ids_test\n",
    "\n",
    "#Normalize color values to between 0 and 1\n",
    "X_train = X_train/255\n",
    "X_test = X_test/255\n",
    "\n",
    "#Reshaping to a flattened version\n",
    "X_train_flat = X_train.reshape(X_train.shape[0],45*45*3)\n",
    "X_test_flat = X_test.reshape(X_test.shape[0],45*45*3)\n",
    "\n",
    "\n",
    "\n",
    "#Encoding the output\n",
    "Y_train = keras.utils.to_categorical(Y_train)\n",
    "Y_test = keras.utils.to_categorical(Y_test)\n",
    "\n",
    "print('Original Sizes:', X_train.shape, X_test.shape, Y_train.shape, Y_test.shape)\n",
    "print('Flattened:', X_train_flat.shape, X_test_flat.shape)"
   ]
  },
  {
   "cell_type": "code",
   "execution_count": 20,
   "metadata": {},
   "outputs": [
    {
     "data": {
      "image/png": "[encoded data removed]",
      "text/plain": [
       "<Figure size 432x288 with 1 Axes>"
      ]
     },
     "metadata": {
      "needs_background": "light"
     },
     "output_type": "display_data"
    },
    {
     "data": {
      "text/plain": [
       "array([ 0,  0,  0, ..., 94, 94, 94])"
      ]
     },
     "execution_count": 20,
     "metadata": {},
     "output_type": "execute_result"
    }
   ],
   "source": [
    "#print(X_train[0].shape)\n",
    "plt.imshow(X_train[100])\n",
    "plt.show()\n",
    "label_ids"
   ]
  },
  {
   "cell_type": "code",
   "execution_count": 11,
   "metadata": {
    "scrolled": true
   },
   "outputs": [
    {
     "data": {
      "image/png": "[encoded data removed]",
      "text/plain": [
       "<Figure size 720x720 with 100 Axes>"
      ]
     },
     "metadata": {
      "needs_background": "light"
     },
     "output_type": "display_data"
    }
   ],
   "source": [
    "nb_rows=10\n",
    "nb_cols=10\n",
    "n=2\n",
    "fig, axs = plt.subplots(nb_rows, nb_cols, figsize=(10, 10))\n",
    "for i in range(0, nb_rows):\n",
    "        for j in range(0, nb_cols):\n",
    "            # axs[i, j].xaxis.set_ticklabels([])\n",
    "            # axs[i, j].yaxis.set_ticklabels([])\n",
    "            axs[i, j].axis('off')\n",
    "            axs[i, j].imshow(fruit_images[26000])\n",
    "            n += 1      "
   ]
  },
  {
   "cell_type": "markdown",
   "metadata": {},
   "source": [
    "# Multi Layer Perceptron"
   ]
  },
  {
   "cell_type": "code",
   "execution_count": 38,
   "metadata": {},
   "outputs": [
    {
     "name": "stdout",
     "output_type": "stream",
     "text": [
      "_________________________________________________________________\n",
      "Layer (type)                 Output Shape              Param #   \n",
      "=================================================================\n",
      "dense_19 (Dense)             (None, 64)                388864    \n",
      "_________________________________________________________________\n",
      "dropout_13 (Dropout)         (None, 64)                0         \n",
      "_________________________________________________________________\n",
      "dense_20 (Dense)             (None, 64)                4160      \n",
      "_________________________________________________________________\n",
      "dropout_14 (Dropout)         (None, 64)                0         \n",
      "_________________________________________________________________\n",
      "dense_21 (Dense)             (None, 95)                6175      \n",
      "=================================================================\n",
      "Total params: 399,199\n",
      "Trainable params: 399,199\n",
      "Non-trainable params: 0\n",
      "_________________________________________________________________\n",
      "Train on 48905 samples, validate on 16421 samples\n",
      "Epoch 1/10\n",
      "48905/48905 [==============================] - 55s 1ms/step - loss: 3.3447 - acc: 0.1545 - val_loss: 2.2717 - val_acc: 0.3193\n",
      "Epoch 2/10\n",
      "48905/48905 [==============================] - 48s 990us/step - loss: 2.3177 - acc: 0.3337 - val_loss: 1.5031 - val_acc: 0.5863\n",
      "Epoch 3/10\n",
      "48905/48905 [==============================] - 13s 256us/step - loss: 2.0359 - acc: 0.4114 - val_loss: 1.7114 - val_acc: 0.4251\n",
      "Epoch 4/10\n",
      "48905/48905 [==============================] - 12s 248us/step - loss: 1.8551 - acc: 0.4600 - val_loss: 2.0452 - val_acc: 0.3410\n",
      "Epoch 5/10\n",
      "48905/48905 [==============================] - 14s 283us/step - loss: 1.7363 - acc: 0.4980 - val_loss: 1.6289 - val_acc: 0.4470\n",
      "Epoch 6/10\n",
      "48905/48905 [==============================] - 14s 292us/step - loss: 1.6301 - acc: 0.5260 - val_loss: 1.3199 - val_acc: 0.5937\n",
      "Epoch 7/10\n",
      "48905/48905 [==============================] - 13s 259us/step - loss: 1.5553 - acc: 0.5481 - val_loss: 1.1945 - val_acc: 0.6015\n",
      "Epoch 8/10\n",
      "48905/48905 [==============================] - 12s 236us/step - loss: 1.4746 - acc: 0.5688 - val_loss: 1.7349 - val_acc: 0.4365\n",
      "Epoch 9/10\n",
      "48905/48905 [==============================] - 10s 211us/step - loss: 1.4186 - acc: 0.5829 - val_loss: 1.1209 - val_acc: 0.6907\n",
      "Epoch 10/10\n",
      "48905/48905 [==============================] - 11s 235us/step - loss: 1.3571 - acc: 0.6015 - val_loss: 1.6590 - val_acc: 0.5243\n",
      "Test loss: 1.659042249377945\n",
      "Test accuracy: 0.5243286036191341\n"
     ]
    }
   ],
   "source": [
    "# Start with a simple sequential model\n",
    "model = Sequential()\n",
    "\n",
    "# Add dense layers to create a fully connected MLP\n",
    "# Note that we specify an input shape for the first layer, but only the first layer.\n",
    "# Relu is the activation function used\n",
    "model.add(Dense(64, activation='relu', input_shape=(X_train_flat.shape[1],)))\n",
    "# Dropout layers remove features and fight overfitting\n",
    "model.add(Dropout(0.1))\n",
    "model.add(Dense(64, activation='relu'))\n",
    "model.add(Dropout(0.1))\n",
    "# End with a number of units equal to the number of classes we have for our outcome\n",
    "model.add(Dense(95, activation='softmax'))\n",
    "\n",
    "model.summary()\n",
    "\n",
    "# Compile the model to put it all together.\n",
    "model.compile(loss='categorical_crossentropy',\n",
    "              optimizer=RMSprop(),\n",
    "              metrics=['accuracy'])\n",
    "history = model.fit(X_train_flat, Y_train,\n",
    "                    batch_size=128,\n",
    "                    epochs=10,\n",
    "                    verbose=1,\n",
    "                    validation_data=(X_test_flat, Y_test))\n",
    "score = model.evaluate(X_test_flat, Y_test, verbose=0)\n",
    "print('Test loss:', score[0])\n",
    "print('Test accuracy:', score[1])"
   ]
  },
  {
   "cell_type": "markdown",
   "metadata": {},
   "source": [
    "Acuuracy is on the lower side at 52%,lets try to check if increasing the nodes will help"
   ]
  },
  {
   "cell_type": "code",
   "execution_count": 40,
   "metadata": {},
   "outputs": [
    {
     "name": "stdout",
     "output_type": "stream",
     "text": [
      "_________________________________________________________________\n",
      "Layer (type)                 Output Shape              Param #   \n",
      "=================================================================\n",
      "dense_25 (Dense)             (None, 128)               777728    \n",
      "_________________________________________________________________\n",
      "dropout_17 (Dropout)         (None, 128)               0         \n",
      "_________________________________________________________________\n",
      "dense_26 (Dense)             (None, 128)               16512     \n",
      "_________________________________________________________________\n",
      "dropout_18 (Dropout)         (None, 128)               0         \n",
      "_________________________________________________________________\n",
      "dense_27 (Dense)             (None, 95)                12255     \n",
      "=================================================================\n",
      "Total params: 806,495\n",
      "Trainable params: 806,495\n",
      "Non-trainable params: 0\n",
      "_________________________________________________________________\n",
      "Train on 48905 samples, validate on 16421 samples\n",
      "Epoch 1/10\n",
      "48905/48905 [==============================] - 15s 300us/step - loss: 2.7123 - acc: 0.2840 - val_loss: 1.6592 - val_acc: 0.5006\n",
      "Epoch 2/10\n",
      "48905/48905 [==============================] - 14s 292us/step - loss: 1.4707 - acc: 0.5488 - val_loss: 1.0969 - val_acc: 0.6580\n",
      "Epoch 3/10\n",
      "48905/48905 [==============================] - 14s 278us/step - loss: 1.1669 - acc: 0.6381 - val_loss: 1.7550 - val_acc: 0.4801\n",
      "Epoch 4/10\n",
      "48905/48905 [==============================] - 13s 270us/step - loss: 0.9806 - acc: 0.6961 - val_loss: 2.2550 - val_acc: 0.4050\n",
      "Epoch 5/10\n",
      "48905/48905 [==============================] - 14s 279us/step - loss: 0.8675 - acc: 0.7324 - val_loss: 0.8453 - val_acc: 0.7050\n",
      "Epoch 6/10\n",
      "48905/48905 [==============================] - 14s 284us/step - loss: 0.7880 - acc: 0.7571 - val_loss: 1.2997 - val_acc: 0.6165\n",
      "Epoch 7/10\n",
      "48905/48905 [==============================] - 14s 280us/step - loss: 0.7190 - acc: 0.7786 - val_loss: 1.0443 - val_acc: 0.6777\n",
      "Epoch 8/10\n",
      "48905/48905 [==============================] - 13s 274us/step - loss: 0.6763 - acc: 0.7950 - val_loss: 1.1115 - val_acc: 0.6372\n",
      "Epoch 9/10\n",
      "48905/48905 [==============================] - 14s 283us/step - loss: 0.6349 - acc: 0.8060 - val_loss: 0.7501 - val_acc: 0.7591\n",
      "Epoch 10/10\n",
      "48905/48905 [==============================] - 13s 273us/step - loss: 0.5961 - acc: 0.8186 - val_loss: 0.4485 - val_acc: 0.8621\n",
      "Test loss: 0.44851030698586797\n",
      "Test accuracy: 0.8620668656007431\n"
     ]
    }
   ],
   "source": [
    "# Start with a simple sequential model\n",
    "model = Sequential()\n",
    "\n",
    "# Add dense layers to create a fully connected MLP\n",
    "# Note that we specify an input shape for the first layer, but only the first layer.\n",
    "# Relu is the activation function used\n",
    "model.add(Dense(128, activation='relu', input_shape=(X_train_flat.shape[1],)))\n",
    "# Dropout layers remove features and fight overfitting\n",
    "model.add(Dropout(0.1))\n",
    "model.add(Dense(128, activation='relu'))\n",
    "model.add(Dropout(0.1))\n",
    "# End with a number of units equal to the number of classes we have for our outcome\n",
    "model.add(Dense(95, activation='softmax'))\n",
    "\n",
    "model.summary()\n",
    "\n",
    "# Compile the model to put it all together.\n",
    "model.compile(loss='categorical_crossentropy',\n",
    "              optimizer=RMSprop(),\n",
    "              metrics=['accuracy'])\n",
    "\n",
    "history = model.fit(X_train_flat, Y_train,\n",
    "                    batch_size=128,\n",
    "                    epochs=10,\n",
    "                    verbose=1,\n",
    "                    validation_data=(X_test_flat, Y_test))\n",
    "score = model.evaluate(X_test_flat, Y_test, verbose=0)\n",
    "print('Test loss:', score[0])\n",
    "print('Test accuracy:', score[1])"
   ]
  },
  {
   "cell_type": "markdown",
   "metadata": {},
   "source": [
    "Accuracy improved significantly ,reason being nodes were doubled  and because of which loss of data was very less."
   ]
  },
  {
   "cell_type": "markdown",
   "metadata": {},
   "source": [
    "# Convolutional Neural Networks"
   ]
  },
  {
   "cell_type": "code",
   "execution_count": null,
   "metadata": {},
   "outputs": [
    {
     "name": "stdout",
     "output_type": "stream",
     "text": [
      "Train on 48905 samples, validate on 16421 samples\n",
      "Epoch 1/3\n",
      "43648/48905 [=========================>....] - ETA: 46s - loss: 2.0999 - acc: 0.4633"
     ]
    }
   ],
   "source": [
    "# Building the Model\n",
    "model = Sequential()\n",
    "# First convolutional layer, note the specification of shape\n",
    "model.add(Conv2D(32, kernel_size=(3, 3),\n",
    "                 activation='relu',\n",
    "                 input_shape=(45,45,3,)))\n",
    "model.add(Conv2D(64, (3, 3), activation='relu'))\n",
    "model.add(MaxPooling2D(pool_size=(2, 2)))\n",
    "model.add(Dropout(0.25))\n",
    "model.add(Flatten())\n",
    "model.add(Dense(128, activation='relu'))\n",
    "model.add(Dropout(0.5))\n",
    "model.add(Dense(95, activation='softmax'))\n",
    "\n",
    "model.compile(loss=keras.losses.categorical_crossentropy,\n",
    "              optimizer=keras.optimizers.Adadelta(),\n",
    "              metrics=['accuracy'])\n",
    "\n",
    "model.fit(X_train, Y_train,\n",
    "          batch_size=128,\n",
    "          epochs=3,\n",
    "          verbose=1,\n",
    "          validation_data=(X_test, Y_test))\n",
    "score = model.evaluate(X_test, Y_test, verbose=0)\n",
    "print('Test loss:', score[0])\n",
    "print('Test accuracy:', score[1])\n",
    "#predicted_image = model.predict_classes('C:/Personal/09142640/Downloads/fruits-360/Training/Tomato/0_100.jpg')"
   ]
  },
  {
   "cell_type": "markdown",
   "metadata": {},
   "source": [
    "CNN performed really well here.Its accuracy was very high.The reason being CNN is ideal for image processing due to its layers-convolutional,pooling which are ideal for images.CNN is little slow because of more computations underlying.lets try to double the number of nodes."
   ]
  },
  {
   "cell_type": "code",
   "execution_count": 52,
   "metadata": {},
   "outputs": [
    {
     "name": "stdout",
     "output_type": "stream",
     "text": [
      "Train on 48905 samples, validate on 16421 samples\n",
      "Epoch 1/5\n",
      "48905/48905 [==============================] - 1114s 23ms/step - loss: 2.2659 - acc: 0.4170 - val_loss: 0.3950 - val_acc: 0.8766\n",
      "Epoch 2/5\n",
      "48905/48905 [==============================] - 1170s 24ms/step - loss: 0.4711 - acc: 0.8466 - val_loss: 0.8906 - val_acc: 0.7839\n",
      "Epoch 3/5\n",
      "48905/48905 [==============================] - 1166s 24ms/step - loss: 0.2363 - acc: 0.9206 - val_loss: 0.1575 - val_acc: 0.9543\n",
      "Epoch 4/5\n",
      "48905/48905 [==============================] - 1129s 23ms/step - loss: 0.1653 - acc: 0.9427 - val_loss: 0.1936 - val_acc: 0.9416\n",
      "Epoch 5/5\n",
      "48905/48905 [==============================] - 1114s 23ms/step - loss: 0.1240 - acc: 0.9573 - val_loss: 0.1534 - val_acc: 0.9553\n",
      "Test loss: 0.15342207298049196\n",
      "Test accuracy: 0.9553011387857012\n"
     ]
    }
   ],
   "source": [
    "# Building the Model\n",
    "model = Sequential()\n",
    "# First convolutional layer, note the specification of shape\n",
    "model.add(Conv2D(64, kernel_size=(3, 3),\n",
    "                 activation='relu',\n",
    "                 input_shape=(45,45,3,)))\n",
    "model.add(Conv2D(128, (3, 3), activation='relu'))\n",
    "model.add(MaxPooling2D(pool_size=(2, 2)))\n",
    "model.add(Dropout(0.25))\n",
    "model.add(Flatten())\n",
    "model.add(Dense(128, activation='relu'))\n",
    "model.add(Dropout(0.5))\n",
    "model.add(Dense(95, activation='softmax'))\n",
    "\n",
    "model.compile(loss=keras.losses.categorical_crossentropy,\n",
    "              optimizer=keras.optimizers.Adadelta(),\n",
    "              metrics=['accuracy'])\n",
    "\n",
    "model.fit(X_train, Y_train,\n",
    "          batch_size=128,\n",
    "          epochs=5,\n",
    "          verbose=1,\n",
    "          validation_data=(X_test, Y_test))\n",
    "score = model.evaluate(X_test, Y_test, verbose=0)\n",
    "print('Test loss:', score[0])\n",
    "print('Test accuracy:', score[1])"
   ]
  },
  {
   "cell_type": "code",
   "execution_count": null,
   "metadata": {},
   "outputs": [],
   "source": [
    "X_train1=model.predict_classes(X_train[40000])"
   ]
  },
  {
   "cell_type": "markdown",
   "metadata": {},
   "source": [
    "# RNN"
   ]
  },
  {
   "cell_type": "code",
   "execution_count": 149,
   "metadata": {},
   "outputs": [
    {
     "name": "stdout",
     "output_type": "stream",
     "text": [
      "x_train shape: (48905, 45, 45, 3)\n",
      "48905 train samples\n",
      "16421 test samples\n",
      "Train on 48905 samples, validate on 16421 samples\n",
      "Epoch 1/5\n",
      "48905/48905 [==============================] - 360s 7ms/step - loss: 3.9440 - acc: 0.0602 - val_loss: 3.5609 - val_acc: 0.1055\n",
      "Epoch 2/5\n",
      "48905/48905 [==============================] - 344s 7ms/step - loss: 3.0140 - acc: 0.2179 - val_loss: 2.7391 - val_acc: 0.2587\n",
      "Epoch 3/5\n",
      "48905/48905 [==============================] - 359s 7ms/step - loss: 2.2114 - acc: 0.4085 - val_loss: 2.1359 - val_acc: 0.3824\n",
      "Epoch 4/5\n",
      "48905/48905 [==============================] - 341s 7ms/step - loss: 1.5568 - acc: 0.5952 - val_loss: 1.8763 - val_acc: 0.4947\n",
      "Epoch 5/5\n",
      "48905/48905 [==============================] - 350s 7ms/step - loss: 1.0796 - acc: 0.7256 - val_loss: 1.5354 - val_acc: 0.5802\n",
      "Test loss: 1.5353762433926506\n",
      "Test accuracy: 0.5801717313196517\n"
     ]
    }
   ],
   "source": [
    "x_train, x_test = fruit_images, fruit_images_test\n",
    "y_train, y_test = label_ids, label_ids_test\n",
    "# Training parameters.\n",
    "batch_size = 64\n",
    "num_classes = 95\n",
    "epochs = 5\n",
    "\n",
    "# Embedding dimensions.\n",
    "row_hidden = 32\n",
    "col_hidden = 32\n",
    "\n",
    "# Reshapes data to 4D for Hierarchical RNN.\n",
    "x_train = x_train.reshape(x_train.shape[0], 45, 45, 3)\n",
    "x_test = x_test.reshape(x_test.shape[0], 45, 45, 3)\n",
    "x_train = x_train.astype('float32')\n",
    "x_test = x_test.astype('float32')\n",
    "x_train /= 255\n",
    "x_test /= 255\n",
    "print('x_train shape:', x_train.shape)\n",
    "print(x_train.shape[0], 'train samples')\n",
    "print(x_test.shape[0], 'test samples')\n",
    "\n",
    "# Converts class vectors to binary class matrices.\n",
    "y_train = keras.utils.to_categorical(y_train, num_classes)\n",
    "y_test = keras.utils.to_categorical(y_test, num_classes)\n",
    "\n",
    "row, col, pixel = x_train.shape[1:]\n",
    "\n",
    "# 4D input.\n",
    "x = Input(shape=(row, col, pixel))\n",
    "\n",
    "# Encodes a row of pixels using TimeDistributed Wrapper.\n",
    "encoded_rows = TimeDistributed(LSTM(row_hidden))(x)\n",
    "\n",
    "# Encodes columns of encoded rows.\n",
    "encoded_columns = LSTM(col_hidden)(encoded_rows)\n",
    "\n",
    "# Final predictions and model.\n",
    "prediction = Dense(num_classes, activation='softmax')(encoded_columns)\n",
    "model = Model(x, prediction)\n",
    "model.compile(loss='categorical_crossentropy',\n",
    "              optimizer='rmsprop',\n",
    "              metrics=['accuracy'])\n",
    "\n",
    "# Training.\n",
    "model.fit(x_train, y_train,\n",
    "          batch_size=batch_size,\n",
    "          epochs=epochs,\n",
    "          verbose=1,\n",
    "          validation_data=(x_test, y_test))\n",
    "\n",
    "# Evaluation.\n",
    "scores = model.evaluate(x_test, y_test, verbose=0)\n",
    "print('Test loss:', scores[0])\n",
    "print('Test accuracy:', scores[1])"
   ]
  },
  {
   "cell_type": "markdown",
   "metadata": {},
   "source": [
    "# Conclusion"
   ]
  },
  {
   "cell_type": "markdown",
   "metadata": {},
   "source": [
    "CNN was better than MLP and RNN.The only downside was, it took more time than other models because of its complex computations.CNN is ideal for image classifican due to its layers such as Convulational and Pooling.Overall, MLP performed better if we take both ,Accuracy and run time in perspective.RNN performed poorly.We can try playing with the parameters to improve the performance."
   ]
  },
  {
   "cell_type": "code",
   "execution_count": 160,
   "metadata": {},
   "outputs": [
    {
     "ename": "TypeError",
     "evalue": "'NoneType' object cannot be interpreted as an integer",
     "output_type": "error",
     "traceback": [
      "\u001b[1;31m---------------------------------------------------------------------------\u001b[0m",
      "\u001b[1;31mTypeError\u001b[0m                                 Traceback (most recent call last)",
      "\u001b[1;32m<ipython-input-160-67ad52d8c606>\u001b[0m in \u001b[0;36m<module>\u001b[1;34m()\u001b[0m\n\u001b[1;32m----> 1\u001b[1;33m \u001b[0mX_train\u001b[0m\u001b[1;33m=\u001b[0m\u001b[0mX_train\u001b[0m\u001b[1;33m[\u001b[0m\u001b[1;36m40000\u001b[0m\u001b[1;33m]\u001b[0m\u001b[1;33m.\u001b[0m\u001b[0mreshape\u001b[0m\u001b[1;33m(\u001b[0m\u001b[1;32mNone\u001b[0m\u001b[1;33m,\u001b[0m\u001b[1;36m45\u001b[0m\u001b[1;33m,\u001b[0m\u001b[1;36m45\u001b[0m\u001b[1;33m,\u001b[0m\u001b[1;36m3\u001b[0m\u001b[1;33m)\u001b[0m\u001b[1;33m\u001b[0m\u001b[0m\n\u001b[0m",
      "\u001b[1;31mTypeError\u001b[0m: 'NoneType' object cannot be interpreted as an integer"
     ]
    }
   ],
   "source": [
    "X_train=X_train[40000].reshape(None,45,45,3)"
   ]
  },
  {
   "cell_type": "code",
   "execution_count": 114,
   "metadata": {},
   "outputs": [
    {
     "data": {
      "image/png": "[encoded data removed]",
      "text/plain": [
       "<Figure size 432x288 with 1 Axes>"
      ]
     },
     "metadata": {
      "needs_background": "light"
     },
     "output_type": "display_data"
    }
   ],
   "source": [
    "plt.imshow(X_train[40000])\n",
    "plt.show()"
   ]
  },
  {
   "cell_type": "code",
   "execution_count": null,
   "metadata": {},
   "outputs": [],
   "source": []
  }
 ],
 "metadata": {
  "kernelspec": {
   "display_name": "Python 3",
   "language": "python",
   "name": "python3"
  },
  "language_info": {
   "codemirror_mode": {
    "name": "ipython",
    "version": 3
   },
   "file_extension": ".py",
   "mimetype": "text/x-python",
   "name": "python",
   "nbconvert_exporter": "python",
   "pygments_lexer": "ipython3",
   "version": "3.7.0"
  }
 },
 "nbformat": 4,
 "nbformat_minor": 2
}
