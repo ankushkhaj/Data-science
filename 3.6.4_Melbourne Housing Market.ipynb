{
 "cells": [
  {
   "cell_type": "code",
   "execution_count": 1,
   "metadata": {},
   "outputs": [
    {
     "name": "stderr",
     "output_type": "stream",
     "text": [
      "C:\\Users\\ankush\\anacondanew\\lib\\site-packages\\sklearn\\cross_validation.py:41: DeprecationWarning: This module was deprecated in version 0.18 in favor of the model_selection module into which all the refactored classes and functions are moved. Also note that the interface of the new CV iterators are different from that of this module. This module will be removed in 0.20.\n",
      "  \"This module will be removed in 0.20.\", DeprecationWarning)\n",
      "C:\\Users\\ankush\\anacondanew\\lib\\site-packages\\sklearn\\grid_search.py:42: DeprecationWarning: This module was deprecated in version 0.18 in favor of the model_selection module into which all the refactored classes and functions are moved. This module will be removed in 0.20.\n",
      "  DeprecationWarning)\n",
      "C:\\Users\\ankush\\anacondanew\\lib\\site-packages\\sklearn\\ensemble\\weight_boosting.py:29: DeprecationWarning: numpy.core.umath_tests is an internal NumPy module and should not be imported. It will be removed in a future NumPy release.\n",
      "  from numpy.core.umath_tests import inner1d\n"
     ]
    }
   ],
   "source": [
    "\n",
    "import math\n",
    "import warnings\n",
    "from datetime import datetime\n",
    "start=datetime.now()\n",
    "from IPython.display import display\n",
    "from matplotlib import pyplot as plt\n",
    "import numpy as np\n",
    "import pandas as pd\n",
    "import seaborn as sns\n",
    "from sklearn import linear_model\n",
    "import statsmodels.formula.api as smf\n",
    "from sklearn.model_selection import cross_val_score\n",
    "from sklearn import neighbors\n",
    "from sklearn import tree,model_selection\n",
    "from sklearn.grid_search import GridSearchCV\n",
    "# A convenience for displaying visualizations.\n",
    "from IPython.display import Image\n",
    "from sklearn.preprocessing import StandardScaler\n",
    "from sklearn.decomposition import PCA\n",
    "from sklearn import preprocessing\n",
    "from sklearn.feature_selection import SelectKBest\n",
    "from sklearn.feature_selection import f_classif\n",
    "from sklearn.ensemble import RandomForestRegressor\n",
    "from sklearn.cross_decomposition import PLSRegression\n",
    "import seaborn as sns\n",
    "import time\n",
    "from sklearn.svm import SVR\n",
    "from sklearn.neighbors import KNeighborsRegressor\n",
    "# Display preferences.\n",
    "%matplotlib inline\n",
    "pd.options.display.float_format = '{:.3f}'.format\n",
    "\n",
    "# Suppress annoying harmless error.\n",
    "warnings.filterwarnings(\n",
    "    action=\"ignore\",\n",
    "    module=\"scipy\",\n",
    "    message=\"^internal gelsd\"\n",
    ")\n",
    "\n",
    "from sklearn import ensemble\n",
    "from sklearn.model_selection import cross_val_score\n",
    "from sklearn.ensemble import RandomForestRegressor\n",
    "start=datetime.now()\n",
    "rfc = ensemble.RandomForestClassifier()\n",
    "from sklearn.linear_model import LogisticRegression\n"
   ]
  },
  {
   "cell_type": "code",
   "execution_count": 2,
   "metadata": {},
   "outputs": [],
   "source": [
    "data=pd.read_csv('C:/Users/ankush/Desktop/Melbourne_housing_FULL.csv')"
   ]
  },
  {
   "cell_type": "code",
   "execution_count": 6,
   "metadata": {},
   "outputs": [
    {
     "data": {
      "text/html": [
       "<div>\n",
       "<style scoped>\n",
       "    .dataframe tbody tr th:only-of-type {\n",
       "        vertical-align: middle;\n",
       "    }\n",
       "\n",
       "    .dataframe tbody tr th {\n",
       "        vertical-align: top;\n",
       "    }\n",
       "\n",
       "    .dataframe thead th {\n",
       "        text-align: right;\n",
       "    }\n",
       "</style>\n",
       "<table border=\"1\" class=\"dataframe\">\n",
       "  <thead>\n",
       "    <tr style=\"text-align: right;\">\n",
       "      <th></th>\n",
       "      <th>Suburb</th>\n",
       "      <th>Address</th>\n",
       "      <th>Rooms</th>\n",
       "      <th>Type</th>\n",
       "      <th>Price</th>\n",
       "      <th>Method</th>\n",
       "      <th>SellerG</th>\n",
       "      <th>Date</th>\n",
       "      <th>Distance</th>\n",
       "      <th>Postcode</th>\n",
       "      <th>...</th>\n",
       "      <th>Bathroom</th>\n",
       "      <th>Car</th>\n",
       "      <th>Landsize</th>\n",
       "      <th>BuildingArea</th>\n",
       "      <th>YearBuilt</th>\n",
       "      <th>CouncilArea</th>\n",
       "      <th>Lattitude</th>\n",
       "      <th>Longtitude</th>\n",
       "      <th>Regionname</th>\n",
       "      <th>Propertycount</th>\n",
       "    </tr>\n",
       "  </thead>\n",
       "  <tbody>\n",
       "    <tr>\n",
       "      <th>0</th>\n",
       "      <td>Abbotsford</td>\n",
       "      <td>68 Studley St</td>\n",
       "      <td>2</td>\n",
       "      <td>h</td>\n",
       "      <td>nan</td>\n",
       "      <td>SS</td>\n",
       "      <td>Jellis</td>\n",
       "      <td>3/09/2016</td>\n",
       "      <td>2.500</td>\n",
       "      <td>3067.000</td>\n",
       "      <td>...</td>\n",
       "      <td>1.000</td>\n",
       "      <td>1.000</td>\n",
       "      <td>126.000</td>\n",
       "      <td>nan</td>\n",
       "      <td>nan</td>\n",
       "      <td>Yarra City Council</td>\n",
       "      <td>-37.801</td>\n",
       "      <td>144.996</td>\n",
       "      <td>Northern Metropolitan</td>\n",
       "      <td>4019.000</td>\n",
       "    </tr>\n",
       "    <tr>\n",
       "      <th>1</th>\n",
       "      <td>Abbotsford</td>\n",
       "      <td>85 Turner St</td>\n",
       "      <td>2</td>\n",
       "      <td>h</td>\n",
       "      <td>1480000.000</td>\n",
       "      <td>S</td>\n",
       "      <td>Biggin</td>\n",
       "      <td>3/12/2016</td>\n",
       "      <td>2.500</td>\n",
       "      <td>3067.000</td>\n",
       "      <td>...</td>\n",
       "      <td>1.000</td>\n",
       "      <td>1.000</td>\n",
       "      <td>202.000</td>\n",
       "      <td>nan</td>\n",
       "      <td>nan</td>\n",
       "      <td>Yarra City Council</td>\n",
       "      <td>-37.800</td>\n",
       "      <td>144.998</td>\n",
       "      <td>Northern Metropolitan</td>\n",
       "      <td>4019.000</td>\n",
       "    </tr>\n",
       "    <tr>\n",
       "      <th>2</th>\n",
       "      <td>Abbotsford</td>\n",
       "      <td>25 Bloomburg St</td>\n",
       "      <td>2</td>\n",
       "      <td>h</td>\n",
       "      <td>1035000.000</td>\n",
       "      <td>S</td>\n",
       "      <td>Biggin</td>\n",
       "      <td>4/02/2016</td>\n",
       "      <td>2.500</td>\n",
       "      <td>3067.000</td>\n",
       "      <td>...</td>\n",
       "      <td>1.000</td>\n",
       "      <td>0.000</td>\n",
       "      <td>156.000</td>\n",
       "      <td>79.000</td>\n",
       "      <td>1900.000</td>\n",
       "      <td>Yarra City Council</td>\n",
       "      <td>-37.808</td>\n",
       "      <td>144.993</td>\n",
       "      <td>Northern Metropolitan</td>\n",
       "      <td>4019.000</td>\n",
       "    </tr>\n",
       "    <tr>\n",
       "      <th>3</th>\n",
       "      <td>Abbotsford</td>\n",
       "      <td>18/659 Victoria St</td>\n",
       "      <td>3</td>\n",
       "      <td>u</td>\n",
       "      <td>nan</td>\n",
       "      <td>VB</td>\n",
       "      <td>Rounds</td>\n",
       "      <td>4/02/2016</td>\n",
       "      <td>2.500</td>\n",
       "      <td>3067.000</td>\n",
       "      <td>...</td>\n",
       "      <td>2.000</td>\n",
       "      <td>1.000</td>\n",
       "      <td>0.000</td>\n",
       "      <td>nan</td>\n",
       "      <td>nan</td>\n",
       "      <td>Yarra City Council</td>\n",
       "      <td>-37.811</td>\n",
       "      <td>145.012</td>\n",
       "      <td>Northern Metropolitan</td>\n",
       "      <td>4019.000</td>\n",
       "    </tr>\n",
       "    <tr>\n",
       "      <th>4</th>\n",
       "      <td>Abbotsford</td>\n",
       "      <td>5 Charles St</td>\n",
       "      <td>3</td>\n",
       "      <td>h</td>\n",
       "      <td>1465000.000</td>\n",
       "      <td>SP</td>\n",
       "      <td>Biggin</td>\n",
       "      <td>4/03/2017</td>\n",
       "      <td>2.500</td>\n",
       "      <td>3067.000</td>\n",
       "      <td>...</td>\n",
       "      <td>2.000</td>\n",
       "      <td>0.000</td>\n",
       "      <td>134.000</td>\n",
       "      <td>150.000</td>\n",
       "      <td>1900.000</td>\n",
       "      <td>Yarra City Council</td>\n",
       "      <td>-37.809</td>\n",
       "      <td>144.994</td>\n",
       "      <td>Northern Metropolitan</td>\n",
       "      <td>4019.000</td>\n",
       "    </tr>\n",
       "  </tbody>\n",
       "</table>\n",
       "<p>5 rows × 21 columns</p>\n",
       "</div>"
      ],
      "text/plain": [
       "       Suburb             Address  Rooms Type       Price Method SellerG  \\\n",
       "0  Abbotsford       68 Studley St      2    h         nan     SS  Jellis   \n",
       "1  Abbotsford        85 Turner St      2    h 1480000.000      S  Biggin   \n",
       "2  Abbotsford     25 Bloomburg St      2    h 1035000.000      S  Biggin   \n",
       "3  Abbotsford  18/659 Victoria St      3    u         nan     VB  Rounds   \n",
       "4  Abbotsford        5 Charles St      3    h 1465000.000     SP  Biggin   \n",
       "\n",
       "        Date  Distance  Postcode      ...       Bathroom   Car  Landsize  \\\n",
       "0  3/09/2016     2.500  3067.000      ...          1.000 1.000   126.000   \n",
       "1  3/12/2016     2.500  3067.000      ...          1.000 1.000   202.000   \n",
       "2  4/02/2016     2.500  3067.000      ...          1.000 0.000   156.000   \n",
       "3  4/02/2016     2.500  3067.000      ...          2.000 1.000     0.000   \n",
       "4  4/03/2017     2.500  3067.000      ...          2.000 0.000   134.000   \n",
       "\n",
       "   BuildingArea  YearBuilt         CouncilArea Lattitude  Longtitude  \\\n",
       "0           nan        nan  Yarra City Council   -37.801     144.996   \n",
       "1           nan        nan  Yarra City Council   -37.800     144.998   \n",
       "2        79.000   1900.000  Yarra City Council   -37.808     144.993   \n",
       "3           nan        nan  Yarra City Council   -37.811     145.012   \n",
       "4       150.000   1900.000  Yarra City Council   -37.809     144.994   \n",
       "\n",
       "              Regionname Propertycount  \n",
       "0  Northern Metropolitan      4019.000  \n",
       "1  Northern Metropolitan      4019.000  \n",
       "2  Northern Metropolitan      4019.000  \n",
       "3  Northern Metropolitan      4019.000  \n",
       "4  Northern Metropolitan      4019.000  \n",
       "\n",
       "[5 rows x 21 columns]"
      ]
     },
     "execution_count": 6,
     "metadata": {},
     "output_type": "execute_result"
    }
   ],
   "source": [
    "data.head()"
   ]
  },
  {
   "cell_type": "code",
   "execution_count": 96,
   "metadata": {},
   "outputs": [
    {
     "data": {
      "text/plain": [
       "Suburb           0\n",
       "Address          0\n",
       "Rooms            0\n",
       "Type             0\n",
       "Price            0\n",
       "Method           0\n",
       "SellerG          0\n",
       "Date             0\n",
       "Distance         0\n",
       "Postcode         0\n",
       "Bedroom2         0\n",
       "Bathroom         0\n",
       "Car              0\n",
       "Landsize         0\n",
       "BuildingArea     0\n",
       "YearBuilt        0\n",
       "CouncilArea      3\n",
       "Lattitude        0\n",
       "Longtitude       0\n",
       "Regionname       3\n",
       "Propertycount    3\n",
       "dtype: int64"
      ]
     },
     "execution_count": 96,
     "metadata": {},
     "output_type": "execute_result"
    }
   ],
   "source": [
    "data.isnull().sum()"
   ]
  },
  {
   "cell_type": "code",
   "execution_count": 8,
   "metadata": {},
   "outputs": [
    {
     "name": "stdout",
     "output_type": "stream",
     "text": [
      "<class 'pandas.core.frame.DataFrame'>\n",
      "RangeIndex: 34857 entries, 0 to 34856\n",
      "Data columns (total 21 columns):\n",
      "Suburb           34857 non-null object\n",
      "Address          34857 non-null object\n",
      "Rooms            34857 non-null int64\n",
      "Type             34857 non-null object\n",
      "Price            27247 non-null float64\n",
      "Method           34857 non-null object\n",
      "SellerG          34857 non-null object\n",
      "Date             34857 non-null object\n",
      "Distance         34856 non-null float64\n",
      "Postcode         34856 non-null float64\n",
      "Bedroom2         26640 non-null float64\n",
      "Bathroom         26631 non-null float64\n",
      "Car              26129 non-null float64\n",
      "Landsize         23047 non-null float64\n",
      "BuildingArea     13742 non-null float64\n",
      "YearBuilt        15551 non-null float64\n",
      "CouncilArea      34854 non-null object\n",
      "Lattitude        26881 non-null float64\n",
      "Longtitude       26881 non-null float64\n",
      "Regionname       34854 non-null object\n",
      "Propertycount    34854 non-null float64\n",
      "dtypes: float64(12), int64(1), object(8)\n",
      "memory usage: 5.6+ MB\n"
     ]
    }
   ],
   "source": [
    "data.info()"
   ]
  },
  {
   "cell_type": "code",
   "execution_count": 3,
   "metadata": {},
   "outputs": [],
   "source": [
    "#Filling in NA values for bedroom and bathroom\n",
    "data['Bedroom2'].fillna((data['Rooms']), inplace=True)\n",
    "data['Bathroom'].fillna((data['Rooms']-1), inplace=True)"
   ]
  },
  {
   "cell_type": "code",
   "execution_count": 4,
   "metadata": {},
   "outputs": [
    {
     "data": {
      "text/plain": [
       "0   1050173.345\n",
       "1   1480000.000\n",
       "2   1035000.000\n",
       "3   1050173.345\n",
       "4   1465000.000\n",
       "Name: Price, dtype: float64"
      ]
     },
     "execution_count": 4,
     "metadata": {},
     "output_type": "execute_result"
    }
   ],
   "source": [
    "data['Price'].fillna(data['Price'].mean()).head()"
   ]
  },
  {
   "cell_type": "code",
   "execution_count": 5,
   "metadata": {},
   "outputs": [],
   "source": [
    "data=data.drop(data['YearBuilt'].idxmin(),axis=0)\n"
   ]
  },
  {
   "cell_type": "code",
   "execution_count": 6,
   "metadata": {},
   "outputs": [],
   "source": [
    "data['YearBuilt'].fillna((data['YearBuilt'].mean()), inplace=True)\n",
    "data['Postcode'].fillna((data['Postcode'].mean()), inplace=True)\n",
    "data['Distance'].fillna((data['Distance'].mean()), inplace=True)\n",
    "#Fill car with mean data.\n",
    "data['Car'].fillna((data['Car'].mean()), inplace=True)\n",
    "#Fill Lattitude and Longtitude with the row above.\n",
    "data['Lattitude'].fillna(method='ffill', inplace=True)\n",
    "data['Longtitude'].fillna(method='ffill', inplace=True)\n",
    "\n",
    "#Fill landsize and building area with median data.\n",
    "data['Landsize'].fillna((data['Landsize'].median()), inplace=True)\n",
    "data['BuildingArea'].fillna((data['BuildingArea'].median()), inplace=True)\n",
    "data['Price'].fillna((data['Price'].mean()), inplace=True)"
   ]
  },
  {
   "cell_type": "code",
   "execution_count": 47,
   "metadata": {},
   "outputs": [
    {
     "name": "stdout",
     "output_type": "stream",
     "text": [
      "Index(['Suburb', 'Address', 'Rooms', 'Type', 'Price', 'Method', 'SellerG',\n",
      "       'Date', 'Distance', 'Postcode', 'Bedroom2', 'Bathroom', 'Car',\n",
      "       'Landsize', 'BuildingArea', 'YearBuilt', 'CouncilArea', 'Lattitude',\n",
      "       'Longtitude', 'Regionname', 'Propertycount'],\n",
      "      dtype='object')\n"
     ]
    }
   ],
   "source": [
    "print(data.columns)"
   ]
  },
  {
   "cell_type": "code",
   "execution_count": 9,
   "metadata": {},
   "outputs": [
    {
     "data": {
      "text/plain": [
       "Index(['Rooms', 'Price', 'Distance', 'Postcode', 'Bedroom2', 'Bathroom', 'Car',\n",
       "       'Landsize', 'BuildingArea', 'YearBuilt', 'Lattitude', 'Longtitude'],\n",
       "      dtype='object')"
      ]
     },
     "execution_count": 9,
     "metadata": {},
     "output_type": "execute_result"
    }
   ],
   "source": [
    "data1=data.drop(['Suburb','Address','SellerG','Date','CouncilArea','Regionname', 'Propertycount','Type','Method'],axis=1)\n",
    "data1.columns\n"
   ]
  },
  {
   "cell_type": "code",
   "execution_count": 10,
   "metadata": {},
   "outputs": [],
   "source": [
    "data2=data1.drop(['Price'],axis=1)\n"
   ]
  },
  {
   "cell_type": "markdown",
   "metadata": {},
   "source": [
    "# Exploring the data"
   ]
  },
  {
   "cell_type": "code",
   "execution_count": 75,
   "metadata": {},
   "outputs": [
    {
     "name": "stderr",
     "output_type": "stream",
     "text": [
      "C:\\Users\\ankush\\anacondanew\\lib\\site-packages\\scipy\\stats\\stats.py:1713: FutureWarning: Using a non-tuple sequence for multidimensional indexing is deprecated; use `arr[tuple(seq)]` instead of `arr[seq]`. In the future this will be interpreted as an array index, `arr[np.array(seq)]`, which will result either in an error or a different result.\n",
      "  return np.add.reduce(sorted[indexer] * weights, axis=axis) / sumval\n"
     ]
    },
    {
     "data": {
      "image/png": "[encoded data removed]",
      "text/plain": [
       "<Figure size 1152x504 with 1 Axes>"
      ]
     },
     "metadata": {
      "needs_background": "light"
     },
     "output_type": "display_data"
    }
   ],
   "source": [
    "plt.figure(figsize=(16,7))\n",
    "sns.distplot(data1['Price'], kde = False,hist_kws=dict(edgecolor=\"k\"))\n",
    "plt.title('Distribution of Price of Melbourne Homes')\n",
    "plt.show()"
   ]
  },
  {
   "cell_type": "markdown",
   "metadata": {},
   "source": [
    "The housing prices seem to be normally distributed, there is no abnormality"
   ]
  },
  {
   "cell_type": "code",
   "execution_count": 73,
   "metadata": {},
   "outputs": [
    {
     "data": {
      "image/png": "[encoded data removed]",
      "text/plain": [
       "<Figure size 1080x720 with 11 Axes>"
      ]
     },
     "metadata": {
      "needs_background": "light"
     },
     "output_type": "display_data"
    }
   ],
   "source": [
    "plt.figure(figsize=(15,10))\n",
    "i=1\n",
    "for col in data2.columns:\n",
    "    plt.subplot(3,4,i)\n",
    "    sns.scatterplot(data2[col],data1['Price'])\n",
    "    plt.xlabel(col)\n",
    "    plt.ylabel('Price')\n",
    "    plt.title('Price vs. {}'.format(col))\n",
    "    i+=1\n",
    "plt.tight_layout()"
   ]
  },
  {
   "cell_type": "markdown",
   "metadata": {},
   "source": [
    "There are few things to be noticed-\n",
    "\n",
    "1.Mojority of houses are in between 3000 to 3200 zipcode.\n",
    "\n",
    "2.Majorirty of houses have 4-5 bedrooms\n",
    "\n",
    "3.As rooms/bedrooms increase,price is also increasing\n"
   ]
  },
  {
   "cell_type": "code",
   "execution_count": 83,
   "metadata": {},
   "outputs": [
    {
     "data": {
      "text/plain": [
       "count      34854.000\n",
       "mean     1050179.964\n",
       "std       567156.814\n",
       "min        85000.000\n",
       "25%       695000.000\n",
       "50%      1050179.964\n",
       "75%      1150000.000\n",
       "max     11200000.000\n",
       "Name: Price, dtype: float64"
      ]
     },
     "execution_count": 83,
     "metadata": {},
     "output_type": "execute_result"
    }
   ],
   "source": [
    "data1['Price'].describe()\n"
   ]
  },
  {
   "cell_type": "markdown",
   "metadata": {},
   "source": [
    "The above shows the mean price of housing is around 1 AUD"
   ]
  },
  {
   "cell_type": "code",
   "execution_count": 84,
   "metadata": {
    "scrolled": true
   },
   "outputs": [
    {
     "data": {
      "text/plain": [
       "Text(0.5,1,'Variable Correlation')"
      ]
     },
     "execution_count": 84,
     "metadata": {},
     "output_type": "execute_result"
    },
    {
     "data": {
      "image/png": "[encoded data removed]",
      "text/plain": [
       "<Figure size 720x432 with 2 Axes>"
      ]
     },
     "metadata": {
      "needs_background": "light"
     },
     "output_type": "display_data"
    }
   ],
   "source": [
    "plt.figure(figsize=(10,6))\n",
    "sns.heatmap(data1.corr(),linewidth = 1,annot= True, annot_kws={\"size\": 9})\n",
    "plt.title('Variable Correlation')"
   ]
  },
  {
   "cell_type": "markdown",
   "metadata": {},
   "source": [
    "### Few things are noticed with the heatmap-\n",
    "#### Weak Positive Correlation\n",
    "\n",
    "Year Built and Price\n",
    "\n",
    "#### Moderate Positive Correlation\n",
    "\n",
    "Rooms and Price\n",
    "\n",
    "Bathrooms and Price\n",
    "\n",
    "Bathroom and Bedroom\n",
    "\n",
    "Price and Distance\n",
    "\n"
   ]
  },
  {
   "cell_type": "markdown",
   "metadata": {},
   "source": [
    "Since we have done some analysis about the features and their relation with the outcome variable prices,lets go ahead with using models to check the accuracy now."
   ]
  },
  {
   "cell_type": "code",
   "execution_count": 8,
   "metadata": {},
   "outputs": [],
   "source": [
    "X=data.drop(['Suburb','Address','SellerG','Date','CouncilArea','Regionname', 'Propertycount','Type','Method','Price'],axis=1)\n",
    "Y=data['Price']\n",
    "from sklearn.model_selection import train_test_split\n",
    "X_train, X_test, y_train, y_test = train_test_split(X, Y, test_size=0.20)"
   ]
  },
  {
   "cell_type": "markdown",
   "metadata": {},
   "source": [
    "# Regression Models"
   ]
  },
  {
   "cell_type": "markdown",
   "metadata": {},
   "source": [
    "## 1.Linear Regression"
   ]
  },
  {
   "cell_type": "code",
   "execution_count": 169,
   "metadata": {},
   "outputs": [
    {
     "name": "stdout",
     "output_type": "stream",
     "text": [
      "Coefficients: \n",
      " [ 2.13750173e+05 -3.26159698e+04  6.21994767e+02  5.05331226e+03\n",
      "  9.94110093e+04  4.95418320e+04  5.04778830e+00  6.16514336e+01\n",
      " -3.17371161e+03 -8.80113253e+05  4.48595017e+05]\n",
      "Intercept: \n",
      " -93539122.89478436\n",
      "R-squared : 0.35615342277384954\n"
     ]
    }
   ],
   "source": [
    "regr = linear_model.LinearRegression()\n",
    "\n",
    "# Fit our model to our data.\n",
    "regr.fit(X_train, y_train)\n",
    "\n",
    "# Display the attributes we calculated.\n",
    "print('Coefficients: \\n', regr.coef_)\n",
    "print('Intercept: \\n', regr.intercept_)\n",
    "print(\"R-squared :\",regr.score(X_train, y_train))"
   ]
  },
  {
   "cell_type": "markdown",
   "metadata": {},
   "source": [
    "R-squared is on the lower side, so we decided to add 2 dummy variables which will help us to improve R-squared"
   ]
  },
  {
   "cell_type": "code",
   "execution_count": 170,
   "metadata": {},
   "outputs": [],
   "source": [
    "data['Car_dummy']=np.where(data['Car']>0,1,0)\n",
    "data['Price_dummy']=np.where(data['Price']>1000000,1,0)\n"
   ]
  },
  {
   "cell_type": "code",
   "execution_count": 171,
   "metadata": {},
   "outputs": [
    {
     "name": "stdout",
     "output_type": "stream",
     "text": [
      "Coefficients: \n",
      " [ 1.10323259e+05 -1.91125777e+04  3.59588646e+02  1.70967853e+04\n",
      "  7.45610061e+04  4.66220811e+04  3.41536644e+00  3.78017233e+01\n",
      " -1.81736938e+03 -4.37520711e+05  2.02581714e+05 -4.94773057e+04\n",
      "  4.86442645e+05]\n",
      "Intercept: \n",
      " -43011966.19201135\n",
      "R-squared : 0.48668101352408943\n"
     ]
    }
   ],
   "source": [
    "X=data.drop(['Suburb','Address','SellerG','Date','CouncilArea','Regionname', 'Propertycount','Type','Method','Price'],axis=1)\n",
    "Y=data['Price']\n",
    "from sklearn.model_selection import train_test_split\n",
    "X_train, X_test, y_train, y_test = train_test_split(X, Y, test_size=0.20)\n",
    "# Fit our model to our data.\n",
    "regr.fit(X_train, y_train)\n",
    "\n",
    "# Display the attributes we calculated.\n",
    "print('Coefficients: \\n', regr.coef_)\n",
    "print('Intercept: \\n', regr.intercept_)\n",
    "print(\"R-squared :\",regr.score(X_train, y_train))"
   ]
  },
  {
   "cell_type": "markdown",
   "metadata": {},
   "source": [
    "If notice above,R-squared seems improved"
   ]
  },
  {
   "cell_type": "code",
   "execution_count": 174,
   "metadata": {},
   "outputs": [
    {
     "name": "stdout",
     "output_type": "stream",
     "text": [
      "[{'copy_X': True, 'fit_intercept': True, 'normalize': True}, {'copy_X': True, 'fit_intercept': True, 'normalize': False}, {'copy_X': True, 'fit_intercept': False, 'normalize': True}, {'copy_X': True, 'fit_intercept': False, 'normalize': False}, {'copy_X': False, 'fit_intercept': True, 'normalize': True}, {'copy_X': False, 'fit_intercept': True, 'normalize': False}, {'copy_X': False, 'fit_intercept': False, 'normalize': True}, {'copy_X': False, 'fit_intercept': False, 'normalize': False}]\n",
      "[0.37387574 0.37387574 0.36916528 0.36916528 0.37387574 0.37387574\n",
      " 0.36916528 0.36916528]\n",
      "[0.48719265 0.48719265 0.48400382 0.48400382 0.48719265 0.48719265\n",
      " 0.48400382 0.48400382]\n",
      "Best Hyper Parameters:\n",
      " {'copy_X': True, 'fit_intercept': True, 'normalize': True}\n",
      "0.3738757401569352\n",
      "LinearRegression(copy_X=True, fit_intercept=True, n_jobs=1, normalize=True)\n"
     ]
    },
    {
     "name": "stderr",
     "output_type": "stream",
     "text": [
      "C:\\Users\\ankush\\anacondanew\\lib\\site-packages\\sklearn\\utils\\deprecation.py:122: FutureWarning: You are accessing a training score ('mean_train_score'), which will not be available by default any more in 0.21. If you need training scores, please set return_train_score=True\n",
      "  warnings.warn(*warn_args, **warn_kwargs)\n"
     ]
    }
   ],
   "source": [
    "parameters = {'fit_intercept':[True,False], 'normalize':[True,False], 'copy_X':[True, False]}\n",
    "grid_class = model_selection.GridSearchCV(regr,parameters, cv=10)\n",
    "\n",
    "grid_class.fit(X_train,y_train)\n",
    "#The best hyper parameters set\n",
    "\n",
    "results = grid_class.cv_results_\n",
    "print(results.get('params'))\n",
    "print(results.get('mean_test_score'))\n",
    "print(results.get('mean_train_score'))\n",
    "print(\"Best Hyper Parameters:\\n\",grid_class.best_params_)\n",
    "print(grid_class.best_score_)\n",
    "final_model = grid_class.best_estimator_\n",
    "print(final_model)\n"
   ]
  },
  {
   "cell_type": "code",
   "execution_count": 186,
   "metadata": {},
   "outputs": [
    {
     "name": "stdout",
     "output_type": "stream",
     "text": [
      "Training Data accuracy:  [-0.04874703  0.46563733  0.47421279  0.48367312  0.50635125]\n",
      "Testing Data accuracy:  [0.51513319 0.52997135 0.47247786 0.48866262 0.49697274]\n"
     ]
    }
   ],
   "source": [
    "#Cross Validation\n",
    "from sklearn.model_selection import cross_val_score\n",
    "print (\"Training Data accuracy: \",cross_val_score(grid_class, X_train,y_train, cv=5))\n",
    "print (\"Testing Data accuracy: \",cross_val_score(grid_class, X_test,y_test, cv=5))"
   ]
  },
  {
   "cell_type": "code",
   "execution_count": 179,
   "metadata": {},
   "outputs": [
    {
     "name": "stdout",
     "output_type": "stream",
     "text": [
      "R-squared : 0.48668101352408955\n"
     ]
    }
   ],
   "source": [
    "print(\"R-squared :\",grid_class.score(X_train, y_train))"
   ]
  },
  {
   "cell_type": "markdown",
   "metadata": {},
   "source": [
    "After using gridsearch and getting the best parameters, thr accuracy didnot change .Accuracy score is  a little low."
   ]
  },
  {
   "cell_type": "code",
   "execution_count": 181,
   "metadata": {},
   "outputs": [
    {
     "name": "stderr",
     "output_type": "stream",
     "text": [
      "C:\\Users\\ankush\\anacondanew\\lib\\site-packages\\sklearn\\metrics\\scorer.py:100: DeprecationWarning: Scoring method mean_squared_error was renamed to neg_mean_squared_error in version 0.18 and will be removed in 0.20.\n",
      "  sample_weight=sample_weight)\n",
      "C:\\Users\\ankush\\anacondanew\\lib\\site-packages\\sklearn\\metrics\\scorer.py:100: DeprecationWarning: Scoring method mean_squared_error was renamed to neg_mean_squared_error in version 0.18 and will be removed in 0.20.\n",
      "  sample_weight=sample_weight)\n"
     ]
    },
    {
     "name": "stdout",
     "output_type": "stream",
     "text": [
      "Mean square Error:  [-2.62196100e+11 -1.69591810e+11 -1.56841415e+11]\n"
     ]
    },
    {
     "name": "stderr",
     "output_type": "stream",
     "text": [
      "C:\\Users\\ankush\\anacondanew\\lib\\site-packages\\sklearn\\metrics\\scorer.py:100: DeprecationWarning: Scoring method mean_squared_error was renamed to neg_mean_squared_error in version 0.18 and will be removed in 0.20.\n",
      "  sample_weight=sample_weight)\n"
     ]
    }
   ],
   "source": [
    "print(\"Mean square Error: \",cross_val_score(grid_class, X_train, y_train, cv=3, scoring='mean_squared_error'))"
   ]
  },
  {
   "cell_type": "markdown",
   "metadata": {},
   "source": [
    "This could be because of overfitting,lets use partial least squares regression for dimension reduction.This might help to improve R-Squared"
   ]
  },
  {
   "cell_type": "markdown",
   "metadata": {},
   "source": [
    "## PLS Dimension Reduction"
   ]
  },
  {
   "cell_type": "code",
   "execution_count": 184,
   "metadata": {},
   "outputs": [
    {
     "name": "stdout",
     "output_type": "stream",
     "text": [
      "R-squared PLSR: 0.4853366327945259\n"
     ]
    }
   ],
   "source": [
    "# Fit a linear model using Partial Least Squares Regression.\n",
    "# Reduce feature space to 3 dimensions.\n",
    "pls1 = PLSRegression(n_components=3)\n",
    "\n",
    "# Reduce X to R(X) and regress on y.\n",
    "pls1.fit(X_train, y_train)\n",
    "\n",
    "# Save predicted values.\n",
    "Y_PLS_pred = pls1.predict(X_train)\n",
    "print('R-squared PLSR:', pls1.score(X_train, y_train))"
   ]
  },
  {
   "cell_type": "code",
   "execution_count": 188,
   "metadata": {},
   "outputs": [
    {
     "name": "stdout",
     "output_type": "stream",
     "text": [
      "Mean square Error:  [-2.76319468e+11 -1.69852632e+11 -1.57215290e+11]\n"
     ]
    },
    {
     "name": "stderr",
     "output_type": "stream",
     "text": [
      "C:\\Users\\ankush\\anacondanew\\lib\\site-packages\\sklearn\\metrics\\scorer.py:100: DeprecationWarning: Scoring method mean_squared_error was renamed to neg_mean_squared_error in version 0.18 and will be removed in 0.20.\n",
      "  sample_weight=sample_weight)\n",
      "C:\\Users\\ankush\\anacondanew\\lib\\site-packages\\sklearn\\metrics\\scorer.py:100: DeprecationWarning: Scoring method mean_squared_error was renamed to neg_mean_squared_error in version 0.18 and will be removed in 0.20.\n",
      "  sample_weight=sample_weight)\n",
      "C:\\Users\\ankush\\anacondanew\\lib\\site-packages\\sklearn\\metrics\\scorer.py:100: DeprecationWarning: Scoring method mean_squared_error was renamed to neg_mean_squared_error in version 0.18 and will be removed in 0.20.\n",
      "  sample_weight=sample_weight)\n"
     ]
    }
   ],
   "source": [
    "print(\"Mean square Error: \",cross_val_score(pls1, X_train, y_train, cv=3, scoring='mean_squared_error'))"
   ]
  },
  {
   "cell_type": "markdown",
   "metadata": {},
   "source": [
    "Even using PLS  didnot impove the accuracy of the model.Also, there seems to be overfitting in the features.Now, lets use selectkbest(SKB) to see if it impproves the accuracy after dimension reduction"
   ]
  },
  {
   "cell_type": "markdown",
   "metadata": {},
   "source": [
    "## SKB"
   ]
  },
  {
   "cell_type": "code",
   "execution_count": 189,
   "metadata": {},
   "outputs": [],
   "source": [
    "#selectkbest to get the scores of the best parameters\n",
    "from sklearn.feature_selection import SelectKBest\n",
    "from sklearn.feature_selection import f_regression\n",
    "skb_test = SelectKBest(score_func=f_regression,k=3)\n",
    "X_train_kbest = skb_test.fit_transform(X_train, y_train)\n"
   ]
  },
  {
   "cell_type": "code",
   "execution_count": 190,
   "metadata": {},
   "outputs": [
    {
     "name": "stderr",
     "output_type": "stream",
     "text": [
      "C:\\Users\\ankush\\anacondanew\\lib\\site-packages\\sklearn\\feature_selection\\univariate_selection.py:114: RuntimeWarning: divide by zero encountered in true_divide\n",
      "  f = msb / msw\n"
     ]
    }
   ],
   "source": [
    "#Gridsearchcv\n",
    "skb = SelectKBest(k=3)\n",
    "skb.fit(X_train, y_train)\n",
    "X_train_skb = skb.transform(X_train)\n",
    "X_test_skb = skb.transform(X_test)"
   ]
  },
  {
   "cell_type": "markdown",
   "metadata": {},
   "source": [
    "Now,we will gridsearchcv to get the best set of parameters"
   ]
  },
  {
   "cell_type": "code",
   "execution_count": 193,
   "metadata": {},
   "outputs": [
    {
     "name": "stdout",
     "output_type": "stream",
     "text": [
      "[{'copy_X': True, 'fit_intercept': True, 'normalize': True}, {'copy_X': True, 'fit_intercept': True, 'normalize': False}, {'copy_X': True, 'fit_intercept': False, 'normalize': True}, {'copy_X': True, 'fit_intercept': False, 'normalize': False}, {'copy_X': False, 'fit_intercept': True, 'normalize': True}, {'copy_X': False, 'fit_intercept': True, 'normalize': False}, {'copy_X': False, 'fit_intercept': False, 'normalize': True}, {'copy_X': False, 'fit_intercept': False, 'normalize': False}]\n",
      "[0.43244167 0.43244167 0.40275156 0.40275156 0.43244167 0.43244167\n",
      " 0.40275156 0.40275156]\n",
      "[ 0.43214366  0.43214366  0.40255646  0.40255646 -1.64707891 -1.22504345\n",
      "  0.40255646  0.40255646]\n",
      "{'copy_X': True, 'fit_intercept': True, 'normalize': True}\n",
      "0.43244166701872877\n",
      "LinearRegression(copy_X=True, fit_intercept=True, n_jobs=1, normalize=True)\n"
     ]
    },
    {
     "name": "stderr",
     "output_type": "stream",
     "text": [
      "C:\\Users\\ankush\\anacondanew\\lib\\site-packages\\sklearn\\utils\\deprecation.py:122: FutureWarning: You are accessing a training score ('mean_train_score'), which will not be available by default any more in 0.21. If you need training scores, please set return_train_score=True\n",
      "  warnings.warn(*warn_args, **warn_kwargs)\n"
     ]
    }
   ],
   "source": [
    "dt_grid = {'fit_intercept':[True,False], 'normalize':[True,False], 'copy_X':[True, False]}\n",
    "grid_DT_skb=model_selection.GridSearchCV(regr,dt_grid,cv=6)\n",
    "grid_DT_skb.fit(X_train_skb, y_train)\n",
    "\n",
    "#grid_class_pca=model_selection.GridSearchCV(random_f_pca,dt_grid_pca,refit=True,return_train_score=True)\n",
    "#grid_class_pca.fit(X_train_pca, y_train_pca)\n",
    "#Displaying the parameters using Grid search\n",
    "results_skb = grid_DT_skb.cv_results_\n",
    "print(results_skb.get('params'))\n",
    "print(results_skb.get('mean_test_score'))\n",
    "print(results_skb.get('mean_train_score'))\n",
    "print(grid_DT_skb.best_params_)\n",
    "print(grid_DT_skb.best_score_)\n",
    "final_model = grid_DT_skb.best_estimator_\n",
    "print(final_model)"
   ]
  },
  {
   "cell_type": "code",
   "execution_count": 195,
   "metadata": {},
   "outputs": [
    {
     "name": "stdout",
     "output_type": "stream",
     "text": [
      "R-squared after SKB: 0.4321152826821323\n"
     ]
    }
   ],
   "source": [
    "print('R-squared after SKB:', grid_DT_skb.score(X_train_skb, y_train))"
   ]
  },
  {
   "cell_type": "code",
   "execution_count": 197,
   "metadata": {},
   "outputs": [
    {
     "name": "stderr",
     "output_type": "stream",
     "text": [
      "C:\\Users\\ankush\\anacondanew\\lib\\site-packages\\sklearn\\metrics\\scorer.py:100: DeprecationWarning: Scoring method mean_squared_error was renamed to neg_mean_squared_error in version 0.18 and will be removed in 0.20.\n",
      "  sample_weight=sample_weight)\n",
      "C:\\Users\\ankush\\anacondanew\\lib\\site-packages\\sklearn\\metrics\\scorer.py:100: DeprecationWarning: Scoring method mean_squared_error was renamed to neg_mean_squared_error in version 0.18 and will be removed in 0.20.\n",
      "  sample_weight=sample_weight)\n"
     ]
    },
    {
     "name": "stdout",
     "output_type": "stream",
     "text": [
      "Mean square Error:  [-1.86347646e+11 -1.86196591e+11 -1.74918435e+11]\n"
     ]
    },
    {
     "name": "stderr",
     "output_type": "stream",
     "text": [
      "C:\\Users\\ankush\\anacondanew\\lib\\site-packages\\sklearn\\metrics\\scorer.py:100: DeprecationWarning: Scoring method mean_squared_error was renamed to neg_mean_squared_error in version 0.18 and will be removed in 0.20.\n",
      "  sample_weight=sample_weight)\n"
     ]
    }
   ],
   "source": [
    "print(\"Mean square Error: \",cross_val_score(grid_DT_skb, X_train_skb, y_train, cv=3, scoring='mean_squared_error'))"
   ]
  },
  {
   "cell_type": "markdown",
   "metadata": {},
   "source": [
    "R-squared and mean squared are not good as we expected after using SKB.Lets go to KNN Regression model"
   ]
  },
  {
   "cell_type": "markdown",
   "metadata": {},
   "source": [
    "# KNN Regression Model"
   ]
  },
  {
   "cell_type": "code",
   "execution_count": 211,
   "metadata": {},
   "outputs": [
    {
     "data": {
      "text/plain": [
       "KNeighborsRegressor(algorithm='auto', leaf_size=30, metric='minkowski',\n",
       "          metric_params=None, n_jobs=1, n_neighbors=10, p=2,\n",
       "          weights='distance')"
      ]
     },
     "execution_count": 211,
     "metadata": {},
     "output_type": "execute_result"
    }
   ],
   "source": [
    "from sklearn import neighbors\n",
    "\n",
    "# Build our model.\n",
    "knn = neighbors.KNeighborsRegressor(n_neighbors=10)\n",
    "knn.fit(X_train, y_train)\n",
    "\n",
    "# Trailing underscores are a common convention for a prediction.\n",
    "#Y_ = knn.predict(y_train)\n",
    "\n",
    "knn_w = neighbors.KNeighborsRegressor(n_neighbors=10, weights='distance')\n",
    "knn_w.fit(X_train, y_train)\n",
    "#Y_w = knn_w.predict(y_train)"
   ]
  },
  {
   "cell_type": "code",
   "execution_count": 212,
   "metadata": {},
   "outputs": [
    {
     "name": "stdout",
     "output_type": "stream",
     "text": [
      "Unweighted Accuracy: 0.36 (+/- 0.03)\n",
      "Weighted Accuracy: 0.36 (+/- 0.04)\n"
     ]
    }
   ],
   "source": [
    "score = cross_val_score(knn, X_train, y_train, cv=5)\n",
    "print(\"Unweighted Accuracy: %0.2f (+/- %0.2f)\" % (score.mean(), score.std() * 2))\n",
    "score_w = cross_val_score(knn_w, X_train, y_train, cv=5)\n",
    "print(\"Weighted Accuracy: %0.2f (+/- %0.2f)\" % (score_w.mean(), score_w.std() * 2))"
   ]
  },
  {
   "cell_type": "code",
   "execution_count": 215,
   "metadata": {},
   "outputs": [
    {
     "name": "stdout",
     "output_type": "stream",
     "text": [
      "R-squared : 0.4958018278327544\n"
     ]
    }
   ],
   "source": [
    "print(\"R-squared :\",knn.score(X_train, y_train))"
   ]
  },
  {
   "cell_type": "code",
   "execution_count": 232,
   "metadata": {},
   "outputs": [
    {
     "name": "stderr",
     "output_type": "stream",
     "text": [
      "C:\\Users\\ankush\\anacondanew\\lib\\site-packages\\sklearn\\metrics\\scorer.py:100: DeprecationWarning: Scoring method mean_squared_error was renamed to neg_mean_squared_error in version 0.18 and will be removed in 0.20.\n",
      "  sample_weight=sample_weight)\n",
      "C:\\Users\\ankush\\anacondanew\\lib\\site-packages\\sklearn\\metrics\\scorer.py:100: DeprecationWarning: Scoring method mean_squared_error was renamed to neg_mean_squared_error in version 0.18 and will be removed in 0.20.\n",
      "  sample_weight=sample_weight)\n",
      "C:\\Users\\ankush\\anacondanew\\lib\\site-packages\\sklearn\\metrics\\scorer.py:100: DeprecationWarning: Scoring method mean_squared_error was renamed to neg_mean_squared_error in version 0.18 and will be removed in 0.20.\n",
      "  sample_weight=sample_weight)\n"
     ]
    },
    {
     "name": "stdout",
     "output_type": "stream",
     "text": [
      "Mean square Error:  [-2.12107017e+11 -2.09448250e+11 -1.97475809e+11]\n"
     ]
    }
   ],
   "source": [
    "print(\"Mean square Error: \",cross_val_score(knn, X_train, y_train, cv=3, scoring='mean_squared_error'))"
   ]
  },
  {
   "cell_type": "markdown",
   "metadata": {},
   "source": [
    "If we observe above, accuracy score  is low and R-squared is also low and Mean square error is ok.Now,we will use gridsearchcv to get the best parameters"
   ]
  },
  {
   "cell_type": "code",
   "execution_count": 225,
   "metadata": {},
   "outputs": [
    {
     "name": "stdout",
     "output_type": "stream",
     "text": [
      "[{'n_neighbors': 1}, {'n_neighbors': 2}, {'n_neighbors': 3}, {'n_neighbors': 4}, {'n_neighbors': 5}, {'n_neighbors': 6}, {'n_neighbors': 7}, {'n_neighbors': 8}, {'n_neighbors': 9}, {'n_neighbors': 10}]\n",
      "[-0.0018874   0.21866355  0.27989577  0.31261034  0.33848308  0.35342105\n",
      "  0.36115826  0.36568827  0.36754275  0.36870367]\n",
      "[0.98451719 0.749347   0.65602188 0.60288905 0.57161696 0.54855269\n",
      " 0.53063778 0.51561372 0.50334653 0.49279549]\n",
      "{'copy_X': True, 'fit_intercept': True, 'normalize': True}\n",
      "0.3687036659005452\n",
      "KNeighborsRegressor(algorithm='auto', leaf_size=30, metric='minkowski',\n",
      "          metric_params=None, n_jobs=1, n_neighbors=10, p=2,\n",
      "          weights='uniform')\n"
     ]
    },
    {
     "name": "stderr",
     "output_type": "stream",
     "text": [
      "C:\\Users\\ankush\\anacondanew\\lib\\site-packages\\sklearn\\utils\\deprecation.py:122: FutureWarning: You are accessing a training score ('mean_train_score'), which will not be available by default any more in 0.21. If you need training scores, please set return_train_score=True\n",
      "  warnings.warn(*warn_args, **warn_kwargs)\n"
     ]
    }
   ],
   "source": [
    "param_grid = {'n_neighbors':[1,2,3,4,5,6,7,8,9,10]}\n",
    "grid_class = model_selection.GridSearchCV(knn, param_grid, cv=10)\n",
    "grid_class.fit(X_train, y_train)\n",
    "results = grid_class.cv_results_\n",
    "print(results.get('params'))\n",
    "print(results.get('mean_test_score'))\n",
    "print(results.get('mean_train_score'))\n",
    "print(grid_DT_skb.best_params_)\n",
    "print(grid_class.best_score_)\n",
    "final_model = grid_class.best_estimator_\n",
    "print(final_model)"
   ]
  },
  {
   "cell_type": "markdown",
   "metadata": {},
   "source": [
    "Using Dimension Reduction PCA to reduce the components as below"
   ]
  },
  {
   "cell_type": "code",
   "execution_count": 227,
   "metadata": {},
   "outputs": [],
   "source": [
    "X_pca = PCA(n_components=3)\n",
    "X_pca.fit(X_train)\n",
    "X_train_pca = X_pca.transform(X_train)\n",
    "X_test_pca = X_pca.transform(X_test)"
   ]
  },
  {
   "cell_type": "code",
   "execution_count": 228,
   "metadata": {},
   "outputs": [
    {
     "name": "stdout",
     "output_type": "stream",
     "text": [
      "The percentage of total variance in the dataset explained by each component from Sklearn PCA.\n",
      " [0.9908078  0.00786567 0.00125889]\n"
     ]
    }
   ],
   "source": [
    "\n",
    "print(\n",
    "    'The percentage of total variance in the dataset explained by each',\n",
    "    'component from Sklearn PCA.\\n',\n",
    "    X_pca.explained_variance_ratio_\n",
    ")"
   ]
  },
  {
   "cell_type": "markdown",
   "metadata": {},
   "source": [
    "By using PCA, we can see 3 features are closely correlated to the output variable so we will keep them Now we will use these models after doing PCA-\n",
    "\n",
    "1.GridsearchCV\n",
    "\n",
    "2.R-squared\n",
    "\n",
    "3.Mean Square Error"
   ]
  },
  {
   "cell_type": "code",
   "execution_count": 229,
   "metadata": {},
   "outputs": [
    {
     "name": "stdout",
     "output_type": "stream",
     "text": [
      "[{'n_neighbors': 1}, {'n_neighbors': 2}, {'n_neighbors': 3}, {'n_neighbors': 4}, {'n_neighbors': 5}, {'n_neighbors': 6}, {'n_neighbors': 7}, {'n_neighbors': 8}, {'n_neighbors': 9}, {'n_neighbors': 10}]\n",
      "[-0.17457604  0.10112331  0.1839159   0.22539551  0.2525312   0.26332051\n",
      "  0.27288388  0.28079015  0.28516347  0.28967983]\n",
      "[0.98369103 0.70985077 0.60451389 0.54904212 0.51208525 0.48623822\n",
      " 0.46580304 0.44921706 0.43575583 0.42485942]\n",
      "{'n_neighbors': 10}\n",
      "0.28967983432072353\n",
      "KNeighborsRegressor(algorithm='auto', leaf_size=30, metric='minkowski',\n",
      "          metric_params=None, n_jobs=1, n_neighbors=10, p=2,\n",
      "          weights='uniform')\n"
     ]
    },
    {
     "name": "stderr",
     "output_type": "stream",
     "text": [
      "C:\\Users\\ankush\\anacondanew\\lib\\site-packages\\sklearn\\utils\\deprecation.py:122: FutureWarning: You are accessing a training score ('mean_train_score'), which will not be available by default any more in 0.21. If you need training scores, please set return_train_score=True\n",
      "  warnings.warn(*warn_args, **warn_kwargs)\n"
     ]
    }
   ],
   "source": [
    "#Gridsearchcv to get the best parameters\n",
    "param_grid = {'n_neighbors':[1,2,3,4,5,6,7,8,9,10]}\n",
    "grid_class = model_selection.GridSearchCV(knn, param_grid, cv=10)\n",
    "grid_class.fit(X_train_pca, y_train)\n",
    "results = grid_class.cv_results_\n",
    "print(results.get('params'))\n",
    "print(results.get('mean_test_score'))\n",
    "print(results.get('mean_train_score'))\n",
    "print(grid_class.best_params_)\n",
    "print(grid_class.best_score_)\n",
    "final_model = grid_class.best_estimator_\n",
    "print(final_model)"
   ]
  },
  {
   "cell_type": "code",
   "execution_count": 231,
   "metadata": {},
   "outputs": [
    {
     "name": "stdout",
     "output_type": "stream",
     "text": [
      "R-squared : 0.42850340651250507\n"
     ]
    }
   ],
   "source": [
    "#R-squared\n",
    "print(\"R-squared :\",grid_class.score(X_train_pca, y_train))\n"
   ]
  },
  {
   "cell_type": "code",
   "execution_count": 233,
   "metadata": {},
   "outputs": [
    {
     "name": "stderr",
     "output_type": "stream",
     "text": [
      "C:\\Users\\ankush\\anacondanew\\lib\\site-packages\\sklearn\\metrics\\scorer.py:100: DeprecationWarning: Scoring method mean_squared_error was renamed to neg_mean_squared_error in version 0.18 and will be removed in 0.20.\n",
      "  sample_weight=sample_weight)\n",
      "C:\\Users\\ankush\\anacondanew\\lib\\site-packages\\sklearn\\metrics\\scorer.py:100: DeprecationWarning: Scoring method mean_squared_error was renamed to neg_mean_squared_error in version 0.18 and will be removed in 0.20.\n",
      "  sample_weight=sample_weight)\n"
     ]
    },
    {
     "name": "stdout",
     "output_type": "stream",
     "text": [
      "Mean square Error:  [-2.38392920e+11 -2.36595682e+11 -2.27254245e+11]\n"
     ]
    },
    {
     "name": "stderr",
     "output_type": "stream",
     "text": [
      "C:\\Users\\ankush\\anacondanew\\lib\\site-packages\\sklearn\\metrics\\scorer.py:100: DeprecationWarning: Scoring method mean_squared_error was renamed to neg_mean_squared_error in version 0.18 and will be removed in 0.20.\n",
      "  sample_weight=sample_weight)\n"
     ]
    }
   ],
   "source": [
    "print(\"Mean square Error: \",cross_val_score(grid_class, X_train_pca, y_train, cv=3, scoring='mean_squared_error'))"
   ]
  },
  {
   "cell_type": "code",
   "execution_count": 235,
   "metadata": {},
   "outputs": [
    {
     "name": "stdout",
     "output_type": "stream",
     "text": [
      "[0.26698853 0.27239491 0.29802    0.27386288 0.30511362]\n"
     ]
    }
   ],
   "source": [
    "print(cross_val_score(grid_class, X_train_pca, y_train, cv=5))\n"
   ]
  },
  {
   "cell_type": "markdown",
   "metadata": {},
   "source": [
    "If we observe above, accuracy score is low and R-squared is also low and Mean square error is ok.Also, there seems to be overfitting in the features.Now, lets use selectkbest(SKB) to see if it impproves the accuracy after dimension reduction"
   ]
  },
  {
   "cell_type": "code",
   "execution_count": 236,
   "metadata": {},
   "outputs": [],
   "source": [
    "#selectkbest to get the scores of the best parameters\n",
    "from sklearn.feature_selection import SelectKBest\n",
    "from sklearn.feature_selection import f_regression\n",
    "skb_test = SelectKBest(score_func=f_regression,k=3)\n",
    "X_train_kbest = skb_test.fit_transform(X_train, y_train)"
   ]
  },
  {
   "cell_type": "code",
   "execution_count": 237,
   "metadata": {},
   "outputs": [
    {
     "name": "stderr",
     "output_type": "stream",
     "text": [
      "C:\\Users\\ankush\\anacondanew\\lib\\site-packages\\sklearn\\feature_selection\\univariate_selection.py:114: RuntimeWarning: divide by zero encountered in true_divide\n",
      "  f = msb / msw\n"
     ]
    }
   ],
   "source": [
    "#Gridsearchcv\n",
    "skb = SelectKBest(k=3)\n",
    "skb.fit(X_train, y_train)\n",
    "X_train_skb = skb.transform(X_train)\n",
    "X_test_skb = skb.transform(X_test)"
   ]
  },
  {
   "cell_type": "code",
   "execution_count": 238,
   "metadata": {},
   "outputs": [
    {
     "name": "stdout",
     "output_type": "stream",
     "text": [
      "[{'n_neighbors': 1}, {'n_neighbors': 2}, {'n_neighbors': 3}, {'n_neighbors': 4}, {'n_neighbors': 5}, {'n_neighbors': 6}, {'n_neighbors': 7}, {'n_neighbors': 8}, {'n_neighbors': 9}, {'n_neighbors': 10}]\n",
      "[-0.19877756  0.20798109  0.28176103  0.30333591  0.32541961  0.33212665\n",
      "  0.36210937  0.38136109  0.38930696  0.39333509]\n",
      "[-0.13026497  0.22903153  0.2852009   0.30176545  0.32995252  0.33450359\n",
      "  0.36491419  0.38498118  0.39180493  0.39748103]\n",
      "{'n_neighbors': 10}\n",
      "0.3933350940756162\n",
      "KNeighborsRegressor(algorithm='auto', leaf_size=30, metric='minkowski',\n",
      "          metric_params=None, n_jobs=1, n_neighbors=10, p=2,\n",
      "          weights='uniform')\n"
     ]
    },
    {
     "name": "stderr",
     "output_type": "stream",
     "text": [
      "C:\\Users\\ankush\\anacondanew\\lib\\site-packages\\sklearn\\utils\\deprecation.py:122: FutureWarning: You are accessing a training score ('mean_train_score'), which will not be available by default any more in 0.21. If you need training scores, please set return_train_score=True\n",
      "  warnings.warn(*warn_args, **warn_kwargs)\n"
     ]
    }
   ],
   "source": [
    "#Gridsearchcv to get the best parameters\n",
    "param_grid = {'n_neighbors':[1,2,3,4,5,6,7,8,9,10]}\n",
    "grid_class = model_selection.GridSearchCV(knn, param_grid, cv=10)\n",
    "grid_class.fit(X_train_skb, y_train)\n",
    "results = grid_class.cv_results_\n",
    "print(results.get('params'))\n",
    "print(results.get('mean_test_score'))\n",
    "print(results.get('mean_train_score'))\n",
    "print(grid_class.best_params_)\n",
    "print(grid_class.best_score_)\n",
    "final_model = grid_class.best_estimator_\n",
    "print(final_model)"
   ]
  },
  {
   "cell_type": "code",
   "execution_count": 240,
   "metadata": {},
   "outputs": [
    {
     "name": "stdout",
     "output_type": "stream",
     "text": [
      "R-squared : 0.4309561895551258\n"
     ]
    }
   ],
   "source": [
    "#R-squared\n",
    "print(\"R-squared :\",grid_class.score(X_train_skb, y_train))\n"
   ]
  },
  {
   "cell_type": "code",
   "execution_count": 241,
   "metadata": {},
   "outputs": [
    {
     "name": "stderr",
     "output_type": "stream",
     "text": [
      "C:\\Users\\ankush\\anacondanew\\lib\\site-packages\\sklearn\\metrics\\scorer.py:100: DeprecationWarning: Scoring method mean_squared_error was renamed to neg_mean_squared_error in version 0.18 and will be removed in 0.20.\n",
      "  sample_weight=sample_weight)\n",
      "C:\\Users\\ankush\\anacondanew\\lib\\site-packages\\sklearn\\metrics\\scorer.py:100: DeprecationWarning: Scoring method mean_squared_error was renamed to neg_mean_squared_error in version 0.18 and will be removed in 0.20.\n",
      "  sample_weight=sample_weight)\n",
      "C:\\Users\\ankush\\anacondanew\\lib\\site-packages\\sklearn\\metrics\\scorer.py:100: DeprecationWarning: Scoring method mean_squared_error was renamed to neg_mean_squared_error in version 0.18 and will be removed in 0.20.\n",
      "  sample_weight=sample_weight)\n"
     ]
    },
    {
     "name": "stdout",
     "output_type": "stream",
     "text": [
      "Mean square Error:  [-1.91359336e+11 -2.01339320e+11 -1.78041346e+11]\n"
     ]
    }
   ],
   "source": [
    "print(\"Mean square Error: \",cross_val_score(grid_class, X_train_skb, y_train, cv=3, scoring='mean_squared_error'))"
   ]
  },
  {
   "cell_type": "code",
   "execution_count": 242,
   "metadata": {},
   "outputs": [
    {
     "name": "stdout",
     "output_type": "stream",
     "text": [
      "[0.43578777 0.39993749 0.41126588 0.42056163 0.40006994]\n"
     ]
    }
   ],
   "source": [
    "print(cross_val_score(grid_class, X_train_skb, y_train, cv=5))"
   ]
  },
  {
   "cell_type": "markdown",
   "metadata": {},
   "source": [
    "We notice that PCA and SKB has similar accuracy score.Both are taking same time to run as well."
   ]
  },
  {
   "cell_type": "markdown",
   "metadata": {},
   "source": [
    "# Decision Tree"
   ]
  },
  {
   "cell_type": "code",
   "execution_count": 254,
   "metadata": {},
   "outputs": [
    {
     "data": {
      "text/plain": [
       "GridSearchCV(cv=6, error_score='raise',\n",
       "       estimator=DecisionTreeRegressor(criterion='mse', max_depth=50, max_features=None,\n",
       "           max_leaf_nodes=None, min_impurity_decrease=0.0,\n",
       "           min_impurity_split=None, min_samples_leaf=1,\n",
       "           min_samples_split=2, min_weight_fraction_leaf=0.0,\n",
       "           presort=False, random_state=None, splitter='best'),\n",
       "       fit_params=None, iid=True, n_jobs=1,\n",
       "       param_grid={'max_depth': [50], 'max_features': [12]},\n",
       "       pre_dispatch='2*n_jobs', refit=True, return_train_score='warn',\n",
       "       scoring=None, verbose=0)"
      ]
     },
     "execution_count": 254,
     "metadata": {},
     "output_type": "execute_result"
    }
   ],
   "source": [
    "# gridsearchCV to get the best parameters for tunning\n",
    "decision_tree = tree.DecisionTreeRegressor(max_depth=50)\n",
    "decision_tree.fit(X_train, y_train)\n",
    "from sklearn.model_selection import train_test_split\n",
    "dt_grid={'max_depth':[50],'max_features': [12]}\n",
    "grid_class_dt=model_selection.GridSearchCV(decision_tree,dt_grid,cv=6)\n",
    "grid_class_dt.fit(X_train, y_train)"
   ]
  },
  {
   "cell_type": "code",
   "execution_count": null,
   "metadata": {},
   "outputs": [],
   "source": [
    "Lets go ahead with determining R squared,Mean square error, Cross validation accuracy"
   ]
  },
  {
   "cell_type": "code",
   "execution_count": 259,
   "metadata": {},
   "outputs": [
    {
     "name": "stdout",
     "output_type": "stream",
     "text": [
      "R-squared : 0.9907664107844378\n"
     ]
    }
   ],
   "source": [
    "#R-squared\n",
    "print(\"R-squared :\",grid_class_dt.score(X_train, y_train))\n",
    "\n"
   ]
  },
  {
   "cell_type": "code",
   "execution_count": 260,
   "metadata": {},
   "outputs": [
    {
     "name": "stdout",
     "output_type": "stream",
     "text": [
      "[0.14320052 0.1971203  0.19424754 0.21887207 0.21048006]\n"
     ]
    }
   ],
   "source": [
    "#Cross validation score \n",
    "print(cross_val_score(grid_class_dt, X_train, y_train, cv=5))"
   ]
  },
  {
   "cell_type": "code",
   "execution_count": 261,
   "metadata": {},
   "outputs": [
    {
     "name": "stderr",
     "output_type": "stream",
     "text": [
      "C:\\Users\\ankush\\anacondanew\\lib\\site-packages\\sklearn\\metrics\\scorer.py:100: DeprecationWarning: Scoring method mean_squared_error was renamed to neg_mean_squared_error in version 0.18 and will be removed in 0.20.\n",
      "  sample_weight=sample_weight)\n",
      "C:\\Users\\ankush\\anacondanew\\lib\\site-packages\\sklearn\\metrics\\scorer.py:100: DeprecationWarning: Scoring method mean_squared_error was renamed to neg_mean_squared_error in version 0.18 and will be removed in 0.20.\n",
      "  sample_weight=sample_weight)\n"
     ]
    },
    {
     "name": "stdout",
     "output_type": "stream",
     "text": [
      "Mean square Error:  [-2.69920408e+11 -2.69082143e+11 -2.66684965e+11]\n"
     ]
    },
    {
     "name": "stderr",
     "output_type": "stream",
     "text": [
      "C:\\Users\\ankush\\anacondanew\\lib\\site-packages\\sklearn\\metrics\\scorer.py:100: DeprecationWarning: Scoring method mean_squared_error was renamed to neg_mean_squared_error in version 0.18 and will be removed in 0.20.\n",
      "  sample_weight=sample_weight)\n"
     ]
    }
   ],
   "source": [
    "print(\"Mean square Error: \",cross_val_score(grid_class_dt, X_train, y_train, cv=3, scoring='mean_squared_error'))"
   ]
  },
  {
   "cell_type": "markdown",
   "metadata": {},
   "source": [
    "If we notice above, R squared is very good but the accuracy score is very low.Mean square error is also not that good."
   ]
  },
  {
   "cell_type": "code",
   "execution_count": 264,
   "metadata": {},
   "outputs": [
    {
     "name": "stdout",
     "output_type": "stream",
     "text": [
      "Percentage of decisions accounted for with 2 features: 0.49274101530520753\n",
      "Percentage of decisions accounted for with 4 features: 0.6721434287709996\n",
      "Percentage of decisions accounted for with 6 features: 0.8119006181910405\n",
      "Percentage of decisions accounted for with 8 features: 0.9094497805688075\n",
      "Percentage of decisions accounted for with 10 features: 0.9684379431795094\n",
      "Percentage of decisions accounted for with 12 features: 0.9989133817039997\n",
      "Percentage of decisions accounted for with 14 features: 0.9999999999999998\n",
      "Total Features: 13\n"
     ]
    }
   ],
   "source": [
    "# And let's see what percentage of decisions are accounted for with the top X features.\n",
    "importances = decision_tree.feature_importances_\n",
    "indices = np.argsort(importances)[::-1]\n",
    "top_indices = indices[:18]\n",
    "for n_idx in range(2, 16, 2):\n",
    "    print('Percentage of decisions accounted for with {} features: {}'.format(n_idx, importances[indices[:n_idx]].sum()))\n",
    "print('Total Features: ' + str(len(indices)))"
   ]
  },
  {
   "cell_type": "code",
   "execution_count": 279,
   "metadata": {},
   "outputs": [],
   "source": [
    "X_pca = PCA(n_components=8)\n",
    "X_pca.fit(X_train)\n",
    "X_train_pca = X_pca.transform(X_train)\n",
    "X_test_pca = X_pca.transform(X_test)"
   ]
  },
  {
   "cell_type": "code",
   "execution_count": 280,
   "metadata": {},
   "outputs": [
    {
     "name": "stdout",
     "output_type": "stream",
     "text": [
      "The percentage of total variance in the dataset explained by each component from Sklearn PCA.\n",
      " [9.62042305e-01 3.24936581e-02 5.18495485e-03 2.62926716e-04\n",
      " 1.46954892e-05 9.50671805e-07 2.81965380e-07 1.09093296e-07]\n"
     ]
    }
   ],
   "source": [
    "\n",
    "print(\n",
    "    'The percentage of total variance in the dataset explained by each',\n",
    "    'component from Sklearn PCA.\\n',\n",
    "    X_pca.explained_variance_ratio_\n",
    ")"
   ]
  },
  {
   "cell_type": "markdown",
   "metadata": {},
   "source": [
    "By using PCA, we can see 8 features are closely correlated to the output variable so we will keep them Now we will use these models after doing PCA-\n",
    "\n",
    "1.GridsearchCV\n",
    "\n",
    "2.R-squared\n",
    "\n",
    "3.Mean Square Error"
   ]
  },
  {
   "cell_type": "code",
   "execution_count": 281,
   "metadata": {},
   "outputs": [
    {
     "name": "stdout",
     "output_type": "stream",
     "text": [
      "[{'max_depth': 10, 'max_features': 8}]\n",
      "[0.34152754]\n",
      "[0.62276261]\n",
      "{'max_depth': 10, 'max_features': 8}\n",
      "0.3415275383385336\n",
      "DecisionTreeRegressor(criterion='mse', max_depth=10, max_features=8,\n",
      "           max_leaf_nodes=None, min_impurity_decrease=0.0,\n",
      "           min_impurity_split=None, min_samples_leaf=1,\n",
      "           min_samples_split=2, min_weight_fraction_leaf=0.0,\n",
      "           presort=False, random_state=None, splitter='best')\n"
     ]
    },
    {
     "name": "stderr",
     "output_type": "stream",
     "text": [
      "C:\\Users\\ankush\\anacondanew\\lib\\site-packages\\sklearn\\utils\\deprecation.py:122: FutureWarning: You are accessing a training score ('mean_train_score'), which will not be available by default any more in 0.21. If you need training scores, please set return_train_score=True\n",
      "  warnings.warn(*warn_args, **warn_kwargs)\n"
     ]
    }
   ],
   "source": [
    "#Using Grid search  for finding the best set of parameters with random Forest model\n",
    "dt_grid_pca={'max_depth':[10],'max_features': [8]}\n",
    "grid_dt_pca=model_selection.GridSearchCV(decision_tree,dt_grid_pca,cv=6)\n",
    "grid_dt_pca.fit(X_train_pca, y_train)\n",
    "\n",
    "#grid_class_pca=model_selection.GridSearchCV(random_f_pca,dt_grid_pca,refit=True,return_train_score=True)\n",
    "#grid_class_pca.fit(X_train_pca, y_train_pca)\n",
    "#Displaying the parameters using Grid search\n",
    "results_pca = grid_dt_pca.cv_results_\n",
    "print(results_pca.get('params'))\n",
    "print(results_pca.get('mean_test_score'))\n",
    "print(results_pca.get('mean_train_score'))\n",
    "print(grid_dt_pca.best_params_)\n",
    "print(grid_dt_pca.best_score_)\n",
    "final_model_pca = grid_dt_pca.best_estimator_\n",
    "print(final_model_pca)"
   ]
  },
  {
   "cell_type": "markdown",
   "metadata": {},
   "source": [
    "Lets go ahead with determining R squared,Mean square error, Cross validation accuracy after PCA"
   ]
  },
  {
   "cell_type": "code",
   "execution_count": 282,
   "metadata": {},
   "outputs": [
    {
     "name": "stdout",
     "output_type": "stream",
     "text": [
      "R-squared : 0.6105686527907401\n"
     ]
    }
   ],
   "source": [
    "#R-squared\n",
    "print(\"R-squared :\",grid_dt_pca.score(X_train_pca, y_train))\n"
   ]
  },
  {
   "cell_type": "code",
   "execution_count": 283,
   "metadata": {},
   "outputs": [
    {
     "name": "stdout",
     "output_type": "stream",
     "text": [
      "[0.39026739 0.32255764 0.27185238 0.30362429 0.41505132]\n"
     ]
    }
   ],
   "source": [
    "#Cross validation score \n",
    "print(cross_val_score(grid_dt_pca, X_train_pca, y_train, cv=5))"
   ]
  },
  {
   "cell_type": "code",
   "execution_count": 284,
   "metadata": {},
   "outputs": [
    {
     "name": "stderr",
     "output_type": "stream",
     "text": [
      "C:\\Users\\ankush\\anacondanew\\lib\\site-packages\\sklearn\\metrics\\scorer.py:100: DeprecationWarning: Scoring method mean_squared_error was renamed to neg_mean_squared_error in version 0.18 and will be removed in 0.20.\n",
      "  sample_weight=sample_weight)\n",
      "C:\\Users\\ankush\\anacondanew\\lib\\site-packages\\sklearn\\metrics\\scorer.py:100: DeprecationWarning: Scoring method mean_squared_error was renamed to neg_mean_squared_error in version 0.18 and will be removed in 0.20.\n",
      "  sample_weight=sample_weight)\n"
     ]
    },
    {
     "name": "stdout",
     "output_type": "stream",
     "text": [
      "Mean square Error:  [-2.02287871e+11 -2.30119709e+11 -1.99204505e+11]\n"
     ]
    },
    {
     "name": "stderr",
     "output_type": "stream",
     "text": [
      "C:\\Users\\ankush\\anacondanew\\lib\\site-packages\\sklearn\\metrics\\scorer.py:100: DeprecationWarning: Scoring method mean_squared_error was renamed to neg_mean_squared_error in version 0.18 and will be removed in 0.20.\n",
      "  sample_weight=sample_weight)\n"
     ]
    }
   ],
   "source": [
    "print(\"Mean square Error: \",cross_val_score(grid_dt_pca, X_train_pca, y_train, cv=3, scoring='mean_squared_error'))"
   ]
  },
  {
   "cell_type": "markdown",
   "metadata": {},
   "source": [
    "After PCA, the accuracy score has improved.R2 seems to be ok.Overall result is not convincing."
   ]
  },
  {
   "cell_type": "markdown",
   "metadata": {},
   "source": [
    "# Random Forest"
   ]
  },
  {
   "cell_type": "code",
   "execution_count": 11,
   "metadata": {},
   "outputs": [
    {
     "data": {
      "text/plain": [
       "RandomForestRegressor(bootstrap=True, criterion='mse', max_depth=None,\n",
       "           max_features='auto', max_leaf_nodes=None,\n",
       "           min_impurity_decrease=0.0, min_impurity_split=None,\n",
       "           min_samples_leaf=1, min_samples_split=2,\n",
       "           min_weight_fraction_leaf=0.0, n_estimators=10, n_jobs=1,\n",
       "           oob_score=False, random_state=None, verbose=0, warm_start=False)"
      ]
     },
     "execution_count": 11,
     "metadata": {},
     "output_type": "execute_result"
    }
   ],
   "source": [
    "start=datetime.now()\n",
    "rfc = ensemble.RandomForestRegressor()\n",
    "rfc.fit(X_train,y_train)"
   ]
  },
  {
   "cell_type": "markdown",
   "metadata": {},
   "source": [
    "Now, we will use gridsearchcv to get the best parameters"
   ]
  },
  {
   "cell_type": "code",
   "execution_count": 12,
   "metadata": {},
   "outputs": [
    {
     "data": {
      "text/plain": [
       "GridSearchCV(cv=6, error_score='raise',\n",
       "       estimator=RandomForestRegressor(bootstrap=True, criterion='mse', max_depth=None,\n",
       "           max_features='auto', max_leaf_nodes=None,\n",
       "           min_impurity_decrease=0.0, min_impurity_split=None,\n",
       "           min_samples_leaf=1, min_samples_split=2,\n",
       "           min_weight_fraction_leaf=0.0, n_estimators=10, n_jobs=1,\n",
       "           oob_score=False, random_state=None, verbose=0, warm_start=False),\n",
       "       fit_params=None, iid=True, n_jobs=1,\n",
       "       param_grid={'max_depth': [3, 4, 5], 'max_features': [11]},\n",
       "       pre_dispatch='2*n_jobs', refit=True, return_train_score='warn',\n",
       "       scoring=None, verbose=0)"
      ]
     },
     "execution_count": 12,
     "metadata": {},
     "output_type": "execute_result"
    }
   ],
   "source": [
    "dt_grid={'max_depth':[3,4,5],'max_features': [11]}\n",
    "\n",
    "grid_class=model_selection.GridSearchCV(rfc,dt_grid,cv=6)\n",
    "grid_class.fit(X_train, y_train)"
   ]
  },
  {
   "cell_type": "code",
   "execution_count": 13,
   "metadata": {},
   "outputs": [
    {
     "name": "stdout",
     "output_type": "stream",
     "text": [
      "[{'max_depth': 3, 'max_features': 11}, {'max_depth': 4, 'max_features': 11}, {'max_depth': 5, 'max_features': 11}]\n",
      "[0.31367862 0.38330148 0.42075624]\n",
      "[0.31511086 0.39048913 0.44674822]\n",
      "{'max_depth': 5, 'max_features': 11}\n",
      "0.42075623712049554\n",
      "RandomForestRegressor(bootstrap=True, criterion='mse', max_depth=5,\n",
      "           max_features=11, max_leaf_nodes=None, min_impurity_decrease=0.0,\n",
      "           min_impurity_split=None, min_samples_leaf=1,\n",
      "           min_samples_split=2, min_weight_fraction_leaf=0.0,\n",
      "           n_estimators=10, n_jobs=1, oob_score=False, random_state=None,\n",
      "           verbose=0, warm_start=False)\n"
     ]
    },
    {
     "name": "stderr",
     "output_type": "stream",
     "text": [
      "C:\\Users\\ankush\\anacondanew\\lib\\site-packages\\sklearn\\utils\\deprecation.py:122: FutureWarning: You are accessing a training score ('mean_train_score'), which will not be available by default any more in 0.21. If you need training scores, please set return_train_score=True\n",
      "  warnings.warn(*warn_args, **warn_kwargs)\n"
     ]
    }
   ],
   "source": [
    "\n",
    "#Displaying the parameters using Grid searchcv\n",
    "results = grid_class.cv_results_\n",
    "print(results.get('params'))\n",
    "print(results.get('mean_test_score'))\n",
    "print(results.get('mean_train_score'))\n",
    "print(grid_class.best_params_)\n",
    "print(grid_class.best_score_)\n",
    "final_model = grid_class.best_estimator_\n",
    "print(final_model)"
   ]
  },
  {
   "cell_type": "markdown",
   "metadata": {},
   "source": [
    "Now, once the parameters are tuned,we will get accuracies using cross validation,R2 and Mean square error"
   ]
  },
  {
   "cell_type": "code",
   "execution_count": 14,
   "metadata": {},
   "outputs": [
    {
     "name": "stdout",
     "output_type": "stream",
     "text": [
      "R-squared : 0.44214814548377424\n"
     ]
    }
   ],
   "source": [
    "#R-squared\n",
    "print(\"R-squared :\",grid_class.score(X_train, y_train))\n"
   ]
  },
  {
   "cell_type": "code",
   "execution_count": 15,
   "metadata": {},
   "outputs": [
    {
     "name": "stdout",
     "output_type": "stream",
     "text": [
      "[0.3961081  0.43827301 0.42107818 0.41093077 0.42488573]\n"
     ]
    }
   ],
   "source": [
    "#Cross validation score \n",
    "print(cross_val_score(grid_class, X_train, y_train, cv=5))"
   ]
  },
  {
   "cell_type": "code",
   "execution_count": 16,
   "metadata": {},
   "outputs": [
    {
     "name": "stderr",
     "output_type": "stream",
     "text": [
      "C:\\Users\\ankush\\anacondanew\\lib\\site-packages\\sklearn\\metrics\\scorer.py:100: DeprecationWarning: Scoring method mean_squared_error was renamed to neg_mean_squared_error in version 0.18 and will be removed in 0.20.\n",
      "  sample_weight=sample_weight)\n",
      "C:\\Users\\ankush\\anacondanew\\lib\\site-packages\\sklearn\\metrics\\scorer.py:100: DeprecationWarning: Scoring method mean_squared_error was renamed to neg_mean_squared_error in version 0.18 and will be removed in 0.20.\n",
      "  sample_weight=sample_weight)\n"
     ]
    },
    {
     "name": "stdout",
     "output_type": "stream",
     "text": [
      "Mean square Error:  [-1.83378360e+11 -1.93126377e+11 -1.83644446e+11]\n"
     ]
    },
    {
     "name": "stderr",
     "output_type": "stream",
     "text": [
      "C:\\Users\\ankush\\anacondanew\\lib\\site-packages\\sklearn\\metrics\\scorer.py:100: DeprecationWarning: Scoring method mean_squared_error was renamed to neg_mean_squared_error in version 0.18 and will be removed in 0.20.\n",
      "  sample_weight=sample_weight)\n"
     ]
    }
   ],
   "source": [
    "print(\"Mean square Error: \",cross_val_score(grid_class, X_train, y_train, cv=3, scoring='mean_squared_error'))"
   ]
  },
  {
   "cell_type": "markdown",
   "metadata": {},
   "source": [
    "Overall results are not promising,accuracies are below than 50% and r2 is also not that good.Now, we will use PCA to check if dimension reduction has any impact on accuracy"
   ]
  },
  {
   "cell_type": "code",
   "execution_count": 17,
   "metadata": {},
   "outputs": [
    {
     "name": "stdout",
     "output_type": "stream",
     "text": [
      "Percentage of decisions accounted for with 2 features: 0.3716556066673148\n",
      "Percentage of decisions accounted for with 4 features: 0.614639621215651\n",
      "Percentage of decisions accounted for with 6 features: 0.8337328890820599\n",
      "Percentage of decisions accounted for with 8 features: 0.9405253977439858\n",
      "Percentage of decisions accounted for with 10 features: 0.9908568772243003\n",
      "Percentage of decisions accounted for with 12 features: 1.0\n",
      "Total Features: 11\n"
     ]
    }
   ],
   "source": [
    "importances = rfc.feature_importances_\n",
    "indices = np.argsort(importances)[::-1]\n",
    "top_indices = indices[:55]\n",
    "for n_idx in range(2, 14, 2):\n",
    "    print('Percentage of decisions accounted for with {} features: {}'.format(n_idx, importances[indices[:n_idx]].sum()))\n",
    "print('Total Features: ' + str(len(indices)))"
   ]
  },
  {
   "cell_type": "markdown",
   "metadata": {},
   "source": [
    "Let's reduce to 8 features since we could potentially account for 94% of the decisions from the Random Forest."
   ]
  },
  {
   "cell_type": "code",
   "execution_count": 18,
   "metadata": {},
   "outputs": [
    {
     "data": {
      "text/plain": [
       "Index(['Distance', 'Rooms', 'Longtitude', 'Postcode', 'Landsize', 'Lattitude',\n",
       "       'BuildingArea', 'YearBuilt'],\n",
       "      dtype='object')"
      ]
     },
     "execution_count": 18,
     "metadata": {},
     "output_type": "execute_result"
    }
   ],
   "source": [
    "\n",
    "#Using PCA\n",
    "n_indices = 8\n",
    "X_train.columns[indices[:n_indices]]"
   ]
  },
  {
   "cell_type": "code",
   "execution_count": 19,
   "metadata": {},
   "outputs": [],
   "source": [
    "X_pca = PCA(n_components=8)\n",
    "X_pca.fit(X_train)\n",
    "X_train_pca = X_pca.transform(X_train)\n",
    "X_test_pca = X_pca.transform(X_test)"
   ]
  },
  {
   "cell_type": "code",
   "execution_count": 20,
   "metadata": {},
   "outputs": [
    {
     "name": "stdout",
     "output_type": "stream",
     "text": [
      "The percentage of total variance in the dataset explained by each component from Sklearn PCA.\n",
      " [9.90458083e-01 8.18692237e-03 1.28685300e-03 6.42370097e-05\n",
      " 3.57761947e-06 2.25441627e-07 6.88430771e-08 2.64106744e-08]\n"
     ]
    }
   ],
   "source": [
    "print(\n",
    "    'The percentage of total variance in the dataset explained by each',\n",
    "    'component from Sklearn PCA.\\n',\n",
    "    X_pca.explained_variance_ratio_\n",
    ")"
   ]
  },
  {
   "cell_type": "markdown",
   "metadata": {},
   "source": [
    "Now we will use these techniques after doing PCA-\n",
    "\n",
    "1.GridsearchCV\n",
    "\n",
    "2.R-squared\n",
    "\n",
    "3.Cross validation score\n",
    "\n",
    "4.Mean Square Error"
   ]
  },
  {
   "cell_type": "code",
   "execution_count": 23,
   "metadata": {},
   "outputs": [
    {
     "name": "stdout",
     "output_type": "stream",
     "text": [
      "[{'max_depth': 10, 'max_features': 8}]\n",
      "[0.45919877]\n",
      "[0.62386212]\n",
      "{'max_depth': 10, 'max_features': 8}\n",
      "0.4591987738146171\n",
      "RandomForestRegressor(bootstrap=True, criterion='mse', max_depth=10,\n",
      "           max_features=8, max_leaf_nodes=None, min_impurity_decrease=0.0,\n",
      "           min_impurity_split=None, min_samples_leaf=1,\n",
      "           min_samples_split=2, min_weight_fraction_leaf=0.0,\n",
      "           n_estimators=10, n_jobs=1, oob_score=False, random_state=None,\n",
      "           verbose=0, warm_start=False)\n"
     ]
    },
    {
     "name": "stderr",
     "output_type": "stream",
     "text": [
      "C:\\Users\\ankush\\anacondanew\\lib\\site-packages\\sklearn\\utils\\deprecation.py:122: FutureWarning: You are accessing a training score ('mean_train_score'), which will not be available by default any more in 0.21. If you need training scores, please set return_train_score=True\n",
      "  warnings.warn(*warn_args, **warn_kwargs)\n"
     ]
    }
   ],
   "source": [
    "dt_grid_pca={'max_depth':[10],'max_features': [8]}\n",
    "grid_rf_pca=model_selection.GridSearchCV(rfc,dt_grid_pca,cv=6)\n",
    "grid_rf_pca.fit(X_train_pca, y_train)\n",
    "\n",
    "#grid_class_pca=model_selection.GridSearchCV(random_f_pca,dt_grid_pca,refit=True,return_train_score=True)\n",
    "#grid_class_pca.fit(X_train_pca, y_train_pca)\n",
    "#Displaying the parameters using Grid search\n",
    "results_pca = grid_rf_pca.cv_results_\n",
    "print(results_pca.get('params'))\n",
    "print(results_pca.get('mean_test_score'))\n",
    "print(results_pca.get('mean_train_score'))\n",
    "print(grid_rf_pca.best_params_)\n",
    "print(grid_rf_pca.best_score_)\n",
    "final_model_pca = grid_rf_pca.best_estimator_\n",
    "print(final_model_pca)"
   ]
  },
  {
   "cell_type": "code",
   "execution_count": 24,
   "metadata": {},
   "outputs": [
    {
     "name": "stdout",
     "output_type": "stream",
     "text": [
      "R-squared : 0.6199441298446099\n"
     ]
    }
   ],
   "source": [
    "# Calculating model accuracy using R square\n",
    "print(\"R-squared :\" ,grid_rf_pca.score(X_train_pca,y_train))"
   ]
  },
  {
   "cell_type": "code",
   "execution_count": 25,
   "metadata": {},
   "outputs": [
    {
     "name": "stdout",
     "output_type": "stream",
     "text": [
      "[0.43237888 0.46904585 0.44359192 0.45263558 0.45883207]\n"
     ]
    }
   ],
   "source": [
    "#Cross validation score \n",
    "print(cross_val_score(grid_rf_pca, X_train_pca, y_train, cv=5))"
   ]
  },
  {
   "cell_type": "code",
   "execution_count": 26,
   "metadata": {},
   "outputs": [
    {
     "name": "stderr",
     "output_type": "stream",
     "text": [
      "C:\\Users\\ankush\\anacondanew\\lib\\site-packages\\sklearn\\metrics\\scorer.py:100: DeprecationWarning: Scoring method mean_squared_error was renamed to neg_mean_squared_error in version 0.18 and will be removed in 0.20.\n",
      "  sample_weight=sample_weight)\n",
      "C:\\Users\\ankush\\anacondanew\\lib\\site-packages\\sklearn\\metrics\\scorer.py:100: DeprecationWarning: Scoring method mean_squared_error was renamed to neg_mean_squared_error in version 0.18 and will be removed in 0.20.\n",
      "  sample_weight=sample_weight)\n"
     ]
    },
    {
     "name": "stdout",
     "output_type": "stream",
     "text": [
      "Mean square Error:  [-1.76080706e+11 -1.88013397e+11 -1.70304424e+11]\n"
     ]
    },
    {
     "name": "stderr",
     "output_type": "stream",
     "text": [
      "C:\\Users\\ankush\\anacondanew\\lib\\site-packages\\sklearn\\metrics\\scorer.py:100: DeprecationWarning: Scoring method mean_squared_error was renamed to neg_mean_squared_error in version 0.18 and will be removed in 0.20.\n",
      "  sample_weight=sample_weight)\n"
     ]
    }
   ],
   "source": [
    "print(\"Mean square Error: \",cross_val_score(grid_rf_pca, X_train_pca, y_train, cv=3, scoring='mean_squared_error'))"
   ]
  },
  {
   "cell_type": "markdown",
   "metadata": {},
   "source": [
    "Accuracies are not that good even after using PCA but R2 has improved somewhat.Now,lets use SKB and compare it with PCA"
   ]
  },
  {
   "cell_type": "code",
   "execution_count": 32,
   "metadata": {},
   "outputs": [],
   "source": [
    "#selectkbest to get the scores of the best parameters\n",
    "from sklearn.feature_selection import SelectKBest\n",
    "from sklearn.feature_selection import f_regression\n",
    "#names = X_train.columns[indices[:n_indices]]\n",
    "skb_test = SelectKBest(score_func=f_regression,k=8)\n",
    "X_train_kbest = skb_test.fit_transform(X_train, y_train)"
   ]
  },
  {
   "cell_type": "markdown",
   "metadata": {},
   "source": [
    "Using selectkbest , we have got 8 best features. Now we will use these methods to validate the accuracy of the model\n",
    "\n",
    "1.GridsearchCV\n",
    "\n",
    "2.R-squared\n",
    "\n",
    "3.Cross Validation\n",
    "\n",
    "4.Mean Square Error"
   ]
  },
  {
   "cell_type": "code",
   "execution_count": 36,
   "metadata": {},
   "outputs": [],
   "source": [
    "skb = SelectKBest(k=8)\n",
    "skb.fit(X_train, y_train)\n",
    "X_train_skb = skb.transform(X_train)\n",
    "X_test_skb = skb.transform(X_test)"
   ]
  },
  {
   "cell_type": "markdown",
   "metadata": {},
   "source": [
    "Usually its a good practice to assign max depth as highest as possible.Here we have chose it as 50.Max_features is 11.Now,we will gridsearchcv to get the best set of parameters"
   ]
  },
  {
   "cell_type": "code",
   "execution_count": 38,
   "metadata": {},
   "outputs": [
    {
     "name": "stdout",
     "output_type": "stream",
     "text": [
      "[{'max_depth': 10, 'max_features': 8}]\n",
      "[0.43493117]\n",
      "[0.58586994]\n",
      "{'max_depth': 10, 'max_features': 8}\n",
      "0.43493117069704584\n",
      "RandomForestRegressor(bootstrap=True, criterion='mse', max_depth=10,\n",
      "           max_features=8, max_leaf_nodes=None, min_impurity_decrease=0.0,\n",
      "           min_impurity_split=None, min_samples_leaf=1,\n",
      "           min_samples_split=2, min_weight_fraction_leaf=0.0,\n",
      "           n_estimators=10, n_jobs=1, oob_score=False, random_state=None,\n",
      "           verbose=0, warm_start=False)\n"
     ]
    },
    {
     "name": "stderr",
     "output_type": "stream",
     "text": [
      "C:\\Users\\ankush\\anacondanew\\lib\\site-packages\\sklearn\\utils\\deprecation.py:122: FutureWarning: You are accessing a training score ('mean_train_score'), which will not be available by default any more in 0.21. If you need training scores, please set return_train_score=True\n",
      "  warnings.warn(*warn_args, **warn_kwargs)\n"
     ]
    }
   ],
   "source": [
    "#Using Grid search  for finding the best set of parameters with random Forest model\n",
    "\n",
    "dt_grid_skb={'max_depth':[10],'max_features': [8]}\n",
    "grid_DT_skb=model_selection.GridSearchCV(rfc,dt_grid_skb,cv=6)\n",
    "grid_DT_skb.fit(X_train_skb, y_train)\n",
    "\n",
    "#grid_class_pca=model_selection.GridSearchCV(random_f_pca,dt_grid_pca,refit=True,return_train_score=True)\n",
    "#grid_class_pca.fit(X_train_pca, y_train_pca)\n",
    "#Displaying the parameters using Grid search\n",
    "results_skb = grid_DT_skb.cv_results_\n",
    "print(results_skb.get('params'))\n",
    "print(results_skb.get('mean_test_score'))\n",
    "print(results_skb.get('mean_train_score'))\n",
    "print(grid_DT_skb.best_params_)\n",
    "print(grid_DT_skb.best_score_)\n",
    "final_model_pca = grid_DT_skb.best_estimator_\n",
    "print(final_model_pca)\n"
   ]
  },
  {
   "cell_type": "code",
   "execution_count": 39,
   "metadata": {},
   "outputs": [
    {
     "name": "stdout",
     "output_type": "stream",
     "text": [
      "R-squared : 0.5746013259878266\n"
     ]
    }
   ],
   "source": [
    "# Calculating model accuracy using R square\n",
    "print(\"R-squared :\" ,grid_DT_skb.score(X_train_skb,y_train))"
   ]
  },
  {
   "cell_type": "code",
   "execution_count": 40,
   "metadata": {},
   "outputs": [
    {
     "name": "stdout",
     "output_type": "stream",
     "text": [
      "[0.43242639 0.45843085 0.44766111 0.44440193 0.45333617]\n"
     ]
    }
   ],
   "source": [
    "#Cross validation score \n",
    "print(cross_val_score(grid_DT_skb, X_train_skb, y_train, cv=5))"
   ]
  },
  {
   "cell_type": "code",
   "execution_count": 41,
   "metadata": {},
   "outputs": [
    {
     "name": "stderr",
     "output_type": "stream",
     "text": [
      "C:\\Users\\ankush\\anacondanew\\lib\\site-packages\\sklearn\\metrics\\scorer.py:100: DeprecationWarning: Scoring method mean_squared_error was renamed to neg_mean_squared_error in version 0.18 and will be removed in 0.20.\n",
      "  sample_weight=sample_weight)\n",
      "C:\\Users\\ankush\\anacondanew\\lib\\site-packages\\sklearn\\metrics\\scorer.py:100: DeprecationWarning: Scoring method mean_squared_error was renamed to neg_mean_squared_error in version 0.18 and will be removed in 0.20.\n",
      "  sample_weight=sample_weight)\n"
     ]
    },
    {
     "name": "stdout",
     "output_type": "stream",
     "text": [
      "Mean square Error:  [-1.77386209e+11 -1.84688977e+11 -1.78611337e+11]\n"
     ]
    },
    {
     "name": "stderr",
     "output_type": "stream",
     "text": [
      "C:\\Users\\ankush\\anacondanew\\lib\\site-packages\\sklearn\\metrics\\scorer.py:100: DeprecationWarning: Scoring method mean_squared_error was renamed to neg_mean_squared_error in version 0.18 and will be removed in 0.20.\n",
      "  sample_weight=sample_weight)\n"
     ]
    }
   ],
   "source": [
    "print(\"Mean square Error: \",cross_val_score(grid_DT_skb, X_train_skb, y_train, cv=3, scoring='mean_squared_error'))"
   ]
  },
  {
   "cell_type": "markdown",
   "metadata": {},
   "source": [
    "# Ridge Regression"
   ]
  },
  {
   "cell_type": "code",
   "execution_count": 16,
   "metadata": {},
   "outputs": [
    {
     "data": {
      "text/plain": [
       "Ridge(alpha=10, copy_X=True, fit_intercept=False, max_iter=None,\n",
       "   normalize=False, random_state=None, solver='auto', tol=0.001)"
      ]
     },
     "execution_count": 16,
     "metadata": {},
     "output_type": "execute_result"
    }
   ],
   "source": [
    "ridgeregr = linear_model.Ridge(alpha=10, fit_intercept=False) \n",
    "ridgeregr.fit(X_train, y_train)\n"
   ]
  },
  {
   "cell_type": "code",
   "execution_count": 45,
   "metadata": {},
   "outputs": [
    {
     "name": "stdout",
     "output_type": "stream",
     "text": [
      "tuned hpyerparameters :(best parameters)  {'alpha': 0.01}\n",
      "accuracy : 0.30286896848036915\n"
     ]
    }
   ],
   "source": [
    "#Gridsearchcv to tune the parameters\n",
    "dt_grid={'alpha': [25,10,4,2,1.0,0.8,0.5,0.3,0.2,0.1,0.05,0.02,0.01]}\n",
    "grid_class=GridSearchCV(ridgeregr,dt_grid,cv=6)\n",
    "grid_class.fit(X_train, y_train)\n",
    "print(\"tuned hpyerparameters :(best parameters) \",grid_class.best_params_)\n",
    "print(\"accuracy :\",grid_class.best_score_)"
   ]
  },
  {
   "cell_type": "code",
   "execution_count": 46,
   "metadata": {},
   "outputs": [
    {
     "name": "stdout",
     "output_type": "stream",
     "text": [
      "R-squared : 0.33845389141297166\n"
     ]
    }
   ],
   "source": [
    "# Calculating model accuracy using R square\n",
    "print(\"R-squared :\" ,grid_class.score(X_train,y_train))"
   ]
  },
  {
   "cell_type": "code",
   "execution_count": 47,
   "metadata": {},
   "outputs": [
    {
     "name": "stdout",
     "output_type": "stream",
     "text": [
      "[0.33164882 0.33673385 0.3501263  0.32022865 0.1590288 ]\n"
     ]
    }
   ],
   "source": [
    "#Cross validation score \n",
    "print(cross_val_score(grid_class, X_train, y_train, cv=5))"
   ]
  },
  {
   "cell_type": "code",
   "execution_count": 48,
   "metadata": {},
   "outputs": [
    {
     "name": "stderr",
     "output_type": "stream",
     "text": [
      "C:\\Users\\ankush\\anacondanew\\lib\\site-packages\\sklearn\\metrics\\scorer.py:100: DeprecationWarning: Scoring method mean_squared_error was renamed to neg_mean_squared_error in version 0.18 and will be removed in 0.20.\n",
      "  sample_weight=sample_weight)\n",
      "C:\\Users\\ankush\\anacondanew\\lib\\site-packages\\sklearn\\metrics\\scorer.py:100: DeprecationWarning: Scoring method mean_squared_error was renamed to neg_mean_squared_error in version 0.18 and will be removed in 0.20.\n",
      "  sample_weight=sample_weight)\n"
     ]
    },
    {
     "name": "stdout",
     "output_type": "stream",
     "text": [
      "Mean square Error:  [-2.11174736e+11 -2.17849030e+11 -2.40503927e+11]\n"
     ]
    },
    {
     "name": "stderr",
     "output_type": "stream",
     "text": [
      "C:\\Users\\ankush\\anacondanew\\lib\\site-packages\\sklearn\\metrics\\scorer.py:100: DeprecationWarning: Scoring method mean_squared_error was renamed to neg_mean_squared_error in version 0.18 and will be removed in 0.20.\n",
      "  sample_weight=sample_weight)\n"
     ]
    }
   ],
   "source": [
    "print(\"Mean square Error: \",cross_val_score(grid_class, X_train, y_train, cv=3, scoring='mean_squared_error'))"
   ]
  },
  {
   "cell_type": "code",
   "execution_count": 59,
   "metadata": {},
   "outputs": [],
   "source": [
    "X_pca = PCA(n_components=8)\n",
    "X_pca.fit(X_train)\n",
    "X_train_pca = X_pca.transform(X_train)\n",
    "X_test_pca = X_pca.transform(X_test)"
   ]
  },
  {
   "cell_type": "markdown",
   "metadata": {},
   "source": [
    "Now we will use these techniques after doing PCA-\n",
    "\n",
    "1.GridsearchCV\n",
    "\n",
    "2.R-squared\n",
    "\n",
    "3.Cross validation score\n",
    "\n",
    "4.Mean Square Error"
   ]
  },
  {
   "cell_type": "code",
   "execution_count": 60,
   "metadata": {},
   "outputs": [
    {
     "name": "stdout",
     "output_type": "stream",
     "text": [
      "tuned hpyerparameters :(best parameters)  {'alpha': 0.01}\n",
      "accuracy : -3.1374758005385313\n"
     ]
    }
   ],
   "source": [
    "#Gridsearchcv to tune the parameters\n",
    "dt_grid={'alpha': [25,10,4,2,1.0,0.8,0.5,0.3,0.2,0.1,0.05,0.02,0.01]}\n",
    "grid_class_pca=GridSearchCV(ridgeregr,dt_grid,cv=6)\n",
    "grid_class_pca.fit(X_train_pca, y_train)\n",
    "print(\"tuned hpyerparameters :(best parameters) \",grid_class_pca.best_params_)\n",
    "print(\"accuracy :\",grid_class_pca.best_score_)"
   ]
  },
  {
   "cell_type": "code",
   "execution_count": 61,
   "metadata": {},
   "outputs": [
    {
     "name": "stdout",
     "output_type": "stream",
     "text": [
      "R-squared : -3.1099117368785425\n"
     ]
    }
   ],
   "source": [
    "# Calculating model accuracy using R square\n",
    "print(\"R-squared :\" ,grid_class_pca.score(X_train_pca,y_train))"
   ]
  },
  {
   "cell_type": "code",
   "execution_count": 62,
   "metadata": {},
   "outputs": [
    {
     "name": "stdout",
     "output_type": "stream",
     "text": [
      "[-3.0446224  -3.3025839  -3.07223717 -3.09737419 -3.12227718]\n"
     ]
    }
   ],
   "source": [
    "#Cross validation score \n",
    "print(cross_val_score(grid_class_pca, X_train_pca, y_train, cv=5))"
   ]
  },
  {
   "cell_type": "code",
   "execution_count": null,
   "metadata": {},
   "outputs": [],
   "source": [
    "print(\"Mean square Error: \",cross_val_score(grid_class_pca, X_train_pca, y_train, cv=3, scoring='mean_squared_error'))"
   ]
  },
  {
   "cell_type": "markdown",
   "metadata": {},
   "source": [
    "The scores are very bad, looks like this model is not all suitable to the data.Lets use SKB to check further"
   ]
  },
  {
   "cell_type": "code",
   "execution_count": 12,
   "metadata": {},
   "outputs": [],
   "source": [
    "#selectkbest to get the scores of the best parameters\n",
    "from sklearn.feature_selection import SelectKBest\n",
    "from sklearn.feature_selection import f_regression\n",
    "#names = X_train.columns[indices[:n_indices]]\n",
    "skb_test = SelectKBest(score_func=f_regression,k=8)\n",
    "X_train_kbest = skb_test.fit_transform(X_train, y_train)"
   ]
  },
  {
   "cell_type": "markdown",
   "metadata": {},
   "source": [
    "\n",
    "Using selectkbest , we have got 8 best features. Now we will use these methods to validate the accuracy of the model\n",
    "\n",
    "1.GridsearchCV\n",
    "\n",
    "2.R-squared\n",
    "\n",
    "3.Cross Validation\n",
    "\n",
    "4.Mean Square Error"
   ]
  },
  {
   "cell_type": "code",
   "execution_count": 18,
   "metadata": {},
   "outputs": [],
   "source": [
    "skb = SelectKBest(k=8)\n",
    "skb.fit(X_train, y_train)\n",
    "X_train_skb = skb.transform(X_train)\n",
    "X_test_skb = skb.transform(X_test)"
   ]
  },
  {
   "cell_type": "code",
   "execution_count": 20,
   "metadata": {},
   "outputs": [
    {
     "name": "stdout",
     "output_type": "stream",
     "text": [
      "[{'alpha': 25}, {'alpha': 10}, {'alpha': 4}, {'alpha': 2}, {'alpha': 1.0}, {'alpha': 0.8}, {'alpha': 0.5}, {'alpha': 0.3}, {'alpha': 0.2}, {'alpha': 0.1}, {'alpha': 0.05}, {'alpha': 0.02}, {'alpha': 0.01}]\n",
      "[0.31943623 0.31971508 0.3197692  0.31977758 0.31977974 0.31978\n",
      " 0.31978029 0.31978041 0.31978045 0.31978048 0.31978048 0.31978048\n",
      " 0.31978048]\n",
      "[0.32021346 0.32049085 0.32054462 0.32055293 0.32055507 0.32055533\n",
      " 0.32055561 0.32055573 0.32055577 0.32055579 0.32055579 0.3205558\n",
      " 0.3205558 ]\n",
      "{'alpha': 0.01}\n",
      "0.3197804840961203\n",
      "Ridge(alpha=0.01, copy_X=True, fit_intercept=False, max_iter=None,\n",
      "   normalize=False, random_state=None, solver='auto', tol=0.001)\n"
     ]
    },
    {
     "name": "stderr",
     "output_type": "stream",
     "text": [
      "C:\\Users\\ankush\\anacondanew\\lib\\site-packages\\sklearn\\utils\\deprecation.py:122: FutureWarning: You are accessing a training score ('mean_train_score'), which will not be available by default any more in 0.21. If you need training scores, please set return_train_score=True\n",
      "  warnings.warn(*warn_args, **warn_kwargs)\n"
     ]
    }
   ],
   "source": [
    "#Using Grid search  for finding the best set of parameters with random Forest model\n",
    "\n",
    "dt_grid_skb={'alpha': [25,10,4,2,1.0,0.8,0.5,0.3,0.2,0.1,0.05,0.02,0.01]}\n",
    "grid_DT_skb=model_selection.GridSearchCV(ridgeregr,dt_grid_skb,cv=6)\n",
    "grid_DT_skb.fit(X_train_skb, y_train)\n",
    "\n",
    "#grid_class_pca=model_selection.GridSearchCV(random_f_pca,dt_grid_pca,refit=True,return_train_score=True)\n",
    "#grid_class_pca.fit(X_train_pca, y_train_pca)\n",
    "#Displaying the parameters using Grid search\n",
    "results_skb = grid_DT_skb.cv_results_\n",
    "print(results_skb.get('params'))\n",
    "print(results_skb.get('mean_test_score'))\n",
    "print(results_skb.get('mean_train_score'))\n",
    "print(grid_DT_skb.best_params_)\n",
    "print(grid_DT_skb.best_score_)\n",
    "final_model_pca = grid_DT_skb.best_estimator_\n",
    "print(final_model_pca)"
   ]
  },
  {
   "cell_type": "code",
   "execution_count": 22,
   "metadata": {},
   "outputs": [
    {
     "name": "stdout",
     "output_type": "stream",
     "text": [
      "R-squared : 0.3204693732712328\n"
     ]
    }
   ],
   "source": [
    "# Calculating model accuracy using R square\n",
    "print(\"R-squared :\" ,grid_DT_skb.score(X_train_skb,y_train))"
   ]
  },
  {
   "cell_type": "code",
   "execution_count": 23,
   "metadata": {},
   "outputs": [
    {
     "name": "stdout",
     "output_type": "stream",
     "text": [
      "[0.33632341 0.31205865 0.31042038 0.31098002 0.32999438]\n"
     ]
    }
   ],
   "source": [
    "#Cross validation score \n",
    "print(cross_val_score(grid_DT_skb, X_train_skb, y_train, cv=5))"
   ]
  },
  {
   "cell_type": "code",
   "execution_count": 24,
   "metadata": {},
   "outputs": [
    {
     "name": "stderr",
     "output_type": "stream",
     "text": [
      "C:\\Users\\ankush\\anacondanew\\lib\\site-packages\\sklearn\\metrics\\scorer.py:100: DeprecationWarning: Scoring method mean_squared_error was renamed to neg_mean_squared_error in version 0.18 and will be removed in 0.20.\n",
      "  sample_weight=sample_weight)\n",
      "C:\\Users\\ankush\\anacondanew\\lib\\site-packages\\sklearn\\metrics\\scorer.py:100: DeprecationWarning: Scoring method mean_squared_error was renamed to neg_mean_squared_error in version 0.18 and will be removed in 0.20.\n",
      "  sample_weight=sample_weight)\n"
     ]
    },
    {
     "name": "stdout",
     "output_type": "stream",
     "text": [
      "Mean square Error:  [-2.22970074e+11 -2.24657058e+11 -2.21717081e+11]\n"
     ]
    },
    {
     "name": "stderr",
     "output_type": "stream",
     "text": [
      "C:\\Users\\ankush\\anacondanew\\lib\\site-packages\\sklearn\\metrics\\scorer.py:100: DeprecationWarning: Scoring method mean_squared_error was renamed to neg_mean_squared_error in version 0.18 and will be removed in 0.20.\n",
      "  sample_weight=sample_weight)\n"
     ]
    }
   ],
   "source": [
    "print(\"Mean square Error: \",cross_val_score(grid_DT_skb, X_train_skb, y_train, cv=3, scoring='mean_squared_error'))"
   ]
  },
  {
   "cell_type": "markdown",
   "metadata": {},
   "source": [
    "Scores are looking better for SKB compared to PCA.Lets evaluate other models now"
   ]
  },
  {
   "cell_type": "markdown",
   "metadata": {},
   "source": [
    "# LASSO REGRESSION"
   ]
  },
  {
   "cell_type": "code",
   "execution_count": 26,
   "metadata": {},
   "outputs": [
    {
     "data": {
      "text/plain": [
       "Lasso(alpha=0.35, copy_X=True, fit_intercept=True, max_iter=1000,\n",
       "   normalize=False, positive=False, precompute=False, random_state=None,\n",
       "   selection='cyclic', tol=0.0001, warm_start=False)"
      ]
     },
     "execution_count": 26,
     "metadata": {},
     "output_type": "execute_result"
    }
   ],
   "source": [
    "lassoregr=linear_model.Lasso(alpha=.35)\n",
    "lassoregr.fit(X_train, y_train)\n"
   ]
  },
  {
   "cell_type": "code",
   "execution_count": 27,
   "metadata": {},
   "outputs": [
    {
     "name": "stdout",
     "output_type": "stream",
     "text": [
      "tuned hpyerparameters :(best parameters)  {'alpha': 0.01}\n",
      "accuracy : 0.3170727918222993\n",
      "[{'alpha': 25}, {'alpha': 10}, {'alpha': 4}, {'alpha': 2}, {'alpha': 1.0}, {'alpha': 0.8}, {'alpha': 0.5}, {'alpha': 0.3}, {'alpha': 0.2}, {'alpha': 0.1}, {'alpha': 0.05}, {'alpha': 0.02}, {'alpha': 0.01}]\n",
      "[0.3170351  0.3170578  0.31706682 0.31706981 0.31707131 0.31707161\n",
      " 0.31707206 0.31707236 0.31707251 0.31707266 0.31707273 0.31707278\n",
      " 0.31707279]\n",
      "[0.35526255 0.35526281 0.35526285 0.35526286 0.35526286 0.35526286\n",
      " 0.35526286 0.35526286 0.35526286 0.35526286 0.35526286 0.35526286\n",
      " 0.35526286]\n",
      "0.3170727918222993\n",
      "Lasso(alpha=0.01, copy_X=True, fit_intercept=True, max_iter=1000,\n",
      "   normalize=False, positive=False, precompute=False, random_state=None,\n",
      "   selection='cyclic', tol=0.0001, warm_start=False)\n"
     ]
    },
    {
     "name": "stderr",
     "output_type": "stream",
     "text": [
      "C:\\Users\\ankush\\anacondanew\\lib\\site-packages\\sklearn\\utils\\deprecation.py:122: FutureWarning: You are accessing a training score ('mean_train_score'), which will not be available by default any more in 0.21. If you need training scores, please set return_train_score=True\n",
      "  warnings.warn(*warn_args, **warn_kwargs)\n"
     ]
    }
   ],
   "source": [
    "from sklearn.model_selection import GridSearchCV\n",
    "dt_grid={'alpha': [25,10,4,2,1.0,0.8,0.5,0.3,0.2,0.1,0.05,0.02,0.01]}\n",
    "grid_class=GridSearchCV(lassoregr,dt_grid,cv=6)\n",
    "grid_class.fit(X_train, y_train)\n",
    "results = grid_class.cv_results_\n",
    "print(\"tuned hpyerparameters :(best parameters) \",grid_class.best_params_)\n",
    "print(\"accuracy :\",grid_class.best_score_)\n",
    "print(results.get('params'))\n",
    "print(results.get('mean_test_score'))\n",
    "print(results.get('mean_train_score'))\n",
    "print(grid_class.best_score_)\n",
    "final_model = grid_class.best_estimator_\n",
    "print(final_model)"
   ]
  },
  {
   "cell_type": "code",
   "execution_count": 28,
   "metadata": {},
   "outputs": [
    {
     "name": "stdout",
     "output_type": "stream",
     "text": [
      "R-squared : 0.35459953757070495\n"
     ]
    }
   ],
   "source": [
    "# Calculating model accuracy using R square\n",
    "print(\"R-squared :\" ,grid_class.score(X_train,y_train))"
   ]
  },
  {
   "cell_type": "code",
   "execution_count": 29,
   "metadata": {},
   "outputs": [
    {
     "name": "stdout",
     "output_type": "stream",
     "text": [
      "[0.14771781 0.34956437 0.3438036  0.34184596 0.36235875]\n"
     ]
    }
   ],
   "source": [
    "#Cross validation score \n",
    "print(cross_val_score(grid_class, X_train, y_train, cv=5))"
   ]
  },
  {
   "cell_type": "code",
   "execution_count": 30,
   "metadata": {},
   "outputs": [
    {
     "name": "stderr",
     "output_type": "stream",
     "text": [
      "C:\\Users\\ankush\\anacondanew\\lib\\site-packages\\sklearn\\metrics\\scorer.py:100: DeprecationWarning: Scoring method mean_squared_error was renamed to neg_mean_squared_error in version 0.18 and will be removed in 0.20.\n",
      "  sample_weight=sample_weight)\n",
      "C:\\Users\\ankush\\anacondanew\\lib\\site-packages\\sklearn\\metrics\\scorer.py:100: DeprecationWarning: Scoring method mean_squared_error was renamed to neg_mean_squared_error in version 0.18 and will be removed in 0.20.\n",
      "  sample_weight=sample_weight)\n"
     ]
    },
    {
     "name": "stdout",
     "output_type": "stream",
     "text": [
      "Mean square Error:  [-2.43208722e+11 -2.13181135e+11 -2.11396421e+11]\n"
     ]
    },
    {
     "name": "stderr",
     "output_type": "stream",
     "text": [
      "C:\\Users\\ankush\\anacondanew\\lib\\site-packages\\sklearn\\metrics\\scorer.py:100: DeprecationWarning: Scoring method mean_squared_error was renamed to neg_mean_squared_error in version 0.18 and will be removed in 0.20.\n",
      "  sample_weight=sample_weight)\n"
     ]
    }
   ],
   "source": [
    "print(\"Mean square Error: \",cross_val_score(grid_class, X_train, y_train, cv=3, scoring='mean_squared_error'))"
   ]
  },
  {
   "cell_type": "markdown",
   "metadata": {},
   "source": [
    "Scores look ok,now lets go through PCA and SKB"
   ]
  },
  {
   "cell_type": "code",
   "execution_count": 31,
   "metadata": {},
   "outputs": [],
   "source": [
    "X_pca = PCA(n_components=8)\n",
    "X_pca.fit(X_train)\n",
    "X_train_pca = X_pca.transform(X_train)\n",
    "X_test_pca = X_pca.transform(X_test)"
   ]
  },
  {
   "cell_type": "markdown",
   "metadata": {},
   "source": [
    "\n",
    "Now we will use these techniques after doing PCA-\n",
    "1.GridsearchCV\n",
    "2.R-squared\n",
    "3.Cross validation score\n",
    "4.Mean Square Error"
   ]
  },
  {
   "cell_type": "code",
   "execution_count": 32,
   "metadata": {},
   "outputs": [
    {
     "name": "stdout",
     "output_type": "stream",
     "text": [
      "tuned hpyerparameters :(best parameters)  {'alpha': 0.01}\n",
      "accuracy : 0.27639179196016006\n",
      "[{'alpha': 25}, {'alpha': 10}, {'alpha': 4}, {'alpha': 2}, {'alpha': 1.0}, {'alpha': 0.8}, {'alpha': 0.5}, {'alpha': 0.3}, {'alpha': 0.2}, {'alpha': 0.1}, {'alpha': 0.05}, {'alpha': 0.02}, {'alpha': 0.01}]\n",
      "[0.2763787  0.27638656 0.2763897  0.27639075 0.27639127 0.27639138\n",
      " 0.27639154 0.27639164 0.27639169 0.27639174 0.27639177 0.27639179\n",
      " 0.27639179]\n",
      "[0.32207964 0.32207965 0.32207965 0.32207965 0.32207965 0.32207965\n",
      " 0.32207965 0.32207965 0.32207965 0.32207965 0.32207965 0.32207965\n",
      " 0.32207965]\n",
      "0.27639179196016006\n",
      "Lasso(alpha=0.01, copy_X=True, fit_intercept=True, max_iter=1000,\n",
      "   normalize=False, positive=False, precompute=False, random_state=None,\n",
      "   selection='cyclic', tol=0.0001, warm_start=False)\n"
     ]
    },
    {
     "name": "stderr",
     "output_type": "stream",
     "text": [
      "C:\\Users\\ankush\\anacondanew\\lib\\site-packages\\sklearn\\utils\\deprecation.py:122: FutureWarning: You are accessing a training score ('mean_train_score'), which will not be available by default any more in 0.21. If you need training scores, please set return_train_score=True\n",
      "  warnings.warn(*warn_args, **warn_kwargs)\n"
     ]
    }
   ],
   "source": [
    "#.GridsearchCV to get the best parameters\n",
    "from sklearn.model_selection import GridSearchCV\n",
    "dt_grid={'alpha': [25,10,4,2,1.0,0.8,0.5,0.3,0.2,0.1,0.05,0.02,0.01]}\n",
    "grid_class=GridSearchCV(lassoregr,dt_grid,cv=6)\n",
    "grid_class.fit(X_train_pca, y_train)\n",
    "results = grid_class.cv_results_\n",
    "print(\"tuned hpyerparameters :(best parameters) \",grid_class.best_params_)\n",
    "print(\"accuracy :\",grid_class.best_score_)\n",
    "print(results.get('params'))\n",
    "print(results.get('mean_test_score'))\n",
    "print(results.get('mean_train_score'))\n",
    "print(grid_class.best_score_)\n",
    "final_model = grid_class.best_estimator_\n",
    "print(final_model)"
   ]
  },
  {
   "cell_type": "code",
   "execution_count": 34,
   "metadata": {},
   "outputs": [
    {
     "name": "stdout",
     "output_type": "stream",
     "text": [
      "R-squared : 0.32135857874896123\n"
     ]
    }
   ],
   "source": [
    "# Calculating model accuracy using R square\n",
    "print(\"R-squared :\" ,grid_class.score(X_train_pca,y_train))"
   ]
  },
  {
   "cell_type": "code",
   "execution_count": 35,
   "metadata": {},
   "outputs": [
    {
     "name": "stdout",
     "output_type": "stream",
     "text": [
      "[0.07354969 0.3185148  0.31662889 0.30749989 0.32955236]\n"
     ]
    }
   ],
   "source": [
    "#Cross validation score \n",
    "print(cross_val_score(grid_class, X_train_pca, y_train, cv=5))"
   ]
  },
  {
   "cell_type": "code",
   "execution_count": 36,
   "metadata": {},
   "outputs": [
    {
     "name": "stderr",
     "output_type": "stream",
     "text": [
      "C:\\Users\\ankush\\anacondanew\\lib\\site-packages\\sklearn\\metrics\\scorer.py:100: DeprecationWarning: Scoring method mean_squared_error was renamed to neg_mean_squared_error in version 0.18 and will be removed in 0.20.\n",
      "  sample_weight=sample_weight)\n",
      "C:\\Users\\ankush\\anacondanew\\lib\\site-packages\\sklearn\\metrics\\scorer.py:100: DeprecationWarning: Scoring method mean_squared_error was renamed to neg_mean_squared_error in version 0.18 and will be removed in 0.20.\n",
      "  sample_weight=sample_weight)\n"
     ]
    },
    {
     "name": "stdout",
     "output_type": "stream",
     "text": [
      "Mean square Error:  [-2.60782051e+11 -2.23554131e+11 -2.21830890e+11]\n"
     ]
    },
    {
     "name": "stderr",
     "output_type": "stream",
     "text": [
      "C:\\Users\\ankush\\anacondanew\\lib\\site-packages\\sklearn\\metrics\\scorer.py:100: DeprecationWarning: Scoring method mean_squared_error was renamed to neg_mean_squared_error in version 0.18 and will be removed in 0.20.\n",
      "  sample_weight=sample_weight)\n"
     ]
    }
   ],
   "source": [
    "print(\"Mean square Error: \",cross_val_score(grid_class, X_train_pca, y_train, cv=3, scoring='mean_squared_error'))"
   ]
  },
  {
   "cell_type": "markdown",
   "metadata": {},
   "source": [
    "Scores look weak ,lets use SKB now"
   ]
  },
  {
   "cell_type": "code",
   "execution_count": 37,
   "metadata": {},
   "outputs": [],
   "source": [
    "#selectkbest to get the scores of the best parameters\n",
    "from sklearn.feature_selection import SelectKBest\n",
    "from sklearn.feature_selection import f_regression\n",
    "#names = X_train.columns[indices[:n_indices]]\n",
    "skb_test = SelectKBest(score_func=f_regression,k=8)\n",
    "X_train_kbest = skb_test.fit_transform(X_train, y_train)"
   ]
  },
  {
   "cell_type": "code",
   "execution_count": 38,
   "metadata": {},
   "outputs": [],
   "source": [
    "skb = SelectKBest(k=8)\n",
    "skb.fit(X_train, y_train)\n",
    "X_train_skb = skb.transform(X_train)\n",
    "X_test_skb = skb.transform(X_test)"
   ]
  },
  {
   "cell_type": "markdown",
   "metadata": {},
   "source": [
    "\n",
    "Using selectkbest , we have got 8 best features. Now we will use these methods to validate the accuracy of the model\n",
    "1.GridsearchCV\n",
    "2.R-squared\n",
    "3.Cross Validation\n",
    "4.Mean Square Error"
   ]
  },
  {
   "cell_type": "code",
   "execution_count": 41,
   "metadata": {},
   "outputs": [
    {
     "name": "stdout",
     "output_type": "stream",
     "text": [
      "tuned hpyerparameters :(best parameters)  {'alpha': 10}\n",
      "accuracy : 0.34233613519271233\n",
      "[{'alpha': 25}, {'alpha': 10}, {'alpha': 4}, {'alpha': 2}, {'alpha': 1.0}, {'alpha': 0.8}, {'alpha': 0.5}, {'alpha': 0.3}, {'alpha': 0.2}, {'alpha': 0.1}, {'alpha': 0.05}, {'alpha': 0.02}, {'alpha': 0.01}]\n",
      "[0.34233604 0.34233614 0.34233611 0.3423361  0.34233609 0.34233609\n",
      " 0.34233608 0.34233608 0.34233608 0.34233608 0.34233608 0.34233608\n",
      " 0.34233608]\n",
      "[0.34310133 0.34310157 0.34310161 0.34310161 0.34310161 0.34310161\n",
      " 0.34310161 0.34310161 0.34310161 0.34310161 0.34310161 0.34310161\n",
      " 0.34310161]\n",
      "0.34233613519271233\n",
      "Lasso(alpha=10, copy_X=True, fit_intercept=True, max_iter=1000,\n",
      "   normalize=False, positive=False, precompute=False, random_state=None,\n",
      "   selection='cyclic', tol=0.0001, warm_start=False)\n"
     ]
    },
    {
     "name": "stderr",
     "output_type": "stream",
     "text": [
      "C:\\Users\\ankush\\anacondanew\\lib\\site-packages\\sklearn\\utils\\deprecation.py:122: FutureWarning: You are accessing a training score ('mean_train_score'), which will not be available by default any more in 0.21. If you need training scores, please set return_train_score=True\n",
      "  warnings.warn(*warn_args, **warn_kwargs)\n"
     ]
    }
   ],
   "source": [
    "#.GridsearchCV to get the best parameters\n",
    "from sklearn.model_selection import GridSearchCV\n",
    "dt_grid={'alpha': [25,10,4,2,1.0,0.8,0.5,0.3,0.2,0.1,0.05,0.02,0.01]}\n",
    "grid_class=GridSearchCV(lassoregr,dt_grid,cv=6)\n",
    "grid_class.fit(X_train_skb, y_train)\n",
    "results = grid_class.cv_results_\n",
    "print(\"tuned hpyerparameters :(best parameters) \",grid_class.best_params_)\n",
    "print(\"accuracy :\",grid_class.best_score_)\n",
    "print(results.get('params'))\n",
    "print(results.get('mean_test_score'))\n",
    "print(results.get('mean_train_score'))\n",
    "print(grid_class.best_score_)\n",
    "final_model = grid_class.best_estimator_\n",
    "print(final_model)"
   ]
  },
  {
   "cell_type": "code",
   "execution_count": 42,
   "metadata": {},
   "outputs": [
    {
     "name": "stdout",
     "output_type": "stream",
     "text": [
      "R-squared : 0.3430119980606766\n"
     ]
    }
   ],
   "source": [
    "# Calculating model accuracy using R square\n",
    "print(\"R-squared :\" ,grid_class.score(X_train_skb,y_train))"
   ]
  },
  {
   "cell_type": "code",
   "execution_count": 43,
   "metadata": {},
   "outputs": [
    {
     "name": "stdout",
     "output_type": "stream",
     "text": [
      "[0.35773509 0.33591002 0.33126758 0.3334659  0.35401002]\n"
     ]
    }
   ],
   "source": [
    "#Cross validation score \n",
    "print(cross_val_score(grid_class, X_train_skb, y_train, cv=5))"
   ]
  },
  {
   "cell_type": "code",
   "execution_count": 44,
   "metadata": {},
   "outputs": [
    {
     "name": "stderr",
     "output_type": "stream",
     "text": [
      "C:\\Users\\ankush\\anacondanew\\lib\\site-packages\\sklearn\\metrics\\scorer.py:100: DeprecationWarning: Scoring method mean_squared_error was renamed to neg_mean_squared_error in version 0.18 and will be removed in 0.20.\n",
      "  sample_weight=sample_weight)\n",
      "C:\\Users\\ankush\\anacondanew\\lib\\site-packages\\sklearn\\metrics\\scorer.py:100: DeprecationWarning: Scoring method mean_squared_error was renamed to neg_mean_squared_error in version 0.18 and will be removed in 0.20.\n",
      "  sample_weight=sample_weight)\n"
     ]
    },
    {
     "name": "stdout",
     "output_type": "stream",
     "text": [
      "Mean square Error:  [-2.16001162e+11 -2.17054625e+11 -2.14186136e+11]\n"
     ]
    },
    {
     "name": "stderr",
     "output_type": "stream",
     "text": [
      "C:\\Users\\ankush\\anacondanew\\lib\\site-packages\\sklearn\\metrics\\scorer.py:100: DeprecationWarning: Scoring method mean_squared_error was renamed to neg_mean_squared_error in version 0.18 and will be removed in 0.20.\n",
      "  sample_weight=sample_weight)\n"
     ]
    }
   ],
   "source": [
    "print(\"Mean square Error: \",cross_val_score(grid_class, X_train_skb, y_train, cv=3, scoring='mean_squared_error'))"
   ]
  },
  {
   "cell_type": "markdown",
   "metadata": {},
   "source": [
    "Both PCA and SKB has similar accuracy scores.Lets go through other models now"
   ]
  },
  {
   "cell_type": "markdown",
   "metadata": {},
   "source": [
    "# SVR"
   ]
  },
  {
   "cell_type": "code",
   "execution_count": 9,
   "metadata": {},
   "outputs": [
    {
     "data": {
      "text/plain": [
       "SVR(C=1.0, cache_size=200, coef0=0.0, degree=3, epsilon=0.1, gamma='auto',\n",
       "  kernel='rbf', max_iter=-1, shrinking=True, tol=0.001, verbose=False)"
      ]
     },
     "execution_count": 9,
     "metadata": {},
     "output_type": "execute_result"
    }
   ],
   "source": [
    "svm = SVR()\n",
    "svm.fit(X_train, y_train)"
   ]
  },
  {
   "cell_type": "code",
   "execution_count": null,
   "metadata": {},
   "outputs": [],
   "source": [
    "param_grid = {'C':[1,10,100,1000],'gamma':[1,0.1,0.001,0.0001], 'kernel':['linear','rbf']}\n",
    "grid_class_svm=model_selection.GridSearchCV(svm,param_grid,refit = True)\n",
    "grid_class_svm.fit(X_train, y_train)\n",
    "results = grid_class_svm.cv_results_\n",
    "print(results.get('params'))\n",
    "print(results.get('mean_test_score'))\n",
    "print(results.get('mean_train_score'))\n",
    "print(\"Best Hyper Parameters:\\n\",grid_class_svm.best_params_)\n",
    "print(grid_class_svm.best_score_)\n",
    "final_model = grid_class_svm.best_estimator_\n",
    "print(final_model)"
   ]
  },
  {
   "cell_type": "code",
   "execution_count": null,
   "metadata": {},
   "outputs": [],
   "source": [
    "# Calculating model accuracy using R square\n",
    "print(\"R-squared :\" ,grid_class_svm.score(X_train,y_train))"
   ]
  },
  {
   "cell_type": "code",
   "execution_count": null,
   "metadata": {},
   "outputs": [],
   "source": [
    "#Cross validation score \n",
    "print(cross_val_score(grid_class_svm, X_train, y_train, cv=5))"
   ]
  },
  {
   "cell_type": "code",
   "execution_count": null,
   "metadata": {},
   "outputs": [],
   "source": [
    "print(\"Mean square Error: \",cross_val_score(grid_class_svm, X_train, y_train, cv=3, scoring='mean_squared_error'))"
   ]
  },
  {
   "cell_type": "code",
   "execution_count": null,
   "metadata": {},
   "outputs": [],
   "source": [
    "lets use PCA now"
   ]
  },
  {
   "cell_type": "code",
   "execution_count": null,
   "metadata": {},
   "outputs": [],
   "source": [
    "X_pca = PCA(n_components=8)\n",
    "X_pca.fit(X_train)\n",
    "X_train_pca = X_pca.transform(X_train)\n",
    "X_test_pca = X_pca.transform(X_test)"
   ]
  },
  {
   "cell_type": "code",
   "execution_count": null,
   "metadata": {},
   "outputs": [],
   "source": [
    "Now we will use these techniques after doing PCA- 1.GridsearchCV 2.R-squared 3.Cross validation score 4.Mean Square Error"
   ]
  },
  {
   "cell_type": "code",
   "execution_count": null,
   "metadata": {},
   "outputs": [],
   "source": [
    "#.GridsearchCV to get the best parameters\n",
    "from sklearn.model_selection import GridSearchCV\n",
    "dt_grid={'alpha': [25,10,4,2,1.0,0.8,0.5,0.3,0.2,0.1,0.05,0.02,0.01]}\n",
    "grid_class=GridSearchCV(svm,dt_grid,cv=6)\n",
    "grid_class.fit(X_train_pca, y_train)\n",
    "results = grid_class.cv_results_\n",
    "print(\"tuned hpyerparameters :(best parameters) \",grid_class.best_params_)\n",
    "print(\"accuracy :\",grid_class.best_score_)\n",
    "print(results.get('params'))\n",
    "print(results.get('mean_test_score'))\n",
    "print(results.get('mean_train_score'))\n",
    "print(grid_class.best_score_)\n",
    "final_model = grid_class.best_estimator_\n",
    "print(final_model)"
   ]
  },
  {
   "cell_type": "code",
   "execution_count": null,
   "metadata": {},
   "outputs": [],
   "source": [
    "# Calculating model accuracy using R square\n",
    "print(\"R-squared :\" ,grid_class.score(X_train_pca,y_train))"
   ]
  },
  {
   "cell_type": "code",
   "execution_count": null,
   "metadata": {},
   "outputs": [],
   "source": [
    "#Cross validation score \n",
    "print(cross_val_score(grid_class, X_train_pca, y_train, cv=5))"
   ]
  },
  {
   "cell_type": "code",
   "execution_count": null,
   "metadata": {},
   "outputs": [],
   "source": [
    "print(\"Mean square Error: \",cross_val_score(grid_class, X_train_pca, y_train, cv=3, scoring='mean_squared_error'))"
   ]
  },
  {
   "cell_type": "markdown",
   "metadata": {},
   "source": [
    "Accuracy scores look to be ok, similar to what we have been getting in the previous models.Lets take a look at SKB"
   ]
  },
  {
   "cell_type": "code",
   "execution_count": null,
   "metadata": {},
   "outputs": [],
   "source": [
    "#selectkbest to get the scores of the best parameters\n",
    "from sklearn.feature_selection import SelectKBest\n",
    "from sklearn.feature_selection import f_regression\n",
    "#names = X_train.columns[indices[:n_indices]]\n",
    "skb_test = SelectKBest(score_func=f_regression,k=8)\n",
    "X_train_kbest = skb_test.fit_transform(X_train, y_train)"
   ]
  },
  {
   "cell_type": "code",
   "execution_count": null,
   "metadata": {},
   "outputs": [],
   "source": [
    "skb = SelectKBest(k=8)\n",
    "skb.fit(X_train, y_train)\n",
    "X_train_skb = skb.transform(X_train)\n",
    "X_test_skb = skb.transform(X_test)"
   ]
  },
  {
   "cell_type": "markdown",
   "metadata": {},
   "source": [
    "\n",
    "Using selectkbest , we have got 8 best features. Now we will use these methods to validate the accuracy of the model 1.GridsearchCV 2.R-squared 3.Cross Validation 4.Mean Square Error"
   ]
  },
  {
   "cell_type": "code",
   "execution_count": null,
   "metadata": {},
   "outputs": [],
   "source": [
    "#.GridsearchCV to get the best parameters\n",
    "from sklearn.model_selection import GridSearchCV\n",
    "dt_grid={'alpha': [25,10,4,2,1.0,0.8,0.5,0.3,0.2,0.1,0.05,0.02,0.01]}\n",
    "grid_class=GridSearchCV(lassoregr,dt_grid,cv=6)\n",
    "grid_class.fit(X_train_skb, y_train)\n",
    "results = grid_class.cv_results_\n",
    "print(\"tuned hpyerparameters :(best parameters) \",grid_class.best_params_)\n",
    "print(\"accuracy :\",grid_class.best_score_)\n",
    "print(results.get('params'))\n",
    "print(results.get('mean_test_score'))\n",
    "print(results.get('mean_train_score'))\n",
    "print(grid_class.best_score_)\n",
    "final_model = grid_class.best_estimator_\n",
    "print(final_model)"
   ]
  },
  {
   "cell_type": "code",
   "execution_count": null,
   "metadata": {},
   "outputs": [],
   "source": [
    "# Calculating model accuracy using R square\n",
    "print(\"R-squared :\" ,grid_class.score(X_train_skb,y_train))"
   ]
  },
  {
   "cell_type": "code",
   "execution_count": null,
   "metadata": {},
   "outputs": [],
   "source": [
    "#Cross validation score \n",
    "print(cross_val_score(grid_class, X_train_skb y_train, cv=5))"
   ]
  },
  {
   "cell_type": "code",
   "execution_count": null,
   "metadata": {},
   "outputs": [],
   "source": [
    "print(\"Mean square Error: \",cross_val_score(grid_class, X_train_pca, y_train, cv=3, scoring='mean_squared_error'))"
   ]
  },
  {
   "cell_type": "markdown",
   "metadata": {},
   "source": [
    "# Conclusion"
   ]
  },
  {
   "cell_type": "markdown",
   "metadata": {},
   "source": [
    "I will consider using Linear Regression here over other models.Here are the few reasons -\n",
    "\n",
    "1.Accuracy score is better than others\n",
    "\n",
    "2.Better R-squared score with which it can more accurately predict the outcome\n",
    "\n",
    "3.Fastest in all of the models\n",
    "\n",
    "4.Coeffecient tells us clearly how much each feature wil reflect the price of the housing\n",
    "\n",
    "Also, i have tried to analyse the data through all the feature providing every insight in the data and the way each feature is behaving to impact the price.Cleaning the data was essential since without that a correct and meaningful prediction cannot be made.I had to replace null values in  price with mean value and few other feature with median values in order to make the dataset consistent.If we notice for all the models, R2 is less than 50% even after using dimension reduction techniques.We need to further analysis and check ,how we can increase the accuracy so that the predictions are also better.Models like SVC,Decision tree were very slow and their accuracy was on the lower side as well.So, these models can be ignored here."
   ]
  },
  {
   "cell_type": "code",
   "execution_count": null,
   "metadata": {},
   "outputs": [],
   "source": []
  }
 ],
 "metadata": {
  "kernelspec": {
   "display_name": "Python 3",
   "language": "python",
   "name": "python3"
  },
  "language_info": {
   "codemirror_mode": {
    "name": "ipython",
    "version": 3
   },
   "file_extension": ".py",
   "mimetype": "text/x-python",
   "name": "python",
   "nbconvert_exporter": "python",
   "pygments_lexer": "ipython3",
   "version": "3.7.0"
  }
 },
 "nbformat": 4,
 "nbformat_minor": 2
}
