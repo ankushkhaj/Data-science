{
 "cells": [
  {
   "cell_type": "markdown",
   "metadata": {
    "scrolled": true
   },
   "source": [
    "3.7.1 Train Delays\n",
    "\n",
    "This is Monthly CSV file  for March 2018. This ontains one row for each stop made on all NJ Transit and Amtrak (Northeast Corridor) train trips in the month.URL is as below-https://www.kaggle.com/pranavbadami/nj-transit-amtrak-nec-performance#2018_03.csv\n",
    "\n",
    "It has 11 columns-\n",
    "\n",
    "1.date->Date of operation according to the 27-hour NJ Transit schedule. e.g. trains originating between 04/09/18 4:00 to 04/09/18 27:00 (actually 04/10/18 3:00) are considered to run on 04/09/18.\n",
    "\n",
    "2.train_id:Train number in the NJT or Amtrak system. These are unique on a daily basis and correspond to the same scheduled train across multiple days. If the train_id contains and \"A\", it is an Amtrak train.\n",
    "\n",
    "3.stop_sequence:Scheduled stop number (e.g. 1st stop, 2nd stop) for the stop in the current row. Only populated on NJ Transit trains.\n",
    "\n",
    "4.from:Station the train is traveling from for the stop in the current row.\n",
    "\n",
    "5.from_id:Station id for the \"from\" station. Refer to rail_stations and stops.txt in rail_data/.\n",
    "\n",
    "6.toStation : the train is arriving to for the stop in the current row.\n",
    "\n",
    "7.to_id :Station id for the \"to\" station. Refer to rail_stations and stops.txt in rail_data/.\n",
    "\n",
    "8.scheduled_time:If \"type\" equals \"NJ Transit\", the scheduled departure time out of the \"to\" stop. Else, none.\n",
    "\n",
    "9.actual_time:If the status field is \"departed\", the actual departure time out of the \"to\" stop. If the status field is \"cancelled\", the time at which this stop was cancelled. If the status field is \"estimated\", the estimated departure time out of the \"to\" stop.\n",
    "\n",
    "10.delay_minutes:Only populated when \"type\" equals \"NJ Transit\". The difference between actual_time and scheduled_time, in minutes. Pre-cleaned to be greater than 0 for stops where \"actual_time\" less than \"scheduled_time\".\n",
    "\n",
    "11.status:Can take the values \"departed\", \"cancelled\", or \"estimated\". \"departed\" if stop was explicitly marked departed. \"Cancelled\" if stop was marked cancelled. \"estimated\" if the stop wasn't explicitly marked departed due to a terminated data stream for the train. Note: \"estimated\" is an unofficial status.lineThe train line on NJ Transit or Amtrak. See here for NJ Transit train lines. All Amtrak lines run on the Northeast Corridor NJ Transit line.\n",
    "\n",
    "12.type:Either \"NJ Transit\" or \"Amtrak\""
   ]
  },
  {
   "cell_type": "code",
   "execution_count": null,
   "metadata": {},
   "outputs": [],
   "source": [
    "\n",
    "import math\n",
    "import warnings\n",
    "from datetime import datetime\n",
    "start=datetime.now()\n",
    "from IPython.display import display\n",
    "from matplotlib import pyplot as plt\n",
    "import numpy as np\n",
    "import pandas as pd\n",
    "import seaborn as sns\n",
    "from sklearn import linear_model\n",
    "import statsmodels.formula.api as smf\n",
    "from sklearn.model_selection import cross_val_score\n",
    "from sklearn import neighbors\n",
    "from sklearn import tree,model_selection\n",
    "from sklearn.grid_search import GridSearchCV\n",
    "# A convenience for displaying visualizations.\n",
    "from IPython.display import Image\n",
    "from sklearn.preprocessing import StandardScaler\n",
    "from sklearn.decomposition import PCA\n",
    "from sklearn import preprocessing\n",
    "from sklearn.feature_selection import SelectKBest\n",
    "from sklearn.feature_selection import f_classif\n",
    "from sklearn.ensemble import RandomForestClassifier\n",
    "from sklearn.cross_decomposition import PLSRegression\n",
    "import seaborn as sns\n",
    "import time\n",
    "from sklearn.svm import SVR\n",
    "from sklearn.neighbors import KNeighborsClassifier\n",
    "# Display preferences.\n",
    "%matplotlib inline\n",
    "pd.options.display.float_format = '{:.3f}'.format\n",
    "\n",
    "# Suppress annoying harmless error.\n",
    "warnings.filterwarnings(\n",
    "    action=\"ignore\",\n",
    "    module=\"scipy\",\n",
    "    message=\"^internal gelsd\"\n",
    ")\n",
    "\n",
    "from sklearn import ensemble\n",
    "from sklearn.model_selection import cross_val_score\n",
    "from sklearn.ensemble import RandomForestClassifier\n",
    "start=datetime.now()\n",
    "rfc = ensemble.RandomForestClassifier()\n",
    "from sklearn.linear_model import LogisticRegression\n",
    "from sklearn.metrics import confusion_matrix\n",
    "from sklearn.metrics import accuracy_score \n",
    "from sklearn.metrics import classification_report\n",
    "from sklearn.metrics import roc_auc_score\n"
   ]
  },
  {
   "cell_type": "markdown",
   "metadata": {},
   "source": [
    "This notebook is composed of four parts: Cleaning, Exploration,Modeling and Conclusion.\n",
    "    \n",
    "Preamble: overview of the dataset \n",
    "    \n",
    "1. Cleaning\n",
    "\n",
    "2. Exploring the data\n",
    "\n",
    "3. Predicting flight delays \n",
    "\n",
    "4. Conclusion"
   ]
  },
  {
   "cell_type": "markdown",
   "metadata": {},
   "source": [
    "# Cleaning the data"
   ]
  },
  {
   "cell_type": "markdown",
   "metadata": {},
   "source": [
    "First we read in the data, do some basic cleaning, and display the first few values to check\n"
   ]
  },
  {
   "cell_type": "code",
   "execution_count": 2,
   "metadata": {},
   "outputs": [],
   "source": [
    "data=pd.read_csv('C:/Users/ankush/Desktop/2018_03.csv')\n"
   ]
  },
  {
   "cell_type": "markdown",
   "metadata": {},
   "source": [
    "Here , I am trying to check nulls for all the columns"
   ]
  },
  {
   "cell_type": "code",
   "execution_count": 3,
   "metadata": {},
   "outputs": [
    {
     "data": {
      "text/plain": [
       "date                  0\n",
       "train_id              0\n",
       "stop_sequence     13480\n",
       "from                  0\n",
       "from_id               0\n",
       "to                    0\n",
       "to_id                 0\n",
       "scheduled_time    13480\n",
       "actual_time           0\n",
       "delay_minutes     13480\n",
       "status                0\n",
       "line                  0\n",
       "type                  0\n",
       "dtype: int64"
      ]
     },
     "execution_count": 3,
     "metadata": {},
     "output_type": "execute_result"
    }
   ],
   "source": [
    "data.isnull().sum()\n"
   ]
  },
  {
   "cell_type": "markdown",
   "metadata": {},
   "source": [
    "Below, I am going to drop the rows having scheduled_time as null since it doesnot give us sufficient information to train our models"
   ]
  },
  {
   "cell_type": "code",
   "execution_count": 4,
   "metadata": {},
   "outputs": [],
   "source": [
    "data=data.dropna(0)\n"
   ]
  },
  {
   "cell_type": "markdown",
   "metadata": {},
   "source": [
    "Below ,these variables and columns are being derived for analysis which we will see in data exploring section"
   ]
  },
  {
   "cell_type": "code",
   "execution_count": 5,
   "metadata": {},
   "outputs": [],
   "source": [
    "data['Delay_Category']=np.where(data['delay_minutes']>0,1,0)\n",
    "delay=data[data['Delay_Category']==1]\n",
    "data['day_month'] = pd.DatetimeIndex(data['date']).day\n",
    "data1=np.where((data['line']=='Northeast Corrdr') & (data['delay_minutes']>0),1,0).sum()\n",
    "data2=np.where((data['line']=='No Jersey Coast') & (data['delay_minutes']>0),1,0).sum()\n",
    "data3=np.where((data['line']=='Main Line') & (data['delay_minutes']>0),1,0).sum()\n",
    "data4=np.where((data['line']=='Morristown Line') & (data['delay_minutes']>0),1,0).sum()\n",
    "data5=np.where((data['line']=='Gladstone Branch') & (data['delay_minutes']>0),1,0).sum()\n",
    "data6=np.where((data['line']=='Raritan Valley') & (data['delay_minutes']>0),1,0).sum()\n",
    "data7=np.where((data['line']=='Bergen Co. Line') & (data['delay_minutes']>0),1,0).sum()\n",
    "data8=np.where((data['line']=='Atl. City Line') & (data['delay_minutes']>0),1,0).sum()\n",
    "data9=np.where((data['line']=='Montclair-Boonton') & (data['delay_minutes']>0),1,0).sum()\n",
    "data10=np.where((data['line']=='Princeton Shuttle') & (data['delay_minutes']>0),1,0).sum()\n",
    "data11=np.where((data['line']=='Pascack Valley') & (data['delay_minutes']>0),1,0).sum()\n",
    "\n",
    "#/(data.shape[0]*100)"
   ]
  },
  {
   "cell_type": "markdown",
   "metadata": {},
   "source": [
    "# Exploring the data"
   ]
  },
  {
   "cell_type": "code",
   "execution_count": 6,
   "metadata": {},
   "outputs": [
    {
     "data": {
      "image/png": "[encoded data removed]",
      "text/plain": [
       "<Figure size 864x432 with 1 Axes>"
      ]
     },
     "metadata": {
      "needs_background": "light"
     },
     "output_type": "display_data"
    }
   ],
   "source": [
    "import matplotlib.pyplot as plt\n",
    "\n",
    "fig, ax = plt.subplots(figsize = (12,6))\n",
    "data.groupby(data['day_month']).sum().Delay_Category.plot(kind = 'bar', title = 'Delays')\n",
    "\n",
    "ax.set_xlabel('Day of March Month')\n",
    "ax.set_title('Delays for March Month 2018')\n",
    "\n",
    "plt.legend()\n",
    "plt.show()"
   ]
  },
  {
   "cell_type": "markdown",
   "metadata": {},
   "source": [
    "Above barchart tells us the information about delays each day for the month of March 2018 where mid March and end March had the most number of delays"
   ]
  },
  {
   "cell_type": "code",
   "execution_count": 9,
   "metadata": {
    "scrolled": true
   },
   "outputs": [
    {
     "data": {
      "image/png": "[encoded data removed]",
      "text/plain": [
       "<Figure size 864x432 with 1 Axes>"
      ]
     },
     "metadata": {
      "needs_background": "light"
     },
     "output_type": "display_data"
    }
   ],
   "source": [
    "import matplotlib.pyplot as plt\n",
    "\n",
    "fig, ax = plt.subplots(figsize = (12,6))\n",
    "data.groupby(data['line']).sum().Delay_Category.plot(kind = 'bar', title = 'Delays')\n",
    "\n",
    "ax.set_xlabel('Delays per line')\n",
    "ax.set_title('Delays per line for March Month 2018')\n",
    "\n",
    "plt.legend()\n",
    "plt.show()"
   ]
  },
  {
   "cell_type": "markdown",
   "metadata": {},
   "source": [
    "Above barchart shows number of delays per line for March 2018 where North Jersey Coast has the most number of delays"
   ]
  },
  {
   "cell_type": "code",
   "execution_count": 141,
   "metadata": {},
   "outputs": [
    {
     "data": {
      "text/plain": [
       "<Figure size 1440x1440 with 0 Axes>"
      ]
     },
     "metadata": {},
     "output_type": "display_data"
    },
    {
     "data": {
      "image/png": "[encoded data removed]",
      "text/plain": [
       "<Figure size 432x288 with 1 Axes>"
      ]
     },
     "metadata": {},
     "output_type": "display_data"
    }
   ],
   "source": [
    "colors = ['royalblue', 'grey', 'wheat', 'aquamarine', 'firebrick', 'seagreen', 'lightskyblue',\n",
    "          'lightcoral', 'yellowgreen', 'gold', 'tomato']\n",
    "fig = plt.figure(1, figsize=(20,20))\n",
    "labels = 'Northeast Corrdr', 'No Jersey Coast', 'Main Line','Morristown Line', 'Gladstone Branch', 'Raritan Valley','Bergen Co. Line ', 'Atl. City Line', 'Montclair-Boonton','Princeton Shuttle', 'Pascack Valley'\n",
    "sizes = [data1, data2, data3,data4,data5,data6,data7,data8,data9,data10,data11]\n",
    "explode = (0, 0, 0, 0,0, 0,0.5, 0.5,0, .5, 0)# only \"explode\" the 2nd slice (i.e. 'Hogs')\n",
    "fig1, ax1 = plt.subplots()\n",
    "ax1.pie(sizes, explode=explode, labels=labels, colors = colors,autopct='%1.1f%%',\n",
    "        shadow=True, startangle=60)\n",
    "ax1.axis('equal')  # Equal aspect ratio ensures that pie is drawn as a circle.\n",
    "ax1.set_title('Percentage of trains delayed per Train line',bbox={'facecolor':'midnightblue', 'pad':5},\n",
    "              color='w', fontsize=18)\n",
    "\n",
    "plt.show()"
   ]
  },
  {
   "cell_type": "markdown",
   "metadata": {},
   "source": [
    "The above barchart explains North Jersey coast had the highest percentage of delays"
   ]
  },
  {
   "cell_type": "code",
   "execution_count": 20,
   "metadata": {},
   "outputs": [
    {
     "data": {
      "image/png": "[encoded data removed]",
      "text/plain": [
       "<Figure size 864x432 with 1 Axes>"
      ]
     },
     "metadata": {
      "needs_background": "light"
     },
     "output_type": "display_data"
    }
   ],
   "source": [
    "total_train_per_line = data['line'].groupby(data['line']).count()\n",
    "\n",
    "fig, ax1 = plt.subplots(figsize = (12,6))\n",
    "\n",
    "x = total_train_per_line.index.values\n",
    "my_colors = 'rgbkymc'\n",
    "ax1.set_xticks(np.arange(len(x)))\n",
    "ax1.set_xticklabels(x, rotation = 45)\n",
    "ax1.bar(np.arange(len(x)),total_train_per_line.values,color=my_colors, align='center')\n",
    "ax1.set_title('Trains per line for March Month 2018')\n",
    "ax1.set_xlabel('Train Line name')\n",
    "ax1.set_ylabel('Total Number of trains per line')\n",
    "\n",
    "plt.show()"
   ]
  },
  {
   "cell_type": "markdown",
   "metadata": {},
   "source": [
    "The above barchart shows Northeast corridor has the most number of trains running in March 2018"
   ]
  },
  {
   "cell_type": "code",
   "execution_count": 13,
   "metadata": {},
   "outputs": [
    {
     "data": {
      "image/png": "[encoded data removed]",
      "text/plain": [
       "<Figure size 864x432 with 1 Axes>"
      ]
     },
     "metadata": {
      "needs_background": "light"
     },
     "output_type": "display_data"
    }
   ],
   "source": [
    "fig, ax = plt.subplots(figsize = (12,6))\n",
    "data.groupby(data['line']).mean().delay_minutes.plot(kind = 'bar', title = 'Delays')\n",
    "\n",
    "ax.set_xlabel('Train Line names')\n",
    "ax.set_ylabel('Minutes')\n",
    "ax.set_title('Mean Delays for each train line in minutes')\n",
    "plt.legend()\n",
    "plt.show()"
   ]
  },
  {
   "cell_type": "markdown",
   "metadata": {},
   "source": [
    "Above barchart shows the mean delays for each line where Altantic city line has the highest mean delays"
   ]
  },
  {
   "cell_type": "code",
   "execution_count": 26,
   "metadata": {},
   "outputs": [
    {
     "data": {
      "image/png": "[encoded data removed]",
      "text/plain": [
       "<Figure size 864x432 with 1 Axes>"
      ]
     },
     "metadata": {
      "needs_background": "light"
     },
     "output_type": "display_data"
    }
   ],
   "source": [
    "fig, ax = plt.subplots(figsize = (12,6))\n",
    "data.groupby(data['from']).count().delay_minutes.sort_values(ascending=False).head().plot(kind = 'bar', title = 'Delays')\n",
    "\n",
    "ax.set_xlabel('Station names-Origin and Destination')\n",
    "ax.set_ylabel('Number of Delays')\n",
    "ax.set_title('Top 5 delays with their stations at origin and Destination')\n",
    "plt.legend()\n",
    "plt.show()"
   ]
  },
  {
   "cell_type": "markdown",
   "metadata": {},
   "source": [
    "Above barchart shows that New York Pennstation has the highest number of delays"
   ]
  },
  {
   "cell_type": "markdown",
   "metadata": {},
   "source": [
    "# Getting X and Y variables for the model"
   ]
  },
  {
   "cell_type": "code",
   "execution_count": 6,
   "metadata": {},
   "outputs": [],
   "source": [
    "#X=data.drop(['Price','Date','Address','Propertycount'],axis=1)\n",
    "X=pd.get_dummies(data.drop(['scheduled_time', 'actual_time', 'delay_minutes'], 1))\n",
    "Y=data['Delay_Category']\n",
    "from sklearn.model_selection import train_test_split\n",
    "from imblearn.over_sampling import SMOTE\n",
    "#X = StandardScaler().fit_transform(X)\n",
    "sm = SMOTE(random_state=2)\n",
    "X_sampled,y_sampled = sm.fit_sample(X,Y)\n",
    "X_train_sample,X_test_sample,y_train_sample,y_test_sample = train_test_split(X_sampled,y_sampled,test_size=.20)"
   ]
  },
  {
   "cell_type": "markdown",
   "metadata": {},
   "source": [
    "Above, we have got X and Y variables.Also,we did resampling of the data to balance the categorical output variable Y.We will now PCA for dimension reduction to get most of the variance in least variables as we can.Here PCA is not making much of sense but still just for reducing the dimensions, we will use PCA"
   ]
  },
  {
   "cell_type": "markdown",
   "metadata": {},
   "source": [
    "# Predicting Flights Delays using models"
   ]
  },
  {
   "cell_type": "markdown",
   "metadata": {},
   "source": [
    "# Dimension Reduction PCA"
   ]
  },
  {
   "cell_type": "code",
   "execution_count": 7,
   "metadata": {},
   "outputs": [
    {
     "name": "stdout",
     "output_type": "stream",
     "text": [
      "The percentage of total variance in the dataset explained by each component from Sklearn PCA.\n",
      " [5.98205903e-01 4.01793677e-01 2.88508306e-07 1.12429230e-07\n",
      " 1.46583117e-09]\n"
     ]
    }
   ],
   "source": [
    "X_pca = PCA(n_components=5)\n",
    "X_pca.fit(X_train_sample)\n",
    "X_train_pca = X_pca.transform(X_train_sample)\n",
    "X_test_pca = X_pca.transform(X_test_sample)\n",
    "print(\n",
    "    'The percentage of total variance in the dataset explained by each',\n",
    "    'component from Sklearn PCA.\\n',\n",
    "    X_pca.explained_variance_ratio_\n",
    ")"
   ]
  },
  {
   "cell_type": "markdown",
   "metadata": {},
   "source": [
    "We have selected 5 components which are explaning most of the variance in the dataset.We will use all the classification models -Naive Bayes,KNN,Decision Tree,Random Forest, Linear Regression, Ridge Regression, Lasso Regression, SVC,GBR and fit the model with the data and check the accuracy of the model.First we will use gridsearch cv to get the best parameters and then the below techniques for each model and compare them-\n",
    "\n",
    "Cross Validation\n",
    "\n",
    "Classification_report\n",
    "\n",
    "AUC\n",
    "\n",
    "Confusion Matrix\n",
    "\n",
    "\n"
   ]
  },
  {
   "cell_type": "markdown",
   "metadata": {},
   "source": [
    "# 1.Naive Bayes"
   ]
  },
  {
   "cell_type": "code",
   "execution_count": 15,
   "metadata": {},
   "outputs": [
    {
     "name": "stdout",
     "output_type": "stream",
     "text": [
      "Accuracy: 0.9446848401880841\n"
     ]
    }
   ],
   "source": [
    "from sklearn.naive_bayes import BernoulliNB\n",
    "bnb = BernoulliNB() \n",
    "#Fitting the model with the train data\n",
    "bnb = bnb.fit(X_train_pca, y_train_sample)\n",
    "y_pred_bnb = bnb.predict(X_train_pca)\n"
   ]
  },
  {
   "cell_type": "markdown",
   "metadata": {},
   "source": [
    "Since we have fitted the model with the data and we dont have any parameters to tune using gridsearch cv so we are only using Cross Validation\n",
    "Classification_report,AUC,Confusion Matrix accuracy of the model"
   ]
  },
  {
   "cell_type": "markdown",
   "metadata": {},
   "source": [
    "### Cross Validation"
   ]
  },
  {
   "cell_type": "code",
   "execution_count": 21,
   "metadata": {},
   "outputs": [
    {
     "name": "stdout",
     "output_type": "stream",
     "text": [
      "Training data accuracy for Naive Bayes:  [0.94476684 0.94551082 0.94580841 0.94473543 0.9425927  0.94396167\n",
      " 0.94419975 0.94616232 0.94520996 0.94390048]\n",
      "Testing data accuracy Naive Bayes:  [0.94417331 0.94572075 0.94667302 0.94703012 0.94453041 0.94381621\n",
      " 0.94345238 0.94511905 0.9452381  0.94238095]\n"
     ]
    }
   ],
   "source": [
    "print(\"Training data accuracy for Naive Bayes: \",cross_val_score(bnb, X_train_pca, y_train_sample, cv=10))\n",
    "print(\"Testing data accuracy Naive Bayes: \",cross_val_score(bnb, X_test_pca, y_test_sample, cv=10))"
   ]
  },
  {
   "cell_type": "markdown",
   "metadata": {},
   "source": [
    "### AUC(Area Under the Curve)"
   ]
  },
  {
   "cell_type": "code",
   "execution_count": 22,
   "metadata": {},
   "outputs": [
    {
     "name": "stdout",
     "output_type": "stream",
     "text": [
      "AUC Score for BNB : 0.9446707058518109\n"
     ]
    }
   ],
   "source": [
    "from sklearn.metrics import roc_auc_score\n",
    "print (\"AUC Score for BNB :\" ,roc_auc_score(y_train_sample, y_pred_bnb))"
   ]
  },
  {
   "cell_type": "markdown",
   "metadata": {},
   "source": [
    "### Confusion Matrix"
   ]
  },
  {
   "cell_type": "code",
   "execution_count": 23,
   "metadata": {},
   "outputs": [
    {
     "name": "stdout",
     "output_type": "stream",
     "text": [
      "[[155079  12818]\n",
      " [  5769 162354]]\n",
      "Accuracy Score for BNB : 0.9446848401880841\n"
     ]
    }
   ],
   "source": [
    "from sklearn.metrics import confusion_matrix\n",
    "from sklearn.metrics import accuracy_score \n",
    "print(confusion_matrix(y_train_sample, y_pred_bnb))\n",
    "print('Accuracy Score for BNB :',accuracy_score(y_train_sample, y_pred_bnb))"
   ]
  },
  {
   "cell_type": "markdown",
   "metadata": {},
   "source": [
    "### Classification Report"
   ]
  },
  {
   "cell_type": "code",
   "execution_count": 24,
   "metadata": {},
   "outputs": [
    {
     "name": "stdout",
     "output_type": "stream",
     "text": [
      "Classification Report for BNB:              precision    recall  f1-score   support\n",
      "\n",
      "          0       0.96      0.92      0.94    167897\n",
      "          1       0.93      0.97      0.95    168123\n",
      "\n",
      "avg / total       0.95      0.94      0.94    336020\n",
      "\n"
     ]
    }
   ],
   "source": [
    "\n",
    "print(\"Classification Report for BNB:\",classification_report(y_train_sample, y_pred_bnb))"
   ]
  },
  {
   "cell_type": "markdown",
   "metadata": {},
   "source": [
    "As we notice above, Cross validation,AUC, Confusion Matrix,Classification report are having pretty good scores.Naive Bayer is doing good job to predict the delay of trains"
   ]
  },
  {
   "cell_type": "markdown",
   "metadata": {},
   "source": [
    "# 2.KNN Classification "
   ]
  },
  {
   "cell_type": "code",
   "execution_count": null,
   "metadata": {},
   "outputs": [],
   "source": [
    "knn_model = KNeighborsClassifier(n_neighbors=5)\n",
    "knn_model.fit(X_train_pca, y_train_sample)\n",
    "y_pred_knn = knn_model.predict(X_train_pca)"
   ]
  },
  {
   "cell_type": "markdown",
   "metadata": {},
   "source": [
    "### Gridsearchcv  to get the best parameters"
   ]
  },
  {
   "cell_type": "code",
   "execution_count": 25,
   "metadata": {},
   "outputs": [
    {
     "name": "stdout",
     "output_type": "stream",
     "text": [
      "[{'leaf_size': 1, 'n_neighbors': 5}, {'leaf_size': 2, 'n_neighbors': 5}, {'leaf_size': 3, 'n_neighbors': 5}, {'leaf_size': 5, 'n_neighbors': 5}]\n",
      "[0.99599726 0.99599726 0.99599726 0.99599726]\n",
      "[0.99734837 0.99734837 0.99734837 0.99734837]\n",
      "Best Hyper Parameters:\n",
      " {'leaf_size': 1, 'n_neighbors': 5}\n",
      "0.9959972620677341\n",
      "KNeighborsClassifier(algorithm='auto', leaf_size=1, metric='minkowski',\n",
      "           metric_params=None, n_jobs=1, n_neighbors=5, p=2,\n",
      "           weights='uniform')\n"
     ]
    },
    {
     "name": "stderr",
     "output_type": "stream",
     "text": [
      "C:\\Users\\ankush\\anacondanew\\lib\\site-packages\\sklearn\\utils\\deprecation.py:122: FutureWarning: You are accessing a training score ('mean_train_score'), which will not be available by default any more in 0.21. If you need training scores, please set return_train_score=True\n",
      "  warnings.warn(*warn_args, **warn_kwargs)\n"
     ]
    }
   ],
   "source": [
    "\n",
    "params = {'n_neighbors':[5],\n",
    "          'leaf_size':[1,2,3,5]\n",
    "                  }\n",
    "#Making models with hyper parameters sets\n",
    "grid_class_knn = model_selection.GridSearchCV(knn_model, param_grid=params)\n",
    "#Learning\n",
    "grid_class_knn.fit(X_train_pca,y_train_sample)\n",
    "#The best hyper parameters set\n",
    "\n",
    "results = grid_class_knn.cv_results_\n",
    "print(results.get('params'))\n",
    "print(results.get('mean_test_score'))\n",
    "print(results.get('mean_train_score'))\n",
    "print(\"Best Hyper Parameters:\\n\",grid_class_knn.best_params_)\n",
    "print(grid_class_knn.best_score_)\n",
    "final_model = grid_class_knn.best_estimator_\n",
    "print(final_model)"
   ]
  },
  {
   "cell_type": "markdown",
   "metadata": {},
   "source": [
    "### Cross Validation"
   ]
  },
  {
   "cell_type": "code",
   "execution_count": 26,
   "metadata": {},
   "outputs": [
    {
     "name": "stdout",
     "output_type": "stream",
     "text": [
      "Training data accuracy for Naive Bayes:  [0.9969348  0.99717287 0.99711335 0.99687519 0.99672639 0.99705375\n",
      " 0.99705375 0.99636916 0.99705366 0.99651796]\n",
      "Testing data accuracy Naive Bayes:  [0.98690632 0.98714439 0.98559695 0.98762052 0.98714439 0.98607309\n",
      " 0.99047619 0.98916667 0.99       0.98630952]\n"
     ]
    }
   ],
   "source": [
    "print(\"Training data accuracy for knn: \",cross_val_score(grid_class_knn, X_train_pca, y_train_sample, cv=10))\n",
    "print(\"Testing data accuracy for knn: \",cross_val_score(grid_class_knn, X_test_pca, y_test_sample, cv=10))"
   ]
  },
  {
   "cell_type": "markdown",
   "metadata": {},
   "source": [
    "### AUC"
   ]
  },
  {
   "cell_type": "code",
   "execution_count": 27,
   "metadata": {},
   "outputs": [
    {
     "name": "stdout",
     "output_type": "stream",
     "text": [
      "AUC Score for BNB : 0.9446707058518109\n"
     ]
    }
   ],
   "source": [
    "from sklearn.metrics import roc_auc_score\n",
    "print (\"AUC Score for KNN :\" ,roc_auc_score(y_train_sample, y_pred_knn))"
   ]
  },
  {
   "cell_type": "markdown",
   "metadata": {},
   "source": [
    "### Confusion Matrix"
   ]
  },
  {
   "cell_type": "code",
   "execution_count": 28,
   "metadata": {},
   "outputs": [
    {
     "name": "stdout",
     "output_type": "stream",
     "text": [
      "[[155079  12818]\n",
      " [  5769 162354]]\n",
      "Accuracy Score for BNB : 0.9446848401880841\n"
     ]
    }
   ],
   "source": [
    "print(confusion_matrix(y_train_sample, y_pred_knn))\n",
    "print('Accuracy Score for KNN :',accuracy_score(y_train_sample, y_pred_knn))"
   ]
  },
  {
   "cell_type": "markdown",
   "metadata": {},
   "source": [
    "### Classification Report"
   ]
  },
  {
   "cell_type": "code",
   "execution_count": 29,
   "metadata": {},
   "outputs": [
    {
     "name": "stdout",
     "output_type": "stream",
     "text": [
      "Classification Report for BNB:              precision    recall  f1-score   support\n",
      "\n",
      "          0       0.96      0.92      0.94    167897\n",
      "          1       0.93      0.97      0.95    168123\n",
      "\n",
      "avg / total       0.95      0.94      0.94    336020\n",
      "\n"
     ]
    }
   ],
   "source": [
    "print(\"Classification Report for knn:\",classification_report(y_train_sample, y_pred_knn))"
   ]
  },
  {
   "cell_type": "markdown",
   "metadata": {},
   "source": [
    "As we notice above, Cross validation,AUC, Confusion Matrix,Classification report are having pretty good scores.KNN is doing good job to predict the delay of trains.Results are very similar to Naive Bayes"
   ]
  },
  {
   "cell_type": "markdown",
   "metadata": {},
   "source": [
    "# 3.Random Forest"
   ]
  },
  {
   "cell_type": "code",
   "execution_count": 8,
   "metadata": {},
   "outputs": [],
   "source": [
    "rfc = ensemble.RandomForestClassifier(max_depth=10,n_estimators= 100)\n",
    "rfc.fit(X_train_pca, y_train_sample)\n",
    "y_pred_rfc = rfc.predict(X_train_pca)\n",
    "\n"
   ]
  },
  {
   "cell_type": "markdown",
   "metadata": {},
   "source": [
    "### Gridsearchcv to get the best parameters\n"
   ]
  },
  {
   "cell_type": "code",
   "execution_count": 9,
   "metadata": {},
   "outputs": [
    {
     "name": "stdout",
     "output_type": "stream",
     "text": [
      "[{'max_depth': 3, 'max_features': 5}, {'max_depth': 4, 'max_features': 5}, {'max_depth': 5, 'max_features': 5}]\n",
      "[0.97555503 0.97989703 0.98313791]\n",
      "[0.97562228 0.98000476 0.98322838]\n",
      "Best Hyper Parameters:\n",
      " {'max_depth': 5, 'max_features': 5}\n",
      "0.9831379084578299\n",
      "RandomForestClassifier(bootstrap=True, class_weight=None, criterion='gini',\n",
      "            max_depth=5, max_features=5, max_leaf_nodes=None,\n",
      "            min_impurity_decrease=0.0, min_impurity_split=None,\n",
      "            min_samples_leaf=1, min_samples_split=2,\n",
      "            min_weight_fraction_leaf=0.0, n_estimators=100, n_jobs=1,\n",
      "            oob_score=False, random_state=None, verbose=0,\n",
      "            warm_start=False)\n"
     ]
    },
    {
     "name": "stderr",
     "output_type": "stream",
     "text": [
      "C:\\Users\\ankush\\anacondanew\\lib\\site-packages\\sklearn\\utils\\deprecation.py:122: FutureWarning: You are accessing a training score ('mean_train_score'), which will not be available by default any more in 0.21. If you need training scores, please set return_train_score=True\n",
      "  warnings.warn(*warn_args, **warn_kwargs)\n"
     ]
    }
   ],
   "source": [
    "dt_grid={'max_depth':[3,4,5],'max_features': [5]}\n",
    "\n",
    "grid_class_rfc=model_selection.GridSearchCV(rfc,dt_grid,cv=6)\n",
    "grid_class_rfc.fit(X_train_pca, y_train_sample)\n",
    "results = grid_class_rfc.cv_results_\n",
    "print(results.get('params'))\n",
    "print(results.get('mean_test_score'))\n",
    "print(results.get('mean_train_score'))\n",
    "print(\"Best Hyper Parameters:\\n\",grid_class_rfc.best_params_)\n",
    "print(grid_class_rfc.best_score_)\n",
    "final_model = grid_class_rfc.best_estimator_\n",
    "print(final_model)"
   ]
  },
  {
   "cell_type": "markdown",
   "metadata": {},
   "source": [
    "### Cross Validaton"
   ]
  },
  {
   "cell_type": "code",
   "execution_count": null,
   "metadata": {},
   "outputs": [],
   "source": [
    "print(\"Training data accuracy for Random Forest: \",cross_val_score(grid_class_rfc, X_train_pca, y_train_sample, cv=10))\n",
    "print(\"Testing data accuracy for Random Forest: \",cross_val_score(grid_class_rfc, X_test_pca, y_test_sample, cv=10))"
   ]
  },
  {
   "cell_type": "markdown",
   "metadata": {},
   "source": [
    "### AUC"
   ]
  },
  {
   "cell_type": "code",
   "execution_count": 10,
   "metadata": {},
   "outputs": [
    {
     "name": "stdout",
     "output_type": "stream",
     "text": [
      "AUC Score for Random Forest : 0.9957566277482844\n"
     ]
    }
   ],
   "source": [
    "from sklearn.metrics import roc_auc_score\n",
    "print (\"AUC Score for Random Forest :\" ,roc_auc_score(y_train_sample, y_pred_rfc))"
   ]
  },
  {
   "cell_type": "markdown",
   "metadata": {},
   "source": [
    "### Confusion Matrix"
   ]
  },
  {
   "cell_type": "code",
   "execution_count": 13,
   "metadata": {},
   "outputs": [
    {
     "name": "stdout",
     "output_type": "stream",
     "text": [
      "[[168030     97]\n",
      " [  1328 166565]]\n",
      "Accuracy Score for Random Forest : 0.9957591810011309\n"
     ]
    }
   ],
   "source": [
    "from sklearn.metrics import confusion_matrix\n",
    "from sklearn.metrics import accuracy_score \n",
    "print(confusion_matrix(y_train_sample, y_pred_rfc))\n",
    "print('Accuracy Score for Random Forest :',accuracy_score(y_train_sample, y_pred_rfc))"
   ]
  },
  {
   "cell_type": "markdown",
   "metadata": {},
   "source": [
    "### Classification Report"
   ]
  },
  {
   "cell_type": "code",
   "execution_count": 15,
   "metadata": {},
   "outputs": [
    {
     "name": "stdout",
     "output_type": "stream",
     "text": [
      "Classification Report for Random Forest:              precision    recall  f1-score   support\n",
      "\n",
      "          0       0.99      1.00      1.00    168127\n",
      "          1       1.00      0.99      1.00    167893\n",
      "\n",
      "avg / total       1.00      1.00      1.00    336020\n",
      "\n"
     ]
    }
   ],
   "source": [
    "from sklearn.metrics import classification_report\n",
    "print(\"Classification Report for Random Forest:\",classification_report(y_train_sample, y_pred_rfc))"
   ]
  },
  {
   "cell_type": "markdown",
   "metadata": {},
   "source": [
    "Cross validation,AUC, Confusion Matrix,Classification report have very high scores for Random Forest compared to Naive Bayes and KNN.F1 score and precision are very good."
   ]
  },
  {
   "cell_type": "markdown",
   "metadata": {},
   "source": [
    "# 4.Decision Tree"
   ]
  },
  {
   "cell_type": "markdown",
   "metadata": {},
   "source": [
    "We will fit the model with PCA formatted data and then gridsearch cv to get the best parameters"
   ]
  },
  {
   "cell_type": "code",
   "execution_count": 16,
   "metadata": {},
   "outputs": [],
   "source": [
    "decision_tree = tree.DecisionTreeClassifier(max_depth=10)\n",
    "decision_tree.fit(X_train_pca, y_train_sample)\n",
    "y_pred_dt = decision_tree.predict(X_train_pca)"
   ]
  },
  {
   "cell_type": "markdown",
   "metadata": {},
   "source": [
    "### GridSearchcv to get the best parameters"
   ]
  },
  {
   "cell_type": "code",
   "execution_count": 17,
   "metadata": {},
   "outputs": [
    {
     "name": "stdout",
     "output_type": "stream",
     "text": [
      "[{'max_depth': 50, 'max_features': 5}]\n",
      "[0.9972829]\n",
      "[1.]\n",
      "Best Hyper Parameters:\n",
      " {'max_depth': 50, 'max_features': 5}\n",
      "0.9972828998273913\n",
      "DecisionTreeClassifier(class_weight=None, criterion='gini', max_depth=50,\n",
      "            max_features=5, max_leaf_nodes=None, min_impurity_decrease=0.0,\n",
      "            min_impurity_split=None, min_samples_leaf=1,\n",
      "            min_samples_split=2, min_weight_fraction_leaf=0.0,\n",
      "            presort=False, random_state=None, splitter='best')\n"
     ]
    },
    {
     "name": "stderr",
     "output_type": "stream",
     "text": [
      "C:\\Users\\ankush\\anacondanew\\lib\\site-packages\\sklearn\\utils\\deprecation.py:122: FutureWarning: You are accessing a training score ('mean_train_score'), which will not be available by default any more in 0.21. If you need training scores, please set return_train_score=True\n",
      "  warnings.warn(*warn_args, **warn_kwargs)\n"
     ]
    }
   ],
   "source": [
    "\n",
    "dt_grid={'max_depth':[50],'max_features': [5]}\n",
    "grid_class_dt=model_selection.GridSearchCV(decision_tree,dt_grid,cv=6)\n",
    "grid_class_dt.fit(X_train_pca, y_train_sample)\n",
    "results = grid_class_dt.cv_results_\n",
    "print(results.get('params'))\n",
    "print(results.get('mean_test_score'))\n",
    "print(results.get('mean_train_score'))\n",
    "print(\"Best Hyper Parameters:\\n\",grid_class_dt.best_params_)\n",
    "print(grid_class_dt.best_score_)\n",
    "final_model = grid_class_dt.best_estimator_\n",
    "print(final_model)"
   ]
  },
  {
   "cell_type": "markdown",
   "metadata": {},
   "source": [
    "### Cross Validaton"
   ]
  },
  {
   "cell_type": "code",
   "execution_count": 19,
   "metadata": {},
   "outputs": [
    {
     "name": "stdout",
     "output_type": "stream",
     "text": [
      "Training data accuracy for Decision Tree:  [0.99726215 0.99797637 0.99705383 0.99696447 0.99752991 0.99755967\n",
      " 0.99764895 0.99752984 0.9975596  0.9975596 ]\n",
      "Testing data accuracy for Decision Tree:  [0.99440543 0.99392929 0.99416736 0.99440543 0.99416736 0.99583383\n",
      " 0.9947619  0.99535714 0.99464286 0.995     ]\n"
     ]
    }
   ],
   "source": [
    "print(\"Training data accuracy for Decision Tree: \",cross_val_score(grid_class_dt, X_train_pca, y_train_sample, cv=10))\n",
    "print(\"Testing data accuracy for Decision Tree: \",cross_val_score(grid_class_dt, X_test_pca, y_test_sample, cv=10))"
   ]
  },
  {
   "cell_type": "markdown",
   "metadata": {},
   "source": [
    "### AUC"
   ]
  },
  {
   "cell_type": "code",
   "execution_count": 20,
   "metadata": {},
   "outputs": [
    {
     "name": "stdout",
     "output_type": "stream",
     "text": [
      "AUC Score for Decision Tree : 0.9946050924418225\n"
     ]
    }
   ],
   "source": [
    "from sklearn.metrics import roc_auc_score\n",
    "print (\"AUC Score for Decision Tree :\" ,roc_auc_score(y_train_sample, y_pred_dt))"
   ]
  },
  {
   "cell_type": "markdown",
   "metadata": {},
   "source": [
    "### Confusion Matrix"
   ]
  },
  {
   "cell_type": "code",
   "execution_count": 22,
   "metadata": {},
   "outputs": [
    {
     "name": "stdout",
     "output_type": "stream",
     "text": [
      "[[167074   1053]\n",
      " [   760 167133]]\n",
      "Accuracy Score for Decision Tree : 0.9946044878281055\n"
     ]
    }
   ],
   "source": [
    "print(confusion_matrix(y_train_sample, y_pred_dt))\n",
    "print('Accuracy Score for Decision Tree :',accuracy_score(y_train_sample, y_pred_dt))"
   ]
  },
  {
   "cell_type": "markdown",
   "metadata": {},
   "source": [
    "### Classification Report"
   ]
  },
  {
   "cell_type": "code",
   "execution_count": 23,
   "metadata": {},
   "outputs": [
    {
     "name": "stdout",
     "output_type": "stream",
     "text": [
      "Classification Report for Decision Tree:              precision    recall  f1-score   support\n",
      "\n",
      "          0       1.00      0.99      0.99    168127\n",
      "          1       0.99      1.00      0.99    167893\n",
      "\n",
      "avg / total       0.99      0.99      0.99    336020\n",
      "\n"
     ]
    }
   ],
   "source": [
    "print(\"Classification Report for Decision Tree:\",classification_report(y_train_sample, y_pred_dt))"
   ]
  },
  {
   "cell_type": "markdown",
   "metadata": {},
   "source": [
    "Cross validation,AUC, Confusion Matrix,Classification report have very high scores for Decision Tree  compared to Naive Bayes and KNN.F1 score and precision are very good."
   ]
  },
  {
   "cell_type": "markdown",
   "metadata": {},
   "source": [
    "# 5.SVC"
   ]
  },
  {
   "cell_type": "markdown",
   "metadata": {},
   "source": [
    "We will fit the model with PCA formatted data and then gridsearch cv to get the best parameters"
   ]
  },
  {
   "cell_type": "code",
   "execution_count": null,
   "metadata": {},
   "outputs": [],
   "source": [
    "from sklearn.svm import SVC\n",
    "svm=SVC()\n",
    "svm.fit(X_train_pca, y_train_sample)\n",
    "y_pred_svm = svm.predict(X_train_pca)\n"
   ]
  },
  {
   "cell_type": "markdown",
   "metadata": {},
   "source": [
    "### GridSearchcv to get the best parameters\n"
   ]
  },
  {
   "cell_type": "code",
   "execution_count": null,
   "metadata": {},
   "outputs": [],
   "source": [
    "param_grid = {'C':[1,10,100,1000],'gamma':[1,0.1,0.001,0.0001], 'kernel':['linear','rbf']}\n",
    "grid_class_svm=model_selection.GridSearchCV(SVC(),param_grid,refit = True)\n",
    "grid_class_svm.fit(X_train_pca, y_train)\n",
    "results = grid_class_svm.cv_results_\n",
    "print(results.get('params'))\n",
    "print(results.get('mean_test_score'))\n",
    "print(results.get('mean_train_score'))\n",
    "print(\"Best Hyper Parameters:\\n\",grid_class_svm.best_params_)\n",
    "print(grid_class_svm.best_score_)\n",
    "final_model = grid_class_svm.best_estimator_\n",
    "print(final_model)"
   ]
  },
  {
   "cell_type": "markdown",
   "metadata": {},
   "source": [
    "### Cross Validaton\n"
   ]
  },
  {
   "cell_type": "code",
   "execution_count": null,
   "metadata": {},
   "outputs": [],
   "source": [
    "print(\"Training data accuracy for Random Forest: \",cross_val_score(grid_class_rfc, X_train_pca, y_train_sample, cv=10))\n",
    "print(\"Testing data accuracy for Random Forest: \",cross_val_score(grid_class_rfc, X_test_pca, y_test_sample, cv=10))"
   ]
  },
  {
   "cell_type": "markdown",
   "metadata": {},
   "source": [
    "### AUC"
   ]
  },
  {
   "cell_type": "code",
   "execution_count": null,
   "metadata": {},
   "outputs": [],
   "source": [
    "from sklearn.metrics import roc_auc_score\n",
    "print (\"AUC Score for Random Forest :\" ,roc_auc_score(y_train_sample, y_pred_rfc))"
   ]
  },
  {
   "cell_type": "markdown",
   "metadata": {},
   "source": [
    "### Confusion Matrix"
   ]
  },
  {
   "cell_type": "code",
   "execution_count": null,
   "metadata": {},
   "outputs": [],
   "source": [
    "print(confusion_matrix(y_train_sample, y_pred_bnb))\n",
    "print('Accuracy Score for Random Forest :',accuracy_score(y_train_sample, y_pred_rfc))"
   ]
  },
  {
   "cell_type": "markdown",
   "metadata": {},
   "source": [
    "### Classification Report"
   ]
  },
  {
   "cell_type": "code",
   "execution_count": null,
   "metadata": {},
   "outputs": [],
   "source": [
    "print(\"Classification Report for Random Forest:\",classification_report(y_train_sample, y_pred_rfc))"
   ]
  },
  {
   "cell_type": "markdown",
   "metadata": {},
   "source": [
    "# 6.Linear Regression"
   ]
  },
  {
   "cell_type": "markdown",
   "metadata": {},
   "source": [
    "We will fit the model with PCA formatted data and then gridsearch cv to get the best parameters"
   ]
  },
  {
   "cell_type": "code",
   "execution_count": 8,
   "metadata": {},
   "outputs": [],
   "source": [
    "lr = LogisticRegression(C=1e9)\n",
    "lr.fit(X_train_pca, y_train_sample)\n",
    "y_pred_lr = lr.predict(X_train_pca)"
   ]
  },
  {
   "cell_type": "markdown",
   "metadata": {},
   "source": [
    "### GridSearchcv to get the best parameters\n"
   ]
  },
  {
   "cell_type": "code",
   "execution_count": 9,
   "metadata": {},
   "outputs": [
    {
     "name": "stdout",
     "output_type": "stream",
     "text": [
      "[{'C': 0.001, 'penalty': 'l1'}, {'C': 0.001, 'penalty': 'l2'}, {'C': 0.01, 'penalty': 'l1'}, {'C': 0.01, 'penalty': 'l2'}, {'C': 0.1, 'penalty': 'l1'}, {'C': 0.1, 'penalty': 'l2'}, {'C': 1.0, 'penalty': 'l1'}, {'C': 1.0, 'penalty': 'l2'}, {'C': 10.0, 'penalty': 'l1'}, {'C': 10.0, 'penalty': 'l2'}, {'C': 100.0, 'penalty': 'l1'}, {'C': 100.0, 'penalty': 'l2'}, {'C': 1000.0, 'penalty': 'l1'}, {'C': 1000.0, 'penalty': 'l2'}]\n",
      "[0.96623118 0.96428189 0.96783525 0.9655586  0.96798107 0.96660318\n",
      " 0.96799893 0.96662996 0.96799893 0.96662996 0.9680019  0.96662996\n",
      " 0.96798702 0.96662996]\n",
      "[0.96627284 0.96428453 0.967866   0.96540384 0.9679943  0.96651026\n",
      " 0.96800521 0.96653241 0.96800686 0.96653771 0.96800984 0.96653804\n",
      " 0.96800124 0.96653804]\n",
      "Best Hyper Parameters:\n",
      " {'C': 100.0, 'penalty': 'l1'}\n",
      "0.9680019046485329\n",
      "LogisticRegression(C=100.0, class_weight=None, dual=False, fit_intercept=True,\n",
      "          intercept_scaling=1, max_iter=100, multi_class='ovr', n_jobs=1,\n",
      "          penalty='l1', random_state=None, solver='liblinear', tol=0.0001,\n",
      "          verbose=0, warm_start=False)\n"
     ]
    },
    {
     "name": "stderr",
     "output_type": "stream",
     "text": [
      "C:\\Users\\ankush\\anacondanew\\lib\\site-packages\\sklearn\\utils\\deprecation.py:122: FutureWarning: You are accessing a training score ('mean_train_score'), which will not be available by default any more in 0.21. If you need training scores, please set return_train_score=True\n",
      "  warnings.warn(*warn_args, **warn_kwargs)\n"
     ]
    }
   ],
   "source": [
    "grid={\"C\":np.logspace(-3,3,7), \"penalty\":[\"l1\",\"l2\"]}# l1 lasso l2 ridge\n",
    "logreg_cv=model_selection.GridSearchCV(lr,grid,cv=10)\n",
    "logreg_cv.fit(X_train_pca,y_train_sample)\n",
    "results = logreg_cv.cv_results_\n",
    "print(results.get('params'))\n",
    "print(results.get('mean_test_score'))\n",
    "print(results.get('mean_train_score'))\n",
    "print(\"Best Hyper Parameters:\\n\",logreg_cv.best_params_)\n",
    "print(logreg_cv.best_score_)\n",
    "final_model = logreg_cv.best_estimator_\n",
    "print(final_model)"
   ]
  },
  {
   "cell_type": "markdown",
   "metadata": {},
   "source": [
    "### Cross Validaton"
   ]
  },
  {
   "cell_type": "code",
   "execution_count": 10,
   "metadata": {},
   "outputs": [
    {
     "name": "stdout",
     "output_type": "stream",
     "text": [
      "Training data accuracy for Random Forest:  [0.96860399 0.96652085 0.9692587  0.96833522 0.9682757  0.96699601\n",
      " 0.96821618 0.96711407 0.96729264 0.97145918]\n",
      "Testing data accuracy for Random Forest:  [0.96428997 0.964409   0.964409   0.96488513 0.96667063 0.96559933\n",
      " 0.96880952 0.96440476 0.96702381 0.97166667]\n"
     ]
    }
   ],
   "source": [
    "print(\"Training data accuracy for Linear Regression: \",cross_val_score(logreg_cv, X_train_pca, y_train_sample, cv=10))\n",
    "print(\"Testing data accuracy for Linear Regression: \",cross_val_score(logreg_cv, X_test_pca, y_test_sample, cv=10))"
   ]
  },
  {
   "cell_type": "markdown",
   "metadata": {},
   "source": [
    "### AUC"
   ]
  },
  {
   "cell_type": "code",
   "execution_count": 11,
   "metadata": {},
   "outputs": [
    {
     "name": "stdout",
     "output_type": "stream",
     "text": [
      "AUC Score for Linear Regression : 0.9647210124446269\n"
     ]
    }
   ],
   "source": [
    "from sklearn.metrics import roc_auc_score\n",
    "print (\"AUC Score for Linear Regression :\" ,roc_auc_score(y_train_sample, y_pred_lr))"
   ]
  },
  {
   "cell_type": "markdown",
   "metadata": {},
   "source": [
    "### Confusion Matrix"
   ]
  },
  {
   "cell_type": "code",
   "execution_count": 13,
   "metadata": {},
   "outputs": [
    {
     "name": "stdout",
     "output_type": "stream",
     "text": [
      "[[163510   4743]\n",
      " [  7108 160659]]\n",
      "Accuracy Score for Linear Regression : 0.9647312659960716\n"
     ]
    }
   ],
   "source": [
    "\n",
    "print(confusion_matrix(y_train_sample, y_pred_lr))\n",
    "print('Accuracy Score for Linear Regression :',accuracy_score(y_train_sample, y_pred_lr))"
   ]
  },
  {
   "cell_type": "markdown",
   "metadata": {},
   "source": [
    "### Classification Report"
   ]
  },
  {
   "cell_type": "code",
   "execution_count": 15,
   "metadata": {},
   "outputs": [
    {
     "name": "stdout",
     "output_type": "stream",
     "text": [
      "Classification Report for Linear Regression:              precision    recall  f1-score   support\n",
      "\n",
      "          0       0.96      0.97      0.97    168253\n",
      "          1       0.97      0.96      0.96    167767\n",
      "\n",
      "avg / total       0.96      0.96      0.96    336020\n",
      "\n"
     ]
    }
   ],
   "source": [
    "from sklearn.metrics import classification_report\n",
    "print(\"Classification Report for Linear Regression:\",classification_report(y_train_sample, y_pred_lr))"
   ]
  },
  {
   "cell_type": "markdown",
   "metadata": {},
   "source": [
    "Cross validation,AUC, Confusion Matrix,Classification report have very high scores.F1 score and precision are very good."
   ]
  },
  {
   "cell_type": "markdown",
   "metadata": {},
   "source": [
    "# GradientBoostingClassifier"
   ]
  },
  {
   "cell_type": "markdown",
   "metadata": {},
   "source": [
    "We will fit the model with PCA formatted data and then gridsearch cv to get the best parameters"
   ]
  },
  {
   "cell_type": "code",
   "execution_count": 17,
   "metadata": {},
   "outputs": [],
   "source": [
    "params = {'n_estimators': 500,\n",
    "          'max_depth': 7,\n",
    "          'loss': 'deviance'}\n",
    "clf = ensemble.GradientBoostingClassifier(**params)\n",
    "clf.fit(X_train_pca, y_train_sample)\n",
    "y_pred_gbr = clf.predict(X_train_pca)"
   ]
  },
  {
   "cell_type": "markdown",
   "metadata": {},
   "source": [
    "### GridSearchcv to get the best parameters"
   ]
  },
  {
   "cell_type": "code",
   "execution_count": null,
   "metadata": {},
   "outputs": [],
   "source": [
    "params ={\n",
    "    \"loss\":[\"deviance\"],\n",
    "    \"max_depth\":[3,5,8],\n",
    "    \"n_estimators\":[1000]\n",
    "    }\n",
    "gb = model_selection.GridSearchCV(clf, params, cv=10)\n",
    "gb.fit(X_train_pca, y_train_sample)\n",
    "results = gb.cv_results_\n",
    "print(results.get('params'))\n",
    "print(results.get('mean_test_score'))\n",
    "print(results.get('mean_train_score'))\n",
    "print(\"Best Hyper Parameters:\\n\",gb.best_params_)\n",
    "print(gb.best_score_)\n",
    "final_model = gb.best_estimator_\n",
    "print(final_model)\n"
   ]
  },
  {
   "cell_type": "markdown",
   "metadata": {},
   "source": [
    "### Cross Validaton"
   ]
  },
  {
   "cell_type": "code",
   "execution_count": null,
   "metadata": {},
   "outputs": [],
   "source": [
    "print(\"Training data accuracy for GBR: \",cross_val_score(gb, X_train_pca, y_train_sample, cv=10))\n",
    "print(\"Testing data accuracy for GBR: \",cross_val_score(gb, X_test_pca, y_test_sample, cv=10))"
   ]
  },
  {
   "cell_type": "markdown",
   "metadata": {},
   "source": [
    "### AUC"
   ]
  },
  {
   "cell_type": "code",
   "execution_count": null,
   "metadata": {},
   "outputs": [],
   "source": [
    "from sklearn.metrics import roc_auc_score\n",
    "print (\"AUC Score for GBR :\" ,roc_auc_score(y_train_sample, y_pred_gbr))"
   ]
  },
  {
   "cell_type": "markdown",
   "metadata": {},
   "source": [
    "### Confusion Matrix"
   ]
  },
  {
   "cell_type": "code",
   "execution_count": null,
   "metadata": {},
   "outputs": [],
   "source": [
    "print(confusion_matrix(y_train_sample, y_pred_gbr))\n",
    "print('Accuracy Score for GBR :',accuracy_score(y_train_sample, y_pred_gbr))"
   ]
  },
  {
   "cell_type": "markdown",
   "metadata": {},
   "source": [
    "### Classification Report"
   ]
  },
  {
   "cell_type": "code",
   "execution_count": null,
   "metadata": {},
   "outputs": [],
   "source": [
    "print(\"Classification Report for GBR:\",classification_report(y_train_sample, y_pred_gbr))"
   ]
  },
  {
   "cell_type": "markdown",
   "metadata": {},
   "source": [
    "Now, we will use SKB for dimension reduction and use the same techniques as above to get the accuracy of each model"
   ]
  },
  {
   "cell_type": "markdown",
   "metadata": {},
   "source": [
    "# SELECTKBEST(SKB)"
   ]
  },
  {
   "cell_type": "code",
   "execution_count": 7,
   "metadata": {
    "scrolled": true
   },
   "outputs": [
    {
     "name": "stderr",
     "output_type": "stream",
     "text": [
      "C:\\Users\\ankush\\anacondanew\\lib\\site-packages\\sklearn\\feature_selection\\univariate_selection.py:113: UserWarning: Features [   3 1699] are constant.\n",
      "  UserWarning)\n",
      "C:\\Users\\ankush\\anacondanew\\lib\\site-packages\\sklearn\\feature_selection\\univariate_selection.py:114: RuntimeWarning: divide by zero encountered in true_divide\n",
      "  f = msb / msw\n",
      "C:\\Users\\ankush\\anacondanew\\lib\\site-packages\\sklearn\\feature_selection\\univariate_selection.py:114: RuntimeWarning: invalid value encountered in true_divide\n",
      "  f = msb / msw\n"
     ]
    }
   ],
   "source": [
    "skb = SelectKBest(f_classif,k=5)\n",
    "skb.fit(X_train_sample, y_train_sample)\n",
    "X_train_skb = skb.transform(X_train_sample)\n",
    "X_test_skb = skb.transform(X_test_sample)\n"
   ]
  },
  {
   "cell_type": "markdown",
   "metadata": {},
   "source": [
    "# 1.Naive Bayes"
   ]
  },
  {
   "cell_type": "code",
   "execution_count": 10,
   "metadata": {},
   "outputs": [],
   "source": [
    "from sklearn.naive_bayes import BernoulliNB\n",
    "bnb = BernoulliNB() \n",
    "#Fitting the model with the train data\n",
    "bnb = bnb.fit(X_train_skb, y_train_sample)\n",
    "y_pred_bnb = bnb.predict(X_train_skb)"
   ]
  },
  {
   "cell_type": "markdown",
   "metadata": {},
   "source": [
    "### Cross Validation"
   ]
  },
  {
   "cell_type": "code",
   "execution_count": 11,
   "metadata": {},
   "outputs": [
    {
     "name": "stdout",
     "output_type": "stream",
     "text": [
      "Training data accuracy for Naive Bayes:  [1. 1. 1. 1. 1. 1. 1. 1. 1. 1.]\n",
      "Testing data accuracy Naive Bayes:  [1. 1. 1. 1. 1. 1. 1. 1. 1. 1.]\n"
     ]
    }
   ],
   "source": [
    "print(\"Training data accuracy for Naive Bayes: \",cross_val_score(bnb, X_train_skb, y_train_sample, cv=10))\n",
    "print(\"Testing data accuracy Naive Bayes: \",cross_val_score(bnb, X_test_skb, y_test_sample, cv=10))"
   ]
  },
  {
   "cell_type": "markdown",
   "metadata": {},
   "source": [
    "### AUC"
   ]
  },
  {
   "cell_type": "code",
   "execution_count": 37,
   "metadata": {},
   "outputs": [
    {
     "name": "stdout",
     "output_type": "stream",
     "text": [
      "AUC Score for BNB : 1.0\n"
     ]
    }
   ],
   "source": [
    "from sklearn.metrics import roc_auc_score\n",
    "print (\"AUC Score for BNB :\" ,roc_auc_score(y_train_sample, y_pred_bnb))"
   ]
  },
  {
   "cell_type": "markdown",
   "metadata": {},
   "source": [
    "### Confusion Matrix\n"
   ]
  },
  {
   "cell_type": "code",
   "execution_count": 16,
   "metadata": {},
   "outputs": [
    {
     "name": "stdout",
     "output_type": "stream",
     "text": [
      "[[167809      0]\n",
      " [     0 168211]]\n",
      "Accuracy Score for BNB : 1.0\n"
     ]
    }
   ],
   "source": [
    "print(confusion_matrix(y_train_sample, y_pred_bnb))\n",
    "print('Accuracy Score for BNB :',accuracy_score(y_train_sample, y_pred_bnb))"
   ]
  },
  {
   "cell_type": "markdown",
   "metadata": {},
   "source": [
    "### Classification Report"
   ]
  },
  {
   "cell_type": "code",
   "execution_count": 17,
   "metadata": {},
   "outputs": [
    {
     "name": "stdout",
     "output_type": "stream",
     "text": [
      "Classification Report for BNB:              precision    recall  f1-score   support\n",
      "\n",
      "          0       1.00      1.00      1.00    167809\n",
      "          1       1.00      1.00      1.00    168211\n",
      "\n",
      "avg / total       1.00      1.00      1.00    336020\n",
      "\n"
     ]
    }
   ],
   "source": [
    "print(\"Classification Report for BNB:\",classification_report(y_train_sample, y_pred_bnb))"
   ]
  },
  {
   "cell_type": "code",
   "execution_count": null,
   "metadata": {},
   "outputs": [],
   "source": [
    "Cross validation,AUC, Confusion Matrix,Classification report seem to have much better results than PCA"
   ]
  },
  {
   "cell_type": "markdown",
   "metadata": {},
   "source": [
    "# 2.KNN Classification\n"
   ]
  },
  {
   "cell_type": "code",
   "execution_count": 8,
   "metadata": {},
   "outputs": [],
   "source": [
    "knn_model = KNeighborsClassifier(n_neighbors=5)\n",
    "knn_model.fit(X_train_skb, y_train_sample)\n",
    "y_pred_knn = knn_model.predict(X_train_skb)"
   ]
  },
  {
   "cell_type": "markdown",
   "metadata": {},
   "source": [
    "### Gridsearchcv to get the best parameters\n"
   ]
  },
  {
   "cell_type": "code",
   "execution_count": 19,
   "metadata": {},
   "outputs": [
    {
     "name": "stdout",
     "output_type": "stream",
     "text": [
      "[{'leaf_size': 1, 'n_neighbors': 5}, {'leaf_size': 2, 'n_neighbors': 5}, {'leaf_size': 3, 'n_neighbors': 5}, {'leaf_size': 5, 'n_neighbors': 5}]\n",
      "[0.95001786 0.95001786 0.95001786 0.95001786]\n",
      "[0.97008214 0.97008214 0.97008214 0.97008214]\n",
      "Best Hyper Parameters:\n",
      " {'leaf_size': 1, 'n_neighbors': 5}\n",
      "0.9500178560799952\n",
      "KNeighborsClassifier(algorithm='auto', leaf_size=1, metric='minkowski',\n",
      "           metric_params=None, n_jobs=1, n_neighbors=5, p=2,\n",
      "           weights='uniform')\n"
     ]
    },
    {
     "name": "stderr",
     "output_type": "stream",
     "text": [
      "C:\\Users\\ankush\\anacondanew\\lib\\site-packages\\sklearn\\utils\\deprecation.py:122: FutureWarning: You are accessing a training score ('mean_train_score'), which will not be available by default any more in 0.21. If you need training scores, please set return_train_score=True\n",
      "  warnings.warn(*warn_args, **warn_kwargs)\n"
     ]
    }
   ],
   "source": [
    "params = {'n_neighbors':[5],\n",
    "          'leaf_size':[1,2,3,5]\n",
    "                  }\n",
    "#Making models with hyper parameters sets\n",
    "grid_class_knn = model_selection.GridSearchCV(knn_model, param_grid=params)\n",
    "#Learning\n",
    "grid_class_knn.fit(X_train_pca,y_train_sample)\n",
    "#The best hyper parameters set\n",
    "\n",
    "results = grid_class_knn.cv_results_\n",
    "print(results.get('params'))\n",
    "print(results.get('mean_test_score'))\n",
    "print(results.get('mean_train_score'))\n",
    "print(\"Best Hyper Parameters:\\n\",grid_class_knn.best_params_)\n",
    "print(grid_class_knn.best_score_)\n",
    "final_model = grid_class_knn.best_estimator_\n",
    "print(final_model)"
   ]
  },
  {
   "cell_type": "markdown",
   "metadata": {},
   "source": [
    "### Cross Validaton"
   ]
  },
  {
   "cell_type": "code",
   "execution_count": null,
   "metadata": {},
   "outputs": [],
   "source": [
    "print(\"Training data accuracy for KNN: \",cross_val_score(grid_class_knn, X_train_skb, y_train_sample, cv=10))\n",
    "print(\"Testing data accuracy for KNN: \",cross_val_score(grid_class_knn, X_test_skb, y_test_sample, cv=10))"
   ]
  },
  {
   "cell_type": "markdown",
   "metadata": {},
   "source": [
    "### AUC"
   ]
  },
  {
   "cell_type": "code",
   "execution_count": 9,
   "metadata": {},
   "outputs": [
    {
     "name": "stdout",
     "output_type": "stream",
     "text": [
      "AUC Score for KNN : 1.0\n"
     ]
    }
   ],
   "source": [
    "from sklearn.metrics import roc_auc_score\n",
    "print (\"AUC Score for KNN :\" ,roc_auc_score(y_train_sample, y_pred_knn))"
   ]
  },
  {
   "cell_type": "markdown",
   "metadata": {},
   "source": [
    "### Confusion Matrix"
   ]
  },
  {
   "cell_type": "code",
   "execution_count": 10,
   "metadata": {},
   "outputs": [
    {
     "name": "stdout",
     "output_type": "stream",
     "text": [
      "Classification Report for KNN:              precision    recall  f1-score   support\n",
      "\n",
      "          0       1.00      1.00      1.00    167926\n",
      "          1       1.00      1.00      1.00    168094\n",
      "\n",
      "avg / total       1.00      1.00      1.00    336020\n",
      "\n"
     ]
    }
   ],
   "source": [
    "print(\"Classification Report for KNN:\",classification_report(y_train_sample, y_pred_knn))"
   ]
  },
  {
   "cell_type": "markdown",
   "metadata": {},
   "source": [
    "### Classification Report"
   ]
  },
  {
   "cell_type": "code",
   "execution_count": 11,
   "metadata": {},
   "outputs": [
    {
     "name": "stdout",
     "output_type": "stream",
     "text": [
      "Classification Report for KNN:              precision    recall  f1-score   support\n",
      "\n",
      "          0       1.00      1.00      1.00    167926\n",
      "          1       1.00      1.00      1.00    168094\n",
      "\n",
      "avg / total       1.00      1.00      1.00    336020\n",
      "\n"
     ]
    }
   ],
   "source": [
    "print(\"Classification Report for KNN:\",classification_report(y_train_sample, y_pred_knn))"
   ]
  },
  {
   "cell_type": "markdown",
   "metadata": {},
   "source": [
    "Cross validation,AUC, Confusion Matrix,Classification report seem to have much better results than PCA.The results seem perfect.It looks like the model got fitted perfectly with the data"
   ]
  },
  {
   "cell_type": "markdown",
   "metadata": {},
   "source": [
    "# 3.Random Forest\n"
   ]
  },
  {
   "cell_type": "code",
   "execution_count": 10,
   "metadata": {},
   "outputs": [],
   "source": [
    "rfc = ensemble.RandomForestClassifier(max_depth=10,n_estimators= 100)\n",
    "rfc.fit(X_train_skb, y_train_sample)\n",
    "y_pred_rfc = rfc.predict(X_train_skb)\n"
   ]
  },
  {
   "cell_type": "markdown",
   "metadata": {},
   "source": [
    "### GridSearchcv to get the best parameters"
   ]
  },
  {
   "cell_type": "code",
   "execution_count": 11,
   "metadata": {},
   "outputs": [
    {
     "name": "stdout",
     "output_type": "stream",
     "text": [
      "[{'max_depth': 3, 'max_features': 5}, {'max_depth': 4, 'max_features': 5}, {'max_depth': 5, 'max_features': 5}]\n",
      "[1. 1. 1.]\n",
      "[1. 1. 1.]\n",
      "Best Hyper Parameters:\n",
      " {'max_depth': 3, 'max_features': 5}\n",
      "1.0\n",
      "RandomForestClassifier(bootstrap=True, class_weight=None, criterion='gini',\n",
      "            max_depth=3, max_features=5, max_leaf_nodes=None,\n",
      "            min_impurity_decrease=0.0, min_impurity_split=None,\n",
      "            min_samples_leaf=1, min_samples_split=2,\n",
      "            min_weight_fraction_leaf=0.0, n_estimators=100, n_jobs=1,\n",
      "            oob_score=False, random_state=None, verbose=0,\n",
      "            warm_start=False)\n"
     ]
    },
    {
     "name": "stderr",
     "output_type": "stream",
     "text": [
      "C:\\Users\\ankush\\anacondanew\\lib\\site-packages\\sklearn\\utils\\deprecation.py:122: FutureWarning: You are accessing a training score ('mean_train_score'), which will not be available by default any more in 0.21. If you need training scores, please set return_train_score=True\n",
      "  warnings.warn(*warn_args, **warn_kwargs)\n"
     ]
    }
   ],
   "source": [
    "dt_grid={'max_depth':[3,4,5],'max_features': [5]}\n",
    "\n",
    "grid_class_rfc=model_selection.GridSearchCV(rfc,dt_grid,cv=6)\n",
    "grid_class_rfc.fit(X_train_skb, y_train_sample)\n",
    "results = grid_class_rfc.cv_results_\n",
    "print(results.get('params'))\n",
    "print(results.get('mean_test_score'))\n",
    "print(results.get('mean_train_score'))\n",
    "print(\"Best Hyper Parameters:\\n\",grid_class_rfc.best_params_)\n",
    "print(grid_class_rfc.best_score_)\n",
    "final_model = grid_class_rfc.best_estimator_\n",
    "print(final_model)"
   ]
  },
  {
   "cell_type": "markdown",
   "metadata": {},
   "source": [
    "### Cross Validaton"
   ]
  },
  {
   "cell_type": "code",
   "execution_count": null,
   "metadata": {},
   "outputs": [],
   "source": [
    "print(\"Training data accuracy for Random Forest: \",cross_val_score(grid_class_rfc, X_train_skb, y_train_sample, cv=10))\n",
    "print(\"Testing data accuracy for Random Forest: \",cross_val_score(grid_class_rfc, X_test_skb, y_test_sample, cv=10))"
   ]
  },
  {
   "cell_type": "markdown",
   "metadata": {},
   "source": [
    "### AUC"
   ]
  },
  {
   "cell_type": "code",
   "execution_count": 15,
   "metadata": {},
   "outputs": [
    {
     "name": "stdout",
     "output_type": "stream",
     "text": [
      "AUC Score for Random Forest : 1.0\n"
     ]
    }
   ],
   "source": [
    "print (\"AUC Score for Random Forest :\" ,roc_auc_score(y_train_sample, y_pred_rfc))"
   ]
  },
  {
   "cell_type": "markdown",
   "metadata": {},
   "source": [
    "### Confusion Matrix"
   ]
  },
  {
   "cell_type": "code",
   "execution_count": 16,
   "metadata": {},
   "outputs": [
    {
     "name": "stdout",
     "output_type": "stream",
     "text": [
      "Accuracy Score for Random Forest : 1.0\n"
     ]
    }
   ],
   "source": [
    "print('Accuracy Score for Random Forest :',accuracy_score(y_train_sample, y_pred_rfc))"
   ]
  },
  {
   "cell_type": "markdown",
   "metadata": {},
   "source": [
    "### Classification Report"
   ]
  },
  {
   "cell_type": "code",
   "execution_count": 17,
   "metadata": {},
   "outputs": [
    {
     "name": "stdout",
     "output_type": "stream",
     "text": [
      "Classification Report for Random Forest:              precision    recall  f1-score   support\n",
      "\n",
      "          0       1.00      1.00      1.00    168014\n",
      "          1       1.00      1.00      1.00    168006\n",
      "\n",
      "avg / total       1.00      1.00      1.00    336020\n",
      "\n"
     ]
    }
   ],
   "source": [
    "print(\"Classification Report for Random Forest:\",classification_report(y_train_sample, y_pred_rfc))"
   ]
  },
  {
   "cell_type": "markdown",
   "metadata": {},
   "source": [
    "Cross validation,AUC, Confusion Matrix,Classification report seem to have much better results than PCA.The results seem perfect.It looks like the model got fitted perfectly with the data"
   ]
  },
  {
   "cell_type": "markdown",
   "metadata": {},
   "source": [
    "# 4.Decision Tree"
   ]
  },
  {
   "cell_type": "code",
   "execution_count": 19,
   "metadata": {},
   "outputs": [],
   "source": [
    "decision_tree = tree.DecisionTreeClassifier(max_depth=10)\n",
    "decision_tree.fit(X_train_skb, y_train_sample)\n",
    "y_pred_dt = decision_tree.predict(X_train_skb)"
   ]
  },
  {
   "cell_type": "markdown",
   "metadata": {},
   "source": [
    "### Gridsearchcv to get the best parameters"
   ]
  },
  {
   "cell_type": "code",
   "execution_count": 20,
   "metadata": {},
   "outputs": [
    {
     "name": "stdout",
     "output_type": "stream",
     "text": [
      "[{'max_depth': 50, 'max_features': 5}]\n",
      "[1.]\n",
      "[1.]\n",
      "Best Hyper Parameters:\n",
      " {'max_depth': 50, 'max_features': 5}\n",
      "1.0\n",
      "DecisionTreeClassifier(class_weight=None, criterion='gini', max_depth=50,\n",
      "            max_features=5, max_leaf_nodes=None, min_impurity_decrease=0.0,\n",
      "            min_impurity_split=None, min_samples_leaf=1,\n",
      "            min_samples_split=2, min_weight_fraction_leaf=0.0,\n",
      "            presort=False, random_state=None, splitter='best')\n"
     ]
    },
    {
     "name": "stderr",
     "output_type": "stream",
     "text": [
      "C:\\Users\\ankush\\anacondanew\\lib\\site-packages\\sklearn\\utils\\deprecation.py:122: FutureWarning: You are accessing a training score ('mean_train_score'), which will not be available by default any more in 0.21. If you need training scores, please set return_train_score=True\n",
      "  warnings.warn(*warn_args, **warn_kwargs)\n"
     ]
    }
   ],
   "source": [
    "dt_grid={'max_depth':[50],'max_features': [5]}\n",
    "grid_class_dt=model_selection.GridSearchCV(decision_tree,dt_grid,cv=6)\n",
    "grid_class_dt.fit(X_train_skb, y_train_sample)\n",
    "results = grid_class_dt.cv_results_\n",
    "print(results.get('params'))\n",
    "print(results.get('mean_test_score'))\n",
    "print(results.get('mean_train_score'))\n",
    "print(\"Best Hyper Parameters:\\n\",grid_class_dt.best_params_)\n",
    "print(grid_class_dt.best_score_)\n",
    "final_model = grid_class_dt.best_estimator_\n",
    "print(final_model)"
   ]
  },
  {
   "cell_type": "markdown",
   "metadata": {},
   "source": [
    "### Cross Validaton"
   ]
  },
  {
   "cell_type": "code",
   "execution_count": 24,
   "metadata": {},
   "outputs": [
    {
     "name": "stdout",
     "output_type": "stream",
     "text": [
      "Training data accuracy for Decision Tree:  [1. 1. 1. 1. 1.]\n",
      "Testing data accuracy for Decision Tree:  [1. 1. 1. 1. 1.]\n"
     ]
    }
   ],
   "source": [
    "print(\"Training data accuracy for Decision Tree: \",cross_val_score(grid_class_dt, X_train_skb, y_train_sample, cv=5))\n",
    "print(\"Testing data accuracy for Decision Tree: \",cross_val_score(grid_class_dt, X_test_skb, y_test_sample, cv=5))"
   ]
  },
  {
   "cell_type": "markdown",
   "metadata": {},
   "source": [
    "### AUC"
   ]
  },
  {
   "cell_type": "code",
   "execution_count": 21,
   "metadata": {},
   "outputs": [
    {
     "name": "stdout",
     "output_type": "stream",
     "text": [
      "AUC Score for Decision Tree : 1.0\n"
     ]
    }
   ],
   "source": [
    "from sklearn.metrics import roc_auc_score\n",
    "print (\"AUC Score for Decision Tree :\" ,roc_auc_score(y_train_sample, y_pred_dt))"
   ]
  },
  {
   "cell_type": "markdown",
   "metadata": {},
   "source": [
    "### Confusion Matrix"
   ]
  },
  {
   "cell_type": "code",
   "execution_count": 22,
   "metadata": {},
   "outputs": [
    {
     "name": "stdout",
     "output_type": "stream",
     "text": [
      "[[168014      0]\n",
      " [     0 168006]]\n",
      "Accuracy Score for Decision Tree : 1.0\n"
     ]
    }
   ],
   "source": [
    "print(confusion_matrix(y_train_sample, y_pred_dt))\n",
    "print('Accuracy Score for Decision Tree :',accuracy_score(y_train_sample, y_pred_dt))"
   ]
  },
  {
   "cell_type": "markdown",
   "metadata": {},
   "source": [
    "### Classification Report"
   ]
  },
  {
   "cell_type": "code",
   "execution_count": 23,
   "metadata": {},
   "outputs": [
    {
     "name": "stdout",
     "output_type": "stream",
     "text": [
      "Classification Report for Decision Tree:              precision    recall  f1-score   support\n",
      "\n",
      "          0       1.00      1.00      1.00    168014\n",
      "          1       1.00      1.00      1.00    168006\n",
      "\n",
      "avg / total       1.00      1.00      1.00    336020\n",
      "\n"
     ]
    }
   ],
   "source": [
    "print(\"Classification Report for Decision Tree:\",classification_report(y_train_sample, y_pred_dt))"
   ]
  },
  {
   "cell_type": "markdown",
   "metadata": {},
   "source": [
    "Cross validation,AUC, Confusion Matrix,Classification report seem to have much better results than PCA.The results seem perfect.It looks like the model got fitted perfectly with the data"
   ]
  },
  {
   "cell_type": "markdown",
   "metadata": {},
   "source": [
    "# 4.SVC"
   ]
  },
  {
   "cell_type": "code",
   "execution_count": 22,
   "metadata": {},
   "outputs": [],
   "source": [
    "from sklearn.svm import SVC\n",
    "svm=SVC()\n",
    "svm.fit(X_train_skb, y_train_sample)\n",
    "y_pred_svm = svm.predict(X_train_skb)"
   ]
  },
  {
   "cell_type": "markdown",
   "metadata": {},
   "source": [
    "### Gridsearchcv to get the best parameters"
   ]
  },
  {
   "cell_type": "code",
   "execution_count": null,
   "metadata": {},
   "outputs": [],
   "source": [
    "param_grid = {'C':[1,10,100,1000],'gamma':[1,0.1,0.001,0.0001], 'kernel':['linear','rbf']}\n",
    "grid_class_svm=model_selection.GridSearchCV(SVC(),param_grid,refit = True)\n",
    "grid_class_svm.fit(X_train_skb, y_train_sample)\n",
    "results = grid_class_svm.cv_results_\n",
    "print(results.get('params'))\n",
    "print(results.get('mean_test_score'))\n",
    "print(results.get('mean_train_score'))\n",
    "print(\"Best Hyper Parameters:\\n\",grid_class_svm.best_params_)\n",
    "print(grid_class_svm.best_score_)\n",
    "final_model = grid_class_svm.best_estimator_\n",
    "print(final_model)"
   ]
  },
  {
   "cell_type": "markdown",
   "metadata": {},
   "source": [
    "### Cross Validaton"
   ]
  },
  {
   "cell_type": "code",
   "execution_count": null,
   "metadata": {},
   "outputs": [],
   "source": [
    "print(\"Training data accuracy for SVC: \",cross_val_score(grid_class_svm, X_train_skb, y_train_sample, cv=5))\n",
    "print(\"Testing data accuracy for SVC: \",cross_val_score(grid_class_svm, X_test_skb, y_test_sample, cv=5))"
   ]
  },
  {
   "cell_type": "markdown",
   "metadata": {},
   "source": [
    "### AUC"
   ]
  },
  {
   "cell_type": "code",
   "execution_count": null,
   "metadata": {},
   "outputs": [],
   "source": [
    "from sklearn.metrics import roc_auc_score\n",
    "print (\"AUC Score for SVC :\" ,roc_auc_score(y_train_sample, y_pred_dt))"
   ]
  },
  {
   "cell_type": "markdown",
   "metadata": {},
   "source": [
    "### Confusion Matrix"
   ]
  },
  {
   "cell_type": "code",
   "execution_count": null,
   "metadata": {},
   "outputs": [],
   "source": [
    "print(confusion_matrix(y_train_sample, y_pred_dt))\n",
    "print('Accuracy Score for SVC :',accuracy_score(y_train_sample, y_pred_dt))"
   ]
  },
  {
   "cell_type": "markdown",
   "metadata": {},
   "source": [
    "### Classification Report"
   ]
  },
  {
   "cell_type": "code",
   "execution_count": null,
   "metadata": {},
   "outputs": [],
   "source": [
    "print(\"Classification Report for SVC:\",classification_report(y_train_sample, y_pred_dt))"
   ]
  },
  {
   "cell_type": "markdown",
   "metadata": {},
   "source": [
    "# 6.Linear Regression"
   ]
  },
  {
   "cell_type": "code",
   "execution_count": 9,
   "metadata": {},
   "outputs": [],
   "source": [
    "lr = LogisticRegression(C=1e9)\n",
    "lr.fit(X_train_skb, y_train_sample)\n",
    "y_pred_lr = lr.predict(X_train_skb)"
   ]
  },
  {
   "cell_type": "markdown",
   "metadata": {},
   "source": [
    "### Gridsearchcv to get the best parameters"
   ]
  },
  {
   "cell_type": "code",
   "execution_count": 10,
   "metadata": {},
   "outputs": [
    {
     "name": "stdout",
     "output_type": "stream",
     "text": [
      "[{'C': 0.001, 'penalty': 'l1'}, {'C': 0.001, 'penalty': 'l2'}, {'C': 0.01, 'penalty': 'l1'}, {'C': 0.01, 'penalty': 'l2'}, {'C': 0.1, 'penalty': 'l1'}, {'C': 0.1, 'penalty': 'l2'}, {'C': 1.0, 'penalty': 'l1'}, {'C': 1.0, 'penalty': 'l2'}, {'C': 10.0, 'penalty': 'l1'}, {'C': 10.0, 'penalty': 'l2'}, {'C': 100.0, 'penalty': 'l1'}, {'C': 100.0, 'penalty': 'l2'}, {'C': 1000.0, 'penalty': 'l1'}, {'C': 1000.0, 'penalty': 'l2'}]\n",
      "[1. 1. 1. 1. 1. 1. 1. 1. 1. 1. 1. 1. 1. 1.]\n",
      "[1. 1. 1. 1. 1. 1. 1. 1. 1. 1. 1. 1. 1. 1.]\n",
      "Best Hyper Parameters:\n",
      " {'C': 0.001, 'penalty': 'l1'}\n",
      "1.0\n",
      "LogisticRegression(C=0.001, class_weight=None, dual=False, fit_intercept=True,\n",
      "          intercept_scaling=1, max_iter=100, multi_class='ovr', n_jobs=1,\n",
      "          penalty='l1', random_state=None, solver='liblinear', tol=0.0001,\n",
      "          verbose=0, warm_start=False)\n"
     ]
    },
    {
     "name": "stderr",
     "output_type": "stream",
     "text": [
      "C:\\Users\\ankush\\anacondanew\\lib\\site-packages\\sklearn\\utils\\deprecation.py:122: FutureWarning: You are accessing a training score ('mean_train_score'), which will not be available by default any more in 0.21. If you need training scores, please set return_train_score=True\n",
      "  warnings.warn(*warn_args, **warn_kwargs)\n"
     ]
    }
   ],
   "source": [
    "grid={\"C\":np.logspace(-3,3,7), \"penalty\":[\"l1\",\"l2\"]}# l1 lasso l2 ridge\n",
    "logreg_cv=model_selection.GridSearchCV(lr,grid,cv=10)\n",
    "logreg_cv.fit(X_train_skb,y_train_sample)\n",
    "results = logreg_cv.cv_results_\n",
    "print(results.get('params'))\n",
    "print(results.get('mean_test_score'))\n",
    "print(results.get('mean_train_score'))\n",
    "print(\"Best Hyper Parameters:\\n\",logreg_cv.best_params_)\n",
    "print(logreg_cv.best_score_)\n",
    "final_model = logreg_cv.best_estimator_\n",
    "print(final_model)"
   ]
  },
  {
   "cell_type": "markdown",
   "metadata": {},
   "source": [
    "### Cross Validaton"
   ]
  },
  {
   "cell_type": "code",
   "execution_count": 13,
   "metadata": {},
   "outputs": [
    {
     "name": "stdout",
     "output_type": "stream",
     "text": [
      "Training data accuracy for Linear Regression:  [1. 1. 1. 1. 1.]\n",
      "Testing data accuracy for Linear Regression:  [1. 1. 1. 1. 1.]\n"
     ]
    }
   ],
   "source": [
    "print(\"Training data accuracy for Linear Regression: \",cross_val_score(logreg_cv, X_train_skb, y_train_sample, cv=5))\n",
    "print(\"Testing data accuracy for Linear Regression: \",cross_val_score(logreg_cv, X_test_skb, y_test_sample, cv=5))"
   ]
  },
  {
   "cell_type": "markdown",
   "metadata": {},
   "source": [
    "### AUC"
   ]
  },
  {
   "cell_type": "code",
   "execution_count": 11,
   "metadata": {},
   "outputs": [
    {
     "name": "stdout",
     "output_type": "stream",
     "text": [
      "AUC Score for Linear Regression : 1.0\n"
     ]
    }
   ],
   "source": [
    "from sklearn.metrics import roc_auc_score\n",
    "print (\"AUC Score for Linear Regression :\" ,roc_auc_score(y_train_sample, y_pred_lr))"
   ]
  },
  {
   "cell_type": "markdown",
   "metadata": {},
   "source": [
    "### Confusion Matrix"
   ]
  },
  {
   "cell_type": "code",
   "execution_count": 12,
   "metadata": {
    "scrolled": true
   },
   "outputs": [
    {
     "name": "stdout",
     "output_type": "stream",
     "text": [
      "[[167936      0]\n",
      " [     0 168084]]\n",
      "Accuracy Score for Linear Regression : 1.0\n"
     ]
    }
   ],
   "source": [
    "print(confusion_matrix(y_train_sample, y_pred_lr))\n",
    "print('Accuracy Score for Linear Regression :',accuracy_score(y_train_sample, y_pred_lr))"
   ]
  },
  {
   "cell_type": "markdown",
   "metadata": {},
   "source": [
    "### Classification Report"
   ]
  },
  {
   "cell_type": "code",
   "execution_count": 20,
   "metadata": {},
   "outputs": [
    {
     "name": "stdout",
     "output_type": "stream",
     "text": [
      "Classification Report for Linear Regression:              precision    recall  f1-score   support\n",
      "\n",
      "          0       1.00      1.00      1.00    167936\n",
      "          1       1.00      1.00      1.00    168084\n",
      "\n",
      "avg / total       1.00      1.00      1.00    336020\n",
      "\n"
     ]
    }
   ],
   "source": [
    "print(\"Classification Report for Linear Regression:\",classification_report(y_train_sample, y_pred_lr))"
   ]
  },
  {
   "cell_type": "markdown",
   "metadata": {},
   "source": [
    "Cross validation,AUC, Confusion Matrix,Classification report seem to have much better results than PCA.The results seem perfect.It looks like the model got fitted perfectly with the data"
   ]
  },
  {
   "cell_type": "markdown",
   "metadata": {},
   "source": [
    "# 7.Gradient Boost Classifier"
   ]
  },
  {
   "cell_type": "code",
   "execution_count": 8,
   "metadata": {},
   "outputs": [],
   "source": [
    "params = {'n_estimators': 500,\n",
    "          'max_depth': 7,\n",
    "          'loss': 'deviance'}\n",
    "clf = ensemble.GradientBoostingClassifier(**params)\n",
    "clf.fit(X_train_skb, y_train_sample)\n",
    "y_pred_gbr = clf.predict(X_train_skb)"
   ]
  },
  {
   "cell_type": "markdown",
   "metadata": {},
   "source": [
    "### Gridsearchcv to get the best parameters\n"
   ]
  },
  {
   "cell_type": "code",
   "execution_count": 9,
   "metadata": {},
   "outputs": [
    {
     "name": "stdout",
     "output_type": "stream",
     "text": [
      "[{'loss': 'deviance', 'max_depth': 3, 'n_estimators': 1000}, {'loss': 'deviance', 'max_depth': 5, 'n_estimators': 1000}, {'loss': 'deviance', 'max_depth': 8, 'n_estimators': 1000}]\n",
      "[1. 1. 1.]\n",
      "[1. 1. 1.]\n",
      "Best Hyper Parameters:\n",
      " {'loss': 'deviance', 'max_depth': 3, 'n_estimators': 1000}\n",
      "1.0\n",
      "GradientBoostingClassifier(criterion='friedman_mse', init=None,\n",
      "              learning_rate=0.1, loss='deviance', max_depth=3,\n",
      "              max_features=None, max_leaf_nodes=None,\n",
      "              min_impurity_decrease=0.0, min_impurity_split=None,\n",
      "              min_samples_leaf=1, min_samples_split=2,\n",
      "              min_weight_fraction_leaf=0.0, n_estimators=1000,\n",
      "              presort='auto', random_state=None, subsample=1.0, verbose=0,\n",
      "              warm_start=False)\n"
     ]
    },
    {
     "name": "stderr",
     "output_type": "stream",
     "text": [
      "C:\\Users\\ankush\\anacondanew\\lib\\site-packages\\sklearn\\utils\\deprecation.py:122: FutureWarning: You are accessing a training score ('mean_train_score'), which will not be available by default any more in 0.21. If you need training scores, please set return_train_score=True\n",
      "  warnings.warn(*warn_args, **warn_kwargs)\n"
     ]
    }
   ],
   "source": [
    "params ={\n",
    "    \"loss\":[\"deviance\"],\n",
    "    \"max_depth\":[3,5,8],\n",
    "    \"n_estimators\":[1000]\n",
    "    }\n",
    "gb = model_selection.GridSearchCV(clf, params, cv=10)\n",
    "gb.fit(X_train_skb, y_train_sample)\n",
    "results = gb.cv_results_\n",
    "print(results.get('params'))\n",
    "print(results.get('mean_test_score'))\n",
    "print(results.get('mean_train_score'))\n",
    "print(\"Best Hyper Parameters:\\n\",gb.best_params_)\n",
    "print(gb.best_score_)\n",
    "final_model = gb.best_estimator_\n",
    "print(final_model)"
   ]
  },
  {
   "cell_type": "markdown",
   "metadata": {},
   "source": [
    "### Cross Validaton"
   ]
  },
  {
   "cell_type": "code",
   "execution_count": null,
   "metadata": {},
   "outputs": [],
   "source": [
    "print(\"Training data accuracy for GBR: \",cross_val_score(gb, X_train_skb, y_train_sample, cv=5))\n",
    "print(\"Testing data accuracy for GBR: \",cross_val_score(gb, X_test_skb, y_test_sample, cv=5))"
   ]
  },
  {
   "cell_type": "markdown",
   "metadata": {},
   "source": [
    "### AUC"
   ]
  },
  {
   "cell_type": "code",
   "execution_count": 17,
   "metadata": {},
   "outputs": [
    {
     "name": "stdout",
     "output_type": "stream",
     "text": [
      "AUC Score for GBR : 1.0\n"
     ]
    }
   ],
   "source": [
    "from sklearn.metrics import roc_auc_score\n",
    "print (\"AUC Score for GBR :\" ,roc_auc_score(y_train_sample, y_pred_gbr))"
   ]
  },
  {
   "cell_type": "markdown",
   "metadata": {},
   "source": [
    "### Confusion Matrix"
   ]
  },
  {
   "cell_type": "code",
   "execution_count": 18,
   "metadata": {},
   "outputs": [
    {
     "name": "stdout",
     "output_type": "stream",
     "text": [
      "[[167936      0]\n",
      " [     0 168084]]\n",
      "Accuracy Score for GBR : 1.0\n"
     ]
    }
   ],
   "source": [
    "print(confusion_matrix(y_train_sample, y_pred_gbr))\n",
    "print('Accuracy Score for GBR :',accuracy_score(y_train_sample, y_pred_gbr))"
   ]
  },
  {
   "cell_type": "markdown",
   "metadata": {},
   "source": [
    "### Classification Report"
   ]
  },
  {
   "cell_type": "code",
   "execution_count": null,
   "metadata": {},
   "outputs": [],
   "source": [
    "print(\"Classification Report for GBR:\",classification_report(y_train_sample, y_pred_gbr))"
   ]
  },
  {
   "cell_type": "markdown",
   "metadata": {},
   "source": [
    "Cross validation,AUC, Confusion Matrix,Classification report seem to have much better results than PCA.The results seem perfect.It looks like the model got fitted perfectly with the data"
   ]
  },
  {
   "cell_type": "markdown",
   "metadata": {},
   "source": [
    "# Conclusion"
   ]
  },
  {
   "cell_type": "markdown",
   "metadata": {},
   "source": [
    "As we notice above in the data analysis part, North Jersey Coast Line had the maximum number of delays in March2018.Also, we came to know the North Jersey Coast line had the hightest frequency of trains running in March.Altantic city line had the highest mean in delay minutes which means that its delay duration is more than the other lines.Further,most of delays got delayed either during the mid of March or end week of March.Delay factors can be maintenance,more train lines running from or to  the same train station and because of frequency of the trains.The station where delays were the highest was Newyork penn station.It is reasonable since the amount of train that run in this station is very high and it is the hub of all the trains starting  fom New York or New York as its destination.\n",
    " Now looking at the models, SelectkBest fared better than PCA for getting the model accuracy which is understandable because there was no need of PCA other than to reduce the dimensions.We did the  resampling of the data in order to balance the categories of the outcome variable which is very understandable as well.All the models produced very good accuracy results.Precision and F1 scores were very impressive which means the probability for correctly predicting the outcome are very high.There was no trace of any overfitting which means that the input variables an outcome variables were chosen in the correct way.There were no outliers in Confusion Matrix since no negative or positive outliers were seen in the results.Gridsearch provided the best parameters which enabled all the models to have very good accuracy scores.SVC and  GBR were the slowest for the runtime.They were slow to complete in both PCA and SKB which means they might not be considered for this dataset because of the excessive runtime.All of the other models fared well with the dataset.There could have been more analysis if further details have been provided in the dataset such as weather ,speed of the trains,stops of the train lines,duration from source to destination.The best results will be known if we have the realtime data to the fit the models and then we will be able to know how accurate the models will behave provided we chose outcome varable and input variables carefully."
   ]
  },
  {
   "cell_type": "code",
   "execution_count": null,
   "metadata": {},
   "outputs": [],
   "source": []
  }
 ],
 "metadata": {
  "kernelspec": {
   "display_name": "Python 3",
   "language": "python",
   "name": "python3"
  },
  "language_info": {
   "codemirror_mode": {
    "name": "ipython",
    "version": 3
   },
   "file_extension": ".py",
   "mimetype": "text/x-python",
   "name": "python",
   "nbconvert_exporter": "python",
   "pygments_lexer": "ipython3",
   "version": "3.7.0"
  }
 },
 "nbformat": 4,
 "nbformat_minor": 2
}
