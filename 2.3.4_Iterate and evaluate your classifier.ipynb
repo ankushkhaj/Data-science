{
 "cells": [
  {
   "cell_type": "code",
   "execution_count": 1,
   "metadata": {},
   "outputs": [],
   "source": [
    "%matplotlib inline\n",
    "import numpy as np\n",
    "import pandas as pd\n",
    "import scipy\n",
    "import sklearn\n",
    "import matplotlib.pyplot as plt\n",
    "import seaborn as sns"
   ]
  },
  {
   "cell_type": "code",
   "execution_count": 2,
   "metadata": {},
   "outputs": [],
   "source": [
    "data_path = (\"C:/Personal/09142640/Desktop/Useful docs/Data science/amazon_sentiment.txt\")\n",
    "sms_raw = pd.read_csv(data_path, delimiter= '\\t', header=None)"
   ]
  },
  {
   "cell_type": "code",
   "execution_count": 3,
   "metadata": {},
   "outputs": [],
   "source": [
    "sms_raw.columns=[\"Text\",\"Sentiments\"]"
   ]
  },
  {
   "cell_type": "markdown",
   "metadata": {},
   "source": [
    "# Original features in Classifier"
   ]
  },
  {
   "cell_type": "code",
   "execution_count": 46,
   "metadata": {},
   "outputs": [],
   "source": [
    "positive_keywords = ['seamlessly','satisfied', 'happy', 'enjoyed', 'loved', 'prompt', 'great', 'excellent', 'favorite','good','amazing', 'delicious', 'right', 'love','like','recommended']\n",
    "negative_keywords = ['angry', 'slow', 'sucks', 'bad', 'disappointed', 'rude', 'avoid', 'never', 'waste','never', 'mistake', 'not good', 'not like', 'zero', 'dirty', 'bland','disaster','downside', 'joke']"
   ]
  },
  {
   "cell_type": "code",
   "execution_count": 47,
   "metadata": {},
   "outputs": [],
   "source": [
    "for key in positive_keywords:\n",
    "    # Note that we add spaces around the key so that we're getting the word,\n",
    "    # not just pattern matching.\n",
    "    sms_raw[str(key)] = sms_raw.Text.str.contains(\n",
    "        ' ' + str(key) + ' ',\n",
    "        case=False\n",
    "    )"
   ]
  },
  {
   "cell_type": "code",
   "execution_count": 48,
   "metadata": {},
   "outputs": [],
   "source": [
    "data = sms_raw[positive_keywords]\n",
    "target = sms_raw['Sentiments']\n"
   ]
  },
  {
   "cell_type": "code",
   "execution_count": 49,
   "metadata": {},
   "outputs": [
    {
     "name": "stdout",
     "output_type": "stream",
     "text": [
      "Number of unmatched positive statements out of a total 1001 points : 399\n"
     ]
    }
   ],
   "source": [
    "from sklearn.naive_bayes import BernoulliNB\n",
    "\n",
    "# Instantiate our model and store it in a new variable.\n",
    "bnb = BernoulliNB()\n",
    "\n",
    "# Fit our model to the data.\n",
    "bnb.fit(data, target)\n",
    "\n",
    "# Classify, storing the result in a new variable.\n",
    "y_pred = bnb.predict(data)\n",
    "\n",
    "# Display our results.\n",
    "print(\"Number of unmatched positive statements out of a total {} points : {}\".format(\n",
    "    data.shape[0],\n",
    "    (target != y_pred).sum()\n",
    "))"
   ]
  },
  {
   "cell_type": "code",
   "execution_count": 50,
   "metadata": {},
   "outputs": [
    {
     "name": "stdout",
     "output_type": "stream",
     "text": [
      "Sensitivity value :  0.25\n",
      "Specificity  value :  0.9520958083832335\n"
     ]
    }
   ],
   "source": [
    "from sklearn.metrics import confusion_matrix\n",
    "C=confusion_matrix(target, y_pred)\n",
    "print(\"Sensitivity value : \", C[1,1] / (C[1,0]+C[1,1]) )\n",
    "print(\"Specificity  value : \", C[0,0] / (C[0,0]+C[0,1]) )"
   ]
  },
  {
   "cell_type": "markdown",
   "metadata": {},
   "source": [
    "# Modiying the classifier-Adding capitalised classifiers"
   ]
  },
  {
   "cell_type": "code",
   "execution_count": 56,
   "metadata": {},
   "outputs": [],
   "source": [
    "positive_keywords = ['seamlessly','satisfied', 'happy', 'enjoyed', 'loved', 'prompt', 'great', 'excellent', 'favorite','good','amazing', 'delicious', 'right', 'love','like','recommended','Seamlessly','Satisfied', 'Happy', 'Enjoyed', 'Loved', 'Prompt', 'Great', 'Excellent', 'Favorite','Good','Amazing', 'Delicious', 'Right', 'Love','Like','Recommended']\n",
    "negative_keywords = ['angry', 'slow', 'sucks', 'bad', 'disappointed', 'rude', 'avoid', 'never', 'waste','never', 'mistake', 'not good', 'not like', 'zero', 'dirty', 'bland','disaster','downside', 'joke','Angry', 'Slow', 'Sucks', 'Bad', 'Disappointed', 'Rude', 'Avoid', 'Never', 'Waste','Never', 'Mistake', 'Not Good', 'Not Like', 'Zero', 'Dirty', 'Bland','Disaster','Downside', 'Joke']"
   ]
  },
  {
   "cell_type": "code",
   "execution_count": 57,
   "metadata": {},
   "outputs": [],
   "source": [
    "for key in positive_keywords:\n",
    "    # Note that we add spaces around the key so that we're getting the word,\n",
    "    # not just pattern matching.\n",
    "    sms_raw[str(key)] = sms_raw.Text.str.contains(\n",
    "        ' ' + str(key) + ' ',\n",
    "        case=False\n",
    "    )"
   ]
  },
  {
   "cell_type": "code",
   "execution_count": 58,
   "metadata": {},
   "outputs": [],
   "source": [
    "data = sms_raw[positive_keywords]\n",
    "target = sms_raw['Sentiments']"
   ]
  },
  {
   "cell_type": "code",
   "execution_count": 59,
   "metadata": {},
   "outputs": [
    {
     "name": "stdout",
     "output_type": "stream",
     "text": [
      "Number of unmatched positive statements out of a total 1001 points : 399\n"
     ]
    }
   ],
   "source": [
    "from sklearn.naive_bayes import BernoulliNB\n",
    "\n",
    "# Instantiate our model and store it in a new variable.\n",
    "bnb = BernoulliNB()\n",
    "\n",
    "# Fit our model to the data.\n",
    "bnb.fit(data, target)\n",
    "\n",
    "# Classify, storing the result in a new variable.\n",
    "y_pred = bnb.predict(data)\n",
    "\n",
    "# Display our results.\n",
    "print(\"Number of unmatched positive statements out of a total {} points : {}\".format(\n",
    "    data.shape[0],\n",
    "    (target != y_pred).sum()\n",
    "))"
   ]
  },
  {
   "cell_type": "code",
   "execution_count": 60,
   "metadata": {},
   "outputs": [
    {
     "name": "stdout",
     "output_type": "stream",
     "text": [
      "Sensitivity value :  0.25\n",
      "Specificity  value :  0.9520958083832335\n"
     ]
    }
   ],
   "source": [
    "from sklearn.metrics import confusion_matrix\n",
    "D=confusion_matrix(target, y_pred)\n",
    "print(\"Sensitivity value : \", D[1,1] / (D[1,0]+D[1,1]) )\n",
    "print(\"Specificity  value : \", D[0,0] / (D[0,0]+D[0,1]) )"
   ]
  },
  {
   "cell_type": "markdown",
   "metadata": {},
   "source": [
    "# Modiying the classifiers again 2nd time"
   ]
  },
  {
   "cell_type": "code",
   "execution_count": 61,
   "metadata": {},
   "outputs": [],
   "source": [
    "positive_keywords = ['convenient','friendly','easy','fine','seamlessly','satisfied', 'happy', 'enjoyed', 'loved', 'prompt', 'great', 'excellent', 'favorite','good','amazing', 'delicious', 'right', 'love','like','recommended','Seamlessly','Satisfied', 'Happy', 'Enjoyed', 'Loved', 'Prompt', 'Great', 'Excellent', 'Favorite','Good','Amazing', 'Delicious', 'Right', 'Love','Like','Recommended']\n",
    "negative_keywords = ['angry', 'slow', 'sucks', 'bad', 'disappointed', 'rude', 'avoid', 'never', 'waste','never', 'mistake', 'not good', 'not like', 'zero', 'dirty', 'bland','disaster','downside', 'joke','Angry', 'Slow', 'Sucks', 'Bad', 'Disappointed', 'Rude', 'Avoid', 'Never', 'Waste','Never', 'Mistake', 'Not Good', 'Not Like', 'Zero', 'Dirty', 'Bland','Disaster','Downside', 'Joke']"
   ]
  },
  {
   "cell_type": "code",
   "execution_count": 62,
   "metadata": {},
   "outputs": [],
   "source": [
    "for key in positive_keywords:\n",
    "    # Note that we add spaces around the key so that we're getting the word,\n",
    "    # not just pattern matching.\n",
    "    sms_raw[str(key)] = sms_raw.Text.str.contains(\n",
    "        ' ' + str(key) + ' ',\n",
    "        case=False\n",
    "    )"
   ]
  },
  {
   "cell_type": "code",
   "execution_count": 63,
   "metadata": {},
   "outputs": [],
   "source": [
    "data = sms_raw[positive_keywords]\n",
    "target = sms_raw['Sentiments']"
   ]
  },
  {
   "cell_type": "code",
   "execution_count": 64,
   "metadata": {},
   "outputs": [
    {
     "name": "stdout",
     "output_type": "stream",
     "text": [
      "Number of unmatched positive statements out of a total 1001 points : 386\n"
     ]
    }
   ],
   "source": [
    "from sklearn.naive_bayes import BernoulliNB\n",
    "\n",
    "# Instantiate our model and store it in a new variable.\n",
    "bnb = BernoulliNB()\n",
    "\n",
    "# Fit our model to the data.\n",
    "bnb.fit(data, target)\n",
    "\n",
    "# Classify, storing the result in a new variable.\n",
    "y_pred = bnb.predict(data)\n",
    "\n",
    "# Display our results.\n",
    "print(\"Number of unmatched positive statements out of a total {} points : {}\".format(\n",
    "    data.shape[0],\n",
    "    (target != y_pred).sum()\n",
    "))"
   ]
  },
  {
   "cell_type": "code",
   "execution_count": 65,
   "metadata": {},
   "outputs": [
    {
     "name": "stdout",
     "output_type": "stream",
     "text": [
      "Sensitivity value :  0.282\n",
      "Specificity  value :  0.9461077844311377\n"
     ]
    }
   ],
   "source": [
    "from sklearn.metrics import confusion_matrix\n",
    "E=confusion_matrix(target, y_pred)\n",
    "print(\"Sensitivity value : \", E[1,1] / (E[1,0]+E[1,1]) )\n",
    "print(\"Specificity  value : \", E[0,0] / (E[0,0]+E[0,1]) )"
   ]
  },
  {
   "cell_type": "markdown",
   "metadata": {},
   "source": [
    "# Removing the capitalised classifiers and adding more classifiers 3rd time"
   ]
  },
  {
   "cell_type": "code",
   "execution_count": 66,
   "metadata": {},
   "outputs": [],
   "source": [
    "positive_keywords = ['impressed','cool','convenient','friendly','easy','fine','seamlessly','satisfied', 'happy', 'enjoyed', 'loved', 'prompt', 'great', 'excellent', 'favorite','good','amazing', 'delicious', 'right', 'love','like','recommended']\n",
    "negative_keywords = ['angry', 'slow', 'sucks', 'bad', 'disappointed', 'rude', 'avoid', 'never', 'waste','never', 'mistake', 'not good', 'not like', 'zero', 'dirty', 'bland','disaster','downside', 'joke','Angry', 'Slow', 'Sucks', 'Bad', 'Disappointed', 'Rude', 'Avoid', 'Never', 'Waste','Never', 'Mistake', 'Not Good', 'Not Like', 'Zero', 'Dirty', 'Bland','Disaster','Downside', 'Joke']"
   ]
  },
  {
   "cell_type": "code",
   "execution_count": 67,
   "metadata": {},
   "outputs": [],
   "source": [
    "for key in positive_keywords:\n",
    "    # Note that we add spaces around the key so that we're getting the word,\n",
    "    # not just pattern matching.\n",
    "    sms_raw[str(key)] = sms_raw.Text.str.contains(\n",
    "        ' ' + str(key) + ' ',\n",
    "        case=False\n",
    "    )"
   ]
  },
  {
   "cell_type": "code",
   "execution_count": 68,
   "metadata": {},
   "outputs": [],
   "source": [
    "data = sms_raw[positive_keywords]\n",
    "target = sms_raw['Sentiments']"
   ]
  },
  {
   "cell_type": "code",
   "execution_count": 69,
   "metadata": {},
   "outputs": [
    {
     "name": "stdout",
     "output_type": "stream",
     "text": [
      "Number of unmatched positive statements out of a total 1001 points : 383\n"
     ]
    }
   ],
   "source": [
    "from sklearn.naive_bayes import BernoulliNB\n",
    "\n",
    "# Instantiate our model and store it in a new variable.\n",
    "bnb = BernoulliNB()\n",
    "\n",
    "# Fit our model to the data.\n",
    "bnb.fit(data, target)\n",
    "\n",
    "# Classify, storing the result in a new variable.\n",
    "y_pred = bnb.predict(data)\n",
    "\n",
    "# Display our results.\n",
    "print(\"Number of unmatched positive statements out of a total {} points : {}\".format(\n",
    "    data.shape[0],\n",
    "    (target != y_pred).sum()\n",
    "))"
   ]
  },
  {
   "cell_type": "code",
   "execution_count": 70,
   "metadata": {},
   "outputs": [
    {
     "name": "stdout",
     "output_type": "stream",
     "text": [
      "Sensitivity value :  0.296\n",
      "Specificity  value :  0.93812375249501\n"
     ]
    }
   ],
   "source": [
    "from sklearn.metrics import confusion_matrix\n",
    "F=confusion_matrix(target, y_pred)\n",
    "print(\"Sensitivity value : \", F[1,1] / (F[1,0]+F[1,1]) )\n",
    "print(\"Specificity  value : \", F[0,0] / (F[0,0]+F[0,1]) )"
   ]
  },
  {
   "cell_type": "markdown",
   "metadata": {},
   "source": [
    "# Adding more classifiers 4th time"
   ]
  },
  {
   "cell_type": "code",
   "execution_count": 71,
   "metadata": {},
   "outputs": [],
   "source": [
    "positive_keywords = ['fixes','Easy','outperform','AWESOME','high quality','impressed','cool','convenient','friendly','easy','fine','seamlessly','satisfied', 'happy', 'enjoyed', 'loved', 'prompt', 'great', 'excellent', 'favorite','good','amazing', 'delicious', 'right', 'love','like','recommended']\n",
    "negative_keywords = ['angry', 'slow', 'sucks', 'bad', 'disappointed', 'rude', 'avoid', 'never', 'waste','never', 'mistake', 'not good', 'not like', 'zero', 'dirty', 'bland','disaster','downside', 'joke','Angry', 'Slow', 'Sucks', 'Bad', 'Disappointed', 'Rude', 'Avoid', 'Never', 'Waste','Never', 'Mistake', 'Not Good', 'Not Like', 'Zero', 'Dirty', 'Bland','Disaster','Downside', 'Joke']"
   ]
  },
  {
   "cell_type": "code",
   "execution_count": 73,
   "metadata": {},
   "outputs": [],
   "source": [
    "for key in positive_keywords:\n",
    "    # Note that we add spaces around the key so that we're getting the word,\n",
    "    # not just pattern matching.\n",
    "    sms_raw[str(key)] = sms_raw.Text.str.contains(\n",
    "        ' ' + str(key) + ' ',\n",
    "        case=False\n",
    "    )"
   ]
  },
  {
   "cell_type": "code",
   "execution_count": 74,
   "metadata": {},
   "outputs": [],
   "source": [
    "data = sms_raw[positive_keywords]\n",
    "target = sms_raw['Sentiments']"
   ]
  },
  {
   "cell_type": "code",
   "execution_count": 75,
   "metadata": {},
   "outputs": [
    {
     "name": "stdout",
     "output_type": "stream",
     "text": [
      "Number of unmatched positive statements out of a total 1001 points : 379\n"
     ]
    }
   ],
   "source": [
    "from sklearn.naive_bayes import BernoulliNB\n",
    "\n",
    "# Instantiate our model and store it in a new variable.\n",
    "bnb = BernoulliNB()\n",
    "\n",
    "# Fit our model to the data.\n",
    "bnb.fit(data, target)\n",
    "\n",
    "# Classify, storing the result in a new variable.\n",
    "y_pred = bnb.predict(data)\n",
    "\n",
    "# Display our results.\n",
    "print(\"Number of unmatched positive statements out of a total {} points : {}\".format(\n",
    "    data.shape[0],\n",
    "    (target != y_pred).sum()\n",
    "))"
   ]
  },
  {
   "cell_type": "code",
   "execution_count": 76,
   "metadata": {},
   "outputs": [
    {
     "name": "stdout",
     "output_type": "stream",
     "text": [
      "Sensitivity value :  0.304\n",
      "Specificity  value :  0.93812375249501\n"
     ]
    }
   ],
   "source": [
    "from sklearn.metrics import confusion_matrix\n",
    "G=confusion_matrix(target, y_pred)\n",
    "print(\"Sensitivity value : \", G[1,1] / (G[1,0]+G[1,1]) )\n",
    "print(\"Specificity  value : \", G[0,0] / (G[0,0]+G[0,1]) )"
   ]
  },
  {
   "cell_type": "markdown",
   "metadata": {},
   "source": [
    "# Conclusion "
   ]
  },
  {
   "cell_type": "markdown",
   "metadata": {},
   "source": [
    "Adding more features in the last iteration of  classifiers outperformed all the other classifiers\n",
    "Do any of your classifiers seem to overfit?If we use all the data in our training set,overfitting will occur.Since we are training the model with all the data multiple times.There is ovefitting error.\n",
    "Which seem to perform the best? Why?The last iteration seem to perfomed the data interms of accuracy and performance\n",
    "Which features seemed to be most impactful to performance? Adding new features and capitalising existing features impacted the performance to improve in the model"
   ]
  },
  {
   "cell_type": "code",
   "execution_count": null,
   "metadata": {},
   "outputs": [],
   "source": []
  }
 ],
 "metadata": {
  "kernelspec": {
   "display_name": "Python 3",
   "language": "python",
   "name": "python3"
  },
  "language_info": {
   "codemirror_mode": {
    "name": "ipython",
    "version": 3
   },
   "file_extension": ".py",
   "mimetype": "text/x-python",
   "name": "python",
   "nbconvert_exporter": "python",
   "pygments_lexer": "ipython3",
   "version": "3.7.0"
  }
 },
 "nbformat": 4,
 "nbformat_minor": 2
}
